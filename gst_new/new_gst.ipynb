{
 "cells": [
  {
   "cell_type": "code",
   "execution_count": 115,
   "metadata": {},
   "outputs": [],
   "source": [
    "import json\n",
    "import requests\n",
    "import numpy as np\n",
    "with open('data1.json', 'r', encoding='utf-8') as json_file:\n",
    "    inp = json.load(json_file)"
   ]
  },
  {
   "cell_type": "code",
   "execution_count": 116,
   "metadata": {},
   "outputs": [],
   "source": [
    "url = \"http://reg.gst.gov.in/registration/\"\n",
    "response = requests.get(url)\n",
    "cookie=response.headers['Set-Cookie'].split(';')[0]"
   ]
  },
  {
   "cell_type": "code",
   "execution_count": 121,
   "metadata": {},
   "outputs": [],
   "source": [
    "def create_captcha1(cookie):\n",
    "    url = f\"https://reg.gst.gov.in/services/captcha?rnd={np.random.random()}\"\n",
    "    headers = {\n",
    "        \"Host\": \"reg.gst.gov.in\",\n",
    "        \"Cookie\": cookie,\n",
    "        \"Accept\": \"image/avif,image/webp,image/apng,image/svg+xml,image/*,*/*;q=0.8\",\n",
    "        \"Referer\": \"https://reg.gst.gov.in/registration/\",\n",
    "        }\n",
    "    response = requests.get(url, headers=headers, stream=True)\n",
    "    if response.status_code == 200:\n",
    "        with open(\"captcha.png\", \"wb\") as f:\n",
    "            for chunk in response.iter_content(chunk_size=128):\n",
    "                f.write(chunk)\n",
    "        print(\"Captcha image saved as captcha.png\")\n",
    "    else:\n",
    "        print(\"Failed to fetch captcha image\")\n",
    "    return response.headers['Set-Cookie'].split('; ')[0]"
   ]
  },
  {
   "cell_type": "code",
   "execution_count": 122,
   "metadata": {},
   "outputs": [
    {
     "name": "stdout",
     "output_type": "stream",
     "text": [
      "Captcha image saved as captcha.png\n"
     ]
    }
   ],
   "source": [
    "captchacookie=create_captcha1(cookie)"
   ]
  },
  {
   "cell_type": "code",
   "execution_count": 123,
   "metadata": {},
   "outputs": [],
   "source": [
    "captcha=\"489079\""
   ]
  },
  {
   "cell_type": "code",
   "execution_count": 124,
   "metadata": {},
   "outputs": [
    {
     "name": "stdout",
     "output_type": "stream",
     "text": [
      "Response Status Code: 200\n",
      "Response Content:\n",
      "{\"stscd\":\"SUCCESS\",\"message\":\"OTP sent successfully\",\"errors\":\"\"}\n"
     ]
    }
   ],
   "source": [
    "\n",
    "url = \"https://reg.gst.gov.in/registration/api/submit/sendotp\"\n",
    "headers = {\n",
    "    \"Host\": \"reg.gst.gov.in\",\n",
    "    \"Cookie\": f\"{cookie}; {captchacookie}\",\n",
    "    \"Content-Type\": \"application/json;charset=UTF-8\",\n",
    "    \"Origin\": \"https://reg.gst.gov.in\"\n",
    "}\n",
    "data={'applnType': 'APLRG',\n",
    " 'pt': 'P',\n",
    " 'stCd': inp['opdtls'][0]['rsad']['stcd'],\n",
    " 'dtCd': inp['opdtls'][0]['rsad']['dst'],\n",
    " 'lgBzName': inp['opdtls'][0]['fn']+\" \"+inp['opdtls'][0]['mn']+\" \"+inp['opdtls'][0]['ln'],\n",
    " 'id': inp['opdtls'][0]['pan']['num'],\n",
    " 'email': inp['opdtls'][0]['em'],\n",
    " 'mbno': inp['opdtls'][0]['mbno'],\n",
    " 'captcha': captcha}\n",
    "response = requests.post(url, headers=headers, data=json.dumps(data))\n",
    "\n",
    "print(\"Response Status Code:\", response.status_code)\n",
    "print(\"Response Content:\")\n",
    "if 'invalid' not in json.loads(response.text)['message']:\n",
    "    print(response.text)\n"
   ]
  },
  {
   "cell_type": "code",
   "execution_count": 125,
   "metadata": {},
   "outputs": [],
   "source": [
    "del data['captcha']\n",
    "data[\"smsOtp\"]=\"571356\"\n",
    "data[\"emailOtp\"]=\"997873\""
   ]
  },
  {
   "cell_type": "code",
   "execution_count": 126,
   "metadata": {},
   "outputs": [],
   "source": [
    "import requests\n",
    "import json\n",
    "\n",
    "url = \"https://reg.gst.gov.in/registration/api/submit/submitotp\"\n",
    "\n",
    "headers = {\n",
    "    \"Host\": \"reg.gst.gov.in\",\n",
    "    \"Cookie\": f\"{cookie}; {captchacookie}\",\n",
    "    \"Content-Type\": \"application/json;charset=UTF-8\",\n",
    "    \"Origin\": \"https://reg.gst.gov.in\"\n",
    "}\n",
    "response = requests.post(url, headers=headers, data=json.dumps(data))\n",
    "trn = json.loads(response.text)['trn']\n"
   ]
  },
  {
   "cell_type": "code",
   "execution_count": 127,
   "metadata": {},
   "outputs": [
    {
     "name": "stdout",
     "output_type": "stream",
     "text": [
      "Captcha image saved as captcha1.png\n"
     ]
    }
   ],
   "source": [
    "url = f\"https://reg.gst.gov.in/services/captcha?rnd={np.random.random()}\"\n",
    "headers = {\n",
    "    \"Host\": \"reg.gst.gov.in\",\n",
    "    \"Cookie\": cookie,\n",
    "    \"Accept\": \"image/avif,image/webp,image/apng,image/svg+xml,image/*,*/*;q=0.8\",\n",
    "    \"Referer\": \"https://reg.gst.gov.in/registration/\",\n",
    "    }\n",
    "response = requests.get(url, headers=headers, stream=True)\n",
    "if response.status_code == 200:\n",
    "    with open(\"captcha1.png\", \"wb\") as f:\n",
    "        for chunk in response.iter_content(chunk_size=128):\n",
    "            f.write(chunk)\n",
    "    print(\"Captcha image saved as captcha1.png\")\n",
    "else:\n",
    "    print(\"Failed to fetch captcha image\")\n",
    "captchacookie = response.headers['Set-Cookie'].split('; ')[0]"
   ]
  },
  {
   "cell_type": "code",
   "execution_count": 128,
   "metadata": {},
   "outputs": [],
   "source": [
    "captcha = \"450438\""
   ]
  },
  {
   "cell_type": "code",
   "execution_count": 129,
   "metadata": {},
   "outputs": [],
   "source": [
    "url = \"https://reg.gst.gov.in/registration/api/submit/sendtrnotp\"\n",
    "\n",
    "headers = {\n",
    "    \"Host\": \"reg.gst.gov.in\",\n",
    "    \"Cookie\": f\"{cookie}; {captchacookie}\",\n",
    "    \"Content-Type\": \"application/json;charset=UTF-8\",\n",
    "    \"Origin\": \"https://reg.gst.gov.in\"\n",
    "}\n",
    "data={\"trn\":f\"{trn}\",\"captcha\":captcha}\n",
    "response = requests.post(url, headers=headers, data=json.dumps(data))\n"
   ]
  },
  {
   "cell_type": "code",
   "execution_count": 130,
   "metadata": {},
   "outputs": [],
   "source": [
    "smsotp = \"996289\""
   ]
  },
  {
   "cell_type": "code",
   "execution_count": 131,
   "metadata": {},
   "outputs": [
    {
     "name": "stdout",
     "output_type": "stream",
     "text": [
      "{\"stscd\":\"SUCCESS\",\"message\":\"New Registration\",\"errors\":\"REG1011\"}\n"
     ]
    }
   ],
   "source": [
    "url = \"https://reg.gst.gov.in/registration/api/submit/submittrnotp\"\n",
    "\n",
    "headers = {\n",
    "    \"Host\": \"reg.gst.gov.in\",\n",
    "    \"Cookie\": f\"{cookie}\",\n",
    "    \"Content-Type\": \"application/json;charset=UTF-8\",\n",
    "    \"Origin\": \"https://reg.gst.gov.in\"\n",
    "}\n",
    "data={\"trn\":f\"{trn}\",\"smsOtp\": smsotp}\n",
    "response = requests.post(url, headers=headers, data=json.dumps(data))\n",
    "print(response.text)\n",
    "auth_token=response.headers['set-cookie'].split(';')[0].split('=')[1]"
   ]
  },
  {
   "cell_type": "code",
   "execution_count": 132,
   "metadata": {},
   "outputs": [],
   "source": [
    "new_cookie=f\"{cookie};AuthToken={auth_token};\""
   ]
  },
  {
   "cell_type": "code",
   "execution_count": 133,
   "metadata": {},
   "outputs": [
    {
     "name": "stdout",
     "output_type": "stream",
     "text": [
      "{\"pan\":\"BUTPJ7345F\",\"panDate\":\"Pan date not available\",\"regDtls\":[]}\n"
     ]
    }
   ],
   "source": [
    "url = \"https://reg.gst.gov.in/registration/api/get/ExstPanDtls\"\n",
    "headers = {\n",
    "    \"Host\": \"reg.gst.gov.in\",\n",
    "    \"Cookie\": cookie,\n",
    "    \"Content-Type\": \"application/json;charset=UTF-8\",\n",
    "    \"Origin\": \"https://reg.gst.gov.in\",\n",
    " }\n",
    "data1 = {\n",
    "    \"pan\": inp['opdtls'][0]['pan']['num'],\n",
    "    \"stateCode\": inp['opdtls'][0]['rsad']['stcd']\n",
    "}\n",
    "response = requests.post(url, headers=headers, data=json.dumps(data1))\n",
    "\n",
    "print(response.text)\n"
   ]
  },
  {
   "cell_type": "code",
   "execution_count": 134,
   "metadata": {},
   "outputs": [],
   "source": [
    "pandate=json.loads(response.text)['panDate']"
   ]
  },
  {
   "cell_type": "code",
   "execution_count": 135,
   "metadata": {},
   "outputs": [
    {
     "name": "stdout",
     "output_type": "stream",
     "text": [
      "[{\"creation_dt\":\"08/09/2023\",\"form_no\":\"GST REG-01\",\"expiry_dt\":\"23/09/2023\",\"form_desc\":\"Application for New Registration\",\"draft_id\":48952576,\"version_id\":1,\"state_cd\":\"29\",\"status\":\"Draft\",\"appcd\":\"APLRG\"}]\n"
     ]
    }
   ],
   "source": [
    "url = \"https://reg.gst.gov.in/registration/auth/api/myapp\"\n",
    "headers = {\n",
    "    \"Host\": \"reg.gst.gov.in\",\n",
    "    \"Cookie\": new_cookie,\n",
    "    }\n",
    "response = requests.get(url, headers=headers)\n",
    "print(response.text)\n",
    "draft_id=eval(response.text)[0]['draft_id']\n",
    "inp['aplCd']=draft_id\n"
   ]
  },
  {
   "cell_type": "code",
   "execution_count": 136,
   "metadata": {},
   "outputs": [
    {
     "name": "stdout",
     "output_type": "stream",
     "text": [
      "Response Content: {\"id\":107027179,\"ty\":\"PHOT\",\"ct\":\"image/jpeg\",\"hash\":\"ccb45941ebdce11e6d5ef25b23c247d21551be69a658f271ce7f1013fde56616\"}\n"
     ]
    }
   ],
   "source": [
    "#to upload photograph of promoter\n",
    "url = \"https://reg.gst.gov.in/document\"\n",
    "headers = {\n",
    "    \"Cookie\": new_cookie,\n",
    "    \"X-Requested-With\": \"XMLHttpRequest\",\n",
    "    \"Origin\": \"https://reg.gst.gov.in\",\n",
    "    \"Referer\": \"https://reg.gst.gov.in/registration/auth/newappl/promoters\"\n",
    "}\n",
    "\n",
    "files = {\n",
    "    \"upfile\": (\"WhatsApp_Image_2023_08_09_at_8.11.41_PM__1__11zon.jpeg\", open(r\"/home/pratik/Downloads/gst_kv/WhatsApp_Image_2023_08_09_at_8.11.41_PM__1__11zon.jpeg\", \"rb\"), \"image/jpeg\"),\n",
    "}\n",
    "\n",
    "data1 = {\n",
    "    \"ty\": \"PHOT\",\n",
    "    \"applnid\": draft_id\n",
    "}\n",
    "\n",
    "response = requests.post(url, headers=headers, files=files, data=data1)\n",
    "print(\"Response Content:\", response.text)\n",
    "prom_photo=json.loads(response.text)\n",
    "inp['opdtls'][0]['dcupdtls']=[prom_photo]\n",
    "inp['asgdtls'][0]['dcupdtls']=[prom_photo]"
   ]
  },
  {
   "cell_type": "code",
   "execution_count": 137,
   "metadata": {},
   "outputs": [
    {
     "data": {
      "text/plain": [
       "{'aplCd': 48952576,\n",
       " 'rgdtls': {'aplst': 'DFT',\n",
       "  'aplty': 'APLRG',\n",
       "  'duedt': '23/09/2023',\n",
       "  'moddt': '08/09/2023',\n",
       "  'mbno': '9481829401',\n",
       "  'em': 'kashvijain19@gmail.com'},\n",
       " 'bzdtls': {'bzdtlsbz': {'addltrdnms': [],\n",
       "   'regCategory': [],\n",
       "   'rslibrg': 'DSEP',\n",
       "   'iscasdl': 'N',\n",
       "   'isopcmp': 'N',\n",
       "   'lgnmbzpan': 'KASHVI DILEEP  JAIN',\n",
       "   'pan': {'num': 'BUTPJ7345F',\n",
       "    'iv': 'V',\n",
       "    'panDate': 'Pan date not available'},\n",
       "   'stcd': '29',\n",
       "   'dst': 'KABNU',\n",
       "   'trdnm': 'highheelsnthreads',\n",
       "   'cobz': 'PRO',\n",
       "   'cmbzdt': '08/09/2023',\n",
       "   'librgdt': '08/09/2023',\n",
       "   'otherRsLib': '',\n",
       "   'sezDtls': {}},\n",
       "  'exrgdtls': []},\n",
       " 'decdtls': {'dt': '08/09/2023'},\n",
       " 'secToken': '292300186862TRN',\n",
       " 'map': {'opdtls': [{'eid': 1,\n",
       "    'lt': '12.951735',\n",
       "    'lg': '77.568406',\n",
       "    'eloc': 'E71XNI',\n",
       "    'city': 'Bengaluru',\n",
       "    'geoCodeLevel': 'Building',\n",
       "    'nrbyLdMrk': None,\n",
       "    'locSubloc': 'Sankarapuram',\n",
       "    'feedback': {'locSubloc': True,\n",
       "     'st': True,\n",
       "     'bnm': True,\n",
       "     'bno': True,\n",
       "     'nrbyLdMrk': False}}],\n",
       "  'asgdtls': [{'eid': 2,\n",
       "    'lt': '12.951735',\n",
       "    'lg': '77.568406',\n",
       "    'eloc': 'E71XNI',\n",
       "    'city': 'Bengaluru',\n",
       "    'geoCodeLevel': 'Building',\n",
       "    'nrbyLdMrk': None,\n",
       "    'locSubloc': 'Sankarapuram',\n",
       "    'feedback': {'locSubloc': False,\n",
       "     'st': False,\n",
       "     'bnm': False,\n",
       "     'bno': False,\n",
       "     'nrbyLdMrk': False}}],\n",
       "  'ppbzdtls': {'lt': '12.946982',\n",
       "   'lg': '77.5771940000001',\n",
       "   'eloc': 'CX6X0C',\n",
       "   'city': 'Bengaluru',\n",
       "   'geoCodeLevel': 'Building',\n",
       "   'nrbyLdMrk': 'Near jain bakes',\n",
       "   'locSubloc': 'Basavanagudi',\n",
       "   'feedback': {'locSubloc': True,\n",
       "    'st': True,\n",
       "    'bnm': False,\n",
       "    'bno': True,\n",
       "    'nrbyLdMrk': False}}},\n",
       " 'opdtls': [{'iscitind': 'Y',\n",
       "   'isNewSignatoryDetailsAfterSCN': False,\n",
       "   'fn': 'KASHVI',\n",
       "   'mn': 'DILEEP',\n",
       "   'ln': '  JAIN',\n",
       "   'pan': {'num': 'BUTPJ7345F'},\n",
       "   'rsad': {'cnty': 'IND',\n",
       "    'pncd': '560004',\n",
       "    'dst': 'KABNU',\n",
       "    'loc': 'Bengaluru',\n",
       "    'stcd': '29',\n",
       "    'st': 'Chandra Shekhar Layout Road',\n",
       "    'bnm': '8/26',\n",
       "    'bno': '8/26',\n",
       "    'flno': '2nd Floor'},\n",
       "   'isasg': 'Y',\n",
       "   'fhfn': 'DILEEP',\n",
       "   'fhmn': 'KUMAR',\n",
       "   'fhln': 'JAIN',\n",
       "   'dob': '19/10/2000',\n",
       "   'mbno': '9481829401',\n",
       "   'em': 'kashvijain19@gmail.com',\n",
       "   'gd': 'F',\n",
       "   'dg': 'SOLE PROPRIETOR',\n",
       "   'dcupdtls': [{'id': 107027179,\n",
       "     'ty': 'PHOT',\n",
       "     'ct': 'image/jpeg',\n",
       "     'hash': 'ccb45941ebdce11e6d5ef25b23c247d21551be69a658f271ce7f1013fde56616'}],\n",
       "   'eid': 1}],\n",
       " 'asgdtls': [{'iscitind': 'Y',\n",
       "   'isNewSignatoryDetailsAfterSCN': False,\n",
       "   'fn': 'KASHVI',\n",
       "   'mn': 'DILEEP',\n",
       "   'ln': '  JAIN',\n",
       "   'pan': {'num': 'BUTPJ7345F'},\n",
       "   'rsad': {'cnty': 'IND',\n",
       "    'pncd': '560004',\n",
       "    'dst': 'KABNU',\n",
       "    'loc': 'Bengaluru',\n",
       "    'stcd': '29',\n",
       "    'st': 'Chandra Shekhar Layout Road',\n",
       "    'bnm': '8/26',\n",
       "    'bno': '8/26',\n",
       "    'flno': '2nd Floor'},\n",
       "   'isasg': 'Y',\n",
       "   'fhfn': 'DILEEP',\n",
       "   'fhmn': 'KUMAR',\n",
       "   'fhln': 'JAIN',\n",
       "   'dob': '19/10/2000',\n",
       "   'mbno': '9481829401',\n",
       "   'em': 'kashvijain19@gmail.com',\n",
       "   'gd': 'F',\n",
       "   'dg': 'SOLE PROPRIETOR',\n",
       "   'dcupdtls': [{'id': 107027179,\n",
       "     'ty': 'PHOT',\n",
       "     'ct': 'image/jpeg',\n",
       "     'hash': 'ccb45941ebdce11e6d5ef25b23c247d21551be69a658f271ce7f1013fde56616'}],\n",
       "   'eid': 2,\n",
       "   'ispas': 'Y',\n",
       "   'aadhaarflag': 'Y'}],\n",
       " 'ppbzdtls': {'add': {'stcd': '29',\n",
       "   'pncd': '560004',\n",
       "   'dst': 'KABNU',\n",
       "   'loc': 'Bengaluru',\n",
       "   'lg': '77.5771940000001',\n",
       "   'lt': '12.946982',\n",
       "   'st': 'Chandra Shekhar Layout Road',\n",
       "   'bnm': 'symbiosis padaki',\n",
       "   'bno': '14/1',\n",
       "   'flno': '5FC'},\n",
       "  'ntbz': ['RBU'],\n",
       "  'contdtls': {'em': 'kashvijain19@gmail.com', 'mbno': '9481829401'},\n",
       "  'hasaddl': 'N',\n",
       "  'sj': {'stjd': ' LOCAL GST Office', 'stjdno': 'KA024'},\n",
       "  'cj': {'comrtcd': 'YV', 'divsncd': 'YV03', 'rangecd': 'YV0302'},\n",
       "  'psnt': 'CON',\n",
       "  'dcupdtls': [{'id': '2023092940774',\n",
       "    'ty': 'CNLR',\n",
       "    'ct': 'application/pdf',\n",
       "    'docName': 'noc.pdf',\n",
       "    'hash': '0c019b397837dee21ca7d579ffe1751bd95e47390bee2c008d6d0c32aab8eccd'},\n",
       "   {'id': '2023092940776',\n",
       "    'ty': 'ELCB',\n",
       "    'ct': 'image/jpeg',\n",
       "    'docName': 'WhatsApp_Image_2023_08_31_at_1.52.20_PM (1).jpeg',\n",
       "    'hash': '7167284b4987aaa4cf9a3f53c8bcf7723ad8bc0a4b04950710cf4deff688647a'}]},\n",
       " 'gdssvcdtls': {'bzgddtls': [{'gdes': 'Articles of apparel and clothing accessories',\n",
       "    'hsncd': '430310',\n",
       "    'eid': 3}],\n",
       "  'bzsdtls': []},\n",
       " 'stsidtls': {},\n",
       " 'adhrflag': 'Y'}"
      ]
     },
     "execution_count": 137,
     "metadata": {},
     "output_type": "execute_result"
    }
   ],
   "source": [
    "inp"
   ]
  },
  {
   "cell_type": "code",
   "execution_count": 138,
   "metadata": {},
   "outputs": [],
   "source": [
    "# #auth signatory letter of auth file upload\n",
    "    \n",
    "# url = \"https://reg.gst.gov.in/document\"\n",
    "# headers = {\n",
    "#     \"Cookie\": new_cookie,\n",
    "#     \"Origin\": \"https://reg.gst.gov.in\",\n",
    "#     \"Referer\": \"https://reg.gst.gov.in/registration/auth/newappl/authsignatory\"\n",
    "#     }\n",
    "\n",
    "# files = {\n",
    "#     \"upfile\": (\"GST-Declaration-Authorised-Signatory_HIGH (1).pdf\", open(r\"gst_vdp/GST-Declaration-Authorised-Signatory_HIGH (1).pdf\", \"rb\"), \"application/pdf\"),\n",
    "# }\n",
    "\n",
    "# data1 = {\n",
    "#     \"ty\": \"LOAU\",\n",
    "#     #\"ty\":\"CRBC\" if Copy of resolution passed by BoD / Managing Committee\n",
    "#     \"applnid\": draft_id\n",
    "# }\n",
    "\n",
    "# response = requests.post(url, headers=headers, files=files, data=data1)\n",
    "# print(\"Response Content:\", response.text)\n",
    "# auth_sign_att1=json.loads(response.text)\n"
   ]
  },
  {
   "cell_type": "code",
   "execution_count": 139,
   "metadata": {},
   "outputs": [],
   "source": [
    "# #auth signatory photo file upload\n",
    "# #limit file size to 100kb\n",
    "# url = \"https://reg.gst.gov.in/document\"\n",
    "# headers = {\n",
    "#     \"Cookie\": new_cookie,\n",
    "#     \"Origin\": \"https://reg.gst.gov.in\",\n",
    "#     \"Referer\": \"https://reg.gst.gov.in/registration/auth/newappl/authsignatory\"\n",
    "#     }\n",
    "# files = {\n",
    "#     \"upfile\": (r\"kashvi_pic.jpeg\", open(r\"gst_vdp/kashvi_pic.jpeg\", \"rb\"), \"image/jpeg\"),\n",
    "# }\n",
    "# data1 = {\n",
    "#     \"ty\": \"PHOT\",\n",
    "#     \"applnid\": draft_id\n",
    "# }\n",
    "# response = requests.post(url, headers=headers, files=files, data=data1)\n",
    "# print(\"Response Content:\", response.text)\n",
    "# auth_sign_att2=json.loads(response.text)\n"
   ]
  },
  {
   "cell_type": "code",
   "execution_count": 140,
   "metadata": {},
   "outputs": [],
   "source": [
    "# inp['asgdtls'][0]['dcupdtls']=[auth_sign_att1,auth_sign_att2]\n"
   ]
  },
  {
   "cell_type": "code",
   "execution_count": 141,
   "metadata": {},
   "outputs": [
    {
     "name": "stdout",
     "output_type": "stream",
     "text": [
      "Response Status Code: 200\n",
      "Response Content: {\"status\":\"WAIT\",\"id\":\"2023092940923\"}\n",
      "Response Content: {\"id\":\"2023092940923\",\"ty\":\"ELCB\",\"ct\":\"image/jpeg\",\"docName\":\"WhatsApp_Image_2023_08_31_at_1.52.20_PM (1).jpeg\",\"hash\":\"7167284b4987aaa4cf9a3f53c8bcf7723ad8bc0a4b04950710cf4deff688647a\"}\n"
     ]
    }
   ],
   "source": [
    "# sourcery skip: avoid-builtin-shadow\n",
    "url = \"https://reg.gst.gov.in/documenthb/upload\"\n",
    "headers = {\n",
    "    \"Cookie\": new_cookie,\n",
    "    \"Origin\": \"https://reg.gst.gov.in\",\n",
    "    \"Referer\": \"https://reg.gst.gov.in/registration/auth/newappl/business/place\"\n",
    "}\n",
    "\n",
    "files = {\n",
    "    \"upfile\": (\"WhatsApp_Image_2023_08_31_at_1.52.20_PM (1).jpeg\", open(r\"/home/pratik/Downloads/gst_kv/WhatsApp_Image_2023_08_31_at_1.52.20_PM (1).jpeg\", \"rb\"), \"image/jpeg\"),\n",
    "}\n",
    "data1 = {\n",
    "    \"ty\": \"ELCB\",\n",
    "    \"applnid\": draft_id\n",
    "}\n",
    "\n",
    "response = requests.post(url, headers=headers, files=files, data=data1)\n",
    "\n",
    "print(\"Response Status Code:\", response.status_code)\n",
    "print(\"Response Content:\", response.text)\n",
    "id=json.loads(response.text)['id']\n",
    "url = f\"https://reg.gst.gov.in/documenthb/docstatus/{id}\"\n",
    "headers = {\n",
    "    \"Host\": \"reg.gst.gov.in\",\n",
    "    \"Cookie\": new_cookie,\n",
    "    \"Accept\": \"application/json, text/plain, */*\",\n",
    "    \"At\": auth_token,\n",
    "    \"Referer\": \"https://reg.gst.gov.in/registration/auth/newappl/business/place\",\n",
    "   }\n",
    "response = requests.get(url, headers=headers)\n",
    "print(\"Response Content:\", response.text)\n",
    "ppz_doc_att1=json.loads(response.text)\n"
   ]
  },
  {
   "cell_type": "code",
   "execution_count": 143,
   "metadata": {},
   "outputs": [
    {
     "name": "stdout",
     "output_type": "stream",
     "text": [
      "Response Content: {\"status\":\"WAIT\",\"id\":\"2023092940943\"}\n",
      "Response Status Code: 200\n",
      "Response Content: {\"id\":\"2023092940943\",\"ty\":\"CNLR\",\"ct\":\"application/pdf\",\"docName\":\"noc.pdf\",\"hash\":\"eb308e0b98d454f446b8bc1a3310416ec29ac1c712792c53440cb8e534b4d2e8\"}\n"
     ]
    }
   ],
   "source": [
    "# sourcery skip: avoid-builtin-shadow\n",
    "url = \"https://reg.gst.gov.in/documenthb/upload\"\n",
    "headers = {\n",
    "    \"Cookie\": new_cookie,\n",
    "    \"Origin\": \"https://reg.gst.gov.in\",\n",
    "    \"Referer\": \"https://reg.gst.gov.in/registration/auth/newappl/business/place\"\n",
    "}\n",
    "files = {\n",
    "    \"upfile\": (\"noc.pdf\", open(r\"/home/pratik/Downloads/gst_kv/noc.pdf\", \"rb\"), \"application/pdf\"),\n",
    "}\n",
    "data1 = {\n",
    "    \"ty\": \"CNLR\",\n",
    "    \"applnid\": draft_id\n",
    "}\n",
    "response = requests.post(url, headers=headers, files=files, data=data1)\n",
    "print(\"Response Content:\", response.text)\n",
    "id=json.loads(response.text)['id']\n",
    "url = f\"https://reg.gst.gov.in/documenthb/docstatus/{id}\"\n",
    "headers = {\n",
    "    \"Host\": \"reg.gst.gov.in\",\n",
    "    \"Cookie\": new_cookie,\n",
    "    \"Accept\": \"application/json, text/plain, */*\",\n",
    "    \"At\": auth_token,\n",
    "    \"Referer\": \"https://reg.gst.gov.in/registration/auth/newappl/business/place\",\n",
    "   }\n",
    "response = requests.get(url, headers=headers)\n",
    "\n",
    "print(\"Response Status Code:\", response.status_code)\n",
    "print(\"Response Content:\", response.text)\n",
    "ppz_doc_att2=json.loads(response.text)\n"
   ]
  },
  {
   "cell_type": "code",
   "execution_count": 144,
   "metadata": {},
   "outputs": [],
   "source": [
    "inp['ppbzdtls']['dcupdtls']=[ppz_doc_att1,ppz_doc_att2]\n",
    "inp['secToken']=trn\n",
    "inp['stsidtls']={}\n",
    "inp['adhrflag']=\"Y\"\n",
    "inp['asgdtls'][0]['aadhaarflag']=\"Y\"\n",
    "inp['opdtls'][0]['aadhaarflag']=\"Y\"\n"
   ]
  },
  {
   "cell_type": "code",
   "execution_count": 145,
   "metadata": {},
   "outputs": [
    {
     "data": {
      "text/plain": [
       "{'aplCd': 48952576,\n",
       " 'rgdtls': {'aplst': 'DFT',\n",
       "  'aplty': 'APLRG',\n",
       "  'duedt': '23/09/2023',\n",
       "  'moddt': '08/09/2023',\n",
       "  'mbno': '9481829401',\n",
       "  'em': 'kashvijain19@gmail.com'},\n",
       " 'bzdtls': {'bzdtlsbz': {'addltrdnms': [],\n",
       "   'regCategory': [],\n",
       "   'rslibrg': 'DSEP',\n",
       "   'iscasdl': 'N',\n",
       "   'isopcmp': 'N',\n",
       "   'lgnmbzpan': 'KASHVI DILEEP  JAIN',\n",
       "   'pan': {'num': 'BUTPJ7345F',\n",
       "    'iv': 'V',\n",
       "    'panDate': 'Pan date not available'},\n",
       "   'stcd': '29',\n",
       "   'dst': 'KABNU',\n",
       "   'trdnm': 'highheelsnthreads',\n",
       "   'cobz': 'PRO',\n",
       "   'cmbzdt': '08/09/2023',\n",
       "   'librgdt': '08/09/2023',\n",
       "   'otherRsLib': '',\n",
       "   'sezDtls': {}},\n",
       "  'exrgdtls': []},\n",
       " 'decdtls': {'dt': '08/09/2023'},\n",
       " 'secToken': '292300186899TRN',\n",
       " 'map': {'opdtls': [{'eid': 1,\n",
       "    'lt': '12.951735',\n",
       "    'lg': '77.568406',\n",
       "    'eloc': 'E71XNI',\n",
       "    'city': 'Bengaluru',\n",
       "    'geoCodeLevel': 'Building',\n",
       "    'nrbyLdMrk': None,\n",
       "    'locSubloc': 'Sankarapuram',\n",
       "    'feedback': {'locSubloc': True,\n",
       "     'st': True,\n",
       "     'bnm': True,\n",
       "     'bno': True,\n",
       "     'nrbyLdMrk': False}}],\n",
       "  'asgdtls': [{'eid': 2,\n",
       "    'lt': '12.951735',\n",
       "    'lg': '77.568406',\n",
       "    'eloc': 'E71XNI',\n",
       "    'city': 'Bengaluru',\n",
       "    'geoCodeLevel': 'Building',\n",
       "    'nrbyLdMrk': None,\n",
       "    'locSubloc': 'Sankarapuram',\n",
       "    'feedback': {'locSubloc': False,\n",
       "     'st': False,\n",
       "     'bnm': False,\n",
       "     'bno': False,\n",
       "     'nrbyLdMrk': False}}],\n",
       "  'ppbzdtls': {'lt': '12.946982',\n",
       "   'lg': '77.5771940000001',\n",
       "   'eloc': 'CX6X0C',\n",
       "   'city': 'Bengaluru',\n",
       "   'geoCodeLevel': 'Building',\n",
       "   'nrbyLdMrk': 'Near jain bakes',\n",
       "   'locSubloc': 'Basavanagudi',\n",
       "   'feedback': {'locSubloc': True,\n",
       "    'st': True,\n",
       "    'bnm': False,\n",
       "    'bno': True,\n",
       "    'nrbyLdMrk': False}}},\n",
       " 'opdtls': [{'iscitind': 'Y',\n",
       "   'isNewSignatoryDetailsAfterSCN': False,\n",
       "   'fn': 'KASHVI',\n",
       "   'mn': 'DILEEP',\n",
       "   'ln': '  JAIN',\n",
       "   'pan': {'num': 'BUTPJ7345F'},\n",
       "   'rsad': {'cnty': 'IND',\n",
       "    'pncd': '560004',\n",
       "    'dst': 'KABNU',\n",
       "    'loc': 'Bengaluru',\n",
       "    'stcd': '29',\n",
       "    'st': 'Chandra Shekhar Layout Road',\n",
       "    'bnm': '8/26',\n",
       "    'bno': '8/26',\n",
       "    'flno': '2nd Floor'},\n",
       "   'isasg': 'Y',\n",
       "   'fhfn': 'DILEEP',\n",
       "   'fhmn': 'KUMAR',\n",
       "   'fhln': 'JAIN',\n",
       "   'dob': '19/10/2000',\n",
       "   'mbno': '9481829401',\n",
       "   'em': 'kashvijain19@gmail.com',\n",
       "   'gd': 'F',\n",
       "   'dg': 'SOLE PROPRIETOR',\n",
       "   'dcupdtls': [{'id': 107027179,\n",
       "     'ty': 'PHOT',\n",
       "     'ct': 'image/jpeg',\n",
       "     'hash': 'ccb45941ebdce11e6d5ef25b23c247d21551be69a658f271ce7f1013fde56616'}],\n",
       "   'eid': 1,\n",
       "   'aadhaarflag': 'Y'}],\n",
       " 'asgdtls': [{'iscitind': 'Y',\n",
       "   'isNewSignatoryDetailsAfterSCN': False,\n",
       "   'fn': 'KASHVI',\n",
       "   'mn': 'DILEEP',\n",
       "   'ln': '  JAIN',\n",
       "   'pan': {'num': 'BUTPJ7345F'},\n",
       "   'rsad': {'cnty': 'IND',\n",
       "    'pncd': '560004',\n",
       "    'dst': 'KABNU',\n",
       "    'loc': 'Bengaluru',\n",
       "    'stcd': '29',\n",
       "    'st': 'Chandra Shekhar Layout Road',\n",
       "    'bnm': '8/26',\n",
       "    'bno': '8/26',\n",
       "    'flno': '2nd Floor'},\n",
       "   'isasg': 'Y',\n",
       "   'fhfn': 'DILEEP',\n",
       "   'fhmn': 'KUMAR',\n",
       "   'fhln': 'JAIN',\n",
       "   'dob': '19/10/2000',\n",
       "   'mbno': '9481829401',\n",
       "   'em': 'kashvijain19@gmail.com',\n",
       "   'gd': 'F',\n",
       "   'dg': 'SOLE PROPRIETOR',\n",
       "   'dcupdtls': [{'id': 107027179,\n",
       "     'ty': 'PHOT',\n",
       "     'ct': 'image/jpeg',\n",
       "     'hash': 'ccb45941ebdce11e6d5ef25b23c247d21551be69a658f271ce7f1013fde56616'}],\n",
       "   'eid': 2,\n",
       "   'ispas': 'Y',\n",
       "   'aadhaarflag': 'Y'}],\n",
       " 'ppbzdtls': {'add': {'stcd': '29',\n",
       "   'pncd': '560004',\n",
       "   'dst': 'KABNU',\n",
       "   'loc': 'Bengaluru',\n",
       "   'lg': '77.5771940000001',\n",
       "   'lt': '12.946982',\n",
       "   'st': 'Chandra Shekhar Layout Road',\n",
       "   'bnm': 'symbiosis padaki',\n",
       "   'bno': '14/1',\n",
       "   'flno': '5FC'},\n",
       "  'ntbz': ['RBU'],\n",
       "  'contdtls': {'em': 'kashvijain19@gmail.com', 'mbno': '9481829401'},\n",
       "  'hasaddl': 'N',\n",
       "  'sj': {'stjd': ' LOCAL GST Office', 'stjdno': 'KA024'},\n",
       "  'cj': {'comrtcd': 'YV', 'divsncd': 'YV03', 'rangecd': 'YV0302'},\n",
       "  'psnt': 'CON',\n",
       "  'dcupdtls': [{'id': '2023092940923',\n",
       "    'ty': 'ELCB',\n",
       "    'ct': 'image/jpeg',\n",
       "    'docName': 'WhatsApp_Image_2023_08_31_at_1.52.20_PM (1).jpeg',\n",
       "    'hash': '7167284b4987aaa4cf9a3f53c8bcf7723ad8bc0a4b04950710cf4deff688647a'},\n",
       "   {'id': '2023092940943',\n",
       "    'ty': 'CNLR',\n",
       "    'ct': 'application/pdf',\n",
       "    'docName': 'noc.pdf',\n",
       "    'hash': 'eb308e0b98d454f446b8bc1a3310416ec29ac1c712792c53440cb8e534b4d2e8'}]},\n",
       " 'gdssvcdtls': {'bzgddtls': [{'gdes': 'Articles of apparel and clothing accessories',\n",
       "    'hsncd': '430310',\n",
       "    'eid': 3}],\n",
       "  'bzsdtls': []},\n",
       " 'stsidtls': {},\n",
       " 'adhrflag': 'Y'}"
      ]
     },
     "execution_count": 145,
     "metadata": {},
     "output_type": "execute_result"
    }
   ],
   "source": [
    "inp"
   ]
  },
  {
   "cell_type": "code",
   "execution_count": 146,
   "metadata": {},
   "outputs": [
    {
     "name": "stdout",
     "output_type": "stream",
     "text": [
      "08/09/2023\n"
     ]
    }
   ],
   "source": [
    "from datetime import date\n",
    "\n",
    "# Get today's date\n",
    "# today = date.today()\n",
    "\n",
    "# Format it as a string in ddmmyyyy format\n",
    "formatted_date = date.today().strftime(\"%d/%m/%Y\")\n",
    "\n",
    "# Print the formatted date\n",
    "print(formatted_date)\n"
   ]
  },
  {
   "cell_type": "code",
   "execution_count": 147,
   "metadata": {},
   "outputs": [],
   "source": [
    "inp['decdtls']={'asdes': inp['opdtls'][0]['dg'], 'pl': inp['opdtls'][0]['rsad']['loc'], 'dt': '28/08/2023', 'asnm': inp['opdtls'][0]['pan']['num']}\n"
   ]
  },
  {
   "cell_type": "code",
   "execution_count": 148,
   "metadata": {},
   "outputs": [],
   "source": [
    "a='''{\"aplCd\":\"48950504\",\"rgdtls\":{\"aplst\":\"DFT\",\"aplty\":\"APLRG\",\"duedt\":\"23/09/2023\",\"moddt\":\"08/09/2023\",\"mbno\":\"9481829401\",\"em\":\"kashvijain19@gmail.com\"},\"asgdtls\":[{\"mn\":\"DILEEP\",\"ln\":\" JAIN\",\"mbno\":\"9481829401\",\"fhmn\":\"KUMAR\",\"gd\":\"F\",\"fhln\":\"JAIN\",\"iscitind\":\"Y\",\"pan\":{\"num\":\"BUTPJ7345F\"},\"fhfn\":\"DILEEP\",\"rsad\":{\"flno\":\"2nd Floor\",\"stcd\":\"29\",\"bno\":\"8/26\",\"bnm\":\"8/26\",\"loc\":\"Bengaluru\",\"dst\":\"KABNU\",\"st\":\"Chandra Shekhar Layout Road\",\"pncd\":\"560004\",\"cnty\":\"IND\"},\"dg\":\"SOLE PROPRIETOR\",\"dob\":\"19/10/2000\",\"dcupdtls\":[{\"ty\":\"PHOT\",\"id\":\"107023630\",\"ct\":\"image/jpeg\",\"hash\":\"7167284b4987aaa4cf9a3f53c8bcf7723ad8bc0a4b04950710cf4deff688647a\"}],\"em\":\"kashvijain19@gmail.com\",\"fn\":\"KASHVI\",\"isasg\":\"Y\",\"eid\":\"2\",\"isNewSignatoryDetailsAfterSCN\":false,\"ispas\":\"Y\",\"aadhaarflag\":\"Y\"}],\"bzdtls\":{\"bzdtlsbz\":{\"addltrdnms\":[],\"regCategory\":[],\"rslibrg\":\"DSEP\",\"iscasdl\":\"N\",\"isopcmp\":\"N\",\"cobz\":\"PRO\",\"lgnmbzpan\":\"KASHVI DILEEP JAIN\",\"pan\":{\"num\":\"BUTPJ7345F\",\"iv\":\"V\",\"panDate\":\"Pan date not available\"},\"stcd\":\"29\",\"trdnm\":\"highheelsnthreads\",\"librgdt\":\"08/09/2023\",\"cmbzdt\":\"08/09/2023\",\"otherRsLib\":\"\",\"dst\":\"KABNU\",\"sezDtls\":{}},\"exrgdtls\":[]},\"opdtls\":[{\"mn\":\"DILEEP\",\"ln\":\" JAIN\",\"mbno\":\"9481829401\",\"fhmn\":\"KUMAR\",\"gd\":\"F\",\"fhln\":\"JAIN\",\"iscitind\":\"Y\",\"pan\":{\"num\":\"BUTPJ7345F\"},\"fhfn\":\"DILEEP\",\"rsad\":{\"flno\":\"2nd Floor\",\"stcd\":\"29\",\"bno\":\"8/26\",\"bnm\":\"8/26\",\"loc\":\"Bengaluru\",\"dst\":\"KABNU\",\"st\":\"Chandra Shekhar Layout Road\",\"pncd\":\"560004\",\"cnty\":\"IND\"},\"dg\":\"SOLE PROPRIETOR\",\"dob\":\"19/10/2000\",\"dcupdtls\":[{\"ty\":\"PHOT\",\"id\":\"107023630\",\"ct\":\"image/jpeg\",\"hash\":\"7167284b4987aaa4cf9a3f53c8bcf7723ad8bc0a4b04950710cf4deff688647a\"}],\"em\":\"kashvijain19@gmail.com\",\"fn\":\"KASHVI\",\"isasg\":\"Y\",\"eid\":\"1\",\"isNewSignatoryDetailsAfterSCN\":false}],\"decdtls\":{\"dt\":\"08/09/2023\"},\"secToken\":\"292300186800TRN\",\"map\":{\"asgdtls\":[{\"eid\":\"2\",\"lt\":\"12.951735\",\"lg\":\"77.568406\",\"eloc\":\"E71XNI\",\"city\":\"Bengaluru\",\"geoCodeLevel\":\"Building\",\"locSubloc\":\"Basavanagudi\",\"feedback\":{\"locSubloc\":false,\"st\":false,\"bnm\":false,\"bno\":false,\"nrbyLdMrk\":false}}],\"opdtls\":[{\"eid\":\"1\",\"lt\":\"12.951735\",\"lg\":\"77.568406\",\"eloc\":\"E71XNI\",\"city\":\"Bengaluru\",\"geoCodeLevel\":\"Building\",\"locSubloc\":\"Basavanagudi\",\"feedback\":{\"locSubloc\":true,\"st\":true,\"bnm\":true,\"bno\":true,\"nrbyLdMrk\":false}}],\"ppbzdtls\":{\"lt\":\"12.946982\",\"lg\":\"77.5771940000001\",\"eloc\":\"CX6X0C\",\"city\":\"Bengaluru\",\"geoCodeLevel\":\"Building\",\"nrbyLdMrk\":\"Near jain bakes\",\"locSubloc\":\"Basavanagudi\",\"feedback\":{\"locSubloc\":true,\"st\":true,\"bnm\":false,\"bno\":true,\"nrbyLdMrk\":false}}},\"ppbzdtls\":{\"add\":{\"stcd\":\"29\",\"pncd\":\"560004\",\"dst\":\"KABNU\",\"loc\":\"Bengaluru\",\"lg\":\"77.5771940000001\",\"lt\":\"12.946982\",\"st\":\"Surveyor Street\",\"bnm\":\"symbiosis padaki\",\"bno\":\"14/1\",\"flno\":\"5FC\"},\"ntbz\":[\"RBU\"],\"contdtls\":{\"em\":\"kashvijain19@gmail.com\",\"mbno\":\"9481829401\"},\"hasaddl\":\"N\",\"sj\":{\"stjd\":\" LOCAL GST Office\",\"stjdno\":\"KA024\"},\"cj\":{\"comrtcd\":\"YV\",\"divsncd\":\"YV03\",\"rangecd\":\"YV0301\"},\"psnt\":\"CON\",\"dcupdtls\":[{\"id\":\"2023092940623\",\"ty\":\"CNLR\",\"ct\":\"application/pdf\",\"docName\":\"noc.pdf\",\"hash\":\"0c019b397837dee21ca7d579ffe1751bd95e47390bee2c008d6d0c32aab8eccd\"},{\"id\":\"2023092940627\",\"ty\":\"ELCB\",\"ct\":\"image/jpeg\",\"docName\":\"WhatsApp_Image_2023_08_31_at_1.52.20_PM (1).jpeg\",\"hash\":\"7167284b4987aaa4cf9a3f53c8bcf7723ad8bc0a4b04950710cf4deff688647a\"}]},\"gdssvcdtls\":{\"bzgddtls\":[{\"gdes\":\"Articles of apparel and clothing accessories\",\"hsncd\":\"430310\",\"eid\":3}],\"bzsdtls\":[]},\"stsidtls\":{},\"adhrflag\":\"Y\"}'''"
   ]
  },
  {
   "cell_type": "code",
   "execution_count": 149,
   "metadata": {},
   "outputs": [
    {
     "name": "stdout",
     "output_type": "stream",
     "text": [
      "aplCd : ('48950504', 48952576)\n",
      "asgdtls : ([{'mn': 'DILEEP', 'ln': ' JAIN', 'mbno': '9481829401', 'fhmn': 'KUMAR', 'gd': 'F', 'fhln': 'JAIN', 'iscitind': 'Y', 'pan': {'num': 'BUTPJ7345F'}, 'fhfn': 'DILEEP', 'rsad': {'flno': '2nd Floor', 'stcd': '29', 'bno': '8/26', 'bnm': '8/26', 'loc': 'Bengaluru', 'dst': 'KABNU', 'st': 'Chandra Shekhar Layout Road', 'pncd': '560004', 'cnty': 'IND'}, 'dg': 'SOLE PROPRIETOR', 'dob': '19/10/2000', 'dcupdtls': [{'ty': 'PHOT', 'id': '107023630', 'ct': 'image/jpeg', 'hash': '7167284b4987aaa4cf9a3f53c8bcf7723ad8bc0a4b04950710cf4deff688647a'}], 'em': 'kashvijain19@gmail.com', 'fn': 'KASHVI', 'isasg': 'Y', 'eid': '2', 'isNewSignatoryDetailsAfterSCN': False, 'ispas': 'Y', 'aadhaarflag': 'Y'}], [{'iscitind': 'Y', 'isNewSignatoryDetailsAfterSCN': False, 'fn': 'KASHVI', 'mn': 'DILEEP', 'ln': '  JAIN', 'pan': {'num': 'BUTPJ7345F'}, 'rsad': {'cnty': 'IND', 'pncd': '560004', 'dst': 'KABNU', 'loc': 'Bengaluru', 'stcd': '29', 'st': 'Chandra Shekhar Layout Road', 'bnm': '8/26', 'bno': '8/26', 'flno': '2nd Floor'}, 'isasg': 'Y', 'fhfn': 'DILEEP', 'fhmn': 'KUMAR', 'fhln': 'JAIN', 'dob': '19/10/2000', 'mbno': '9481829401', 'em': 'kashvijain19@gmail.com', 'gd': 'F', 'dg': 'SOLE PROPRIETOR', 'dcupdtls': [{'id': 107027179, 'ty': 'PHOT', 'ct': 'image/jpeg', 'hash': 'ccb45941ebdce11e6d5ef25b23c247d21551be69a658f271ce7f1013fde56616'}], 'eid': 2, 'ispas': 'Y', 'aadhaarflag': 'Y'}])\n",
      "bzdtlsbz.lgnmbzpan : ('KASHVI DILEEP JAIN', 'KASHVI DILEEP  JAIN')\n",
      "opdtls : ([{'mn': 'DILEEP', 'ln': ' JAIN', 'mbno': '9481829401', 'fhmn': 'KUMAR', 'gd': 'F', 'fhln': 'JAIN', 'iscitind': 'Y', 'pan': {'num': 'BUTPJ7345F'}, 'fhfn': 'DILEEP', 'rsad': {'flno': '2nd Floor', 'stcd': '29', 'bno': '8/26', 'bnm': '8/26', 'loc': 'Bengaluru', 'dst': 'KABNU', 'st': 'Chandra Shekhar Layout Road', 'pncd': '560004', 'cnty': 'IND'}, 'dg': 'SOLE PROPRIETOR', 'dob': '19/10/2000', 'dcupdtls': [{'ty': 'PHOT', 'id': '107023630', 'ct': 'image/jpeg', 'hash': '7167284b4987aaa4cf9a3f53c8bcf7723ad8bc0a4b04950710cf4deff688647a'}], 'em': 'kashvijain19@gmail.com', 'fn': 'KASHVI', 'isasg': 'Y', 'eid': '1', 'isNewSignatoryDetailsAfterSCN': False}], [{'iscitind': 'Y', 'isNewSignatoryDetailsAfterSCN': False, 'fn': 'KASHVI', 'mn': 'DILEEP', 'ln': '  JAIN', 'pan': {'num': 'BUTPJ7345F'}, 'rsad': {'cnty': 'IND', 'pncd': '560004', 'dst': 'KABNU', 'loc': 'Bengaluru', 'stcd': '29', 'st': 'Chandra Shekhar Layout Road', 'bnm': '8/26', 'bno': '8/26', 'flno': '2nd Floor'}, 'isasg': 'Y', 'fhfn': 'DILEEP', 'fhmn': 'KUMAR', 'fhln': 'JAIN', 'dob': '19/10/2000', 'mbno': '9481829401', 'em': 'kashvijain19@gmail.com', 'gd': 'F', 'dg': 'SOLE PROPRIETOR', 'dcupdtls': [{'id': 107027179, 'ty': 'PHOT', 'ct': 'image/jpeg', 'hash': 'ccb45941ebdce11e6d5ef25b23c247d21551be69a658f271ce7f1013fde56616'}], 'eid': 1, 'aadhaarflag': 'Y'}])\n",
      "decdtls.dt : ('08/09/2023', '28/08/2023')\n",
      "decdtls.asdes : ('Missing in dict1', 'SOLE PROPRIETOR')\n",
      "decdtls.pl : ('Missing in dict1', 'Bengaluru')\n",
      "decdtls.asnm : ('Missing in dict1', 'BUTPJ7345F')\n",
      "secToken : ('292300186800TRN', '292300186899TRN')\n",
      "map.asgdtls : ([{'eid': '2', 'lt': '12.951735', 'lg': '77.568406', 'eloc': 'E71XNI', 'city': 'Bengaluru', 'geoCodeLevel': 'Building', 'locSubloc': 'Basavanagudi', 'feedback': {'locSubloc': False, 'st': False, 'bnm': False, 'bno': False, 'nrbyLdMrk': False}}], [{'eid': 2, 'lt': '12.951735', 'lg': '77.568406', 'eloc': 'E71XNI', 'city': 'Bengaluru', 'geoCodeLevel': 'Building', 'nrbyLdMrk': None, 'locSubloc': 'Sankarapuram', 'feedback': {'locSubloc': False, 'st': False, 'bnm': False, 'bno': False, 'nrbyLdMrk': False}}])\n",
      "map.opdtls : ([{'eid': '1', 'lt': '12.951735', 'lg': '77.568406', 'eloc': 'E71XNI', 'city': 'Bengaluru', 'geoCodeLevel': 'Building', 'locSubloc': 'Basavanagudi', 'feedback': {'locSubloc': True, 'st': True, 'bnm': True, 'bno': True, 'nrbyLdMrk': False}}], [{'eid': 1, 'lt': '12.951735', 'lg': '77.568406', 'eloc': 'E71XNI', 'city': 'Bengaluru', 'geoCodeLevel': 'Building', 'nrbyLdMrk': None, 'locSubloc': 'Sankarapuram', 'feedback': {'locSubloc': True, 'st': True, 'bnm': True, 'bno': True, 'nrbyLdMrk': False}}])\n",
      "add.st : ('Surveyor Street', 'Chandra Shekhar Layout Road')\n",
      "cj.rangecd : ('YV0301', 'YV0302')\n",
      "ppbzdtls.dcupdtls : ([{'id': '2023092940623', 'ty': 'CNLR', 'ct': 'application/pdf', 'docName': 'noc.pdf', 'hash': '0c019b397837dee21ca7d579ffe1751bd95e47390bee2c008d6d0c32aab8eccd'}, {'id': '2023092940627', 'ty': 'ELCB', 'ct': 'image/jpeg', 'docName': 'WhatsApp_Image_2023_08_31_at_1.52.20_PM (1).jpeg', 'hash': '7167284b4987aaa4cf9a3f53c8bcf7723ad8bc0a4b04950710cf4deff688647a'}], [{'id': '2023092940923', 'ty': 'ELCB', 'ct': 'image/jpeg', 'docName': 'WhatsApp_Image_2023_08_31_at_1.52.20_PM (1).jpeg', 'hash': '7167284b4987aaa4cf9a3f53c8bcf7723ad8bc0a4b04950710cf4deff688647a'}, {'id': '2023092940943', 'ty': 'CNLR', 'ct': 'application/pdf', 'docName': 'noc.pdf', 'hash': 'eb308e0b98d454f446b8bc1a3310416ec29ac1c712792c53440cb8e534b4d2e8'}])\n"
     ]
    }
   ],
   "source": [
    "def find_nested_key_differences(dict1, dict2, parent_key=\"\"):\n",
    "    differences = {}\n",
    "\n",
    "    for key in dict1.keys():\n",
    "        if key not in dict2:\n",
    "            differences[parent_key + '.' + key if parent_key else key] = (\"Missing in dict2\", dict1[key])\n",
    "        elif isinstance(dict1[key], dict) and isinstance(dict2[key], dict):\n",
    "            nested_diffs = find_nested_key_differences(dict1[key], dict2[key], key)\n",
    "            differences.update(nested_diffs)\n",
    "        elif dict1[key] != dict2[key]:\n",
    "            differences[parent_key + '.' + key if parent_key else key] = (dict1[key], dict2[key])\n",
    "\n",
    "    for key in dict2.keys():\n",
    "        if key not in dict1:\n",
    "            differences[parent_key + '.' + key if parent_key else key] = (\"Missing in dict1\", dict2[key])\n",
    "\n",
    "    return differences\n",
    "\n",
    "\n",
    "differences = find_nested_key_differences(json.loads(a), inp)\n",
    "for key, value in differences.items():\n",
    "    print(key, \":\", value)"
   ]
  },
  {
   "cell_type": "code",
   "execution_count": 150,
   "metadata": {},
   "outputs": [
    {
     "data": {
      "text/plain": [
       "[{'iscitind': 'Y',\n",
       "  'isNewSignatoryDetailsAfterSCN': False,\n",
       "  'fn': 'KASHVI',\n",
       "  'mn': 'DILEEP',\n",
       "  'ln': '  JAIN',\n",
       "  'pan': {'num': 'BUTPJ7345F'},\n",
       "  'rsad': {'cnty': 'IND',\n",
       "   'pncd': '560004',\n",
       "   'dst': 'KABNU',\n",
       "   'loc': 'Bengaluru',\n",
       "   'stcd': '29',\n",
       "   'st': 'Chandra Shekhar Layout Road',\n",
       "   'bnm': '8/26',\n",
       "   'bno': '8/26',\n",
       "   'flno': '2nd Floor'},\n",
       "  'isasg': 'Y',\n",
       "  'fhfn': 'DILEEP',\n",
       "  'fhmn': 'KUMAR',\n",
       "  'fhln': 'JAIN',\n",
       "  'dob': '19/10/2000',\n",
       "  'mbno': '9481829401',\n",
       "  'em': 'kashvijain19@gmail.com',\n",
       "  'gd': 'F',\n",
       "  'dg': 'SOLE PROPRIETOR',\n",
       "  'dcupdtls': [{'id': 107027179,\n",
       "    'ty': 'PHOT',\n",
       "    'ct': 'image/jpeg',\n",
       "    'hash': 'ccb45941ebdce11e6d5ef25b23c247d21551be69a658f271ce7f1013fde56616'}],\n",
       "  'eid': 2,\n",
       "  'ispas': 'Y',\n",
       "  'aadhaarflag': 'Y'}]"
      ]
     },
     "execution_count": 150,
     "metadata": {},
     "output_type": "execute_result"
    }
   ],
   "source": [
    "inp['asgdtls']"
   ]
  },
  {
   "cell_type": "code",
   "execution_count": 151,
   "metadata": {},
   "outputs": [
    {
     "data": {
      "text/plain": [
       "'{\"aplCd\": 48952576, \"rgdtls\": {\"aplst\": \"DFT\", \"aplty\": \"APLRG\", \"duedt\": \"23/09/2023\", \"moddt\": \"08/09/2023\", \"mbno\": \"9481829401\", \"em\": \"kashvijain19@gmail.com\"}, \"bzdtls\": {\"bzdtlsbz\": {\"addltrdnms\": [], \"regCategory\": [], \"rslibrg\": \"DSEP\", \"iscasdl\": \"N\", \"isopcmp\": \"N\", \"lgnmbzpan\": \"KASHVI DILEEP  JAIN\", \"pan\": {\"num\": \"BUTPJ7345F\", \"iv\": \"V\", \"panDate\": \"Pan date not available\"}, \"stcd\": \"29\", \"dst\": \"KABNU\", \"trdnm\": \"highheelsnthreads\", \"cobz\": \"PRO\", \"cmbzdt\": \"08/09/2023\", \"librgdt\": \"08/09/2023\", \"otherRsLib\": \"\", \"sezDtls\": {}}, \"exrgdtls\": []}, \"decdtls\": {\"asdes\": \"SOLE PROPRIETOR\", \"pl\": \"Bengaluru\", \"dt\": \"28/08/2023\", \"asnm\": \"BUTPJ7345F\"}, \"secToken\": \"292300186899TRN\", \"map\": {\"opdtls\": [{\"eid\": 1, \"lt\": \"12.951735\", \"lg\": \"77.568406\", \"eloc\": \"E71XNI\", \"city\": \"Bengaluru\", \"geoCodeLevel\": \"Building\", \"nrbyLdMrk\": null, \"locSubloc\": \"Sankarapuram\", \"feedback\": {\"locSubloc\": true, \"st\": true, \"bnm\": true, \"bno\": true, \"nrbyLdMrk\": false}}], \"asgdtls\": [{\"eid\": 2, \"lt\": \"12.951735\", \"lg\": \"77.568406\", \"eloc\": \"E71XNI\", \"city\": \"Bengaluru\", \"geoCodeLevel\": \"Building\", \"nrbyLdMrk\": null, \"locSubloc\": \"Sankarapuram\", \"feedback\": {\"locSubloc\": false, \"st\": false, \"bnm\": false, \"bno\": false, \"nrbyLdMrk\": false}}], \"ppbzdtls\": {\"lt\": \"12.946982\", \"lg\": \"77.5771940000001\", \"eloc\": \"CX6X0C\", \"city\": \"Bengaluru\", \"geoCodeLevel\": \"Building\", \"nrbyLdMrk\": \"Near jain bakes\", \"locSubloc\": \"Basavanagudi\", \"feedback\": {\"locSubloc\": true, \"st\": true, \"bnm\": false, \"bno\": true, \"nrbyLdMrk\": false}}}, \"opdtls\": [{\"iscitind\": \"Y\", \"isNewSignatoryDetailsAfterSCN\": false, \"fn\": \"KASHVI\", \"mn\": \"DILEEP\", \"ln\": \"  JAIN\", \"pan\": {\"num\": \"BUTPJ7345F\"}, \"rsad\": {\"cnty\": \"IND\", \"pncd\": \"560004\", \"dst\": \"KABNU\", \"loc\": \"Bengaluru\", \"stcd\": \"29\", \"st\": \"Chandra Shekhar Layout Road\", \"bnm\": \"8/26\", \"bno\": \"8/26\", \"flno\": \"2nd Floor\"}, \"isasg\": \"Y\", \"fhfn\": \"DILEEP\", \"fhmn\": \"KUMAR\", \"fhln\": \"JAIN\", \"dob\": \"19/10/2000\", \"mbno\": \"9481829401\", \"em\": \"kashvijain19@gmail.com\", \"gd\": \"F\", \"dg\": \"SOLE PROPRIETOR\", \"dcupdtls\": [{\"id\": 107027179, \"ty\": \"PHOT\", \"ct\": \"image/jpeg\", \"hash\": \"ccb45941ebdce11e6d5ef25b23c247d21551be69a658f271ce7f1013fde56616\"}], \"eid\": 1, \"aadhaarflag\": \"Y\"}], \"asgdtls\": [{\"iscitind\": \"Y\", \"isNewSignatoryDetailsAfterSCN\": false, \"fn\": \"KASHVI\", \"mn\": \"DILEEP\", \"ln\": \"  JAIN\", \"pan\": {\"num\": \"BUTPJ7345F\"}, \"rsad\": {\"cnty\": \"IND\", \"pncd\": \"560004\", \"dst\": \"KABNU\", \"loc\": \"Bengaluru\", \"stcd\": \"29\", \"st\": \"Chandra Shekhar Layout Road\", \"bnm\": \"8/26\", \"bno\": \"8/26\", \"flno\": \"2nd Floor\"}, \"isasg\": \"Y\", \"fhfn\": \"DILEEP\", \"fhmn\": \"KUMAR\", \"fhln\": \"JAIN\", \"dob\": \"19/10/2000\", \"mbno\": \"9481829401\", \"em\": \"kashvijain19@gmail.com\", \"gd\": \"F\", \"dg\": \"SOLE PROPRIETOR\", \"dcupdtls\": [{\"id\": 107027179, \"ty\": \"PHOT\", \"ct\": \"image/jpeg\", \"hash\": \"ccb45941ebdce11e6d5ef25b23c247d21551be69a658f271ce7f1013fde56616\"}], \"eid\": 2, \"ispas\": \"Y\", \"aadhaarflag\": \"Y\"}], \"ppbzdtls\": {\"add\": {\"stcd\": \"29\", \"pncd\": \"560004\", \"dst\": \"KABNU\", \"loc\": \"Bengaluru\", \"lg\": \"77.5771940000001\", \"lt\": \"12.946982\", \"st\": \"Chandra Shekhar Layout Road\", \"bnm\": \"symbiosis padaki\", \"bno\": \"14/1\", \"flno\": \"5FC\"}, \"ntbz\": [\"RBU\"], \"contdtls\": {\"em\": \"kashvijain19@gmail.com\", \"mbno\": \"9481829401\"}, \"hasaddl\": \"N\", \"sj\": {\"stjd\": \" LOCAL GST Office\", \"stjdno\": \"KA024\"}, \"cj\": {\"comrtcd\": \"YV\", \"divsncd\": \"YV03\", \"rangecd\": \"YV0302\"}, \"psnt\": \"CON\", \"dcupdtls\": [{\"id\": \"2023092940923\", \"ty\": \"ELCB\", \"ct\": \"image/jpeg\", \"docName\": \"WhatsApp_Image_2023_08_31_at_1.52.20_PM (1).jpeg\", \"hash\": \"7167284b4987aaa4cf9a3f53c8bcf7723ad8bc0a4b04950710cf4deff688647a\"}, {\"id\": \"2023092940943\", \"ty\": \"CNLR\", \"ct\": \"application/pdf\", \"docName\": \"noc.pdf\", \"hash\": \"eb308e0b98d454f446b8bc1a3310416ec29ac1c712792c53440cb8e534b4d2e8\"}]}, \"gdssvcdtls\": {\"bzgddtls\": [{\"gdes\": \"Articles of apparel and clothing accessories\", \"hsncd\": \"430310\", \"eid\": 3}], \"bzsdtls\": []}, \"stsidtls\": {}, \"adhrflag\": \"Y\"}'"
      ]
     },
     "execution_count": 151,
     "metadata": {},
     "output_type": "execute_result"
    }
   ],
   "source": [
    "json.dumps(inp)"
   ]
  },
  {
   "cell_type": "code",
   "execution_count": 152,
   "metadata": {},
   "outputs": [
    {
     "name": "stdout",
     "output_type": "stream",
     "text": [
      "{\"aplId\":\"48952576\",\"stscd\":\"SUCCESS\",\"errors\":\"\"}\n"
     ]
    }
   ],
   "source": [
    "url = \"https://reg.gst.gov.in/registration/auth/api/save/appdraftnewreg\"\n",
    "headers = {\n",
    "    \"Host\": \"reg.gst.gov.in\",\n",
    "    \"Cookie\": new_cookie,\n",
    "    \"Content-Type\": \"application/json;charset=UTF-8\",\n",
    "    \"At\": auth_token,\n",
    "    \"Origin\": \"https://reg.gst.gov.in\",\n",
    "   }\n",
    "response = requests.post(url, headers=headers, data=json.dumps(inp))\n",
    "print(response.text)\n",
    "\n"
   ]
  },
  {
   "cell_type": "code",
   "execution_count": 153,
   "metadata": {},
   "outputs": [],
   "source": [
    "ck=response.headers['Set-Cookie'].split(',')[-1].split(';')[0]"
   ]
  },
  {
   "cell_type": "code",
   "execution_count": 154,
   "metadata": {},
   "outputs": [],
   "source": [
    "new_cookie1 = f'AuthToken={auth_token};{ck}'"
   ]
  },
  {
   "cell_type": "code",
   "execution_count": 155,
   "metadata": {},
   "outputs": [
    {
     "data": {
      "text/plain": [
       "'292300186899TRN'"
      ]
     },
     "execution_count": 155,
     "metadata": {},
     "output_type": "execute_result"
    }
   ],
   "source": [
    "trn"
   ]
  },
  {
   "cell_type": "code",
   "execution_count": 156,
   "metadata": {},
   "outputs": [
    {
     "name": "stdout",
     "output_type": "stream",
     "text": [
      "Response Content: b'{\"stscd\":\"1\",\"message\":\"ca2a6a8dc1604905b22e7e70dad79f17\",\"errors\":\"\"}'\n"
     ]
    }
   ],
   "source": [
    "import requests\n",
    "\n",
    "url = 'https://reg.gst.gov.in/registration/auth/api/evc/otp'\n",
    "\n",
    "headers = {\n",
    "    'Host': 'reg.gst.gov.in',\n",
    "    'Cookie': new_cookie1,\n",
    "    'Accept': 'application/json, text/plain, */*',\n",
    "    'Content-Type': 'application/json;charset=UTF-8',\n",
    "    'At': auth_token,\n",
    "    'Origin': 'https://reg.gst.gov.in',\n",
    "    'Referer': 'https://reg.gst.gov.in/registration/auth/newappl/verify',\n",
    "    }\n",
    "\n",
    "data = {\n",
    "    \"formType\":\"APLRG\",\"tranId\":trn,\"userName\":inp['opdtls'][0]['fn']+\" \"+inp['opdtls'][0]['mn']+\" \"+inp['opdtls'][0]['ln'],\"email\":inp['opdtls'][0]['em'],\"mobNo\":inp['opdtls'][0]['mbno']\n",
    "}\n",
    "\n",
    "response = requests.post(url, json=data, headers=headers)\n",
    "print(\"Response Content:\", response.content)\n",
    "tranid=json.loads(response.text)['message']\n"
   ]
  },
  {
   "cell_type": "code",
   "execution_count": 157,
   "metadata": {},
   "outputs": [
    {
     "data": {
      "text/plain": [
       "'292300186899TRN'"
      ]
     },
     "execution_count": 157,
     "metadata": {},
     "output_type": "execute_result"
    }
   ],
   "source": [
    "trn"
   ]
  },
  {
   "cell_type": "code",
   "execution_count": 158,
   "metadata": {},
   "outputs": [],
   "source": [
    "otp=\"7855E2\""
   ]
  },
  {
   "cell_type": "code",
   "execution_count": 159,
   "metadata": {},
   "outputs": [
    {
     "name": "stdout",
     "output_type": "stream",
     "text": [
      "Response Content: b'{\"stscd\":\"1\",\"message\":\"SUCCESS\",\"errors\":\"\"}'\n"
     ]
    }
   ],
   "source": [
    "import requests\n",
    "\n",
    "url = 'https://reg.gst.gov.in/registration/auth/api/evc/submit'\n",
    "headers = {\n",
    "    'Host': 'reg.gst.gov.in',\n",
    "    'Cookie': new_cookie,\n",
    "    'Accept': 'application/json, text/plain, */*',\n",
    "    'Content-Type': 'application/json;charset=UTF-8',\n",
    "    'At': auth_token,\n",
    "    'Origin': 'https://reg.gst.gov.in',\n",
    "    'Referer': 'https://reg.gst.gov.in/registration/auth/newappl/verify',\n",
    "    }\n",
    "data = {\n",
    "    \"otp\": otp,\n",
    "    \"dataToSign\": json.dumps(inp),\n",
    "    \"formType\": \"APLRG\",\n",
    "    \"tranId\": tranid,\n",
    "    \"userId\": trn\n",
    "}\n",
    "\n",
    "response = requests.post(url, json=data, headers=headers)\n",
    "print(\"Response Content:\", response.content)\n"
   ]
  },
  {
   "cell_type": "code",
   "execution_count": 162,
   "metadata": {},
   "outputs": [
    {
     "data": {
      "text/plain": [
       "'292300186899TRN'"
      ]
     },
     "execution_count": 162,
     "metadata": {},
     "output_type": "execute_result"
    }
   ],
   "source": [
    "trn"
   ]
  }
 ],
 "metadata": {
  "interpreter": {
   "hash": "31f2aee4e71d21fbe5cf8b01ff0e069b9275f58929596ceb00d14d90e3e16cd6"
  },
  "kernelspec": {
   "display_name": "Python 3.10.12 64-bit",
   "language": "python",
   "name": "python3"
  },
  "language_info": {
   "codemirror_mode": {
    "name": "ipython",
    "version": 3
   },
   "file_extension": ".py",
   "mimetype": "text/x-python",
   "name": "python",
   "nbconvert_exporter": "python",
   "pygments_lexer": "ipython3",
   "version": "3.10.12"
  },
  "orig_nbformat": 4
 },
 "nbformat": 4,
 "nbformat_minor": 2
}
