{
 "cells": [
  {
   "cell_type": "code",
   "execution_count": 126,
   "metadata": {},
   "outputs": [],
   "source": [
    "import json\n",
    "import json\n",
    "from datetime import datetime\n",
    "import requests\n",
    "import json\n",
    "from requests_toolbelt.multipart.encoder import MultipartEncoder\n",
    "with open('data.json') as f:  \n",
    "   inp = json.load(f)\n",
    "   "
   ]
  },
  {
   "cell_type": "code",
   "execution_count": 204,
   "metadata": {},
   "outputs": [],
   "source": [
    "with open('RESUBJJ.json') as f:  \n",
    "   inp1 = json.load(f)"
   ]
  },
  {
   "cell_type": "code",
   "execution_count": 127,
   "metadata": {},
   "outputs": [],
   "source": [
    "# srn='1-9437965806'\n",
    "srn='1-10266506010'"
   ]
  },
  {
   "cell_type": "code",
   "execution_count": 128,
   "metadata": {},
   "outputs": [],
   "source": [
    "\n",
    "\n",
    "url = \"https://www.mca.gov.in/bin/mca/login\"\n",
    "\n",
    "headers = {\n",
    "    \"Origin\": \"www.mca.gov.in\",\n",
    "    \"Content-Type\": \"application/x-www-form-urlencoded; charset=UTF-8\"}\n",
    "data=\"data=Ut8pBOc0RSM6iYqffqN1oiyj9WvJGiJEVVlWEbrO16gkiUbYKGssebXlM%2Bcc1l6%2FH53ORIVejkqRQNJO6whx4OCP6P3nRpnWDjVVIN5IRbmcNMmCFHf2ri7KqE4SRlNjYCw9u2LKROliTfvv63AV9eiPCiRWO5aLhpI2CVZau9pnzCFWwsAby4nwrZ19gu8G0zsW1uZyNhasaqAt7a%2F%2FLQ%3D%3D\"\n",
    "response = requests.post(url, headers=headers, data=data)\n",
    "set_cookie_value = response.headers.get('Set-Cookie')\n",
    "start_index = set_cookie_value.find(\"session-token=\") + len(\"session-token=\")\n",
    "end_index = set_cookie_value.find(\";\", start_index)\n",
    "session_token = set_cookie_value[start_index:end_index]"
   ]
  },
  {
   "cell_type": "code",
   "execution_count": 129,
   "metadata": {},
   "outputs": [],
   "source": [
    "cookie=f'cookiesession1=678B28690FE85E2F44A6F01E56B5BE61; session-token={session_token}'"
   ]
  },
  {
   "cell_type": "code",
   "execution_count": 130,
   "metadata": {},
   "outputs": [
    {
     "name": "stdout",
     "output_type": "stream",
     "text": [
      "Response:\n",
      "{\"message\":\"Data fetched Successfully\",\"error\":\"\",\"linkedForms\":[{\"integrationId\":\"1-4PSEUQI\",\"primaryParentSRId\":\"No Match Row Id\",\"formAttachment\":[{\"attachmentDMSId\":\"355040064\"}],\"referenceNumber\":\"1-10266506010\",\"formName\":\"Spice+ Part A\",\"srnNumber\":\"AA3956178\",\"action\":{\"type\":\"05-SEP-23\",\"status\":\"29-AUG-23\"},\"parentServiceRequestId\":\"\",\"updated\":\"2023-08-10T01:48:43.000+05:30\",\"status\":\"Approved\",\"approvalDate\":\"09-AUG-23\"},{\"integrationId\":\"1-4RUE0FA\",\"spiceBDirectorDeclaration\":{\"membershipNumber\":\"271843\",\"certificateofPracticeNumber\":\"FRN026299S\",\"associate_Fellow\":\"Associate\",\"practiceNumber_declaration\":\"FRN026299S\",\"LegalProffesion\":\"Chartered Accountant\",\"dropdown2\":\"Chartered Accountant\",\"membershipNumber_declaration\":\"271843\"},\"primaryParentSRId\":\"No Match Row Id\",\"formAttachment\":[{\"attachmentDMSId\":\"362634466\"}],\"referenceNumber\":\"1-10390758310\",\"formName\":\"SPICE + Part B\",\"srnNumber\":\"AA4274782\",\"parentServiceRequestId\":\"1-4PSEUQI\",\"updated\":\"2023-09-05T18:59:14.000+05:30\",\"status\":\"Resubmission Required\"}]}\n"
     ]
    }
   ],
   "source": [
    "url = 'https://www.mca.gov.in/bin/spiceDashboard'\n",
    "params = {'srn': f'{srn}'}\n",
    "headers = {\n",
    "    \"Cookie\":cookie}\n",
    "\n",
    "try:\n",
    "    response = requests.get(url, params=params, headers=headers)\n",
    "    response.raise_for_status()  # Check if the request was successful\n",
    "    print(\"Response:\")\n",
    "    print(response.text)  # Print the response content if needed\n",
    "except requests.exceptions.RequestException as e:\n",
    "    print(f\"Error: {e}\")    "
   ]
  },
  {
   "cell_type": "code",
   "execution_count": 131,
   "metadata": {},
   "outputs": [],
   "source": [
    "ref_no=json.loads(response.text)['linkedForms'][1]['referenceNumber']\n",
    "# srnNo=json.loads(response.text)['linkedForms'][0]['srnNumber']\n"
   ]
  },
  {
   "cell_type": "code",
   "execution_count": 132,
   "metadata": {},
   "outputs": [
    {
     "data": {
      "text/plain": [
       "'1-10390758310'"
      ]
     },
     "execution_count": 132,
     "metadata": {},
     "output_type": "execute_result"
    }
   ],
   "source": [
    "ref_no"
   ]
  },
  {
   "cell_type": "code",
   "execution_count": 133,
   "metadata": {},
   "outputs": [
    {
     "data": {
      "text/plain": [
       "'1-10266506010'"
      ]
     },
     "execution_count": 133,
     "metadata": {},
     "output_type": "execute_result"
    }
   ],
   "source": [
    "srn"
   ]
  },
  {
   "cell_type": "code",
   "execution_count": 134,
   "metadata": {},
   "outputs": [
    {
     "name": "stdout",
     "output_type": "stream",
     "text": [
      "{\"error\":\"\",\"message\":\"Data Fetched Successfully\",\"integrationId\":\"1-4RUE0FA\",\"formIntegrationId\":\"1-4XBOSNE\",\"data\":{\"status\":\"Resubmission Required\",\"formData\":{\"formIntegrationId\":\"1-4XBOSNE\",\"numberOfArticles\":\"\",\"aoaEntrenched\":\"N\",\"Havingsharecapital\":\"Having Share Capital\",\"totalSubscribedShareCapital\":\"100000\",\"totalUnclassifiedAuthorizedShareCapital\":\"0\",\"totalClassifiedAuthorizedShareCapital\":\"100000\",\"totalAuthorizedShareCapital\":\"100000\",\"equitynumberofClasses\":\"1\",\"preferencenumberofClasses\":\"0\",\"maxnumofMembers\":\"\",\"maxNumofMembersExcludingProposedemp\":\"\",\"numOfMembers\":\"2\",\"numOfMembersExcludingProposedEmp\":\"\",\"regaddressline1\":\"C/O Dilip Kumar Jain 5th\",\"regaddressline2\":\"FL Symbiosis Padaki\",\"regaddresscity\":\"Bangalore South\",\"regaddressstate_ut\":\"Karnataka\",\"regaddressarea\":\"Basavanagudi\",\"regaddresspincode\":\"560004\",\"regaddressdistrict\":\"Bangalore\",\"regaddresscountry\":\"India\",\"regaddresscountryCode\":\"\",\"regaddressfax\":\"\",\"regaddresscompanymailid\":\"kashvijain19@gmail.com\",\"regaddressphone\":\"\",\"regaddresslatitude\":\"12.9455\",\"regaddresslongitude\":\"77.5712\",\"SpicePartBAddress\":[{\"line1\":\"C/O Dilip Kumar Jain 5th\",\"line2\":\"FL Symbiosis Padaki\",\"city\":\"Bangalore South\",\"state_ut\":\"Karnataka\",\"pincode\":\"560004\",\"district\":\"Bangalore\",\"coutry\":\"India\",\"area\":\"Basavanagudi\",\"countryCode\":\"\",\"fax\":\"\",\"companymailid\":\"kashvijain19@gmail.com\",\"phone\":\"\",\"mobile\":\"9481829401\",\"addressType\":\"Correspondance Address\"}],\"rocName\":\"Registrar of Companies, Karnataka\",\"corresAddrSameRegAddr\":\"Y\",\"SubsrciberDINCount\":\"0\",\"NonIndividualDINCount\":\"\",\"DirectorDINCount\":\"0\",\"DirectorSubscriberDINCount\":\"0\",\"SubsrciberCountWithoutDIN\":\"2\",\"NonIndividualCountWithoutDIN\":\"0\",\"DirectorCountWithoutDINCount\":\"2\",\"DirectorSubscriberWithoutDINCount\":\"2\",\"panTanDetails\":[{\"PANareaCode\":\"DLC\",\"PANaoType\":\"WX\",\"PANrangeCode\":\"502\",\"PANaoNumber\":\"2\",\"TANareaCode\":\"KAR\",\"TANaoType\":\"WT\",\"TANrangeCode\":\"181\",\"TANaoNumber\":\"1\",\"businessProfessioncode\":\"20\",\"incomeFromBusinessProfession\":\"Y\",\"incomeFromCapitalGain\":\"\",\"incomeFromHouseProperty\":\"\",\"incomeFromOtherSource\":\"\",\"noIncome\":\"\"}],\"directorDeclaration\":[{\"declaration1\":\"Y\",\"declaration2\":\"Y\",\"declaration3\":\"Y\",\"declaration4\":\"Y\",\"declaration5\":\"Y\",\"declaration6\":\"Y\",\"declaration7\":\"Y\",\"declaration8\":\"Y\",\"declaration9\":\"Y\",\"declaration10\":\"Y\",\"declaration11\":\"Y\",\"declaration12\":\"Y\",\"declaration13\":\"Y\",\"declaration14\":\"\",\"declaration15\":\"\",\"dinPan\":\"BUTPJ7345F\",\"name\":\"SRIKANTH REDDY\",\"OfficePlace\":\"171, 8th cross, 7th Main Rd, 2nd Block, Jayanagar, Bengaluru, Karnataka 560011\",\"LegalProffesion\":\"Chartered Accountant\",\"associate_Fellow\":\"Associate\",\"membershipNumber\":\"271843\",\"certificateofPracticeNumber\":\"FRN026299S\",\"pan\":\"DLQPR2890H\",\"input1\":\"kashvi Dileep Jain\",\"input2\":\"SRIKANTH REDDY\",\"dropdown1\":\"a\",\"dropdown2\":\"Chartered Accountant\",\"membershipNumber_declaration\":\"271843\",\"practiceNumber_declaration\":\"FRN026299S\",\"institute\":\"The Institute of Chartered Accountant of India\",\"nidhiDeclaration\":\"\"}],\"spicePartBPreferenceShare\":[],\"spicePartBEquityShare\":[{\"sharecategory\":\"Equity Share\",\"classShare\":\"1\",\"authorizedcapitalsharenumber\":\"1000\",\"authorizedcapitalnominalamountpershare\":\"100\",\"authorizedcapitaltotalamount\":\"100000\",\"subscribedcapitalsharenumber\":\"100\",\"subscribedcapitalnominalamountpershare\":\"100\",\"subscribedcapitaltotalamount\":\"100000\"}],\"SpicePartBSubscribersHavingDin\":[],\"SpicePartBSubscribersNotHavingDin\":[{\"din\":\"\",\"name\":\"\",\"firstName\":\"KASHVI\",\"middleName\":\"DILEEP\",\"Surname\":\"JAIN\",\"fatherFirstName\":\"DILEEP\",\"fatherMiddleName\":\"KUMAR\",\"fatherSurName\":\"JAIN\",\"gender\":\"Female\",\"dateOfBirth\":\"10/19/2000\",\"nationality\":\"India\",\"placeofBirth\":\"Bangalore\",\"citizenOfIndia\":\"Y\",\"residentOfIndia\":\"Y\",\"occupationType\":\"Professional\",\"areaofOccupation\":\"Professional\",\"occupationOther\":\"\",\"educationalQualificationothers\":\"Bachelor's degree\",\"educationalOther\":\"\",\"pan\":\"BUTPJ7345F\",\"designation\":\"Director\",\"category\":\"Individual First subscribers cum Directors\",\"whether\":\"\",\"nomineeAppointeeNameOfCompanyInstitution\":\"\",\"ResidenseCorespondenceFlag\":\"Y\",\"emailid\":\"kashvijain19@gmail.com\",\"MobileNo\":\"9481829401\",\"identityProofDocument\":\"Aadhar Card\",\"identityProofNumber\":\"935902622081\",\"residentialProofDocument\":\"Bank Statement\",\"residentialProofNumber\":\"090656545143\",\"DirectorInterestedEntitiescount\":\"0\",\"totalSubscribedShareCapital\":\"\",\"equitynumofclasses\":\"1\",\"preferencenumofclasses\":\"\",\"SubscriberType\":\"Subscriber CUM Director No DIN\",\"SpicePartBSubsDeclaration\":[],\"inc9DeclarationFlag1\":\"N\",\"inc9DeclarationFlag2\":\"\",\"whetherNonED\":\"Executive director\",\"whetherChairman\":\"\",\"directorCategory\":\"Promoter\",\"SpicePartBSubscribersPreferenceShares\":[],\"SpicePartBSubscribersEquityShares\":[{\"sharecategory\":\"Equity Share\",\"classShare\":\"1\",\"subscribedcapitalsharenumber\":\"50\",\"subscribedcapitalnominalamountpershare\":\"100\",\"subscribedcapitaltotalamount\":\"5000\"}],\"SpicePartBSubscribersPermAddress\":[{\"line1\":\"Chandra Vilasa 2nd Floor\",\"line2\":\"Chandra Shekar Layout\",\"city\":\"Bangalore\",\"district\":\"Bangalore\",\"area\":\"Basavanagudi\",\"state_ut\":\"Karnataka\",\"pincode\":\"560004\",\"countryCode\":\"\",\"country\":\"India\",\"phonenum\":\"\",\"yearresidenseduration\":\"\",\"monthresidenseduration\":\"\",\"addressType\":\"Permanent Address\",\"prevAddress\":\"\"}],\"SpicePartBSubscribersPresAddress\":[{\"line1\":\"Chandra Vilasa 2nd Floor\",\"line2\":\"Chandra Shekar Layout\",\"city\":\"Bangalore\",\"district\":\"Bangalore\",\"area\":\"Basavanagudi\",\"state_ut\":\"Karnataka\",\"pincode\":\"560004\",\"countryCode\":\"\",\"country\":\"India\",\"phonenum\":\"\",\"yearresidenseduration\":\"22\",\"monthresidenseduration\":\"7\",\"addressType\":\"Present Address\",\"prevAddress\":\"\"}]},{\"din\":\"\",\"name\":\"\",\"firstName\":\"BIPUL\",\"middleName\":\"KUMAR\",\"Surname\":\"SINGH\",\"fatherFirstName\":\"CHANDRADEEP\",\"fatherMiddleName\":\"\",\"fatherSurName\":\"SINGH\",\"gender\":\"Male\",\"dateOfBirth\":\"09/18/2002\",\"nationality\":\"India\",\"placeofBirth\":\"GAYA\",\"citizenOfIndia\":\"Y\",\"residentOfIndia\":\"Y\",\"occupationType\":\"Professional\",\"areaofOccupation\":\"Professional\",\"occupationOther\":\"\",\"educationalQualificationothers\":\"Bachelor's degree\",\"educationalOther\":\"\",\"pan\":\"NLRPS2411C\",\"designation\":\"Director\",\"category\":\"Individual First subscribers cum Directors\",\"whether\":\"\",\"nomineeAppointeeNameOfCompanyInstitution\":\"\",\"ResidenseCorespondenceFlag\":\"Y\",\"emailid\":\"bipulkumarsingh6690@gmail.com\",\"MobileNo\":\"07975735563\",\"identityProofDocument\":\"Aadhar Card\",\"identityProofNumber\":\"249166905418\",\"residentialProofDocument\":\"Bank Statement\",\"residentialProofNumber\":\"90656545143\",\"DirectorInterestedEntitiescount\":\"0\",\"totalSubscribedShareCapital\":\"\",\"equitynumofclasses\":\"1\",\"preferencenumofclasses\":\"\",\"SubscriberType\":\"Subscriber CUM Director No DIN\",\"SpicePartBSubsDeclaration\":[],\"inc9DeclarationFlag1\":\"N\",\"inc9DeclarationFlag2\":\"\",\"whetherNonED\":\"Executive director\",\"whetherChairman\":\"\",\"directorCategory\":\"Promoter\",\"SpicePartBSubscribersPreferenceShares\":[],\"SpicePartBSubscribersEquityShares\":[{\"sharecategory\":\"Equity Share\",\"classShare\":\"1\",\"subscribedcapitalsharenumber\":\"50\",\"subscribedcapitalnominalamountpershare\":\"100\",\"subscribedcapitaltotalamount\":\"5000\"}],\"SpicePartBSubscribersPermAddress\":[{\"line1\":\"Post-goga gram\",\"line2\":\"mobarakchak wazirganj\",\"city\":\"Nawada\",\"district\":\"Nawada\",\"area\":\"Gaya\",\"state_ut\":\"Bihar\",\"pincode\":\"805131\",\"countryCode\":\"\",\"country\":\"India\",\"phonenum\":\"\",\"yearresidenseduration\":\"\",\"monthresidenseduration\":\"\",\"addressType\":\"Permanent Address\",\"prevAddress\":\"\"}],\"SpicePartBSubscribersPresAddress\":[{\"line1\":\"Post-goga gram\",\"line2\":\"mobarakchak wazirganj\",\"city\":\"Nawada\",\"district\":\"Nawada\",\"area\":\"Gaya\",\"state_ut\":\"Bihar\",\"pincode\":\"805131\",\"countryCode\":\"\",\"country\":\"India\",\"phonenum\":\"\",\"yearresidenseduration\":\"19\",\"monthresidenseduration\":\"7\",\"addressType\":\"Present Address\",\"prevAddress\":\"\"}]}],\"SpicePartBDirectorsHavingDin\":[],\"SpicePartBDirectorsNotHavingDin\":[],\"opcDetails\":[{\"stampDuty\":{\"state_ut\":\"Karnataka\",\"stampDutyElectronicallyPaid\":\"Yes\",\"stampDutyToBePaidDetails\":{\"amountForm\":\"20\",\"amountMOA\":\"1000\",\"amountAOA\":\"1000\"},\"stampDutyAlreadyDetails\":{\"amountForm\":\"\",\"amountMOA\":\"\",\"amountAOA\":\"\",\"amountOthers\":\"\",\"modeForm\":\"\",\"modeMOA\":\"\",\"modeAOA\":\"\",\"modeOthers\":\"\",\"nameofVendorForm\":\"\",\"nameofVendorMOA\":\"\",\"nameofVendorAOA\":\"\",\"nameofVendorOthers\":\"\",\"serialNumberofVendorForm\":\"\",\"serialNumberofVendorMOA\":\"\",\"serialNumberofVendorAOA\":\"\",\"serialNumberofVendorOthers\":\"\",\"FormRegistrationNum\":\"\",\"MOARegistrationNum\":\"\",\"AOARegistrationNum\":\"\",\"OtherRegistrationNum\":\"\",\"dateofPurchaseofVendorForm\":\"\",\"dateofPurchaseofVendorMOA\":\"\",\"dateofPurchaseofVendorAOA\":\"\",\"dateofPurchaseofVendorOthers\":\"\",\"placeofPurchaseofVendorForm\":\"\",\"placeofPurchaseofVendorMOA\":\"\",\"placeofPurchaseofVendorAOA\":\"\",\"placeofPurchaseofVendorOthers\":\"\"}}}]},\"formAttachment\":[{\"attachmentLabel\":\"SpiceBidentityPro7B\",\"attachmentCategory\":\"Attachment\",\"activityFileName\":\"BUTPJ7345F_Kashvi_Aadhar.pdf\",\"activityFileSrcType\":\"I\",\"activityFileExt\":\"pdf\",\"activityFileSize\":\"146699\",\"attachmentDMSId\":\"362350730\",\"totalNoOfPages\":\"2\",\"activityFileDate\":\"09/05/2023 18:51:09\",\"publicDocument\":\"Y\",\"activityComments\":\"178202502:SpiceBidentityPro7B:Document added successfully.\",\"versionNo\":\"0\",\"folderName\":\"\",\"addedBy\":\"Fo User\",\"formName\":\"\",\"folderId\":\"178202502\"},{\"attachmentLabel\":\"SpiceBProofOfResi7B\",\"attachmentCategory\":\"Attachment\",\"activityFileName\":\"BUTPJ7345F_Kashvi_bank_statement.pdf\",\"activityFileSrcType\":\"I\",\"activityFileExt\":\"pdf\",\"activityFileSize\":\"65384\",\"attachmentDMSId\":\"362350755\",\"totalNoOfPages\":\"14\",\"activityFileDate\":\"09/05/2023 18:51:09\",\"publicDocument\":\"Y\",\"activityComments\":\"178202502:SpiceBProofOfResi7B:Document added successfully.\",\"versionNo\":\"0\",\"folderName\":\"\",\"addedBy\":\"Fo User\",\"formName\":\"\",\"folderId\":\"178202502\"},{\"attachmentLabel\":\"SpiceBidentityPro7B\",\"attachmentCategory\":\"Attachment\",\"activityFileName\":\"NLRPS2411C_Bipul_Aadhar.pdf\",\"activityFileSrcType\":\"I\",\"activityFileExt\":\"pdf\",\"activityFileSize\":\"694551\",\"attachmentDMSId\":\"362350812\",\"totalNoOfPages\":\"2\",\"activityFileDate\":\"09/05/2023 18:51:09\",\"publicDocument\":\"Y\",\"activityComments\":\"178202502:SpiceBidentityPro7B:Document added successfully.\",\"versionNo\":\"0\",\"folderName\":\"\",\"addedBy\":\"Fo User\",\"formName\":\"\",\"folderId\":\"178202502\"},{\"attachmentLabel\":\"SpiceBProofOfResi7B\",\"attachmentCategory\":\"Attachment\",\"activityFileName\":\"NLRPS2411C_Bipul_bank_statement.pdf\",\"activityFileSrcType\":\"I\",\"activityFileExt\":\"pdf\",\"activityFileSize\":\"114182\",\"attachmentDMSId\":\"362350838\",\"totalNoOfPages\":\"3\",\"activityFileDate\":\"09/05/2023 18:51:09\",\"publicDocument\":\"Y\",\"activityComments\":\"178202502:SpiceBProofOfResi7B:Document added successfully.\",\"versionNo\":\"0\",\"folderName\":\"\",\"addedBy\":\"Fo User\",\"formName\":\"\",\"folderId\":\"178202502\"},{\"attachmentLabel\":\"SpiceBproofAddress\",\"attachmentCategory\":\"Attachment\",\"activityFileName\":\"1noc innolegalniti.pdf\",\"activityFileSrcType\":\"I\",\"activityFileExt\":\"pdf\",\"activityFileSize\":\"273819\",\"attachmentDMSId\":\"362343408\",\"totalNoOfPages\":\"1\",\"activityFileDate\":\"09/05/2023 18:51:09\",\"publicDocument\":\"Y\",\"activityComments\":\"178198161:SpiceBproofAddress:Document added successfully.\",\"versionNo\":\"0\",\"folderName\":\"\",\"addedBy\":\"Fo User\",\"formName\":\"\",\"folderId\":\"178198161\"},{\"attachmentLabel\":\"SpiceBcopyUtility\",\"attachmentCategory\":\"Attachment\",\"activityFileName\":\"add_proof.jpeg\",\"activityFileSrcType\":\"I\",\"activityFileExt\":\"jpeg\",\"activityFileSize\":\"125564\",\"attachmentDMSId\":\"362343427\",\"totalNoOfPages\":\"1\",\"activityFileDate\":\"09/05/2023 18:51:09\",\"publicDocument\":\"Y\",\"activityComments\":\"178198161:SpiceBcopyUtility:Document added successfully.\",\"versionNo\":\"0\",\"folderName\":\"\",\"addedBy\":\"Fo User\",\"formName\":\"\",\"folderId\":\"178198161\"},{\"attachmentLabel\":\"SpiceBidentityPro7B\",\"attachmentCategory\":\"Attachment\",\"activityFileName\":\"BUTPJ7345F_Kashvi_Aadhar.pdf\",\"activityFileSrcType\":\"I\",\"activityFileExt\":\"pdf\",\"activityFileSize\":\"146699\",\"attachmentDMSId\":\"362334106\",\"totalNoOfPages\":\"2\",\"activityFileDate\":\"09/05/2023 18:51:09\",\"publicDocument\":\"Y\",\"activityComments\":\"178192677:SpiceBidentityPro7B:Document added successfully.\",\"versionNo\":\"0\",\"folderName\":\"\",\"addedBy\":\"Fo User\",\"formName\":\"\",\"folderId\":\"178192677\"},{\"attachmentLabel\":\"SpiceBProofOfResi7B\",\"attachmentCategory\":\"Attachment\",\"activityFileName\":\"BUTPJ7345F_Kashvi_bank_statement.pdf\",\"activityFileSrcType\":\"I\",\"activityFileExt\":\"pdf\",\"activityFileSize\":\"65384\",\"attachmentDMSId\":\"362335826\",\"totalNoOfPages\":\"14\",\"activityFileDate\":\"09/05/2023 18:51:09\",\"publicDocument\":\"Y\",\"activityComments\":\"178198161:SpiceBProofOfResi7B:Document added successfully.\",\"versionNo\":\"0\",\"folderName\":\"\",\"addedBy\":\"Fo User\",\"formName\":\"\",\"folderId\":\"178198161\"},{\"attachmentLabel\":\"SpiceBidentityPro7B\",\"attachmentCategory\":\"Attachment\",\"activityFileName\":\"NLRPS2411C_Bipul_Aadhar.pdf\",\"activityFileSrcType\":\"I\",\"activityFileExt\":\"pdf\",\"activityFileSize\":\"694551\",\"attachmentDMSId\":\"362337971\",\"totalNoOfPages\":\"2\",\"activityFileDate\":\"09/05/2023 18:51:09\",\"publicDocument\":\"Y\",\"activityComments\":\"178198161:SpiceBidentityPro7B:Document added successfully.\",\"versionNo\":\"0\",\"folderName\":\"\",\"addedBy\":\"Fo User\",\"formName\":\"\",\"folderId\":\"178198161\"},{\"attachmentLabel\":\"SpiceBProofOfResi7B\",\"attachmentCategory\":\"Attachment\",\"activityFileName\":\"NLRPS2411C_Bipul_bank_statement.pdf\",\"activityFileSrcType\":\"I\",\"activityFileExt\":\"pdf\",\"activityFileSize\":\"114182\",\"attachmentDMSId\":\"362338008\",\"totalNoOfPages\":\"3\",\"activityFileDate\":\"09/05/2023 18:51:09\",\"publicDocument\":\"Y\",\"activityComments\":\"178198161:SpiceBProofOfResi7B:Document added successfully.\",\"versionNo\":\"0\",\"folderName\":\"\",\"addedBy\":\"Fo User\",\"formName\":\"\",\"folderId\":\"178198161\"},{\"attachmentLabel\":\"SPICE + Part B\",\"attachmentCategory\":\"Forms\",\"activityFileName\":\"1-10390758310.pdf\",\"activityFileSrcType\":\"I\",\"activityFileExt\":\"pdf\",\"activityFileSize\":\"1610392\",\"attachmentDMSId\":\"358237989\",\"totalNoOfPages\":\"32\",\"activityFileDate\":\"09/05/2023 18:51:09\",\"publicDocument\":\"Y\",\"activityComments\":\"Generated PDF Stored Successfully\",\"versionNo\":\"1\",\"folderName\":\"176558686\",\"addedBy\":\"Fo User\",\"formName\":\"\",\"folderId\":\"176558686\"},{\"attachmentLabel\":\"SPICE + Part B\",\"attachmentCategory\":\"Forms\",\"activityFileName\":\"1-10390758310.pdf\",\"activityFileSrcType\":\"I\",\"activityFileExt\":\"pdf\",\"activityFileSize\":\"1610392\",\"attachmentDMSId\":\"358237996\",\"totalNoOfPages\":\"32\",\"activityFileDate\":\"09/05/2023 18:51:09\",\"publicDocument\":\"Y\",\"activityComments\":\"Generated PDF Stored Successfully\",\"versionNo\":\"1\",\"folderName\":\"176558686\",\"addedBy\":\"Fo User\",\"formName\":\"\",\"folderId\":\"176558686\"},{\"attachmentLabel\":\"SPICE + Part B\",\"attachmentCategory\":\"Forms\",\"activityFileName\":\"1-10390758310.pdf\",\"activityFileSrcType\":\"I\",\"activityFileExt\":\"pdf\",\"activityFileSize\":\"1610377\",\"attachmentDMSId\":\"358237937\",\"totalNoOfPages\":\"32\",\"activityFileDate\":\"09/05/2023 18:51:09\",\"publicDocument\":\"Y\",\"activityComments\":\"Generated PDF Stored Successfully\",\"versionNo\":\"1\",\"folderName\":\"176558686\",\"addedBy\":\"Fo User\",\"formName\":\"\",\"folderId\":\"176558686\"},{\"attachmentLabel\":\"SPICE + Part B\",\"attachmentCategory\":\"Forms\",\"activityFileName\":\"1-10390758310.pdf\",\"activityFileSrcType\":\"I\",\"activityFileExt\":\"pdf\",\"activityFileSize\":\"1610390\",\"attachmentDMSId\":\"358275169\",\"totalNoOfPages\":\"32\",\"activityFileDate\":\"09/05/2023 18:51:09\",\"publicDocument\":\"Y\",\"activityComments\":\"Generated PDF Stored Successfully\",\"versionNo\":\"1\",\"folderName\":\"176558686\",\"addedBy\":\"Fo User\",\"formName\":\"\",\"folderId\":\"176558686\"},{\"attachmentLabel\":\"Signed_FO_SPICE + Part B\",\"attachmentCategory\":\"Forms\",\"activityFileName\":\"SpiceB_Legalniti[1].pdf\",\"activityFileSrcType\":\"I\",\"activityFileExt\":\"pdf\",\"activityFileSize\":\"1682771\",\"attachmentDMSId\":\"358528660\",\"totalNoOfPages\":\"32\",\"activityFileDate\":\"09/05/2023 18:51:09\",\"publicDocument\":\"Y\",\"activityComments\":\"176558686:dorUpdated:Document added successfully.\",\"versionNo\":\"1\",\"folderName\":\"176558686\",\"addedBy\":\"Fo User\",\"formName\":\"\",\"folderId\":\"176558686\"},{\"attachmentLabel\":\"Signed_FO_SPICE + Part B\",\"attachmentCategory\":\"Forms\",\"activityFileName\":\"SpiceB_Legalniti[1].pdf\",\"activityFileSrcType\":\"I\",\"activityFileExt\":\"pdf\",\"activityFileSize\":\"1682771\",\"attachmentDMSId\":\"358528953\",\"totalNoOfPages\":\"32\",\"activityFileDate\":\"09/05/2023 18:51:09\",\"publicDocument\":\"Y\",\"activityComments\":\"176558686:dorUpdated:Document added successfully.\",\"versionNo\":\"1\",\"folderName\":\"176558686\",\"addedBy\":\"Fo User\",\"formName\":\"\",\"folderId\":\"176558686\"},{\"attachmentLabel\":\"Receipt\",\"attachmentCategory\":\"Receipt\",\"activityFileName\":\"AA4274782_Receipt.pdf\",\"activityFileSrcType\":\"I\",\"activityFileExt\":\"pdf\",\"activityFileSize\":\"2332\",\"attachmentDMSId\":\"358771768\",\"totalNoOfPages\":\"1\",\"activityFileDate\":\"09/05/2023 18:51:09\",\"publicDocument\":\"Y\",\"activityComments\":\"176558686:dorUpdated:Document added successfully.\",\"versionNo\":\"1\",\"folderName\":\"176558686\",\"addedBy\":\"Fo User\",\"formName\":\"\",\"folderId\":\"176558686\"},{\"attachmentLabel\":\"SpiceBidentityPro7B\",\"attachmentCategory\":\"Attachment\",\"activityFileName\":\"BUTPJ7345F_Kashvi_Aadhar.pdf\",\"activityFileSrcType\":\"I\",\"activityFileExt\":\"pdf\",\"activityFileSize\":\"146699\",\"attachmentDMSId\":\"362343896\",\"totalNoOfPages\":\"2\",\"activityFileDate\":\"09/05/2023 18:51:09\",\"publicDocument\":\"Y\",\"activityComments\":\"178198161:SpiceBidentityPro7B:Document added successfully.\",\"versionNo\":\"0\",\"folderName\":\"\",\"addedBy\":\"Fo User\",\"formName\":\"\",\"folderId\":\"178198161\"},{\"attachmentLabel\":\"SpiceBProofOfResi7B\",\"attachmentCategory\":\"Attachment\",\"activityFileName\":\"BUTPJ7345F_Kashvi_bank_statement.pdf\",\"activityFileSrcType\":\"I\",\"activityFileExt\":\"pdf\",\"activityFileSize\":\"65384\",\"attachmentDMSId\":\"362343919\",\"totalNoOfPages\":\"14\",\"activityFileDate\":\"09/05/2023 18:51:09\",\"publicDocument\":\"Y\",\"activityComments\":\"178198161:SpiceBProofOfResi7B:Document added successfully.\",\"versionNo\":\"0\",\"folderName\":\"\",\"addedBy\":\"Fo User\",\"formName\":\"\",\"folderId\":\"178198161\"},{\"attachmentLabel\":\"SpiceBidentityPro7B\",\"attachmentCategory\":\"Attachment\",\"activityFileName\":\"NLRPS2411C_Bipul_Aadhar.pdf\",\"activityFileSrcType\":\"I\",\"activityFileExt\":\"pdf\",\"activityFileSize\":\"694551\",\"attachmentDMSId\":\"362343987\",\"totalNoOfPages\":\"2\",\"activityFileDate\":\"09/05/2023 18:51:09\",\"publicDocument\":\"Y\",\"activityComments\":\"178198161:SpiceBidentityPro7B:Document added successfully.\",\"versionNo\":\"0\",\"folderName\":\"\",\"addedBy\":\"Fo User\",\"formName\":\"\",\"folderId\":\"178198161\"},{\"attachmentLabel\":\"SpiceBProofOfResi7B\",\"attachmentCategory\":\"Attachment\",\"activityFileName\":\"NLRPS2411C_Bipul_bank_statement.pdf\",\"activityFileSrcType\":\"I\",\"activityFileExt\":\"pdf\",\"activityFileSize\":\"114182\",\"attachmentDMSId\":\"362344016\",\"totalNoOfPages\":\"3\",\"activityFileDate\":\"09/05/2023 18:51:09\",\"publicDocument\":\"Y\",\"activityComments\":\"178198161:SpiceBProofOfResi7B:Document added successfully.\",\"versionNo\":\"0\",\"folderName\":\"\",\"addedBy\":\"Fo User\",\"formName\":\"\",\"folderId\":\"178198161\"},{\"attachmentLabel\":\"SPICE + Part B\",\"attachmentCategory\":\"Forms\",\"activityFileName\":\"AA4274782.pdf\",\"activityFileSrcType\":\"I\",\"activityFileExt\":\"pdf\",\"activityFileSize\":\"3233871\",\"attachmentDMSId\":\"362380919\",\"totalNoOfPages\":\"32\",\"activityFileDate\":\"09/05/2023 18:51:09\",\"publicDocument\":\"Y\",\"activityComments\":\"Generated PDF Stored Successfully\",\"versionNo\":\"0\",\"folderName\":\"178202502\",\"addedBy\":\"Fo User\",\"formName\":\"\",\"folderId\":\"178202502\"},{\"attachmentLabel\":\"SPICE + Part B\",\"attachmentCategory\":\"Forms\",\"activityFileName\":\"AA4274782.pdf\",\"activityFileSrcType\":\"I\",\"activityFileExt\":\"pdf\",\"activityFileSize\":\"3087228\",\"attachmentDMSId\":\"362485870\",\"totalNoOfPages\":\"32\",\"activityFileDate\":\"09/05/2023 18:51:09\",\"publicDocument\":\"Y\",\"activityComments\":\"Generated PDF Stored Successfully\",\"versionNo\":\"0\",\"folderName\":\"178202502\",\"addedBy\":\"Fo User\",\"formName\":\"\",\"folderId\":\"178202502\"},{\"attachmentLabel\":\"SPICE + Part B\",\"attachmentCategory\":\"Forms\",\"activityFileName\":\"AA4274782.pdf\",\"activityFileSrcType\":\"I\",\"activityFileExt\":\"pdf\",\"activityFileSize\":\"3038284\",\"attachmentDMSId\":\"362485869\",\"totalNoOfPages\":\"32\",\"activityFileDate\":\"09/05/2023 18:51:09\",\"publicDocument\":\"Y\",\"activityComments\":\"Generated PDF Stored Successfully\",\"versionNo\":\"0\",\"folderName\":\"178202502\",\"addedBy\":\"Fo User\",\"formName\":\"\",\"folderId\":\"178202502\"},{\"attachmentLabel\":\"SPICE + Part B\",\"attachmentCategory\":\"Forms\",\"activityFileName\":\"AA4274782.pdf\",\"activityFileSrcType\":\"I\",\"activityFileExt\":\"pdf\",\"activityFileSize\":\"2823476\",\"attachmentDMSId\":\"362485864\",\"totalNoOfPages\":\"32\",\"activityFileDate\":\"09/05/2023 18:51:09\",\"publicDocument\":\"Y\",\"activityComments\":\"Generated PDF Stored Successfully\",\"versionNo\":\"0\",\"folderName\":\"178202502\",\"addedBy\":\"Fo User\",\"formName\":\"\",\"folderId\":\"178202502\"},{\"attachmentLabel\":\"SPICE + Part B\",\"attachmentCategory\":\"Forms\",\"activityFileName\":\"AA4274782.pdf\",\"activityFileSrcType\":\"I\",\"activityFileExt\":\"pdf\",\"activityFileSize\":\"3233970\",\"attachmentDMSId\":\"362485877\",\"totalNoOfPages\":\"32\",\"activityFileDate\":\"09/05/2023 18:51:09\",\"publicDocument\":\"Y\",\"activityComments\":\"Generated PDF Stored Successfully\",\"versionNo\":\"0\",\"folderName\":\"178202502\",\"addedBy\":\"Fo User\",\"formName\":\"\",\"folderId\":\"178202502\"},{\"attachmentLabel\":\"SPICE + Part B\",\"attachmentCategory\":\"Forms\",\"activityFileName\":\"AA4274782.pdf\",\"activityFileSrcType\":\"I\",\"activityFileExt\":\"pdf\",\"activityFileSize\":\"3233877\",\"attachmentDMSId\":\"362634466\",\"totalNoOfPages\":\"32\",\"activityFileDate\":\"09/05/2023 18:51:09\",\"publicDocument\":\"Y\",\"activityComments\":\"Generated PDF Stored Successfully\",\"versionNo\":\"0\",\"folderName\":\"178202502\",\"addedBy\":\"Fo User\",\"formName\":\"\",\"folderId\":\"178202502\"},{\"attachmentLabel\":\"SpiceBproofAddress\",\"attachmentCategory\":\"Attachment\",\"activityFileName\":\"1noc innolegalniti.pdf\",\"activityFileSrcType\":\"I\",\"activityFileExt\":\"pdf\",\"activityFileSize\":\"273819\",\"attachmentDMSId\":\"362796226\",\"totalNoOfPages\":\"1\",\"activityFileDate\":\"09/05/2023 18:51:09\",\"publicDocument\":\"Y\",\"activityComments\":\"178343561:SpiceBproofAddress:Document added successfully.\",\"versionNo\":\"0\",\"folderName\":\"\",\"addedBy\":\"Fo User\",\"formName\":\"\",\"folderId\":\"178343561\"},{\"attachmentLabel\":\"SpiceBcopyUtility\",\"attachmentCategory\":\"Attachment\",\"activityFileName\":\"add_proof.jpeg\",\"activityFileSrcType\":\"I\",\"activityFileExt\":\"jpeg\",\"activityFileSize\":\"125564\",\"attachmentDMSId\":\"362796243\",\"totalNoOfPages\":\"1\",\"activityFileDate\":\"09/05/2023 18:51:09\",\"publicDocument\":\"Y\",\"activityComments\":\"178343561:SpiceBcopyUtility:Document added successfully.\",\"versionNo\":\"0\",\"folderName\":\"\",\"addedBy\":\"Fo User\",\"formName\":\"\",\"folderId\":\"178343561\"},{\"attachmentLabel\":\"SpiceBidentityPro7B\",\"attachmentCategory\":\"Attachment\",\"activityFileName\":\"BUTPJ7345F_Kashvi_Aadhar.pdf\",\"activityFileSrcType\":\"I\",\"activityFileExt\":\"pdf\",\"activityFileSize\":\"146699\",\"attachmentDMSId\":\"362796326\",\"totalNoOfPages\":\"2\",\"activityFileDate\":\"09/05/2023 18:51:09\",\"publicDocument\":\"Y\",\"activityComments\":\"178343561:SpiceBidentityPro7B:Document added successfully.\",\"versionNo\":\"0\",\"folderName\":\"\",\"addedBy\":\"Fo User\",\"formName\":\"\",\"folderId\":\"178343561\"},{\"attachmentLabel\":\"SpiceBProofOfResi7B\",\"attachmentCategory\":\"Attachment\",\"activityFileName\":\"BUTPJ7345F_Kashvi_bank_statement.pdf\",\"activityFileSrcType\":\"I\",\"activityFileExt\":\"pdf\",\"activityFileSize\":\"65384\",\"attachmentDMSId\":\"362796338\",\"totalNoOfPages\":\"14\",\"activityFileDate\":\"09/05/2023 18:51:09\",\"publicDocument\":\"Y\",\"activityComments\":\"178343561:SpiceBProofOfResi7B:Document added successfully.\",\"versionNo\":\"0\",\"folderName\":\"\",\"addedBy\":\"Fo User\",\"formName\":\"\",\"folderId\":\"178343561\"},{\"attachmentLabel\":\"SpiceBidentityPro7B\",\"attachmentCategory\":\"Attachment\",\"activityFileName\":\"NLRPS2411C_Bipul_Aadhar.pdf\",\"activityFileSrcType\":\"I\",\"activityFileExt\":\"pdf\",\"activityFileSize\":\"694551\",\"attachmentDMSId\":\"362796383\",\"totalNoOfPages\":\"2\",\"activityFileDate\":\"09/05/2023 18:51:09\",\"publicDocument\":\"Y\",\"activityComments\":\"178343561:SpiceBidentityPro7B:Document added successfully.\",\"versionNo\":\"0\",\"folderName\":\"\",\"addedBy\":\"Fo User\",\"formName\":\"\",\"folderId\":\"178343561\"},{\"attachmentLabel\":\"SpiceBProofOfResi7B\",\"attachmentCategory\":\"Attachment\",\"activityFileName\":\"NLRPS2411C_Bipul_bank_statement.pdf\",\"activityFileSrcType\":\"I\",\"activityFileExt\":\"pdf\",\"activityFileSize\":\"114182\",\"attachmentDMSId\":\"362796394\",\"totalNoOfPages\":\"3\",\"activityFileDate\":\"09/05/2023 18:51:09\",\"publicDocument\":\"Y\",\"activityComments\":\"178343561:SpiceBProofOfResi7B:Document added successfully.\",\"versionNo\":\"0\",\"folderName\":\"\",\"addedBy\":\"Fo User\",\"formName\":\"\",\"folderId\":\"178343561\"}],\"eventDate\":\"\",\"lastUpdatedDate\":\"\",\"mcaFillingDate\":\"08/21/2023\",\"purpose\":\"Default\",\"inc9Flag\":\"Y\",\"eAOAFlag\":\"Y\",\"eMOAFlag\":\"Y\",\"rootSR\":\"1-10266506010\",\"parentSR\":\"1-10266506010\",\"continousFlag\":\"N\",\"mcaRSUBFlag\":\"Y\",\"referenceNumber\":\"1-10390758310\",\"srn\":\"AA4274782\",\"submittedBy\":\"CASRIKANTH0224@GMAIL.COM\",\"formVersion\":\"1693900746656\"}}\n",
      "200\n"
     ]
    }
   ],
   "source": [
    "#page 1 next\n",
    "url = 'https://www.mca.gov.in/content/forms/af/mca-aem-forms/spice-part-b/spice-plus-part-b/jcr:content/guideContainer.af.dermis'\n",
    "headers = {\n",
    "    'Cookie':cookie,\n",
    "    'Content-Type': 'application/x-www-form-urlencoded; charset=UTF-8',\n",
    "    'Origin': 'https://www.mca.gov.in'}\n",
    "\n",
    "payload = {\n",
    "    'functionToExecute': 'invokeFDMOperation',\n",
    "    'formDataModelId': '/content/dam/formsanddocuments-fdm/mca-aem-forms/spice-part-b/spice-b-prefill',\n",
    "    'input': f'{{\"Model0\": {{\"requestBody\": {{\"userId\": \"\", \"referenceNumber\": \"{ref_no}\", \"srn\": \"\"}}}}}}',\n",
    "    'operationName': 'POST /spicepartb/services/getSRNDetails/1.0.0',\n",
    "    'guideNodePath': '/content/forms/af/mca-aem-forms/spice-part-b/spice-plus-part-b/jcr:content/guideContainer/rootPanel/items/panel_1172712059/items/panel_1174875860'\n",
    "\n",
    "}\n",
    "response = requests.post(url, headers=headers, data=payload)\n",
    "\n",
    "print(response.text)\n",
    "print(response.status_code)\n"
   ]
  },
  {
   "cell_type": "code",
   "execution_count": 135,
   "metadata": {},
   "outputs": [],
   "source": [
    "srnNo=json.loads(response.text)['data']['srn']"
   ]
  },
  {
   "cell_type": "code",
   "execution_count": 136,
   "metadata": {},
   "outputs": [],
   "source": [
    "formVersion=json.loads(response.text)['data']['formVersion']"
   ]
  },
  {
   "cell_type": "code",
   "execution_count": 137,
   "metadata": {},
   "outputs": [],
   "source": [
    "intid=json.loads(response.text)['integrationId']\n",
    "formIntId=json.loads(response.text)['formIntegrationId']"
   ]
  },
  {
   "cell_type": "code",
   "execution_count": 138,
   "metadata": {},
   "outputs": [
    {
     "name": "stdout",
     "output_type": "stream",
     "text": [
      "{\"error\":\"\",\"message\":\"Data Fetched Successfully\",\"data\":{\"integrationId\":\"1-4RUE0FA\",\"status\":\"Resubmission Required\",\"reason\":\"\",\"formData\":{},\"formAttachment\":[{\"attachmentLabel\":\"SpiceBidentityPro7B\",\"attachmentCategory\":\"Attachment\",\"activityFileName\":\"BUTPJ7345F_Kashvi_Aadhar.pdf\",\"activityFileSrcType\":\"I\",\"activityFileExt\":\"pdf\",\"activityFileSize\":\"146699\",\"attachmentDMSId\":\"362350730\",\"totalNoOfPages\":\"2\",\"activityFileDate\":\"09/05/2023 18:51:09\",\"publicDocument\":\"Y\",\"activityComments\":\"178202502:SpiceBidentityPro7B:Document added successfully.\",\"folderId\":\"178202502\",\"folderName\":\"\",\"addedBy\":\"Fo User\",\"version\":\"0\"},{\"attachmentLabel\":\"SpiceBProofOfResi7B\",\"attachmentCategory\":\"Attachment\",\"activityFileName\":\"BUTPJ7345F_Kashvi_bank_statement.pdf\",\"activityFileSrcType\":\"I\",\"activityFileExt\":\"pdf\",\"activityFileSize\":\"65384\",\"attachmentDMSId\":\"362350755\",\"totalNoOfPages\":\"14\",\"activityFileDate\":\"09/05/2023 18:51:09\",\"publicDocument\":\"Y\",\"activityComments\":\"178202502:SpiceBProofOfResi7B:Document added successfully.\",\"folderId\":\"178202502\",\"folderName\":\"\",\"addedBy\":\"Fo User\",\"version\":\"0\"},{\"attachmentLabel\":\"SpiceBidentityPro7B\",\"attachmentCategory\":\"Attachment\",\"activityFileName\":\"NLRPS2411C_Bipul_Aadhar.pdf\",\"activityFileSrcType\":\"I\",\"activityFileExt\":\"pdf\",\"activityFileSize\":\"694551\",\"attachmentDMSId\":\"362350812\",\"totalNoOfPages\":\"2\",\"activityFileDate\":\"09/05/2023 18:51:09\",\"publicDocument\":\"Y\",\"activityComments\":\"178202502:SpiceBidentityPro7B:Document added successfully.\",\"folderId\":\"178202502\",\"folderName\":\"\",\"addedBy\":\"Fo User\",\"version\":\"0\"},{\"attachmentLabel\":\"SpiceBProofOfResi7B\",\"attachmentCategory\":\"Attachment\",\"activityFileName\":\"NLRPS2411C_Bipul_bank_statement.pdf\",\"activityFileSrcType\":\"I\",\"activityFileExt\":\"pdf\",\"activityFileSize\":\"114182\",\"attachmentDMSId\":\"362350838\",\"totalNoOfPages\":\"3\",\"activityFileDate\":\"09/05/2023 18:51:09\",\"publicDocument\":\"Y\",\"activityComments\":\"178202502:SpiceBProofOfResi7B:Document added successfully.\",\"folderId\":\"178202502\",\"folderName\":\"\",\"addedBy\":\"Fo User\",\"version\":\"0\"},{\"attachmentLabel\":\"SpiceBproofAddress\",\"attachmentCategory\":\"Attachment\",\"activityFileName\":\"1noc innolegalniti.pdf\",\"activityFileSrcType\":\"I\",\"activityFileExt\":\"pdf\",\"activityFileSize\":\"273819\",\"attachmentDMSId\":\"362343408\",\"totalNoOfPages\":\"1\",\"activityFileDate\":\"09/05/2023 18:51:09\",\"publicDocument\":\"Y\",\"activityComments\":\"178198161:SpiceBproofAddress:Document added successfully.\",\"folderId\":\"178198161\",\"folderName\":\"\",\"addedBy\":\"Fo User\",\"version\":\"0\"},{\"attachmentLabel\":\"SpiceBcopyUtility\",\"attachmentCategory\":\"Attachment\",\"activityFileName\":\"add_proof.jpeg\",\"activityFileSrcType\":\"I\",\"activityFileExt\":\"jpeg\",\"activityFileSize\":\"125564\",\"attachmentDMSId\":\"362343427\",\"totalNoOfPages\":\"1\",\"activityFileDate\":\"09/05/2023 18:51:09\",\"publicDocument\":\"Y\",\"activityComments\":\"178198161:SpiceBcopyUtility:Document added successfully.\",\"folderId\":\"178198161\",\"folderName\":\"\",\"addedBy\":\"Fo User\",\"version\":\"0\"},{\"attachmentLabel\":\"SpiceBidentityPro7B\",\"attachmentCategory\":\"Attachment\",\"activityFileName\":\"BUTPJ7345F_Kashvi_Aadhar.pdf\",\"activityFileSrcType\":\"I\",\"activityFileExt\":\"pdf\",\"activityFileSize\":\"146699\",\"attachmentDMSId\":\"362334106\",\"totalNoOfPages\":\"2\",\"activityFileDate\":\"09/05/2023 18:51:09\",\"publicDocument\":\"Y\",\"activityComments\":\"178192677:SpiceBidentityPro7B:Document added successfully.\",\"folderId\":\"178192677\",\"folderName\":\"\",\"addedBy\":\"Fo User\",\"version\":\"0\"},{\"attachmentLabel\":\"SpiceBProofOfResi7B\",\"attachmentCategory\":\"Attachment\",\"activityFileName\":\"BUTPJ7345F_Kashvi_bank_statement.pdf\",\"activityFileSrcType\":\"I\",\"activityFileExt\":\"pdf\",\"activityFileSize\":\"65384\",\"attachmentDMSId\":\"362335826\",\"totalNoOfPages\":\"14\",\"activityFileDate\":\"09/05/2023 18:51:09\",\"publicDocument\":\"Y\",\"activityComments\":\"178198161:SpiceBProofOfResi7B:Document added successfully.\",\"folderId\":\"178198161\",\"folderName\":\"\",\"addedBy\":\"Fo User\",\"version\":\"0\"},{\"attachmentLabel\":\"SpiceBidentityPro7B\",\"attachmentCategory\":\"Attachment\",\"activityFileName\":\"NLRPS2411C_Bipul_Aadhar.pdf\",\"activityFileSrcType\":\"I\",\"activityFileExt\":\"pdf\",\"activityFileSize\":\"694551\",\"attachmentDMSId\":\"362337971\",\"totalNoOfPages\":\"2\",\"activityFileDate\":\"09/05/2023 18:51:09\",\"publicDocument\":\"Y\",\"activityComments\":\"178198161:SpiceBidentityPro7B:Document added successfully.\",\"folderId\":\"178198161\",\"folderName\":\"\",\"addedBy\":\"Fo User\",\"version\":\"0\"},{\"attachmentLabel\":\"SpiceBProofOfResi7B\",\"attachmentCategory\":\"Attachment\",\"activityFileName\":\"NLRPS2411C_Bipul_bank_statement.pdf\",\"activityFileSrcType\":\"I\",\"activityFileExt\":\"pdf\",\"activityFileSize\":\"114182\",\"attachmentDMSId\":\"362338008\",\"totalNoOfPages\":\"3\",\"activityFileDate\":\"09/05/2023 18:51:09\",\"publicDocument\":\"Y\",\"activityComments\":\"178198161:SpiceBProofOfResi7B:Document added successfully.\",\"folderId\":\"178198161\",\"folderName\":\"\",\"addedBy\":\"Fo User\",\"version\":\"0\"},{\"attachmentLabel\":\"SPICE + Part B\",\"attachmentCategory\":\"Forms\",\"activityFileName\":\"1-10390758310.pdf\",\"activityFileSrcType\":\"I\",\"activityFileExt\":\"pdf\",\"activityFileSize\":\"1610392\",\"attachmentDMSId\":\"358237989\",\"totalNoOfPages\":\"32\",\"activityFileDate\":\"09/05/2023 18:51:09\",\"publicDocument\":\"Y\",\"activityComments\":\"Generated PDF Stored Successfully\",\"folderId\":\"176558686\",\"folderName\":\"176558686\",\"addedBy\":\"Fo User\",\"version\":\"1\"},{\"attachmentLabel\":\"SPICE + Part B\",\"attachmentCategory\":\"Forms\",\"activityFileName\":\"1-10390758310.pdf\",\"activityFileSrcType\":\"I\",\"activityFileExt\":\"pdf\",\"activityFileSize\":\"1610392\",\"attachmentDMSId\":\"358237996\",\"totalNoOfPages\":\"32\",\"activityFileDate\":\"09/05/2023 18:51:09\",\"publicDocument\":\"Y\",\"activityComments\":\"Generated PDF Stored Successfully\",\"folderId\":\"176558686\",\"folderName\":\"176558686\",\"addedBy\":\"Fo User\",\"version\":\"1\"},{\"attachmentLabel\":\"SPICE + Part B\",\"attachmentCategory\":\"Forms\",\"activityFileName\":\"1-10390758310.pdf\",\"activityFileSrcType\":\"I\",\"activityFileExt\":\"pdf\",\"activityFileSize\":\"1610377\",\"attachmentDMSId\":\"358237937\",\"totalNoOfPages\":\"32\",\"activityFileDate\":\"09/05/2023 18:51:09\",\"publicDocument\":\"Y\",\"activityComments\":\"Generated PDF Stored Successfully\",\"folderId\":\"176558686\",\"folderName\":\"176558686\",\"addedBy\":\"Fo User\",\"version\":\"1\"},{\"attachmentLabel\":\"SPICE + Part B\",\"attachmentCategory\":\"Forms\",\"activityFileName\":\"1-10390758310.pdf\",\"activityFileSrcType\":\"I\",\"activityFileExt\":\"pdf\",\"activityFileSize\":\"1610390\",\"attachmentDMSId\":\"358275169\",\"totalNoOfPages\":\"32\",\"activityFileDate\":\"09/05/2023 18:51:09\",\"publicDocument\":\"Y\",\"activityComments\":\"Generated PDF Stored Successfully\",\"folderId\":\"176558686\",\"folderName\":\"176558686\",\"addedBy\":\"Fo User\",\"version\":\"1\"},{\"attachmentLabel\":\"Signed_FO_SPICE + Part B\",\"attachmentCategory\":\"Forms\",\"activityFileName\":\"SpiceB_Legalniti[1].pdf\",\"activityFileSrcType\":\"I\",\"activityFileExt\":\"pdf\",\"activityFileSize\":\"1682771\",\"attachmentDMSId\":\"358528660\",\"totalNoOfPages\":\"32\",\"activityFileDate\":\"09/05/2023 18:51:09\",\"publicDocument\":\"Y\",\"activityComments\":\"176558686:dorUpdated:Document added successfully.\",\"folderId\":\"176558686\",\"folderName\":\"176558686\",\"addedBy\":\"Fo User\",\"version\":\"1\"},{\"attachmentLabel\":\"Signed_FO_SPICE + Part B\",\"attachmentCategory\":\"Forms\",\"activityFileName\":\"SpiceB_Legalniti[1].pdf\",\"activityFileSrcType\":\"I\",\"activityFileExt\":\"pdf\",\"activityFileSize\":\"1682771\",\"attachmentDMSId\":\"358528953\",\"totalNoOfPages\":\"32\",\"activityFileDate\":\"09/05/2023 18:51:09\",\"publicDocument\":\"Y\",\"activityComments\":\"176558686:dorUpdated:Document added successfully.\",\"folderId\":\"176558686\",\"folderName\":\"176558686\",\"addedBy\":\"Fo User\",\"version\":\"1\"},{\"attachmentLabel\":\"Receipt\",\"attachmentCategory\":\"Receipt\",\"activityFileName\":\"AA4274782_Receipt.pdf\",\"activityFileSrcType\":\"I\",\"activityFileExt\":\"pdf\",\"activityFileSize\":\"2332\",\"attachmentDMSId\":\"358771768\",\"totalNoOfPages\":\"1\",\"activityFileDate\":\"09/05/2023 18:51:09\",\"publicDocument\":\"Y\",\"activityComments\":\"176558686:dorUpdated:Document added successfully.\",\"folderId\":\"176558686\",\"folderName\":\"176558686\",\"addedBy\":\"Fo User\",\"version\":\"1\"},{\"attachmentLabel\":\"SpiceBidentityPro7B\",\"attachmentCategory\":\"Attachment\",\"activityFileName\":\"BUTPJ7345F_Kashvi_Aadhar.pdf\",\"activityFileSrcType\":\"I\",\"activityFileExt\":\"pdf\",\"activityFileSize\":\"146699\",\"attachmentDMSId\":\"362343896\",\"totalNoOfPages\":\"2\",\"activityFileDate\":\"09/05/2023 18:51:09\",\"publicDocument\":\"Y\",\"activityComments\":\"178198161:SpiceBidentityPro7B:Document added successfully.\",\"folderId\":\"178198161\",\"folderName\":\"\",\"addedBy\":\"Fo User\",\"version\":\"0\"},{\"attachmentLabel\":\"SpiceBProofOfResi7B\",\"attachmentCategory\":\"Attachment\",\"activityFileName\":\"BUTPJ7345F_Kashvi_bank_statement.pdf\",\"activityFileSrcType\":\"I\",\"activityFileExt\":\"pdf\",\"activityFileSize\":\"65384\",\"attachmentDMSId\":\"362343919\",\"totalNoOfPages\":\"14\",\"activityFileDate\":\"09/05/2023 18:51:09\",\"publicDocument\":\"Y\",\"activityComments\":\"178198161:SpiceBProofOfResi7B:Document added successfully.\",\"folderId\":\"178198161\",\"folderName\":\"\",\"addedBy\":\"Fo User\",\"version\":\"0\"},{\"attachmentLabel\":\"SpiceBidentityPro7B\",\"attachmentCategory\":\"Attachment\",\"activityFileName\":\"NLRPS2411C_Bipul_Aadhar.pdf\",\"activityFileSrcType\":\"I\",\"activityFileExt\":\"pdf\",\"activityFileSize\":\"694551\",\"attachmentDMSId\":\"362343987\",\"totalNoOfPages\":\"2\",\"activityFileDate\":\"09/05/2023 18:51:09\",\"publicDocument\":\"Y\",\"activityComments\":\"178198161:SpiceBidentityPro7B:Document added successfully.\",\"folderId\":\"178198161\",\"folderName\":\"\",\"addedBy\":\"Fo User\",\"version\":\"0\"},{\"attachmentLabel\":\"SpiceBProofOfResi7B\",\"attachmentCategory\":\"Attachment\",\"activityFileName\":\"NLRPS2411C_Bipul_bank_statement.pdf\",\"activityFileSrcType\":\"I\",\"activityFileExt\":\"pdf\",\"activityFileSize\":\"114182\",\"attachmentDMSId\":\"362344016\",\"totalNoOfPages\":\"3\",\"activityFileDate\":\"09/05/2023 18:51:09\",\"publicDocument\":\"Y\",\"activityComments\":\"178198161:SpiceBProofOfResi7B:Document added successfully.\",\"folderId\":\"178198161\",\"folderName\":\"\",\"addedBy\":\"Fo User\",\"version\":\"0\"},{\"attachmentLabel\":\"SPICE + Part B\",\"attachmentCategory\":\"Forms\",\"activityFileName\":\"AA4274782.pdf\",\"activityFileSrcType\":\"I\",\"activityFileExt\":\"pdf\",\"activityFileSize\":\"3233871\",\"attachmentDMSId\":\"362380919\",\"totalNoOfPages\":\"32\",\"activityFileDate\":\"09/05/2023 18:51:09\",\"publicDocument\":\"Y\",\"activityComments\":\"Generated PDF Stored Successfully\",\"folderId\":\"178202502\",\"folderName\":\"178202502\",\"addedBy\":\"Fo User\",\"version\":\"0\"},{\"attachmentLabel\":\"SPICE + Part B\",\"attachmentCategory\":\"Forms\",\"activityFileName\":\"AA4274782.pdf\",\"activityFileSrcType\":\"I\",\"activityFileExt\":\"pdf\",\"activityFileSize\":\"3087228\",\"attachmentDMSId\":\"362485870\",\"totalNoOfPages\":\"32\",\"activityFileDate\":\"09/05/2023 18:51:09\",\"publicDocument\":\"Y\",\"activityComments\":\"Generated PDF Stored Successfully\",\"folderId\":\"178202502\",\"folderName\":\"178202502\",\"addedBy\":\"Fo User\",\"version\":\"0\"},{\"attachmentLabel\":\"SPICE + Part B\",\"attachmentCategory\":\"Forms\",\"activityFileName\":\"AA4274782.pdf\",\"activityFileSrcType\":\"I\",\"activityFileExt\":\"pdf\",\"activityFileSize\":\"3038284\",\"attachmentDMSId\":\"362485869\",\"totalNoOfPages\":\"32\",\"activityFileDate\":\"09/05/2023 18:51:09\",\"publicDocument\":\"Y\",\"activityComments\":\"Generated PDF Stored Successfully\",\"folderId\":\"178202502\",\"folderName\":\"178202502\",\"addedBy\":\"Fo User\",\"version\":\"0\"},{\"attachmentLabel\":\"SPICE + Part B\",\"attachmentCategory\":\"Forms\",\"activityFileName\":\"AA4274782.pdf\",\"activityFileSrcType\":\"I\",\"activityFileExt\":\"pdf\",\"activityFileSize\":\"2823476\",\"attachmentDMSId\":\"362485864\",\"totalNoOfPages\":\"32\",\"activityFileDate\":\"09/05/2023 18:51:09\",\"publicDocument\":\"Y\",\"activityComments\":\"Generated PDF Stored Successfully\",\"folderId\":\"178202502\",\"folderName\":\"178202502\",\"addedBy\":\"Fo User\",\"version\":\"0\"},{\"attachmentLabel\":\"SPICE + Part B\",\"attachmentCategory\":\"Forms\",\"activityFileName\":\"AA4274782.pdf\",\"activityFileSrcType\":\"I\",\"activityFileExt\":\"pdf\",\"activityFileSize\":\"3233970\",\"attachmentDMSId\":\"362485877\",\"totalNoOfPages\":\"32\",\"activityFileDate\":\"09/05/2023 18:51:09\",\"publicDocument\":\"Y\",\"activityComments\":\"Generated PDF Stored Successfully\",\"folderId\":\"178202502\",\"folderName\":\"178202502\",\"addedBy\":\"Fo User\",\"version\":\"0\"},{\"attachmentLabel\":\"SPICE + Part B\",\"attachmentCategory\":\"Forms\",\"activityFileName\":\"AA4274782.pdf\",\"activityFileSrcType\":\"I\",\"activityFileExt\":\"pdf\",\"activityFileSize\":\"3233877\",\"attachmentDMSId\":\"362634466\",\"totalNoOfPages\":\"32\",\"activityFileDate\":\"09/05/2023 18:51:09\",\"publicDocument\":\"Y\",\"activityComments\":\"Generated PDF Stored Successfully\",\"folderId\":\"178202502\",\"folderName\":\"178202502\",\"addedBy\":\"Fo User\",\"version\":\"0\"},{\"attachmentLabel\":\"SpiceBproofAddress\",\"attachmentCategory\":\"Attachment\",\"activityFileName\":\"1noc innolegalniti.pdf\",\"activityFileSrcType\":\"I\",\"activityFileExt\":\"pdf\",\"activityFileSize\":\"273819\",\"attachmentDMSId\":\"362796226\",\"totalNoOfPages\":\"1\",\"activityFileDate\":\"09/05/2023 18:51:09\",\"publicDocument\":\"Y\",\"activityComments\":\"178343561:SpiceBproofAddress:Document added successfully.\",\"folderId\":\"178343561\",\"folderName\":\"\",\"addedBy\":\"Fo User\",\"version\":\"0\"},{\"attachmentLabel\":\"SpiceBcopyUtility\",\"attachmentCategory\":\"Attachment\",\"activityFileName\":\"add_proof.jpeg\",\"activityFileSrcType\":\"I\",\"activityFileExt\":\"jpeg\",\"activityFileSize\":\"125564\",\"attachmentDMSId\":\"362796243\",\"totalNoOfPages\":\"1\",\"activityFileDate\":\"09/05/2023 18:51:09\",\"publicDocument\":\"Y\",\"activityComments\":\"178343561:SpiceBcopyUtility:Document added successfully.\",\"folderId\":\"178343561\",\"folderName\":\"\",\"addedBy\":\"Fo User\",\"version\":\"0\"},{\"attachmentLabel\":\"SpiceBidentityPro7B\",\"attachmentCategory\":\"Attachment\",\"activityFileName\":\"BUTPJ7345F_Kashvi_Aadhar.pdf\",\"activityFileSrcType\":\"I\",\"activityFileExt\":\"pdf\",\"activityFileSize\":\"146699\",\"attachmentDMSId\":\"362796326\",\"totalNoOfPages\":\"2\",\"activityFileDate\":\"09/05/2023 18:51:09\",\"publicDocument\":\"Y\",\"activityComments\":\"178343561:SpiceBidentityPro7B:Document added successfully.\",\"folderId\":\"178343561\",\"folderName\":\"\",\"addedBy\":\"Fo User\",\"version\":\"0\"},{\"attachmentLabel\":\"SpiceBProofOfResi7B\",\"attachmentCategory\":\"Attachment\",\"activityFileName\":\"BUTPJ7345F_Kashvi_bank_statement.pdf\",\"activityFileSrcType\":\"I\",\"activityFileExt\":\"pdf\",\"activityFileSize\":\"65384\",\"attachmentDMSId\":\"362796338\",\"totalNoOfPages\":\"14\",\"activityFileDate\":\"09/05/2023 18:51:09\",\"publicDocument\":\"Y\",\"activityComments\":\"178343561:SpiceBProofOfResi7B:Document added successfully.\",\"folderId\":\"178343561\",\"folderName\":\"\",\"addedBy\":\"Fo User\",\"version\":\"0\"},{\"attachmentLabel\":\"SpiceBidentityPro7B\",\"attachmentCategory\":\"Attachment\",\"activityFileName\":\"NLRPS2411C_Bipul_Aadhar.pdf\",\"activityFileSrcType\":\"I\",\"activityFileExt\":\"pdf\",\"activityFileSize\":\"694551\",\"attachmentDMSId\":\"362796383\",\"totalNoOfPages\":\"2\",\"activityFileDate\":\"09/05/2023 18:51:09\",\"publicDocument\":\"Y\",\"activityComments\":\"178343561:SpiceBidentityPro7B:Document added successfully.\",\"folderId\":\"178343561\",\"folderName\":\"\",\"addedBy\":\"Fo User\",\"version\":\"0\"},{\"attachmentLabel\":\"SpiceBProofOfResi7B\",\"attachmentCategory\":\"Attachment\",\"activityFileName\":\"NLRPS2411C_Bipul_bank_statement.pdf\",\"activityFileSrcType\":\"I\",\"activityFileExt\":\"pdf\",\"activityFileSize\":\"114182\",\"attachmentDMSId\":\"362796394\",\"totalNoOfPages\":\"3\",\"activityFileDate\":\"09/05/2023 18:51:09\",\"publicDocument\":\"Y\",\"activityComments\":\"178343561:SpiceBProofOfResi7B:Document added successfully.\",\"folderId\":\"178343561\",\"folderName\":\"\",\"addedBy\":\"Fo User\",\"version\":\"0\"}],\"accountType\":\"\",\"expiryDate\":\"\",\"approvedName\":\"\",\"eventDate\":\"\",\"lastUpdatedDate\":\"\",\"MCAFillingDate\":\"08/21/2023\",\"purpose\":\"Default\",\"approvalDate\":\"\",\"mcaRSUBFlag\":\"Y\",\"srn\":\"AA4274782\",\"referenceNumber\":\"1-10390758310\",\"userId\":\"CASRIKANTH0224@GMAIL.COM\"}}\n"
     ]
    }
   ],
   "source": [
    "url = \"https://www.mca.gov.in/bin/mca-gov/spiceGetData\"\n",
    "\n",
    "headers = {\n",
    "    \"Cookie\": f\"cookiesession1=678B28690FE85E2F44A6F01E56B5BE61;session-token={session_token}\",\n",
    "    \"Origin\": \"https://www.mca.gov.in\",\n",
    "    }\n",
    "\n",
    "data = {\n",
    "    \"data\": f'{{\"requestBody\":{{\"userId\":\"CASRIKANTH0224@GMAIL.COM\",\"referenceNumber\":\"{ref_no}\",\"srn\":\"{srnNo}\",\"action\":\"SpiceplusAViewForm\"}}}}'\n",
    "}\n",
    "\n",
    "\n",
    "try:\n",
    "    response = requests.post(url, headers=headers, data=data)\n",
    "    response.raise_for_status()  # Raise an exception if response status code is not 2xx\n",
    "    print(response.text)  # Print the response content\n",
    "except requests.exceptions.RequestException as e:\n",
    "    print(f\"Request failed: {e}\")\n"
   ]
  },
  {
   "cell_type": "code",
   "execution_count": 139,
   "metadata": {},
   "outputs": [],
   "source": [
    "# formIntId=json.loads(response.text)['data']['formData']['formIntegrationId']"
   ]
  },
  {
   "cell_type": "code",
   "execution_count": 140,
   "metadata": {},
   "outputs": [],
   "source": [
    "folderid=json.loads(response.text)['data']['formAttachment'][0]['folderId']"
   ]
  },
  {
   "cell_type": "code",
   "execution_count": 141,
   "metadata": {},
   "outputs": [],
   "source": [
    "py1=json.loads(response.text)['data']"
   ]
  },
  {
   "cell_type": "code",
   "execution_count": 142,
   "metadata": {},
   "outputs": [
    {
     "name": "stdout",
     "output_type": "stream",
     "text": [
      "{\"Error\":\"\",\"Message\":\"Data Removed Successfully\"}\n"
     ]
    }
   ],
   "source": [
    "import requests\n",
    "\n",
    "url = \"https://www.mca.gov.in/bin/spiceDashboard\"\n",
    "\n",
    "headers = {\n",
    "    \"Cookie\": f\"cookiesession1=678B28690FE85E2F44A6F01E56B5BE61; session-token={session_token}\",\n",
    "    \"Origin\": \"https://www.mca.gov.in\",\n",
    "    \"Referer\": \"https://www.mca.gov.in/content/mca/global/spicedashboard.html?applicationHistory=eyJzcm4iOiJBQTM5NTYxNzgiLCJyZWZlcmVuY2UiOiIxLTEwMjY2NTA2MDEwIiwicHVycG9zZSI6IkRlZmF1bHQiLCJwcm9wb3NlZE5hbWUiOiJJTk5PTEVHQUxOSVRJIFBSSVZBVEUgTElNSVRFRCJ9\",\n",
    "}\n",
    "\n",
    "data = {\n",
    "    \"requestType\": \"discard\",\n",
    "    \"referenceNumber\": srn,\n",
    "    \"srn\": srnNo\n",
    "}\n",
    "\n",
    "try:\n",
    "    response = requests.post(url, headers=headers, data=data)\n",
    "    response.raise_for_status()  # Raise an exception if response status code is not 2xx\n",
    "    print(response.text)  # Print the response content\n",
    "except requests.exceptions.RequestException as e:\n",
    "    print(f\"Request failed: {e}\")\n"
   ]
  },
  {
   "cell_type": "code",
   "execution_count": 143,
   "metadata": {},
   "outputs": [],
   "source": [
    "with open('data1.json') as f:\n",
    "    inp=json.load(f)"
   ]
  },
  {
   "cell_type": "code",
   "execution_count": 144,
   "metadata": {},
   "outputs": [],
   "source": [
    "def save(payload):\n",
    "    #page 1 save\n",
    "    url = \"https://www.mca.gov.in/bin/mca-gov/SpicePartB_SAVESUBMIT\"\n",
    "\n",
    "    headers = {\n",
    "        \"Cookie\": cookie,\n",
    "        \"Referer\": \"https://www.mca.gov.in/content/mca/global/en/mca/e-filing/incorporation/SpicePartB.html\",\n",
    "        \"Origin\": \"https://www.mca.gov.in\",\n",
    "        }\n",
    "\n",
    "\n",
    "    multipart_data = MultipartEncoder(fields={\n",
    "        'data': json.dumps(payload),\n",
    "        'action': 'savesubmit',\n",
    "        'operation': 'Save',\n",
    "        'serveAction': 'saveForm',\n",
    "        'referenceNumber': '',\n",
    "        'formId': '',\n",
    "        \"srn\":srn\n",
    "    })\n",
    "\n",
    "    headers['Content-Type'] = multipart_data.content_type\n",
    "    response = requests.post(url, headers=headers, data=multipart_data)\n",
    "\n",
    "    return(response.text)\n"
   ]
  },
  {
   "cell_type": "code",
   "execution_count": 145,
   "metadata": {},
   "outputs": [],
   "source": [
    "def form_save_file(url,headers,label,file_path,file_name):\n",
    "    with open(file_path,'rb') as file:\n",
    "        payload = {\n",
    "        'file': (file_name, file, 'application/pdf'),\n",
    "        'folder': '',\n",
    "        'filemetadata': '{\"form\":\"SPICE + Part B\",\"srn\":\"\",\"documentType\":\"Attachment\",\"module\":\"SPICE + Part B\",\"userid\":\"SPICE + Part B\",\"applicationId\":\"\",\"attachmentCategory\":\"pdf\",\"attachmentLabel\":'+f'{label}'+'}'\n",
    "    }\n",
    "\n",
    "        return requests.post(url,headers=headers,files=payload)"
   ]
  },
  {
   "cell_type": "code",
   "execution_count": 146,
   "metadata": {},
   "outputs": [],
   "source": [
    "#spicepartbaddressproof\n",
    "file_path = r\"/home/pratik/Downloads/noc innolegalniti.pdf\"\n",
    "file_name1=\"noc innolegalniti.pdf\"\n"
   ]
  },
  {
   "cell_type": "code",
   "execution_count": 147,
   "metadata": {},
   "outputs": [
    {
     "name": "stdout",
     "output_type": "stream",
     "text": [
      "File uploaded successfully\n",
      "{\"attachmentLabel\":\"SpiceBproofAddress\",\"attachmentCategory\":\"Attachment\",\"activityFileName\":\"1noc innolegalniti.pdf\",\"activityFileSrcPath\":\"178360384\",\"activityFileSrcType\":\"I\",\"activityFileExt\":\"pdf\",\"activityFileSize\":\"273819\",\"attachmentDMSId\":\"362797461\",\"totalNoOfPages\":\"1\",\"activityFileDate\":\"09/05/2023\",\"publicDocument\":\"Y\",\"activityComments\":\"178360384:SpiceBproofAddress:Document added successfully.\",\"folderName\":\"\",\"folderId\":\"178360384\",\"version\":\"\",\"addedBy\":\"Fo User\"}\n"
     ]
    }
   ],
   "source": [
    "\n",
    "url = 'https://www.mca.gov.in/bin/mca/dms/addservice'\n",
    "\n",
    "headers = {\n",
    "    'Cookie': cookie,\n",
    "    'Referer': 'https://www.mca.gov.in/content/mca/global/en/mca/e-filing/incorporation/SpicePartB.html',\n",
    "    'Origin': 'https://www.mca.gov.in'\n",
    "    \n",
    "    }\n",
    "response = form_save_file(url,headers,\"SpiceBproofAddress\",file_path,f'1{file_name1}')\n",
    "if response.status_code == 200:\n",
    "    print('File uploaded successfully')\n",
    "    print(response.text)\n",
    "else:\n",
    "    print('Failed to upload the file')"
   ]
  },
  {
   "cell_type": "code",
   "execution_count": 148,
   "metadata": {},
   "outputs": [],
   "source": [
    "att_resp1=json.loads(response.text)"
   ]
  },
  {
   "cell_type": "code",
   "execution_count": 149,
   "metadata": {},
   "outputs": [],
   "source": [
    "#spicepartBulilitycopy\n",
    "file_path = r\"/home/pratik/Downloads/add_proof.jpeg\"\n",
    "file_name2=\"add_proof.jpeg\""
   ]
  },
  {
   "cell_type": "code",
   "execution_count": 150,
   "metadata": {},
   "outputs": [
    {
     "name": "stdout",
     "output_type": "stream",
     "text": [
      "File uploaded successfully\n",
      "{\"attachmentLabel\":\"SpiceBcopyUtility\",\"attachmentCategory\":\"Attachment\",\"activityFileName\":\"add_proof.jpeg\",\"activityFileSrcPath\":\"178360384\",\"activityFileSrcType\":\"I\",\"activityFileExt\":\"jpeg\",\"activityFileSize\":\"125564\",\"attachmentDMSId\":\"362797482\",\"totalNoOfPages\":\"1\",\"activityFileDate\":\"09/05/2023\",\"publicDocument\":\"Y\",\"activityComments\":\"178360384:SpiceBcopyUtility:Document added successfully.\",\"folderName\":\"\",\"folderId\":\"178360384\",\"version\":\"\",\"addedBy\":\"Fo User\"}\n"
     ]
    }
   ],
   "source": [
    "\n",
    "url = 'https://www.mca.gov.in/bin/mca/dms/addservice'\n",
    "\n",
    "headers = {\n",
    "    'Cookie': f'cookiesession1=678B286955776DB15177E7C622CE6403; alertPopup=true; session-token={session_token}',\n",
    "    'User-Agent': 'Mozilla/5.0 (Windows NT 10.0; Win64; x64; rv:109.0) Gecko/20100101 Firefox/114.0',\n",
    "    'Referer': 'https://www.mca.gov.in/content/mca/global/en/mca/e-filing/incorporation/SpicePartB.html',\n",
    "    'X-Requested-With': 'XMLHttpRequest',\n",
    "    'Csrf-Token': 'undefined',\n",
    "    'Origin': 'https://www.mca.gov.in',\n",
    "    'Sec-Fetch-Dest': 'empty',\n",
    "    'Sec-Fetch-Mode': 'cors',\n",
    "    'Sec-Fetch-Site': 'same-origin',\n",
    "    'Te': 'trailers'\n",
    "}\n",
    "response = form_save_file(url,headers,\"SpiceBcopyUtility\",file_path,file_name2)\n",
    "if response.status_code == 200:\n",
    "    print('File uploaded successfully')\n",
    "    print(response.text)\n",
    "else:\n",
    "    print('Failed to upload the file')"
   ]
  },
  {
   "cell_type": "code",
   "execution_count": 151,
   "metadata": {},
   "outputs": [],
   "source": [
    "att_resp2=json.loads(response.text)"
   ]
  },
  {
   "cell_type": "code",
   "execution_count": 152,
   "metadata": {},
   "outputs": [],
   "source": [
    "payload1=r'''{\"requestBody\":{\"formData\":{\"aoaEntrenched\":\"N\",\"totalAuthorizedShareCapital\":\"200000\",\"totalClassifiedAuthorizedShareCapital\":\"100000\",\"totalSubscribedShareCapital\":\"100000\",\"totalUnclassifiedAuthorizedShareCapital\":\"100000\",\"equitynumberofClasses\":\"1\",\"preferencenumberofClasses\":\"0\",\"numOfMembers\":\"2\",\"SpicePartBAddress\":[{\"line1\":\"C/O Dilip Kumar Jain 5th \",\"line2\":\"FL Symbiosis Padaki \",\"pincode\":\"560004\",\"addressType\":\"Correspondance Address\",\"coutry\":\"India\",\"area\":\"Basavanagudi\",\"city\":\"Bangalore South\",\"district\":\"Bangalore\",\"state_ut\":\"Karnataka\",\"mobile\":\"9481829401\",\"companymailid\":\"kashvijain19@gmail.com\"}],\"regaddressline1\":\"C/O Dilip Kumar Jain 5th \",\"regaddressline2\":\"FL Symbiosis Padaki \",\"regaddresspincode\":\"560004\",\"regaddresscountry\":\"India\",\"regaddresscity\":\"Bangalore South\",\"regaddressdistrict\":\"Bangalore\",\"regaddressstate_ut\":\"Karnataka\",\"regaddresscompanymailid\":\"kashvijain19@gmail.com\",\"regaddressarea\":\"Basavanagudi\",\"corresAddrSameRegAddr\":\"Y\",\"regaddresslongitude\":\"77.5712\",\"regaddresslatitude\":\"12.9455\",\"rocName\":\"Registrar of Companies, Karnataka\",\"SubsrciberDINCount\":\"0\",\"SubsrciberCountWithoutDIN\":\"2\",\"NonIndividualCountWithoutDIN\":\"0\",\"DirectorSubscriberDINCount\":\"0\",\"DirectorSubscriberWithoutDINCount\":\"2\",\"DirectorDINCount\":\"0\",\"DirectorCountWithoutDINCount\":\"2\",\"SpicePartBINDVSubscribersHavingDin\":[{\"INDVSubscribersEquityShares\":[{\"sharecategory\":\"Equity Share\"}],\"INDVSubscribersPreferenceShares\":[{\"sharecategory\":\"Preference Share\"}]}],\"SpicePartBINDVSubscribersNotHavingDin\":[{\"SpicePartBINDVsubscribersPermAddress\":{\"addressType\":\"Permanent Address\"},\"SpicePartBINDVsubscribersPresAddress\":{\"addressType\":\"Present Address\"},\"INDVSubscribersEquityShares\":[{\"sharecategory\":\"Equity Share\"}],\"INDVSubscribersPreferenceShares\":[{\"sharecategory\":\"Preference Share\"}]}],\"SpicePartBSubscribersHavingDin\":[{\"SubscriberType\":\"Subscriber CUM Director DIN\",\"category\":\"Individual First subscribers cum Directors\",\"SpicePartBSubscribersEquityShares\":[{\"sharecategory\":\"Equity Share\"}],\"SpicePartBSubscribersPreferenceShares\":[{\"sharecategory\":\"Preference Share\"}],\"SpicePartBSubsDeclaration\":[{\"shareholdingPercentage\":\"0\"}]}],\"SpicePartBSubscribersNotHavingDin\":[{\"category\":\"Individual First subscribers cum Directors\",\"SubscriberType\":\"Subscriber CUM Director No DIN\",\"SpicePartBSubscribersPermAddress\":{\"addressType\":\"Permanent Address\"},\"SpicePartBSubscribersPresAddress\":{\"addressType\":\"Present Address\"},\"SpicePartBSubscribersEquityShares\":[{\"sharecategory\":\"Equity Share\"}],\"SpicePartBSubscribersPreferenceShares\":[{\"sharecategory\":\"Preference Share\"}],\"SpicePartBSubsDeclaration\":[{\"shareholdingPercentage\":\"0\"}]}],\"SpicePartBDirectorsHavingDin\":[{\"category\":\"Directors\",\"SubscriberType\":\"Directors Having DIN\",\"SpicePartBSubsDeclaration\":[{\"shareholdingPercentage\":\"0\"}]}],\"SpicePartBDirectorsNotHavingDin\":[{\"category\":\"Directors\",\"SubscriberType\":\"Directors Not Having DIN\",\"SpicePartBSubscribersPermAddress\":{\"addressType\":\"Permanent Address\"},\"SpicePartBSubscribersPresAddress\":{\"addressType\":\"Present Address\"},\"SpicePartBSubsDeclaration\":[{\"shareholdingPercentage\":\"0\"}]}],\"formIntegrationId\":\"1-4XBOSNE\",\"SpicePartBShares\":[{\"classShare\":\"1\",\"authorizedcapitalsharenumber\":\"10000\",\"subscribedcapitalsharenumber\":\"10000\",\"authorizedcapitalnominalamountpershare\":\"10\",\"subscribedcapitalnominalamountpershare\":\"10\",\"authorizedcapitaltotalamount\":\"100000\",\"subscribedcapitaltotalamount\":\"100000\",\"sharecategory\":\"Equity Share\"}],\"spicePartBNonINDVSubscribers\":[]},\"status\":\"Resubmission Required\",\"formDescription\":\"For Spice+PartB\",\"formName\":\"SPICE + Part B\",\"formVersion\":\"1692450574281\",\"userId\":\"CASRIKANTH0224@GMAIL.COM\",\"integrationId\":\"1-4RUE0FA\",\"referenceNumber\":\"1-10390758310\",\"srn\":\"AA4274782\",\"formAttachment\":[{\"attachmentLabel\": \"SpiceBproofAddress\", \"attachmentCategory\": \"Attachment\", \"activityFileName\": \"1noc innolegalniti.pdf\", \"activityFileSrcPath\": \"178185762\", \"activityFileSrcType\": \"I\", \"activityFileExt\": \"pdf\", \"activityFileSize\": \"273819\", \"attachmentDMSId\": \"362304973\", \"totalNoOfPages\": \"1\", \"activityFileDate\": \"09/04/2023\", \"publicDocument\": \"Y\", \"activityComments\": \"178185762:SpiceBproofAddress:Document added successfully.\", \"folderName\": \"\", \"folderId\": \"178185762\", \"version\": \"\", \"addedBy\": \"Fo User\"}, {\"attachmentLabel\": \"SpiceBcopyUtility\", \"attachmentCategory\": \"Attachment\", \"activityFileName\": \"add_proof.jpeg\", \"activityFileSrcPath\": \"178185762\", \"activityFileSrcType\": \"I\", \"activityFileExt\": \"jpeg\", \"activityFileSize\": \"125564\", \"attachmentDMSId\": \"362305004\", \"totalNoOfPages\": \"1\", \"activityFileDate\": \"09/04/2023\", \"publicDocument\": \"Y\", \"activityComments\": \"178185762:SpiceBcopyUtility:Document added successfully.\", \"folderName\": \"\", \"folderId\": \"178185762\", \"version\": \"\", \"addedBy\": \"Fo User\"}],\"operation\":\"Save\",\"action\":\"savesubmit\",\"formId\":\"\",\"formIntegrationId\":\"1-4XBOSNE\"}}'''"
   ]
  },
  {
   "cell_type": "code",
   "execution_count": 153,
   "metadata": {},
   "outputs": [],
   "source": [
    "# payload1=r'''{\"requestBody\":{\"formData\":{\"aoaEntrenched\":\"N\",\"Havingsharecapital\":\"Having Share Capital\",\"totalAuthorizedShareCapital\":\"200000\",\"totalClassifiedAuthorizedShareCapital\":\"100000\",\"totalSubscribedShareCapital\":\"100000\",\"totalUnclassifiedAuthorizedShareCapital\":\"100000\",\"equitynumberofClasses\":\"1\",\"preferencenumberofClasses\":\"0\",\"regaddresscountry\":\"India\",\"NonIndividualCountWithoutDIN\":\"0\",\"SpicePartBINDVSubscribersHavingDin\":[{\"INDVSubscribersEquityShares\":[{\"sharecategory\":\"Equity Share\"}],\"INDVSubscribersPreferenceShares\":[{\"sharecategory\":\"Preference Share\"}]}],\"SpicePartBINDVSubscribersNotHavingDin\":[{\"SpicePartBINDVsubscribersPermAddress\":{\"addressType\":\"Permanent Address\"},\"SpicePartBINDVsubscribersPresAddress\":{\"addressType\":\"Present Address\"},\"INDVSubscribersEquityShares\":[{\"sharecategory\":\"Equity Share\"}],\"INDVSubscribersPreferenceShares\":[{\"sharecategory\":\"Preference Share\"}]}],\"SpicePartBSubscribersHavingDin\":[{\"SubscriberType\":\"Subscriber CUM Director DIN\",\"category\":\"Individual First subscribers cum Directors\",\"SpicePartBSubscribersEquityShares\":[{\"sharecategory\":\"Equity Share\"}],\"SpicePartBSubscribersPreferenceShares\":[{\"sharecategory\":\"Preference Share\"}],\"SpicePartBSubsDeclaration\":[{\"shareholdingPercentage\":\"0\"}]}],\"SpicePartBSubscribersNotHavingDin\":[{\"category\":\"Individual First subscribers cum Directors\",\"SubscriberType\":\"Subscriber CUM Director No DIN\",\"SpicePartBSubscribersPermAddress\":{\"addressType\":\"Permanent Address\"},\"SpicePartBSubscribersPresAddress\":{\"addressType\":\"Present Address\"},\"SpicePartBSubscribersEquityShares\":[{\"sharecategory\":\"Equity Share\"}],\"SpicePartBSubscribersPreferenceShares\":[{\"sharecategory\":\"Preference Share\"}],\"SpicePartBSubsDeclaration\":[{\"shareholdingPercentage\":\"0\"}]}],\"SpicePartBDirectorsHavingDin\":[{\"category\":\"Directors\",\"SubscriberType\":\"Directors Having DIN\",\"SpicePartBSubsDeclaration\":[{\"shareholdingPercentage\":\"0\"}]}],\"SpicePartBDirectorsNotHavingDin\":[{\"category\":\"Directors\",\"SubscriberType\":\"Directors Not Having DIN\",\"SpicePartBSubscribersPermAddress\":{\"addressType\":\"Permanent Address\"},\"SpicePartBSubscribersPresAddress\":{\"addressType\":\"Present Address\"},\"SpicePartBSubsDeclaration\":[{\"shareholdingPercentage\":\"0\"}]}],\"formIntegrationId\":\"1-4C351SZ\",\"SpicePartBShares\":[{\"classShare\":\"1\",\"authorizedcapitalsharenumber\":\"10000\",\"subscribedcapitalsharenumber\":\"10000\",\"authorizedcapitalnominalamountpershare\":\"10\",\"subscribedcapitalnominalamountpershare\":\"10\",\"authorizedcapitaltotalamount\":\"100000\",\"subscribedcapitaltotalamount\":\"100000\",\"sharecategory\":\"Equity Share\"}],\"spicePartBNonINDVSubscribers\":[]},\"status\":\"Draft/Pending Submission\",\"formDescription\":\"For Spice+PartB\",\"formName\":\"SPICE + Part B\",\"formVersion\":\"01\",\"userId\":\"BIPULKUMARSINGH6690@GMAIL.COM\",\"integrationId\":\"1-4C351PA\",\"referenceNumber\":\"1-9437997790\",\"formAttachment\":[],\"operation\":\"Save\",\"action\":\"savesubmit\",\"formIntegrationId\":\"1-4C351SZ\",\"srn\":\"\"}}'''\n",
    "payload1_json=json.loads(payload1)\n"
   ]
  },
  {
   "cell_type": "code",
   "execution_count": 154,
   "metadata": {},
   "outputs": [],
   "source": [
    "payload1_json['requestBody']['formData']['SpicePartBShares'][0]['subscribedcapitalsharenumber']='100'\n",
    "payload1_json['requestBody']['formData']['SpicePartBShares'][0]['authorizedcapitalnominalamountpershare']='100'\n",
    "payload1_json['requestBody']['formData']['SpicePartBShares'][0]['authorizedcapitaltotalamount']\n",
    "payload1_json['requestBody']['formData']['SpicePartBShares'][0]['authorizedcapitalsharenumber']='1000'\n",
    "payload1_json['requestBody']['formData']['SpicePartBShares'][0]['authorizedcapitaltotalamount']=''\n",
    "payload1_json['requestBody']['formData']['SpicePartBShares'][0]['subscribedcapitaltotalamount']=''\n",
    "payload1_json['requestBody']['formData']['Havingsharecapital']=''\n",
    "payload1_json['requestBody']['userId']=inp['userId']\n",
    "payload1_json['requestBody']['referenceNumber']=ref_no\n",
    "payload1_json['requestBody']['formData']['formIntegrationId']=formIntId\n",
    "payload1_json['requestBody']['formIntegrationId']=formIntId\n",
    "payload1_json['requestBody']['integrationId']=intid\n",
    "# payload1_json=json.dumps(payload1_json)\n"
   ]
  },
  {
   "cell_type": "code",
   "execution_count": 155,
   "metadata": {},
   "outputs": [],
   "source": [
    "payload1_json['requestBody']['userId']=inp['userId']"
   ]
  },
  {
   "cell_type": "code",
   "execution_count": 156,
   "metadata": {},
   "outputs": [],
   "source": [
    "payload2_json=payload1_json\n",
    "payload2_json['requestBody']['formData']['SpicePartBAddress']=inp['spiceBpartaddress']\n",
    "payload2_json['requestBody']['formAttachment'] = [att_resp1, att_resp2]\n",
    "payload2_json['requestBody']['formData']['SpicePartBShares']=inp['SpicePartBshares']\n",
    "payload2_json['requestBody']['formData']['regaddressline1']=inp['spiceBpartaddress'][0]['line1']\n",
    "payload2_json['requestBody']['formData']['regaddressline2']=inp['spiceBpartaddress'][0]['line2']\n",
    "payload2_json['requestBody']['formData']['regaddresspincode']=inp['spiceBpartaddress'][0]['pincode']\n",
    "payload2_json['requestBody']['formData']['regaddresscity']=inp['spiceBpartaddress'][0]['city']\n",
    "payload2_json['requestBody']['formData']['regaddressdistrict']=inp['spiceBpartaddress'][0]['district']\n",
    "payload2_json['requestBody']['formData']['regaddressstate_ut']=inp['spiceBpartaddress'][0]['state_ut']\n",
    "payload2_json['requestBody']['formData']['regaddressarea']=inp['spiceBpartaddress'][0]['area']\n",
    "payload2_json['requestBody']['formData']['regaddresscompanymailid']=inp['spiceBpartaddress'][0]['companymailid']\n",
    "payload2_json['requestBody']['formData']['regaddresslatitude']=inp['lat']\n",
    "payload2_json['requestBody']['formData']['regaddresslongitude']=inp['long']\n",
    "payload2_json['requestBody']['formData']['rocName']=inp['roc']\n",
    "\n",
    "payload2_json['requestBody']['formId']=''\n",
    "payload2_json['requestBody']['formData']['corresAddrSameRegAddr']=inp['corresaddressameasregaddress']\n"
   ]
  },
  {
   "cell_type": "code",
   "execution_count": 157,
   "metadata": {},
   "outputs": [],
   "source": [
    "payload2_json['requestBody']['formData']['totalAuthorizedShareCapital']='100000'"
   ]
  },
  {
   "cell_type": "code",
   "execution_count": 158,
   "metadata": {},
   "outputs": [],
   "source": [
    "payload2_json['requestBody']['formData']['totalUnclassifiedAuthorizedShareCapital']='0'"
   ]
  },
  {
   "cell_type": "code",
   "execution_count": 159,
   "metadata": {},
   "outputs": [],
   "source": [
    "payload2_json['requestBody']['formData']['Havingsharecapital']=\"Having Share Capital\""
   ]
  },
  {
   "cell_type": "code",
   "execution_count": 160,
   "metadata": {},
   "outputs": [],
   "source": [
    "payload2_json['requestBody']['srn']=srnNo"
   ]
  },
  {
   "cell_type": "code",
   "execution_count": 161,
   "metadata": {},
   "outputs": [],
   "source": [
    "payload2_json['requestBody']['status']='Resubmission Required'"
   ]
  },
  {
   "cell_type": "code",
   "execution_count": 162,
   "metadata": {},
   "outputs": [],
   "source": [
    "payload2_json['requestBody']['formVersion']=formVersion"
   ]
  },
  {
   "cell_type": "code",
   "execution_count": 163,
   "metadata": {},
   "outputs": [
    {
     "data": {
      "text/plain": [
       "'{\\r\\n\\t\\t\"error\": \"\",\\r\\n\\t\\t\"message\": \"Data Added Successfully\",\\r\\n\\t\\t\\r\\n\\t\\t\"data\":\\t{\\r\\n\\t\\t\\t\"referenceNumber\":\"1-10390758310\",\\t\\t\\t\\r\\n\\t\\t\\t\"srn\": \"AA4274782\",\\t\\t\\r\\n\\t\\t\\t\"dateTime\":\"\",\\r\\n                    \"integrationId\":\"1-4RUE0FA\",\\r\\n                    \"srnStatus\":\"Resubmission Required\",\\r\\n                     \"formIntegrationId\":\"1-4XBOSNE\"\\r\\n\\t\\t\\t}\\r\\n}'"
      ]
     },
     "execution_count": 163,
     "metadata": {},
     "output_type": "execute_result"
    }
   ],
   "source": [
    "save(payload2_json)"
   ]
  },
  {
   "cell_type": "code",
   "execution_count": 164,
   "metadata": {},
   "outputs": [
    {
     "data": {
      "text/plain": [
       "'{\"requestBody\": {\"formData\": {\"aoaEntrenched\": \"N\", \"totalAuthorizedShareCapital\": \"100000\", \"totalClassifiedAuthorizedShareCapital\": \"100000\", \"totalSubscribedShareCapital\": \"100000\", \"totalUnclassifiedAuthorizedShareCapital\": \"0\", \"equitynumberofClasses\": \"1\", \"preferencenumberofClasses\": \"0\", \"numOfMembers\": \"2\", \"SpicePartBAddress\": [{\"line1\": \"C/O Dilip Kumar Jain 5th \", \"line2\": \"FL Symbiosis Padaki \", \"pincode\": \"560004\", \"addressType\": \"Correspondance Address\", \"coutry\": \"India\", \"area\": \"Basavanagudi\", \"city\": \"Bangalore South\", \"district\": \"Bangalore\", \"state_ut\": \"Karnataka\", \"mobile\": \"9481829401\", \"companymailid\": \"kashvijain19@gmail.com\"}], \"regaddressline1\": \"C/O Dilip Kumar Jain 5th \", \"regaddressline2\": \"FL Symbiosis Padaki \", \"regaddresspincode\": \"560004\", \"regaddresscountry\": \"India\", \"regaddresscity\": \"Bangalore South\", \"regaddressdistrict\": \"Bangalore\", \"regaddressstate_ut\": \"Karnataka\", \"regaddresscompanymailid\": \"kashvijain19@gmail.com\", \"regaddressarea\": \"Basavanagudi\", \"corresAddrSameRegAddr\": \"Y\", \"regaddresslongitude\": \"77.5712\", \"regaddresslatitude\": \"12.9455\", \"rocName\": \"Registrar of Companies, Karnataka\", \"SubsrciberDINCount\": \"0\", \"SubsrciberCountWithoutDIN\": \"2\", \"NonIndividualCountWithoutDIN\": \"0\", \"DirectorSubscriberDINCount\": \"0\", \"DirectorSubscriberWithoutDINCount\": \"2\", \"DirectorDINCount\": \"0\", \"DirectorCountWithoutDINCount\": \"2\", \"SpicePartBINDVSubscribersHavingDin\": [{\"INDVSubscribersEquityShares\": [{\"sharecategory\": \"Equity Share\"}], \"INDVSubscribersPreferenceShares\": [{\"sharecategory\": \"Preference Share\"}]}], \"SpicePartBINDVSubscribersNotHavingDin\": [{\"SpicePartBINDVsubscribersPermAddress\": {\"addressType\": \"Permanent Address\"}, \"SpicePartBINDVsubscribersPresAddress\": {\"addressType\": \"Present Address\"}, \"INDVSubscribersEquityShares\": [{\"sharecategory\": \"Equity Share\"}], \"INDVSubscribersPreferenceShares\": [{\"sharecategory\": \"Preference Share\"}]}], \"SpicePartBSubscribersHavingDin\": [{\"SubscriberType\": \"Subscriber CUM Director DIN\", \"category\": \"Individual First subscribers cum Directors\", \"SpicePartBSubscribersEquityShares\": [{\"sharecategory\": \"Equity Share\"}], \"SpicePartBSubscribersPreferenceShares\": [{\"sharecategory\": \"Preference Share\"}], \"SpicePartBSubsDeclaration\": [{\"shareholdingPercentage\": \"0\"}]}], \"SpicePartBSubscribersNotHavingDin\": [{\"category\": \"Individual First subscribers cum Directors\", \"SubscriberType\": \"Subscriber CUM Director No DIN\", \"SpicePartBSubscribersPermAddress\": {\"addressType\": \"Permanent Address\"}, \"SpicePartBSubscribersPresAddress\": {\"addressType\": \"Present Address\"}, \"SpicePartBSubscribersEquityShares\": [{\"sharecategory\": \"Equity Share\"}], \"SpicePartBSubscribersPreferenceShares\": [{\"sharecategory\": \"Preference Share\"}], \"SpicePartBSubsDeclaration\": [{\"shareholdingPercentage\": \"0\"}]}], \"SpicePartBDirectorsHavingDin\": [{\"category\": \"Directors\", \"SubscriberType\": \"Directors Having DIN\", \"SpicePartBSubsDeclaration\": [{\"shareholdingPercentage\": \"0\"}]}], \"SpicePartBDirectorsNotHavingDin\": [{\"category\": \"Directors\", \"SubscriberType\": \"Directors Not Having DIN\", \"SpicePartBSubscribersPermAddress\": {\"addressType\": \"Permanent Address\"}, \"SpicePartBSubscribersPresAddress\": {\"addressType\": \"Present Address\"}, \"SpicePartBSubsDeclaration\": [{\"shareholdingPercentage\": \"0\"}]}], \"formIntegrationId\": \"1-4XBOSNE\", \"SpicePartBShares\": [{\"classShare\": \"1\", \"authorizedcapitalsharenumber\": \"1000\", \"subscribedcapitalsharenumber\": \"100\", \"authorizedcapitalnominalamountpershare\": \"100\", \"subscribedcapitalnominalamountpershare\": \"100\", \"authorizedcapitaltotalamount\": \"100000\", \"subscribedcapitaltotalamount\": \"100000\", \"sharecategory\": \"Equity Share\"}], \"spicePartBNonINDVSubscribers\": [], \"Havingsharecapital\": \"Having Share Capital\"}, \"status\": \"Resubmission Required\", \"formDescription\": \"For Spice+PartB\", \"formName\": \"SPICE + Part B\", \"formVersion\": \"1693900746656\", \"userId\": \"CASRIKANTH0224@GMAIL.COM\", \"integrationId\": \"1-4RUE0FA\", \"referenceNumber\": \"1-10390758310\", \"srn\": \"AA4274782\", \"formAttachment\": [{\"attachmentLabel\": \"SpiceBproofAddress\", \"attachmentCategory\": \"Attachment\", \"activityFileName\": \"1noc innolegalniti.pdf\", \"activityFileSrcPath\": \"178360384\", \"activityFileSrcType\": \"I\", \"activityFileExt\": \"pdf\", \"activityFileSize\": \"273819\", \"attachmentDMSId\": \"362797461\", \"totalNoOfPages\": \"1\", \"activityFileDate\": \"09/05/2023\", \"publicDocument\": \"Y\", \"activityComments\": \"178360384:SpiceBproofAddress:Document added successfully.\", \"folderName\": \"\", \"folderId\": \"178360384\", \"version\": \"\", \"addedBy\": \"Fo User\"}, {\"attachmentLabel\": \"SpiceBcopyUtility\", \"attachmentCategory\": \"Attachment\", \"activityFileName\": \"add_proof.jpeg\", \"activityFileSrcPath\": \"178360384\", \"activityFileSrcType\": \"I\", \"activityFileExt\": \"jpeg\", \"activityFileSize\": \"125564\", \"attachmentDMSId\": \"362797482\", \"totalNoOfPages\": \"1\", \"activityFileDate\": \"09/05/2023\", \"publicDocument\": \"Y\", \"activityComments\": \"178360384:SpiceBcopyUtility:Document added successfully.\", \"folderName\": \"\", \"folderId\": \"178360384\", \"version\": \"\", \"addedBy\": \"Fo User\"}], \"operation\": \"Save\", \"action\": \"savesubmit\", \"formId\": \"\", \"formIntegrationId\": \"1-4XBOSNE\"}}'"
      ]
     },
     "execution_count": 164,
     "metadata": {},
     "output_type": "execute_result"
    }
   ],
   "source": [
    "json.dumps(payload2_json)"
   ]
  },
  {
   "cell_type": "code",
   "execution_count": 165,
   "metadata": {},
   "outputs": [
    {
     "data": {
      "text/plain": [
       "{'requestBody': {'formData': {'aoaEntrenched': 'N',\n",
       "   'totalAuthorizedShareCapital': '100000',\n",
       "   'totalClassifiedAuthorizedShareCapital': '100000',\n",
       "   'totalSubscribedShareCapital': '100000',\n",
       "   'totalUnclassifiedAuthorizedShareCapital': '0',\n",
       "   'equitynumberofClasses': '1',\n",
       "   'preferencenumberofClasses': '0',\n",
       "   'numOfMembers': '2',\n",
       "   'SpicePartBAddress': [{'line1': 'C/O Dilip Kumar Jain 5th ',\n",
       "     'line2': 'FL Symbiosis Padaki ',\n",
       "     'pincode': '560004',\n",
       "     'addressType': 'Correspondance Address',\n",
       "     'coutry': 'India',\n",
       "     'area': 'Basavanagudi',\n",
       "     'city': 'Bangalore South',\n",
       "     'district': 'Bangalore',\n",
       "     'state_ut': 'Karnataka',\n",
       "     'mobile': '9481829401',\n",
       "     'companymailid': 'kashvijain19@gmail.com'}],\n",
       "   'regaddressline1': 'C/O Dilip Kumar Jain 5th ',\n",
       "   'regaddressline2': 'FL Symbiosis Padaki ',\n",
       "   'regaddresspincode': '560004',\n",
       "   'regaddresscountry': 'India',\n",
       "   'regaddresscity': 'Bangalore South',\n",
       "   'regaddressdistrict': 'Bangalore',\n",
       "   'regaddressstate_ut': 'Karnataka',\n",
       "   'regaddresscompanymailid': 'kashvijain19@gmail.com',\n",
       "   'regaddressarea': 'Basavanagudi',\n",
       "   'corresAddrSameRegAddr': 'Y',\n",
       "   'regaddresslongitude': '77.5712',\n",
       "   'regaddresslatitude': '12.9455',\n",
       "   'rocName': 'Registrar of Companies, Karnataka',\n",
       "   'SubsrciberDINCount': '0',\n",
       "   'SubsrciberCountWithoutDIN': '2',\n",
       "   'NonIndividualCountWithoutDIN': '0',\n",
       "   'DirectorSubscriberDINCount': '0',\n",
       "   'DirectorSubscriberWithoutDINCount': '2',\n",
       "   'DirectorDINCount': '0',\n",
       "   'DirectorCountWithoutDINCount': '2',\n",
       "   'SpicePartBINDVSubscribersHavingDin': [{'INDVSubscribersEquityShares': [{'sharecategory': 'Equity Share'}],\n",
       "     'INDVSubscribersPreferenceShares': [{'sharecategory': 'Preference Share'}]}],\n",
       "   'SpicePartBINDVSubscribersNotHavingDin': [{'SpicePartBINDVsubscribersPermAddress': {'addressType': 'Permanent Address'},\n",
       "     'SpicePartBINDVsubscribersPresAddress': {'addressType': 'Present Address'},\n",
       "     'INDVSubscribersEquityShares': [{'sharecategory': 'Equity Share'}],\n",
       "     'INDVSubscribersPreferenceShares': [{'sharecategory': 'Preference Share'}]}],\n",
       "   'SpicePartBSubscribersHavingDin': [{'SubscriberType': 'Subscriber CUM Director DIN',\n",
       "     'category': 'Individual First subscribers cum Directors',\n",
       "     'SpicePartBSubscribersEquityShares': [{'sharecategory': 'Equity Share'}],\n",
       "     'SpicePartBSubscribersPreferenceShares': [{'sharecategory': 'Preference Share'}],\n",
       "     'SpicePartBSubsDeclaration': [{'shareholdingPercentage': '0'}]}],\n",
       "   'SpicePartBSubscribersNotHavingDin': [{'category': 'Individual First subscribers cum Directors',\n",
       "     'SubscriberType': 'Subscriber CUM Director No DIN',\n",
       "     'SpicePartBSubscribersPermAddress': {'addressType': 'Permanent Address'},\n",
       "     'SpicePartBSubscribersPresAddress': {'addressType': 'Present Address'},\n",
       "     'SpicePartBSubscribersEquityShares': [{'sharecategory': 'Equity Share'}],\n",
       "     'SpicePartBSubscribersPreferenceShares': [{'sharecategory': 'Preference Share'}],\n",
       "     'SpicePartBSubsDeclaration': [{'shareholdingPercentage': '0'}]}],\n",
       "   'SpicePartBDirectorsHavingDin': [{'category': 'Directors',\n",
       "     'SubscriberType': 'Directors Having DIN',\n",
       "     'SpicePartBSubsDeclaration': [{'shareholdingPercentage': '0'}]}],\n",
       "   'SpicePartBDirectorsNotHavingDin': [{'category': 'Directors',\n",
       "     'SubscriberType': 'Directors Not Having DIN',\n",
       "     'SpicePartBSubscribersPermAddress': {'addressType': 'Permanent Address'},\n",
       "     'SpicePartBSubscribersPresAddress': {'addressType': 'Present Address'},\n",
       "     'SpicePartBSubsDeclaration': [{'shareholdingPercentage': '0'}]}],\n",
       "   'formIntegrationId': '1-4XBOSNE',\n",
       "   'SpicePartBShares': [{'classShare': '1',\n",
       "     'authorizedcapitalsharenumber': '1000',\n",
       "     'subscribedcapitalsharenumber': '100',\n",
       "     'authorizedcapitalnominalamountpershare': '100',\n",
       "     'subscribedcapitalnominalamountpershare': '100',\n",
       "     'authorizedcapitaltotalamount': '100000',\n",
       "     'subscribedcapitaltotalamount': '100000',\n",
       "     'sharecategory': 'Equity Share'}],\n",
       "   'spicePartBNonINDVSubscribers': [],\n",
       "   'Havingsharecapital': 'Having Share Capital'},\n",
       "  'status': 'Resubmission Required',\n",
       "  'formDescription': 'For Spice+PartB',\n",
       "  'formName': 'SPICE + Part B',\n",
       "  'formVersion': '1693900746656',\n",
       "  'userId': 'CASRIKANTH0224@GMAIL.COM',\n",
       "  'integrationId': '1-4RUE0FA',\n",
       "  'referenceNumber': '1-10390758310',\n",
       "  'srn': 'AA4274782',\n",
       "  'formAttachment': [{'attachmentLabel': 'SpiceBproofAddress',\n",
       "    'attachmentCategory': 'Attachment',\n",
       "    'activityFileName': '1noc innolegalniti.pdf',\n",
       "    'activityFileSrcPath': '178360384',\n",
       "    'activityFileSrcType': 'I',\n",
       "    'activityFileExt': 'pdf',\n",
       "    'activityFileSize': '273819',\n",
       "    'attachmentDMSId': '362797461',\n",
       "    'totalNoOfPages': '1',\n",
       "    'activityFileDate': '09/05/2023',\n",
       "    'publicDocument': 'Y',\n",
       "    'activityComments': '178360384:SpiceBproofAddress:Document added successfully.',\n",
       "    'folderName': '',\n",
       "    'folderId': '178360384',\n",
       "    'version': '',\n",
       "    'addedBy': 'Fo User'},\n",
       "   {'attachmentLabel': 'SpiceBcopyUtility',\n",
       "    'attachmentCategory': 'Attachment',\n",
       "    'activityFileName': 'add_proof.jpeg',\n",
       "    'activityFileSrcPath': '178360384',\n",
       "    'activityFileSrcType': 'I',\n",
       "    'activityFileExt': 'jpeg',\n",
       "    'activityFileSize': '125564',\n",
       "    'attachmentDMSId': '362797482',\n",
       "    'totalNoOfPages': '1',\n",
       "    'activityFileDate': '09/05/2023',\n",
       "    'publicDocument': 'Y',\n",
       "    'activityComments': '178360384:SpiceBcopyUtility:Document added successfully.',\n",
       "    'folderName': '',\n",
       "    'folderId': '178360384',\n",
       "    'version': '',\n",
       "    'addedBy': 'Fo User'}],\n",
       "  'operation': 'Save',\n",
       "  'action': 'savesubmit',\n",
       "  'formId': '',\n",
       "  'formIntegrationId': '1-4XBOSNE'}}"
      ]
     },
     "execution_count": 165,
     "metadata": {},
     "output_type": "execute_result"
    }
   ],
   "source": [
    "payload2_json"
   ]
  },
  {
   "cell_type": "code",
   "execution_count": 166,
   "metadata": {},
   "outputs": [],
   "source": [
    "w_ct=inp['Dir_w_din_count']\n",
    "wt_ct=inp[\"Dir_wt_din_count\"]"
   ]
  },
  {
   "cell_type": "code",
   "execution_count": 167,
   "metadata": {},
   "outputs": [],
   "source": [
    "# payload2_json=json.loads(payload2_json)\n",
    "(payload2_json)['requestBody']['formData']['SubsrciberDINCount']=w_ct\n",
    "(payload2_json)['requestBody']['formData']['SubsrciberCountWithoutDIN']=wt_ct\n",
    "(payload2_json)['requestBody']['formData']['NonIndividualCountWithoutDIN']=\"0\"\n",
    "(payload2_json)['requestBody']['formData']['DirectorSubscriberDINCount']=w_ct\n",
    "(payload2_json)['requestBody']['formData']['DirectorSubscriberWithoutDINCount']=wt_ct\n",
    "(payload2_json)['requestBody']['formData']['DirectorDINCount']=w_ct\n",
    "(payload2_json)['requestBody']['formData']['DirectorCountWithoutDINCount']=wt_ct\n",
    "\n",
    "\n",
    "\n",
    "    "
   ]
  },
  {
   "cell_type": "code",
   "execution_count": 168,
   "metadata": {},
   "outputs": [
    {
     "data": {
      "text/plain": [
       "'{\\r\\n\\t\\t\"error\": \"\",\\r\\n\\t\\t\"message\": \"Data Added Successfully\",\\r\\n\\t\\t\\r\\n\\t\\t\"data\":\\t{\\r\\n\\t\\t\\t\"referenceNumber\":\"1-10390758310\",\\t\\t\\t\\r\\n\\t\\t\\t\"srn\": \"AA4274782\",\\t\\t\\r\\n\\t\\t\\t\"dateTime\":\"\",\\r\\n                    \"integrationId\":\"1-4RUE0FA\",\\r\\n                    \"srnStatus\":\"Resubmission Required\",\\r\\n                     \"formIntegrationId\":\"1-4XBOSNE\"\\r\\n\\t\\t\\t}\\r\\n}'"
      ]
     },
     "execution_count": 168,
     "metadata": {},
     "output_type": "execute_result"
    }
   ],
   "source": [
    "save(payload2_json)"
   ]
  },
  {
   "cell_type": "code",
   "execution_count": 169,
   "metadata": {},
   "outputs": [],
   "source": [
    "# if int(w_ct)>0:\n",
    "#     url = 'https://www.mca.gov.in/content/forms/af/mca-aem-forms/spice-part-b/spice-plus-part-b/jcr:content/guideContainer.af.dermis'\n",
    "\n",
    "#     headers = {\n",
    "#         'Cookie': cookie,\n",
    "#         'Content-Type': 'application/x-www-form-urlencoded; charset=UTF-8',\n",
    "#         'Referer': 'https://www.mca.gov.in/content/mca/global/en/mca/e-filing/incorporation/SpicePartB.html',\n",
    "#         'Origin': 'https://www.mca.gov.in',\n",
    "#        }\n",
    "#     din=inp['Dir_w_DIN'][0]['din']\n",
    "#     data = {\n",
    "#         'functionToExecute': 'invokeFDMOperation',\n",
    "#         'formDataModelId': '/content/dam/formsanddocuments-fdm/mca-aem-forms/spice-part-b/dindetails',\n",
    "#         'input': f'{{\"Model0\": {{\"ID\": \"{din}\"}}}}',\n",
    "#         'operationName': 'POST /MDS/service/director/1.0.0',\n",
    "#         'guideNodePath': '/content/forms/af/mca-aem-forms/spice-part-b/spice-plus-part-b/jcr:content/guideContainer/rootPanel/items/panel_351137353/items/panel_2146734853/items/panel/items/guidenumericbox'\n",
    "#     }\n",
    "\n",
    "#     response = requests.post(url, headers=headers, data=data)\n",
    "\n",
    "#     print(response.text)\n"
   ]
  },
  {
   "cell_type": "code",
   "execution_count": 170,
   "metadata": {},
   "outputs": [],
   "source": [
    "# dir_with_din_details=json.loads(response.text)['data']['directorData'][0]\n",
    "# inp['Dir_w_DIN'][0]['name']=dir_with_din_details['firstName']+' '+dir_with_din_details['middleName']+' '+dir_with_din_details['lastName']\n",
    "# inp['Dir_w_DIN'][0]['nationality']=dir_with_din_details['nationality']\n",
    "# inp['Dir_w_DIN'][0]['firstName']=dir_with_din_details['firstName']\n",
    "# inp['Dir_w_DIN'][0]['middleName']=dir_with_din_details['middleName']\n",
    "# inp['Dir_w_DIN'][0]['Surname']=dir_with_din_details['lastName']\n",
    "# inp['Dir_w_DIN'][0]['emailid']=dir_with_din_details['emailAddress']\n",
    "\n",
    "# payload2_json['requestBody']['formData']['SpicePartBSubscribers']=inp['Dir_w_DIN']\n",
    "# payload2_json['requestBody']['formData'][\"numOfMembers\"]= int(w_ct) + int(wt_ct)\n",
    "# save(payload2_json)"
   ]
  },
  {
   "cell_type": "code",
   "execution_count": 171,
   "metadata": {},
   "outputs": [
    {
     "name": "stdout",
     "output_type": "stream",
     "text": [
      "Encoded PAN data: %7B%22pan%22%3A%22BUTPJ7345F%22%2C%22fName%22%3A%22Kashvi%22%2C%22midName%22%3A%22Dileep%22%2C%22surName%22%3A%22Jain%22%2C%22dob%22%3A%2219%2F10%2F2000%22%2C%22fullName%22%3A%22KashviDileepJain%22%7D\n"
     ]
    }
   ],
   "source": [
    "import urllib.parse\n",
    "formatted_date = datetime.strptime(inp['Dir_wt_DIN1'][0]['dateOfBirth'], '%m/%d/%Y').strftime('%d/%m/%Y')\n",
    "\n",
    "pan_data={'pan': inp['Dir_wt_DIN1'][0]['pan'],\n",
    " 'fName': inp['Dir_wt_DIN1'][0]['firstName'],\n",
    " 'midName': inp['Dir_wt_DIN1'][0]['MiddleName'],\n",
    " 'surName': inp['Dir_wt_DIN1'][0]['Surname'],\n",
    " 'dob': formatted_date,\n",
    " 'fullName': inp['Dir_wt_DIN1'][0]['firstName']+inp['Dir_wt_DIN1'][0]['MiddleName']+inp['Dir_wt_DIN1'][0]['Surname']}\n",
    "# pan_data = inp['Dir_wt_DIN'][0]['pan_data_']\n",
    "\n",
    "pan_data_encoded1 = urllib.parse.quote(json.dumps(pan_data)).replace('%20','').replace('/','%2F')\n",
    "\n",
    "print('Encoded PAN data:', pan_data_encoded1)"
   ]
  },
  {
   "cell_type": "code",
   "execution_count": 172,
   "metadata": {},
   "outputs": [
    {
     "name": "stdout",
     "output_type": "stream",
     "text": [
      "Request successful!\n",
      "Response: {\"resCode\":200,\"resStr\":\"{\\n                    \\\"error\\\":\\\"Error\\\"\\n                    }\"}\n",
      "Request successful!\n",
      "Response: {\"resCode\":500}\n"
     ]
    }
   ],
   "source": [
    "if int(wt_ct)>0:\n",
    "\n",
    "    url = 'https://www.mca.gov.in/bin/commongetapi'\n",
    "\n",
    "    headers = {\n",
    "        'Cookie': cookie,\n",
    "        'Content-Type': 'multipart/form-data',\n",
    "        'Origin': 'https://www.mca.gov.in',\n",
    "        }\n",
    "    pandata1=inp['Dir_wt_DIN'][0]['pan_data_']\n",
    "    payload = MultipartEncoder(\n",
    "        fields={\n",
    "            'data': '{\"id\":'+F\"{pandata1['pan']}\"+'}',\n",
    "            'endpointID': 'dinprefill'\n",
    "        }\n",
    "    )\n",
    "\n",
    "    headers['Content-Type'] = payload.content_type\n",
    "    response = requests.post(url, headers=headers, data=payload)\n",
    "    if response.status_code == 200:\n",
    "        print('Request successful!')\n",
    "        print('Response:', response.text)\n",
    "    else:\n",
    "        print('Request failed. Status code:', response.status_code)\n",
    "        \n",
    "    \n",
    "#VALIDATE PAN DATA\n",
    "url = 'https://www.mca.gov.in/bin/cbdtPanValidate'\n",
    "\n",
    "headers = {\n",
    "    'Cookie': cookie,\n",
    "    'Content-Type': 'application/x-www-form-urlencoded; charset=UTF-8',\n",
    "    'Origin': 'https://www.mca.gov.in',\n",
    "    }\n",
    "data=f'panData={pan_data_encoded1}'\n",
    "response = requests.post(url, headers=headers, data=data)\n",
    "if response.status_code == 200:\n",
    "    print('Request successful!')\n",
    "    print('Response:', response.text)\n",
    "else:\n",
    "    print('Request failed. Status code:', response.status_code)\n",
    "\n"
   ]
  },
  {
   "cell_type": "code",
   "execution_count": 173,
   "metadata": {},
   "outputs": [
    {
     "name": "stdout",
     "output_type": "stream",
     "text": [
      "File uploaded successfully\n",
      "{\"attachmentLabel\":\"SpiceBidentityPro7B\",\"attachmentCategory\":\"Attachment\",\"activityFileName\":\"BUTPJ7345F_Kashvi_Aadhar.pdf\",\"activityFileSrcPath\":\"178360384\",\"activityFileSrcType\":\"I\",\"activityFileExt\":\"pdf\",\"activityFileSize\":\"146699\",\"attachmentDMSId\":\"362798057\",\"totalNoOfPages\":\"2\",\"activityFileDate\":\"09/05/2023\",\"publicDocument\":\"Y\",\"activityComments\":\"178360384:SpiceBidentityPro7B:Document added successfully.\",\"folderName\":\"\",\"folderId\":\"178360384\",\"version\":\"\",\"addedBy\":\"Fo User\"}\n"
     ]
    }
   ],
   "source": [
    "\n",
    "url = 'https://www.mca.gov.in/bin/mca/dms/addservice'\n",
    "file_path = '/home/pratik/Downloads/ln spice/Kashvi_Aadhar.pdf'\n",
    "file_name3=f\"{inp['Dir_wt_DIN'][0]['pan_data_']['pan']}_Kashvi_Aadhar.pdf\"\n",
    "headers = {\n",
    "    'Cookie': cookie,\n",
    "    'Origin': 'https://www.mca.gov.in',\n",
    "    }\n",
    "with open(file_path, 'rb') as file:\n",
    "    payload = {\n",
    "        'file': (file_name3, file, 'application/pdf'),\n",
    "        'folder': '',\n",
    "        'filemetadata': '{\"form\":\"SPICE + Part B\",\"srn\":\"\",\"documentType\":\"Attachment\",\"module\":\"SPICE + Part B\",\"userid\":\"SPICE + Part B\",\"applicationId\":\"\",\"attachmentCategory\":\"pdf\",\"attachmentLabel\":\"SpiceBidentityPro7B\"}'\n",
    "    }\n",
    "    response = requests.post(url, headers=headers, files=payload)\n",
    "if response.status_code == 200:\n",
    "    print('File uploaded successfully')\n",
    "    print(response.text)\n",
    "else:\n",
    "    print('Failed to upload the file')"
   ]
  },
  {
   "cell_type": "code",
   "execution_count": 174,
   "metadata": {},
   "outputs": [],
   "source": [
    "att_resp3=json.loads(response.text)\n"
   ]
  },
  {
   "cell_type": "code",
   "execution_count": 175,
   "metadata": {},
   "outputs": [
    {
     "name": "stdout",
     "output_type": "stream",
     "text": [
      "File uploaded successfully\n",
      "{\"attachmentLabel\":\"SpiceBProofOfResi7B\",\"attachmentCategory\":\"Attachment\",\"activityFileName\":\"BUTPJ7345F_Kashvi_bank_statement.pdf\",\"activityFileSrcPath\":\"178360384\",\"activityFileSrcType\":\"I\",\"activityFileExt\":\"pdf\",\"activityFileSize\":\"65384\",\"attachmentDMSId\":\"362798070\",\"totalNoOfPages\":\"14\",\"activityFileDate\":\"09/05/2023\",\"publicDocument\":\"Y\",\"activityComments\":\"178360384:SpiceBProofOfResi7B:Document added successfully.\",\"folderName\":\"\",\"folderId\":\"178360384\",\"version\":\"\",\"addedBy\":\"Fo User\"}\n"
     ]
    }
   ],
   "source": [
    "url = 'https://www.mca.gov.in/bin/mca/dms/addservice'\n",
    "file_path = '/home/pratik/Downloads/ln spice/Kashvi_bank_statement.pdf'\n",
    "file_name4=f\"{inp['Dir_wt_DIN'][0]['pan_data_']['pan']}_Kashvi_bank_statement.pdf\"\n",
    "\n",
    "headers = {\n",
    "    'Cookie': cookie,\n",
    "    'Origin': 'https://www.mca.gov.in',\n",
    "    }\n",
    "with open(file_path, 'rb') as file:\n",
    "    payload = {\n",
    "        'file': (file_name4, file, 'application/pdf'),\n",
    "        'folder': '',\n",
    "        'filemetadata': '{\"form\":\"SPICE + Part B\",\"srn\":\"\",\"documentType\":\"Attachment\",\"module\":\"SPICE + Part B\",\"userid\":\"SPICE + Part B\",\"applicationId\":\"\",\"attachmentCategory\":\"pdf\",\"attachmentLabel\":\"SpiceBProofOfResi7B\"}'\n",
    "    }\n",
    "    response = requests.post(url, headers=headers, files=payload)\n",
    "if response.status_code == 200:\n",
    "    print('File uploaded successfully')\n",
    "    print(response.text)\n",
    "else:\n",
    "    print('Failed to upload the file')"
   ]
  },
  {
   "cell_type": "code",
   "execution_count": 176,
   "metadata": {},
   "outputs": [],
   "source": [
    "att_resp4=json.loads(response.text)"
   ]
  },
  {
   "cell_type": "code",
   "execution_count": 177,
   "metadata": {},
   "outputs": [
    {
     "name": "stdout",
     "output_type": "stream",
     "text": [
      "Encoded PAN data: %7B%22pan%22%3A%22NLRPS2411C%22%2C%22fName%22%3A%22BIPUL%22%2C%22midName%22%3A%22KUMAR%22%2C%22surName%22%3A%22SINGH%22%2C%22dob%22%3A%2218%2F09%2F2002%22%2C%22fullName%22%3A%22BIPULKUMARSINGH%22%7D\n"
     ]
    }
   ],
   "source": [
    "import urllib.parse\n",
    "formatted_date = datetime.strptime(inp['Dir_wt_DIN1'][1]['dateOfBirth'], '%m/%d/%Y').strftime('%d/%m/%Y')\n",
    "\n",
    "pan_data={'pan': inp['Dir_wt_DIN1'][1]['pan'],\n",
    " 'fName': inp['Dir_wt_DIN1'][1]['firstName'],\n",
    " 'midName': inp['Dir_wt_DIN1'][1]['MiddleName'],\n",
    " 'surName': inp['Dir_wt_DIN1'][1]['Surname'],\n",
    " 'dob': formatted_date,\n",
    " 'fullName': inp['Dir_wt_DIN1'][1]['firstName']+inp['Dir_wt_DIN1'][1]['MiddleName']+inp['Dir_wt_DIN1'][1]['Surname']}\n",
    "# pan_data = inp['Dir_wt_DIN'][0]['pan_data_']\n",
    "\n",
    "pan_data_encoded2 = urllib.parse.quote(json.dumps(pan_data)).replace('%20','').replace('/','%2F')\n",
    "\n",
    "print('Encoded PAN data:', pan_data_encoded2)"
   ]
  },
  {
   "cell_type": "code",
   "execution_count": 178,
   "metadata": {},
   "outputs": [
    {
     "name": "stdout",
     "output_type": "stream",
     "text": [
      "Request successful!\n",
      "Response: {\"resCode\":200,\"resStr\":\"{\\n                    \\\"error\\\":\\\"Error\\\"\\n                    }\"}\n",
      "Request successful!\n",
      "Response: {\"resCode\":500}\n"
     ]
    }
   ],
   "source": [
    "if int(wt_ct)>0:\n",
    "\n",
    "    url = 'https://www.mca.gov.in/bin/commongetapi'\n",
    "\n",
    "    headers = {\n",
    "        'Cookie': cookie,\n",
    "        'Content-Type': 'multipart/form-data',\n",
    "        'Origin': 'https://www.mca.gov.in',\n",
    "        }\n",
    "    pandata2=inp['Dir_wt_DIN'][1]['pan_data_']\n",
    "    payload = MultipartEncoder(\n",
    "        fields={\n",
    "            'data': '{\"id\":'+F\"{pandata2['pan']}\"+'}',\n",
    "            'endpointID': 'dinprefill'\n",
    "        }\n",
    "    )\n",
    "\n",
    "    headers['Content-Type'] = payload.content_type\n",
    "    response = requests.post(url, headers=headers, data=payload)\n",
    "    if response.status_code == 200:\n",
    "        print('Request successful!')\n",
    "        print('Response:', response.text)\n",
    "    else:\n",
    "        print('Request failed. Status code:', response.status_code)\n",
    "        \n",
    "    \n",
    "#VALIDATE PAN DATA\n",
    "url = 'https://www.mca.gov.in/bin/cbdtPanValidate'\n",
    "\n",
    "headers = {\n",
    "    'Cookie': cookie,\n",
    "    'Content-Type': 'application/x-www-form-urlencoded; charset=UTF-8',\n",
    "    'Origin': 'https://www.mca.gov.in',\n",
    "    }\n",
    "data=f'panData={pan_data_encoded2}'\n",
    "response = requests.post(url, headers=headers, data=data)\n",
    "if response.status_code == 200:\n",
    "    print('Request successful!')\n",
    "    print('Response:', response.text)\n",
    "else:\n",
    "    print('Request failed. Status code:', response.status_code)\n",
    "\n"
   ]
  },
  {
   "cell_type": "code",
   "execution_count": 179,
   "metadata": {},
   "outputs": [
    {
     "name": "stdout",
     "output_type": "stream",
     "text": [
      "File uploaded successfully\n",
      "{\"attachmentLabel\":\"SpiceBidentityPro7B\",\"attachmentCategory\":\"Attachment\",\"activityFileName\":\"NLRPS2411C_Bipul_Aadhar.pdf\",\"activityFileSrcPath\":\"178360384\",\"activityFileSrcType\":\"I\",\"activityFileExt\":\"pdf\",\"activityFileSize\":\"694551\",\"attachmentDMSId\":\"362798147\",\"totalNoOfPages\":\"2\",\"activityFileDate\":\"09/05/2023\",\"publicDocument\":\"Y\",\"activityComments\":\"178360384:SpiceBidentityPro7B:Document added successfully.\",\"folderName\":\"\",\"folderId\":\"178360384\",\"version\":\"\",\"addedBy\":\"Fo User\"}\n"
     ]
    }
   ],
   "source": [
    "\n",
    "url = 'https://www.mca.gov.in/bin/mca/dms/addservice'\n",
    "file_path = '/home/pratik/Downloads/ln spice/Bipul_Aadhar.pdf'\n",
    "file_name5=f\"{inp['Dir_wt_DIN'][1]['pan_data_']['pan']}_Bipul_Aadhar.pdf\"\n",
    "headers = {\n",
    "    'Cookie': cookie,\n",
    "    'Origin': 'https://www.mca.gov.in',\n",
    "    }\n",
    "with open(file_path, 'rb') as file:\n",
    "    payload = {\n",
    "        'file': (file_name5, file, 'application/pdf'),\n",
    "        'folder': '',\n",
    "        'filemetadata': '{\"form\":\"SPICE + Part B\",\"srn\":\"\",\"documentType\":\"Attachment\",\"module\":\"SPICE + Part B\",\"userid\":\"SPICE + Part B\",\"applicationId\":\"\",\"attachmentCategory\":\"pdf\",\"attachmentLabel\":\"SpiceBidentityPro7B\"}'\n",
    "    }\n",
    "    response = requests.post(url, headers=headers, files=payload)\n",
    "if response.status_code == 200:\n",
    "    print('File uploaded successfully')\n",
    "    print(response.text)\n",
    "else:\n",
    "    print('Failed to upload the file')"
   ]
  },
  {
   "cell_type": "code",
   "execution_count": 180,
   "metadata": {},
   "outputs": [],
   "source": [
    "att_resp5=json.loads(response.text)\n"
   ]
  },
  {
   "cell_type": "code",
   "execution_count": 181,
   "metadata": {},
   "outputs": [
    {
     "name": "stdout",
     "output_type": "stream",
     "text": [
      "File uploaded successfully\n",
      "{\"attachmentLabel\":\"SpiceBProofOfResi7B\",\"attachmentCategory\":\"Attachment\",\"activityFileName\":\"NLRPS2411C_Bipul_bank_statement.pdf\",\"activityFileSrcPath\":\"178360384\",\"activityFileSrcType\":\"I\",\"activityFileExt\":\"pdf\",\"activityFileSize\":\"114182\",\"attachmentDMSId\":\"362798162\",\"totalNoOfPages\":\"3\",\"activityFileDate\":\"09/05/2023\",\"publicDocument\":\"Y\",\"activityComments\":\"178360384:SpiceBProofOfResi7B:Document added successfully.\",\"folderName\":\"\",\"folderId\":\"178360384\",\"version\":\"\",\"addedBy\":\"Fo User\"}\n"
     ]
    }
   ],
   "source": [
    "url = 'https://www.mca.gov.in/bin/mca/dms/addservice'\n",
    "file_path = '/home/pratik/Downloads/ln spice/Bipul_bank_statement.pdf'\n",
    "file_name6=f\"{inp['Dir_wt_DIN'][1]['pan_data_']['pan']}_Bipul_bank_statement.pdf\"\n",
    "\n",
    "headers = {\n",
    "    'Cookie': cookie,\n",
    "    'Origin': 'https://www.mca.gov.in',\n",
    "    }\n",
    "with open(file_path, 'rb') as file:\n",
    "    payload = {\n",
    "        'file': (file_name6, file, 'application/pdf'),\n",
    "        'folder': '',\n",
    "        'filemetadata': '{\"form\":\"SPICE + Part B\",\"srn\":\"\",\"documentType\":\"Attachment\",\"module\":\"SPICE + Part B\",\"userid\":\"SPICE + Part B\",\"applicationId\":\"\",\"attachmentCategory\":\"pdf\",\"attachmentLabel\":\"SpiceBProofOfResi7B\"}'\n",
    "    }\n",
    "    response = requests.post(url, headers=headers, files=payload)\n",
    "if response.status_code == 200:\n",
    "    print('File uploaded successfully')\n",
    "    print(response.text)\n",
    "else:\n",
    "    print('Failed to upload the file')"
   ]
  },
  {
   "cell_type": "code",
   "execution_count": 182,
   "metadata": {},
   "outputs": [],
   "source": [
    "att_resp6=json.loads(response.text)\n"
   ]
  },
  {
   "cell_type": "code",
   "execution_count": 183,
   "metadata": {},
   "outputs": [],
   "source": [
    "payload3_json=(payload2_json)"
   ]
  },
  {
   "cell_type": "code",
   "execution_count": 184,
   "metadata": {},
   "outputs": [],
   "source": [
    "payload3_json['requestBody']['formAttachment'] = [\n",
    "    att_resp1,\n",
    "    att_resp2,\n",
    "    att_resp3,\n",
    "    att_resp4,\n",
    "    att_resp5,\n",
    "    att_resp6\n",
    "]\n"
   ]
  },
  {
   "cell_type": "code",
   "execution_count": 185,
   "metadata": {},
   "outputs": [],
   "source": [
    "payload3_json['requestBody']['formData']['numOfMembers']='2'\n",
    "payload3_json['requestBody']['formData']['SpicePartBSubscribers']=inp['Dir_wt_DIN1']\n"
   ]
  },
  {
   "cell_type": "code",
   "execution_count": 186,
   "metadata": {},
   "outputs": [
    {
     "data": {
      "text/plain": [
       "[{'category': 'Directors',\n",
       "  'SubscriberType': 'Directors Not Having DIN',\n",
       "  'SpicePartBSubscribersPermAddress': {'addressType': 'Permanent Address'},\n",
       "  'SpicePartBSubscribersPresAddress': {'addressType': 'Present Address'},\n",
       "  'SpicePartBSubsDeclaration': [{'shareholdingPercentage': '0'}]}]"
      ]
     },
     "execution_count": 186,
     "metadata": {},
     "output_type": "execute_result"
    }
   ],
   "source": [
    "payload3_json['requestBody']['formData'].pop('SpicePartBINDVSubscribersHavingDin',None)\n",
    "payload3_json['requestBody']['formData'].pop('SpicePartBINDVSubscribersNotHavingDin',None)\n",
    "payload3_json['requestBody']['formData'].pop('SpicePartBSubscribersHavingDin',None)\n",
    "payload3_json['requestBody']['formData'].pop('SpicePartBSubscribersNotHavingDin',None)\n",
    "payload3_json['requestBody']['formData'].pop('SpicePartBDirectorsHavingDin',None)\n",
    "payload3_json['requestBody']['formData'].pop('SpicePartBDirectorsNotHavingDin',None)"
   ]
  },
  {
   "cell_type": "code",
   "execution_count": 187,
   "metadata": {},
   "outputs": [],
   "source": [
    "payload3_json['requestBody']['formData']['SpicePartBINDVSubscribers']=[]"
   ]
  },
  {
   "cell_type": "code",
   "execution_count": 188,
   "metadata": {},
   "outputs": [
    {
     "data": {
      "text/plain": [
       "'{\\r\\n\\t\\t\"error\": \"\",\\r\\n\\t\\t\"message\": \"Data Added Successfully\",\\r\\n\\t\\t\\r\\n\\t\\t\"data\":\\t{\\r\\n\\t\\t\\t\"referenceNumber\":\"1-10390758310\",\\t\\t\\t\\r\\n\\t\\t\\t\"srn\": \"AA4274782\",\\t\\t\\r\\n\\t\\t\\t\"dateTime\":\"\",\\r\\n                    \"integrationId\":\"1-4RUE0FA\",\\r\\n                    \"srnStatus\":\"Resubmission Required\",\\r\\n                     \"formIntegrationId\":\"1-4XBOSNE\"\\r\\n\\t\\t\\t}\\r\\n}'"
      ]
     },
     "execution_count": 188,
     "metadata": {},
     "output_type": "execute_result"
    }
   ],
   "source": [
    "save(payload3_json)"
   ]
  },
  {
   "cell_type": "code",
   "execution_count": 189,
   "metadata": {},
   "outputs": [],
   "source": [
    "payload4_json=payload3_json"
   ]
  },
  {
   "cell_type": "code",
   "execution_count": 190,
   "metadata": {},
   "outputs": [],
   "source": [
    "payload4_json['requestBody']['formData']['opcDetails']={'stampDuty': {'state_ut': 'Karnataka',\n",
    "  'stampDutyElectronicallyPaid': 'Yes',\n",
    "  'stampDutyToBePaidDetails': {'amountForm': 20,\n",
    "   'amountMOA': 1000,\n",
    "   'amountAOA': 1000}}}"
   ]
  },
  {
   "cell_type": "code",
   "execution_count": 191,
   "metadata": {},
   "outputs": [],
   "source": [
    "payload4_json['requestBody']['formData']['formAttachment']=payload4_json['requestBody']['formAttachment']"
   ]
  },
  {
   "cell_type": "code",
   "execution_count": 192,
   "metadata": {},
   "outputs": [
    {
     "data": {
      "text/plain": [
       "'{\\r\\n\\t\\t\"error\": \"\",\\r\\n\\t\\t\"message\": \"Data Added Successfully\",\\r\\n\\t\\t\\r\\n\\t\\t\"data\":\\t{\\r\\n\\t\\t\\t\"referenceNumber\":\"1-10390758310\",\\t\\t\\t\\r\\n\\t\\t\\t\"srn\": \"AA4274782\",\\t\\t\\r\\n\\t\\t\\t\"dateTime\":\"\",\\r\\n                    \"integrationId\":\"1-4RUE0FA\",\\r\\n                    \"srnStatus\":\"Resubmission Required\",\\r\\n                     \"formIntegrationId\":\"1-4XBOSNE\"\\r\\n\\t\\t\\t}\\r\\n}'"
      ]
     },
     "execution_count": 192,
     "metadata": {},
     "output_type": "execute_result"
    }
   ],
   "source": [
    "save(payload4_json)"
   ]
  },
  {
   "cell_type": "code",
   "execution_count": 193,
   "metadata": {},
   "outputs": [
    {
     "name": "stdout",
     "output_type": "stream",
     "text": [
      "Request successful!\n",
      "Response text:\n",
      "{\"resCode\":200,\"resStr\":\"{\\n        \\t\\t\\n        \\t\\t\\\"message\\\":\\\"Data fetched Successfully\\\",\\n        \\t\\t\\\"data\\\":{\\\"is_valid\\\":1}\\n        \\t}\"}\n"
     ]
    }
   ],
   "source": [
    "\n",
    "url = \"https://www.mca.gov.in/bin/fillip/fillipAoCode\"\n",
    "pan_params = {\n",
    "    \"AO_NO\": \"2\",\n",
    "    \"AO_CODE\": \"P\"+\"DLC\",\n",
    "    \"RANGE_CODE\": \"502\",\n",
    "    \"AO_TYPE\": \"WX\"\n",
    "}\n",
    "\n",
    "headers = {\n",
    "    \"Cookie\": cookie}\n",
    "\n",
    "response = requests.get(url, params=pan_params, headers=headers)\n",
    "\n",
    "# Check if the request was successful (HTTP status code 200)\n",
    "if response.status_code == 200:\n",
    "    print(\"Request successful!\")\n",
    "    print(\"Response text:\")\n",
    "    print(response.text)\n",
    "else:\n",
    "    print(f\"Request failed with status code: {response.status_code}\")\n"
   ]
  },
  {
   "cell_type": "code",
   "execution_count": 194,
   "metadata": {},
   "outputs": [],
   "source": [
    "pan_valid=json.loads(json.loads(response.text)['resStr'])['data']['is_valid']"
   ]
  },
  {
   "cell_type": "code",
   "execution_count": 195,
   "metadata": {},
   "outputs": [],
   "source": [
    "tan_params = {\n",
    "    \"AO_NO\": \"1\",\n",
    "    \"AO_CODE\": \"T\"+\"KAR\",\n",
    "    \"RANGE_CODE\": \"181\",\n",
    "    \"AO_TYPE\": \"WT\"\n",
    "}\n",
    "response = requests.get(url, params=tan_params, headers=headers)"
   ]
  },
  {
   "cell_type": "code",
   "execution_count": 196,
   "metadata": {},
   "outputs": [],
   "source": [
    "payload5_json=payload4_json"
   ]
  },
  {
   "cell_type": "code",
   "execution_count": 197,
   "metadata": {},
   "outputs": [],
   "source": [
    "payload5_json['requestBody']['formData']['panTanDetails']={'PANareaCode': 'DLC',\n",
    " 'PANaoType': 'WX',\n",
    " 'PANrangeCode': '502',\n",
    " 'PANaoNumber': '2',\n",
    " 'TANareaCode': 'KAR',\n",
    " 'TANaoType': 'WT',\n",
    " 'TANrangeCode': '181',\n",
    " 'TANaoNumber': '1',\n",
    " 'incomeFromBusinessProfession': 'Y',\n",
    " 'businessProfessioncode': '20'}\n"
   ]
  },
  {
   "cell_type": "code",
   "execution_count": 198,
   "metadata": {},
   "outputs": [
    {
     "data": {
      "text/plain": [
       "'{\\r\\n\\t\\t\"error\": \"\",\\r\\n\\t\\t\"message\": \"Data Added Successfully\",\\r\\n\\t\\t\\r\\n\\t\\t\"data\":\\t{\\r\\n\\t\\t\\t\"referenceNumber\":\"1-10390758310\",\\t\\t\\t\\r\\n\\t\\t\\t\"srn\": \"AA4274782\",\\t\\t\\r\\n\\t\\t\\t\"dateTime\":\"\",\\r\\n                    \"integrationId\":\"1-4RUE0FA\",\\r\\n                    \"srnStatus\":\"Resubmission Required\",\\r\\n                     \"formIntegrationId\":\"1-4XBOSNE\"\\r\\n\\t\\t\\t}\\r\\n}'"
      ]
     },
     "execution_count": 198,
     "metadata": {},
     "output_type": "execute_result"
    }
   ],
   "source": [
    "save(payload5_json)"
   ]
  },
  {
   "cell_type": "code",
   "execution_count": 199,
   "metadata": {},
   "outputs": [],
   "source": [
    "payload6_json=payload5_json"
   ]
  },
  {
   "cell_type": "code",
   "execution_count": 200,
   "metadata": {},
   "outputs": [],
   "source": [
    "payload6_json['requestBody']['formData']['directorDeclaration']={\n",
    "#ENTER MAIN DIRECTOR NAME HERE\n",
    " 'input1': 'kashvi Dileep Jain',\n",
    " 'declaration1': 'Y',\n",
    " 'declaration2': 'Y',\n",
    " 'declaration3': 'Y',\n",
    " 'declaration4': 'Y',\n",
    " 'declaration5': 'Y',\n",
    " 'declaration6': 'Y',                                                    \n",
    " 'declaration7': 'Y',\n",
    " 'declaration8': 'Y',\n",
    " 'declaration9': 'Y',\n",
    " 'declaration10': 'Y',\n",
    " 'declaration11': 'Y',\n",
    " 'declaration12': 'Y',\n",
    " 'declaration13': 'Y',\n",
    " 'input2': 'SRIKANTH REDDY',\n",
    " 'dropdown1': 'a',\n",
    " 'dropdown2': 'Chartered Accountant',\n",
    " 'membershipNumber_declaration': '271843',\n",
    " 'practiceNumber_declaration': 'FRN026299S',\n",
    " #ENTER MAIN DIRECTOR PAN\n",
    " 'dinPan': 'BUTPJ7345F',\n",
    " 'name': 'SRIKANTH REDDY',\n",
    " 'institute': 'The Institute of Chartered Accountant of India',\n",
    " 'OfficePlace': '171, 8th cross, 7th Main Rd, 2nd Block, Jayanagar, Bengaluru, Karnataka 560011',\n",
    " 'LegalProffesion': 'Chartered Accountant',\n",
    " 'associate_Fellow': 'Associate',\n",
    " 'membershipNumber': '271843',\n",
    " 'certificateofPracticeNumber': 'FRN026299S'}"
   ]
  },
  {
   "cell_type": "code",
   "execution_count": 201,
   "metadata": {},
   "outputs": [
    {
     "data": {
      "text/plain": [
       "'{\\r\\n\\t\\t\"error\": \"\",\\r\\n\\t\\t\"message\": \"Data Added Successfully\",\\r\\n\\t\\t\\r\\n\\t\\t\"data\":\\t{\\r\\n\\t\\t\\t\"referenceNumber\":\"1-10390758310\",\\t\\t\\t\\r\\n\\t\\t\\t\"srn\": \"AA4274782\",\\t\\t\\r\\n\\t\\t\\t\"dateTime\":\"\",\\r\\n                    \"integrationId\":\"1-4RUE0FA\",\\r\\n                    \"srnStatus\":\"Resubmission Required\",\\r\\n                     \"formIntegrationId\":\"1-4XBOSNE\"\\r\\n\\t\\t\\t}\\r\\n}'"
      ]
     },
     "execution_count": 201,
     "metadata": {},
     "output_type": "execute_result"
    }
   ],
   "source": [
    "save(payload6_json)"
   ]
  },
  {
   "cell_type": "code",
   "execution_count": 118,
   "metadata": {},
   "outputs": [],
   "source": [
    "payload7_json=payload6_json"
   ]
  },
  {
   "cell_type": "code",
   "execution_count": 119,
   "metadata": {},
   "outputs": [],
   "source": [
    "payload7_json['requestBody']['formData']['directorDeclaration']['pan']='DLQPR2890H'\n",
    "payload7_json['requestBody']['eMOAFlag']='Y'\n",
    "payload7_json['requestBody']['inc9Flag']='Y'\n",
    "payload7_json['requestBody']['eAOAFlag']='Y'\n",
    "payload7_json['requestBody']['formData']['SpiceBDeclarationDINPANDetails']=[]"
   ]
  },
  {
   "cell_type": "code",
   "execution_count": 120,
   "metadata": {},
   "outputs": [
    {
     "data": {
      "text/plain": [
       "'{\\r\\n\\t\\t\"error\": \"\",\\r\\n\\t\\t\"message\": \"Data Added Successfully\",\\r\\n\\t\\t\\r\\n\\t\\t\"data\":\\t{\\r\\n\\t\\t\\t\"referenceNumber\":\"1-10390758310\",\\t\\t\\t\\r\\n\\t\\t\\t\"srn\": \"AA4274782\",\\t\\t\\r\\n\\t\\t\\t\"dateTime\":\"\",\\r\\n                    \"integrationId\":\"1-4RUE0FA\",\\r\\n                    \"srnStatus\":\"Resubmission Required\",\\r\\n                     \"formIntegrationId\":\"1-4XBOSNE\"\\r\\n\\t\\t\\t}\\r\\n}'"
      ]
     },
     "execution_count": 120,
     "metadata": {},
     "output_type": "execute_result"
    }
   ],
   "source": [
    "save(payload7_json)"
   ]
  },
  {
   "cell_type": "code",
   "execution_count": 121,
   "metadata": {},
   "outputs": [],
   "source": [
    "payload8_json=payload7_json\n",
    "payload8_json['requestBody']['comments']=''"
   ]
  },
  {
   "cell_type": "code",
   "execution_count": 122,
   "metadata": {},
   "outputs": [
    {
     "name": "stdout",
     "output_type": "stream",
     "text": [
      "{\n",
      "\t\t\t\t\t                       \n",
      "\t\t\t\t\t                    \t\"validationResponse\": {\"SubmissionRestricted\":\"N\",\"validationData\":[{\"alertType\":\"\",\"alertDescription\":\"\",\"alertCategory\":\"\"},{\"alertType\":\"\",\"alertDescription\":\"\",\"alertCategory\":\"\"},{\"alertType\":\"\",\"alertDescription\":\"\",\"alertCategory\":\"\"},{\"alertType\":\"\",\"alertDescription\":\"\",\"alertCategory\":\"\"},{\"alertType\":\"\",\"alertDescription\":\"\",\"alertCategory\":\"\"},{\"alertType\":\"\",\"alertDescription\":\"\",\"alertCategory\":\"\"},{\"alertType\":\"\",\"alertDescription\":\"\",\"alertCategory\":\"\"},{\"alertType\":\"\",\"alertDescription\":\"\",\"alertCategory\":\"\"},{\"alertType\":\"\",\"alertDescription\":\"\",\"alertCategory\":\"\"},{\"alertType\":\"\",\"alertDescription\":\"\",\"alertCategory\":\"\"},{\"alertType\":\"\",\"alertDescription\":\"\",\"alertCategory\":\"\"},{\"alertType\":\"\",\"alertDescription\":\"\",\"alertCategory\":\"\"},{\"alertType\":\"\",\"alertDescription\":\"\",\"alertCategory\":\"\"},{\"alertType\":\"\",\"alertDescription\":\"\",\"alertCategory\":\"\"},{\"alertType\":\"\",\"alertDescription\":\"\",\"alertCategory\":\"\"},{\"alertType\":\"\",\"alertDescription\":\"\",\"alertCategory\":\"\"},{\"alertType\":\"\",\"alertDescription\":\"\",\"alertCategory\":\"\"},{\"alertType\":\"\",\"alertDescription\":\"\",\"alertCategory\":\"\"},{\"alertType\":\"\",\"alertDescription\":\"\",\"alertCategory\":\"\"},{\"alertType\":\"\",\"alertDescription\":\"\",\"alertCategory\":\"\"},{\"alertType\":\"\",\"alertDescription\":\"\",\"alertCategory\":\"\"},{\"alertType\":\"\",\"alertDescription\":\"\",\"alertCategory\":\"\"},{\"alertType\":\"\",\"alertDescription\":\"\",\"alertCategory\":\"\"},{\"alertType\":\"\",\"alertDescription\":\"\",\"alertCategory\":\"\"},{\"alertType\":\"\",\"alertDescription\":\"\",\"alertCategory\":\"\"},{\"alertType\":\"\",\"alertDescription\":\"\",\"alertCategory\":\"\"},{\"alertType\":\"\",\"alertDescription\":\"\",\"alertCategory\":\"\"},{\"alertType\":\"\",\"alertDescription\":\"\",\"alertCategory\":\"\"},{\"alertType\":\"\",\"alertDescription\":\"\",\"alertCategory\":\"\"},{\"alertType\":\"\",\"alertDescription\":\"\",\"alertCategory\":\"\"}]},\n",
      "\t\t\t\t\t                    \t\"error\":\"\",\n",
      "\t\t\t\t\t                    \t\"message\":\"Data Added Successfully\",\n",
      "\t\t\t\t\t                    \t\"data\":{\"referenceNumber\":\"1-10390758310\",\"srn\":\"AA4274782\",\"dateTime\":\"08/21/2023 15:05:59\",\"integrationId\":\"1-4RUE0FA\",\"srnStatus\":\"Resubmission Required\",\"formIntegrationId\":\"1-4XBOSNE\"}\n",
      "\t\t\t\t\t                    \t\n",
      "\t\t\t\t\t                    }\n"
     ]
    }
   ],
   "source": [
    "url = 'https://www.mca.gov.in/bin/mca-gov/SpicePartB_SAVESUBMIT'\n",
    "\n",
    "headers = {\n",
    "    'Cookie':cookie,\n",
    "    'Content-Type': 'multipart/form-data',\n",
    "    'Origin': 'https://www.mca.gov.in',\n",
    "    }\n",
    "\n",
    "multipart_data = MultipartEncoder(fields={\n",
    "    'data': json.dumps(payload8_json),\n",
    "    'action': 'SaveSubmitForm24',  # Updated 'action' field value\n",
    "    'operation': 'Submit',  # Updated 'operation' field value\n",
    "    'serveAction': 'submitForm',  # Updated 'serveAction' field value\n",
    "    'integrationId': '1-DM1ICTest',  # Updated 'integrationId' field value\n",
    "})\n",
    "\n",
    "headers['Content-Type'] = multipart_data.content_type\n",
    "response = requests.post(url, headers=headers, data=multipart_data)\n",
    "\n",
    "print(response.text)"
   ]
  },
  {
   "cell_type": "code",
   "execution_count": 123,
   "metadata": {},
   "outputs": [],
   "source": [
    "unbounddata={\"data\":{'language-translation-radio': 'English',\n",
    " 'saveFlag01': 'N',\n",
    " 'prefillFormFlag': 'N',\n",
    " 'Validate': '0',\n",
    " 'Next': '0',\n",
    " 'sharecategorye1': 'Equity Share',\n",
    " 'correspondenceaddress_MobileNumber': '9108042546',\n",
    " 'saveFlag02': 'N',\n",
    " 'correspondenceaddress_proofOfAddress': {'fileAttachment': '1Ananya_electrical_bill.jpg'},\n",
    " 'correspondenceaddress_copyOfUtilityBills': 'Ananya_electrical_bill.jpg',\n",
    " 'saveFlag03': 'N',\n",
    " 'changeFlag': 'N',\n",
    " 'prefillFlag06': 'N',\n",
    " 'saveFlag6A': 'Y',\n",
    " 'panValidate6A': '0',\n",
    " 'Addresstype6a': 'Present Address',\n",
    " 'saveFlag6B': 'Y',\n",
    " 'panValidate6C': '1',\n",
    " 'saveFlag6C': 'Y',\n",
    " 'prefillFlag07': 'N',\n",
    " 'saveFlag7A': 'Y',\n",
    " 'emailIdBlock7A': 'hnsuma@yahoo.co.in',\n",
    " 'saveFlag7B': 'Y',\n",
    " 'panValidate7B': 1,\n",
    " 'area7b1': 'Chandra Lay Out',\n",
    " 'area7b2': 'Chandra Lay Out',\n",
    " 'saveFlag7C': 'Y',\n",
    " 'saveFlag7D': 'Y',\n",
    " 'panValidate': '1',\n",
    " 'saveFlag08': 'Y',\n",
    " 'saveFlag09': 'N',\n",
    " 'saveFlag10': 'N',\n",
    " 'txt_9PANAreaCode1stChar': 'D',\n",
    " 'txt_9PANAreaCode2ndChar': 'L',\n",
    " 'txt_9PANAreaCode3rdChar': 'C',\n",
    " 'txt_9PANAOType1stChar': 'W',\n",
    " 'txt_9PANAOType2ndChar': 'X',\n",
    " 'txt_9PANRangeCode1stChar': '5',\n",
    " 'txt_9PANRangeCode2ndChar': '0',\n",
    " 'txt_9PANRangeCode3rdChar': '2',\n",
    " 'txt_9PANAONo1stNo': '2',\n",
    " 'txt_9TANAreaCode1stChar': 'K',\n",
    " 'txt_9TANAreaCode2ndChar': 'A',\n",
    " 'txt_9TANAreaCode3rdChar': 'R',\n",
    " 'txt_9TANAOType1stChar': 'W',\n",
    " 'txt_9TANAOType2ndChar': 'T',\n",
    " 'txt_9TANRangeCode1stChar': '1',\n",
    " 'txt_9TANRangeCode2ndChar': '8',\n",
    " 'txt_9TANRangeCode3rdChar': '1',\n",
    " 'txt_9TANAONo1stNo': '1',\n",
    " 'saveFlag11': 'N',\n",
    " 'saveFlag12': 'N',\n",
    " 'radiobutton1659078368655': 'N',\n",
    " 'saveFlag13': 'N',\n",
    " 'prefillFlagEP': 'False',\n",
    " 'Path_for_PDFGeneration': '/content/forms/af/mca-aem-forms/spice-part-b/spice-plus-part-b',\n",
    " 'textbox_994190291657709626152': '11/12/2021',\n",
    " 'textbox_2839656751657709715007': '11/12/2021',\n",
    " 'textbox_21051849601657709790068': '11122021',\n",
    " 'type4a': 'Correspondance Address',\n",
    " 'prefillFlag': 'False'}}"
   ]
  },
  {
   "cell_type": "code",
   "execution_count": 124,
   "metadata": {},
   "outputs": [],
   "source": [
    "unbounddata['data']['correspondenceaddress_MobileNumber']=inp['spiceBpartaddress'][0]['mobile']\n"
   ]
  },
  {
   "cell_type": "code",
   "execution_count": 125,
   "metadata": {},
   "outputs": [],
   "source": [
    "unbounddata['data']['correspondenceaddress_proofOfAddress']['fileAttachment']=f'1{file_name1}'\n",
    "unbounddata['data']['correspondenceaddress_copyOfUtilityBills']=file_name1\n",
    "unbounddata['data']['emailIdBlock7A']=inp['spiceBpartaddress'][0]['companymailid']"
   ]
  },
  {
   "cell_type": "code",
   "execution_count": 408,
   "metadata": {},
   "outputs": [],
   "source": [
    "metadata={'form': 'SPICE + Part B',\n",
    " 'srn': srnNo,\n",
    " 'documentType': 'Form',\n",
    " 'module': 'SPICE + Part B',\n",
    " 'userid': inp['userId'],\n",
    " 'applicationId': ref_no,\n",
    " 'attachmentCategory': 'pdf',\n",
    " 'integrationId': intid,\n",
    " 'formDescription': 'For Spice+PartB',\n",
    " 'formVersion': formVersion,\n",
    " 'formId': '',\n",
    " 'foldername': \"178202502\",\n",
    " 'action': 'uploaddms'}"
   ]
  },
  {
   "cell_type": "code",
   "execution_count": 208,
   "metadata": {},
   "outputs": [],
   "source": [
    "inp1['afSubmissionTime']=datetime.now().strftime(\"%Y%m%d%H%M%S\")\n"
   ]
  },
  {
   "cell_type": "code",
   "execution_count": null,
   "metadata": {},
   "outputs": [],
   "source": []
  },
  {
   "cell_type": "code",
   "execution_count": 210,
   "metadata": {},
   "outputs": [],
   "source": [
    "afBoundData={\"data\":{\"requestBody\":{\"formData\":{\"aoaEntrenched\":\"N\",\"SpicePartBArticles\":[{\"serialnum\":\"1\"}],\"Havingsharecapital\":\"Having Share Capital\",\"totalAuthorizedShareCapital\":\"100000\",\"totalClassifiedAuthorizedShareCapital\":\"100000\",\"totalSubscribedShareCapital\":\"10000\",\"totalUnclassifiedAuthorizedShareCapital\":\"0\",\"equitynumberofClasses\":\"1\",\"spicePartBEquityShare\":[{\"classShare\":\"1\",\"authorizedcapitalsharenumber\":\"1000\",\"subscribedcapitalsharenumber\":\"100\",\"authorizedcapitalnominalamountpershare\":\"100\",\"subscribedcapitalnominalamountpershare\":\"100\",\"authorizedcapitaltotalamount\":\"100000\",\"subscribedcapitaltotalamount\":\"10000\",\"sharecategory\":\"Equity Share\"}],\"preferencenumberofClasses\":\"0\",\"spicePartBPreferenceShare\":[{\"sharecategory\":\"Preference Share\",\"subscribedcapitalsharenumber\":\"0\"}],\"numOfMembers\":\"2\",\"SpicePartBAddress\":[{\"line1\":\"C/O Dilip Kumar Jain 5th\",\"line2\":\"FL Symbiosis Padaki\",\"pincode\":\"560004\",\"addressType\":\"Correspondance Address\",\"coutry\":\"India\",\"area\":\"Basavanagudi\",\"city\":\"Bangalore South\",\"district\":\"Bangalore\",\"state_ut\":\"Karnataka\",\"mobile\":\"9481829401\",\"companymailid\":\"kashvijain19@gmail.com\"}],\"regaddressline1\":\"C/O Dilip Kumar Jain 5th\",\"regaddressline2\":\"FL Symbiosis Padaki\",\"regaddresspincode\":\"560004\",\"regaddresscountry\":\"India\",\"regaddresscity\":\"Bangalore South\",\"regaddressdistrict\":\"Bangalore\",\"regaddressstate_ut\":\"Karnataka\",\"regaddresscompanymailid\":\"kashvijain19@gmail.com\",\"regaddressarea\":\"Basavanagudi\",\"corresAddrSameRegAddr\":\"Y\",\"regaddresslongitude\":\"77.5712\",\"regaddresslatitude\":\"12.9455\",\"rocName\":\"Registrar of Companies, Karnataka\",\"SubsrciberDINCount\":\"0\",\"SubsrciberCountWithoutDIN\":\"2\",\"NonIndividualCountWithoutDIN\":\"0\",\"DirectorSubscriberDINCount\":\"0\",\"DirectorSubscriberWithoutDINCount\":\"2\",\"DirectorDINCount\":\"0\",\"DirectorCountWithoutDINCount\":\"2\",\"spicePartBNonINDVSubscribers\":[{\"nonINDVSubAuthorizedPerson\":{\"nonINDVSubAuthorizedPersonEquityShares\":[{\"sharecategory\":\"Equity Share\"}],\"nonINDVSubAuthorizedPersonPreferenceShares\":[{\"sharecategory\":\"Preference Share\"}]}}],\"SpicePartBINDVSubscribersHavingDin\":[{\"INDVSubscribersEquityShares\":[{\"sharecategory\":\"Equity Share\"}],\"INDVSubscribersPreferenceShares\":[{\"sharecategory\":\"Preference Share\"}]}],\"SpicePartBINDVSubscribersNotHavingDin\":[{\"SpicePartBINDVsubscribersPermAddress\":{\"addressType\":\"Permanent Address\"},\"SpicePartBINDVsubscribersPresAddress\":{\"addressType\":\"Present Address\"},\"INDVSubscribersEquityShares\":[{\"sharecategory\":\"Equity Share\"}],\"INDVSubscribersPreferenceShares\":[{\"sharecategory\":\"Preference Share\"}]}],\"SpicePartBSubscribersHavingDin\":[{\"SubscriberType\":\"Subscriber CUM Director DIN\",\"category\":\"Individual First subscribers cum Directors\",\"SpicePartBSubscribersEquityShares\":[{\"sharecategory\":\"Equity Share\"}],\"SpicePartBSubscribersPreferenceShares\":[{\"sharecategory\":\"Preference Share\"}],\"SpicePartBSubsDeclaration\":[{\"shareholdingPercentage\":\"0\"}]}],\"SpicePartBSubscribersNotHavingDin\":[{\"category\":\"Individual First subscribers cum Directors\",\"SubscriberType\":\"Subscriber CUM Director No DIN\",\"firstName\":\"KASHVI\",\"middleName\":\"DILEEP\",\"Surname\":\"JAIN\",\"fatherFirstName\":\"DILEEP\",\"fatherMiddleName\":\"KUMAR\",\"fatherSurName\":\"JAIN\",\"gender\":\"Female\",\"dateOfBirth\":\"2000-10-19\",\"nationality\":\"India\",\"placeofBirth\":\"Bangalore\",\"citizenOfIndia\":\"Y\",\"residentOfIndia\":\"Y\",\"occupationType\":\"Professional\",\"areaofOccupation\":\"Professional\",\"educationalQualificationothers\":\"Bachelor's degree\",\"pan\":\"BUTPJ7345F\",\"designation\":\"Director\",\"directorCategory\":\"Promoter\",\"whetherNonED\":\"Executive director\",\"MobileNo\":\"09481829401\",\"emailid\":\"kashvijain19@gmail.com\",\"SpicePartBSubscribersPermAddress\":{\"addressType\":\"Permanent Address\",\"line1\":\"Chandra Vilasa 2nd Floor\",\"line2\":\"Chandra Shekar Layout\",\"country\":\"India\",\"pincode\":\"560004\",\"city\":\"Bangalore\",\"district\":\"Bangalore\",\"state_ut\":\"Karnataka\"},\"ResidenseCorespondenceFlag\":\"Y\",\"SpicePartBSubscribersPresAddress\":{\"addressType\":\"Present Address\",\"line1\":\"Chandra Vilasa 2nd Floor\",\"line2\":\"Chandra Shekar Layout\",\"country\":\"India\",\"pincode\":\"560004\",\"city\":\"Bangalore\",\"district\":\"Bangalore\",\"state_ut\":\"Karnataka\",\"yearresidenseduration\":\"22\",\"monthresidenseduration\":\"7\"},\"identityProofDocument\":\"Aadhar Card\",\"identityProofNumber\":\"935902622081\",\"residentialProofDocument\":\"Bank Statement\",\"residentialProofNumber\":\"090656545143\",\"Attachment1\":{\"fileAttachment\":\"BUTPJ7345F_Kashvi_Aadhar.pdf\"},\"Attachment2\":{\"fileAttachment\":\"BUTPJ7345F_Kashvi_bank_statement.pdf\"},\"totalSubscribedShareCapital\":\"5000\",\"equitynumofclasses\":\"1\",\"SpicePartBSubscribersEquityShares\":[{\"sharecategory\":\"Equity Share\",\"classShare\":\"1\",\"subscribedcapitalsharenumber\":\"50\",\"subscribedcapitalnominalamountpershare\":\"100\",\"subscribedcapitaltotalamount\":\"5000\"}],\"SpicePartBSubscribersPreferenceShares\":[{\"sharecategory\":\"Preference Share\"}],\"DirectorInterestedEntitiescount\":\"0\",\"SpicePartBSubsDeclaration\":[],\"inc9DeclarationFlag1\":\"N\"},{\"category\":\"Individual First subscribers cum Directors\",\"SubscriberType\":\"Subscriber CUM Director No DIN\",\"firstName\":\"BIPUL\",\"middleName\":\"KUMAR\",\"Surname\":\"SINGH\",\"fatherFirstName\":\"CHANDRADEEP\",\"fatherSurName\":\"SINGH\",\"gender\":\"Male\",\"dateOfBirth\":\"2002-09-18\",\"nationality\":\"India\",\"placeofBirth\":\"GAYA\",\"citizenOfIndia\":\"Y\",\"residentOfIndia\":\"Y\",\"occupationType\":\"Professional\",\"areaofOccupation\":\"Professional\",\"educationalQualificationothers\":\"Bachelor's degree\",\"pan\":\"NLRPS2411C\",\"designation\":\"Director\",\"directorCategory\":\"Promoter\",\"whetherNonED\":\"Executive director\",\"MobileNo\":\"07975735563\",\"emailid\":\"bipulkumarsingh6690@gmail.com\",\"SpicePartBSubscribersPermAddress\":{\"addressType\":\"Permanent Address\",\"line1\":\"Post-goga gram\",\"line2\":\"mobarakchak wazirganj\",\"country\":\"India\",\"pincode\":\"805131\",\"area\":\"Gaya\",\"city\":\"Nawada\",\"district\":\"Nawada\",\"state_ut\":\"Bihar\"},\"ResidenseCorespondenceFlag\":\"Y\",\"SpicePartBSubscribersPresAddress\":{\"addressType\":\"Present Address\",\"line1\":\"Post-goga gram\",\"line2\":\"mobarakchak wazirganj\",\"country\":\"India\",\"pincode\":\"805131\",\"area\":\"Gaya\",\"city\":\"Nawada\",\"district\":\"Nawada\",\"state_ut\":\"Bihar\",\"yearresidenseduration\":\"19\",\"monthresidenseduration\":\"7\"},\"identityProofDocument\":\"Aadhar Card\",\"identityProofNumber\":\"249166905418\",\"residentialProofDocument\":\"Bank Statement\",\"residentialProofNumber\":\"90656545143\",\"Attachment1\":{\"fileAttachment\":\"NLRPS2411C_Bipul_Aadhar.pdf\"},\"Attachment2\":{\"fileAttachment\":\"NLRPS2411C_Bipul_bank_statement.pdf\"},\"totalSubscribedShareCapital\":\"5000\",\"equitynumofclasses\":\"1\",\"SpicePartBSubscribersEquityShares\":[{\"sharecategory\":\"Equity Share\",\"classShare\":\"1\",\"subscribedcapitalsharenumber\":\"50\",\"subscribedcapitalnominalamountpershare\":\"100\",\"subscribedcapitaltotalamount\":\"5000\"}],\"SpicePartBSubscribersPreferenceShares\":[{\"sharecategory\":\"Preference Share\"}],\"DirectorInterestedEntitiescount\":\"0\",\"SpicePartBSubsDeclaration\":[],\"inc9DeclarationFlag1\":\"N\"}],\"SpicePartBDirectorsHavingDin\":[{\"category\":\"Directors\",\"SubscriberType\":\"Directors Having DIN\",\"SpicePartBSubsDeclaration\":[{\"shareholdingPercentage\":\"0\"}]}],\"SpicePartBDirectorsNotHavingDin\":[{\"category\":\"Directors\",\"SubscriberType\":\"Directors Not Having DIN\",\"SpicePartBSubscribersPermAddress\":{\"addressType\":\"Permanent Address\"},\"SpicePartBSubscribersPresAddress\":{\"addressType\":\"Present Address\"},\"SpicePartBSubsDeclaration\":[{\"shareholdingPercentage\":\"0\"}]}],\"opcDetails\":{\"Permaddress\":[{}],\"Presaddress\":[{}],\"stampDuty\":{\"state_ut\":\"Karnataka\",\"stampDutyElectronicallyPaid\":\"Yes\",\"stampDutyToBePaidDetails\":{\"amountForm\":20,\"amountMOA\":1000,\"amountAOA\":1000}}},\"panTanDetails\":{\"PANareaCode\":\"DLC\",\"PANaoType\":\"WX\",\"PANrangeCode\":\"502\",\"PANaoNumber\":\"2\",\"TANareaCode\":\"KAR\",\"TANaoType\":\"WT\",\"TANrangeCode\":\"181\",\"TANaoNumber\":\"1\",\"incomeFromBusinessProfession\":\"Y\",\"businessProfessioncode\":\"20\"},\"directorDeclaration\":{\"declaration1\":\"Y\",\"declaration2\":\"Y\",\"declaration3\":\"Y\",\"declaration4\":\"Y\",\"declaration5\":\"Y\",\"declaration6\":\"Y\",\"input1\":\"kashvi Dileep Jain\",\"declaration7\":\"Y\",\"declaration8\":\"Y\",\"declaration9\":\"Y\",\"declaration10\":\"Y\",\"declaration11\":\"Y\",\"declaration12\":\"Y\",\"declaration13\":\"Y\",\"input2\":\"SRIKANTH REDDY\",\"dropdown1\":\"a\",\"dropdown2\":\"Chartered Accountant\",\"membershipNumber_declaration\":\"271843\",\"practiceNumber_declaration\":\"FRN026299S\",\"dinPan\":\"BUTPJ7345F\",\"name\":\"SRIKANTH REDDY\",\"institute\":\"The Institute of Chartered Accountant of India\",\"OfficePlace\":\"171, 8th cross, 7th Main Rd, 2nd Block, Jayanagar, Bengaluru, Karnataka 560011\",\"LegalProffesion\":\"Chartered Accountant\",\"associate_Fellow\":\"Associate\",\"membershipNumber\":\"271843\",\"certificateofPracticeNumber\":\"FRN026299S\",\"pan\":\"DLQPR2890H\"},\"SpiceBDeclarationDINPANDetails\":[{}],\"formIntegrationId\":\"1-4XBOSNE\",\"formAttachment\":[{\"attachmentLabel\":\"SpiceBidentityPro7B\",\"attachmentCategory\":\"Attachment\",\"activityFileName\":\"BUTPJ7345F_Kashvi_Aadhar.pdf\",\"activityFileSrcType\":\"I\",\"activityFileExt\":\"pdf\",\"activityFileSize\":\"146699\",\"attachmentDMSId\":\"362798057\",\"totalNoOfPages\":\"2\",\"activityFileDate\":\"09/05/2023 18:55:56\",\"publicDocument\":\"Y\",\"activityComments\":\"178360384:SpiceBidentityPro7B:Document added successfully.\",\"versionNo\":\"0\",\"folderName\":\"\",\"addedBy\":\"Fo User\",\"formName\":\"\",\"folderId\":\"178360384\"},{\"attachmentLabel\":\"SpiceBProofOfResi7B\",\"attachmentCategory\":\"Attachment\",\"activityFileName\":\"BUTPJ7345F_Kashvi_bank_statement.pdf\",\"activityFileSrcType\":\"I\",\"activityFileExt\":\"pdf\",\"activityFileSize\":\"65384\",\"attachmentDMSId\":\"362798070\",\"totalNoOfPages\":\"14\",\"activityFileDate\":\"09/05/2023 18:55:56\",\"publicDocument\":\"Y\",\"activityComments\":\"178360384:SpiceBProofOfResi7B:Document added successfully.\",\"versionNo\":\"0\",\"folderName\":\"\",\"addedBy\":\"Fo User\",\"formName\":\"\",\"folderId\":\"178360384\"},{\"attachmentLabel\":\"SpiceBidentityPro7B\",\"attachmentCategory\":\"Attachment\",\"activityFileName\":\"NLRPS2411C_Bipul_Aadhar.pdf\",\"activityFileSrcType\":\"I\",\"activityFileExt\":\"pdf\",\"activityFileSize\":\"694551\",\"attachmentDMSId\":\"362798147\",\"totalNoOfPages\":\"2\",\"activityFileDate\":\"09/05/2023 18:55:56\",\"publicDocument\":\"Y\",\"activityComments\":\"178360384:SpiceBidentityPro7B:Document added successfully.\",\"versionNo\":\"0\",\"folderName\":\"\",\"addedBy\":\"Fo User\",\"formName\":\"\",\"folderId\":\"178360384\"},{\"attachmentLabel\":\"SpiceBProofOfResi7B\",\"attachmentCategory\":\"Attachment\",\"activityFileName\":\"NLRPS2411C_Bipul_bank_statement.pdf\",\"activityFileSrcType\":\"I\",\"activityFileExt\":\"pdf\",\"activityFileSize\":\"114182\",\"attachmentDMSId\":\"362798162\",\"totalNoOfPages\":\"3\",\"activityFileDate\":\"09/05/2023 18:55:56\",\"publicDocument\":\"Y\",\"activityComments\":\"178360384:SpiceBProofOfResi7B:Document added successfully.\",\"versionNo\":\"0\",\"folderName\":\"\",\"addedBy\":\"Fo User\",\"formName\":\"\",\"folderId\":\"178360384\"},{\"attachmentLabel\":\"SpiceBidentityPro7B\",\"attachmentCategory\":\"Attachment\",\"activityFileName\":\"BUTPJ7345F_Kashvi_Aadhar.pdf\",\"activityFileSrcType\":\"I\",\"activityFileExt\":\"pdf\",\"activityFileSize\":\"146699\",\"attachmentDMSId\":\"362350730\",\"totalNoOfPages\":\"2\",\"activityFileDate\":\"09/05/2023 18:55:56\",\"publicDocument\":\"Y\",\"activityComments\":\"178202502:SpiceBidentityPro7B:Document added successfully.\",\"versionNo\":\"0\",\"folderName\":\"\",\"addedBy\":\"Fo User\",\"formName\":\"\",\"folderId\":\"178202502\"},{\"attachmentLabel\":\"SpiceBProofOfResi7B\",\"attachmentCategory\":\"Attachment\",\"activityFileName\":\"BUTPJ7345F_Kashvi_bank_statement.pdf\",\"activityFileSrcType\":\"I\",\"activityFileExt\":\"pdf\",\"activityFileSize\":\"65384\",\"attachmentDMSId\":\"362350755\",\"totalNoOfPages\":\"14\",\"activityFileDate\":\"09/05/2023 18:55:56\",\"publicDocument\":\"Y\",\"activityComments\":\"178202502:SpiceBProofOfResi7B:Document added successfully.\",\"versionNo\":\"0\",\"folderName\":\"\",\"addedBy\":\"Fo User\",\"formName\":\"\",\"folderId\":\"178202502\"},{\"attachmentLabel\":\"SpiceBidentityPro7B\",\"attachmentCategory\":\"Attachment\",\"activityFileName\":\"NLRPS2411C_Bipul_Aadhar.pdf\",\"activityFileSrcType\":\"I\",\"activityFileExt\":\"pdf\",\"activityFileSize\":\"694551\",\"attachmentDMSId\":\"362350812\",\"totalNoOfPages\":\"2\",\"activityFileDate\":\"09/05/2023 18:55:56\",\"publicDocument\":\"Y\",\"activityComments\":\"178202502:SpiceBidentityPro7B:Document added successfully.\",\"versionNo\":\"0\",\"folderName\":\"\",\"addedBy\":\"Fo User\",\"formName\":\"\",\"folderId\":\"178202502\"},{\"attachmentLabel\":\"SpiceBProofOfResi7B\",\"attachmentCategory\":\"Attachment\",\"activityFileName\":\"NLRPS2411C_Bipul_bank_statement.pdf\",\"activityFileSrcType\":\"I\",\"activityFileExt\":\"pdf\",\"activityFileSize\":\"114182\",\"attachmentDMSId\":\"362350838\",\"totalNoOfPages\":\"3\",\"activityFileDate\":\"09/05/2023 18:55:56\",\"publicDocument\":\"Y\",\"activityComments\":\"178202502:SpiceBProofOfResi7B:Document added successfully.\",\"versionNo\":\"0\",\"folderName\":\"\",\"addedBy\":\"Fo User\",\"formName\":\"\",\"folderId\":\"178202502\"},{\"attachmentLabel\":\"SpiceBidentityPro7B\",\"attachmentCategory\":\"Attachment\",\"activityFileName\":\"BUTPJ7345F_Kashvi_Aadhar.pdf\",\"activityFileSrcType\":\"I\",\"activityFileExt\":\"pdf\",\"activityFileSize\":\"146699\",\"attachmentDMSId\":\"362334106\",\"totalNoOfPages\":\"2\",\"activityFileDate\":\"09/05/2023 18:55:56\",\"publicDocument\":\"Y\",\"activityComments\":\"178192677:SpiceBidentityPro7B:Document added successfully.\",\"versionNo\":\"0\",\"folderName\":\"\",\"addedBy\":\"Fo User\",\"formName\":\"\",\"folderId\":\"178192677\"},{\"attachmentLabel\":\"SpiceBProofOfResi7B\",\"attachmentCategory\":\"Attachment\",\"activityFileName\":\"BUTPJ7345F_Kashvi_bank_statement.pdf\",\"activityFileSrcType\":\"I\",\"activityFileExt\":\"pdf\",\"activityFileSize\":\"65384\",\"attachmentDMSId\":\"362335826\",\"totalNoOfPages\":\"14\",\"activityFileDate\":\"09/05/2023 18:55:56\",\"publicDocument\":\"Y\",\"activityComments\":\"178198161:SpiceBProofOfResi7B:Document added successfully.\",\"versionNo\":\"0\",\"folderName\":\"\",\"addedBy\":\"Fo User\",\"formName\":\"\",\"folderId\":\"178198161\"},{\"attachmentLabel\":\"SpiceBidentityPro7B\",\"attachmentCategory\":\"Attachment\",\"activityFileName\":\"NLRPS2411C_Bipul_Aadhar.pdf\",\"activityFileSrcType\":\"I\",\"activityFileExt\":\"pdf\",\"activityFileSize\":\"694551\",\"attachmentDMSId\":\"362337971\",\"totalNoOfPages\":\"2\",\"activityFileDate\":\"09/05/2023 18:55:56\",\"publicDocument\":\"Y\",\"activityComments\":\"178198161:SpiceBidentityPro7B:Document added successfully.\",\"versionNo\":\"0\",\"folderName\":\"\",\"addedBy\":\"Fo User\",\"formName\":\"\",\"folderId\":\"178198161\"},{\"attachmentLabel\":\"SpiceBProofOfResi7B\",\"attachmentCategory\":\"Attachment\",\"activityFileName\":\"NLRPS2411C_Bipul_bank_statement.pdf\",\"activityFileSrcType\":\"I\",\"activityFileExt\":\"pdf\",\"activityFileSize\":\"114182\",\"attachmentDMSId\":\"362338008\",\"totalNoOfPages\":\"3\",\"activityFileDate\":\"09/05/2023 18:55:56\",\"publicDocument\":\"Y\",\"activityComments\":\"178198161:SpiceBProofOfResi7B:Document added successfully.\",\"versionNo\":\"0\",\"folderName\":\"\",\"addedBy\":\"Fo User\",\"formName\":\"\",\"folderId\":\"178198161\"},{\"attachmentLabel\":\"SpiceBidentityPro7B\",\"attachmentCategory\":\"Attachment\",\"activityFileName\":\"BUTPJ7345F_Kashvi_Aadhar.pdf\",\"activityFileSrcType\":\"I\",\"activityFileExt\":\"pdf\",\"activityFileSize\":\"146699\",\"attachmentDMSId\":\"362343896\",\"totalNoOfPages\":\"2\",\"activityFileDate\":\"09/05/2023 18:55:56\",\"publicDocument\":\"Y\",\"activityComments\":\"178198161:SpiceBidentityPro7B:Document added successfully.\",\"versionNo\":\"0\",\"folderName\":\"\",\"addedBy\":\"Fo User\",\"formName\":\"\",\"folderId\":\"178198161\"},{\"attachmentLabel\":\"SpiceBProofOfResi7B\",\"attachmentCategory\":\"Attachment\",\"activityFileName\":\"BUTPJ7345F_Kashvi_bank_statement.pdf\",\"activityFileSrcType\":\"I\",\"activityFileExt\":\"pdf\",\"activityFileSize\":\"65384\",\"attachmentDMSId\":\"362343919\",\"totalNoOfPages\":\"14\",\"activityFileDate\":\"09/05/2023 18:55:56\",\"publicDocument\":\"Y\",\"activityComments\":\"178198161:SpiceBProofOfResi7B:Document added successfully.\",\"versionNo\":\"0\",\"folderName\":\"\",\"addedBy\":\"Fo User\",\"formName\":\"\",\"folderId\":\"178198161\"},{\"attachmentLabel\":\"SpiceBidentityPro7B\",\"attachmentCategory\":\"Attachment\",\"activityFileName\":\"NLRPS2411C_Bipul_Aadhar.pdf\",\"activityFileSrcType\":\"I\",\"activityFileExt\":\"pdf\",\"activityFileSize\":\"694551\",\"attachmentDMSId\":\"362343987\",\"totalNoOfPages\":\"2\",\"activityFileDate\":\"09/05/2023 18:55:56\",\"publicDocument\":\"Y\",\"activityComments\":\"178198161:SpiceBidentityPro7B:Document added successfully.\",\"versionNo\":\"0\",\"folderName\":\"\",\"addedBy\":\"Fo User\",\"formName\":\"\",\"folderId\":\"178198161\"},{\"attachmentLabel\":\"SpiceBProofOfResi7B\",\"attachmentCategory\":\"Attachment\",\"activityFileName\":\"NLRPS2411C_Bipul_bank_statement.pdf\",\"activityFileSrcType\":\"I\",\"activityFileExt\":\"pdf\",\"activityFileSize\":\"114182\",\"attachmentDMSId\":\"362344016\",\"totalNoOfPages\":\"3\",\"activityFileDate\":\"09/05/2023 18:55:56\",\"publicDocument\":\"Y\",\"activityComments\":\"178198161:SpiceBProofOfResi7B:Document added successfully.\",\"versionNo\":\"0\",\"folderName\":\"\",\"addedBy\":\"Fo User\",\"formName\":\"\",\"folderId\":\"178198161\"},{\"attachmentLabel\":\"SpiceBproofAddress\",\"attachmentCategory\":\"Attachment\",\"activityFileName\":\"1noc innolegalniti.pdf\",\"activityFileSrcType\":\"I\",\"activityFileExt\":\"pdf\",\"activityFileSize\":\"273819\",\"attachmentDMSId\":\"362796226\",\"totalNoOfPages\":\"1\",\"activityFileDate\":\"09/05/2023 18:55:56\",\"publicDocument\":\"Y\",\"activityComments\":\"178343561:SpiceBproofAddress:Document added successfully.\",\"versionNo\":\"0\",\"folderName\":\"\",\"addedBy\":\"Fo User\",\"formName\":\"\",\"folderId\":\"178343561\"},{\"attachmentLabel\":\"SpiceBcopyUtility\",\"attachmentCategory\":\"Attachment\",\"activityFileName\":\"add_proof.jpeg\",\"activityFileSrcType\":\"I\",\"activityFileExt\":\"jpeg\",\"activityFileSize\":\"125564\",\"attachmentDMSId\":\"362796243\",\"totalNoOfPages\":\"1\",\"activityFileDate\":\"09/05/2023 18:55:56\",\"publicDocument\":\"Y\",\"activityComments\":\"178343561:SpiceBcopyUtility:Document added successfully.\",\"versionNo\":\"0\",\"folderName\":\"\",\"addedBy\":\"Fo User\",\"formName\":\"\",\"folderId\":\"178343561\"},{\"attachmentLabel\":\"SpiceBidentityPro7B\",\"attachmentCategory\":\"Attachment\",\"activityFileName\":\"BUTPJ7345F_Kashvi_Aadhar.pdf\",\"activityFileSrcType\":\"I\",\"activityFileExt\":\"pdf\",\"activityFileSize\":\"146699\",\"attachmentDMSId\":\"362796326\",\"totalNoOfPages\":\"2\",\"activityFileDate\":\"09/05/2023 18:55:56\",\"publicDocument\":\"Y\",\"activityComments\":\"178343561:SpiceBidentityPro7B:Document added successfully.\",\"versionNo\":\"0\",\"folderName\":\"\",\"addedBy\":\"Fo User\",\"formName\":\"\",\"folderId\":\"178343561\"},{\"attachmentLabel\":\"SpiceBProofOfResi7B\",\"attachmentCategory\":\"Attachment\",\"activityFileName\":\"BUTPJ7345F_Kashvi_bank_statement.pdf\",\"activityFileSrcType\":\"I\",\"activityFileExt\":\"pdf\",\"activityFileSize\":\"65384\",\"attachmentDMSId\":\"362796338\",\"totalNoOfPages\":\"14\",\"activityFileDate\":\"09/05/2023 18:55:56\",\"publicDocument\":\"Y\",\"activityComments\":\"178343561:SpiceBProofOfResi7B:Document added successfully.\",\"versionNo\":\"0\",\"folderName\":\"\",\"addedBy\":\"Fo User\",\"formName\":\"\",\"folderId\":\"178343561\"},{\"attachmentLabel\":\"SpiceBidentityPro7B\",\"attachmentCategory\":\"Attachment\",\"activityFileName\":\"NLRPS2411C_Bipul_Aadhar.pdf\",\"activityFileSrcType\":\"I\",\"activityFileExt\":\"pdf\",\"activityFileSize\":\"694551\",\"attachmentDMSId\":\"362796383\",\"totalNoOfPages\":\"2\",\"activityFileDate\":\"09/05/2023 18:55:56\",\"publicDocument\":\"Y\",\"activityComments\":\"178343561:SpiceBidentityPro7B:Document added successfully.\",\"versionNo\":\"0\",\"folderName\":\"\",\"addedBy\":\"Fo User\",\"formName\":\"\",\"folderId\":\"178343561\"},{\"attachmentLabel\":\"SpiceBProofOfResi7B\",\"attachmentCategory\":\"Attachment\",\"activityFileName\":\"NLRPS2411C_Bipul_bank_statement.pdf\",\"activityFileSrcType\":\"I\",\"activityFileExt\":\"pdf\",\"activityFileSize\":\"114182\",\"attachmentDMSId\":\"362796394\",\"totalNoOfPages\":\"3\",\"activityFileDate\":\"09/05/2023 18:55:56\",\"publicDocument\":\"Y\",\"activityComments\":\"178343561:SpiceBProofOfResi7B:Document added successfully.\",\"versionNo\":\"0\",\"folderName\":\"\",\"addedBy\":\"Fo User\",\"formName\":\"\",\"folderId\":\"178343561\"}]},\"status\":\"Resubmission Required\",\"formDescription\":\"For Spice+PartB\",\"formName\":\"SPICE + Part B\",\"formVersion\":\"1693920646292\",\"userId\":\"CASRIKANTH0224@GMAIL.COM\",\"integrationId\":\"1-4RUE0FA\",\"referenceNumber\":\"1-10390758310\",\"srn\":\"AA4274782\",\"formattachList\":\"[{\\\"attachmentLabel\\\":\\\"SpiceBproofAddress\\\",\\\"attachmentCategory\\\":\\\"Attachment\\\",\\\"activityFileName\\\":\\\"1noc innolegalniti.pdf\\\",\\\"activityFileSrcType\\\":\\\"I\\\",\\\"activityFileExt\\\":\\\"pdf\\\",\\\"activityFileSize\\\":\\\"273819\\\",\\\"attachmentDMSId\\\":\\\"362797461\\\",\\\"totalNoOfPages\\\":\\\"1\\\",\\\"activityFileDate\\\":\\\"09/05/2023 18:55:56\\\",\\\"publicDocument\\\":\\\"Y\\\",\\\"activityComments\\\":\\\"178360384:SpiceBproofAddress:Document added successfully.\\\",\\\"versionNo\\\":\\\"0\\\",\\\"folderName\\\":\\\"\\\",\\\"addedBy\\\":\\\"Fo User\\\",\\\"formName\\\":\\\"\\\",\\\"folderId\\\":\\\"178360384\\\"},{\\\"attachmentLabel\\\":\\\"SpiceBcopyUtility\\\",\\\"attachmentCategory\\\":\\\"Attachment\\\",\\\"activityFileName\\\":\\\"add_proof.jpeg\\\",\\\"activityFileSrcType\\\":\\\"I\\\",\\\"activityFileExt\\\":\\\"jpeg\\\",\\\"activityFileSize\\\":\\\"125564\\\",\\\"attachmentDMSId\\\":\\\"362797482\\\",\\\"totalNoOfPages\\\":\\\"1\\\",\\\"activityFileDate\\\":\\\"09/05/2023 18:55:56\\\",\\\"publicDocument\\\":\\\"Y\\\",\\\"activityComments\\\":\\\"178360384:SpiceBcopyUtility:Document added successfully.\\\",\\\"versionNo\\\":\\\"0\\\",\\\"folderName\\\":\\\"\\\",\\\"addedBy\\\":\\\"Fo User\\\",\\\"formName\\\":\\\"\\\",\\\"folderId\\\":\\\"178360384\\\"},{\\\"attachmentLabel\\\":\\\"SpiceBidentityPro7B\\\",\\\"attachmentCategory\\\":\\\"Attachment\\\",\\\"activityFileName\\\":\\\"BUTPJ7345F_Kashvi_Aadhar.pdf\\\",\\\"activityFileSrcType\\\":\\\"I\\\",\\\"activityFileExt\\\":\\\"pdf\\\",\\\"activityFileSize\\\":\\\"146699\\\",\\\"attachmentDMSId\\\":\\\"362798057\\\",\\\"totalNoOfPages\\\":\\\"2\\\",\\\"activityFileDate\\\":\\\"09/05/2023 18:55:56\\\",\\\"publicDocument\\\":\\\"Y\\\",\\\"activityComments\\\":\\\"178360384:SpiceBidentityPro7B:Document added successfully.\\\",\\\"versionNo\\\":\\\"0\\\",\\\"folderName\\\":\\\"\\\",\\\"addedBy\\\":\\\"Fo User\\\",\\\"formName\\\":\\\"\\\",\\\"folderId\\\":\\\"178360384\\\"},{\\\"attachmentLabel\\\":\\\"SpiceBProofOfResi7B\\\",\\\"attachmentCategory\\\":\\\"Attachment\\\",\\\"activityFileName\\\":\\\"BUTPJ7345F_Kashvi_bank_statement.pdf\\\",\\\"activityFileSrcType\\\":\\\"I\\\",\\\"activityFileExt\\\":\\\"pdf\\\",\\\"activityFileSize\\\":\\\"65384\\\",\\\"attachmentDMSId\\\":\\\"362798070\\\",\\\"totalNoOfPages\\\":\\\"14\\\",\\\"activityFileDate\\\":\\\"09/05/2023 18:55:56\\\",\\\"publicDocument\\\":\\\"Y\\\",\\\"activityComments\\\":\\\"178360384:SpiceBProofOfResi7B:Document added successfully.\\\",\\\"versionNo\\\":\\\"0\\\",\\\"folderName\\\":\\\"\\\",\\\"addedBy\\\":\\\"Fo User\\\",\\\"formName\\\":\\\"\\\",\\\"folderId\\\":\\\"178360384\\\"},{\\\"attachmentLabel\\\":\\\"SpiceBidentityPro7B\\\",\\\"attachmentCategory\\\":\\\"Attachment\\\",\\\"activityFileName\\\":\\\"NLRPS2411C_Bipul_Aadhar.pdf\\\",\\\"activityFileSrcType\\\":\\\"I\\\",\\\"activityFileExt\\\":\\\"pdf\\\",\\\"activityFileSize\\\":\\\"694551\\\",\\\"attachmentDMSId\\\":\\\"362798147\\\",\\\"totalNoOfPages\\\":\\\"2\\\",\\\"activityFileDate\\\":\\\"09/05/2023 18:55:56\\\",\\\"publicDocument\\\":\\\"Y\\\",\\\"activityComments\\\":\\\"178360384:SpiceBidentityPro7B:Document added successfully.\\\",\\\"versionNo\\\":\\\"0\\\",\\\"folderName\\\":\\\"\\\",\\\"addedBy\\\":\\\"Fo User\\\",\\\"formName\\\":\\\"\\\",\\\"folderId\\\":\\\"178360384\\\"},{\\\"attachmentLabel\\\":\\\"SpiceBProofOfResi7B\\\",\\\"attachmentCategory\\\":\\\"Attachment\\\",\\\"activityFileName\\\":\\\"NLRPS2411C_Bipul_bank_statement.pdf\\\",\\\"activityFileSrcType\\\":\\\"I\\\",\\\"activityFileExt\\\":\\\"pdf\\\",\\\"activityFileSize\\\":\\\"114182\\\",\\\"attachmentDMSId\\\":\\\"362798162\\\",\\\"totalNoOfPages\\\":\\\"3\\\",\\\"activityFileDate\\\":\\\"09/05/2023 18:55:56\\\",\\\"publicDocument\\\":\\\"Y\\\",\\\"activityComments\\\":\\\"178360384:SpiceBProofOfResi7B:Document added successfully.\\\",\\\"versionNo\\\":\\\"0\\\",\\\"folderName\\\":\\\"\\\",\\\"addedBy\\\":\\\"Fo User\\\",\\\"formName\\\":\\\"\\\",\\\"folderId\\\":\\\"178360384\\\"},{\\\"attachmentLabel\\\":\\\"SpiceBidentityPro7B\\\",\\\"attachmentCategory\\\":\\\"Attachment\\\",\\\"activityFileName\\\":\\\"BUTPJ7345F_Kashvi_Aadhar.pdf\\\",\\\"activityFileSrcType\\\":\\\"I\\\",\\\"activityFileExt\\\":\\\"pdf\\\",\\\"activityFileSize\\\":\\\"146699\\\",\\\"attachmentDMSId\\\":\\\"362350730\\\",\\\"totalNoOfPages\\\":\\\"2\\\",\\\"activityFileDate\\\":\\\"09/05/2023 18:55:56\\\",\\\"publicDocument\\\":\\\"Y\\\",\\\"activityComments\\\":\\\"178202502:SpiceBidentityPro7B:Document added successfully.\\\",\\\"versionNo\\\":\\\"0\\\",\\\"folderName\\\":\\\"\\\",\\\"addedBy\\\":\\\"Fo User\\\",\\\"formName\\\":\\\"\\\",\\\"folderId\\\":\\\"178202502\\\"},{\\\"attachmentLabel\\\":\\\"SpiceBProofOfResi7B\\\",\\\"attachmentCategory\\\":\\\"Attachment\\\",\\\"activityFileName\\\":\\\"BUTPJ7345F_Kashvi_bank_statement.pdf\\\",\\\"activityFileSrcType\\\":\\\"I\\\",\\\"activityFileExt\\\":\\\"pdf\\\",\\\"activityFileSize\\\":\\\"65384\\\",\\\"attachmentDMSId\\\":\\\"362350755\\\",\\\"totalNoOfPages\\\":\\\"14\\\",\\\"activityFileDate\\\":\\\"09/05/2023 18:55:56\\\",\\\"publicDocument\\\":\\\"Y\\\",\\\"activityComments\\\":\\\"178202502:SpiceBProofOfResi7B:Document added successfully.\\\",\\\"versionNo\\\":\\\"0\\\",\\\"folderName\\\":\\\"\\\",\\\"addedBy\\\":\\\"Fo User\\\",\\\"formName\\\":\\\"\\\",\\\"folderId\\\":\\\"178202502\\\"},{\\\"attachmentLabel\\\":\\\"SpiceBidentityPro7B\\\",\\\"attachmentCategory\\\":\\\"Attachment\\\",\\\"activityFileName\\\":\\\"NLRPS2411C_Bipul_Aadhar.pdf\\\",\\\"activityFileSrcType\\\":\\\"I\\\",\\\"activityFileExt\\\":\\\"pdf\\\",\\\"activityFileSize\\\":\\\"694551\\\",\\\"attachmentDMSId\\\":\\\"362350812\\\",\\\"totalNoOfPages\\\":\\\"2\\\",\\\"activityFileDate\\\":\\\"09/05/2023 18:55:56\\\",\\\"publicDocument\\\":\\\"Y\\\",\\\"activityComments\\\":\\\"178202502:SpiceBidentityPro7B:Document added successfully.\\\",\\\"versionNo\\\":\\\"0\\\",\\\"folderName\\\":\\\"\\\",\\\"addedBy\\\":\\\"Fo User\\\",\\\"formName\\\":\\\"\\\",\\\"folderId\\\":\\\"178202502\\\"},{\\\"attachmentLabel\\\":\\\"SpiceBProofOfResi7B\\\",\\\"attachmentCategory\\\":\\\"Attachment\\\",\\\"activityFileName\\\":\\\"NLRPS2411C_Bipul_bank_statement.pdf\\\",\\\"activityFileSrcType\\\":\\\"I\\\",\\\"activityFileExt\\\":\\\"pdf\\\",\\\"activityFileSize\\\":\\\"114182\\\",\\\"attachmentDMSId\\\":\\\"362350838\\\",\\\"totalNoOfPages\\\":\\\"3\\\",\\\"activityFileDate\\\":\\\"09/05/2023 18:55:56\\\",\\\"publicDocument\\\":\\\"Y\\\",\\\"activityComments\\\":\\\"178202502:SpiceBProofOfResi7B:Document added successfully.\\\",\\\"versionNo\\\":\\\"0\\\",\\\"folderName\\\":\\\"\\\",\\\"addedBy\\\":\\\"Fo User\\\",\\\"formName\\\":\\\"\\\",\\\"folderId\\\":\\\"178202502\\\"},{\\\"attachmentLabel\\\":\\\"SpiceBproofAddress\\\",\\\"attachmentCategory\\\":\\\"Attachment\\\",\\\"activityFileName\\\":\\\"1noc innolegalniti.pdf\\\",\\\"activityFileSrcType\\\":\\\"I\\\",\\\"activityFileExt\\\":\\\"pdf\\\",\\\"activityFileSize\\\":\\\"273819\\\",\\\"attachmentDMSId\\\":\\\"362343408\\\",\\\"totalNoOfPages\\\":\\\"1\\\",\\\"activityFileDate\\\":\\\"09/05/2023 18:55:56\\\",\\\"publicDocument\\\":\\\"Y\\\",\\\"activityComments\\\":\\\"178198161:SpiceBproofAddress:Document added successfully.\\\",\\\"versionNo\\\":\\\"0\\\",\\\"folderName\\\":\\\"\\\",\\\"addedBy\\\":\\\"Fo User\\\",\\\"formName\\\":\\\"\\\",\\\"folderId\\\":\\\"178198161\\\"},{\\\"attachmentLabel\\\":\\\"SpiceBcopyUtility\\\",\\\"attachmentCategory\\\":\\\"Attachment\\\",\\\"activityFileName\\\":\\\"add_proof.jpeg\\\",\\\"activityFileSrcType\\\":\\\"I\\\",\\\"activityFileExt\\\":\\\"jpeg\\\",\\\"activityFileSize\\\":\\\"125564\\\",\\\"attachmentDMSId\\\":\\\"362343427\\\",\\\"totalNoOfPages\\\":\\\"1\\\",\\\"activityFileDate\\\":\\\"09/05/2023 18:55:56\\\",\\\"publicDocument\\\":\\\"Y\\\",\\\"activityComments\\\":\\\"178198161:SpiceBcopyUtility:Document added successfully.\\\",\\\"versionNo\\\":\\\"0\\\",\\\"folderName\\\":\\\"\\\",\\\"addedBy\\\":\\\"Fo User\\\",\\\"formName\\\":\\\"\\\",\\\"folderId\\\":\\\"178198161\\\"},{\\\"attachmentLabel\\\":\\\"SpiceBidentityPro7B\\\",\\\"attachmentCategory\\\":\\\"Attachment\\\",\\\"activityFileName\\\":\\\"BUTPJ7345F_Kashvi_Aadhar.pdf\\\",\\\"activityFileSrcType\\\":\\\"I\\\",\\\"activityFileExt\\\":\\\"pdf\\\",\\\"activityFileSize\\\":\\\"146699\\\",\\\"attachmentDMSId\\\":\\\"362334106\\\",\\\"totalNoOfPages\\\":\\\"2\\\",\\\"activityFileDate\\\":\\\"09/05/2023 18:55:56\\\",\\\"publicDocument\\\":\\\"Y\\\",\\\"activityComments\\\":\\\"178192677:SpiceBidentityPro7B:Document added successfully.\\\",\\\"versionNo\\\":\\\"0\\\",\\\"folderName\\\":\\\"\\\",\\\"addedBy\\\":\\\"Fo User\\\",\\\"formName\\\":\\\"\\\",\\\"folderId\\\":\\\"178192677\\\"},{\\\"attachmentLabel\\\":\\\"SpiceBProofOfResi7B\\\",\\\"attachmentCategory\\\":\\\"Attachment\\\",\\\"activityFileName\\\":\\\"BUTPJ7345F_Kashvi_bank_statement.pdf\\\",\\\"activityFileSrcType\\\":\\\"I\\\",\\\"activityFileExt\\\":\\\"pdf\\\",\\\"activityFileSize\\\":\\\"65384\\\",\\\"attachmentDMSId\\\":\\\"362335826\\\",\\\"totalNoOfPages\\\":\\\"14\\\",\\\"activityFileDate\\\":\\\"09/05/2023 18:55:56\\\",\\\"publicDocument\\\":\\\"Y\\\",\\\"activityComments\\\":\\\"178198161:SpiceBProofOfResi7B:Document added successfully.\\\",\\\"versionNo\\\":\\\"0\\\",\\\"folderName\\\":\\\"\\\",\\\"addedBy\\\":\\\"Fo User\\\",\\\"formName\\\":\\\"\\\",\\\"folderId\\\":\\\"178198161\\\"},{\\\"attachmentLabel\\\":\\\"SpiceBidentityPro7B\\\",\\\"attachmentCategory\\\":\\\"Attachment\\\",\\\"activityFileName\\\":\\\"NLRPS2411C_Bipul_Aadhar.pdf\\\",\\\"activityFileSrcType\\\":\\\"I\\\",\\\"activityFileExt\\\":\\\"pdf\\\",\\\"activityFileSize\\\":\\\"694551\\\",\\\"attachmentDMSId\\\":\\\"362337971\\\",\\\"totalNoOfPages\\\":\\\"2\\\",\\\"activityFileDate\\\":\\\"09/05/2023 18:55:56\\\",\\\"publicDocument\\\":\\\"Y\\\",\\\"activityComments\\\":\\\"178198161:SpiceBidentityPro7B:Document added successfully.\\\",\\\"versionNo\\\":\\\"0\\\",\\\"folderName\\\":\\\"\\\",\\\"addedBy\\\":\\\"Fo User\\\",\\\"formName\\\":\\\"\\\",\\\"folderId\\\":\\\"178198161\\\"},{\\\"attachmentLabel\\\":\\\"SpiceBProofOfResi7B\\\",\\\"attachmentCategory\\\":\\\"Attachment\\\",\\\"activityFileName\\\":\\\"NLRPS2411C_Bipul_bank_statement.pdf\\\",\\\"activityFileSrcType\\\":\\\"I\\\",\\\"activityFileExt\\\":\\\"pdf\\\",\\\"activityFileSize\\\":\\\"114182\\\",\\\"attachmentDMSId\\\":\\\"362338008\\\",\\\"totalNoOfPages\\\":\\\"3\\\",\\\"activityFileDate\\\":\\\"09/05/2023 18:55:56\\\",\\\"publicDocument\\\":\\\"Y\\\",\\\"activityComments\\\":\\\"178198161:SpiceBProofOfResi7B:Document added successfully.\\\",\\\"versionNo\\\":\\\"0\\\",\\\"folderName\\\":\\\"\\\",\\\"addedBy\\\":\\\"Fo User\\\",\\\"formName\\\":\\\"\\\",\\\"folderId\\\":\\\"178198161\\\"},{\\\"attachmentLabel\\\":\\\"SPICE + Part B\\\",\\\"attachmentCategory\\\":\\\"Forms\\\",\\\"activityFileName\\\":\\\"1-10390758310.pdf\\\",\\\"activityFileSrcType\\\":\\\"I\\\",\\\"activityFileExt\\\":\\\"pdf\\\",\\\"activityFileSize\\\":\\\"1610392\\\",\\\"attachmentDMSId\\\":\\\"358237989\\\",\\\"totalNoOfPages\\\":\\\"32\\\",\\\"activityFileDate\\\":\\\"09/05/2023 18:55:56\\\",\\\"publicDocument\\\":\\\"Y\\\",\\\"activityComments\\\":\\\"Generated PDF Stored Successfully\\\",\\\"versionNo\\\":\\\"1\\\",\\\"folderName\\\":\\\"176558686\\\",\\\"addedBy\\\":\\\"Fo User\\\",\\\"formName\\\":\\\"\\\",\\\"folderId\\\":\\\"176558686\\\"},{\\\"attachmentLabel\\\":\\\"SPICE + Part B\\\",\\\"attachmentCategory\\\":\\\"Forms\\\",\\\"activityFileName\\\":\\\"1-10390758310.pdf\\\",\\\"activityFileSrcType\\\":\\\"I\\\",\\\"activityFileExt\\\":\\\"pdf\\\",\\\"activityFileSize\\\":\\\"1610392\\\",\\\"attachmentDMSId\\\":\\\"358237996\\\",\\\"totalNoOfPages\\\":\\\"32\\\",\\\"activityFileDate\\\":\\\"09/05/2023 18:55:56\\\",\\\"publicDocument\\\":\\\"Y\\\",\\\"activityComments\\\":\\\"Generated PDF Stored Successfully\\\",\\\"versionNo\\\":\\\"1\\\",\\\"folderName\\\":\\\"176558686\\\",\\\"addedBy\\\":\\\"Fo User\\\",\\\"formName\\\":\\\"\\\",\\\"folderId\\\":\\\"176558686\\\"},{\\\"attachmentLabel\\\":\\\"SPICE + Part B\\\",\\\"attachmentCategory\\\":\\\"Forms\\\",\\\"activityFileName\\\":\\\"1-10390758310.pdf\\\",\\\"activityFileSrcType\\\":\\\"I\\\",\\\"activityFileExt\\\":\\\"pdf\\\",\\\"activityFileSize\\\":\\\"1610377\\\",\\\"attachmentDMSId\\\":\\\"358237937\\\",\\\"totalNoOfPages\\\":\\\"32\\\",\\\"activityFileDate\\\":\\\"09/05/2023 18:55:56\\\",\\\"publicDocument\\\":\\\"Y\\\",\\\"activityComments\\\":\\\"Generated PDF Stored Successfully\\\",\\\"versionNo\\\":\\\"1\\\",\\\"folderName\\\":\\\"176558686\\\",\\\"addedBy\\\":\\\"Fo User\\\",\\\"formName\\\":\\\"\\\",\\\"folderId\\\":\\\"176558686\\\"},{\\\"attachmentLabel\\\":\\\"SPICE + Part B\\\",\\\"attachmentCategory\\\":\\\"Forms\\\",\\\"activityFileName\\\":\\\"1-10390758310.pdf\\\",\\\"activityFileSrcType\\\":\\\"I\\\",\\\"activityFileExt\\\":\\\"pdf\\\",\\\"activityFileSize\\\":\\\"1610390\\\",\\\"attachmentDMSId\\\":\\\"358275169\\\",\\\"totalNoOfPages\\\":\\\"32\\\",\\\"activityFileDate\\\":\\\"09/05/2023 18:55:56\\\",\\\"publicDocument\\\":\\\"Y\\\",\\\"activityComments\\\":\\\"Generated PDF Stored Successfully\\\",\\\"versionNo\\\":\\\"1\\\",\\\"folderName\\\":\\\"176558686\\\",\\\"addedBy\\\":\\\"Fo User\\\",\\\"formName\\\":\\\"\\\",\\\"folderId\\\":\\\"176558686\\\"},{\\\"attachmentLabel\\\":\\\"Signed_FO_SPICE + Part B\\\",\\\"attachmentCategory\\\":\\\"Forms\\\",\\\"activityFileName\\\":\\\"SpiceB_Legalniti[1].pdf\\\",\\\"activityFileSrcType\\\":\\\"I\\\",\\\"activityFileExt\\\":\\\"pdf\\\",\\\"activityFileSize\\\":\\\"1682771\\\",\\\"attachmentDMSId\\\":\\\"358528660\\\",\\\"totalNoOfPages\\\":\\\"32\\\",\\\"activityFileDate\\\":\\\"09/05/2023 18:55:56\\\",\\\"publicDocument\\\":\\\"Y\\\",\\\"activityComments\\\":\\\"176558686:dorUpdated:Document added successfully.\\\",\\\"versionNo\\\":\\\"1\\\",\\\"folderName\\\":\\\"176558686\\\",\\\"addedBy\\\":\\\"Fo User\\\",\\\"formName\\\":\\\"\\\",\\\"folderId\\\":\\\"176558686\\\"},{\\\"attachmentLabel\\\":\\\"Signed_FO_SPICE + Part B\\\",\\\"attachmentCategory\\\":\\\"Forms\\\",\\\"activityFileName\\\":\\\"SpiceB_Legalniti[1].pdf\\\",\\\"activityFileSrcType\\\":\\\"I\\\",\\\"activityFileExt\\\":\\\"pdf\\\",\\\"activityFileSize\\\":\\\"1682771\\\",\\\"attachmentDMSId\\\":\\\"358528953\\\",\\\"totalNoOfPages\\\":\\\"32\\\",\\\"activityFileDate\\\":\\\"09/05/2023 18:55:56\\\",\\\"publicDocument\\\":\\\"Y\\\",\\\"activityComments\\\":\\\"176558686:dorUpdated:Document added successfully.\\\",\\\"versionNo\\\":\\\"1\\\",\\\"folderName\\\":\\\"176558686\\\",\\\"addedBy\\\":\\\"Fo User\\\",\\\"formName\\\":\\\"\\\",\\\"folderId\\\":\\\"176558686\\\"},{\\\"attachmentLabel\\\":\\\"Receipt\\\",\\\"attachmentCategory\\\":\\\"Receipt\\\",\\\"activityFileName\\\":\\\"AA4274782_Receipt.pdf\\\",\\\"activityFileSrcType\\\":\\\"I\\\",\\\"activityFileExt\\\":\\\"pdf\\\",\\\"activityFileSize\\\":\\\"2332\\\",\\\"attachmentDMSId\\\":\\\"358771768\\\",\\\"totalNoOfPages\\\":\\\"1\\\",\\\"activityFileDate\\\":\\\"09/05/2023 18:55:56\\\",\\\"publicDocument\\\":\\\"Y\\\",\\\"activityComments\\\":\\\"176558686:dorUpdated:Document added successfully.\\\",\\\"versionNo\\\":\\\"1\\\",\\\"folderName\\\":\\\"176558686\\\",\\\"addedBy\\\":\\\"Fo User\\\",\\\"formName\\\":\\\"\\\",\\\"folderId\\\":\\\"176558686\\\"},{\\\"attachmentLabel\\\":\\\"SpiceBidentityPro7B\\\",\\\"attachmentCategory\\\":\\\"Attachment\\\",\\\"activityFileName\\\":\\\"BUTPJ7345F_Kashvi_Aadhar.pdf\\\",\\\"activityFileSrcType\\\":\\\"I\\\",\\\"activityFileExt\\\":\\\"pdf\\\",\\\"activityFileSize\\\":\\\"146699\\\",\\\"attachmentDMSId\\\":\\\"362343896\\\",\\\"totalNoOfPages\\\":\\\"2\\\",\\\"activityFileDate\\\":\\\"09/05/2023 18:55:56\\\",\\\"publicDocument\\\":\\\"Y\\\",\\\"activityComments\\\":\\\"178198161:SpiceBidentityPro7B:Document added successfully.\\\",\\\"versionNo\\\":\\\"0\\\",\\\"folderName\\\":\\\"\\\",\\\"addedBy\\\":\\\"Fo User\\\",\\\"formName\\\":\\\"\\\",\\\"folderId\\\":\\\"178198161\\\"},{\\\"attachmentLabel\\\":\\\"SpiceBProofOfResi7B\\\",\\\"attachmentCategory\\\":\\\"Attachment\\\",\\\"activityFileName\\\":\\\"BUTPJ7345F_Kashvi_bank_statement.pdf\\\",\\\"activityFileSrcType\\\":\\\"I\\\",\\\"activityFileExt\\\":\\\"pdf\\\",\\\"activityFileSize\\\":\\\"65384\\\",\\\"attachmentDMSId\\\":\\\"362343919\\\",\\\"totalNoOfPages\\\":\\\"14\\\",\\\"activityFileDate\\\":\\\"09/05/2023 18:55:56\\\",\\\"publicDocument\\\":\\\"Y\\\",\\\"activityComments\\\":\\\"178198161:SpiceBProofOfResi7B:Document added successfully.\\\",\\\"versionNo\\\":\\\"0\\\",\\\"folderName\\\":\\\"\\\",\\\"addedBy\\\":\\\"Fo User\\\",\\\"formName\\\":\\\"\\\",\\\"folderId\\\":\\\"178198161\\\"},{\\\"attachmentLabel\\\":\\\"SpiceBidentityPro7B\\\",\\\"attachmentCategory\\\":\\\"Attachment\\\",\\\"activityFileName\\\":\\\"NLRPS2411C_Bipul_Aadhar.pdf\\\",\\\"activityFileSrcType\\\":\\\"I\\\",\\\"activityFileExt\\\":\\\"pdf\\\",\\\"activityFileSize\\\":\\\"694551\\\",\\\"attachmentDMSId\\\":\\\"362343987\\\",\\\"totalNoOfPages\\\":\\\"2\\\",\\\"activityFileDate\\\":\\\"09/05/2023 18:55:56\\\",\\\"publicDocument\\\":\\\"Y\\\",\\\"activityComments\\\":\\\"178198161:SpiceBidentityPro7B:Document added successfully.\\\",\\\"versionNo\\\":\\\"0\\\",\\\"folderName\\\":\\\"\\\",\\\"addedBy\\\":\\\"Fo User\\\",\\\"formName\\\":\\\"\\\",\\\"folderId\\\":\\\"178198161\\\"},{\\\"attachmentLabel\\\":\\\"SpiceBProofOfResi7B\\\",\\\"attachmentCategory\\\":\\\"Attachment\\\",\\\"activityFileName\\\":\\\"NLRPS2411C_Bipul_bank_statement.pdf\\\",\\\"activityFileSrcType\\\":\\\"I\\\",\\\"activityFileExt\\\":\\\"pdf\\\",\\\"activityFileSize\\\":\\\"114182\\\",\\\"attachmentDMSId\\\":\\\"362344016\\\",\\\"totalNoOfPages\\\":\\\"3\\\",\\\"activityFileDate\\\":\\\"09/05/2023 18:55:56\\\",\\\"publicDocument\\\":\\\"Y\\\",\\\"activityComments\\\":\\\"178198161:SpiceBProofOfResi7B:Document added successfully.\\\",\\\"versionNo\\\":\\\"0\\\",\\\"folderName\\\":\\\"\\\",\\\"addedBy\\\":\\\"Fo User\\\",\\\"formName\\\":\\\"\\\",\\\"folderId\\\":\\\"178198161\\\"},{\\\"attachmentLabel\\\":\\\"SPICE + Part B\\\",\\\"attachmentCategory\\\":\\\"Forms\\\",\\\"activityFileName\\\":\\\"AA4274782.pdf\\\",\\\"activityFileSrcType\\\":\\\"I\\\",\\\"activityFileExt\\\":\\\"pdf\\\",\\\"activityFileSize\\\":\\\"3233871\\\",\\\"attachmentDMSId\\\":\\\"362380919\\\",\\\"totalNoOfPages\\\":\\\"32\\\",\\\"activityFileDate\\\":\\\"09/05/2023 18:55:56\\\",\\\"publicDocument\\\":\\\"Y\\\",\\\"activityComments\\\":\\\"Generated PDF Stored Successfully\\\",\\\"versionNo\\\":\\\"0\\\",\\\"folderName\\\":\\\"178202502\\\",\\\"addedBy\\\":\\\"Fo User\\\",\\\"formName\\\":\\\"\\\",\\\"folderId\\\":\\\"178202502\\\"},{\\\"attachmentLabel\\\":\\\"SPICE + Part B\\\",\\\"attachmentCategory\\\":\\\"Forms\\\",\\\"activityFileName\\\":\\\"AA4274782.pdf\\\",\\\"activityFileSrcType\\\":\\\"I\\\",\\\"activityFileExt\\\":\\\"pdf\\\",\\\"activityFileSize\\\":\\\"3087228\\\",\\\"attachmentDMSId\\\":\\\"362485870\\\",\\\"totalNoOfPages\\\":\\\"32\\\",\\\"activityFileDate\\\":\\\"09/05/2023 18:55:56\\\",\\\"publicDocument\\\":\\\"Y\\\",\\\"activityComments\\\":\\\"Generated PDF Stored Successfully\\\",\\\"versionNo\\\":\\\"0\\\",\\\"folderName\\\":\\\"178202502\\\",\\\"addedBy\\\":\\\"Fo User\\\",\\\"formName\\\":\\\"\\\",\\\"folderId\\\":\\\"178202502\\\"},{\\\"attachmentLabel\\\":\\\"SPICE + Part B\\\",\\\"attachmentCategory\\\":\\\"Forms\\\",\\\"activityFileName\\\":\\\"AA4274782.pdf\\\",\\\"activityFileSrcType\\\":\\\"I\\\",\\\"activityFileExt\\\":\\\"pdf\\\",\\\"activityFileSize\\\":\\\"3038284\\\",\\\"attachmentDMSId\\\":\\\"362485869\\\",\\\"totalNoOfPages\\\":\\\"32\\\",\\\"activityFileDate\\\":\\\"09/05/2023 18:55:56\\\",\\\"publicDocument\\\":\\\"Y\\\",\\\"activityComments\\\":\\\"Generated PDF Stored Successfully\\\",\\\"versionNo\\\":\\\"0\\\",\\\"folderName\\\":\\\"178202502\\\",\\\"addedBy\\\":\\\"Fo User\\\",\\\"formName\\\":\\\"\\\",\\\"folderId\\\":\\\"178202502\\\"},{\\\"attachmentLabel\\\":\\\"SPICE + Part B\\\",\\\"attachmentCategory\\\":\\\"Forms\\\",\\\"activityFileName\\\":\\\"AA4274782.pdf\\\",\\\"activityFileSrcType\\\":\\\"I\\\",\\\"activityFileExt\\\":\\\"pdf\\\",\\\"activityFileSize\\\":\\\"2823476\\\",\\\"attachmentDMSId\\\":\\\"362485864\\\",\\\"totalNoOfPages\\\":\\\"32\\\",\\\"activityFileDate\\\":\\\"09/05/2023 18:55:56\\\",\\\"publicDocument\\\":\\\"Y\\\",\\\"activityComments\\\":\\\"Generated PDF Stored Successfully\\\",\\\"versionNo\\\":\\\"0\\\",\\\"folderName\\\":\\\"178202502\\\",\\\"addedBy\\\":\\\"Fo User\\\",\\\"formName\\\":\\\"\\\",\\\"folderId\\\":\\\"178202502\\\"},{\\\"attachmentLabel\\\":\\\"SPICE + Part B\\\",\\\"attachmentCategory\\\":\\\"Forms\\\",\\\"activityFileName\\\":\\\"AA4274782.pdf\\\",\\\"activityFileSrcType\\\":\\\"I\\\",\\\"activityFileExt\\\":\\\"pdf\\\",\\\"activityFileSize\\\":\\\"3233970\\\",\\\"attachmentDMSId\\\":\\\"362485877\\\",\\\"totalNoOfPages\\\":\\\"32\\\",\\\"activityFileDate\\\":\\\"09/05/2023 18:55:56\\\",\\\"publicDocument\\\":\\\"Y\\\",\\\"activityComments\\\":\\\"Generated PDF Stored Successfully\\\",\\\"versionNo\\\":\\\"0\\\",\\\"folderName\\\":\\\"178202502\\\",\\\"addedBy\\\":\\\"Fo User\\\",\\\"formName\\\":\\\"\\\",\\\"folderId\\\":\\\"178202502\\\"},{\\\"attachmentLabel\\\":\\\"SPICE + Part B\\\",\\\"attachmentCategory\\\":\\\"Forms\\\",\\\"activityFileName\\\":\\\"AA4274782.pdf\\\",\\\"activityFileSrcType\\\":\\\"I\\\",\\\"activityFileExt\\\":\\\"pdf\\\",\\\"activityFileSize\\\":\\\"3233877\\\",\\\"attachmentDMSId\\\":\\\"362634466\\\",\\\"totalNoOfPages\\\":\\\"32\\\",\\\"activityFileDate\\\":\\\"09/05/2023 18:55:56\\\",\\\"publicDocument\\\":\\\"Y\\\",\\\"activityComments\\\":\\\"Generated PDF Stored Successfully\\\",\\\"versionNo\\\":\\\"0\\\",\\\"folderName\\\":\\\"178202502\\\",\\\"addedBy\\\":\\\"Fo User\\\",\\\"formName\\\":\\\"\\\",\\\"folderId\\\":\\\"178202502\\\"},{\\\"attachmentLabel\\\":\\\"SpiceBproofAddress\\\",\\\"attachmentCategory\\\":\\\"Attachment\\\",\\\"activityFileName\\\":\\\"1noc innolegalniti.pdf\\\",\\\"activityFileSrcType\\\":\\\"I\\\",\\\"activityFileExt\\\":\\\"pdf\\\",\\\"activityFileSize\\\":\\\"273819\\\",\\\"attachmentDMSId\\\":\\\"362796226\\\",\\\"totalNoOfPages\\\":\\\"1\\\",\\\"activityFileDate\\\":\\\"09/05/2023 18:55:56\\\",\\\"publicDocument\\\":\\\"Y\\\",\\\"activityComments\\\":\\\"178343561:SpiceBproofAddress:Document added successfully.\\\",\\\"versionNo\\\":\\\"0\\\",\\\"folderName\\\":\\\"\\\",\\\"addedBy\\\":\\\"Fo User\\\",\\\"formName\\\":\\\"\\\",\\\"folderId\\\":\\\"178343561\\\"},{\\\"attachmentLabel\\\":\\\"SpiceBcopyUtility\\\",\\\"attachmentCategory\\\":\\\"Attachment\\\",\\\"activityFileName\\\":\\\"add_proof.jpeg\\\",\\\"activityFileSrcType\\\":\\\"I\\\",\\\"activityFileExt\\\":\\\"jpeg\\\",\\\"activityFileSize\\\":\\\"125564\\\",\\\"attachmentDMSId\\\":\\\"362796243\\\",\\\"totalNoOfPages\\\":\\\"1\\\",\\\"activityFileDate\\\":\\\"09/05/2023 18:55:56\\\",\\\"publicDocument\\\":\\\"Y\\\",\\\"activityComments\\\":\\\"178343561:SpiceBcopyUtility:Document added successfully.\\\",\\\"versionNo\\\":\\\"0\\\",\\\"folderName\\\":\\\"\\\",\\\"addedBy\\\":\\\"Fo User\\\",\\\"formName\\\":\\\"\\\",\\\"folderId\\\":\\\"178343561\\\"},{\\\"attachmentLabel\\\":\\\"SpiceBidentityPro7B\\\",\\\"attachmentCategory\\\":\\\"Attachment\\\",\\\"activityFileName\\\":\\\"BUTPJ7345F_Kashvi_Aadhar.pdf\\\",\\\"activityFileSrcType\\\":\\\"I\\\",\\\"activityFileExt\\\":\\\"pdf\\\",\\\"activityFileSize\\\":\\\"146699\\\",\\\"attachmentDMSId\\\":\\\"362796326\\\",\\\"totalNoOfPages\\\":\\\"2\\\",\\\"activityFileDate\\\":\\\"09/05/2023 18:55:56\\\",\\\"publicDocument\\\":\\\"Y\\\",\\\"activityComments\\\":\\\"178343561:SpiceBidentityPro7B:Document added successfully.\\\",\\\"versionNo\\\":\\\"0\\\",\\\"folderName\\\":\\\"\\\",\\\"addedBy\\\":\\\"Fo User\\\",\\\"formName\\\":\\\"\\\",\\\"folderId\\\":\\\"178343561\\\"},{\\\"attachmentLabel\\\":\\\"SpiceBProofOfResi7B\\\",\\\"attachmentCategory\\\":\\\"Attachment\\\",\\\"activityFileName\\\":\\\"BUTPJ7345F_Kashvi_bank_statement.pdf\\\",\\\"activityFileSrcType\\\":\\\"I\\\",\\\"activityFileExt\\\":\\\"pdf\\\",\\\"activityFileSize\\\":\\\"65384\\\",\\\"attachmentDMSId\\\":\\\"362796338\\\",\\\"totalNoOfPages\\\":\\\"14\\\",\\\"activityFileDate\\\":\\\"09/05/2023 18:55:56\\\",\\\"publicDocument\\\":\\\"Y\\\",\\\"activityComments\\\":\\\"178343561:SpiceBProofOfResi7B:Document added successfully.\\\",\\\"versionNo\\\":\\\"0\\\",\\\"folderName\\\":\\\"\\\",\\\"addedBy\\\":\\\"Fo User\\\",\\\"formName\\\":\\\"\\\",\\\"folderId\\\":\\\"178343561\\\"},{\\\"attachmentLabel\\\":\\\"SpiceBidentityPro7B\\\",\\\"attachmentCategory\\\":\\\"Attachment\\\",\\\"activityFileName\\\":\\\"NLRPS2411C_Bipul_Aadhar.pdf\\\",\\\"activityFileSrcType\\\":\\\"I\\\",\\\"activityFileExt\\\":\\\"pdf\\\",\\\"activityFileSize\\\":\\\"694551\\\",\\\"attachmentDMSId\\\":\\\"362796383\\\",\\\"totalNoOfPages\\\":\\\"2\\\",\\\"activityFileDate\\\":\\\"09/05/2023 18:55:56\\\",\\\"publicDocument\\\":\\\"Y\\\",\\\"activityComments\\\":\\\"178343561:SpiceBidentityPro7B:Document added successfully.\\\",\\\"versionNo\\\":\\\"0\\\",\\\"folderName\\\":\\\"\\\",\\\"addedBy\\\":\\\"Fo User\\\",\\\"formName\\\":\\\"\\\",\\\"folderId\\\":\\\"178343561\\\"},{\\\"attachmentLabel\\\":\\\"SpiceBProofOfResi7B\\\",\\\"attachmentCategory\\\":\\\"Attachment\\\",\\\"activityFileName\\\":\\\"NLRPS2411C_Bipul_bank_statement.pdf\\\",\\\"activityFileSrcType\\\":\\\"I\\\",\\\"activityFileExt\\\":\\\"pdf\\\",\\\"activityFileSize\\\":\\\"114182\\\",\\\"attachmentDMSId\\\":\\\"362796394\\\",\\\"totalNoOfPages\\\":\\\"3\\\",\\\"activityFileDate\\\":\\\"09/05/2023 18:55:56\\\",\\\"publicDocument\\\":\\\"Y\\\",\\\"activityComments\\\":\\\"178343561:SpiceBProofOfResi7B:Document added successfully.\\\",\\\"versionNo\\\":\\\"0\\\",\\\"folderName\\\":\\\"\\\",\\\"addedBy\\\":\\\"Fo User\\\",\\\"formName\\\":\\\"\\\",\\\"folderId\\\":\\\"178343561\\\"}]\",\"inc9Flag\":\"Y\",\"eAOAFlag\":\"Y\",\"eMOAFlag\":\"Y\",\"correspondenceaddress_proofOfAddress\":\"1noc innolegalniti.pdf\",\"correspondenceaddress_copyOfUtilityBills\":\"add_proof.jpeg\",\"docForProofOfidentity4\":\"MAX 2MB\",\"docForProofOfResidential4\":\"MAX 2MB\",\"memorandumOfAssociation\":\"MAX 2MB\",\"articlesOfAssociation\":\"MAX 2MB\",\"declarationbyFirstSubscriber\":\"MAX 2MB\",\"copyOfCertificateOfIncorporation\":\"MAX 2MB\",\"resolutionPassed\":\"MAX 2MB\",\"interestOfFirstDirector\":\"MAX 2MB\",\"optionalAttachment\":\"MAX 2MB\",\"DIN2DSC\":\"DIN1\",\"DIN3DSC\":\"DIN2\"}}}"
   ]
  },
  {
   "cell_type": "code",
   "execution_count": 218,
   "metadata": {},
   "outputs": [
    {
     "name": "stdout",
     "output_type": "stream",
     "text": [
      "formData.SpicePartBArticles : ('Missing in dict2', [{'serialnum': '1'}])\n",
      "formData.totalSubscribedShareCapital : ('10000', '100000')\n",
      "formData.spicePartBEquityShare : ('Missing in dict2', [{'classShare': '1', 'authorizedcapitalsharenumber': '1000', 'subscribedcapitalsharenumber': '100', 'authorizedcapitalnominalamountpershare': '100', 'subscribedcapitalnominalamountpershare': '100', 'authorizedcapitaltotalamount': '100000', 'subscribedcapitaltotalamount': '10000', 'sharecategory': 'Equity Share'}])\n",
      "formData.spicePartBPreferenceShare : ('Missing in dict2', [{'sharecategory': 'Preference Share', 'subscribedcapitalsharenumber': '0'}])\n",
      "formData.SpicePartBAddress : ([{'line1': 'C/O Dilip Kumar Jain 5th', 'line2': 'FL Symbiosis Padaki', 'pincode': '560004', 'addressType': 'Correspondance Address', 'coutry': 'India', 'area': 'Basavanagudi', 'city': 'Bangalore South', 'district': 'Bangalore', 'state_ut': 'Karnataka', 'mobile': '9481829401', 'companymailid': 'kashvijain19@gmail.com'}], [{'line1': 'C/O Dilip Kumar Jain 5th ', 'line2': 'FL Symbiosis Padaki ', 'pincode': '560004', 'addressType': 'Correspondance Address', 'coutry': 'India', 'area': 'Basavanagudi', 'city': 'Bangalore South', 'district': 'Bangalore', 'state_ut': 'Karnataka', 'mobile': '9481829401', 'companymailid': 'kashvijain19@gmail.com'}])\n",
      "formData.regaddressline1 : ('C/O Dilip Kumar Jain 5th', 'C/O Dilip Kumar Jain 5th ')\n",
      "formData.regaddressline2 : ('FL Symbiosis Padaki', 'FL Symbiosis Padaki ')\n",
      "formData.spicePartBNonINDVSubscribers : ([{'nonINDVSubAuthorizedPerson': {'nonINDVSubAuthorizedPersonEquityShares': [{'sharecategory': 'Equity Share'}], 'nonINDVSubAuthorizedPersonPreferenceShares': [{'sharecategory': 'Preference Share'}]}}], [])\n",
      "formData.SpicePartBINDVSubscribersHavingDin : ('Missing in dict2', [{'INDVSubscribersEquityShares': [{'sharecategory': 'Equity Share'}], 'INDVSubscribersPreferenceShares': [{'sharecategory': 'Preference Share'}]}])\n",
      "formData.SpicePartBINDVSubscribersNotHavingDin : ('Missing in dict2', [{'SpicePartBINDVsubscribersPermAddress': {'addressType': 'Permanent Address'}, 'SpicePartBINDVsubscribersPresAddress': {'addressType': 'Present Address'}, 'INDVSubscribersEquityShares': [{'sharecategory': 'Equity Share'}], 'INDVSubscribersPreferenceShares': [{'sharecategory': 'Preference Share'}]}])\n",
      "formData.SpicePartBSubscribersHavingDin : ('Missing in dict2', [{'SubscriberType': 'Subscriber CUM Director DIN', 'category': 'Individual First subscribers cum Directors', 'SpicePartBSubscribersEquityShares': [{'sharecategory': 'Equity Share'}], 'SpicePartBSubscribersPreferenceShares': [{'sharecategory': 'Preference Share'}], 'SpicePartBSubsDeclaration': [{'shareholdingPercentage': '0'}]}])\n",
      "formData.SpicePartBSubscribersNotHavingDin : ('Missing in dict2', [{'category': 'Individual First subscribers cum Directors', 'SubscriberType': 'Subscriber CUM Director No DIN', 'firstName': 'KASHVI', 'middleName': 'DILEEP', 'Surname': 'JAIN', 'fatherFirstName': 'DILEEP', 'fatherMiddleName': 'KUMAR', 'fatherSurName': 'JAIN', 'gender': 'Female', 'dateOfBirth': '2000-10-19', 'nationality': 'India', 'placeofBirth': 'Bangalore', 'citizenOfIndia': 'Y', 'residentOfIndia': 'Y', 'occupationType': 'Professional', 'areaofOccupation': 'Professional', 'educationalQualificationothers': \"Bachelor's degree\", 'pan': 'BUTPJ7345F', 'designation': 'Director', 'directorCategory': 'Promoter', 'whetherNonED': 'Executive director', 'MobileNo': '09481829401', 'emailid': 'kashvijain19@gmail.com', 'SpicePartBSubscribersPermAddress': {'addressType': 'Permanent Address', 'line1': 'Chandra Vilasa 2nd Floor', 'line2': 'Chandra Shekar Layout', 'country': 'India', 'pincode': '560004', 'city': 'Bangalore', 'district': 'Bangalore', 'state_ut': 'Karnataka'}, 'ResidenseCorespondenceFlag': 'Y', 'SpicePartBSubscribersPresAddress': {'addressType': 'Present Address', 'line1': 'Chandra Vilasa 2nd Floor', 'line2': 'Chandra Shekar Layout', 'country': 'India', 'pincode': '560004', 'city': 'Bangalore', 'district': 'Bangalore', 'state_ut': 'Karnataka', 'yearresidenseduration': '22', 'monthresidenseduration': '7'}, 'identityProofDocument': 'Aadhar Card', 'identityProofNumber': '935902622081', 'residentialProofDocument': 'Bank Statement', 'residentialProofNumber': '090656545143', 'Attachment1': {'fileAttachment': 'BUTPJ7345F_Kashvi_Aadhar.pdf'}, 'Attachment2': {'fileAttachment': 'BUTPJ7345F_Kashvi_bank_statement.pdf'}, 'totalSubscribedShareCapital': '5000', 'equitynumofclasses': '1', 'SpicePartBSubscribersEquityShares': [{'sharecategory': 'Equity Share', 'classShare': '1', 'subscribedcapitalsharenumber': '50', 'subscribedcapitalnominalamountpershare': '100', 'subscribedcapitaltotalamount': '5000'}], 'SpicePartBSubscribersPreferenceShares': [{'sharecategory': 'Preference Share'}], 'DirectorInterestedEntitiescount': '0', 'SpicePartBSubsDeclaration': [], 'inc9DeclarationFlag1': 'N'}, {'category': 'Individual First subscribers cum Directors', 'SubscriberType': 'Subscriber CUM Director No DIN', 'firstName': 'BIPUL', 'middleName': 'KUMAR', 'Surname': 'SINGH', 'fatherFirstName': 'CHANDRADEEP', 'fatherSurName': 'SINGH', 'gender': 'Male', 'dateOfBirth': '2002-09-18', 'nationality': 'India', 'placeofBirth': 'GAYA', 'citizenOfIndia': 'Y', 'residentOfIndia': 'Y', 'occupationType': 'Professional', 'areaofOccupation': 'Professional', 'educationalQualificationothers': \"Bachelor's degree\", 'pan': 'NLRPS2411C', 'designation': 'Director', 'directorCategory': 'Promoter', 'whetherNonED': 'Executive director', 'MobileNo': '07975735563', 'emailid': 'bipulkumarsingh6690@gmail.com', 'SpicePartBSubscribersPermAddress': {'addressType': 'Permanent Address', 'line1': 'Post-goga gram', 'line2': 'mobarakchak wazirganj', 'country': 'India', 'pincode': '805131', 'area': 'Gaya', 'city': 'Nawada', 'district': 'Nawada', 'state_ut': 'Bihar'}, 'ResidenseCorespondenceFlag': 'Y', 'SpicePartBSubscribersPresAddress': {'addressType': 'Present Address', 'line1': 'Post-goga gram', 'line2': 'mobarakchak wazirganj', 'country': 'India', 'pincode': '805131', 'area': 'Gaya', 'city': 'Nawada', 'district': 'Nawada', 'state_ut': 'Bihar', 'yearresidenseduration': '19', 'monthresidenseduration': '7'}, 'identityProofDocument': 'Aadhar Card', 'identityProofNumber': '249166905418', 'residentialProofDocument': 'Bank Statement', 'residentialProofNumber': '90656545143', 'Attachment1': {'fileAttachment': 'NLRPS2411C_Bipul_Aadhar.pdf'}, 'Attachment2': {'fileAttachment': 'NLRPS2411C_Bipul_bank_statement.pdf'}, 'totalSubscribedShareCapital': '5000', 'equitynumofclasses': '1', 'SpicePartBSubscribersEquityShares': [{'sharecategory': 'Equity Share', 'classShare': '1', 'subscribedcapitalsharenumber': '50', 'subscribedcapitalnominalamountpershare': '100', 'subscribedcapitaltotalamount': '5000'}], 'SpicePartBSubscribersPreferenceShares': [{'sharecategory': 'Preference Share'}], 'DirectorInterestedEntitiescount': '0', 'SpicePartBSubsDeclaration': [], 'inc9DeclarationFlag1': 'N'}])\n",
      "formData.SpicePartBDirectorsHavingDin : ('Missing in dict2', [{'category': 'Directors', 'SubscriberType': 'Directors Having DIN', 'SpicePartBSubsDeclaration': [{'shareholdingPercentage': '0'}]}])\n",
      "formData.SpicePartBDirectorsNotHavingDin : ('Missing in dict2', [{'category': 'Directors', 'SubscriberType': 'Directors Not Having DIN', 'SpicePartBSubscribersPermAddress': {'addressType': 'Permanent Address'}, 'SpicePartBSubscribersPresAddress': {'addressType': 'Present Address'}, 'SpicePartBSubsDeclaration': [{'shareholdingPercentage': '0'}]}])\n",
      "opcDetails.Permaddress : ('Missing in dict2', [{}])\n",
      "opcDetails.Presaddress : ('Missing in dict2', [{}])\n",
      "formData.SpiceBDeclarationDINPANDetails : ([{}], [])\n",
      "formData.formAttachment : ([{'attachmentLabel': 'SpiceBidentityPro7B', 'attachmentCategory': 'Attachment', 'activityFileName': 'BUTPJ7345F_Kashvi_Aadhar.pdf', 'activityFileSrcType': 'I', 'activityFileExt': 'pdf', 'activityFileSize': '146699', 'attachmentDMSId': '362798057', 'totalNoOfPages': '2', 'activityFileDate': '09/05/2023 18:55:56', 'publicDocument': 'Y', 'activityComments': '178360384:SpiceBidentityPro7B:Document added successfully.', 'versionNo': '0', 'folderName': '', 'addedBy': 'Fo User', 'formName': '', 'folderId': '178360384'}, {'attachmentLabel': 'SpiceBProofOfResi7B', 'attachmentCategory': 'Attachment', 'activityFileName': 'BUTPJ7345F_Kashvi_bank_statement.pdf', 'activityFileSrcType': 'I', 'activityFileExt': 'pdf', 'activityFileSize': '65384', 'attachmentDMSId': '362798070', 'totalNoOfPages': '14', 'activityFileDate': '09/05/2023 18:55:56', 'publicDocument': 'Y', 'activityComments': '178360384:SpiceBProofOfResi7B:Document added successfully.', 'versionNo': '0', 'folderName': '', 'addedBy': 'Fo User', 'formName': '', 'folderId': '178360384'}, {'attachmentLabel': 'SpiceBidentityPro7B', 'attachmentCategory': 'Attachment', 'activityFileName': 'NLRPS2411C_Bipul_Aadhar.pdf', 'activityFileSrcType': 'I', 'activityFileExt': 'pdf', 'activityFileSize': '694551', 'attachmentDMSId': '362798147', 'totalNoOfPages': '2', 'activityFileDate': '09/05/2023 18:55:56', 'publicDocument': 'Y', 'activityComments': '178360384:SpiceBidentityPro7B:Document added successfully.', 'versionNo': '0', 'folderName': '', 'addedBy': 'Fo User', 'formName': '', 'folderId': '178360384'}, {'attachmentLabel': 'SpiceBProofOfResi7B', 'attachmentCategory': 'Attachment', 'activityFileName': 'NLRPS2411C_Bipul_bank_statement.pdf', 'activityFileSrcType': 'I', 'activityFileExt': 'pdf', 'activityFileSize': '114182', 'attachmentDMSId': '362798162', 'totalNoOfPages': '3', 'activityFileDate': '09/05/2023 18:55:56', 'publicDocument': 'Y', 'activityComments': '178360384:SpiceBProofOfResi7B:Document added successfully.', 'versionNo': '0', 'folderName': '', 'addedBy': 'Fo User', 'formName': '', 'folderId': '178360384'}, {'attachmentLabel': 'SpiceBidentityPro7B', 'attachmentCategory': 'Attachment', 'activityFileName': 'BUTPJ7345F_Kashvi_Aadhar.pdf', 'activityFileSrcType': 'I', 'activityFileExt': 'pdf', 'activityFileSize': '146699', 'attachmentDMSId': '362350730', 'totalNoOfPages': '2', 'activityFileDate': '09/05/2023 18:55:56', 'publicDocument': 'Y', 'activityComments': '178202502:SpiceBidentityPro7B:Document added successfully.', 'versionNo': '0', 'folderName': '', 'addedBy': 'Fo User', 'formName': '', 'folderId': '178202502'}, {'attachmentLabel': 'SpiceBProofOfResi7B', 'attachmentCategory': 'Attachment', 'activityFileName': 'BUTPJ7345F_Kashvi_bank_statement.pdf', 'activityFileSrcType': 'I', 'activityFileExt': 'pdf', 'activityFileSize': '65384', 'attachmentDMSId': '362350755', 'totalNoOfPages': '14', 'activityFileDate': '09/05/2023 18:55:56', 'publicDocument': 'Y', 'activityComments': '178202502:SpiceBProofOfResi7B:Document added successfully.', 'versionNo': '0', 'folderName': '', 'addedBy': 'Fo User', 'formName': '', 'folderId': '178202502'}, {'attachmentLabel': 'SpiceBidentityPro7B', 'attachmentCategory': 'Attachment', 'activityFileName': 'NLRPS2411C_Bipul_Aadhar.pdf', 'activityFileSrcType': 'I', 'activityFileExt': 'pdf', 'activityFileSize': '694551', 'attachmentDMSId': '362350812', 'totalNoOfPages': '2', 'activityFileDate': '09/05/2023 18:55:56', 'publicDocument': 'Y', 'activityComments': '178202502:SpiceBidentityPro7B:Document added successfully.', 'versionNo': '0', 'folderName': '', 'addedBy': 'Fo User', 'formName': '', 'folderId': '178202502'}, {'attachmentLabel': 'SpiceBProofOfResi7B', 'attachmentCategory': 'Attachment', 'activityFileName': 'NLRPS2411C_Bipul_bank_statement.pdf', 'activityFileSrcType': 'I', 'activityFileExt': 'pdf', 'activityFileSize': '114182', 'attachmentDMSId': '362350838', 'totalNoOfPages': '3', 'activityFileDate': '09/05/2023 18:55:56', 'publicDocument': 'Y', 'activityComments': '178202502:SpiceBProofOfResi7B:Document added successfully.', 'versionNo': '0', 'folderName': '', 'addedBy': 'Fo User', 'formName': '', 'folderId': '178202502'}, {'attachmentLabel': 'SpiceBidentityPro7B', 'attachmentCategory': 'Attachment', 'activityFileName': 'BUTPJ7345F_Kashvi_Aadhar.pdf', 'activityFileSrcType': 'I', 'activityFileExt': 'pdf', 'activityFileSize': '146699', 'attachmentDMSId': '362334106', 'totalNoOfPages': '2', 'activityFileDate': '09/05/2023 18:55:56', 'publicDocument': 'Y', 'activityComments': '178192677:SpiceBidentityPro7B:Document added successfully.', 'versionNo': '0', 'folderName': '', 'addedBy': 'Fo User', 'formName': '', 'folderId': '178192677'}, {'attachmentLabel': 'SpiceBProofOfResi7B', 'attachmentCategory': 'Attachment', 'activityFileName': 'BUTPJ7345F_Kashvi_bank_statement.pdf', 'activityFileSrcType': 'I', 'activityFileExt': 'pdf', 'activityFileSize': '65384', 'attachmentDMSId': '362335826', 'totalNoOfPages': '14', 'activityFileDate': '09/05/2023 18:55:56', 'publicDocument': 'Y', 'activityComments': '178198161:SpiceBProofOfResi7B:Document added successfully.', 'versionNo': '0', 'folderName': '', 'addedBy': 'Fo User', 'formName': '', 'folderId': '178198161'}, {'attachmentLabel': 'SpiceBidentityPro7B', 'attachmentCategory': 'Attachment', 'activityFileName': 'NLRPS2411C_Bipul_Aadhar.pdf', 'activityFileSrcType': 'I', 'activityFileExt': 'pdf', 'activityFileSize': '694551', 'attachmentDMSId': '362337971', 'totalNoOfPages': '2', 'activityFileDate': '09/05/2023 18:55:56', 'publicDocument': 'Y', 'activityComments': '178198161:SpiceBidentityPro7B:Document added successfully.', 'versionNo': '0', 'folderName': '', 'addedBy': 'Fo User', 'formName': '', 'folderId': '178198161'}, {'attachmentLabel': 'SpiceBProofOfResi7B', 'attachmentCategory': 'Attachment', 'activityFileName': 'NLRPS2411C_Bipul_bank_statement.pdf', 'activityFileSrcType': 'I', 'activityFileExt': 'pdf', 'activityFileSize': '114182', 'attachmentDMSId': '362338008', 'totalNoOfPages': '3', 'activityFileDate': '09/05/2023 18:55:56', 'publicDocument': 'Y', 'activityComments': '178198161:SpiceBProofOfResi7B:Document added successfully.', 'versionNo': '0', 'folderName': '', 'addedBy': 'Fo User', 'formName': '', 'folderId': '178198161'}, {'attachmentLabel': 'SpiceBidentityPro7B', 'attachmentCategory': 'Attachment', 'activityFileName': 'BUTPJ7345F_Kashvi_Aadhar.pdf', 'activityFileSrcType': 'I', 'activityFileExt': 'pdf', 'activityFileSize': '146699', 'attachmentDMSId': '362343896', 'totalNoOfPages': '2', 'activityFileDate': '09/05/2023 18:55:56', 'publicDocument': 'Y', 'activityComments': '178198161:SpiceBidentityPro7B:Document added successfully.', 'versionNo': '0', 'folderName': '', 'addedBy': 'Fo User', 'formName': '', 'folderId': '178198161'}, {'attachmentLabel': 'SpiceBProofOfResi7B', 'attachmentCategory': 'Attachment', 'activityFileName': 'BUTPJ7345F_Kashvi_bank_statement.pdf', 'activityFileSrcType': 'I', 'activityFileExt': 'pdf', 'activityFileSize': '65384', 'attachmentDMSId': '362343919', 'totalNoOfPages': '14', 'activityFileDate': '09/05/2023 18:55:56', 'publicDocument': 'Y', 'activityComments': '178198161:SpiceBProofOfResi7B:Document added successfully.', 'versionNo': '0', 'folderName': '', 'addedBy': 'Fo User', 'formName': '', 'folderId': '178198161'}, {'attachmentLabel': 'SpiceBidentityPro7B', 'attachmentCategory': 'Attachment', 'activityFileName': 'NLRPS2411C_Bipul_Aadhar.pdf', 'activityFileSrcType': 'I', 'activityFileExt': 'pdf', 'activityFileSize': '694551', 'attachmentDMSId': '362343987', 'totalNoOfPages': '2', 'activityFileDate': '09/05/2023 18:55:56', 'publicDocument': 'Y', 'activityComments': '178198161:SpiceBidentityPro7B:Document added successfully.', 'versionNo': '0', 'folderName': '', 'addedBy': 'Fo User', 'formName': '', 'folderId': '178198161'}, {'attachmentLabel': 'SpiceBProofOfResi7B', 'attachmentCategory': 'Attachment', 'activityFileName': 'NLRPS2411C_Bipul_bank_statement.pdf', 'activityFileSrcType': 'I', 'activityFileExt': 'pdf', 'activityFileSize': '114182', 'attachmentDMSId': '362344016', 'totalNoOfPages': '3', 'activityFileDate': '09/05/2023 18:55:56', 'publicDocument': 'Y', 'activityComments': '178198161:SpiceBProofOfResi7B:Document added successfully.', 'versionNo': '0', 'folderName': '', 'addedBy': 'Fo User', 'formName': '', 'folderId': '178198161'}, {'attachmentLabel': 'SpiceBproofAddress', 'attachmentCategory': 'Attachment', 'activityFileName': '1noc innolegalniti.pdf', 'activityFileSrcType': 'I', 'activityFileExt': 'pdf', 'activityFileSize': '273819', 'attachmentDMSId': '362796226', 'totalNoOfPages': '1', 'activityFileDate': '09/05/2023 18:55:56', 'publicDocument': 'Y', 'activityComments': '178343561:SpiceBproofAddress:Document added successfully.', 'versionNo': '0', 'folderName': '', 'addedBy': 'Fo User', 'formName': '', 'folderId': '178343561'}, {'attachmentLabel': 'SpiceBcopyUtility', 'attachmentCategory': 'Attachment', 'activityFileName': 'add_proof.jpeg', 'activityFileSrcType': 'I', 'activityFileExt': 'jpeg', 'activityFileSize': '125564', 'attachmentDMSId': '362796243', 'totalNoOfPages': '1', 'activityFileDate': '09/05/2023 18:55:56', 'publicDocument': 'Y', 'activityComments': '178343561:SpiceBcopyUtility:Document added successfully.', 'versionNo': '0', 'folderName': '', 'addedBy': 'Fo User', 'formName': '', 'folderId': '178343561'}, {'attachmentLabel': 'SpiceBidentityPro7B', 'attachmentCategory': 'Attachment', 'activityFileName': 'BUTPJ7345F_Kashvi_Aadhar.pdf', 'activityFileSrcType': 'I', 'activityFileExt': 'pdf', 'activityFileSize': '146699', 'attachmentDMSId': '362796326', 'totalNoOfPages': '2', 'activityFileDate': '09/05/2023 18:55:56', 'publicDocument': 'Y', 'activityComments': '178343561:SpiceBidentityPro7B:Document added successfully.', 'versionNo': '0', 'folderName': '', 'addedBy': 'Fo User', 'formName': '', 'folderId': '178343561'}, {'attachmentLabel': 'SpiceBProofOfResi7B', 'attachmentCategory': 'Attachment', 'activityFileName': 'BUTPJ7345F_Kashvi_bank_statement.pdf', 'activityFileSrcType': 'I', 'activityFileExt': 'pdf', 'activityFileSize': '65384', 'attachmentDMSId': '362796338', 'totalNoOfPages': '14', 'activityFileDate': '09/05/2023 18:55:56', 'publicDocument': 'Y', 'activityComments': '178343561:SpiceBProofOfResi7B:Document added successfully.', 'versionNo': '0', 'folderName': '', 'addedBy': 'Fo User', 'formName': '', 'folderId': '178343561'}, {'attachmentLabel': 'SpiceBidentityPro7B', 'attachmentCategory': 'Attachment', 'activityFileName': 'NLRPS2411C_Bipul_Aadhar.pdf', 'activityFileSrcType': 'I', 'activityFileExt': 'pdf', 'activityFileSize': '694551', 'attachmentDMSId': '362796383', 'totalNoOfPages': '2', 'activityFileDate': '09/05/2023 18:55:56', 'publicDocument': 'Y', 'activityComments': '178343561:SpiceBidentityPro7B:Document added successfully.', 'versionNo': '0', 'folderName': '', 'addedBy': 'Fo User', 'formName': '', 'folderId': '178343561'}, {'attachmentLabel': 'SpiceBProofOfResi7B', 'attachmentCategory': 'Attachment', 'activityFileName': 'NLRPS2411C_Bipul_bank_statement.pdf', 'activityFileSrcType': 'I', 'activityFileExt': 'pdf', 'activityFileSize': '114182', 'attachmentDMSId': '362796394', 'totalNoOfPages': '3', 'activityFileDate': '09/05/2023 18:55:56', 'publicDocument': 'Y', 'activityComments': '178343561:SpiceBProofOfResi7B:Document added successfully.', 'versionNo': '0', 'folderName': '', 'addedBy': 'Fo User', 'formName': '', 'folderId': '178343561'}], [{'attachmentLabel': 'SpiceBproofAddress', 'attachmentCategory': 'Attachment', 'activityFileName': '1noc innolegalniti.pdf', 'activityFileSrcPath': '178343561', 'activityFileSrcType': 'I', 'activityFileExt': 'pdf', 'activityFileSize': '273819', 'attachmentDMSId': '362796226', 'totalNoOfPages': '1', 'activityFileDate': '09/05/2023', 'publicDocument': 'Y', 'activityComments': '178343561:SpiceBproofAddress:Document added successfully.', 'folderName': '', 'folderId': '178343561', 'version': '', 'addedBy': 'Fo User'}, {'attachmentLabel': 'SpiceBcopyUtility', 'attachmentCategory': 'Attachment', 'activityFileName': 'add_proof.jpeg', 'activityFileSrcPath': '178343561', 'activityFileSrcType': 'I', 'activityFileExt': 'jpeg', 'activityFileSize': '125564', 'attachmentDMSId': '362796243', 'totalNoOfPages': '1', 'activityFileDate': '09/05/2023', 'publicDocument': 'Y', 'activityComments': '178343561:SpiceBcopyUtility:Document added successfully.', 'folderName': '', 'folderId': '178343561', 'version': '', 'addedBy': 'Fo User'}, {'attachmentLabel': 'SpiceBidentityPro7B', 'attachmentCategory': 'Attachment', 'activityFileName': 'BUTPJ7345F_Kashvi_Aadhar.pdf', 'activityFileSrcPath': '178343561', 'activityFileSrcType': 'I', 'activityFileExt': 'pdf', 'activityFileSize': '146699', 'attachmentDMSId': '362796326', 'totalNoOfPages': '2', 'activityFileDate': '09/05/2023', 'publicDocument': 'Y', 'activityComments': '178343561:SpiceBidentityPro7B:Document added successfully.', 'folderName': '', 'folderId': '178343561', 'version': '', 'addedBy': 'Fo User'}, {'attachmentLabel': 'SpiceBProofOfResi7B', 'attachmentCategory': 'Attachment', 'activityFileName': 'BUTPJ7345F_Kashvi_bank_statement.pdf', 'activityFileSrcPath': '178343561', 'activityFileSrcType': 'I', 'activityFileExt': 'pdf', 'activityFileSize': '65384', 'attachmentDMSId': '362796338', 'totalNoOfPages': '14', 'activityFileDate': '09/05/2023', 'publicDocument': 'Y', 'activityComments': '178343561:SpiceBProofOfResi7B:Document added successfully.', 'folderName': '', 'folderId': '178343561', 'version': '', 'addedBy': 'Fo User'}, {'attachmentLabel': 'SpiceBidentityPro7B', 'attachmentCategory': 'Attachment', 'activityFileName': 'NLRPS2411C_Bipul_Aadhar.pdf', 'activityFileSrcPath': '178343561', 'activityFileSrcType': 'I', 'activityFileExt': 'pdf', 'activityFileSize': '694551', 'attachmentDMSId': '362796383', 'totalNoOfPages': '2', 'activityFileDate': '09/05/2023', 'publicDocument': 'Y', 'activityComments': '178343561:SpiceBidentityPro7B:Document added successfully.', 'folderName': '', 'folderId': '178343561', 'version': '', 'addedBy': 'Fo User'}, {'attachmentLabel': 'SpiceBProofOfResi7B', 'attachmentCategory': 'Attachment', 'activityFileName': 'NLRPS2411C_Bipul_bank_statement.pdf', 'activityFileSrcPath': '178343561', 'activityFileSrcType': 'I', 'activityFileExt': 'pdf', 'activityFileSize': '114182', 'attachmentDMSId': '362796394', 'totalNoOfPages': '3', 'activityFileDate': '09/05/2023', 'publicDocument': 'Y', 'activityComments': '178343561:SpiceBProofOfResi7B:Document added successfully.', 'folderName': '', 'folderId': '178343561', 'version': '', 'addedBy': 'Fo User'}])\n",
      "formData.SpicePartBShares : ('Missing in dict1', [{'classShare': '1', 'authorizedcapitalsharenumber': '1000', 'subscribedcapitalsharenumber': '100', 'authorizedcapitalnominalamountpershare': '100', 'subscribedcapitalnominalamountpershare': '100', 'authorizedcapitaltotalamount': '100000', 'subscribedcapitaltotalamount': '100000', 'sharecategory': 'Equity Share'}])\n",
      "formData.SpicePartBSubscribers : ('Missing in dict1', [{'SubscriberType': 'Subscriber CUM Director No DIN', 'category': 'Individual First subscribers cum Directors', 'firstName': 'Kashvi', 'MiddleName': 'Dileep', 'Surname': 'Jain', 'fatherFirstName': 'Dileep', 'fatherMiddleName': 'Kumar', 'fatherSurName': 'Jain', 'gender': 'Female', 'dateOfBirth': '10/19/2000', 'nationality': 'India', 'placeofBirth': 'Bangalore', 'citizenOfIndia': 'Y', 'residentOfIndia': 'Y', 'occupationType': 'Professional', 'areaofOccupation': 'Professional', 'educationalQualificationothers': \"Bachelor's degree\", 'pan': 'BUTPJ7345F', 'designation': 'Director', 'directorCategory': 'Promoter', 'whetherNonED': 'Executive director', 'MobileNo': '9481829401', 'emailid': 'kashvijain19@gmail.com', 'ResidenseCorespondenceFlag': 'Y', 'identityProofDocument': 'Aadhar Card', 'identityProofNumber': '935902622081', 'residentialProofDocument': 'Bank Statement', 'residentialProofNumber': '090656545143', 'Attachment1': {'fileAttachment': 'BUTPJ7345F_Kashvi_Aadhar.jpg'}, 'Attachment2': {'fileAttachment': 'BUTPJ7345F_Kashvi_address_proof.jpg'}, 'totalSubscribedShareCapital': '', 'equitynumofclasses': '1', 'DirectorInterestedEntitiescount': '0', 'SpicePartBSubsDeclaration': [], 'inc9DeclarationFlag1': 'N', 'din': '', 'SpicePartBSubscribersShares': [{'sharecategory': 'Equity Share', 'classShare': '1', 'subscribedcapitalsharenumber': '50', 'subscribedcapitalnominalamountpershare': '100', 'subscribedcapitaltotalamount': '5000'}], 'SpicePartBSubscribersAddress': [{'addressType': 'Permanent Address', 'line1': 'Chandra Vilasa 2nd Floor', 'line2': 'Chandra Shekar Layout', 'country': 'India', 'pincode': '560004', 'area': 'Basavanagudi', 'city': 'Bangalore', 'district': 'Bangalore', 'state_ut': 'Karnataka'}, {'addressType': 'Present Address', 'line1': 'Chandra Vilasa 2nd Floor', 'line2': 'Chandra Shekar Layout', 'country': 'India', 'pincode': '560004', 'area': 'Basavanagudi', 'city': 'Bangalore', 'district': 'Bangalore', 'state_ut': 'Karnataka', 'yearresidenseduration': '22', 'monthresidenseduration': '7'}]}, {'SubscriberType': 'Subscriber CUM Director No DIN', 'category': 'Individual First subscribers cum Directors', 'firstName': 'BIPUL', 'MiddleName': 'KUMAR', 'Surname': 'SINGH', 'fatherFirstName': 'CHANDRADEEP', 'fatherMiddleName': '', 'fatherSurName': 'SINGH', 'gender': 'Male', 'dateOfBirth': '09/18/2002', 'nationality': 'India', 'placeofBirth': 'GAYA', 'citizenOfIndia': 'Y', 'residentOfIndia': 'Y', 'occupationType': 'Professional', 'areaofOccupation': 'Professional', 'educationalQualificationothers': \"Bachelor's degree\", 'pan': 'NLRPS2411C', 'designation': 'Director', 'directorCategory': 'Promoter', 'whetherNonED': 'Executive director', 'MobileNo': '07975735563', 'emailid': 'bipulkumarsingh6690@gmail.com', 'ResidenseCorespondenceFlag': 'Y', 'identityProofDocument': 'Aadhar Card', 'identityProofNumber': '249166905418', 'residentialProofDocument': 'Bank Statement', 'residentialProofNumber': '90656545143', 'Attachment1': {'fileAttachment': 'NLRPS2411C_Bipul_Aadhar.jpg'}, 'Attachment2': {'fileAttachment': 'NLRPS2411C_Bipul_address_proof.jpg'}, 'totalSubscribedShareCapital': '', 'equitynumofclasses': '1', 'DirectorInterestedEntitiescount': '0', 'SpicePartBSubsDeclaration': [], 'inc9DeclarationFlag1': 'N', 'din': '', 'SpicePartBSubscribersShares': [{'sharecategory': 'Equity Share', 'classShare': '1', 'subscribedcapitalsharenumber': '50', 'subscribedcapitalnominalamountpershare': '100', 'subscribedcapitaltotalamount': '5000'}], 'SpicePartBSubscribersAddress': [{'addressType': 'Permanent Address', 'line1': 'Post-goga gram', 'line2': 'mobarakchak wazirganj', 'country': 'India', 'pincode': '805131', 'area': 'Gaya', 'city': 'Nawada', 'district': 'Nawada', 'state_ut': 'Bihar'}, {'addressType': 'Present Address', 'line1': 'Post-goga gram', 'line2': 'mobarakchak wazirganj', 'country': 'India', 'pincode': '805131', 'area': 'Gaya', 'city': 'Nawada', 'district': 'Nawada', 'state_ut': 'Bihar', 'yearresidenseduration': '19', 'monthresidenseduration': '7'}]}])\n",
      "formData.SpicePartBINDVSubscribers : ('Missing in dict1', [])\n",
      "requestBody.formVersion : ('1693920646292', '1693900746656')\n",
      "requestBody.formattachList : ('Missing in dict2', '[{\"attachmentLabel\":\"SpiceBproofAddress\",\"attachmentCategory\":\"Attachment\",\"activityFileName\":\"1noc innolegalniti.pdf\",\"activityFileSrcType\":\"I\",\"activityFileExt\":\"pdf\",\"activityFileSize\":\"273819\",\"attachmentDMSId\":\"362797461\",\"totalNoOfPages\":\"1\",\"activityFileDate\":\"09/05/2023 18:55:56\",\"publicDocument\":\"Y\",\"activityComments\":\"178360384:SpiceBproofAddress:Document added successfully.\",\"versionNo\":\"0\",\"folderName\":\"\",\"addedBy\":\"Fo User\",\"formName\":\"\",\"folderId\":\"178360384\"},{\"attachmentLabel\":\"SpiceBcopyUtility\",\"attachmentCategory\":\"Attachment\",\"activityFileName\":\"add_proof.jpeg\",\"activityFileSrcType\":\"I\",\"activityFileExt\":\"jpeg\",\"activityFileSize\":\"125564\",\"attachmentDMSId\":\"362797482\",\"totalNoOfPages\":\"1\",\"activityFileDate\":\"09/05/2023 18:55:56\",\"publicDocument\":\"Y\",\"activityComments\":\"178360384:SpiceBcopyUtility:Document added successfully.\",\"versionNo\":\"0\",\"folderName\":\"\",\"addedBy\":\"Fo User\",\"formName\":\"\",\"folderId\":\"178360384\"},{\"attachmentLabel\":\"SpiceBidentityPro7B\",\"attachmentCategory\":\"Attachment\",\"activityFileName\":\"BUTPJ7345F_Kashvi_Aadhar.pdf\",\"activityFileSrcType\":\"I\",\"activityFileExt\":\"pdf\",\"activityFileSize\":\"146699\",\"attachmentDMSId\":\"362798057\",\"totalNoOfPages\":\"2\",\"activityFileDate\":\"09/05/2023 18:55:56\",\"publicDocument\":\"Y\",\"activityComments\":\"178360384:SpiceBidentityPro7B:Document added successfully.\",\"versionNo\":\"0\",\"folderName\":\"\",\"addedBy\":\"Fo User\",\"formName\":\"\",\"folderId\":\"178360384\"},{\"attachmentLabel\":\"SpiceBProofOfResi7B\",\"attachmentCategory\":\"Attachment\",\"activityFileName\":\"BUTPJ7345F_Kashvi_bank_statement.pdf\",\"activityFileSrcType\":\"I\",\"activityFileExt\":\"pdf\",\"activityFileSize\":\"65384\",\"attachmentDMSId\":\"362798070\",\"totalNoOfPages\":\"14\",\"activityFileDate\":\"09/05/2023 18:55:56\",\"publicDocument\":\"Y\",\"activityComments\":\"178360384:SpiceBProofOfResi7B:Document added successfully.\",\"versionNo\":\"0\",\"folderName\":\"\",\"addedBy\":\"Fo User\",\"formName\":\"\",\"folderId\":\"178360384\"},{\"attachmentLabel\":\"SpiceBidentityPro7B\",\"attachmentCategory\":\"Attachment\",\"activityFileName\":\"NLRPS2411C_Bipul_Aadhar.pdf\",\"activityFileSrcType\":\"I\",\"activityFileExt\":\"pdf\",\"activityFileSize\":\"694551\",\"attachmentDMSId\":\"362798147\",\"totalNoOfPages\":\"2\",\"activityFileDate\":\"09/05/2023 18:55:56\",\"publicDocument\":\"Y\",\"activityComments\":\"178360384:SpiceBidentityPro7B:Document added successfully.\",\"versionNo\":\"0\",\"folderName\":\"\",\"addedBy\":\"Fo User\",\"formName\":\"\",\"folderId\":\"178360384\"},{\"attachmentLabel\":\"SpiceBProofOfResi7B\",\"attachmentCategory\":\"Attachment\",\"activityFileName\":\"NLRPS2411C_Bipul_bank_statement.pdf\",\"activityFileSrcType\":\"I\",\"activityFileExt\":\"pdf\",\"activityFileSize\":\"114182\",\"attachmentDMSId\":\"362798162\",\"totalNoOfPages\":\"3\",\"activityFileDate\":\"09/05/2023 18:55:56\",\"publicDocument\":\"Y\",\"activityComments\":\"178360384:SpiceBProofOfResi7B:Document added successfully.\",\"versionNo\":\"0\",\"folderName\":\"\",\"addedBy\":\"Fo User\",\"formName\":\"\",\"folderId\":\"178360384\"},{\"attachmentLabel\":\"SpiceBidentityPro7B\",\"attachmentCategory\":\"Attachment\",\"activityFileName\":\"BUTPJ7345F_Kashvi_Aadhar.pdf\",\"activityFileSrcType\":\"I\",\"activityFileExt\":\"pdf\",\"activityFileSize\":\"146699\",\"attachmentDMSId\":\"362350730\",\"totalNoOfPages\":\"2\",\"activityFileDate\":\"09/05/2023 18:55:56\",\"publicDocument\":\"Y\",\"activityComments\":\"178202502:SpiceBidentityPro7B:Document added successfully.\",\"versionNo\":\"0\",\"folderName\":\"\",\"addedBy\":\"Fo User\",\"formName\":\"\",\"folderId\":\"178202502\"},{\"attachmentLabel\":\"SpiceBProofOfResi7B\",\"attachmentCategory\":\"Attachment\",\"activityFileName\":\"BUTPJ7345F_Kashvi_bank_statement.pdf\",\"activityFileSrcType\":\"I\",\"activityFileExt\":\"pdf\",\"activityFileSize\":\"65384\",\"attachmentDMSId\":\"362350755\",\"totalNoOfPages\":\"14\",\"activityFileDate\":\"09/05/2023 18:55:56\",\"publicDocument\":\"Y\",\"activityComments\":\"178202502:SpiceBProofOfResi7B:Document added successfully.\",\"versionNo\":\"0\",\"folderName\":\"\",\"addedBy\":\"Fo User\",\"formName\":\"\",\"folderId\":\"178202502\"},{\"attachmentLabel\":\"SpiceBidentityPro7B\",\"attachmentCategory\":\"Attachment\",\"activityFileName\":\"NLRPS2411C_Bipul_Aadhar.pdf\",\"activityFileSrcType\":\"I\",\"activityFileExt\":\"pdf\",\"activityFileSize\":\"694551\",\"attachmentDMSId\":\"362350812\",\"totalNoOfPages\":\"2\",\"activityFileDate\":\"09/05/2023 18:55:56\",\"publicDocument\":\"Y\",\"activityComments\":\"178202502:SpiceBidentityPro7B:Document added successfully.\",\"versionNo\":\"0\",\"folderName\":\"\",\"addedBy\":\"Fo User\",\"formName\":\"\",\"folderId\":\"178202502\"},{\"attachmentLabel\":\"SpiceBProofOfResi7B\",\"attachmentCategory\":\"Attachment\",\"activityFileName\":\"NLRPS2411C_Bipul_bank_statement.pdf\",\"activityFileSrcType\":\"I\",\"activityFileExt\":\"pdf\",\"activityFileSize\":\"114182\",\"attachmentDMSId\":\"362350838\",\"totalNoOfPages\":\"3\",\"activityFileDate\":\"09/05/2023 18:55:56\",\"publicDocument\":\"Y\",\"activityComments\":\"178202502:SpiceBProofOfResi7B:Document added successfully.\",\"versionNo\":\"0\",\"folderName\":\"\",\"addedBy\":\"Fo User\",\"formName\":\"\",\"folderId\":\"178202502\"},{\"attachmentLabel\":\"SpiceBproofAddress\",\"attachmentCategory\":\"Attachment\",\"activityFileName\":\"1noc innolegalniti.pdf\",\"activityFileSrcType\":\"I\",\"activityFileExt\":\"pdf\",\"activityFileSize\":\"273819\",\"attachmentDMSId\":\"362343408\",\"totalNoOfPages\":\"1\",\"activityFileDate\":\"09/05/2023 18:55:56\",\"publicDocument\":\"Y\",\"activityComments\":\"178198161:SpiceBproofAddress:Document added successfully.\",\"versionNo\":\"0\",\"folderName\":\"\",\"addedBy\":\"Fo User\",\"formName\":\"\",\"folderId\":\"178198161\"},{\"attachmentLabel\":\"SpiceBcopyUtility\",\"attachmentCategory\":\"Attachment\",\"activityFileName\":\"add_proof.jpeg\",\"activityFileSrcType\":\"I\",\"activityFileExt\":\"jpeg\",\"activityFileSize\":\"125564\",\"attachmentDMSId\":\"362343427\",\"totalNoOfPages\":\"1\",\"activityFileDate\":\"09/05/2023 18:55:56\",\"publicDocument\":\"Y\",\"activityComments\":\"178198161:SpiceBcopyUtility:Document added successfully.\",\"versionNo\":\"0\",\"folderName\":\"\",\"addedBy\":\"Fo User\",\"formName\":\"\",\"folderId\":\"178198161\"},{\"attachmentLabel\":\"SpiceBidentityPro7B\",\"attachmentCategory\":\"Attachment\",\"activityFileName\":\"BUTPJ7345F_Kashvi_Aadhar.pdf\",\"activityFileSrcType\":\"I\",\"activityFileExt\":\"pdf\",\"activityFileSize\":\"146699\",\"attachmentDMSId\":\"362334106\",\"totalNoOfPages\":\"2\",\"activityFileDate\":\"09/05/2023 18:55:56\",\"publicDocument\":\"Y\",\"activityComments\":\"178192677:SpiceBidentityPro7B:Document added successfully.\",\"versionNo\":\"0\",\"folderName\":\"\",\"addedBy\":\"Fo User\",\"formName\":\"\",\"folderId\":\"178192677\"},{\"attachmentLabel\":\"SpiceBProofOfResi7B\",\"attachmentCategory\":\"Attachment\",\"activityFileName\":\"BUTPJ7345F_Kashvi_bank_statement.pdf\",\"activityFileSrcType\":\"I\",\"activityFileExt\":\"pdf\",\"activityFileSize\":\"65384\",\"attachmentDMSId\":\"362335826\",\"totalNoOfPages\":\"14\",\"activityFileDate\":\"09/05/2023 18:55:56\",\"publicDocument\":\"Y\",\"activityComments\":\"178198161:SpiceBProofOfResi7B:Document added successfully.\",\"versionNo\":\"0\",\"folderName\":\"\",\"addedBy\":\"Fo User\",\"formName\":\"\",\"folderId\":\"178198161\"},{\"attachmentLabel\":\"SpiceBidentityPro7B\",\"attachmentCategory\":\"Attachment\",\"activityFileName\":\"NLRPS2411C_Bipul_Aadhar.pdf\",\"activityFileSrcType\":\"I\",\"activityFileExt\":\"pdf\",\"activityFileSize\":\"694551\",\"attachmentDMSId\":\"362337971\",\"totalNoOfPages\":\"2\",\"activityFileDate\":\"09/05/2023 18:55:56\",\"publicDocument\":\"Y\",\"activityComments\":\"178198161:SpiceBidentityPro7B:Document added successfully.\",\"versionNo\":\"0\",\"folderName\":\"\",\"addedBy\":\"Fo User\",\"formName\":\"\",\"folderId\":\"178198161\"},{\"attachmentLabel\":\"SpiceBProofOfResi7B\",\"attachmentCategory\":\"Attachment\",\"activityFileName\":\"NLRPS2411C_Bipul_bank_statement.pdf\",\"activityFileSrcType\":\"I\",\"activityFileExt\":\"pdf\",\"activityFileSize\":\"114182\",\"attachmentDMSId\":\"362338008\",\"totalNoOfPages\":\"3\",\"activityFileDate\":\"09/05/2023 18:55:56\",\"publicDocument\":\"Y\",\"activityComments\":\"178198161:SpiceBProofOfResi7B:Document added successfully.\",\"versionNo\":\"0\",\"folderName\":\"\",\"addedBy\":\"Fo User\",\"formName\":\"\",\"folderId\":\"178198161\"},{\"attachmentLabel\":\"SPICE + Part B\",\"attachmentCategory\":\"Forms\",\"activityFileName\":\"1-10390758310.pdf\",\"activityFileSrcType\":\"I\",\"activityFileExt\":\"pdf\",\"activityFileSize\":\"1610392\",\"attachmentDMSId\":\"358237989\",\"totalNoOfPages\":\"32\",\"activityFileDate\":\"09/05/2023 18:55:56\",\"publicDocument\":\"Y\",\"activityComments\":\"Generated PDF Stored Successfully\",\"versionNo\":\"1\",\"folderName\":\"176558686\",\"addedBy\":\"Fo User\",\"formName\":\"\",\"folderId\":\"176558686\"},{\"attachmentLabel\":\"SPICE + Part B\",\"attachmentCategory\":\"Forms\",\"activityFileName\":\"1-10390758310.pdf\",\"activityFileSrcType\":\"I\",\"activityFileExt\":\"pdf\",\"activityFileSize\":\"1610392\",\"attachmentDMSId\":\"358237996\",\"totalNoOfPages\":\"32\",\"activityFileDate\":\"09/05/2023 18:55:56\",\"publicDocument\":\"Y\",\"activityComments\":\"Generated PDF Stored Successfully\",\"versionNo\":\"1\",\"folderName\":\"176558686\",\"addedBy\":\"Fo User\",\"formName\":\"\",\"folderId\":\"176558686\"},{\"attachmentLabel\":\"SPICE + Part B\",\"attachmentCategory\":\"Forms\",\"activityFileName\":\"1-10390758310.pdf\",\"activityFileSrcType\":\"I\",\"activityFileExt\":\"pdf\",\"activityFileSize\":\"1610377\",\"attachmentDMSId\":\"358237937\",\"totalNoOfPages\":\"32\",\"activityFileDate\":\"09/05/2023 18:55:56\",\"publicDocument\":\"Y\",\"activityComments\":\"Generated PDF Stored Successfully\",\"versionNo\":\"1\",\"folderName\":\"176558686\",\"addedBy\":\"Fo User\",\"formName\":\"\",\"folderId\":\"176558686\"},{\"attachmentLabel\":\"SPICE + Part B\",\"attachmentCategory\":\"Forms\",\"activityFileName\":\"1-10390758310.pdf\",\"activityFileSrcType\":\"I\",\"activityFileExt\":\"pdf\",\"activityFileSize\":\"1610390\",\"attachmentDMSId\":\"358275169\",\"totalNoOfPages\":\"32\",\"activityFileDate\":\"09/05/2023 18:55:56\",\"publicDocument\":\"Y\",\"activityComments\":\"Generated PDF Stored Successfully\",\"versionNo\":\"1\",\"folderName\":\"176558686\",\"addedBy\":\"Fo User\",\"formName\":\"\",\"folderId\":\"176558686\"},{\"attachmentLabel\":\"Signed_FO_SPICE + Part B\",\"attachmentCategory\":\"Forms\",\"activityFileName\":\"SpiceB_Legalniti[1].pdf\",\"activityFileSrcType\":\"I\",\"activityFileExt\":\"pdf\",\"activityFileSize\":\"1682771\",\"attachmentDMSId\":\"358528660\",\"totalNoOfPages\":\"32\",\"activityFileDate\":\"09/05/2023 18:55:56\",\"publicDocument\":\"Y\",\"activityComments\":\"176558686:dorUpdated:Document added successfully.\",\"versionNo\":\"1\",\"folderName\":\"176558686\",\"addedBy\":\"Fo User\",\"formName\":\"\",\"folderId\":\"176558686\"},{\"attachmentLabel\":\"Signed_FO_SPICE + Part B\",\"attachmentCategory\":\"Forms\",\"activityFileName\":\"SpiceB_Legalniti[1].pdf\",\"activityFileSrcType\":\"I\",\"activityFileExt\":\"pdf\",\"activityFileSize\":\"1682771\",\"attachmentDMSId\":\"358528953\",\"totalNoOfPages\":\"32\",\"activityFileDate\":\"09/05/2023 18:55:56\",\"publicDocument\":\"Y\",\"activityComments\":\"176558686:dorUpdated:Document added successfully.\",\"versionNo\":\"1\",\"folderName\":\"176558686\",\"addedBy\":\"Fo User\",\"formName\":\"\",\"folderId\":\"176558686\"},{\"attachmentLabel\":\"Receipt\",\"attachmentCategory\":\"Receipt\",\"activityFileName\":\"AA4274782_Receipt.pdf\",\"activityFileSrcType\":\"I\",\"activityFileExt\":\"pdf\",\"activityFileSize\":\"2332\",\"attachmentDMSId\":\"358771768\",\"totalNoOfPages\":\"1\",\"activityFileDate\":\"09/05/2023 18:55:56\",\"publicDocument\":\"Y\",\"activityComments\":\"176558686:dorUpdated:Document added successfully.\",\"versionNo\":\"1\",\"folderName\":\"176558686\",\"addedBy\":\"Fo User\",\"formName\":\"\",\"folderId\":\"176558686\"},{\"attachmentLabel\":\"SpiceBidentityPro7B\",\"attachmentCategory\":\"Attachment\",\"activityFileName\":\"BUTPJ7345F_Kashvi_Aadhar.pdf\",\"activityFileSrcType\":\"I\",\"activityFileExt\":\"pdf\",\"activityFileSize\":\"146699\",\"attachmentDMSId\":\"362343896\",\"totalNoOfPages\":\"2\",\"activityFileDate\":\"09/05/2023 18:55:56\",\"publicDocument\":\"Y\",\"activityComments\":\"178198161:SpiceBidentityPro7B:Document added successfully.\",\"versionNo\":\"0\",\"folderName\":\"\",\"addedBy\":\"Fo User\",\"formName\":\"\",\"folderId\":\"178198161\"},{\"attachmentLabel\":\"SpiceBProofOfResi7B\",\"attachmentCategory\":\"Attachment\",\"activityFileName\":\"BUTPJ7345F_Kashvi_bank_statement.pdf\",\"activityFileSrcType\":\"I\",\"activityFileExt\":\"pdf\",\"activityFileSize\":\"65384\",\"attachmentDMSId\":\"362343919\",\"totalNoOfPages\":\"14\",\"activityFileDate\":\"09/05/2023 18:55:56\",\"publicDocument\":\"Y\",\"activityComments\":\"178198161:SpiceBProofOfResi7B:Document added successfully.\",\"versionNo\":\"0\",\"folderName\":\"\",\"addedBy\":\"Fo User\",\"formName\":\"\",\"folderId\":\"178198161\"},{\"attachmentLabel\":\"SpiceBidentityPro7B\",\"attachmentCategory\":\"Attachment\",\"activityFileName\":\"NLRPS2411C_Bipul_Aadhar.pdf\",\"activityFileSrcType\":\"I\",\"activityFileExt\":\"pdf\",\"activityFileSize\":\"694551\",\"attachmentDMSId\":\"362343987\",\"totalNoOfPages\":\"2\",\"activityFileDate\":\"09/05/2023 18:55:56\",\"publicDocument\":\"Y\",\"activityComments\":\"178198161:SpiceBidentityPro7B:Document added successfully.\",\"versionNo\":\"0\",\"folderName\":\"\",\"addedBy\":\"Fo User\",\"formName\":\"\",\"folderId\":\"178198161\"},{\"attachmentLabel\":\"SpiceBProofOfResi7B\",\"attachmentCategory\":\"Attachment\",\"activityFileName\":\"NLRPS2411C_Bipul_bank_statement.pdf\",\"activityFileSrcType\":\"I\",\"activityFileExt\":\"pdf\",\"activityFileSize\":\"114182\",\"attachmentDMSId\":\"362344016\",\"totalNoOfPages\":\"3\",\"activityFileDate\":\"09/05/2023 18:55:56\",\"publicDocument\":\"Y\",\"activityComments\":\"178198161:SpiceBProofOfResi7B:Document added successfully.\",\"versionNo\":\"0\",\"folderName\":\"\",\"addedBy\":\"Fo User\",\"formName\":\"\",\"folderId\":\"178198161\"},{\"attachmentLabel\":\"SPICE + Part B\",\"attachmentCategory\":\"Forms\",\"activityFileName\":\"AA4274782.pdf\",\"activityFileSrcType\":\"I\",\"activityFileExt\":\"pdf\",\"activityFileSize\":\"3233871\",\"attachmentDMSId\":\"362380919\",\"totalNoOfPages\":\"32\",\"activityFileDate\":\"09/05/2023 18:55:56\",\"publicDocument\":\"Y\",\"activityComments\":\"Generated PDF Stored Successfully\",\"versionNo\":\"0\",\"folderName\":\"178202502\",\"addedBy\":\"Fo User\",\"formName\":\"\",\"folderId\":\"178202502\"},{\"attachmentLabel\":\"SPICE + Part B\",\"attachmentCategory\":\"Forms\",\"activityFileName\":\"AA4274782.pdf\",\"activityFileSrcType\":\"I\",\"activityFileExt\":\"pdf\",\"activityFileSize\":\"3087228\",\"attachmentDMSId\":\"362485870\",\"totalNoOfPages\":\"32\",\"activityFileDate\":\"09/05/2023 18:55:56\",\"publicDocument\":\"Y\",\"activityComments\":\"Generated PDF Stored Successfully\",\"versionNo\":\"0\",\"folderName\":\"178202502\",\"addedBy\":\"Fo User\",\"formName\":\"\",\"folderId\":\"178202502\"},{\"attachmentLabel\":\"SPICE + Part B\",\"attachmentCategory\":\"Forms\",\"activityFileName\":\"AA4274782.pdf\",\"activityFileSrcType\":\"I\",\"activityFileExt\":\"pdf\",\"activityFileSize\":\"3038284\",\"attachmentDMSId\":\"362485869\",\"totalNoOfPages\":\"32\",\"activityFileDate\":\"09/05/2023 18:55:56\",\"publicDocument\":\"Y\",\"activityComments\":\"Generated PDF Stored Successfully\",\"versionNo\":\"0\",\"folderName\":\"178202502\",\"addedBy\":\"Fo User\",\"formName\":\"\",\"folderId\":\"178202502\"},{\"attachmentLabel\":\"SPICE + Part B\",\"attachmentCategory\":\"Forms\",\"activityFileName\":\"AA4274782.pdf\",\"activityFileSrcType\":\"I\",\"activityFileExt\":\"pdf\",\"activityFileSize\":\"2823476\",\"attachmentDMSId\":\"362485864\",\"totalNoOfPages\":\"32\",\"activityFileDate\":\"09/05/2023 18:55:56\",\"publicDocument\":\"Y\",\"activityComments\":\"Generated PDF Stored Successfully\",\"versionNo\":\"0\",\"folderName\":\"178202502\",\"addedBy\":\"Fo User\",\"formName\":\"\",\"folderId\":\"178202502\"},{\"attachmentLabel\":\"SPICE + Part B\",\"attachmentCategory\":\"Forms\",\"activityFileName\":\"AA4274782.pdf\",\"activityFileSrcType\":\"I\",\"activityFileExt\":\"pdf\",\"activityFileSize\":\"3233970\",\"attachmentDMSId\":\"362485877\",\"totalNoOfPages\":\"32\",\"activityFileDate\":\"09/05/2023 18:55:56\",\"publicDocument\":\"Y\",\"activityComments\":\"Generated PDF Stored Successfully\",\"versionNo\":\"0\",\"folderName\":\"178202502\",\"addedBy\":\"Fo User\",\"formName\":\"\",\"folderId\":\"178202502\"},{\"attachmentLabel\":\"SPICE + Part B\",\"attachmentCategory\":\"Forms\",\"activityFileName\":\"AA4274782.pdf\",\"activityFileSrcType\":\"I\",\"activityFileExt\":\"pdf\",\"activityFileSize\":\"3233877\",\"attachmentDMSId\":\"362634466\",\"totalNoOfPages\":\"32\",\"activityFileDate\":\"09/05/2023 18:55:56\",\"publicDocument\":\"Y\",\"activityComments\":\"Generated PDF Stored Successfully\",\"versionNo\":\"0\",\"folderName\":\"178202502\",\"addedBy\":\"Fo User\",\"formName\":\"\",\"folderId\":\"178202502\"},{\"attachmentLabel\":\"SpiceBproofAddress\",\"attachmentCategory\":\"Attachment\",\"activityFileName\":\"1noc innolegalniti.pdf\",\"activityFileSrcType\":\"I\",\"activityFileExt\":\"pdf\",\"activityFileSize\":\"273819\",\"attachmentDMSId\":\"362796226\",\"totalNoOfPages\":\"1\",\"activityFileDate\":\"09/05/2023 18:55:56\",\"publicDocument\":\"Y\",\"activityComments\":\"178343561:SpiceBproofAddress:Document added successfully.\",\"versionNo\":\"0\",\"folderName\":\"\",\"addedBy\":\"Fo User\",\"formName\":\"\",\"folderId\":\"178343561\"},{\"attachmentLabel\":\"SpiceBcopyUtility\",\"attachmentCategory\":\"Attachment\",\"activityFileName\":\"add_proof.jpeg\",\"activityFileSrcType\":\"I\",\"activityFileExt\":\"jpeg\",\"activityFileSize\":\"125564\",\"attachmentDMSId\":\"362796243\",\"totalNoOfPages\":\"1\",\"activityFileDate\":\"09/05/2023 18:55:56\",\"publicDocument\":\"Y\",\"activityComments\":\"178343561:SpiceBcopyUtility:Document added successfully.\",\"versionNo\":\"0\",\"folderName\":\"\",\"addedBy\":\"Fo User\",\"formName\":\"\",\"folderId\":\"178343561\"},{\"attachmentLabel\":\"SpiceBidentityPro7B\",\"attachmentCategory\":\"Attachment\",\"activityFileName\":\"BUTPJ7345F_Kashvi_Aadhar.pdf\",\"activityFileSrcType\":\"I\",\"activityFileExt\":\"pdf\",\"activityFileSize\":\"146699\",\"attachmentDMSId\":\"362796326\",\"totalNoOfPages\":\"2\",\"activityFileDate\":\"09/05/2023 18:55:56\",\"publicDocument\":\"Y\",\"activityComments\":\"178343561:SpiceBidentityPro7B:Document added successfully.\",\"versionNo\":\"0\",\"folderName\":\"\",\"addedBy\":\"Fo User\",\"formName\":\"\",\"folderId\":\"178343561\"},{\"attachmentLabel\":\"SpiceBProofOfResi7B\",\"attachmentCategory\":\"Attachment\",\"activityFileName\":\"BUTPJ7345F_Kashvi_bank_statement.pdf\",\"activityFileSrcType\":\"I\",\"activityFileExt\":\"pdf\",\"activityFileSize\":\"65384\",\"attachmentDMSId\":\"362796338\",\"totalNoOfPages\":\"14\",\"activityFileDate\":\"09/05/2023 18:55:56\",\"publicDocument\":\"Y\",\"activityComments\":\"178343561:SpiceBProofOfResi7B:Document added successfully.\",\"versionNo\":\"0\",\"folderName\":\"\",\"addedBy\":\"Fo User\",\"formName\":\"\",\"folderId\":\"178343561\"},{\"attachmentLabel\":\"SpiceBidentityPro7B\",\"attachmentCategory\":\"Attachment\",\"activityFileName\":\"NLRPS2411C_Bipul_Aadhar.pdf\",\"activityFileSrcType\":\"I\",\"activityFileExt\":\"pdf\",\"activityFileSize\":\"694551\",\"attachmentDMSId\":\"362796383\",\"totalNoOfPages\":\"2\",\"activityFileDate\":\"09/05/2023 18:55:56\",\"publicDocument\":\"Y\",\"activityComments\":\"178343561:SpiceBidentityPro7B:Document added successfully.\",\"versionNo\":\"0\",\"folderName\":\"\",\"addedBy\":\"Fo User\",\"formName\":\"\",\"folderId\":\"178343561\"},{\"attachmentLabel\":\"SpiceBProofOfResi7B\",\"attachmentCategory\":\"Attachment\",\"activityFileName\":\"NLRPS2411C_Bipul_bank_statement.pdf\",\"activityFileSrcType\":\"I\",\"activityFileExt\":\"pdf\",\"activityFileSize\":\"114182\",\"attachmentDMSId\":\"362796394\",\"totalNoOfPages\":\"3\",\"activityFileDate\":\"09/05/2023 18:55:56\",\"publicDocument\":\"Y\",\"activityComments\":\"178343561:SpiceBProofOfResi7B:Document added successfully.\",\"versionNo\":\"0\",\"folderName\":\"\",\"addedBy\":\"Fo User\",\"formName\":\"\",\"folderId\":\"178343561\"}]')\n",
      "requestBody.correspondenceaddress_proofOfAddress : ('Missing in dict2', '1noc innolegalniti.pdf')\n",
      "requestBody.correspondenceaddress_copyOfUtilityBills : ('Missing in dict2', 'add_proof.jpeg')\n",
      "requestBody.docForProofOfidentity4 : ('Missing in dict2', 'MAX 2MB')\n",
      "requestBody.docForProofOfResidential4 : ('Missing in dict2', 'MAX 2MB')\n",
      "requestBody.memorandumOfAssociation : ('Missing in dict2', 'MAX 2MB')\n",
      "requestBody.articlesOfAssociation : ('Missing in dict2', 'MAX 2MB')\n",
      "requestBody.declarationbyFirstSubscriber : ('Missing in dict2', 'MAX 2MB')\n",
      "requestBody.copyOfCertificateOfIncorporation : ('Missing in dict2', 'MAX 2MB')\n",
      "requestBody.resolutionPassed : ('Missing in dict2', 'MAX 2MB')\n",
      "requestBody.interestOfFirstDirector : ('Missing in dict2', 'MAX 2MB')\n",
      "requestBody.optionalAttachment : ('Missing in dict2', 'MAX 2MB')\n",
      "requestBody.DIN2DSC : ('Missing in dict2', 'DIN1')\n",
      "requestBody.DIN3DSC : ('Missing in dict2', 'DIN2')\n",
      "requestBody.formAttachment : ('Missing in dict1', [{'attachmentLabel': 'SpiceBproofAddress', 'attachmentCategory': 'Attachment', 'activityFileName': '1noc innolegalniti.pdf', 'activityFileSrcPath': '178343561', 'activityFileSrcType': 'I', 'activityFileExt': 'pdf', 'activityFileSize': '273819', 'attachmentDMSId': '362796226', 'totalNoOfPages': '1', 'activityFileDate': '09/05/2023', 'publicDocument': 'Y', 'activityComments': '178343561:SpiceBproofAddress:Document added successfully.', 'folderName': '', 'folderId': '178343561', 'version': '', 'addedBy': 'Fo User'}, {'attachmentLabel': 'SpiceBcopyUtility', 'attachmentCategory': 'Attachment', 'activityFileName': 'add_proof.jpeg', 'activityFileSrcPath': '178343561', 'activityFileSrcType': 'I', 'activityFileExt': 'jpeg', 'activityFileSize': '125564', 'attachmentDMSId': '362796243', 'totalNoOfPages': '1', 'activityFileDate': '09/05/2023', 'publicDocument': 'Y', 'activityComments': '178343561:SpiceBcopyUtility:Document added successfully.', 'folderName': '', 'folderId': '178343561', 'version': '', 'addedBy': 'Fo User'}, {'attachmentLabel': 'SpiceBidentityPro7B', 'attachmentCategory': 'Attachment', 'activityFileName': 'BUTPJ7345F_Kashvi_Aadhar.pdf', 'activityFileSrcPath': '178343561', 'activityFileSrcType': 'I', 'activityFileExt': 'pdf', 'activityFileSize': '146699', 'attachmentDMSId': '362796326', 'totalNoOfPages': '2', 'activityFileDate': '09/05/2023', 'publicDocument': 'Y', 'activityComments': '178343561:SpiceBidentityPro7B:Document added successfully.', 'folderName': '', 'folderId': '178343561', 'version': '', 'addedBy': 'Fo User'}, {'attachmentLabel': 'SpiceBProofOfResi7B', 'attachmentCategory': 'Attachment', 'activityFileName': 'BUTPJ7345F_Kashvi_bank_statement.pdf', 'activityFileSrcPath': '178343561', 'activityFileSrcType': 'I', 'activityFileExt': 'pdf', 'activityFileSize': '65384', 'attachmentDMSId': '362796338', 'totalNoOfPages': '14', 'activityFileDate': '09/05/2023', 'publicDocument': 'Y', 'activityComments': '178343561:SpiceBProofOfResi7B:Document added successfully.', 'folderName': '', 'folderId': '178343561', 'version': '', 'addedBy': 'Fo User'}, {'attachmentLabel': 'SpiceBidentityPro7B', 'attachmentCategory': 'Attachment', 'activityFileName': 'NLRPS2411C_Bipul_Aadhar.pdf', 'activityFileSrcPath': '178343561', 'activityFileSrcType': 'I', 'activityFileExt': 'pdf', 'activityFileSize': '694551', 'attachmentDMSId': '362796383', 'totalNoOfPages': '2', 'activityFileDate': '09/05/2023', 'publicDocument': 'Y', 'activityComments': '178343561:SpiceBidentityPro7B:Document added successfully.', 'folderName': '', 'folderId': '178343561', 'version': '', 'addedBy': 'Fo User'}, {'attachmentLabel': 'SpiceBProofOfResi7B', 'attachmentCategory': 'Attachment', 'activityFileName': 'NLRPS2411C_Bipul_bank_statement.pdf', 'activityFileSrcPath': '178343561', 'activityFileSrcType': 'I', 'activityFileExt': 'pdf', 'activityFileSize': '114182', 'attachmentDMSId': '362796394', 'totalNoOfPages': '3', 'activityFileDate': '09/05/2023', 'publicDocument': 'Y', 'activityComments': '178343561:SpiceBProofOfResi7B:Document added successfully.', 'folderName': '', 'folderId': '178343561', 'version': '', 'addedBy': 'Fo User'}])\n",
      "requestBody.operation : ('Missing in dict1', 'Save')\n",
      "requestBody.action : ('Missing in dict1', 'savesubmit')\n",
      "requestBody.formId : ('Missing in dict1', '')\n",
      "requestBody.formIntegrationId : ('Missing in dict1', '1-4XBOSNE')\n",
      "requestBody.comments : ('Missing in dict1', '')\n"
     ]
    }
   ],
   "source": [
    "def find_nested_key_differences(dict1, dict2, parent_key=\"\"):\n",
    "    differences = {}\n",
    "\n",
    "    for key in dict1.keys():\n",
    "        if key not in dict2:\n",
    "            differences[parent_key + '.' + key if parent_key else key] = (\"Missing in dict2\", dict1[key])\n",
    "        elif isinstance(dict1[key], dict) and isinstance(dict2[key], dict):\n",
    "            nested_diffs = find_nested_key_differences(dict1[key], dict2[key], key)\n",
    "            differences.update(nested_diffs)\n",
    "        elif dict1[key] != dict2[key]:\n",
    "            differences[parent_key + '.' + key if parent_key else key] = (dict1[key], dict2[key])\n",
    "\n",
    "    for key in dict2.keys():\n",
    "        if key not in dict1:\n",
    "            differences[parent_key + '.' + key if parent_key else key] = (\"Missing in dict1\", dict2[key])\n",
    "\n",
    "    return differences\n",
    "\n",
    "\n",
    "differences = find_nested_key_differences(afBoundData['data'], payload8_json)\n",
    "for key, value in differences.items():\n",
    "    print(key, \":\", value)"
   ]
  },
  {
   "cell_type": "code",
   "execution_count": 217,
   "metadata": {},
   "outputs": [
    {
     "data": {
      "text/plain": [
       "dict_keys(['requestBody'])"
      ]
     },
     "execution_count": 217,
     "metadata": {},
     "output_type": "execute_result"
    }
   ],
   "source": [
    "afBoundData['data'].keys()"
   ]
  },
  {
   "cell_type": "code",
   "execution_count": 216,
   "metadata": {},
   "outputs": [
    {
     "data": {
      "text/plain": [
       "dict_keys(['requestBody'])"
      ]
     },
     "execution_count": 216,
     "metadata": {},
     "output_type": "execute_result"
    }
   ],
   "source": [
    "payload8_json.keys()"
   ]
  }
 ],
 "metadata": {
  "interpreter": {
   "hash": "916dbcbb3f70747c44a77c7bcd40155683ae19c65e1c03b4aa3499c5328201f1"
  },
  "kernelspec": {
   "display_name": "Python 3.10.6 64-bit",
   "language": "python",
   "name": "python3"
  },
  "language_info": {
   "codemirror_mode": {
    "name": "ipython",
    "version": 3
   },
   "file_extension": ".py",
   "mimetype": "text/x-python",
   "name": "python",
   "nbconvert_exporter": "python",
   "pygments_lexer": "ipython3",
   "version": "3.10.12"
  },
  "orig_nbformat": 4
 },
 "nbformat": 4,
 "nbformat_minor": 2
}
