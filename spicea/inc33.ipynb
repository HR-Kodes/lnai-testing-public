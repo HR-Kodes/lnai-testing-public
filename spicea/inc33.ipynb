{
 "cells": [
  {
   "cell_type": "code",
   "execution_count": 48,
   "metadata": {},
   "outputs": [],
   "source": [
    "import json\n",
    "import json\n",
    "from datetime import datetime\n",
    "import requests\n",
    "import json\n",
    "from requests_toolbelt.multipart.encoder import MultipartEncoder\n"
   ]
  },
  {
   "cell_type": "code",
   "execution_count": 49,
   "metadata": {},
   "outputs": [],
   "source": [
    "\n",
    "\n",
    "url = \"https://www.mca.gov.in/bin/mca/login\"\n",
    "\n",
    "headers = {\n",
    "    \"Origin\": \"www.mca.gov.in\",\n",
    "    \"Content-Type\": \"application/x-www-form-urlencoded; charset=UTF-8\"}\n",
    "data = \"data=Ut8pBOc0RSM6iYqffqN1oiyj9WvJGiJEVVlWEbrO16gkiUbYKGssebXlM%2Bcc1l6%2FH53ORIVejkqRQNJO6whx4OCP6P3nRpnWDjVVIN5IRbmcNMmCFHf2ri7KqE4SRlNjYCw9u2LKROliTfvv63AV9eiPCiRWO5aLhpI2CVZau9pnzCFWwsAby4nwrZ19gu8G0zsW1uZyNhasaqAt7a%2F%2FLQ%3D%3D\"\n",
    "response = requests.post(url, headers=headers, data=data)\n",
    "set_cookie_value = response.headers.get('Set-Cookie')\n",
    "start_index = set_cookie_value.find(\"session-token=\") + len(\"session-token=\")\n",
    "end_index = set_cookie_value.find(\";\", start_index)\n",
    "session_token = set_cookie_value[start_index:end_index]\n"
   ]
  },
  {
   "cell_type": "code",
   "execution_count": 50,
   "metadata": {},
   "outputs": [],
   "source": [
    "srn = '1-10266506010'\n"
   ]
  },
  {
   "cell_type": "code",
   "execution_count": 51,
   "metadata": {},
   "outputs": [
    {
     "name": "stdout",
     "output_type": "stream",
     "text": [
      "Response:\n",
      "{\"message\":\"Data fetched Successfully\",\"error\":\"\",\"linkedForms\":[{\"integrationId\":\"1-4PSEUQI\",\"primaryParentSRId\":\"No Match Row Id\",\"formAttachment\":[{\"attachmentDMSId\":\"355040064\"}],\"referenceNumber\":\"1-10266506010\",\"formName\":\"Spice+ Part A\",\"srnNumber\":\"AA3956178\",\"action\":{\"type\":\"07-SEP-23\",\"status\":\"29-AUG-23\"},\"parentServiceRequestId\":\"\",\"updated\":\"2023-08-10T01:48:43.000+05:30\",\"status\":\"Approved\",\"approvalDate\":\"09-AUG-23\"},{\"integrationId\":\"1-4RUE0FA\",\"spiceBDirectorDeclaration\":{\"membershipNumber\":\"271843\",\"certificateofPracticeNumber\":\"FRN026299S\",\"associate_Fellow\":\"Associate\",\"practiceNumber_declaration\":\"FRN026299S\",\"LegalProffesion\":\"Chartered Accountant\",\"dropdown2\":\"Chartered Accountant\",\"membershipNumber_declaration\":\"271843\"},\"primaryParentSRId\":\"No Match Row Id\",\"formAttachment\":[{\"attachmentDMSId\":\"363273332\"}],\"referenceNumber\":\"1-10390758310\",\"formName\":\"SPICE + Part B\",\"srnNumber\":\"AA4274782\",\"parentServiceRequestId\":\"1-4PSEUQI\",\"updated\":\"2023-09-07T17:35:52.000+05:30\",\"status\":\"Resubmission Required\"},{\"integrationId\":\"1-4ZZ3W0I\",\"primaryParentSRId\":\"1-4PSEUQI\",\"formAttachment\":[{\"attachmentDMSId\":\"363272803\"}],\"referenceNumber\":\"1-10882413522\",\"formName\":\"AGILE PRO\",\"srnNumber\":\"\",\"action\":[{\"type\":\"\",\"status\":\"\"}],\"parentServiceRequestId\":\"1-4RUE0FA\",\"updated\":\"2023-09-07T17:34:41.000+05:30\",\"status\":\"PDF Uploaded\"},{\"integrationId\":\"1-4ZZ3W0S\",\"primaryParentSRId\":\"1-4PSEUQI\",\"formAttachment\":[{\"attachmentDMSId\":\"363273521\"}],\"referenceNumber\":\"1-10882413532\",\"formName\":\"INC-34\",\"srnNumber\":\"\",\"parentServiceRequestId\":\"1-4RUE0FA\",\"inc34WitnessDetails\":[{\"witnessPrefix\":\"\",\"witnessPassportDinPan\":\"271843\"}],\"updated\":\"2023-09-07T17:36:20.000+05:30\",\"status\":\"PDF Uploaded\"},{\"integrationId\":\"1-4ZZ3W13\",\"primaryParentSRId\":\"1-4PSEUQI\",\"formAttachment\":[{\"attachmentDMSId\":\"363436750\"}],\"referenceNumber\":\"1-10882413543\",\"formName\":\"INC-33\",\"srnNumber\":\"\",\"parentServiceRequestId\":\"1-4RUE0FA\",\"updated\":\"2023-09-07T23:54:50.000+05:30\",\"status\":\"Submitted\",\"inc33WitnessDetails\":{\"membershipTypeOfWitness\":\"ACA\",\"id\":\"271843\"}},{\"integrationId\":\"1-4ZZ3W1F\",\"primaryParentSRId\":\"1-4PSEUQI\",\"formAttachment\":[{\"attachmentDMSId\":\"363275395\"}],\"referenceNumber\":\"1-10882413555\",\"formName\":\"INC-9\",\"srnNumber\":\"\",\"parentServiceRequestId\":\"1-4RUE0FA\",\"updated\":\"2023-09-07T17:40:18.000+05:30\",\"status\":\"PDF Uploaded\"}]}\n"
     ]
    }
   ],
   "source": [
    "url = 'https://www.mca.gov.in/bin/spiceDashboard'\n",
    "params = {'srn': f'{srn}'}\n",
    "headers = {\n",
    "    'Cookie': f'cookiesession1=678B2869A3F37E351C741CDEA2BC2CAE; session-token={session_token}',\n",
    "    'User-Agent': 'Mozilla/5.0 (X11; Linux x86_64; rv:109.0) Gecko/20100101 Firefox/115.0',\n",
    "    'Accept': '*/*',\n",
    "    'Accept-Language': 'en-US,en;q=0.5',\n",
    "    'Accept-Encoding': 'gzip, deflate',\n",
    "    'X-Requested-With': 'XMLHttpRequest',\n",
    "    'Sec-Fetch-Dest': 'empty',\n",
    "    'Sec-Fetch-Mode': 'cors',\n",
    "    'Sec-Fetch-Site': 'same-origin',\n",
    "    'Te': 'trailers'\n",
    "}\n",
    "\n",
    "try:\n",
    "    response = requests.get(url, params=params, headers=headers)\n",
    "    response.raise_for_status()  # Check if the request was successful\n",
    "    print(\"Response:\")\n",
    "    print(response.text)  # Print the response content if needed\n",
    "except requests.exceptions.RequestException as e:\n",
    "    print(f\"Error: {e}\")\n"
   ]
  },
  {
   "cell_type": "code",
   "execution_count": 52,
   "metadata": {},
   "outputs": [],
   "source": [
    "a = json.loads(response.text)['linkedForms']\n"
   ]
  },
  {
   "cell_type": "code",
   "execution_count": 53,
   "metadata": {},
   "outputs": [],
   "source": [
    "for i in a:\n",
    "    if i['formName'] == 'INC-33':\n",
    "        ref_no = i['referenceNumber']\n",
    "        psrid = i['primaryParentSRId']\n"
   ]
  },
  {
   "cell_type": "code",
   "execution_count": 54,
   "metadata": {},
   "outputs": [
    {
     "data": {
      "text/plain": [
       "'1-10882413543'"
      ]
     },
     "execution_count": 54,
     "metadata": {},
     "output_type": "execute_result"
    }
   ],
   "source": [
    "ref_no\n"
   ]
  },
  {
   "cell_type": "code",
   "execution_count": 55,
   "metadata": {},
   "outputs": [
    {
     "name": "stdout",
     "output_type": "stream",
     "text": [
      "Status Code: 200\n",
      "Response Content:\n",
      "{\"error\":\"\",\"message\":\"Data Fetched Successfully\",\"data\":{\"formData\":{\"formIntegrationId\":\"1-4ZZ3W15\",\"tableApplicableToCompany\":\"A - MEMORANDUM OF ASSOCIATION OF A COMPANY LIMITED BY SHARES\",\"nameOfCompany\":\"INNOLEGALNITI PRIVATE LIMITED\",\"regOfficeState\":\"Karnataka\",\"objectsToBePursued\":\"To carry on the profession of consultants, advisers, representatives, advocates, attorneys, liaisioner, agents, accountants, serviceman, middleman, arbitrator, conciliator, liquidator, secretary and solicitor on different subjects such as legal, financial and taxation.To act as financial consultants, management consultants, and provide advice, services, consultancy in various fields, general administrative, secretarial, company law, corporate law, commercial, financial legal, economic, labour law, industrial, public relations, scientific, technical, direct and indirect taxation and other levies, statistical, accountancy, cost accountancy, quality control and data processing and to take part in the formation, supervision or control of the business operations and any company or undertaking and for that purpose to act as an Issue House, Registrars and Share Transfer Agents, Secretaries, Financial Advisors or Technical Consultants or in any other capacity and to appoint and remunerate any directors, administrators or accountants or other experts or agents.To carry on the business of consultants in all fields, including the business of legal, industrial, business management, financial, cost accounting, recruitment personnel management, inventory control, import and export to advise on tax planning, to recruit people for all types of posts in all types of industries or offices and to make representations types of industries or offices, to act as financial consultants, management consultants, advisors of any firm, body corporate, association or other undertaking and generally subject as aforesaid and provide advice, services, consultancy in various fields, general administrative, secretarial, commercial, financial legal, economic, labour, industrial, public relations, technical, direct and indirect taxation and other levies, statistical, accountancy, quality control To provide all types of legal services including but not limited to drafting agreements, contracts, memorandum of understanding, rental agreements or any other contractual documentations, contractual or any other commercial, legal statutory documentation and to act as advisers and consultants on all legal matters to any business entities either Private Limited ,Public Limited, Government companies, proprietary concerns, partnership firms or any other legal entities in India or abroad. To provide arbitration services for rendering disputes between two or more parties including individuals, companies, proprietors, associates, unions or any other form of legal entities. To act as the arbitrators. To provide all types of legal services including but not limited to incorporation of company, registration of partnership firms, handling matters of TDS, income tax, Goods and Service Tax, sales tax, and preparation of financial statements.To carry on the business of Software designing, development, customisation, implementation, maintenance, testing and benchmarking, designing, developing and dealing in computer software and Artificial Intelligence Solutions, Natural Language Process and Deep Learning models, targeted at revolutionizing and transforming healthcare sector To carry on the business of providing, selling, purchasing, trading , production , distribution, customisation , development or otherwise deal in all types of applications, programs, mobile applications, web applications, products, portals, services , applications and other related services, manufacturing, designing, marketing, alter or otherwise deal in all types of devices, computers / parts & accessories / other related products, to provide support services , solutions and Consulting.\",\"mattersNecessary\":\"1. To buy all kinds of plant, equipment, machinery, apparatus, tools, utensils, commodities, substances, articles and things necessary or useful for carrying on the objects of the Company 2. To enter into agreement with any company or persons for (b) *Matters which are necessary for furtherance of the objects specified in clause 3(a) are Page 4 of 10 obtaining by grant of licence or on such other terms of all types, formulae and such other rights and benefits, technical information, know-how and expert guidance and equipment and machinery and things mentioned herein above and to arrange facilities for training of technical personnel by them. 3. To establish, provide, maintain and conduct or otherwise, subsidise research laboratories and experimental workshops for scientific and technical research and experiments and to undertake and carry on with all scientific and technical research, experiments and tests of all kinds and to promote studies and research both scientific and technical investigation and invention by providing, subsidising, endowing or assisting laboratories, workshops, libraries, lectures, meetings and conferences and by providing the remuneration to scientific and technical professors and teachers and to award, scholarships, prizes, grants and bursaries to students and to encourage, promote and reward studies, researches, investigations, experiments, tests and inventions of any kind that may be considered likely to assist the objects of the Company. 4. To acquire by concession, grant, purchase, licence or otherwise either absolutely or conditionally and either alone or jointly with others land, buildings, machinery, plants, utensils, works, conveniences and such other movable and immovable properties of any description and any patents, trademarks, concessions, privileges, brevets, d?invention, licences, protections and concessions conferring any exclusive or limited rights to any inventions, information whichmay seem necessary for any of the objects of the Company and to construct, maintain and alter any building or work, necessary Page 5 of 10 or convenient for the business of the Company and to pay for such land, buildings, works, property or rights or any such other property and rights purchased or acquired by or for the Company by shares, debentures, debenture stock, bonds or such other securities of the Company or otherwise and manage, develop or otherwise dispose of in such manner and for such consideration as may be deemed proper or expedient to attain the main objects of the Company. 5. Subject to the provisions of the Companies Act, 2013 to amalgamate with any other Company having objects altogether or in part similar to those of this Company. 6. To enter into any arrangement with any Government or Authorities Municipal, local or otherwise or any person or company in India or abroad, that may seem conducive to the objects of the company or any of them and to obtain from any such Government, Authority persons or company any rights, privileges, charters, contracts, licences and concessions including in particular rights in respect of waterways, roads and highways, which the Company may carry out, exercise and comply therewith. 7. To apply for and obtain any order of Central/State or such other Authority for enabling the Company to carry on any of its objects into effect or for effecting any modifications of the Company?s constitution or any other such purpose, which may seem expedient and to make representations against any proceedings or applications which may seem calculated directly or indirectly to prejudice the company?s interests. 8. To enter into partnership or into any arrangement for sharing profits, union of interests, co-operation, joint-venture, reciprocal concessions or otherwise with any person, or company carrying on or engaged Page 6 of 10 in any business or transaction which this Company is authorised to carry on. 9. To purchase or otherwise acquire and undertake the whole or any part of the business, property, rights and liabilities of any company, firms or person carrying on business which this Company is authorised to carry on or is possessed of rights suitable for the objects of this Company. 10. To do all or any of the above things as principals, agents, contractors, trustees or otherwise and by or through trustees, agents or otherwise and either alone or in conjunction with others and to do all such other things as are incidental or as may be conducive to the attainment of the objects or any of them. 11. To promote, form and register, aid in the promotion, formation and registration of any company or companies, subsidiary or otherwise for the purpose of acquiring all or any of the properties, rights and liabilities of this Company and to transfer to any such company any property of this company and to be interested in or take or otherwise acquire, hold, sell or otherwise dispose of shares, stock, debentures and such other securities of all types in or of any such company, subsidiary or otherwise for all or any of the objects mentioned in this Memorandum of Association and to assist any such company and to undertake the management and secretarial or such other work, duties and business on such terms as may be arranged. 12. To open accounts with any bank or financial institution and to draw make, accept, endorse, discount, execute and issue promissory notes, bills of exchange, hundies, bills of lading, warrants, debentures and such other negotiable or transferable instruments of all types and to buy the same. 13. Subject to the provisions Page 7 of 10 of the Companies Act, 2013 including the rules and regulations made therein and the directions issued by Reserve Bank of India to borrow, raise or secure the payment of money or to receive money as loan, at interest for any of the objects of the company and at such time or times as may be expedient, by promissory notes, bills of exchange, hundies, bills of lading, warrants or such other negotiable instruments of all types or by taking credit in or opening current accounts or over-draft accounts with any person, firm, bank or company and whether with or without any security or by such other means, as may deem expedient and in particular by the issue of debentures or debenture stock, perpetual or otherwise and in security for any such money so borrowed, raised or received and of any such debentures or debenture stock so issued, to mortgage, pledge or charge the whole or any part of the property and assets of the Company both present and future, including its uncalled capital, by special assignment or otherwise or to transfer or convey the same absolutely or in trust and to give the lenders power of sale and other powers as may seem expedient and to purchase, redeem or pay off such securities provided that the Company shall not carry on the business of banking within the meaning of the Banking Regulation Act, 1949. 14. To advance money not immediately required by the Company or give credit to such persons, firms or companies and on such terms with or without security as may seem expedient and in particular to customers of and such others having dealings with the Company and to give guarantees or securities of any such persons, firms, companies as may appear proper or reasonable provided that the Company shall not carry on the business of banking, within the Page 8 of 10 meaning of Banking Regulation Act, 1949. ( 4 ) 15. To improve alter, manage, develop, exchange, mortgage, enfranchise and dispose of, any part of the land, properties, assets and rights and the resources and undertakings of the Company, in such manner and on such terms as the Company may determine. 16. To remunerate any person or company, for services rendered or to be rendered in or about the formation or promotion of the Company or the conduct of its business, subject to the provisions of the Companies Act, 2013. 17. To create any depreciation fund, reserve fund, sinking fund, provident fund, super-annuation fund or any other such special fund, whether for depreciations, repairing, improving, extending or maintaining any of the properties and assets of the Company or for redemption of debentures or redeemable preference shares, worker?s welfare or for any other such purpose conducive to the interest of the Company. 18. To provide for the welfare of employees or exemployees (including Directors and other officers) of the Company and the wives and families or the dependents or connections of such persons, by building or contributing to the building of houses, or dwellings or chawls or by grants of money, pensions, allowances, bonus or other such payments or be creating and from time to time, subscribing or contributing to provident fund and other associations, institutions, funds or trusts, and/or by providing or subscribing or contributing towards places of instruction and recreation, hospitals and dispensaries, medical and such other attendances and assistance as the Company shall determine. 19. To undertake and Page 9 of 10 execute any trusts, the undertaking of which may seem desirable, either gratuitously or otherwise, for the attainment of the main objects of the Company. 20. To procure the incorporation, registration or such other recognition of the Company in the Country, State or place outside India and to establish and maintain local registers and branch places of the main business in any part of the world. 21. To adopt such means of making known the business of the Company as may seem expedient and in particular by advertising over the internet or any other electronic media and also in print media in the press by circulars, by purchase and exhibition of works of art or interest, by publication of books and periodicals and by granting prizes, rewards or organising exhibitions. 22. The company would obtain approval of the concerned authorities to carry on the objects of the company and the matters which are necessary for furtherance of the objects of the Company as given in this memorandum of association wherever required.\",\"costsChargesExpencesofWindingUp\":\"\",\"shareCapital\":\"100000\",\"shareCapitalDetails\":[{\"serialNumber\":\"\",\"dividedInto\":\"1000\",\"equityPreferenceType\":\"Equity Share\",\"rupeesEach\":\"100\",\"MOAcontent\":\"\",\"delimiterType\":\"\",\"shareClass\":\"1\"}],\"checkBox1\":\"Y\",\"checkBox2\":\"N\",\"checkBox3\":\"N\",\"subscribersDetails\":[{\"nameAddrDescOccu\":\"KASHVI DILEEP JAIN Chandra Vilasa 2nd Floor Chandra Shekar Layout Bangalore Karnataka 560004 Basavanagudi Bangalore India\",\"DINPANPassportNumber\":\"BUTPJ7345F\",\"numberOfSharesEquity\":\"50\",\"numberOfSharePreference\":\"\",\"subscriberdate\":\"\",\"serialNumber\":\"1\",\"CINFCRN\":\"\"},{\"nameAddrDescOccu\":\"BIPUL KUMAR SINGH Post-goga gram mobarakchak wazirganj Nawada Bihar 805131 Gaya Nawada India\",\"DINPANPassportNumber\":\"NLRPS2411C\",\"numberOfSharesEquity\":\"50\",\"numberOfSharePreference\":\"\",\"subscriberdate\":\"\",\"serialNumber\":\"2\",\"CINFCRN\":\"\"}],\"totalPrefrenceSharesTaken\":\"\",\"totalEquitySharesTaken\":\"\",\"membershipTypeOfWitness\":\"ACA\",\"nameOfTheWitness\":\"SRIKANTH REDDY\",\"addressDescOcupation\":\"171, 7th Main, 7th Cross,  Jayanagar 2nd Block,  Opp to Parasmani  Apartments, Bangalore  560011\",\"id\":\"271843\",\"date\":\"\",\"personFullName\":\"\",\"sonDaughter\":\"\",\"nameOfParent\":\"\",\"resident\":\"\",\"age\":\"\",\"formAttachment\":[{\"attachmentLabel\":\"INC-33\",\"attachmentCategory\":\"Forms\",\"activityFileName\":\"1-10882413543.pdf\",\"activityFileSrcType\":\"I\",\"activityFileExt\":\"pdf\",\"activityFileSize\":\"42944\",\"attachmentDMSId\":\"363436750\",\"totalNoOfPages\":\"10\",\"activityFileDate\":\"09/07/2023 18:26:45\",\"publicDocument\":\"Y\",\"activityComments\":\"Generated PDF Stored Successfully\",\"addedBy\":\"Fo User\",\"version\":\"0\",\"folderId\":\"178598675\",\"folderName\":\"2yJ1l1694091710318\"}],\"declarantName\":\"\",\"declarantDIN\":\"\",\"maxContributionAmount\":\"\",\"declarantVerifiedDate\":\"\",\"declarantResolutionNumber\":\"\",\"declarantAmendmentDetails\":\"\",\"declarantAmendmentDetails1\":\"\",\"declarantAmendmentDetails2\":\"\",\"declarantAmendmentDetails3\":\"\",\"declarantAmendmentDetails4\":\"\"},\"integrationId\":\"1-4ZZ3W13\",\"referenceNumber\":\"1-10882413543\",\"status\":\"Submitted\",\"reason\":\"\",\"lastUpdatedDate\":\"\",\"CIN\":\"\",\"userId\":\"CASRIKANTH0224@GMAIL.COM\"}}\n"
     ]
    }
   ],
   "source": [
    "import requests\n",
    "\n",
    "# Request headers and payload data\n",
    "headers = {\n",
    "    \"Host\": \"www.mca.gov.in\",\n",
    "    \"Cookie\": f\"cookiesession1=678B2869D727DAE036D48B6E36133C84;  session-token={session_token}\",\n",
    "    \"Content-Type\": \"application/x-www-form-urlencoded\",\n",
    "    \"Origin\": \"https://www.mca.gov.in\",\n",
    "    \"Referer\": \"https://www.mca.gov.in/content/mca/global/en/mca/e-filing/incorporation/INC-33.html?applicationHistory=eyJzcm4iOiJBQTM5NDE5NDIiLCJyZWZlcmVuY2UiOiIxLTEwMzAzNDIwNTI2IiwicHVycG9zZSI6IiJ9\",\n",
    "}\n",
    "\n",
    "payload = f'data=%7b%22requestBody%22%3a%7b%22referenceNumber%22%3a%22{ref_no}%22%2c%22action%22%3a%22viewForm%22%2c%22formName%22%3a%22INC-33%22%7d%7d'\n",
    "\n",
    "# Make the POST request\n",
    "url = \"https://www.mca.gov.in/bin/mca-gov/MOAformDetails\"\n",
    "response = requests.post(url, headers=headers, data=payload)\n",
    "\n",
    "# Print the response status and content\n",
    "print(f\"Status Code: {response.status_code}\")\n",
    "print(\"Response Content:\")\n",
    "print(response.text)\n"
   ]
  },
  {
   "cell_type": "code",
   "execution_count": 56,
   "metadata": {},
   "outputs": [],
   "source": [
    "data = json.loads(response.text)['data']\n"
   ]
  },
  {
   "cell_type": "code",
   "execution_count": 57,
   "metadata": {},
   "outputs": [],
   "source": [
    "c_name = data['formData']['nameOfCompany']\n",
    "reg_state = data['formData']['regOfficeState']\n",
    "formIntId = data['formData']['formIntegrationId']\n"
   ]
  },
  {
   "cell_type": "code",
   "execution_count": 58,
   "metadata": {},
   "outputs": [],
   "source": [
    "obj = r'''To carry on the profession of consultants, advisers, representatives, advocates, attorneys, liaisioner, agents, accountants, serviceman, middleman, arbitrator, conciliator, liquidator, secretary and solicitor on different subjects such as legal, financial and taxation.To act as financial consultants, management consultants, and provide advice, services, consultancy in various fields, general administrative, secretarial, company law, corporate law, commercial, financial legal, economic, labour law, industrial, public relations, scientific, technical, direct and indirect taxation and other levies, statistical, accountancy, cost accountancy, quality control and data processing and to take part in the formation, supervision or control of the business operations and any company or undertaking and for that purpose to act as an Issue House, Registrars and Share Transfer Agents, Secretaries, Financial Advisors or Technical Consultants or in any other capacity and to appoint and remunerate any directors, administrators or accountants or other experts or agents.To carry on the business of consultants in all fields, including the business of legal, industrial, business management, financial, cost accounting, recruitment personnel management, inventory control, import and export to advise on tax planning, to recruit people for all types of posts in all types of industries or offices and to make representations types of industries or offices, to act as financial consultants, management consultants, advisors of any firm, body corporate, association or other undertaking and generally subject as aforesaid and provide advice, services, consultancy in various fields, general administrative, secretarial, commercial, financial legal, economic, labour, industrial, public relations, technical, direct and indirect taxation and other levies, statistical, accountancy, quality control To provide all types of legal services including but not limited to drafting agreements, contracts, memorandum of understanding, rental agreements or any other contractual documentations, contractual or any other commercial, legal statutory documentation and to act as advisers and consultants on all legal matters to any business entities either Private Limited ,Public Limited, Government companies, proprietary concerns, partnership firms or any other legal entities in India or abroad. To provide arbitration services for rendering disputes between two or more parties including individuals, companies, proprietors, associates, unions or any other form of legal entities. To act as the arbitrators. To provide all types of legal services including but not limited to incorporation of company, registration of partnership firms, handling matters of TDS, income tax, Goods and Service Tax, sales tax, and preparation of financial statements.To carry on the business of Software designing, development, customisation, implementation, maintenance, testing and benchmarking, designing, developing and dealing in computer software and Artificial Intelligence Solutions, Natural Language Process and Deep Learning models, targeted at revolutionizing and transforming healthcare sector To carry on the business of providing, selling, purchasing, trading , production , distribution, customisation , development or otherwise deal in all types of applications, programs, mobile applications, web applications, products, portals, services , applications and other related services, manufacturing, designing, marketing, alter or otherwise deal in all types of devices, computers / parts & accessories / other related products, to provide support services , solutions and Consulting.'''\n"
   ]
  },
  {
   "cell_type": "code",
   "execution_count": 59,
   "metadata": {},
   "outputs": [],
   "source": [
    "mat = r'''1. To buy all kinds of plant, equipment, machinery, apparatus, tools, utensils, commodities, substances, articles and things necessary or useful for carrying on the objects of the Company 2. To enter into agreement with any company or persons for (b) *Matters which are necessary for furtherance of the objects specified in clause 3(a) are Page 4 of 10 obtaining by grant of licence or on such other terms of all types, formulae and such other rights and benefits, technical information, know-how and expert guidance and equipment and machinery and things mentioned herein above and to arrange facilities for training of technical personnel by them. 3. To establish, provide, maintain and conduct or otherwise, subsidise research laboratories and experimental workshops for scientific and technical research and experiments and to undertake and carry on with all scientific and technical research, experiments and tests of all kinds and to promote studies and research both scientific and technical investigation and invention by providing, subsidising, endowing or assisting laboratories, workshops, libraries, lectures, meetings and conferences and by providing the remuneration to scientific and technical professors and teachers and to award, scholarships, prizes, grants and bursaries to students and to encourage, promote and reward studies, researches, investigations, experiments, tests and inventions of any kind that may be considered likely to assist the objects of the Company. 4. To acquire by concession, grant, purchase, licence or otherwise either absolutely or conditionally and either alone or jointly with others land, buildings, machinery, plants, utensils, works, conveniences and such other movable and immovable properties of any description and any patents, trademarks, concessions, privileges, brevets, d?invention, licences, protections and concessions conferring any exclusive or limited rights to any inventions, information whichmay seem necessary for any of the objects of the Company and to construct, maintain and alter any building or work, necessary Page 5 of 10 or convenient for the business of the Company and to pay for such land, buildings, works, property or rights or any such other property and rights purchased or acquired by or for the Company by shares, debentures, debenture stock, bonds or such other securities of the Company or otherwise and manage, develop or otherwise dispose of in such manner and for such consideration as may be deemed proper or expedient to attain the main objects of the Company. 5. Subject to the provisions of the Companies Act, 2013 to amalgamate with any other Company having objects altogether or in part similar to those of this Company. 6. To enter into any arrangement with any Government or Authorities Municipal, local or otherwise or any person or company in India or abroad, that may seem conducive to the objects of the company or any of them and to obtain from any such Government, Authority persons or company any rights, privileges, charters, contracts, licences and concessions including in particular rights in respect of waterways, roads and highways, which the Company may carry out, exercise and comply therewith. 7. To apply for and obtain any order of Central/State or such other Authority for enabling the Company to carry on any of its objects into effect or for effecting any modifications of the Company?s constitution or any other such purpose, which may seem expedient and to make representations against any proceedings or applications which may seem calculated directly or indirectly to prejudice the company?s interests. 8. To enter into partnership or into any arrangement for sharing profits, union of interests, co-operation, joint-venture, reciprocal concessions or otherwise with any person, or company carrying on or engaged Page 6 of 10 in any business or transaction which this Company is authorised to carry on. 9. To purchase or otherwise acquire and undertake the whole or any part of the business, property, rights and liabilities of any company, firms or person carrying on business which this Company is authorised to carry on or is possessed of rights suitable for the objects of this Company. 10. To do all or any of the above things as principals, agents, contractors, trustees or otherwise and by or through trustees, agents or otherwise and either alone or in conjunction with others and to do all such other things as are incidental or as may be conducive to the attainment of the objects or any of them. 11. To promote, form and register, aid in the promotion, formation and registration of any company or companies, subsidiary or otherwise for the purpose of acquiring all or any of the properties, rights and liabilities of this Company and to transfer to any such company any property of this company and to be interested in or take or otherwise acquire, hold, sell or otherwise dispose of shares, stock, debentures and such other securities of all types in or of any such company, subsidiary or otherwise for all or any of the objects mentioned in this Memorandum of Association and to assist any such company and to undertake the management and secretarial or such other work, duties and business on such terms as may be arranged. 12. To open accounts with any bank or financial institution and to draw make, accept, endorse, discount, execute and issue promissory notes, bills of exchange, hundies, bills of lading, warrants, debentures and such other negotiable or transferable instruments of all types and to buy the same. 13. Subject to the provisions Page 7 of 10 of the Companies Act, 2013 including the rules and regulations made therein and the directions issued by Reserve Bank of India to borrow, raise or secure the payment of money or to receive money as loan, at interest for any of the objects of the company and at such time or times as may be expedient, by promissory notes, bills of exchange, hundies, bills of lading, warrants or such other negotiable instruments of all types or by taking credit in or opening current accounts or over-draft accounts with any person, firm, bank or company and whether with or without any security or by such other means, as may deem expedient and in particular by the issue of debentures or debenture stock, perpetual or otherwise and in security for any such money so borrowed, raised or received and of any such debentures or debenture stock so issued, to mortgage, pledge or charge the whole or any part of the property and assets of the Company both present and future, including its uncalled capital, by special assignment or otherwise or to transfer or convey the same absolutely or in trust and to give the lenders power of sale and other powers as may seem expedient and to purchase, redeem or pay off such securities provided that the Company shall not carry on the business of banking within the meaning of the Banking Regulation Act, 1949. 14. To advance money not immediately required by the Company or give credit to such persons, firms or companies and on such terms with or without security as may seem expedient and in particular to customers of and such others having dealings with the Company and to give guarantees or securities of any such persons, firms, companies as may appear proper or reasonable provided that the Company shall not carry on the business of banking, within the Page 8 of 10 meaning of Banking Regulation Act, 1949. ( 4 ) 15. To improve alter, manage, develop, exchange, mortgage, enfranchise and dispose of, any part of the land, properties, assets and rights and the resources and undertakings of the Company, in such manner and on such terms as the Company may determine. 16. To remunerate any person or company, for services rendered or to be rendered in or about the formation or promotion of the Company or the conduct of its business, subject to the provisions of the Companies Act, 2013. 17. To create any depreciation fund, reserve fund, sinking fund, provident fund, super-annuation fund or any other such special fund, whether for depreciations, repairing, improving, extending or maintaining any of the properties and assets of the Company or for redemption of debentures or redeemable preference shares, worker?s welfare or for any other such purpose conducive to the interest of the Company. 18. To provide for the welfare of employees or exemployees (including Directors and other officers) of the Company and the wives and families or the dependents or connections of such persons, by building or contributing to the building of houses, or dwellings or chawls or by grants of money, pensions, allowances, bonus or other such payments or be creating and from time to time, subscribing or contributing to provident fund and other associations, institutions, funds or trusts, and/or by providing or subscribing or contributing towards places of instruction and recreation, hospitals and dispensaries, medical and such other attendances and assistance as the Company shall determine. 19. To undertake and Page 9 of 10 execute any trusts, the undertaking of which may seem desirable, either gratuitously or otherwise, for the attainment of the main objects of the Company. 20. To procure the incorporation, registration or such other recognition of the Company in the Country, State or place outside India and to establish and maintain local registers and branch places of the main business in any part of the world. 21. To adopt such means of making known the business of the Company as may seem expedient and in particular by advertising over the internet or any other electronic media and also in print media in the press by circulars, by purchase and exhibition of works of art or interest, by publication of books and periodicals and by granting prizes, rewards or organising exhibitions. 22. The company would obtain approval of the concerned authorities to carry on the objects of the company and the matters which are necessary for furtherance of the objects of the Company as given in this memorandum of association wherever required.'''\n"
   ]
  },
  {
   "cell_type": "code",
   "execution_count": 60,
   "metadata": {},
   "outputs": [],
   "source": [
    "data.keys()\n",
    "intId=data['integrationId']\n",
    "ref_no=data['referenceNumber']\n"
   ]
  },
  {
   "cell_type": "code",
   "execution_count": 61,
   "metadata": {},
   "outputs": [],
   "source": [
    "sub_details=data['formData']['subscribersDetails']"
   ]
  },
  {
   "cell_type": "code",
   "execution_count": 62,
   "metadata": {},
   "outputs": [],
   "source": [
    "\n",
    "sub_details[0][\"numOfSharesTaken\"]= \"50 Equity,0 Preference\"\n",
    "sub_details[1][\"numOfSharesTaken\"]= \"50 Equity,0 Preference\"\n"
   ]
  },
  {
   "cell_type": "code",
   "execution_count": 63,
   "metadata": {},
   "outputs": [],
   "source": [
    "del sub_details[0]['numberOfSharesEquity']\n",
    "del sub_details[1]['numberOfSharesEquity']\n",
    "del sub_details[0]['numberOfSharePreference']\n",
    "del sub_details[1]['numberOfSharePreference']\n",
    "\n"
   ]
  },
  {
   "cell_type": "code",
   "execution_count": 64,
   "metadata": {},
   "outputs": [],
   "source": [
    "data1 = {\n",
    "    \"formData\": {\n",
    "        \"tableApplicableToCompany\": \"A - MEMORANDUM OF ASSOCIATION OF A COMPANY LIMITED BY SHARES\",\n",
    "        \"nameOfCompany\": c_name,\n",
    "        \"regOfficeState\": \"Karnataka\",\n",
    "        \"objectsToBePursued\": obj,\n",
    "        \"mattersNecessary\": mat,\n",
    "        \"shareCapital\": \"100000\",\n",
    "        \"shareCapitalDetails\": [{\n",
    "            \"dividedInto\": \"1000\",\n",
    "            \"equityPreferenceType\": \"Equity Share\",\n",
    "            \"rupeesEach\": \"100\",\n",
    "            \"delimiterType\": \"\",\n",
    "            \"shareClass\": \"1\"\n",
    "        }],\n",
    "        \"checkBox1\": \"Y\",\n",
    "        \"checkBox2\": \"N\",\n",
    "        \"checkBox3\": \"N\",\n",
    "        \"subscribersDetails\": sub_details,\n",
    "        \"totalnumberOfSharesTaken\": \"100 Equity,0 Preference\",\n",
    "        \"membershipTypeOfWitness\": \"ACA\",\n",
    "        \"nameOfTheWitness\": \"SRIKANTH REDDY\",\n",
    "        \"addressDescOcupation\": \"171, 7th Main, 7th Cross,  Jayanagar 2nd Block,  Opp to Parasmani  Apartments, Bangalore  560011\",\n",
    "        \"id\": \"271843\",\n",
    "        \"formIntegrationId\": formIntId\n",
    "    },\n",
    "    \"integrationId\": intId,\n",
    "    \"formName\": \"INC-33\",\n",
    "    \"formDescription\": \"INC33Form\",\n",
    "    \"formVersion\": \"1.2\",\n",
    "    \"userId\": \"CASRIKANTH0224@GMAIL.COM\",\n",
    "    \"linking\": \"false\",\n",
    "    \"action\": \"saveorsubmit\",\n",
    "    \"operation\": \"Save\",\n",
    "    \"referenceNumber\": ref_no,\n",
    "    \"srNumber\": \"\",\n",
    "    \"formId\": \"\"\n",
    "}\n"
   ]
  },
  {
   "cell_type": "code",
   "execution_count": null,
   "metadata": {},
   "outputs": [],
   "source": []
  },
  {
   "cell_type": "code",
   "execution_count": null,
   "metadata": {},
   "outputs": [],
   "source": []
  },
  {
   "cell_type": "code",
   "execution_count": 65,
   "metadata": {},
   "outputs": [
    {
     "name": "stdout",
     "output_type": "stream",
     "text": [
      "Status Code: 200\n",
      "Response Content:\n",
      "{\"error\":\"\",\"message\":\"Data Added Successfully\",\"data\":{\"referenceNumber\":\"1-10882413543\",\"integrationId\":\"1-4ZZ3W13\",\"dateTime\":\"\",\"srnStatus\":\"Draft/Pending Submission\",\"formType\":\"NSTP\",\"formIntegrationId\":\"1-4ZZ3W15\"}}\n"
     ]
    }
   ],
   "source": [
    "import requests\n",
    "\n",
    "# Request headers and payload data\n",
    "headers = {\n",
    "    \"Host\": \"www.mca.gov.in\",\n",
    "    \"Cookie\": f\"cookiesession1=678B2869D727DAE036D48B6E36133C84; alertPopup=true; deviceId=j05eo5ire8; session-token={session_token}\",\n",
    "    \"Content-Type\": \"application/x-www-form-urlencoded\",\n",
    "    \"Origin\": \"https://www.mca.gov.in\",\n",
    "    # \"Referer\": \"https://www.mca.gov.in/content/mca/global/en/mca/e-filing/incorporation/INC-33.html?applicationHistory=eyJzcm4iOiJBQTMwODM0NTUiLCJyZWZlcmVuY2UiOiIxLTEwMzAzNDIwNTI2IiwicHVycG9zZSI6IiJ9\",\n",
    "}\n",
    "\n",
    "# payload = '''<your payload data here>'''\n",
    "payload_new ={\"formData\":{json.dumps(data1)}}\n",
    "# Make the POST request\n",
    "url = \"https://www.mca.gov.in/bin/mca-gov/eMOASaveSubmit\"\n",
    "response = requests.post(url, headers=headers, data=payload_new)\n",
    "\n",
    "# Print the response status and content\n",
    "print(f\"Status Code: {response.status_code}\")\n",
    "print(\"Response Content:\")\n",
    "print(response.text)\n"
   ]
  },
  {
   "cell_type": "code",
   "execution_count": 66,
   "metadata": {},
   "outputs": [],
   "source": [
    "data1['operation']=\"Submit\""
   ]
  },
  {
   "cell_type": "code",
   "execution_count": 67,
   "metadata": {},
   "outputs": [
    {
     "name": "stdout",
     "output_type": "stream",
     "text": [
      "Status Code: 200\n",
      "Response Content:\n",
      "{\n",
      "   \t\"error\":\"\",\n",
      "\t\"message\":\"Data Added Successfully\",\n",
      "\t\"data\":{\"referenceNumber\":\"1-10882413543\",\"integrationId\":\"1-4ZZ3W13\",\"dateTime\":\"09/07/2023 18:30:31\",\"srnStatus\":\"Submitted\",\"formType\":\"NSTP\",\"formIntegrationId\":\"1-4ZZ3W15\"},\n",
      "\t\"validationResponse\":\n",
      "\t{\n",
      "\t\t\"submissionRestricted\":\"N\",\n",
      "\t\t\"validationResponseBody\":[{\"alertType\":\"\",\"alertDescription\":\"\",\"alertCategory\":\"\"},{\"alertType\":\"\",\"alertDescription\":\"\",\"alertCategory\":\"\"}]\n",
      "\t}\n",
      "}\n"
     ]
    }
   ],
   "source": [
    "import requests\n",
    "\n",
    "# Request headers and payload data\n",
    "headers = {\n",
    "    \"Host\": \"www.mca.gov.in\",\n",
    "    \"Cookie\": f\"cookiesession1=678B2869D727DAE036D48B6E36133C84; alertPopup=true; deviceId=j05eo5ire8; session-token={session_token}\",\n",
    "    \"Content-Type\": \"application/x-www-form-urlencoded\",\n",
    "    \"Origin\": \"https://www.mca.gov.in\",\n",
    "    # \"Referer\": \"https://www.mca.gov.in/content/mca/global/en/mca/e-filing/incorporation/INC-33.html?applicationHistory=eyJzcm4iOiJBQTMwODM0NTUiLCJyZWZlcmVuY2UiOiIxLTEwMzAzNDIwNTI2IiwicHVycG9zZSI6IiJ9\",\n",
    "}\n",
    "\n",
    "# payload = '''<your payload data here>'''\n",
    "payload_new ={\"formData\":{json.dumps(data1)}}\n",
    "# Make the POST request\n",
    "url = \"https://www.mca.gov.in/bin/mca-gov/eMOASaveSubmit\"\n",
    "response = requests.post(url, headers=headers, data=payload_new)\n",
    "\n",
    "# Print the response status and content\n",
    "print(f\"Status Code: {response.status_code}\")\n",
    "print(\"Response Content:\")\n",
    "print(response.text)\n"
   ]
  },
  {
   "cell_type": "code",
   "execution_count": 68,
   "metadata": {},
   "outputs": [],
   "source": [
    "new_rf=json.loads(response.text)['data']['referenceNumber']\n",
    "new_intId=json.loads(response.text)['data']['integrationId']\n",
    "new_formIntId=json.loads(response.text)['data']['formIntegrationId']\n"
   ]
  },
  {
   "cell_type": "code",
   "execution_count": 69,
   "metadata": {},
   "outputs": [
    {
     "data": {
      "text/plain": [
       "'1-10266506010'"
      ]
     },
     "execution_count": 69,
     "metadata": {},
     "output_type": "execute_result"
    }
   ],
   "source": [
    "srn"
   ]
  },
  {
   "cell_type": "code",
   "execution_count": 70,
   "metadata": {},
   "outputs": [],
   "source": [
    "from datetime import datetime\n"
   ]
  },
  {
   "cell_type": "code",
   "execution_count": 71,
   "metadata": {},
   "outputs": [],
   "source": [
    "pdf_json_data = {\"afData\": {\"afUnboundData\": {\"data\": {\"radiobutton_14672223251644380364248\": \"English\", \"referenceNumber\": \"1-10303420526\", \"Path_for_PDFGeneration\": \"/content/forms/af/mca-aem-forms/spice-plus-b/eMOA/inc33\"}}, \"afBoundData\": {\"data\": {\"requestBody\": {\"formData\": {\"tableApplicableToCompany\": \"A - MEMORANDUM OF ASSOCIATION OF A COMPANY LIMITED BY SHARES\", \"nameOfCompany\": \"FAHTECHNOLOGIES PRIVATE LIMITED\", \"regOfficeState\": \"Karnataka\", \"objectsToBePursued\": \"Retail sale of pharmaceuticals,medical and orthopaedic goods and toilet articles,\\nTo carry on the business of retail sale of pharmaceuticals, medical and orthopedic goods, and toilet articles. \\nTo import, export, buy, sell, distribute, and deal in pharmaceuticals, medical and\\northopedic goods, and toilet articles.\\nTo engage in the manufacture,\\npurchase, sale, import, and\\nexport of pharmaceutical\\nproducts, medical equipment,\\nand related items.\\nTo carry on the business of a\\nchemist, druggist, retailer,\\nwholesaler, or dealer in\\npharmaceuticals and medical\\nproducts.\\nTo provide healthcare and\\nmedical-related services and\\nsolutions.\", \"mattersNecessary\": \"1.\\nTo buy all kinds of plant,\\nequipment, machinery,\\napparatus, tools, utensils,\\ncommodities, substances, articles\\nand things necessary or useful\\nfor carrying on the objects of the\\nCompany.\\n2.\\nTo enter into agreement\\nwith any company or persons for\\nobtaining by grant of licence or\\non such other terms of all types,\\nformulae and such other rights\\nand benefits, technical\\ninformation, know-how and\\nexpert guidance and equipment\\nand machinery and things\\nmentioned herein above and to\\narrange facilities for training of\\ntechnical personnel by them.\\n3.\\nTo establish, provide,\\nmaintain and conduct or\\notherwise, subsidise research\\nlaboratories and experimental\\nworkshops for scientific and\\ntechnical research and\\nexperiments and to undertake\\nand carry on with all scientific\\nand technical research,\\nexperiments and tests of all kinds\\nand to promote studies and\\nresearch both scientific and\\ntechnical investigation and\\ninvention by providing,\\nsubsidising, endowing or\\nassisting laboratories,\\nworkshops, libraries, lectures,\\nmeetings and conferences and\\nby providing the remuneration\\nto scientific and technical\\nprofessors and teachers and to\\naward, scholarships, prizes,\\ngrants and bursaries to students\\nand to encourage, promote and\\nreward studies, researches,\\ninvestigations, experiments, tests\\nand inventions of any kind that\\nmay be considered likely to assist\\nthe objects of the Company.\\n4.\\nTo acquire by\\nconcession, grant, purchase,\\nlicence or otherwise either\\nabsolutely or conditionally and\\neither alone or jointly with others\\nland, buildings, machinery,\\nplants, utensils, works,\\nconveniences and such other movable and immovable\\nproperties of any description and\\nany patents, trademarks,\\nconcessions, privileges, brevets,\\nd?invention, licences, protections\\nand concessions conferring any\\nexclusive or limited rights to any\\ninventions, information which\\nmay seem necessary for any of\\nthe objects of the Company and\\nto construct, maintain and alter\\nany building or work, necessary\\nor convenient for the business of\\nthe Company and to pay for such\\nland, buildings, works, property\\nor rights or any such other\\nproperty and rights purchased or\\nacquired by or for the Company\\nby shares, debentures,\\ndebenture stock, bonds or such\\nother securities of the Company\\nor otherwise and manage,\\ndevelop or otherwise dispose of\\nin such manner and for such\\nconsideration as may be deemed\\nproper or expedient to attain the\\nmain objects of the Company.\\n5.\\nSubject to the provisions\\nof the Companies Act, 2013 to\\namalgamate with any other\\nCompany having objects\\naltogether or in part similar to\\nthose of this Company.\\n6.\\nTo enter into any\\narrangement with any\\nGovernment or Authorities\\nMunicipal, local or otherwise or\\nany person or company in India\\nor abroad, that may seem\\nconducive to the objects of the\\ncompany or any of them and to\\nobtain from any such\\nGovernment, Authority persons\\nor company any rights,\\nprivileges, charters, contracts,\\nlicences and concessions\\nincluding in particular rights in\\nrespect of waterways, roads and\\nhighways, which the Company\\nmay carry out, exercise and\\ncomply therewith.\\n7.\\nTo apply for and obtain\\nany order of Central/State or\\nsuch other Authority for enabling\\nthe Company to carry on any of\\nits objects into effect or for\\neffecting any modifications of the Company?s constitution or\\nany other such purpose, which\\nmay seem expedient and to\\nmake representations against\\nany proceedings or applications\\nwhich may seem calculated\\ndirectly or indirectly to prejudice\\nthe company?s interests.\\n(3)\\n8.\\nTo enter into partnership\\nor into any arrangement for\\nsharing profits, union of interests,\\nco-operation, joint-venture,\\nreciprocal concessions or\\notherwise with any person, or\\ncompany carrying on or engaged\\nin any business or transaction\\nwhich this Company is\\nauthorised to carry on.\\n9.\\nTo purchase or\\notherwise acquire and undertake\\nthe whole or any part of the\\nbusiness, property, rights and\\nliabilities of any company, firms\\nor person carrying on business\\nwhich this Company is\\nauthorised to carry on or is\\npossessed of rights suitable for\\nthe objects of this Company.\\n10.\\nTo do all or any of the\\nabove things as principals,\\nagents, contractors, trustees or\\notherwise and by or through\\ntrustees, agents or otherwise and\\neither alone or in conjunction\\nwith others and to do all such\\nother things as are incidental or\\nas may be conducive to the\\nattainment of the objects or any\\nof them.\\n11.\\nTo promote, form and\\nregister, aid in the promotion,\\nformation and registration of any\\ncompany or companies,\\nsubsidiary or otherwise for the\\npurpose of acquiring\\nall or any of the properties, rights\\nand liabilities of this Company\\nand to transfer to any such\\ncompany any property of this\\ncompany and to be interested in\\nor take or otherwise acquire,\\nhold, sell or otherwise dispose of\\nshares, stock, debentures and such other securities of all types\\nin or of any such company,\\nsubsidiary or otherwise for all or\\nany of the objects mentioned in\\nthis Memorandum of Association\\nand to assist any such company\\nand to undertake the\\nmanagement and secretarial or\\nsuch other work, duties and\\nbusiness on such terms as may\\nbe arranged.\\n12.\\nTo open accounts with\\nany bank or financial institution\\nand to draw make, accept,\\nendorse, discount, execute and\\nissue promissory notes, bills of\\nexchange, hundies, bills of\\nlading, warrants, debentures and\\nsuch other negotiable or\\ntransferable instruments of all\\ntypes and to buy the same.\\n13.\\nSubject to the provisions\\nof the Companies Act, 2013\\nincluding the rules and\\nregulations made therein and\\nthe directions issued by Reserve\\nBank of India to borrow, raise or\\nsecure the payment of money or\\nto receive money as loan, at\\ninterest for any of the objects of\\nthe company and at such time or\\ntimes as may be expedient, by\\npromissory notes, bills of\\nexchange, hundies, bills of\\nlading, warrants or such other\\nnegotiable instruments of all\\ntypes or by taking credit in or\\nopening current accounts or\\nover-draft accounts with any\\nperson, firm, bank or company\\nand whether with or without any\\nsecurity or by such other means,\\nas may deem expedient and in\\nparticular by the issue of\\ndebentures or debenture stock,\\nperpetual or otherwise and in\\nsecurity for any such money so\\nborrowed, raised or received and\\nof any such debentures or\\ndebenture stock so issued, to\\nmortgage, pledge or charge the\\nwhole or any part of the property\\nand assets of the Company both\\npresent and future, including its\\nuncalled capital, by special\\nassignment or otherwise or to\\ntransfer or convey the same\\nabsolutely or in trust and to give the lenders power of sale and\\nother powers as may seem\\nexpedient and to purchase,\\nredeem or pay off such securities\\nprovided that the Company shall\\nnot carry on the business of\\nbanking within the meaning of\\nthe Banking Regulation Act,\\n1949.\\n14.\\nTo advance money not\\nimmediately required by the\\nCompany or give credit to such\\npersons, firms or companies and\\non such terms with or without\\nsecurity as may seem expedient\\nand in particular to customers of\\nand such others having dealings\\nwith the Company and to give\\nguarantees or securities of any\\nsuch persons, firms, companies\\nas may appear proper or\\nreasonable provided that the\\nCompany shall not carry on the\\nbusiness of banking, within the\\nmeaning of Banking Regulation\\nAct, 1949.\\n(4)\\n15.\\nTo improve alter,\\nmanage, develop, exchange,\\nmortgage, enfranchise and\\ndispose of, any part of the land,\\nproperties, assets and rights and\\nthe resources and undertakings\\nof the Company, in such manner\\nand on such terms as the\\nCompany may determine.\\n16.\\nTo remunerate any\\nperson or company, for services\\nrendered or to be rendered in or\\nabout the formation or\\npromotion of the Company or\\nthe conduct of its business,\\nsubject to the provisions of the\\nCompanies Act, 2013.\\n17.\\nTo create any\\ndepreciation fund, reserve fund,\\nsinking fund, provident fund,\\nsuper-annuation fund or any\\nother such special fund, whether\\nfor depreciations, repairing,\\nimproving, extending or\\nmaintaining any of the\\nproperties and assets of the\\nCompany or for redemption of\\ndebentures or redeemable preference shares, worker?s\\nwelfare or for any other such\\npurpose conducive to the\\ninterest of the Company.\\n18.\\nTo provide for the\\nwelfare of employees or ex-\\nemployees (including Directors\\nand other officers) of the\\nCompany and the wives and\\nfamilies or the dependents or\\nconnections of such persons, by\\nbuilding or contributing to the\\nbuilding of houses, or dwellings\\nor chawls or by grants of money,\\npensions, allowances, bonus or\\nother such payments or be\\ncreating and from time to time,\\nsubscribing or contributing to\\nprovident fund and other\\nassociations, institutions, funds\\nor trusts, and/or by providing or\\nsubscribing or contributing\\ntowards places of instruction and\\nrecreation, hospitals and\\ndispensaries, medical and such\\nother attendances and assistance\\nas the Company shall determine.\\n19.\\nTo undertake and\\nexecute any trusts, the\\nundertaking of which may seem\\ndesirable, either gratuitously or\\notherwise, for the attainment of\\nthe main objects of the\\nCompany.\\n20.\\nTo procure the\\nincorporation, registration or\\nsuch other recognition of the\\nCompany in the Country, State or\\nplace outside India and to\\nestablish and maintain local\\nregisters and branch places of\\nthe main business in any part of\\nthe world.\\n21.\\nTo adopt such means of\\nmaking known the business of\\nthe Company as may seem\\nexpedient and in particular by\\nadvertising over the internet or\\nany other electronic media and\\nalso in print media in the press\\nby circulars, by purchase and\\nexhibition of works of art or\\ninterest, by publication of books\\nand periodicals and by granting\\nprizes, rewards or organising\\nexhibitions. 22.\\nThe company would\\nobtain approval of the\\nconcerned authorities to carry on\\nthe objects of the company and\\nthe matters which are necessary\\nfor furtherance of the objects of\\nthe Company as given in this\\nmemorandum of association\\nwherever required.\", \"shareCapital\": \"200000\", \"shareCapitalDetails\": [\n",
    "    {\"dividedInto\": \"10000\", \"equityPreferenceType\": \"Equity Share\", \"rupeesEach\": \"10\", \"delimiterType\": \"\", \"shareClass\": \"1\"}], \"checkBox1\": \"N\", \"checkBox2\": \"N\", \"checkBox3\": \"N\", \"subscribersDetails\": [{\"serialNumber\": \"1\", \"nameAddrDescOccu\": \"HONNENAHALLY NINGAPPA SUMA #17,3rd Cross,4th Block,near Sheshadripuram college Kumara Park West Bangalore North Karnataka 560020 Chandra Lay Out Bangalore India\", \"DINPANPassportNumber\": \"08553753\", \"numOfSharesTaken\": \"3000 Equity,0 Preference\", \"dscCount\": \"DIN1###\"}, {\"serialNumber\": \"2\", \"nameAddrDescOccu\": \"ANANYA  MADHAV 17,2nd Main Road Basaveshwara Layout 2nd stage Bangalore North Karnataka 560040 Chandra Lay Out Bangalore India\", \"DINPANPassportNumber\": \"EEUPM6910R\", \"numOfSharesTaken\": \"7000 Equity,0 Preference\", \"dscCount\": \"DIN2###\"}], \"totalnumberOfSharesTaken\": \"10000 Equity,0 Preference\", \"membershipTypeOfWitness\": \"ACA\", \"nameOfTheWitness\": \"Srikanth Reddy\", \"addressDescOcupation\": \"171, 7th cross, 7th\\nMain Rd, 2nd Block,\\nJayanagar, Bengaluru,\\nKarnataka 560011\", \"id\": \"271843\", \"formIntegrationId\": \"1-4QEE25S\", \"dscCount1\": \"DIN3###\", \"costsChargesExpencesofWindingUp\": \"\"}, \"integrationId\": \"1-4QEE25Q\", \"formName\": \"INC-33\", \"formDescription\": \"INC33Form\", \"formVersion\": \"1.2\", \"userId\": \"CASRIKANTH0224@GMAIL.COM\", \"linking\": \"false\", \"srNumber\": \"1-10303420526\", \"srn\": \"1-10303420526\"}}}, \"afSubmissionInfo\": {\"lastFocusItem\": \"guide[0].guide1[0].guideRootPanel[0].panel_3408612771643841155351[0]\", \"computedMetaInfo\": {}, \"stateOverrides\": {\"element\": [{\"somExpr\": \"guideRootPanel[0].formData[0].tableApplicableToCompany[0]\", \"options\": {\"option\": [{\"saveValue\": \"A - MEMORANDUM OF ASSOCIATION OF A COMPANY LIMITED BY SHARES\", \"displayValue\": \"A - MEMORANDUM OF ASSOCIATION OF A COMPANY LIMITED BY SHARES\"}, {\"saveValue\": \"B - MEMORANDUM OF ASSOCIATION OF A COMPANY LIMITED BY GUARANTEE AND NOT HAVING A SHARE CAPITAL\", \"displayValue\": \"B - MEMORANDUM OF ASSOCIATION OF A COMPANY LIMITED BY GUARANTEE AND NOT HAVING A SHARE CAPITAL\"}, {\"saveValue\": \"C - MEMORANDUM OF ASSOCIATION OF A COMPANY LIMITED BY GUARANTEE AND HAVING A SHARE CAPITAL\", \"displayValue\": \"C - MEMORANDUM OF ASSOCIATION OF A COMPANY LIMITED BY GUARANTEE AND HAVING A SHARE CAPITAL\"}, {\"saveValue\": \"D - MEMORANDUM OF ASSOCIATION OF AN UNLIMITED COMPANY AND NOT HAVING SHARE CAPITAL\", \"displayValue\": \"D - MEMORANDUM OF ASSOCIATION OF AN UNLIMITED COMPANY AND NOT HAVING SHARE CAPITAL\"}, {\"saveValue\": \"E - MEMORANDUM OF ASSOCIATION OF AN UNLIMITED COMPANY AND HAVING SHARE CAPITAL\", \"displayValue\": \"E - MEMORANDUM OF ASSOCIATION OF AN UNLIMITED COMPANY AND HAVING SHARE CAPITAL\"}]}}]}, \"signers\": {}, \"afPath\": \"/content/dam/formsanddocuments/mca-aem-forms/spice-plus-b/eMOA/inc33\", \"afSubmissionTime\": \"20230804065046\"}}}\n"
   ]
  },
  {
   "cell_type": "code",
   "execution_count": 72,
   "metadata": {},
   "outputs": [
    {
     "data": {
      "text/plain": [
       "'1-10266506010'"
      ]
     },
     "execution_count": 72,
     "metadata": {},
     "output_type": "execute_result"
    }
   ],
   "source": [
    "srn"
   ]
  },
  {
   "cell_type": "code",
   "execution_count": 73,
   "metadata": {},
   "outputs": [],
   "source": [
    "data1.keys()\n",
    "data1['srNumber']=new_rf\n",
    "data1['srn']=new_rf\n",
    "data1['userId']='CASRIKANTH0224@GMAIL.COM'"
   ]
  },
  {
   "cell_type": "code",
   "execution_count": 74,
   "metadata": {},
   "outputs": [
    {
     "data": {
      "text/plain": [
       "{'formData': {'tableApplicableToCompany': 'A - MEMORANDUM OF ASSOCIATION OF A COMPANY LIMITED BY SHARES',\n",
       "  'nameOfCompany': 'FAHTECHNOLOGIES PRIVATE LIMITED',\n",
       "  'regOfficeState': 'Karnataka',\n",
       "  'objectsToBePursued': 'Retail sale of pharmaceuticals,medical and orthopaedic goods and toilet articles,\\nTo carry on the business of retail sale of pharmaceuticals, medical and orthopedic goods, and toilet articles. \\nTo import, export, buy, sell, distribute, and deal in pharmaceuticals, medical and\\northopedic goods, and toilet articles.\\nTo engage in the manufacture,\\npurchase, sale, import, and\\nexport of pharmaceutical\\nproducts, medical equipment,\\nand related items.\\nTo carry on the business of a\\nchemist, druggist, retailer,\\nwholesaler, or dealer in\\npharmaceuticals and medical\\nproducts.\\nTo provide healthcare and\\nmedical-related services and\\nsolutions.',\n",
       "  'mattersNecessary': '1.\\nTo buy all kinds of plant,\\nequipment, machinery,\\napparatus, tools, utensils,\\ncommodities, substances, articles\\nand things necessary or useful\\nfor carrying on the objects of the\\nCompany.\\n2.\\nTo enter into agreement\\nwith any company or persons for\\nobtaining by grant of licence or\\non such other terms of all types,\\nformulae and such other rights\\nand benefits, technical\\ninformation, know-how and\\nexpert guidance and equipment\\nand machinery and things\\nmentioned herein above and to\\narrange facilities for training of\\ntechnical personnel by them.\\n3.\\nTo establish, provide,\\nmaintain and conduct or\\notherwise, subsidise research\\nlaboratories and experimental\\nworkshops for scientific and\\ntechnical research and\\nexperiments and to undertake\\nand carry on with all scientific\\nand technical research,\\nexperiments and tests of all kinds\\nand to promote studies and\\nresearch both scientific and\\ntechnical investigation and\\ninvention by providing,\\nsubsidising, endowing or\\nassisting laboratories,\\nworkshops, libraries, lectures,\\nmeetings and conferences and\\nby providing the remuneration\\nto scientific and technical\\nprofessors and teachers and to\\naward, scholarships, prizes,\\ngrants and bursaries to students\\nand to encourage, promote and\\nreward studies, researches,\\ninvestigations, experiments, tests\\nand inventions of any kind that\\nmay be considered likely to assist\\nthe objects of the Company.\\n4.\\nTo acquire by\\nconcession, grant, purchase,\\nlicence or otherwise either\\nabsolutely or conditionally and\\neither alone or jointly with others\\nland, buildings, machinery,\\nplants, utensils, works,\\nconveniences and such other movable and immovable\\nproperties of any description and\\nany patents, trademarks,\\nconcessions, privileges, brevets,\\nd?invention, licences, protections\\nand concessions conferring any\\nexclusive or limited rights to any\\ninventions, information which\\nmay seem necessary for any of\\nthe objects of the Company and\\nto construct, maintain and alter\\nany building or work, necessary\\nor convenient for the business of\\nthe Company and to pay for such\\nland, buildings, works, property\\nor rights or any such other\\nproperty and rights purchased or\\nacquired by or for the Company\\nby shares, debentures,\\ndebenture stock, bonds or such\\nother securities of the Company\\nor otherwise and manage,\\ndevelop or otherwise dispose of\\nin such manner and for such\\nconsideration as may be deemed\\nproper or expedient to attain the\\nmain objects of the Company.\\n5.\\nSubject to the provisions\\nof the Companies Act, 2013 to\\namalgamate with any other\\nCompany having objects\\naltogether or in part similar to\\nthose of this Company.\\n6.\\nTo enter into any\\narrangement with any\\nGovernment or Authorities\\nMunicipal, local or otherwise or\\nany person or company in India\\nor abroad, that may seem\\nconducive to the objects of the\\ncompany or any of them and to\\nobtain from any such\\nGovernment, Authority persons\\nor company any rights,\\nprivileges, charters, contracts,\\nlicences and concessions\\nincluding in particular rights in\\nrespect of waterways, roads and\\nhighways, which the Company\\nmay carry out, exercise and\\ncomply therewith.\\n7.\\nTo apply for and obtain\\nany order of Central/State or\\nsuch other Authority for enabling\\nthe Company to carry on any of\\nits objects into effect or for\\neffecting any modifications of the Company?s constitution or\\nany other such purpose, which\\nmay seem expedient and to\\nmake representations against\\nany proceedings or applications\\nwhich may seem calculated\\ndirectly or indirectly to prejudice\\nthe company?s interests.\\n(3)\\n8.\\nTo enter into partnership\\nor into any arrangement for\\nsharing profits, union of interests,\\nco-operation, joint-venture,\\nreciprocal concessions or\\notherwise with any person, or\\ncompany carrying on or engaged\\nin any business or transaction\\nwhich this Company is\\nauthorised to carry on.\\n9.\\nTo purchase or\\notherwise acquire and undertake\\nthe whole or any part of the\\nbusiness, property, rights and\\nliabilities of any company, firms\\nor person carrying on business\\nwhich this Company is\\nauthorised to carry on or is\\npossessed of rights suitable for\\nthe objects of this Company.\\n10.\\nTo do all or any of the\\nabove things as principals,\\nagents, contractors, trustees or\\notherwise and by or through\\ntrustees, agents or otherwise and\\neither alone or in conjunction\\nwith others and to do all such\\nother things as are incidental or\\nas may be conducive to the\\nattainment of the objects or any\\nof them.\\n11.\\nTo promote, form and\\nregister, aid in the promotion,\\nformation and registration of any\\ncompany or companies,\\nsubsidiary or otherwise for the\\npurpose of acquiring\\nall or any of the properties, rights\\nand liabilities of this Company\\nand to transfer to any such\\ncompany any property of this\\ncompany and to be interested in\\nor take or otherwise acquire,\\nhold, sell or otherwise dispose of\\nshares, stock, debentures and such other securities of all types\\nin or of any such company,\\nsubsidiary or otherwise for all or\\nany of the objects mentioned in\\nthis Memorandum of Association\\nand to assist any such company\\nand to undertake the\\nmanagement and secretarial or\\nsuch other work, duties and\\nbusiness on such terms as may\\nbe arranged.\\n12.\\nTo open accounts with\\nany bank or financial institution\\nand to draw make, accept,\\nendorse, discount, execute and\\nissue promissory notes, bills of\\nexchange, hundies, bills of\\nlading, warrants, debentures and\\nsuch other negotiable or\\ntransferable instruments of all\\ntypes and to buy the same.\\n13.\\nSubject to the provisions\\nof the Companies Act, 2013\\nincluding the rules and\\nregulations made therein and\\nthe directions issued by Reserve\\nBank of India to borrow, raise or\\nsecure the payment of money or\\nto receive money as loan, at\\ninterest for any of the objects of\\nthe company and at such time or\\ntimes as may be expedient, by\\npromissory notes, bills of\\nexchange, hundies, bills of\\nlading, warrants or such other\\nnegotiable instruments of all\\ntypes or by taking credit in or\\nopening current accounts or\\nover-draft accounts with any\\nperson, firm, bank or company\\nand whether with or without any\\nsecurity or by such other means,\\nas may deem expedient and in\\nparticular by the issue of\\ndebentures or debenture stock,\\nperpetual or otherwise and in\\nsecurity for any such money so\\nborrowed, raised or received and\\nof any such debentures or\\ndebenture stock so issued, to\\nmortgage, pledge or charge the\\nwhole or any part of the property\\nand assets of the Company both\\npresent and future, including its\\nuncalled capital, by special\\nassignment or otherwise or to\\ntransfer or convey the same\\nabsolutely or in trust and to give the lenders power of sale and\\nother powers as may seem\\nexpedient and to purchase,\\nredeem or pay off such securities\\nprovided that the Company shall\\nnot carry on the business of\\nbanking within the meaning of\\nthe Banking Regulation Act,\\n1949.\\n14.\\nTo advance money not\\nimmediately required by the\\nCompany or give credit to such\\npersons, firms or companies and\\non such terms with or without\\nsecurity as may seem expedient\\nand in particular to customers of\\nand such others having dealings\\nwith the Company and to give\\nguarantees or securities of any\\nsuch persons, firms, companies\\nas may appear proper or\\nreasonable provided that the\\nCompany shall not carry on the\\nbusiness of banking, within the\\nmeaning of Banking Regulation\\nAct, 1949.\\n(4)\\n15.\\nTo improve alter,\\nmanage, develop, exchange,\\nmortgage, enfranchise and\\ndispose of, any part of the land,\\nproperties, assets and rights and\\nthe resources and undertakings\\nof the Company, in such manner\\nand on such terms as the\\nCompany may determine.\\n16.\\nTo remunerate any\\nperson or company, for services\\nrendered or to be rendered in or\\nabout the formation or\\npromotion of the Company or\\nthe conduct of its business,\\nsubject to the provisions of the\\nCompanies Act, 2013.\\n17.\\nTo create any\\ndepreciation fund, reserve fund,\\nsinking fund, provident fund,\\nsuper-annuation fund or any\\nother such special fund, whether\\nfor depreciations, repairing,\\nimproving, extending or\\nmaintaining any of the\\nproperties and assets of the\\nCompany or for redemption of\\ndebentures or redeemable preference shares, worker?s\\nwelfare or for any other such\\npurpose conducive to the\\ninterest of the Company.\\n18.\\nTo provide for the\\nwelfare of employees or ex-\\nemployees (including Directors\\nand other officers) of the\\nCompany and the wives and\\nfamilies or the dependents or\\nconnections of such persons, by\\nbuilding or contributing to the\\nbuilding of houses, or dwellings\\nor chawls or by grants of money,\\npensions, allowances, bonus or\\nother such payments or be\\ncreating and from time to time,\\nsubscribing or contributing to\\nprovident fund and other\\nassociations, institutions, funds\\nor trusts, and/or by providing or\\nsubscribing or contributing\\ntowards places of instruction and\\nrecreation, hospitals and\\ndispensaries, medical and such\\nother attendances and assistance\\nas the Company shall determine.\\n19.\\nTo undertake and\\nexecute any trusts, the\\nundertaking of which may seem\\ndesirable, either gratuitously or\\notherwise, for the attainment of\\nthe main objects of the\\nCompany.\\n20.\\nTo procure the\\nincorporation, registration or\\nsuch other recognition of the\\nCompany in the Country, State or\\nplace outside India and to\\nestablish and maintain local\\nregisters and branch places of\\nthe main business in any part of\\nthe world.\\n21.\\nTo adopt such means of\\nmaking known the business of\\nthe Company as may seem\\nexpedient and in particular by\\nadvertising over the internet or\\nany other electronic media and\\nalso in print media in the press\\nby circulars, by purchase and\\nexhibition of works of art or\\ninterest, by publication of books\\nand periodicals and by granting\\nprizes, rewards or organising\\nexhibitions. 22.\\nThe company would\\nobtain approval of the\\nconcerned authorities to carry on\\nthe objects of the company and\\nthe matters which are necessary\\nfor furtherance of the objects of\\nthe Company as given in this\\nmemorandum of association\\nwherever required.',\n",
       "  'shareCapital': '200000',\n",
       "  'shareCapitalDetails': [{'dividedInto': '10000',\n",
       "    'equityPreferenceType': 'Equity Share',\n",
       "    'rupeesEach': '10',\n",
       "    'delimiterType': '',\n",
       "    'shareClass': '1'}],\n",
       "  'checkBox1': 'N',\n",
       "  'checkBox2': 'N',\n",
       "  'checkBox3': 'N',\n",
       "  'subscribersDetails': [{'serialNumber': '1',\n",
       "    'nameAddrDescOccu': 'HONNENAHALLY NINGAPPA SUMA #17,3rd Cross,4th Block,near Sheshadripuram college Kumara Park West Bangalore North Karnataka 560020 Chandra Lay Out Bangalore India',\n",
       "    'DINPANPassportNumber': '08553753',\n",
       "    'numOfSharesTaken': '3000 Equity,0 Preference',\n",
       "    'dscCount': 'DIN1###'},\n",
       "   {'serialNumber': '2',\n",
       "    'nameAddrDescOccu': 'ANANYA  MADHAV 17,2nd Main Road Basaveshwara Layout 2nd stage Bangalore North Karnataka 560040 Chandra Lay Out Bangalore India',\n",
       "    'DINPANPassportNumber': 'EEUPM6910R',\n",
       "    'numOfSharesTaken': '7000 Equity,0 Preference',\n",
       "    'dscCount': 'DIN2###'}],\n",
       "  'totalnumberOfSharesTaken': '10000 Equity,0 Preference',\n",
       "  'membershipTypeOfWitness': 'ACA',\n",
       "  'nameOfTheWitness': 'Srikanth Reddy',\n",
       "  'addressDescOcupation': '171, 7th cross, 7th\\nMain Rd, 2nd Block,\\nJayanagar, Bengaluru,\\nKarnataka 560011',\n",
       "  'id': '271843',\n",
       "  'formIntegrationId': '1-4QEE25S',\n",
       "  'dscCount1': 'DIN3###',\n",
       "  'costsChargesExpencesofWindingUp': ''},\n",
       " 'integrationId': '1-4QEE25Q',\n",
       " 'formName': 'INC-33',\n",
       " 'formDescription': 'INC33Form',\n",
       " 'formVersion': '1.2',\n",
       " 'userId': 'CASRIKANTH0224@GMAIL.COM',\n",
       " 'linking': 'false',\n",
       " 'srNumber': '1-10303420526',\n",
       " 'srn': '1-10303420526'}"
      ]
     },
     "execution_count": 74,
     "metadata": {},
     "output_type": "execute_result"
    }
   ],
   "source": [
    "pdf_json_data['afData']['afBoundData']['data']['requestBody']\n"
   ]
  },
  {
   "cell_type": "code",
   "execution_count": 75,
   "metadata": {},
   "outputs": [],
   "source": [
    "pdf_json_data['afData']['afBoundData']['data']['requestBody']=data1"
   ]
  },
  {
   "cell_type": "code",
   "execution_count": 76,
   "metadata": {},
   "outputs": [],
   "source": [
    "pdf_json_data['afData']['afSubmissionInfo']['afSubmissionTime'] = datetime.now(\n",
    ").strftime(\"%Y%m%d%H%M%S\")\n"
   ]
  },
  {
   "cell_type": "code",
   "execution_count": 77,
   "metadata": {},
   "outputs": [],
   "source": [
    "metadata = {\"form\": \"INC-33\", \"srn\": new_rf, \"documentType\": \"Form\", \"module\": \"INC-33\", \"userid\": \"CASRIKANTH0224@GMAIL.COM\", \"applicationId\": new_rf,\n",
    "            \"attachmentCategory\": \"pdf\", \"integrationId\": intId, \"formDescription\": \"INC-33\", \"formVersion\": \"1.2\", \"foldername\": \"f8ebV482914328435\", \"action\": \"uploaddms\"}\n"
   ]
  },
  {
   "cell_type": "code",
   "execution_count": 78,
   "metadata": {},
   "outputs": [
    {
     "data": {
      "text/plain": [
       "'1-10266506010'"
      ]
     },
     "execution_count": 78,
     "metadata": {},
     "output_type": "execute_result"
    }
   ],
   "source": [
    "srn"
   ]
  },
  {
   "cell_type": "code",
   "execution_count": 79,
   "metadata": {},
   "outputs": [
    {
     "data": {
      "text/plain": [
       "{'form': 'INC-33',\n",
       " 'srn': '1-10882413543',\n",
       " 'documentType': 'Form',\n",
       " 'module': 'INC-33',\n",
       " 'userid': 'CASRIKANTH0224@GMAIL.COM',\n",
       " 'applicationId': '1-10882413543',\n",
       " 'attachmentCategory': 'pdf',\n",
       " 'integrationId': '1-4ZZ3W13',\n",
       " 'formDescription': 'INC-33',\n",
       " 'formVersion': '1.2',\n",
       " 'foldername': 'f8ebV482914328435',\n",
       " 'action': 'uploaddms'}"
      ]
     },
     "execution_count": 79,
     "metadata": {},
     "output_type": "execute_result"
    }
   ],
   "source": [
    "metadata\n"
   ]
  },
  {
   "cell_type": "code",
   "execution_count": 80,
   "metadata": {},
   "outputs": [],
   "source": [
    "import random\n",
    "import string\n",
    "import time\n",
    "\n",
    "\n",
    "def get_random_string(length):\n",
    "    characters = string.ascii_letters + string.digits\n",
    "    return ''.join(random.choice(characters) for _ in range(length))\n",
    "\n",
    "\n",
    "def unique_id():\n",
    "    return int(time.time() * 1000) + random.randint(1, 999999)\n",
    "\n",
    "\n",
    "# Example usage\n",
    "random_string = get_random_string(5)\n",
    "# print(random_string)\n",
    "\n",
    "unique_id = unique_id()\n",
    "a = random_string+str(unique_id)\n"
   ]
  },
  {
   "cell_type": "code",
   "execution_count": 81,
   "metadata": {},
   "outputs": [],
   "source": [
    "metadata['foldername'] = a\n"
   ]
  },
  {
   "cell_type": "code",
   "execution_count": 82,
   "metadata": {},
   "outputs": [],
   "source": [
    "refer_value = \"/content/forms/af/mca-aem-forms/spice-plus-b/eMOA/inc33\"\n",
    "srn_value = ref_no\n",
    "request_type_value = \"New Request\"\n"
   ]
  },
  {
   "cell_type": "code",
   "execution_count": 83,
   "metadata": {},
   "outputs": [],
   "source": [
    "pdf_json_data['afData']['afBoundData']['data']['requestBody']['formData'][\"subscribersDetails\"][0]['dscCount']=\"DIN1###\"\n",
    "pdf_json_data['afData']['afBoundData']['data']['requestBody']['formData'][\"subscribersDetails\"][1]['dscCount']=\"DIN2###\"\n",
    "pdf_json_data['afData']['afBoundData']['data']['requestBody']['formData']['dscCount1']=\"DIN3###\"\n"
   ]
  },
  {
   "cell_type": "code",
   "execution_count": 84,
   "metadata": {},
   "outputs": [
    {
     "name": "stdout",
     "output_type": "stream",
     "text": [
      "{\"resCode\":200,\"resStr\":\"{\\n\\\"message\\\":\\\"Record Added Successfully\\\",\\n\\\"outSeq\\\":\\\"4769862\\\"\\n}\"}\n"
     ]
    }
   ],
   "source": [
    "import requests\n",
    "\n",
    "# Define the URL to send the POST request\n",
    "url = \"https://www.mca.gov.in/bin/mca-gov/AsyncGeneratePdf\"\n",
    "\n",
    "\n",
    "headers = {\n",
    "    \"Cookie\": f\"cookiesession1=678B2869D727DAE036D48B6E36133C84; session-token={session_token}\",\n",
    "}\n",
    "multipart_data = MultipartEncoder(fields={\n",
    "    'data': json.dumps(pdf_json_data),\n",
    "    'metadata': ('metadata.json', json.dumps(metadata), 'application/json'),\n",
    "    'refer': refer_value,\n",
    "    'srn': srn_value,\n",
    "    'requestType': request_type_value\n",
    "})\n",
    "headers = {'Content-Type': multipart_data.content_type}\n",
    "\n",
    "# Send the POST request\n",
    "response = requests.post(url, data=multipart_data, headers=headers)\n",
    "\n",
    "\n",
    "# Check if the request was successful\n",
    "if response.status_code == 200:\n",
    "    # Print the response content (PDF data)\n",
    "    print(response.text)\n",
    "else:\n",
    "    print(f\"Failed with status code {response.status_code}\")\n"
   ]
  },
  {
   "cell_type": "code",
   "execution_count": 44,
   "metadata": {},
   "outputs": [],
   "source": []
  },
  {
   "cell_type": "code",
   "execution_count": 47,
   "metadata": {},
   "outputs": [
    {
     "data": {
      "text/plain": [
       "dict_keys(['tableApplicableToCompany', 'nameOfCompany', 'regOfficeState', 'objectsToBePursued', 'mattersNecessary', 'shareCapital', 'shareCapitalDetails', 'checkBox1', 'checkBox2', 'checkBox3', 'subscribersDetails', 'totalnumberOfSharesTaken', 'membershipTypeOfWitness', 'nameOfTheWitness', 'addressDescOcupation', 'id', 'formIntegrationId'])"
      ]
     },
     "execution_count": 47,
     "metadata": {},
     "output_type": "execute_result"
    }
   ],
   "source": []
  }
 ],
 "metadata": {
  "interpreter": {
   "hash": "31f2aee4e71d21fbe5cf8b01ff0e069b9275f58929596ceb00d14d90e3e16cd6"
  },
  "kernelspec": {
   "display_name": "Python 3.10.12 64-bit",
   "language": "python",
   "name": "python3"
  },
  "language_info": {
   "codemirror_mode": {
    "name": "ipython",
    "version": 3
   },
   "file_extension": ".py",
   "mimetype": "text/x-python",
   "name": "python",
   "nbconvert_exporter": "python",
   "pygments_lexer": "ipython3",
   "version": "3.10.12"
  },
  "orig_nbformat": 4
 },
 "nbformat": 4,
 "nbformat_minor": 2
}
