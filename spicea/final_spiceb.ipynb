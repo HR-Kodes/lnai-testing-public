{
 "cells": [
  {
   "cell_type": "code",
   "execution_count": null,
   "metadata": {},
   "outputs": [],
   "source": [
    "import json\n",
    "import json\n",
    "from datetime import datetime\n",
    "import requests\n",
    "import json\n",
    "from requests_toolbelt.multipart.encoder import MultipartEncoder\n",
    "with open('data.json') as f:  \n",
    "   inp = json.load(f)\n",
    "   "
   ]
  },
  {
   "cell_type": "code",
   "execution_count": 2,
   "metadata": {},
   "outputs": [],
   "source": [
    "# srn='1-9437965806'\n",
    "srn='1-10501882963'"
   ]
  },
  {
   "cell_type": "code",
   "execution_count": 3,
   "metadata": {},
   "outputs": [],
   "source": [
    "def up(dict1:dict,dict2:dict):\n",
    "    i = dict1.keys()\n",
    "    j = dict2.keys()\n",
    "    common_keys = filter(lambda x: x in i, j)\n",
    "    tmp_dict = dict2.copy()\n",
    "    # keys_not_in_dict2 = [key for key in dict1 if key not in dict2]\n",
    "    keys_not_in_dict2 = [key for key in dict1 if key not in dict2]\n",
    "    # print(keys_not_in_dict1)\n",
    "    # print(common_keys)\n",
    "    for x in common_keys:\n",
    "        # print(x)\n",
    "        if type(dict1[x]) is dict:\n",
    "            tmp_dict[x] = up(dict1[x],dict2[x])\n",
    "        elif type(dict1[x]) is list and dict1[x]:\n",
    "            for a in range(len(dict1[x])):\n",
    "                tmp_dict[x][a] = up(dict1[x][a],dict2[x][a])\n",
    "                # print(dict1[x][a],'\\n',dict2[x][a])\n",
    "        elif type(dict1[x]) is str and dict1[x]:\n",
    "            # print(x)\n",
    "            tmp_dict[x] = dict1[x]\n",
    "        elif dict1[x] == '':\n",
    "            # print(x)\n",
    "            tmp_dict[x] = dict1[x]\n",
    "    for x in keys_not_in_dict2:\n",
    "        tmp_dict[x] = dict1[x]\n",
    "    return tmp_dict"
   ]
  },
  {
   "cell_type": "code",
   "execution_count": 4,
   "metadata": {},
   "outputs": [
    {
     "ename": "AttributeError",
     "evalue": "'NoneType' object has no attribute 'find'",
     "output_type": "error",
     "traceback": [
      "\u001b[0;31m---------------------------------------------------------------------------\u001b[0m",
      "\u001b[0;31mAttributeError\u001b[0m                            Traceback (most recent call last)",
      "Cell \u001b[0;32mIn[4], line 10\u001b[0m\n\u001b[1;32m      8\u001b[0m response \u001b[38;5;241m=\u001b[39m requests\u001b[38;5;241m.\u001b[39mpost(url, headers\u001b[38;5;241m=\u001b[39mheaders, data\u001b[38;5;241m=\u001b[39mdata)\n\u001b[1;32m      9\u001b[0m set_cookie_value \u001b[38;5;241m=\u001b[39m response\u001b[38;5;241m.\u001b[39mheaders\u001b[38;5;241m.\u001b[39mget(\u001b[38;5;124m'\u001b[39m\u001b[38;5;124mSet-Cookie\u001b[39m\u001b[38;5;124m'\u001b[39m)\n\u001b[0;32m---> 10\u001b[0m start_index \u001b[38;5;241m=\u001b[39m \u001b[43mset_cookie_value\u001b[49m\u001b[38;5;241;43m.\u001b[39;49m\u001b[43mfind\u001b[49m(\u001b[38;5;124m\"\u001b[39m\u001b[38;5;124msession-token=\u001b[39m\u001b[38;5;124m\"\u001b[39m) \u001b[38;5;241m+\u001b[39m \u001b[38;5;28mlen\u001b[39m(\u001b[38;5;124m\"\u001b[39m\u001b[38;5;124msession-token=\u001b[39m\u001b[38;5;124m\"\u001b[39m)\n\u001b[1;32m     11\u001b[0m end_index \u001b[38;5;241m=\u001b[39m set_cookie_value\u001b[38;5;241m.\u001b[39mfind(\u001b[38;5;124m\"\u001b[39m\u001b[38;5;124m;\u001b[39m\u001b[38;5;124m\"\u001b[39m, start_index)\n\u001b[1;32m     12\u001b[0m session_token \u001b[38;5;241m=\u001b[39m set_cookie_value[start_index:end_index]\n",
      "\u001b[0;31mAttributeError\u001b[0m: 'NoneType' object has no attribute 'find'"
     ]
    }
   ],
   "source": [
    "\n",
    "\n",
    "url = \"https://www.mca.gov.in/bin/mca/login\"\n",
    "\n",
    "headers = {\n",
    "    \"Origin\": \"www.mca.gov.in\",\n",
    "    \"Content-Type\": \"application/x-www-form-urlencoded; charset=UTF-8\"}\n",
    "data='data=Ut8pBOc0RSM6iYqffqN1orWH0Ee6A57QEKGmyHa5KnuzzybQ%2BjY2pMJIsLZw9DznTxfJeWvJFEcqsU2aZC33AC2nYaU60TNo8VjomCHN2dDSdHEC2enwIeEWCNR42vj7gfXFsvEwLfoO25%2BUKeho64zfHYdg5olMIs6FIDBJPCA%2BY%2BZY2s60kN0RoXLRqTzAlt%2ByI9ITxt02ZPAXfmXf9A%3D%3D'\n",
    "\n",
    "response = requests.post(url, headers=headers, data=data)\n",
    "set_cookie_value = response.headers.get('Set-Cookie')\n",
    "start_index = set_cookie_value.find(\"session-token=\") + len(\"session-token=\")\n",
    "end_index = set_cookie_value.find(\";\", start_index)\n",
    "session_token = set_cookie_value[start_index:end_index]"
   ]
  },
  {
   "cell_type": "code",
   "execution_count": null,
   "metadata": {},
   "outputs": [],
   "source": [
    "cookie=f'cookiesession1=678B28690FE85E2F44A6F01E56B5BE61; session-token={session_token}'"
   ]
  },
  {
   "cell_type": "code",
   "execution_count": null,
   "metadata": {},
   "outputs": [
    {
     "name": "stdout",
     "output_type": "stream",
     "text": [
      "Response:\n",
      "{\"message\":\"Data fetched Successfully\",\"error\":\"\",\"linkedForms\":[{\"integrationId\":\"1-4TOJSR7\",\"primaryParentSRId\":\"No Match Row Id\",\"referenceNumber\":\"1-10501882963\",\"formName\":\"Spice+ Part A\",\"srnNumber\":\"\",\"action\":{\"type\":\"14-AUG-23\",\"status\":\"\"},\"parentServiceRequestId\":\"\",\"updated\":\"2023-08-14T19:10:22.000+05:30\",\"status\":\"Submitted\",\"approvalDate\":\"\"},{\"integrationId\":\"1-4U2W7N7\",\"spiceBDirectorDeclaration\":{\"membershipNumber\":\"\",\"certificateofPracticeNumber\":\"\",\"associate_Fellow\":\"\",\"practiceNumber_declaration\":\"\",\"LegalProffesion\":\"\",\"dropdown2\":\"\",\"membershipNumber_declaration\":\"\"},\"primaryParentSRId\":\"No Match Row Id\",\"referenceNumber\":\"1-10525976755\",\"formName\":\"SPICE + Part B\",\"srnNumber\":\"\",\"parentServiceRequestId\":\"1-4TOJSR7\",\"updated\":\"2023-08-14T19:14:34.000+05:30\",\"status\":\"Draft/Pending Submission\"}]}\n"
     ]
    }
   ],
   "source": [
    "url = 'https://www.mca.gov.in/bin/spiceDashboard'\n",
    "params = {'srn': f'{srn}'}\n",
    "headers = {\n",
    "    \"Cookie\":cookie}\n",
    "\n",
    "try:\n",
    "    response = requests.get(url, params=params, headers=headers)\n",
    "    response.raise_for_status()  # Check if the request was successful\n",
    "    print(\"Response:\")\n",
    "    print(response.text)  # Print the response content if needed\n",
    "except requests.exceptions.RequestException as e:\n",
    "    print(f\"Error: {e}\")"
   ]
  },
  {
   "cell_type": "code",
   "execution_count": null,
   "metadata": {},
   "outputs": [],
   "source": [
    "ref_no=json.loads(response.text)['linkedForms'][1]['referenceNumber']"
   ]
  },
  {
   "cell_type": "code",
   "execution_count": null,
   "metadata": {},
   "outputs": [
    {
     "name": "stdout",
     "output_type": "stream",
     "text": [
      "{\"error\":\"\",\"message\":\"Data Fetched Successfully\",\"integrationId\":\"1-4U2W7N7\",\"formIntegrationId\":\"1-4U2W7NA\",\"data\":{\"status\":\"Draft/Pending Submission\",\"formData\":{\"formIntegrationId\":\"1-4U2W7NA\",\"numberOfArticles\":\"\",\"aoaEntrenched\":\"N\",\"Havingsharecapital\":\"\",\"totalSubscribedShareCapital\":\"100000\",\"totalUnclassifiedAuthorizedShareCapital\":\"100000\",\"totalClassifiedAuthorizedShareCapital\":\"100000\",\"totalAuthorizedShareCapital\":\"200000\",\"equitynumberofClasses\":\"1\",\"preferencenumberofClasses\":\"0\",\"maxnumofMembers\":\"\",\"maxNumofMembersExcludingProposedemp\":\"\",\"numOfMembers\":\"2\",\"numOfMembersExcludingProposedEmp\":\"\",\"regaddressline1\":\"C/O H N CHAMPA,#17\",\"regaddressline2\":\"Basaveswara HBC LYT.\",\"regaddresscity\":\"Bangalore North\",\"regaddressstate_ut\":\"Karnataka\",\"regaddressarea\":\"Chandra Lay Out\",\"regaddresspincode\":\"560040\",\"regaddressdistrict\":\"Bangalore\",\"regaddresscountry\":\"India\",\"regaddresscountryCode\":\"\",\"regaddressfax\":\"\",\"regaddresscompanymailid\":\"ananyamadhav23@gmail.com\",\"regaddressphone\":\"\",\"regaddresslatitude\":\"12.968\",\"regaddresslongitude\":\"77.5305\",\"SpicePartBAddress\":[{\"line1\":\"C/O H N CHAMPA,#17\",\"line2\":\"Basaveswara HBC LYT.\",\"city\":\"Bangalore North\",\"state_ut\":\"Karnataka\",\"pincode\":\"560040\",\"district\":\"Bangalore\",\"coutry\":\"India\",\"area\":\"Chandra Lay Out\",\"countryCode\":\"\",\"fax\":\"\",\"companymailid\":\"ananyamadhav23@gmail.com\",\"phone\":\"\",\"mobile\":\"9108042546\",\"addressType\":\"Correspondance Address\"}],\"rocName\":\"Registrar of Companies, Karnataka\",\"corresAddrSameRegAddr\":\"Y\",\"SubsrciberDINCount\":\"1\",\"NonIndividualDINCount\":\"\",\"DirectorDINCount\":\"1\",\"DirectorSubscriberDINCount\":\"1\",\"SubsrciberCountWithoutDIN\":\"1\",\"NonIndividualCountWithoutDIN\":\"0\",\"DirectorCountWithoutDINCount\":\"1\",\"DirectorSubscriberWithoutDINCount\":\"1\",\"spicePartBPreferenceShare\":[],\"spicePartBEquityShare\":[{\"sharecategory\":\"Equity Share\",\"classShare\":\"1\",\"authorizedcapitalsharenumber\":\"10000\",\"authorizedcapitalnominalamountpershare\":\"10\",\"authorizedcapitaltotalamount\":\"100000\",\"subscribedcapitalsharenumber\":\"10000\",\"subscribedcapitalnominalamountpershare\":\"10\",\"subscribedcapitaltotalamount\":\"100000\"}],\"SpicePartBSubscribersHavingDin\":[{\"din\":\"08553753\",\"name\":\"HONNENAHALLY NINGAPPA SUMA\",\"firstName\":\"HONNENAHALLY\",\"middleName\":\"NINGAPPA\",\"Surname\":\"SUMA\",\"fatherFirstName\":\".\",\"fatherMiddleName\":\"\",\"fatherSurName\":\".\",\"gender\":\"\",\"dateOfBirth\":\"\",\"nationality\":\"India\",\"placeofBirth\":\"\",\"citizenOfIndia\":\"\",\"residentOfIndia\":\"\",\"occupationType\":\"\",\"areaofOccupation\":\"\",\"occupationOther\":\"\",\"educationalQualificationothers\":\"\",\"educationalOther\":\"\",\"pan\":\"\",\"designation\":\"Director\",\"category\":\"Individual First subscribers cum Directors\",\"whether\":\"\",\"nomineeAppointeeNameOfCompanyInstitution\":\"\",\"ResidenseCorespondenceFlag\":\"\",\"emailid\":\"hnsuma@yahoo.co.in\",\"MobileNo\":\"\",\"identityProofDocument\":\"\",\"identityProofNumber\":\"\",\"residentialProofDocument\":\"\",\"residentialProofNumber\":\"\",\"DirectorInterestedEntitiescount\":\"0\",\"totalSubscribedShareCapital\":\"30000\",\"equitynumofclasses\":\"1\",\"preferencenumofclasses\":\"\",\"SubscriberType\":\"Subscriber CUM Director DIN\",\"SpicePartBSubsDeclaration\":[],\"inc9DeclarationFlag1\":\"N\",\"inc9DeclarationFlag2\":\"\",\"whetherNonED\":\"Executive director\",\"whetherChairman\":\"\",\"directorCategory\":\"Promoter\",\"SpicePartBSubscribersPreferenceShares\":[],\"SpicePartBSubscribersEquityShares\":[{\"sharecategory\":\"Equity Share\",\"classShare\":\"1\",\"subscribedcapitalsharenumber\":\"3000\",\"subscribedcapitalnominalamountpershare\":\"10\",\"subscribedcapitaltotalamount\":\"30000\"}],\"SpicePartBSubscribersPermAddress\":[],\"SpicePartBSubscribersPresAddress\":[]}],\"SpicePartBSubscribersNotHavingDin\":[{\"din\":\"\",\"name\":\"\",\"firstName\":\"PRATIK\",\"middleName\":\"\",\"Surname\":\"AGARWAL\",\"fatherFirstName\":\"DILIP AGARWAL\",\"fatherMiddleName\":\"\",\"fatherSurName\":\".\",\"gender\":\"Male\",\"dateOfBirth\":\"07/09/2000\",\"nationality\":\"India\",\"placeofBirth\":\"Bangalore\",\"citizenOfIndia\":\"Y\",\"residentOfIndia\":\"Y\",\"occupationType\":\"Professional\",\"areaofOccupation\":\"Student\",\"occupationOther\":\"\",\"educationalQualificationothers\":\"Master degree\",\"educationalOther\":\"\",\"pan\":\"DKJPA2449M\",\"designation\":\"Director\",\"category\":\"Individual First subscribers cum Directors\",\"whether\":\"\",\"nomineeAppointeeNameOfCompanyInstitution\":\"\",\"ResidenseCorespondenceFlag\":\"Y\",\"emailid\":\"ananyamadhav23@gmail.com\",\"MobileNo\":\"09108042546\",\"identityProofDocument\":\"Aadhar Card\",\"identityProofNumber\":\"295558800889\",\"residentialProofDocument\":\"Electricity Bill\",\"residentialProofNumber\":\"141225235020371\",\"DirectorInterestedEntitiescount\":\"0\",\"totalSubscribedShareCapital\":\"\",\"equitynumofclasses\":\"1\",\"preferencenumofclasses\":\"\",\"SubscriberType\":\"Subscriber CUM Director No DIN\",\"SpicePartBSubsDeclaration\":[],\"inc9DeclarationFlag1\":\"N\",\"inc9DeclarationFlag2\":\"\",\"whetherNonED\":\"Executive director\",\"whetherChairman\":\"\",\"directorCategory\":\"Promoter\",\"SpicePartBSubscribersPreferenceShares\":[],\"SpicePartBSubscribersEquityShares\":[{\"sharecategory\":\"Equity Share\",\"classShare\":\"1\",\"subscribedcapitalsharenumber\":\"7000\",\"subscribedcapitalnominalamountpershare\":\"10\",\"subscribedcapitaltotalamount\":\"70000\"}],\"SpicePartBSubscribersPermAddress\":[{\"line1\":\"17,2nd Main Road\",\"line2\":\"Basaveshwara Layout 2nd stage\",\"city\":\"Bangalore North\",\"district\":\"Bangalore\",\"area\":\"Chandra Lay Out\",\"state_ut\":\"Karnataka\",\"pincode\":\"560040\",\"countryCode\":\"\",\"country\":\"India\",\"phonenum\":\"\",\"yearresidenseduration\":\"\",\"monthresidenseduration\":\"\",\"addressType\":\"Permanent Address\",\"prevAddress\":\"\"}],\"SpicePartBSubscribersPresAddress\":[{\"line1\":\"17,2nd Main Road\",\"line2\":\"Basaveshwara Layout 2nd stage\",\"city\":\"Bangalore North\",\"district\":\"Bangalore\",\"area\":\"Chandra Lay Out\",\"state_ut\":\"Karnataka\",\"pincode\":\"560040\",\"countryCode\":\"\",\"country\":\"India\",\"phonenum\":\"\",\"yearresidenseduration\":\"22\",\"monthresidenseduration\":\"7\",\"addressType\":\"Present Address\",\"prevAddress\":\"\"}]}],\"SpicePartBDirectorsHavingDin\":[],\"SpicePartBDirectorsNotHavingDin\":[],\"opcDetails\":[{\"stampDuty\":{\"stampDutyToBePaidDetails\":{},\"stampDutyAlreadyDetails\":{}}}]},\"formAttachment\":[{\"attachmentLabel\":\"SpiceBproofAddress\",\"attachmentCategory\":\"Attachment\",\"activityFileName\":\"1Ananya_electrical_bill.jpg\",\"activityFileSrcType\":\"I\",\"activityFileExt\":\"jpg\",\"activityFileSize\":\"45322\",\"attachmentDMSId\":\"356123243\",\"totalNoOfPages\":\"1\",\"activityFileDate\":\"08/14/2023 18:20:39\",\"publicDocument\":\"Y\",\"activityComments\":\"175252116:SpiceBproofAddress:Document added successfully.\",\"versionNo\":\"0\",\"folderName\":\"\",\"addedBy\":\"Fo User\",\"formName\":\"\",\"folderId\":\"175252116\"},{\"attachmentLabel\":\"SpiceBcopyUtility\",\"attachmentCategory\":\"Attachment\",\"activityFileName\":\"Ananya_electrical_bill.jpg\",\"activityFileSrcType\":\"I\",\"activityFileExt\":\"jpg\",\"activityFileSize\":\"45322\",\"attachmentDMSId\":\"356123270\",\"totalNoOfPages\":\"1\",\"activityFileDate\":\"08/14/2023 18:20:39\",\"publicDocument\":\"Y\",\"activityComments\":\"175252116:SpiceBcopyUtility:Document added successfully.\",\"versionNo\":\"0\",\"folderName\":\"\",\"addedBy\":\"Fo User\",\"formName\":\"\",\"folderId\":\"175252116\"},{\"attachmentLabel\":\"SpiceBidentityPro7B\",\"attachmentCategory\":\"Attachment\",\"activityFileName\":\"DKJPA2449M_Ananya_Aadhar.jpg\",\"activityFileSrcType\":\"I\",\"activityFileExt\":\"jpg\",\"activityFileSize\":\"116918\",\"attachmentDMSId\":\"356130049\",\"totalNoOfPages\":\"1\",\"activityFileDate\":\"08/14/2023 18:20:39\",\"publicDocument\":\"Y\",\"activityComments\":\"175258922:SpiceBidentityPro7B:Document added successfully.\",\"versionNo\":\"0\",\"folderName\":\"\",\"addedBy\":\"Fo User\",\"formName\":\"\",\"folderId\":\"175258922\"},{\"attachmentLabel\":\"SpiceBProofOfResi7B\",\"attachmentCategory\":\"Attachment\",\"activityFileName\":\"DKJPA2449M_Ananya_electrical_bill.jpg\",\"activityFileSrcType\":\"I\",\"activityFileExt\":\"jpg\",\"activityFileSize\":\"45322\",\"attachmentDMSId\":\"356130055\",\"totalNoOfPages\":\"1\",\"activityFileDate\":\"08/14/2023 18:20:39\",\"publicDocument\":\"Y\",\"activityComments\":\"175258922:SpiceBProofOfResi7B:Document added successfully.\",\"versionNo\":\"0\",\"folderName\":\"\",\"addedBy\":\"Fo User\",\"formName\":\"\",\"folderId\":\"175258922\"}],\"eventDate\":\"\",\"lastUpdatedDate\":\"\",\"mcaFillingDate\":\"08/14/2023\",\"purpose\":\"Default\",\"inc9Flag\":\"\",\"eAOAFlag\":\"\",\"eMOAFlag\":\"\",\"rootSR\":\"1-10501882963\",\"parentSR\":\"1-10501882963\",\"continousFlag\":\"Y\",\"mcaRSUBFlag\":\"N\",\"referenceNumber\":\"1-10525976755\",\"srn\":\"\",\"submittedBy\":\"BIPULKUMARSINGH6690@GMAIL.COM\",\"formVersion\":\"01\"}}\n",
      "200\n"
     ]
    }
   ],
   "source": [
    "#page 1 next\n",
    "url = 'https://www.mca.gov.in/content/forms/af/mca-aem-forms/spice-part-b/spice-plus-part-b/jcr:content/guideContainer.af.dermis'\n",
    "headers = {\n",
    "    'Cookie':cookie,\n",
    "    'Content-Type': 'application/x-www-form-urlencoded; charset=UTF-8',\n",
    "    'Origin': 'https://www.mca.gov.in'}\n",
    "\n",
    "payload = {\n",
    "    'functionToExecute': 'invokeFDMOperation',\n",
    "    'formDataModelId': '/content/dam/formsanddocuments-fdm/mca-aem-forms/spice-part-b/spice-b-prefill',\n",
    "    'input': f'{{\"Model0\": {{\"requestBody\": {{\"userId\": \"\", \"referenceNumber\": \"{ref_no}\", \"srn\": \"\"}}}}}}',\n",
    "    'operationName': 'POST /spicepartb/services/getSRNDetails/1.0.0',\n",
    "    'guideNodePath': '/content/forms/af/mca-aem-forms/spice-part-b/spice-plus-part-b/jcr:content/guideContainer/rootPanel/items/panel_2001397683/items/panel_651281723/items/mca_button_copy_33766249'\n",
    "\n",
    "}\n",
    "\n",
    "response = requests.post(url, headers=headers, data=payload)\n",
    "\n",
    "print(response.text)\n",
    "print(response.status_code)\n"
   ]
  },
  {
   "cell_type": "code",
   "execution_count": null,
   "metadata": {},
   "outputs": [],
   "source": [
    "intid=json.loads(response.text)['integrationId']\n",
    "formIntId=json.loads(response.text)['formIntegrationId']"
   ]
  },
  {
   "cell_type": "code",
   "execution_count": null,
   "metadata": {},
   "outputs": [],
   "source": [
    "payload1=r'''{\"requestBody\":{\"formData\":{\"aoaEntrenched\":\"N\",\"Havingsharecapital\":\"Having Share Capital\",\"totalAuthorizedShareCapital\":\"200000\",\"totalClassifiedAuthorizedShareCapital\":\"100000\",\"totalSubscribedShareCapital\":\"100000\",\"totalUnclassifiedAuthorizedShareCapital\":\"100000\",\"equitynumberofClasses\":\"1\",\"preferencenumberofClasses\":\"0\",\"regaddresscountry\":\"India\",\"NonIndividualCountWithoutDIN\":\"0\",\"SpicePartBINDVSubscribersHavingDin\":[{\"INDVSubscribersEquityShares\":[{\"sharecategory\":\"Equity Share\"}],\"INDVSubscribersPreferenceShares\":[{\"sharecategory\":\"Preference Share\"}]}],\"SpicePartBINDVSubscribersNotHavingDin\":[{\"SpicePartBINDVsubscribersPermAddress\":{\"addressType\":\"Permanent Address\"},\"SpicePartBINDVsubscribersPresAddress\":{\"addressType\":\"Present Address\"},\"INDVSubscribersEquityShares\":[{\"sharecategory\":\"Equity Share\"}],\"INDVSubscribersPreferenceShares\":[{\"sharecategory\":\"Preference Share\"}]}],\"SpicePartBSubscribersHavingDin\":[{\"SubscriberType\":\"Subscriber CUM Director DIN\",\"category\":\"Individual First subscribers cum Directors\",\"SpicePartBSubscribersEquityShares\":[{\"sharecategory\":\"Equity Share\"}],\"SpicePartBSubscribersPreferenceShares\":[{\"sharecategory\":\"Preference Share\"}],\"SpicePartBSubsDeclaration\":[{\"shareholdingPercentage\":\"0\"}]}],\"SpicePartBSubscribersNotHavingDin\":[{\"category\":\"Individual First subscribers cum Directors\",\"SubscriberType\":\"Subscriber CUM Director No DIN\",\"SpicePartBSubscribersPermAddress\":{\"addressType\":\"Permanent Address\"},\"SpicePartBSubscribersPresAddress\":{\"addressType\":\"Present Address\"},\"SpicePartBSubscribersEquityShares\":[{\"sharecategory\":\"Equity Share\"}],\"SpicePartBSubscribersPreferenceShares\":[{\"sharecategory\":\"Preference Share\"}],\"SpicePartBSubsDeclaration\":[{\"shareholdingPercentage\":\"0\"}]}],\"SpicePartBDirectorsHavingDin\":[{\"category\":\"Directors\",\"SubscriberType\":\"Directors Having DIN\",\"SpicePartBSubsDeclaration\":[{\"shareholdingPercentage\":\"0\"}]}],\"SpicePartBDirectorsNotHavingDin\":[{\"category\":\"Directors\",\"SubscriberType\":\"Directors Not Having DIN\",\"SpicePartBSubscribersPermAddress\":{\"addressType\":\"Permanent Address\"},\"SpicePartBSubscribersPresAddress\":{\"addressType\":\"Present Address\"},\"SpicePartBSubsDeclaration\":[{\"shareholdingPercentage\":\"0\"}]}],\"formIntegrationId\":\"1-4C351SZ\",\"SpicePartBShares\":[{\"classShare\":\"1\",\"authorizedcapitalsharenumber\":\"10000\",\"subscribedcapitalsharenumber\":\"10000\",\"authorizedcapitalnominalamountpershare\":\"10\",\"subscribedcapitalnominalamountpershare\":\"10\",\"authorizedcapitaltotalamount\":\"100000\",\"subscribedcapitaltotalamount\":\"100000\",\"sharecategory\":\"Equity Share\"}],\"spicePartBNonINDVSubscribers\":[]},\"status\":\"Draft/Pending Submission\",\"formDescription\":\"For Spice+PartB\",\"formName\":\"SPICE + Part B\",\"formVersion\":\"01\",\"userId\":\"BIPULKUMARSINGH6690@GMAIL.COM\",\"integrationId\":\"1-4C351PA\",\"referenceNumber\":\"1-9437997790\",\"formAttachment\":[],\"operation\":\"Save\",\"action\":\"savesubmit\",\"formIntegrationId\":\"1-4C351SZ\",\"srn\":\"\"}}'''\n",
    "payload1_json=json.loads(payload1)\n"
   ]
  },
  {
   "cell_type": "code",
   "execution_count": null,
   "metadata": {},
   "outputs": [],
   "source": [
    "payload1_json['requestBody']['formData']['SpicePartBShares'][0]['subscribedcapitalsharenumber']='10000'\n",
    "payload1_json['requestBody']['formData']['SpicePartBShares'][0]['authorizedcapitalnominalamountpershare']='10'\n",
    "payload1_json['requestBody']['formData']['SpicePartBShares'][0]['authorizedcapitaltotalamount']\n",
    "payload1_json['requestBody']['formData']['SpicePartBShares'][0]['authorizedcapitalsharenumber']='10000'\n",
    "payload1_json['requestBody']['formData']['SpicePartBShares'][0]['authorizedcapitaltotalamount']=''\n",
    "payload1_json['requestBody']['formData']['SpicePartBShares'][0]['subscribedcapitaltotalamount']=''\n",
    "payload1_json['requestBody']['formData']['Havingsharecapital']=''\n",
    "payload1_json['requestBody']['userId']=inp['userId']\n",
    "payload1_json['requestBody']['referenceNumber']=ref_no\n",
    "payload1_json['requestBody']['formData']['formIntegrationId']=formIntId\n",
    "payload1_json['requestBody']['formIntegrationId']=formIntId\n",
    "payload1_json['requestBody']['integrationId']=intid\n",
    "# payload1_json=json.dumps(payload1_json)\n"
   ]
  },
  {
   "cell_type": "code",
   "execution_count": null,
   "metadata": {},
   "outputs": [],
   "source": [
    "payload1_json['requestBody']['userId']=inp['userId']"
   ]
  },
  {
   "cell_type": "code",
   "execution_count": null,
   "metadata": {},
   "outputs": [],
   "source": [
    "def save(payload):\n",
    "    #page 1 save\n",
    "    url = \"https://www.mca.gov.in/bin/mca-gov/SpicePartB_SAVESUBMIT\"\n",
    "\n",
    "    headers = {\n",
    "        \"Cookie\": cookie,\n",
    "        \"Referer\": \"https://www.mca.gov.in/content/mca/global/en/mca/e-filing/incorporation/SpicePartB.html\",\n",
    "        \"Origin\": \"https://www.mca.gov.in\",\n",
    "        }\n",
    "\n",
    "\n",
    "    multipart_data = MultipartEncoder(fields={\n",
    "        'data': json.dumps(payload),\n",
    "        'action': 'savesubmit',\n",
    "        'operation': 'Sabcave',\n",
    "        'serveAction': 'saveForm',\n",
    "        'referenceNumber': '',\n",
    "        'formId': ''\n",
    "    })\n",
    "\n",
    "    headers['Content-Type'] = multipart_data.content_type\n",
    "    response = requests.post(url, headers=headers, data=multipart_data)\n",
    "\n",
    "    return(response.text)\n"
   ]
  },
  {
   "cell_type": "code",
   "execution_count": null,
   "metadata": {},
   "outputs": [
    {
     "data": {
      "text/plain": [
       "''"
      ]
     },
     "execution_count": 163,
     "metadata": {},
     "output_type": "execute_result"
    }
   ],
   "source": [
    "save(payload1_json)"
   ]
  },
  {
   "cell_type": "code",
   "execution_count": null,
   "metadata": {},
   "outputs": [],
   "source": [
    "#spicepartbaddressproof\n",
    "file_path = r\"/home/pratik/Downloads/Ananya_electrical_bill.jpg\"\n",
    "file_name1=\"Ananya_electrical_bill.jpg\"\n"
   ]
  },
  {
   "cell_type": "code",
   "execution_count": null,
   "metadata": {},
   "outputs": [],
   "source": [
    "def form_save_file(url,headers,label,file_path,file_name):\n",
    "    with open(file_path,'rb') as file:\n",
    "        payload = {\n",
    "        'file': (file_name, file, 'application/pdf'),\n",
    "        'folder': '',\n",
    "        'filemetadata': '{\"form\":\"SPICE + Part B\",\"srn\":\"\",\"documentType\":\"Attachment\",\"module\":\"SPICE + Part B\",\"userid\":\"SPICE + Part B\",\"applicationId\":\"\",\"attachmentCategory\":\"pdf\",\"attachmentLabel\":'+f'{label}'+'}'\n",
    "    }\n",
    "    \n",
    "        return requests.post(url,headers=headers,files=payload)"
   ]
  },
  {
   "cell_type": "code",
   "execution_count": null,
   "metadata": {},
   "outputs": [
    {
     "name": "stdout",
     "output_type": "stream",
     "text": [
      "File uploaded successfully\n",
      "{\"attachmentLabel\":\"SpiceBproofAddress\",\"attachmentCategory\":\"Attachment\",\"activityFileName\":\"1Ananya_electrical_bill.jpg\",\"activityFileSrcPath\":\"175258922\",\"activityFileSrcType\":\"I\",\"activityFileExt\":\"jpg\",\"activityFileSize\":\"45322\",\"attachmentDMSId\":\"356130431\",\"totalNoOfPages\":\"1\",\"activityFileDate\":\"08/14/2023\",\"publicDocument\":\"Y\",\"activityComments\":\"175258922:SpiceBproofAddress:Document added successfully.\",\"folderName\":\"\",\"folderId\":\"175258922\",\"version\":\"\",\"addedBy\":\"Fo User\"}\n"
     ]
    }
   ],
   "source": [
    "\n",
    "url = 'https://www.mca.gov.in/bin/mca/dms/addservice'\n",
    "\n",
    "headers = {\n",
    "    'Cookie': cookie,\n",
    "    'Referer': 'https://www.mca.gov.in/content/mca/global/en/mca/e-filing/incorporation/SpicePartB.html',\n",
    "    'Origin': 'https://www.mca.gov.in'\n",
    "    \n",
    "    }\n",
    "response = form_save_file(url,headers,\"SpiceBproofAddress\",file_path,f'1{file_name1}')\n",
    "if response.status_code == 200:\n",
    "    print('File uploaded successfully')\n",
    "    print(response.text)\n",
    "else:\n",
    "    print('Failed to upload the file')"
   ]
  },
  {
   "cell_type": "code",
   "execution_count": null,
   "metadata": {},
   "outputs": [],
   "source": [
    "att_resp1=json.loads(response.text)"
   ]
  },
  {
   "cell_type": "code",
   "execution_count": null,
   "metadata": {},
   "outputs": [],
   "source": [
    "#spicepartBulilitycopy\n",
    "file_path = r\"/home/pratik/Downloads/Ananya_electrical_bill.jpg\"\n",
    "file_name2=\"Ananya_electrical_bill.jpg\""
   ]
  },
  {
   "cell_type": "code",
   "execution_count": null,
   "metadata": {},
   "outputs": [
    {
     "name": "stdout",
     "output_type": "stream",
     "text": [
      "File uploaded successfully\n",
      "{\"attachmentLabel\":\"SpiceBcopyUtility\",\"attachmentCategory\":\"Attachment\",\"activityFileName\":\"Ananya_electrical_bill.jpg\",\"activityFileSrcPath\":\"175258922\",\"activityFileSrcType\":\"I\",\"activityFileExt\":\"jpg\",\"activityFileSize\":\"45322\",\"attachmentDMSId\":\"356130435\",\"totalNoOfPages\":\"1\",\"activityFileDate\":\"08/14/2023\",\"publicDocument\":\"Y\",\"activityComments\":\"175258922:SpiceBcopyUtility:Document added successfully.\",\"folderName\":\"\",\"folderId\":\"175258922\",\"version\":\"\",\"addedBy\":\"Fo User\"}\n"
     ]
    }
   ],
   "source": [
    "\n",
    "url = 'https://www.mca.gov.in/bin/mca/dms/addservice'\n",
    "\n",
    "headers = {\n",
    "    'Cookie': f'cookiesession1=678B286955776DB15177E7C622CE6403; alertPopup=true; session-token={session_token}',\n",
    "    'User-Agent': 'Mozilla/5.0 (Windows NT 10.0; Win64; x64; rv:109.0) Gecko/20100101 Firefox/114.0',\n",
    "    'Referer': 'https://www.mca.gov.in/content/mca/global/en/mca/e-filing/incorporation/SpicePartB.html',\n",
    "    'X-Requested-With': 'XMLHttpRequest',\n",
    "    'Csrf-Token': 'undefined',\n",
    "    'Origin': 'https://www.mca.gov.in',\n",
    "    'Sec-Fetch-Dest': 'empty',\n",
    "    'Sec-Fetch-Mode': 'cors',\n",
    "    'Sec-Fetch-Site': 'same-origin',\n",
    "    'Te': 'trailers'\n",
    "}\n",
    "response = form_save_file(url,headers,\"SpiceBcopyUtility\",file_path,file_name2)\n",
    "if response.status_code == 200:\n",
    "    print('File uploaded successfully')\n",
    "    print(response.text)\n",
    "else:\n",
    "    print('Failed to upload the file')"
   ]
  },
  {
   "cell_type": "code",
   "execution_count": null,
   "metadata": {},
   "outputs": [],
   "source": [
    "att_resp2=json.loads(response.text)"
   ]
  },
  {
   "cell_type": "code",
   "execution_count": null,
   "metadata": {},
   "outputs": [],
   "source": [
    "payload2_json=payload1_json"
   ]
  },
  {
   "cell_type": "code",
   "execution_count": null,
   "metadata": {},
   "outputs": [],
   "source": [
    "payload2_json['requestBody']['formData']['SpicePartBAddress']=inp['spiceBpartaddress']\n"
   ]
  },
  {
   "cell_type": "code",
   "execution_count": null,
   "metadata": {},
   "outputs": [
    {
     "data": {
      "text/plain": [
       "{'line1': 'C/O H N CHAMPA,#17 ',\n",
       " 'line2': 'Basaveswara HBC LYT.',\n",
       " 'pincode': '560040',\n",
       " 'addressType': 'Correspondance Address',\n",
       " 'coutry': 'India',\n",
       " 'area': 'Chandra Lay Out',\n",
       " 'city': 'Bangalore North',\n",
       " 'district': 'Bangalore',\n",
       " 'state_ut': 'Karnataka',\n",
       " 'mobile': '9108042546',\n",
       " 'companymailid': 'ananyamadhav23@gmail.com'}"
      ]
     },
     "execution_count": 173,
     "metadata": {},
     "output_type": "execute_result"
    }
   ],
   "source": [
    "payload2_json['requestBody']['formData']['SpicePartBAddress'][0]"
   ]
  },
  {
   "cell_type": "code",
   "execution_count": null,
   "metadata": {},
   "outputs": [],
   "source": [
    "payload2_json['requestBody']['formAttachment'] = [att_resp1, att_resp2]\n"
   ]
  },
  {
   "cell_type": "code",
   "execution_count": null,
   "metadata": {},
   "outputs": [],
   "source": [
    "payload2_json['requestBody']['formData']['SpicePartBShares']=inp['SpicePartBshares']"
   ]
  },
  {
   "cell_type": "code",
   "execution_count": null,
   "metadata": {},
   "outputs": [],
   "source": [
    "payload2_json['requestBody']['formData']['regaddressline1']=inp['spiceBpartaddress'][0]['line1']\n",
    "payload2_json['requestBody']['formData']['regaddressline2']=inp['spiceBpartaddress'][0]['line2']\n",
    "payload2_json['requestBody']['formData']['regaddresspincode']=inp['spiceBpartaddress'][0]['pincode']\n",
    "payload2_json['requestBody']['formData']['regaddresscity']=inp['spiceBpartaddress'][0]['city']\n",
    "payload2_json['requestBody']['formData']['regaddressdistrict']=inp['spiceBpartaddress'][0]['district']\n",
    "payload2_json['requestBody']['formData']['regaddressstate_ut']=inp['spiceBpartaddress'][0]['state_ut']\n",
    "\n",
    "\n",
    "payload2_json['requestBody']['formData']['regaddressarea']=inp['spiceBpartaddress'][0]['area']\n",
    "payload2_json['requestBody']['formData']['regaddresscompanymailid']=inp['spiceBpartaddress'][0]['companymailid']\n",
    "payload2_json['requestBody']['formData']['regaddresslatitude']=inp['lat']\n",
    "payload2_json['requestBody']['formData']['regaddresslongitude']=inp['long']\n",
    "payload2_json['requestBody']['formData']['rocName']=inp['roc']\n",
    "\n",
    "payload2_json['requestBody']['formId']=''"
   ]
  },
  {
   "cell_type": "code",
   "execution_count": null,
   "metadata": {},
   "outputs": [],
   "source": [
    "payload2_json['requestBody']['formData']['corresAddrSameRegAddr']=inp['corresaddressameasregaddress']\n"
   ]
  },
  {
   "cell_type": "code",
   "execution_count": null,
   "metadata": {},
   "outputs": [
    {
     "data": {
      "text/plain": [
       "{'requestBody': {'formData': {'aoaEntrenched': 'N',\n",
       "   'Havingsharecapital': '',\n",
       "   'totalAuthorizedShareCapital': '200000',\n",
       "   'totalClassifiedAuthorizedShareCapital': '100000',\n",
       "   'totalSubscribedShareCapital': '100000',\n",
       "   'totalUnclassifiedAuthorizedShareCapital': '100000',\n",
       "   'equitynumberofClasses': '1',\n",
       "   'preferencenumberofClasses': '0',\n",
       "   'regaddresscountry': 'India',\n",
       "   'NonIndividualCountWithoutDIN': '0',\n",
       "   'SpicePartBINDVSubscribersHavingDin': [{'INDVSubscribersEquityShares': [{'sharecategory': 'Equity Share'}],\n",
       "     'INDVSubscribersPreferenceShares': [{'sharecategory': 'Preference Share'}]}],\n",
       "   'SpicePartBINDVSubscribersNotHavingDin': [{'SpicePartBINDVsubscribersPermAddress': {'addressType': 'Permanent Address'},\n",
       "     'SpicePartBINDVsubscribersPresAddress': {'addressType': 'Present Address'},\n",
       "     'INDVSubscribersEquityShares': [{'sharecategory': 'Equity Share'}],\n",
       "     'INDVSubscribersPreferenceShares': [{'sharecategory': 'Preference Share'}]}],\n",
       "   'SpicePartBSubscribersHavingDin': [{'SubscriberType': 'Subscriber CUM Director DIN',\n",
       "     'category': 'Individual First subscribers cum Directors',\n",
       "     'SpicePartBSubscribersEquityShares': [{'sharecategory': 'Equity Share'}],\n",
       "     'SpicePartBSubscribersPreferenceShares': [{'sharecategory': 'Preference Share'}],\n",
       "     'SpicePartBSubsDeclaration': [{'shareholdingPercentage': '0'}]}],\n",
       "   'SpicePartBSubscribersNotHavingDin': [{'category': 'Individual First subscribers cum Directors',\n",
       "     'SubscriberType': 'Subscriber CUM Director No DIN',\n",
       "     'SpicePartBSubscribersPermAddress': {'addressType': 'Permanent Address'},\n",
       "     'SpicePartBSubscribersPresAddress': {'addressType': 'Present Address'},\n",
       "     'SpicePartBSubscribersEquityShares': [{'sharecategory': 'Equity Share'}],\n",
       "     'SpicePartBSubscribersPreferenceShares': [{'sharecategory': 'Preference Share'}],\n",
       "     'SpicePartBSubsDeclaration': [{'shareholdingPercentage': '0'}]}],\n",
       "   'SpicePartBDirectorsHavingDin': [{'category': 'Directors',\n",
       "     'SubscriberType': 'Directors Having DIN',\n",
       "     'SpicePartBSubsDeclaration': [{'shareholdingPercentage': '0'}]}],\n",
       "   'SpicePartBDirectorsNotHavingDin': [{'category': 'Directors',\n",
       "     'SubscriberType': 'Directors Not Having DIN',\n",
       "     'SpicePartBSubscribersPermAddress': {'addressType': 'Permanent Address'},\n",
       "     'SpicePartBSubscribersPresAddress': {'addressType': 'Present Address'},\n",
       "     'SpicePartBSubsDeclaration': [{'shareholdingPercentage': '0'}]}],\n",
       "   'formIntegrationId': '1-4U2W7NA',\n",
       "   'SpicePartBShares': [{'classShare': '1',\n",
       "     'authorizedcapitalsharenumber': '10000',\n",
       "     'subscribedcapitalsharenumber': '10000',\n",
       "     'authorizedcapitalnominalamountpershare': '10',\n",
       "     'subscribedcapitalnominalamountpershare': '10',\n",
       "     'authorizedcapitaltotalamount': '100000',\n",
       "     'subscribedcapitaltotalamount': '100000',\n",
       "     'sharecategory': 'Equity Share'}],\n",
       "   'spicePartBNonINDVSubscribers': [],\n",
       "   'SpicePartBAddress': [{'line1': 'C/O H N CHAMPA,#17 ',\n",
       "     'line2': 'Basaveswara HBC LYT.',\n",
       "     'pincode': '560040',\n",
       "     'addressType': 'Correspondance Address',\n",
       "     'coutry': 'India',\n",
       "     'area': 'Chandra Lay Out',\n",
       "     'city': 'Bangalore North',\n",
       "     'district': 'Bangalore',\n",
       "     'state_ut': 'Karnataka',\n",
       "     'mobile': '9108042546',\n",
       "     'companymailid': 'ananyamadhav23@gmail.com'}],\n",
       "   'regaddressline1': 'C/O H N CHAMPA,#17 ',\n",
       "   'regaddressline2': 'Basaveswara HBC LYT.',\n",
       "   'regaddresspincode': '560040',\n",
       "   'regaddresscity': 'Bangalore North',\n",
       "   'regaddressdistrict': 'Bangalore',\n",
       "   'regaddressstate_ut': 'Karnataka',\n",
       "   'regaddressarea': 'Chandra Lay Out',\n",
       "   'regaddresscompanymailid': 'ananyamadhav23@gmail.com',\n",
       "   'regaddresslatitude': '12.9680',\n",
       "   'regaddresslongitude': '77.5305',\n",
       "   'rocName': 'Registrar of Companies, Karnataka',\n",
       "   'corresAddrSameRegAddr': 'Y'},\n",
       "  'status': 'Draft/Pending Submission',\n",
       "  'formDescription': 'For Spice+PartB',\n",
       "  'formName': 'SPICE + Part B',\n",
       "  'formVersion': '01',\n",
       "  'userId': 'BIPULKUMARSINGH6690@GMAIL.COM',\n",
       "  'integrationId': '1-4U2W7N7',\n",
       "  'referenceNumber': '1-10525976755',\n",
       "  'formAttachment': [{'attachmentLabel': 'SpiceBproofAddress',\n",
       "    'attachmentCategory': 'Attachment',\n",
       "    'activityFileName': '1Ananya_electrical_bill.jpg',\n",
       "    'activityFileSrcPath': '175258922',\n",
       "    'activityFileSrcType': 'I',\n",
       "    'activityFileExt': 'jpg',\n",
       "    'activityFileSize': '45322',\n",
       "    'attachmentDMSId': '356130431',\n",
       "    'totalNoOfPages': '1',\n",
       "    'activityFileDate': '08/14/2023',\n",
       "    'publicDocument': 'Y',\n",
       "    'activityComments': '175258922:SpiceBproofAddress:Document added successfully.',\n",
       "    'folderName': '',\n",
       "    'folderId': '175258922',\n",
       "    'version': '',\n",
       "    'addedBy': 'Fo User'},\n",
       "   {'attachmentLabel': 'SpiceBcopyUtility',\n",
       "    'attachmentCategory': 'Attachment',\n",
       "    'activityFileName': 'Ananya_electrical_bill.jpg',\n",
       "    'activityFileSrcPath': '175258922',\n",
       "    'activityFileSrcType': 'I',\n",
       "    'activityFileExt': 'jpg',\n",
       "    'activityFileSize': '45322',\n",
       "    'attachmentDMSId': '356130435',\n",
       "    'totalNoOfPages': '1',\n",
       "    'activityFileDate': '08/14/2023',\n",
       "    'publicDocument': 'Y',\n",
       "    'activityComments': '175258922:SpiceBcopyUtility:Document added successfully.',\n",
       "    'folderName': '',\n",
       "    'folderId': '175258922',\n",
       "    'version': '',\n",
       "    'addedBy': 'Fo User'}],\n",
       "  'operation': 'Save',\n",
       "  'action': 'savesubmit',\n",
       "  'formIntegrationId': '1-4U2W7NA',\n",
       "  'srn': '',\n",
       "  'formId': ''}}"
      ]
     },
     "execution_count": 178,
     "metadata": {},
     "output_type": "execute_result"
    }
   ],
   "source": [
    "payload2_json"
   ]
  },
  {
   "cell_type": "code",
   "execution_count": null,
   "metadata": {},
   "outputs": [],
   "source": [
    "# keys_in_dict2_but_not_in_dict1 = []\n",
    "\n",
    "# for key in payload2_json['requestBody']['formData'].keys():\n",
    "#     if key not in payload2_json['requestBody']['formData']:\n",
    "#         keys_in_dict2_but_not_in_dict1.append(key)"
   ]
  },
  {
   "cell_type": "code",
   "execution_count": null,
   "metadata": {},
   "outputs": [
    {
     "data": {
      "text/plain": [
       "'{\\r\\n\\t\\t\"error\": \"\",\\r\\n\\t\\t\"message\": \"Data Added Successfully\",\\r\\n\\t\\t\\r\\n\\t\\t\"data\":\\t{\\r\\n\\t\\t\\t\"referenceNumber\":\"1-10525976755\",\\t\\t\\t\\r\\n\\t\\t\\t\"srn\": \"\",\\t\\t\\r\\n\\t\\t\\t\"dateTime\":\"\",\\r\\n                    \"integrationId\":\"1-4U2W7N7\",\\r\\n                    \"srnStatus\":\"Draft/Pending Submission\",\\r\\n                     \"formIntegrationId\":\"1-4U2W7NA\"\\r\\n\\t\\t\\t}\\r\\n}'"
      ]
     },
     "execution_count": 180,
     "metadata": {},
     "output_type": "execute_result"
    }
   ],
   "source": [
    "save(payload2_json)"
   ]
  },
  {
   "cell_type": "code",
   "execution_count": null,
   "metadata": {},
   "outputs": [],
   "source": [
    "w_ct=inp['Dir_w_din_count']\n",
    "wt_ct=inp[\"Dir_wt_din_count\"]"
   ]
  },
  {
   "cell_type": "code",
   "execution_count": null,
   "metadata": {},
   "outputs": [],
   "source": [
    "# payload2_json=json.loads(payload2_json)\n",
    "(payload2_json)['requestBody']['formData']['SubsrciberDINCount']=w_ct\n",
    "(payload2_json)['requestBody']['formData']['SubsrciberCountWithoutDIN']=wt_ct\n",
    "(payload2_json)['requestBody']['formData']['NonIndividualCountWithoutDIN']=\"0\"\n",
    "(payload2_json)['requestBody']['formData']['DirectorSubscriberDINCount']=w_ct\n",
    "(payload2_json)['requestBody']['formData']['DirectorSubscriberWithoutDINCount']=wt_ct\n",
    "(payload2_json)['requestBody']['formData']['DirectorDINCount']=w_ct\n",
    "(payload2_json)['requestBody']['formData']['DirectorCountWithoutDINCount']=wt_ct\n",
    "\n",
    "\n",
    "\n",
    "    "
   ]
  },
  {
   "cell_type": "code",
   "execution_count": null,
   "metadata": {},
   "outputs": [
    {
     "data": {
      "text/plain": [
       "'{\\r\\n\\t\\t\"error\": \"\",\\r\\n\\t\\t\"message\": \"Data Added Successfully\",\\r\\n\\t\\t\\r\\n\\t\\t\"data\":\\t{\\r\\n\\t\\t\\t\"referenceNumber\":\"1-10525976755\",\\t\\t\\t\\r\\n\\t\\t\\t\"srn\": \"\",\\t\\t\\r\\n\\t\\t\\t\"dateTime\":\"\",\\r\\n                    \"integrationId\":\"1-4U2W7N7\",\\r\\n                    \"srnStatus\":\"Draft/Pending Submission\",\\r\\n                     \"formIntegrationId\":\"1-4U2W7NA\"\\r\\n\\t\\t\\t}\\r\\n}'"
      ]
     },
     "execution_count": 183,
     "metadata": {},
     "output_type": "execute_result"
    }
   ],
   "source": [
    "save(payload2_json)"
   ]
  },
  {
   "cell_type": "code",
   "execution_count": null,
   "metadata": {},
   "outputs": [
    {
     "name": "stdout",
     "output_type": "stream",
     "text": [
      "{\"message\":\"Data Fetched Successfully\",\"data\":{\"directorData\":[{\"DIN\":\"08553753\",\"directorDisqualified\":\"N\",\"disqualificationRemovalDate\":\"\",\"firstName\":\"HONNENAHALLY\",\"middleName\":\"NINGAPPA\",\"lastName\":\"SUMA\",\"status\":\"Approved\",\"DINSurrenderDate\":\"\",\"educationalQualification\":\"DOCT\",\"birthPlace\":\"Hassan\",\"drivingLicenseNumber\":\"\",\"mobileNumber\":\"+919448394974\",\"city\":\"Bangalore North\",\"directorDeathDate\":\"\",\"votersIdNumber\":\"\",\"durationofStay\":\"\",\"fathersFirstName\":\"HONNENAHALLY\",\"authorizedRepType\":\"\",\"district\":\"Bangalore\",\"membershipNumber\":\"\",\"pincode\":\"560020\",\"nationality\":\"India\",\"disqualificationSection\":\"\",\"gender\":\"Female\",\"DINAllocationDate\":\"09/03/2019\",\"occupationType\":\"\",\"area\":\"Chandra Lay Out\",\"KMPFlag\":\"\",\"othersEducationalQualification\":\"\",\"disqualificationDate\":\"\",\"disqualificationReason\":\"\",\"verificationStatus\":\"\",\"OPCFlag\":\"\",\"sameAddressFlag\":\"\",\"fathersLastName\":\"NINGAPPA\",\"DOB\":\"08/21/1966\",\"addressLine2\":\"Kumara Park West\",\"addressLine1\":\"#17,3rd Cross,4th Block,near Sheshadripuram college\",\"addressType\":\"Permanent Address\",\"country\":\"India\",\"fathersMiddleName\":\"SHIVANANJE GOWDA\",\"surrenderDeactivationReason\":\"\",\"PAN\":\"ABVPS3527N\",\"OIDFlag\":\"N\",\"passportNumber\":\"M8187061\",\"residentOfIndia\":\"Y\",\"state\":\"Karnataka\",\"personalContact\":\"N\",\"aadhaarNumber\":\"321268418555\",\"directorFlag\":\"Y\",\"phoneNum\":\"\",\"emailAddress\":\"hnsuma@yahoo.co.in\",\"personType\":\"Signatory\",\"areaOfOccupation\":\"TEAC\",\"citizenOfIndia\":\"Y\",\"occupation\":\"TEAC\",\"OPCType\":\"\",\"otherOccupation\":\"\",\"companyData\":[{\"UCIN\":\"U47721KA2023PTC177288\",\"DIN\":\"08553753\",\"CIN_LLPIN\":\"U47721KA2023PTC177288\",\"nameOfTheCompany\":\"FAHTECHNOLOGIES PRIVATE LIMITED\",\"emailAddress\":\"hnsuma@yahoo.co.in\",\"role\":\"Director/Designated Partner\",\"roleEffectiveDate\":\"08/14/2023 00:00:00\",\"cessationDate\":\"\",\"directorFlag\":\"Y\",\"designation\":\"Director\",\"accountType\":\"Company\",\"directorCategory\":\"Promoter\",\"chairmanFlag\":\"N\",\"nonExecutiveDirectorFlag\":\"N\",\"executiveDirectorFlag\":\"Y\"},{\"UCIN\":\"U85200KA2019PTC127631\",\"DIN\":\"08553753\",\"CIN_LLPIN\":\"U85200KA2019PTC127631\",\"nameOfTheCompany\":\"SVASTHYAADHAR PRIVATE LIMITED\",\"emailAddress\":\"hnsuma@yahoo.co.in\",\"role\":\"Individual Promoter\",\"roleEffectiveDate\":\"09/03/2019 00:00:00\",\"cessationDate\":\"\",\"directorFlag\":\"Y\",\"designation\":\"Individual Promoter\",\"accountType\":\"Company\",\"directorCategory\":\"Promoter\",\"chairmanFlag\":\"\",\"nonExecutiveDirectorFlag\":\"\",\"executiveDirectorFlag\":\"\"},{\"UCIN\":\"U85200KA2019PTC127631\",\"DIN\":\"08553753\",\"CIN_LLPIN\":\"U85200KA2019PTC127631\",\"nameOfTheCompany\":\"SVASTHYAADHAR PRIVATE LIMITED\",\"emailAddress\":\"hnsuma@yahoo.co.in\",\"role\":\"Director/Designated Partner\",\"roleEffectiveDate\":\"09/03/2019 00:00:00\",\"cessationDate\":\"05/03/2021 00:00:00\",\"directorFlag\":\"Y\",\"designation\":\"Managing Director\",\"accountType\":\"Company\",\"directorCategory\":\"Promoter\",\"chairmanFlag\":\"\",\"nonExecutiveDirectorFlag\":\"\",\"executiveDirectorFlag\":\"\"}],\"companySignatory\":[{\"middleName\":\"NINGAPPA\",\"appointmentDate\":\"08/14/2023\",\"DINSurrenderDate\":\"\",\"companyName\":\"FAHTECHNOLOGIES PRIVATE LIMITED\",\"PAN\":\"ABVPS3527N\",\"cessationDate\":\"\",\"lastName\":\"SUMA\",\"CIN\":\"U47721KA2023PTC177288\",\"firstName\":\"HONNENAHALLY\",\"accountId\":\"1-4U2NZ2X\",\"accountType\":\"Company\",\"isDisqualified\":\"N\",\"DIN\":\"08553753\",\"designation\":\"\"},{\"middleName\":\"NINGAPPA\",\"appointmentDate\":\"09/03/2019\",\"DINSurrenderDate\":\"\",\"companyName\":\"SVASTHYAADHAR PRIVATE LIMITED\",\"PAN\":\"ABVPS3527N\",\"cessationDate\":\"\",\"lastName\":\"SUMA\",\"CIN\":\"U85200KA2019PTC127631\",\"firstName\":\"HONNENAHALLY\",\"accountId\":\"5-4XA-546\",\"accountType\":\"Company\",\"isDisqualified\":\"N\",\"DIN\":\"08553753\",\"designation\":\"\"}],\"mcaDINDisqualificationReason\":[],\"mcaAssociationAddress\":[{\"addressType\":\"Present Address\",\"addressLine2\":\"Kumara Park West\",\"PAN\":\"ABVPS3527N\",\"districtCode\":\"460\",\"addressLine\":\"#17,3rd Cross,4th Block,near Sheshadripuram college\",\"locality\":\"Chandra Lay Out\",\"district\":\"Bangalore\",\"phoneNum\":\"\",\"countryRegion\":\"India\",\"city\":\"Bangalore North\",\"pincode\":\"560020\",\"province\":\"Karnataka\",\"DIN\":\"08553753\"},{\"addressType\":\"Permanent Address\",\"addressLine2\":\"Kumara Park West\",\"PAN\":\"ABVPS3527N\",\"districtCode\":\"460\",\"addressLine\":\"#17,3rd Cross,4th Block,near Sheshadripuram college\",\"locality\":\"Chandra Lay Out\",\"district\":\"Bangalore\",\"phoneNum\":\"\",\"countryRegion\":\"India\",\"city\":\"Bangalore North\",\"pincode\":\"560020\",\"province\":\"Karnataka\",\"DIN\":\"08553753\"}]}]}}\n"
     ]
    }
   ],
   "source": [
    "if int(w_ct)>0:\n",
    "    url = 'https://www.mca.gov.in/content/forms/af/mca-aem-forms/spice-part-b/spice-plus-part-b/jcr:content/guideContainer.af.dermis'\n",
    "\n",
    "    headers = {\n",
    "        'Cookie': cookie,\n",
    "        'Content-Type': 'application/x-www-form-urlencoded; charset=UTF-8',\n",
    "        'Referer': 'https://www.mca.gov.in/content/mca/global/en/mca/e-filing/incorporation/SpicePartB.html',\n",
    "        'Origin': 'https://www.mca.gov.in',\n",
    "       }\n",
    "    din=inp['Dir_w_DIN'][0]['din']\n",
    "    data = {\n",
    "        'functionToExecute': 'invokeFDMOperation',\n",
    "        'formDataModelId': '/content/dam/formsanddocuments-fdm/mca-aem-forms/spice-part-b/dindetails',\n",
    "        'input': f'{{\"Model0\": {{\"ID\": \"{din}\"}}}}',\n",
    "        'operationName': 'POST /MDS/service/director/1.0.0',\n",
    "        'guideNodePath': '/content/forms/af/mca-aem-forms/spice-part-b/spice-plus-part-b/jcr:content/guideContainer/rootPanel/items/panel_351137353/items/panel_2146734853/items/panel/items/guidenumericbox'\n",
    "    }\n",
    "\n",
    "    response = requests.post(url, headers=headers, data=data)\n",
    "\n",
    "    print(response.text)\n"
   ]
  },
  {
   "cell_type": "code",
   "execution_count": null,
   "metadata": {},
   "outputs": [],
   "source": [
    "dir_with_din_details=json.loads(response.text)['data']['directorData'][0]"
   ]
  },
  {
   "cell_type": "code",
   "execution_count": null,
   "metadata": {},
   "outputs": [],
   "source": [
    "inp['Dir_w_DIN'][0]['name']=dir_with_din_details['firstName']+' '+dir_with_din_details['middleName']+' '+dir_with_din_details['lastName']\n",
    "inp['Dir_w_DIN'][0]['nationality']=dir_with_din_details['nationality']\n",
    "inp['Dir_w_DIN'][0]['firstName']=dir_with_din_details['firstName']\n",
    "inp['Dir_w_DIN'][0]['middleName']=dir_with_din_details['middleName']\n",
    "inp['Dir_w_DIN'][0]['Surname']=dir_with_din_details['lastName']\n",
    "inp['Dir_w_DIN'][0]['emailid']=dir_with_din_details['emailAddress']\n",
    "\n"
   ]
  },
  {
   "cell_type": "code",
   "execution_count": null,
   "metadata": {},
   "outputs": [],
   "source": [
    "payload2_json['requestBody']['formData']['SpicePartBSubscribers']=inp['Dir_w_DIN']\n",
    "payload2_json['requestBody']['formData'][\"numOfMembers\"]= int(w_ct) + int(wt_ct)"
   ]
  },
  {
   "cell_type": "code",
   "execution_count": null,
   "metadata": {},
   "outputs": [
    {
     "data": {
      "text/plain": [
       "'{\\r\\n\\t\\t\"error\": \"\",\\r\\n\\t\\t\"message\": \"Data Added Successfully\",\\r\\n\\t\\t\\r\\n\\t\\t\"data\":\\t{\\r\\n\\t\\t\\t\"referenceNumber\":\"1-10525976755\",\\t\\t\\t\\r\\n\\t\\t\\t\"srn\": \"\",\\t\\t\\r\\n\\t\\t\\t\"dateTime\":\"\",\\r\\n                    \"integrationId\":\"1-4U2W7N7\",\\r\\n                    \"srnStatus\":\"Draft/Pending Submission\",\\r\\n                     \"formIntegrationId\":\"1-4U2W7NA\"\\r\\n\\t\\t\\t}\\r\\n}'"
      ]
     },
     "execution_count": 188,
     "metadata": {},
     "output_type": "execute_result"
    }
   ],
   "source": [
    "save(payload2_json)"
   ]
  },
  {
   "cell_type": "code",
   "execution_count": null,
   "metadata": {},
   "outputs": [
    {
     "name": "stdout",
     "output_type": "stream",
     "text": [
      "Encoded PAN data: %7B%22pan%22%3A%22DKJPA2449M%22%2C%22fName%22%3A%22Pratik%22%2C%22midName%22%3A%22%22%2C%22surName%22%3A%22Agarwal%22%2C%22dob%22%3A%2209%2F07%2F2000%22%2C%22fullName%22%3A%22PratikAgarwal%22%7D\n"
     ]
    }
   ],
   "source": [
    "import urllib.parse\n",
    "formatted_date = datetime.strptime(inp['Dir_wt_DIN1'][0]['dateOfBirth'], '%m/%d/%Y').strftime('%d/%m/%Y')\n",
    "\n",
    "pan_data={'pan': inp['Dir_wt_DIN1'][0]['pan'],\n",
    " 'fName': inp['Dir_wt_DIN1'][0]['firstName'],\n",
    " 'midName': inp['Dir_wt_DIN1'][0]['MiddleName'],\n",
    " 'surName': inp['Dir_wt_DIN1'][0]['Surname'],\n",
    " 'dob': formatted_date,\n",
    " 'fullName': inp['Dir_wt_DIN1'][0]['firstName']+inp['Dir_wt_DIN1'][0]['MiddleName']+inp['Dir_wt_DIN1'][0]['Surname']}\n",
    "# pan_data = inp['Dir_wt_DIN'][0]['pan_data_']\n",
    "\n",
    "pan_data_encoded1 = urllib.parse.quote(json.dumps(pan_data)).replace('%20','').replace('/','%2F')\n",
    "\n",
    "print('Encoded PAN data:', pan_data_encoded1)"
   ]
  },
  {
   "cell_type": "code",
   "execution_count": null,
   "metadata": {},
   "outputs": [
    {
     "name": "stdout",
     "output_type": "stream",
     "text": [
      "Request successful!\n",
      "Response: {\"resCode\":200,\"resStr\":\"{\\n                    \\\"error\\\":\\\"Error\\\"\\n                    }\"}\n",
      "Request successful!\n",
      "Response: {\"resCode\":200,\"resStr\":\"{\\\"status\\\":\\\"true\\\"}\"}\n"
     ]
    }
   ],
   "source": [
    "if int(wt_ct)>0:\n",
    "\n",
    "    url = 'https://www.mca.gov.in/bin/commongetapi'\n",
    "\n",
    "    headers = {\n",
    "        'Cookie': cookie,\n",
    "        'Content-Type': 'multipart/form-data',\n",
    "        'Origin': 'https://www.mca.gov.in',\n",
    "        }\n",
    "    pandata1=inp['Dir_wt_DIN'][0]['pan_data_']\n",
    "    payload = MultipartEncoder(\n",
    "        fields={\n",
    "            'data': '{\"id\":'+F\"{pandata1['pan']}\"+'}',\n",
    "            'endpointID': 'dinprefill'\n",
    "        }\n",
    "    )\n",
    "\n",
    "    headers['Content-Type'] = payload.content_type\n",
    "    response = requests.post(url, headers=headers, data=payload)\n",
    "    if response.status_code == 200:\n",
    "        print('Request successful!')\n",
    "        print('Response:', response.text)\n",
    "    else:\n",
    "        print('Request failed. Status code:', response.status_code)\n",
    "        \n",
    "    \n",
    "#VALIDATE PAN DATA\n",
    "url = 'https://www.mca.gov.in/bin/cbdtPanValidate'\n",
    "\n",
    "headers = {\n",
    "    'Cookie': cookie,\n",
    "    'Content-Type': 'application/x-www-form-urlencoded; charset=UTF-8',\n",
    "    'Origin': 'https://www.mca.gov.in',\n",
    "    }\n",
    "data=f'panData={pan_data_encoded1}'\n",
    "response = requests.post(url, headers=headers, data=data)\n",
    "if response.status_code == 200:\n",
    "    print('Request successful!')\n",
    "    print('Response:', response.text)\n",
    "else:\n",
    "    print('Request failed. Status code:', response.status_code)\n",
    "\n"
   ]
  },
  {
   "cell_type": "code",
   "execution_count": null,
   "metadata": {},
   "outputs": [
    {
     "name": "stdout",
     "output_type": "stream",
     "text": [
      "Request successful!\n",
      "Response: {\"data\":[{\"Area\":\"Chandra Lay Out\",\"Pin\":560040,\"city\":\"Bangalore North\",\"State\":\"Karnataka\",\"Country\":\"India\",\"District\":\"Bangalore\"},{\"Area\":\"Vijayanagar East\",\"Pin\":560040,\"city\":\"Bangalore North\",\"State\":\"Karnataka\",\"Country\":\"India\",\"District\":\"Bangalore\"},{\"Area\":\"Vijayanagar (Bangalore)\",\"Pin\":560040,\"city\":\"Bangalore North\",\"State\":\"Karnataka\",\"Country\":\"India\",\"District\":\"Bangalore\"}],\"error\":\"\",\"message\":\"Data fetched Successfully\"}\n"
     ]
    }
   ],
   "source": [
    "\n",
    "url = \"https://www.mca.gov.in/content/forms/af/mca-aem-forms/spice-part-b/spice-plus-part-b/jcr:content/guideContainer.af.dermis\"\n",
    "headers = {\n",
    "    \"Cookie\": cookie,\n",
    "    \"Content-Type\": \"application/x-www-form-urlencoded; charset=UTF-8\",\n",
    "    \"Origin\": \"https://www.mca.gov.in\",\n",
    "    }\n",
    "\n",
    "data = {\n",
    "    \"functionToExecute\": \"invokeFDMOperation\",\n",
    "    \"formDataModelId\": \"/content/dam/formsanddocuments-fdm/mca-aem-forms/spice-part-b/pincode\",\n",
    "    'input': f'{{\"pinCode\": \"{inp[\"Dir_wt_DIN\"][0][\"permanent_add\"][\"pincode\"]}\"}}',\n",
    "    \"operationName\": \"GET /common/service/lookup/pindetails/1.0.0\",\n",
    "    \"guideNodePath\": \"/content/forms/af/mca-aem-forms/spice-part-b/spice-plus-part-b/jcr:content/guideContainer/rootPanel/items/panel_434252747/items/panel_334769435/items/panel_copy/items/panel/items/guidetextbox_copy_11_1268838373\"\n",
    "}\n",
    "try:\n",
    "    response = requests.post(url, headers=headers, data=data)\n",
    "    response.raise_for_status()\n",
    "    print(\"Request successful!\")\n",
    "    print(\"Response:\", response.text)\n",
    "except requests.exceptions.RequestException as e:\n",
    "    print(\"Request failed:\", e)"
   ]
  },
  {
   "cell_type": "code",
   "execution_count": null,
   "metadata": {},
   "outputs": [],
   "source": [
    "b=json.loads(response.text)['data']\n",
    "area=[i['Area'] for i in b]\n",
    "state=b[0]['State']"
   ]
  },
  {
   "cell_type": "code",
   "execution_count": null,
   "metadata": {},
   "outputs": [
    {
     "name": "stdout",
     "output_type": "stream",
     "text": [
      "File uploaded successfully\n",
      "{\"attachmentLabel\":\"SpiceBidentityPro7B\",\"attachmentCategory\":\"Attachment\",\"activityFileName\":\"DKJPA2449M_Ananya_Aadhar.jpg\",\"activityFileSrcPath\":\"175258922\",\"activityFileSrcType\":\"I\",\"activityFileExt\":\"jpg\",\"activityFileSize\":\"116918\",\"attachmentDMSId\":\"356130494\",\"totalNoOfPages\":\"1\",\"activityFileDate\":\"08/14/2023\",\"publicDocument\":\"Y\",\"activityComments\":\"175258922:SpiceBidentityPro7B:Document added successfully.\",\"folderName\":\"\",\"folderId\":\"175258922\",\"version\":\"\",\"addedBy\":\"Fo User\"}\n"
     ]
    }
   ],
   "source": [
    "\n",
    "url = 'https://www.mca.gov.in/bin/mca/dms/addservice'\n",
    "file_path = '/home/pratik/Downloads/Ananya_Aadhar.jpg'\n",
    "file_name3=f\"{inp['Dir_wt_DIN'][0]['pan_data_']['pan']}_Ananya_Aadhar.jpg\"\n",
    "headers = {\n",
    "    'Cookie': cookie,\n",
    "    'Origin': 'https://www.mca.gov.in',\n",
    "    }\n",
    "with open(file_path, 'rb') as file:\n",
    "    payload = {\n",
    "        'file': (file_name3, file, 'application/pdf'),\n",
    "        'folder': '',\n",
    "        'filemetadata': '{\"form\":\"SPICE + Part B\",\"srn\":\"\",\"documentType\":\"Attachment\",\"module\":\"SPICE + Part B\",\"userid\":\"SPICE + Part B\",\"applicationId\":\"\",\"attachmentCategory\":\"pdf\",\"attachmentLabel\":\"SpiceBidentityPro7B\"}'\n",
    "    }\n",
    "    response = requests.post(url, headers=headers, files=payload)\n",
    "if response.status_code == 200:\n",
    "    print('File uploaded successfully')\n",
    "    print(response.text)\n",
    "else:\n",
    "    print('Failed to upload the file')"
   ]
  },
  {
   "cell_type": "code",
   "execution_count": null,
   "metadata": {},
   "outputs": [],
   "source": [
    "att_resp3=json.loads(response.text)\n"
   ]
  },
  {
   "cell_type": "code",
   "execution_count": null,
   "metadata": {},
   "outputs": [
    {
     "name": "stdout",
     "output_type": "stream",
     "text": [
      "File uploaded successfully\n",
      "{\"attachmentLabel\":\"SpiceBProofOfResi7B\",\"attachmentCategory\":\"Attachment\",\"activityFileName\":\"DKJPA2449M_Ananya_electrical_bill.jpg\",\"activityFileSrcPath\":\"175258922\",\"activityFileSrcType\":\"I\",\"activityFileExt\":\"jpg\",\"activityFileSize\":\"45322\",\"attachmentDMSId\":\"356130504\",\"totalNoOfPages\":\"1\",\"activityFileDate\":\"08/14/2023\",\"publicDocument\":\"Y\",\"activityComments\":\"175258922:SpiceBProofOfResi7B:Document added successfully.\",\"folderName\":\"\",\"folderId\":\"175258922\",\"version\":\"\",\"addedBy\":\"Fo User\"}\n"
     ]
    }
   ],
   "source": [
    "url = 'https://www.mca.gov.in/bin/mca/dms/addservice'\n",
    "file_path = '/home/pratik/Downloads/Ananya_electrical_bill.jpg'\n",
    "file_name4=f\"{inp['Dir_wt_DIN'][0]['pan_data_']['pan']}_Ananya_electrical_bill.jpg\"\n",
    "\n",
    "headers = {\n",
    "    'Cookie': cookie,\n",
    "    'Origin': 'https://www.mca.gov.in',\n",
    "    }\n",
    "with open(file_path, 'rb') as file:\n",
    "    payload = {\n",
    "        'file': (file_name4, file, 'application/pdf'),\n",
    "        'folder': '',\n",
    "        'filemetadata': '{\"form\":\"SPICE + Part B\",\"srn\":\"\",\"documentType\":\"Attachment\",\"module\":\"SPICE + Part B\",\"userid\":\"SPICE + Part B\",\"applicationId\":\"\",\"attachmentCategory\":\"pdf\",\"attachmentLabel\":\"SpiceBProofOfResi7B\"}'\n",
    "    }\n",
    "    response = requests.post(url, headers=headers, files=payload)\n",
    "if response.status_code == 200:\n",
    "    print('File uploaded successfully')\n",
    "    print(response.text)\n",
    "else:\n",
    "    print('Failed to upload the file')"
   ]
  },
  {
   "cell_type": "code",
   "execution_count": null,
   "metadata": {},
   "outputs": [
    {
     "data": {
      "text/plain": [
       "'DKJPA2449M_Ananya_Aadhar.jpg'"
      ]
     },
     "execution_count": 196,
     "metadata": {},
     "output_type": "execute_result"
    }
   ],
   "source": [
    "file_name3"
   ]
  },
  {
   "cell_type": "code",
   "execution_count": null,
   "metadata": {},
   "outputs": [],
   "source": [
    "att_resp4=json.loads(response.text)"
   ]
  },
  {
   "cell_type": "code",
   "execution_count": null,
   "metadata": {},
   "outputs": [],
   "source": [
    "payload3_json=(payload2_json)"
   ]
  },
  {
   "cell_type": "code",
   "execution_count": null,
   "metadata": {},
   "outputs": [],
   "source": [
    "payload3_json['requestBody']['formAttachment'] = [\n",
    "    att_resp1,\n",
    "    att_resp2,\n",
    "    att_resp3,\n",
    "    att_resp4,\n",
    "]\n"
   ]
  },
  {
   "cell_type": "code",
   "execution_count": null,
   "metadata": {},
   "outputs": [],
   "source": [
    "payload3_json['requestBody']['formData']['numOfMembers']='2'\n",
    "payload3_json['requestBody']['formData']['SpicePartBSubscribers'].append(inp['Dir_wt_DIN1'][0])\n"
   ]
  },
  {
   "cell_type": "code",
   "execution_count": null,
   "metadata": {},
   "outputs": [
    {
     "data": {
      "text/plain": [
       "[{'category': 'Directors',\n",
       "  'SubscriberType': 'Directors Not Having DIN',\n",
       "  'SpicePartBSubscribersPermAddress': {'addressType': 'Permanent Address'},\n",
       "  'SpicePartBSubscribersPresAddress': {'addressType': 'Present Address'},\n",
       "  'SpicePartBSubsDeclaration': [{'shareholdingPercentage': '0'}]}]"
      ]
     },
     "execution_count": 201,
     "metadata": {},
     "output_type": "execute_result"
    }
   ],
   "source": [
    "payload3_json['requestBody']['formData'].pop('SpicePartBINDVSubscribersHavingDin',None)\n",
    "payload3_json['requestBody']['formData'].pop('SpicePartBINDVSubscribersNotHavingDin',None)\n",
    "payload3_json['requestBody']['formData'].pop('SpicePartBSubscribersHavingDin',None)\n",
    "payload3_json['requestBody']['formData'].pop('SpicePartBSubscribersNotHavingDin',None)\n",
    "payload3_json['requestBody']['formData'].pop('SpicePartBDirectorsHavingDin',None)\n",
    "payload3_json['requestBody']['formData'].pop('SpicePartBDirectorsNotHavingDin',None)"
   ]
  },
  {
   "cell_type": "code",
   "execution_count": null,
   "metadata": {},
   "outputs": [],
   "source": [
    "payload3_json['requestBody']['formData']['SpicePartBINDVSubscribers']=[]"
   ]
  },
  {
   "cell_type": "code",
   "execution_count": null,
   "metadata": {},
   "outputs": [
    {
     "data": {
      "text/plain": [
       "'{\\r\\n\\t\\t\"error\": \"\",\\r\\n\\t\\t\"message\": \"Data Added Successfully\",\\r\\n\\t\\t\\r\\n\\t\\t\"data\":\\t{\\r\\n\\t\\t\\t\"referenceNumber\":\"1-10525976755\",\\t\\t\\t\\r\\n\\t\\t\\t\"srn\": \"\",\\t\\t\\r\\n\\t\\t\\t\"dateTime\":\"\",\\r\\n                    \"integrationId\":\"1-4U2W7N7\",\\r\\n                    \"srnStatus\":\"Draft/Pending Submission\",\\r\\n                     \"formIntegrationId\":\"1-4U2W7NA\"\\r\\n\\t\\t\\t}\\r\\n}'"
      ]
     },
     "execution_count": 203,
     "metadata": {},
     "output_type": "execute_result"
    }
   ],
   "source": [
    "save(payload3_json)"
   ]
  },
  {
   "cell_type": "code",
   "execution_count": null,
   "metadata": {},
   "outputs": [
    {
     "data": {
      "text/plain": [
       "{'requestBody': {'formData': {'aoaEntrenched': 'N',\n",
       "   'Havingsharecapital': '',\n",
       "   'totalAuthorizedShareCapital': '200000',\n",
       "   'totalClassifiedAuthorizedShareCapital': '100000',\n",
       "   'totalSubscribedShareCapital': '100000',\n",
       "   'totalUnclassifiedAuthorizedShareCapital': '100000',\n",
       "   'equitynumberofClasses': '1',\n",
       "   'preferencenumberofClasses': '0',\n",
       "   'regaddresscountry': 'India',\n",
       "   'NonIndividualCountWithoutDIN': '0',\n",
       "   'formIntegrationId': '1-4U2W7NA',\n",
       "   'SpicePartBShares': [{'classShare': '1',\n",
       "     'authorizedcapitalsharenumber': '10000',\n",
       "     'subscribedcapitalsharenumber': '10000',\n",
       "     'authorizedcapitalnominalamountpershare': '10',\n",
       "     'subscribedcapitalnominalamountpershare': '10',\n",
       "     'authorizedcapitaltotalamount': '100000',\n",
       "     'subscribedcapitaltotalamount': '100000',\n",
       "     'sharecategory': 'Equity Share'}],\n",
       "   'spicePartBNonINDVSubscribers': [],\n",
       "   'SpicePartBAddress': [{'line1': 'C/O H N CHAMPA,#17 ',\n",
       "     'line2': 'Basaveswara HBC LYT.',\n",
       "     'pincode': '560040',\n",
       "     'addressType': 'Correspondance Address',\n",
       "     'coutry': 'India',\n",
       "     'area': 'Chandra Lay Out',\n",
       "     'city': 'Bangalore North',\n",
       "     'district': 'Bangalore',\n",
       "     'state_ut': 'Karnataka',\n",
       "     'mobile': '9108042546',\n",
       "     'companymailid': 'ananyamadhav23@gmail.com'}],\n",
       "   'regaddressline1': 'C/O H N CHAMPA,#17 ',\n",
       "   'regaddressline2': 'Basaveswara HBC LYT.',\n",
       "   'regaddresspincode': '560040',\n",
       "   'regaddresscity': 'Bangalore North',\n",
       "   'regaddressdistrict': 'Bangalore',\n",
       "   'regaddressstate_ut': 'Karnataka',\n",
       "   'regaddressarea': 'Chandra Lay Out',\n",
       "   'regaddresscompanymailid': 'ananyamadhav23@gmail.com',\n",
       "   'regaddresslatitude': '12.9680',\n",
       "   'regaddresslongitude': '77.5305',\n",
       "   'rocName': 'Registrar of Companies, Karnataka',\n",
       "   'corresAddrSameRegAddr': 'Y',\n",
       "   'SubsrciberDINCount': '1',\n",
       "   'SubsrciberCountWithoutDIN': '1',\n",
       "   'DirectorSubscriberDINCount': '1',\n",
       "   'DirectorSubscriberWithoutDINCount': '1',\n",
       "   'DirectorDINCount': '1',\n",
       "   'DirectorCountWithoutDINCount': '1',\n",
       "   'SpicePartBSubscribers': [{'SubscriberType': 'Subscriber CUM Director DIN',\n",
       "     'din': '08553753',\n",
       "     'name': 'HONNENAHALLY NINGAPPA SUMA',\n",
       "     'nationality': 'India',\n",
       "     'firstName': 'HONNENAHALLY',\n",
       "     'middleName': 'NINGAPPA',\n",
       "     'category': 'Individual First subscribers cum Directors',\n",
       "     'Surname': 'SUMA',\n",
       "     'designation': 'Director',\n",
       "     'directorCategory': 'Promoter',\n",
       "     'whetherNonED': 'Executive director',\n",
       "     'emailid': 'hnsuma@yahoo.co.in',\n",
       "     'totalSubscribedShareCapital': '30000',\n",
       "     'equitynumofclasses': '1',\n",
       "     'DirectorInterestedEntitiescount': '0',\n",
       "     'SpicePartBSubsDeclaration': [],\n",
       "     'inc9DeclarationFlag1': 'N',\n",
       "     'SpicePartBSubscribersShares': [{'sharecategory': 'Equity Share',\n",
       "       'classShare': '1',\n",
       "       'subscribedcapitalsharenumber': '3000',\n",
       "       'subscribedcapitalnominalamountpershare': '10',\n",
       "       'subscribedcapitaltotalamount': '30000'}],\n",
       "     'pan': '',\n",
       "     'identityProofNumber': ''},\n",
       "    {'SubscriberType': 'Subscriber CUM Director No DIN',\n",
       "     'category': 'Individual First subscribers cum Directors',\n",
       "     'firstName': 'Pratik',\n",
       "     'MiddleName': '',\n",
       "     'Surname': 'Agarwal',\n",
       "     'fatherFirstName': 'Dilip Agarwal',\n",
       "     'fatherMiddleName': '',\n",
       "     'fatherSurName': '',\n",
       "     'gender': 'Male',\n",
       "     'dateOfBirth': '07/09/2000',\n",
       "     'nationality': 'India',\n",
       "     'placeofBirth': 'Bangalore',\n",
       "     'citizenOfIndia': 'Y',\n",
       "     'residentOfIndia': 'Y',\n",
       "     'occupationType': 'Professional',\n",
       "     'areaofOccupation': 'Student',\n",
       "     'educationalQualificationothers': 'Master degree',\n",
       "     'pan': 'DKJPA2449M',\n",
       "     'designation': 'Director',\n",
       "     'directorCategory': 'Promoter',\n",
       "     'whetherNonED': 'Executive director',\n",
       "     'MobileNo': '09108042546',\n",
       "     'emailid': 'ananyamadhav23@gmail.com',\n",
       "     'ResidenseCorespondenceFlag': 'Y',\n",
       "     'identityProofDocument': 'Aadhar Card',\n",
       "     'identityProofNumber': '295558800889',\n",
       "     'residentialProofDocument': 'Electricity Bill',\n",
       "     'residentialProofNumber': '141225235020371',\n",
       "     'Attachment1': {'fileAttachment': 'DKJPA2449M_Ananya_Aadhar.jpg'},\n",
       "     'Attachment2': {'fileAttachment': 'DKJPA2449M_Ananya_electrical_bill.jpg'},\n",
       "     'totalSubscribedShareCapital': '',\n",
       "     'equitynumofclasses': '1',\n",
       "     'DirectorInterestedEntitiescount': '0',\n",
       "     'SpicePartBSubsDeclaration': [],\n",
       "     'inc9DeclarationFlag1': 'N',\n",
       "     'din': '',\n",
       "     'SpicePartBSubscribersShares': [{'sharecategory': 'Equity Share',\n",
       "       'classShare': '1',\n",
       "       'subscribedcapitalsharenumber': '7000',\n",
       "       'subscribedcapitalnominalamountpershare': '10',\n",
       "       'subscribedcapitaltotalamount': '70000'}],\n",
       "     'SpicePartBSubscribersAddress': [{'addressType': 'Permanent Address',\n",
       "       'line1': '17,2nd Main Road',\n",
       "       'line2': 'Basaveshwara Layout 2nd stage',\n",
       "       'country': 'India',\n",
       "       'pincode': '560040',\n",
       "       'area': 'Chandra Lay Out',\n",
       "       'city': 'Bangalore North',\n",
       "       'district': 'Bangalore',\n",
       "       'state_ut': 'Karnataka'},\n",
       "      {'addressType': 'Present Address',\n",
       "       'line1': '17,2nd Main Road',\n",
       "       'line2': 'Basaveshwara Layout 2nd stage',\n",
       "       'country': 'India',\n",
       "       'pincode': '560040',\n",
       "       'area': 'Chandra Lay Out',\n",
       "       'city': 'Bangalore North',\n",
       "       'district': 'Bangalore',\n",
       "       'state_ut': 'Karnataka',\n",
       "       'yearresidenseduration': '22',\n",
       "       'monthresidenseduration': '7'}]},\n",
       "    {'SubscriberType': 'Subscriber CUM Director No DIN',\n",
       "     'category': 'Individual First subscribers cum Directors',\n",
       "     'firstName': 'Pratik',\n",
       "     'MiddleName': '',\n",
       "     'Surname': 'Agarwal',\n",
       "     'fatherFirstName': 'Dilip Agarwal',\n",
       "     'fatherMiddleName': '',\n",
       "     'fatherSurName': '',\n",
       "     'gender': 'Male',\n",
       "     'dateOfBirth': '07/09/2000',\n",
       "     'nationality': 'India',\n",
       "     'placeofBirth': 'Bangalore',\n",
       "     'citizenOfIndia': 'Y',\n",
       "     'residentOfIndia': 'Y',\n",
       "     'occupationType': 'Professional',\n",
       "     'areaofOccupation': 'Student',\n",
       "     'educationalQualificationothers': 'Master degree',\n",
       "     'pan': 'DKJPA2449M',\n",
       "     'designation': 'Director',\n",
       "     'directorCategory': 'Promoter',\n",
       "     'whetherNonED': 'Executive director',\n",
       "     'MobileNo': '09108042546',\n",
       "     'emailid': 'ananyamadhav23@gmail.com',\n",
       "     'ResidenseCorespondenceFlag': 'Y',\n",
       "     'identityProofDocument': 'Aadhar Card',\n",
       "     'identityProofNumber': '295558800889',\n",
       "     'residentialProofDocument': 'Electricity Bill',\n",
       "     'residentialProofNumber': '141225235020371',\n",
       "     'Attachment1': {'fileAttachment': 'DKJPA2449M_Ananya_Aadhar.jpg'},\n",
       "     'Attachment2': {'fileAttachment': 'DKJPA2449MF_Ananya_electrical_bill.jpg'},\n",
       "     'totalSubscribedShareCapital': '',\n",
       "     'equitynumofclasses': '1',\n",
       "     'DirectorInterestedEntitiescount': '0',\n",
       "     'SpicePartBSubsDeclaration': [],\n",
       "     'inc9DeclarationFlag1': 'N',\n",
       "     'din': '',\n",
       "     'SpicePartBSubscribersShares': [{'sharecategory': 'Equity Share',\n",
       "       'classShare': '1',\n",
       "       'subscribedcapitalsharenumber': '7000',\n",
       "       'subscribedcapitalnominalamountpershare': '10',\n",
       "       'subscribedcapitaltotalamount': '70000'}],\n",
       "     'SpicePartBSubscribersAddress': [{'addressType': 'Permanent Address',\n",
       "       'line1': '17,2nd Main Road',\n",
       "       'line2': 'Basaveshwara Layout 2nd stage',\n",
       "       'country': 'India',\n",
       "       'pincode': '560040',\n",
       "       'area': 'Chandra Lay Out',\n",
       "       'city': 'Bangalore North',\n",
       "       'district': 'Bangalore',\n",
       "       'state_ut': 'Karnataka'},\n",
       "      {'addressType': 'Present Address',\n",
       "       'line1': '17,2nd Main Road',\n",
       "       'line2': 'Basaveshwara Layout 2nd stage',\n",
       "       'country': 'India',\n",
       "       'pincode': '560040',\n",
       "       'area': 'Chandra Lay Out',\n",
       "       'city': 'Bangalore North',\n",
       "       'district': 'Bangalore',\n",
       "       'state_ut': 'Karnataka',\n",
       "       'yearresidenseduration': '22',\n",
       "       'monthresidenseduration': '7'}]}],\n",
       "   'numOfMembers': '2',\n",
       "   'SpicePartBINDVSubscribers': []},\n",
       "  'status': 'Draft/Pending Submission',\n",
       "  'formDescription': 'For Spice+PartB',\n",
       "  'formName': 'SPICE + Part B',\n",
       "  'formVersion': '01',\n",
       "  'userId': 'BIPULKUMARSINGH6690@GMAIL.COM',\n",
       "  'integrationId': '1-4U2W7N7',\n",
       "  'referenceNumber': '1-10525976755',\n",
       "  'formAttachment': [{'attachmentLabel': 'SpiceBproofAddress',\n",
       "    'attachmentCategory': 'Attachment',\n",
       "    'activityFileName': '1Ananya_electrical_bill.jpg',\n",
       "    'activityFileSrcPath': '175252116',\n",
       "    'activityFileSrcType': 'I',\n",
       "    'activityFileExt': 'jpg',\n",
       "    'activityFileSize': '45322',\n",
       "    'attachmentDMSId': '356123243',\n",
       "    'totalNoOfPages': '1',\n",
       "    'activityFileDate': '08/14/2023',\n",
       "    'publicDocument': 'Y',\n",
       "    'activityComments': '175252116:SpiceBproofAddress:Document added successfully.',\n",
       "    'folderName': '',\n",
       "    'folderId': '175252116',\n",
       "    'version': '',\n",
       "    'addedBy': 'Fo User'},\n",
       "   {'attachmentLabel': 'SpiceBcopyUtility',\n",
       "    'attachmentCategory': 'Attachment',\n",
       "    'activityFileName': 'Ananya_electrical_bill.jpg',\n",
       "    'activityFileSrcPath': '175252116',\n",
       "    'activityFileSrcType': 'I',\n",
       "    'activityFileExt': 'jpg',\n",
       "    'activityFileSize': '45322',\n",
       "    'attachmentDMSId': '356123270',\n",
       "    'totalNoOfPages': '1',\n",
       "    'activityFileDate': '08/14/2023',\n",
       "    'publicDocument': 'Y',\n",
       "    'activityComments': '175252116:SpiceBcopyUtility:Document added successfully.',\n",
       "    'folderName': '',\n",
       "    'folderId': '175252116',\n",
       "    'version': '',\n",
       "    'addedBy': 'Fo User'},\n",
       "   {'attachmentLabel': 'SpiceBidentityPro7B',\n",
       "    'attachmentCategory': 'Attachment',\n",
       "    'activityFileName': 'DKJPA2449M_Ananya_Aadhar.jpg',\n",
       "    'activityFileSrcPath': '175258922',\n",
       "    'activityFileSrcType': 'I',\n",
       "    'activityFileExt': 'jpg',\n",
       "    'activityFileSize': '116918',\n",
       "    'attachmentDMSId': '356130049',\n",
       "    'totalNoOfPages': '1',\n",
       "    'activityFileDate': '08/14/2023',\n",
       "    'publicDocument': 'Y',\n",
       "    'activityComments': '175258922:SpiceBidentityPro7B:Document added successfully.',\n",
       "    'folderName': '',\n",
       "    'folderId': '175258922',\n",
       "    'version': '',\n",
       "    'addedBy': 'Fo User'},\n",
       "   {'attachmentLabel': 'SpiceBProofOfResi7B',\n",
       "    'attachmentCategory': 'Attachment',\n",
       "    'activityFileName': 'DKJPA2449M_Ananya_electrical_bill.jpg',\n",
       "    'activityFileSrcPath': '175258922',\n",
       "    'activityFileSrcType': 'I',\n",
       "    'activityFileExt': 'jpg',\n",
       "    'activityFileSize': '45322',\n",
       "    'attachmentDMSId': '356130055',\n",
       "    'totalNoOfPages': '1',\n",
       "    'activityFileDate': '08/14/2023',\n",
       "    'publicDocument': 'Y',\n",
       "    'activityComments': '175258922:SpiceBProofOfResi7B:Document added successfully.',\n",
       "    'folderName': '',\n",
       "    'folderId': '175258922',\n",
       "    'version': '',\n",
       "    'addedBy': 'Fo User'}],\n",
       "  'operation': 'Save',\n",
       "  'action': 'savesubmit',\n",
       "  'formIntegrationId': '1-4U2W7NA',\n",
       "  'srn': '',\n",
       "  'formId': ''}}"
      ]
     },
     "execution_count": 149,
     "metadata": {},
     "output_type": "execute_result"
    }
   ],
   "source": [
    "payload3_json"
   ]
  },
  {
   "cell_type": "code",
   "execution_count": null,
   "metadata": {},
   "outputs": [],
   "source": [
    "payload4_json=payload3_json"
   ]
  },
  {
   "cell_type": "code",
   "execution_count": null,
   "metadata": {},
   "outputs": [],
   "source": [
    "payload4_json['requestBody']['formData']['opcDetails']={'stampDuty': {'state_ut': 'Karnataka',\n",
    "  'stampDutyElectronicallyPaid': 'Yes',\n",
    "  'stampDutyToBePaidDetails': {'amountForm': 20,\n",
    "   'amountMOA': 1000,\n",
    "   'amountAOA': 1000}}}"
   ]
  },
  {
   "cell_type": "code",
   "execution_count": null,
   "metadata": {},
   "outputs": [],
   "source": [
    "payload4_json['requestBody']['formData']['formAttachment']=payload4_json['requestBody']['formAttachment']"
   ]
  },
  {
   "cell_type": "code",
   "execution_count": null,
   "metadata": {},
   "outputs": [
    {
     "data": {
      "text/plain": [
       "'{\\r\\n\\t\\t\"error\": \"\",\\r\\n\\t\\t\"message\": \"Data Added Successfully\",\\r\\n\\t\\t\\r\\n\\t\\t\"data\":\\t{\\r\\n\\t\\t\\t\"referenceNumber\":\"1-10525976755\",\\t\\t\\t\\r\\n\\t\\t\\t\"srn\": \"\",\\t\\t\\r\\n\\t\\t\\t\"dateTime\":\"\",\\r\\n                    \"integrationId\":\"1-4U2W7N7\",\\r\\n                    \"srnStatus\":\"Draft/Pending Submission\",\\r\\n                     \"formIntegrationId\":\"1-4U2W7NA\"\\r\\n\\t\\t\\t}\\r\\n}'"
      ]
     },
     "execution_count": 207,
     "metadata": {},
     "output_type": "execute_result"
    }
   ],
   "source": [
    "save(payload4_json)"
   ]
  },
  {
   "cell_type": "code",
   "execution_count": null,
   "metadata": {},
   "outputs": [
    {
     "name": "stdout",
     "output_type": "stream",
     "text": [
      "Request successful!\n",
      "Response text:\n",
      "{\"resCode\":200,\"resStr\":\"{\\n        \\t\\t\\n        \\t\\t\\\"message\\\":\\\"Data fetched Successfully\\\",\\n        \\t\\t\\\"data\\\":{\\\"is_valid\\\":1}\\n        \\t}\"}\n"
     ]
    }
   ],
   "source": [
    "\n",
    "url = \"https://www.mca.gov.in/bin/fillip/fillipAoCode\"\n",
    "pan_params = {\n",
    "    \"AO_NO\": \"2\",\n",
    "    \"AO_CODE\": \"P\"+\"DLC\",\n",
    "    \"RANGE_CODE\": \"502\",\n",
    "    \"AO_TYPE\": \"WX\"\n",
    "}\n",
    "\n",
    "headers = {\n",
    "    \"Cookie\": cookie}\n",
    "\n",
    "response = requests.get(url, params=pan_params, headers=headers)\n",
    "\n",
    "# Check if the request was successful (HTTP status code 200)\n",
    "if response.status_code == 200:\n",
    "    print(\"Request successful!\")\n",
    "    print(\"Response text:\")\n",
    "    print(response.text)\n",
    "else:\n",
    "    print(f\"Request failed with status code: {response.status_code}\")\n"
   ]
  },
  {
   "cell_type": "code",
   "execution_count": null,
   "metadata": {},
   "outputs": [],
   "source": [
    "pan_valid=json.loads(json.loads(response.text)['resStr'])['data']['is_valid']"
   ]
  },
  {
   "cell_type": "code",
   "execution_count": null,
   "metadata": {},
   "outputs": [],
   "source": [
    "tan_params = {\n",
    "    \"AO_NO\": \"1\",\n",
    "    \"AO_CODE\": \"T\"+\"KAR\",\n",
    "    \"RANGE_CODE\": \"181\",\n",
    "    \"AO_TYPE\": \"WT\"\n",
    "}"
   ]
  },
  {
   "cell_type": "code",
   "execution_count": null,
   "metadata": {},
   "outputs": [],
   "source": [
    "response = requests.get(url, params=tan_params, headers=headers)"
   ]
  },
  {
   "cell_type": "code",
   "execution_count": null,
   "metadata": {},
   "outputs": [],
   "source": [
    "payload5_json=payload4_json"
   ]
  },
  {
   "cell_type": "code",
   "execution_count": null,
   "metadata": {},
   "outputs": [],
   "source": [
    "payload5_json['requestBody']['formData']['panTanDetails']={'PANareaCode': 'DLC',\n",
    " 'PANaoType': 'WX',\n",
    " 'PANrangeCode': '502',\n",
    " 'PANaoNumber': '2',\n",
    " 'TANareaCode': 'KAR',\n",
    " 'TANaoType': 'WT',\n",
    " 'TANrangeCode': '181',\n",
    " 'TANaoNumber': '1',\n",
    " 'incomeFromBusinessProfession': 'Y',\n",
    " 'businessProfessioncode': '20'}\n"
   ]
  },
  {
   "cell_type": "code",
   "execution_count": null,
   "metadata": {},
   "outputs": [
    {
     "data": {
      "text/plain": [
       "'{\\r\\n\\t\\t\"error\": \"\",\\r\\n\\t\\t\"message\": \"Data Added Successfully\",\\r\\n\\t\\t\\r\\n\\t\\t\"data\":\\t{\\r\\n\\t\\t\\t\"referenceNumber\":\"1-10525976755\",\\t\\t\\t\\r\\n\\t\\t\\t\"srn\": \"\",\\t\\t\\r\\n\\t\\t\\t\"dateTime\":\"\",\\r\\n                    \"integrationId\":\"1-4U2W7N7\",\\r\\n                    \"srnStatus\":\"Draft/Pending Submission\",\\r\\n                     \"formIntegrationId\":\"1-4U2W7NA\"\\r\\n\\t\\t\\t}\\r\\n}'"
      ]
     },
     "execution_count": 214,
     "metadata": {},
     "output_type": "execute_result"
    }
   ],
   "source": [
    "save(payload5_json)"
   ]
  },
  {
   "cell_type": "code",
   "execution_count": null,
   "metadata": {},
   "outputs": [],
   "source": [
    "payload6_json=payload5_json"
   ]
  },
  {
   "cell_type": "code",
   "execution_count": null,
   "metadata": {},
   "outputs": [],
   "source": [
    "payload6_json['requestBody']['formData']['directorDeclaration']={\n",
    "#ENTER MAIN DIRECTOR NAME HERE\n",
    " 'input1': 'PRATIK AGARWAL',\n",
    " 'declaration1': 'Y',\n",
    " 'declaration2': 'Y',\n",
    " 'declaration3': 'Y',\n",
    " 'declaration4': 'Y',\n",
    " 'declaration5': 'Y',\n",
    " 'declaration6': 'Y',                                                    \n",
    " 'declaration7': 'Y',\n",
    " 'declaration8': 'Y',\n",
    " 'declaration9': 'Y',\n",
    " 'declaration10': 'Y',\n",
    " 'declaration11': 'Y',\n",
    " 'declaration12': 'Y',\n",
    " 'declaration13': 'Y',\n",
    " 'input2': 'SRIKANTH REDDY',\n",
    " 'dropdown1': 'a',\n",
    " 'dropdown2': 'Chartered Accountant',\n",
    " 'membershipNumber_declaration': '271843',\n",
    " 'practiceNumber_declaration': 'FRN026299S',\n",
    " #ENTER MAIN DIRECTOR PAN\n",
    " 'dinPan': 'DKJPA2449M',\n",
    " 'name': 'SRIKANTH REDDY',\n",
    " 'institute': 'The Institute of Chartered Accountant of India',\n",
    " 'OfficePlace': '171, 8th cross, 7th Main Rd, 2nd Block, Jayanagar, Bengaluru, Karnataka 560011',\n",
    " 'LegalProffesion': 'Chartered Accountant',\n",
    " 'associate_Fellow': 'Associate',\n",
    " 'membershipNumber': '271843',\n",
    " 'certificateofPracticeNumber': 'FRN026299S'}"
   ]
  },
  {
   "cell_type": "code",
   "execution_count": null,
   "metadata": {},
   "outputs": [
    {
     "data": {
      "text/plain": [
       "'{\\r\\n\\t\\t\"error\": \"\",\\r\\n\\t\\t\"message\": \"Data Added Successfully\",\\r\\n\\t\\t\\r\\n\\t\\t\"data\":\\t{\\r\\n\\t\\t\\t\"referenceNumber\":\"1-10525976755\",\\t\\t\\t\\r\\n\\t\\t\\t\"srn\": \"\",\\t\\t\\r\\n\\t\\t\\t\"dateTime\":\"\",\\r\\n                    \"integrationId\":\"1-4U2W7N7\",\\r\\n                    \"srnStatus\":\"Draft/Pending Submission\",\\r\\n                     \"formIntegrationId\":\"1-4U2W7NA\"\\r\\n\\t\\t\\t}\\r\\n}'"
      ]
     },
     "execution_count": 220,
     "metadata": {},
     "output_type": "execute_result"
    }
   ],
   "source": [
    "save(payload6_json)"
   ]
  },
  {
   "cell_type": "code",
   "execution_count": null,
   "metadata": {},
   "outputs": [],
   "source": [
    "payload7_json=payload6_json"
   ]
  },
  {
   "cell_type": "code",
   "execution_count": null,
   "metadata": {},
   "outputs": [],
   "source": [
    "payload7_json['requestBody']['formData']['directorDeclaration']['pan']='DLQPR2890H'"
   ]
  },
  {
   "cell_type": "code",
   "execution_count": null,
   "metadata": {},
   "outputs": [],
   "source": [
    "payload7_json['requestBody']['eMOAFlag']='Y'\n",
    "payload7_json['requestBody']['inc9Flag']='Y'\n",
    "payload7_json['requestBody']['eAOAFlag']='Y'\n",
    "payload7_json['requestBody']['formData']['SpiceBDeclarationDINPANDetails']=[]"
   ]
  },
  {
   "cell_type": "code",
   "execution_count": null,
   "metadata": {},
   "outputs": [
    {
     "data": {
      "text/plain": [
       "'{\\r\\n\\t\\t\"error\": \"\",\\r\\n\\t\\t\"message\": \"Data Added Successfully\",\\r\\n\\t\\t\\r\\n\\t\\t\"data\":\\t{\\r\\n\\t\\t\\t\"referenceNumber\":\"1-10525976755\",\\t\\t\\t\\r\\n\\t\\t\\t\"srn\": \"\",\\t\\t\\r\\n\\t\\t\\t\"dateTime\":\"\",\\r\\n                    \"integrationId\":\"1-4U2W7N7\",\\r\\n                    \"srnStatus\":\"Draft/Pending Submission\",\\r\\n                     \"formIntegrationId\":\"1-4U2W7NA\"\\r\\n\\t\\t\\t}\\r\\n}'"
      ]
     },
     "execution_count": 223,
     "metadata": {},
     "output_type": "execute_result"
    }
   ],
   "source": [
    "save(payload7_json)"
   ]
  },
  {
   "cell_type": "code",
   "execution_count": null,
   "metadata": {},
   "outputs": [],
   "source": [
    "payload8_json=payload7_json\n",
    "payload8_json['requestBody']['comments']=''"
   ]
  },
  {
   "cell_type": "code",
   "execution_count": null,
   "metadata": {},
   "outputs": [
    {
     "name": "stdout",
     "output_type": "stream",
     "text": [
      "{\n",
      "\t\t\t\t\t                       \n",
      "\t\t\t\t\t                    \t\"validationResponse\": {\"SubmissionRestricted\":\"N\",\"validationData\":[{\"alertType\":\"\",\"alertDescription\":\"\",\"alertCategory\":\"\"},{\"alertType\":\"\",\"alertDescription\":\"\",\"alertCategory\":\"\"},{\"alertType\":\"\",\"alertDescription\":\"\",\"alertCategory\":\"\"},{\"alertType\":\"\",\"alertDescription\":\"\",\"alertCategory\":\"\"},{\"alertType\":\"\",\"alertDescription\":\"\",\"alertCategory\":\"\"},{\"alertType\":\"\",\"alertDescription\":\"\",\"alertCategory\":\"\"},{\"alertType\":\"\",\"alertDescription\":\"\",\"alertCategory\":\"\"},{\"alertType\":\"\",\"alertDescription\":\"\",\"alertCategory\":\"\"},{\"alertType\":\"\",\"alertDescription\":\"\",\"alertCategory\":\"\"},{\"alertType\":\"\",\"alertDescription\":\"\",\"alertCategory\":\"\"},{\"alertType\":\"\",\"alertDescription\":\"\",\"alertCategory\":\"\"},{\"alertType\":\"\",\"alertDescription\":\"\",\"alertCategory\":\"\"},{\"alertType\":\"\",\"alertDescription\":\"\",\"alertCategory\":\"\"},{\"alertType\":\"\",\"alertDescription\":\"\",\"alertCategory\":\"\"},{\"alertType\":\"\",\"alertDescription\":\"\",\"alertCategory\":\"\"},{\"alertType\":\"\",\"alertDescription\":\"\",\"alertCategory\":\"\"},{\"alertType\":\"\",\"alertDescription\":\"\",\"alertCategory\":\"\"},{\"alertType\":\"\",\"alertDescription\":\"\",\"alertCategory\":\"\"},{\"alertType\":\"\",\"alertDescription\":\"\",\"alertCategory\":\"\"},{\"alertType\":\"\",\"alertDescription\":\"\",\"alertCategory\":\"\"}]},\n",
      "\t\t\t\t\t                    \t\"error\":\"\",\n",
      "\t\t\t\t\t                    \t\"message\":\"Data Added Successfully\",\n",
      "\t\t\t\t\t                    \t\"data\":{\"referenceNumber\":\"1-10525976755\",\"srn\":\"\",\"dateTime\":\"08/14/2023 18:47:29\",\"integrationId\":\"1-4U2W7N7\",\"srnStatus\":\"Submitted\",\"formIntegrationId\":\"1-4U2W7NA\"}\n",
      "\t\t\t\t\t                    \t\n",
      "\t\t\t\t\t                    }\n"
     ]
    }
   ],
   "source": [
    "url = 'https://www.mca.gov.in/bin/mca-gov/SpicePartB_SAVESUBMIT'\n",
    "\n",
    "headers = {\n",
    "    'Cookie':cookie,\n",
    "    'Content-Type': 'multipart/form-data',\n",
    "    'Origin': 'https://www.mca.gov.in',\n",
    "    }\n",
    "\n",
    "multipart_data = MultipartEncoder(fields={\n",
    "    'data': json.dumps(payload8_json),\n",
    "    'action': 'SaveSubmitForm24',  # Updated 'action' field value\n",
    "    'operation': 'Submit',  # Updated 'operation' field value\n",
    "    'serveAction': 'submitForm',  # Updated 'serveAction' field value\n",
    "    'integrationId': '1-DM1ICTest',  # Updated 'integrationId' field value\n",
    "})\n",
    "\n",
    "headers['Content-Type'] = multipart_data.content_type\n",
    "response = requests.post(url, headers=headers, data=multipart_data)\n",
    "\n",
    "print(response.text)"
   ]
  },
  {
   "cell_type": "code",
   "execution_count": null,
   "metadata": {},
   "outputs": [],
   "source": [
    "unbounddata={\"data\":{'language-translation-radio': 'English',\n",
    " 'saveFlag01': 'N',\n",
    " 'prefillFormFlag': 'N',\n",
    " 'Validate': '0',\n",
    " 'Next': '0',\n",
    " 'sharecategorye1': 'Equity Share',\n",
    " 'correspondenceaddress_MobileNumber': '9108042546',\n",
    " 'saveFlag02': 'N',\n",
    " 'correspondenceaddress_proofOfAddress': {'fileAttachment': '1Ananya_electrical_bill.jpg'},\n",
    " 'correspondenceaddress_copyOfUtilityBills': 'Ananya_electrical_bill.jpg',\n",
    " 'saveFlag03': 'N',\n",
    " 'changeFlag': 'N',\n",
    " 'prefillFlag06': 'N',\n",
    " 'saveFlag6A': 'Y',\n",
    " 'panValidate6A': '0',\n",
    " 'Addresstype6a': 'Present Address',\n",
    " 'saveFlag6B': 'Y',\n",
    " 'panValidate6C': '1',\n",
    " 'saveFlag6C': 'Y',\n",
    " 'prefillFlag07': 'N',\n",
    " 'saveFlag7A': 'Y',\n",
    " 'emailIdBlock7A': 'hnsuma@yahoo.co.in',\n",
    " 'saveFlag7B': 'Y',\n",
    " 'panValidate7B': 1,\n",
    " 'area7b1': 'Chandra Lay Out',\n",
    " 'area7b2': 'Chandra Lay Out',\n",
    " 'saveFlag7C': 'Y',\n",
    " 'saveFlag7D': 'Y',\n",
    " 'panValidate': '1',\n",
    " 'saveFlag08': 'Y',\n",
    " 'saveFlag09': 'N',\n",
    " 'saveFlag10': 'N',\n",
    " 'txt_9PANAreaCode1stChar': 'D',\n",
    " 'txt_9PANAreaCode2ndChar': 'L',\n",
    " 'txt_9PANAreaCode3rdChar': 'C',\n",
    " 'txt_9PANAOType1stChar': 'W',\n",
    " 'txt_9PANAOType2ndChar': 'X',\n",
    " 'txt_9PANRangeCode1stChar': '5',\n",
    " 'txt_9PANRangeCode2ndChar': '0',\n",
    " 'txt_9PANRangeCode3rdChar': '2',\n",
    " 'txt_9PANAONo1stNo': '2',\n",
    " 'txt_9TANAreaCode1stChar': 'K',\n",
    " 'txt_9TANAreaCode2ndChar': 'A',\n",
    " 'txt_9TANAreaCode3rdChar': 'R',\n",
    " 'txt_9TANAOType1stChar': 'W',\n",
    " 'txt_9TANAOType2ndChar': 'T',\n",
    " 'txt_9TANRangeCode1stChar': '1',\n",
    " 'txt_9TANRangeCode2ndChar': '8',\n",
    " 'txt_9TANRangeCode3rdChar': '1',\n",
    " 'txt_9TANAONo1stNo': '1',\n",
    " 'saveFlag11': 'N',\n",
    " 'saveFlag12': 'N',\n",
    " 'radiobutton1659078368655': 'N',\n",
    " 'saveFlag13': 'N',\n",
    " 'prefillFlagEP': 'False',\n",
    " 'Path_for_PDFGeneration': '/content/forms/af/mca-aem-forms/spice-part-b/spice-plus-part-b',\n",
    " 'textbox_994190291657709626152': '11/12/2021',\n",
    " 'textbox_2839656751657709715007': '11/12/2021',\n",
    " 'textbox_21051849601657709790068': '11122021',\n",
    " 'type4a': 'Correspondance Address',\n",
    " 'prefillFlag': 'False'}}"
   ]
  },
  {
   "cell_type": "code",
   "execution_count": null,
   "metadata": {},
   "outputs": [],
   "source": [
    "unbounddata['data']['correspondenceaddress_MobileNumber']=inp['spiceBpartaddress'][0]['mobile']\n"
   ]
  },
  {
   "cell_type": "code",
   "execution_count": null,
   "metadata": {},
   "outputs": [],
   "source": [
    "unbounddata['data']['correspondenceaddress_proofOfAddress']['fileAttachment']=f'1{file_name1}'"
   ]
  },
  {
   "cell_type": "code",
   "execution_count": null,
   "metadata": {},
   "outputs": [],
   "source": [
    "unbounddata['data']['correspondenceaddress_copyOfUtilityBills']=file_name1"
   ]
  },
  {
   "cell_type": "code",
   "execution_count": null,
   "metadata": {},
   "outputs": [
    {
     "data": {
      "text/plain": [
       "'hnsuma@yahoo.co.in'"
      ]
     },
     "execution_count": 254,
     "metadata": {},
     "output_type": "execute_result"
    }
   ],
   "source": [
    "inp['Dir_w_DIN'][0]['emailid']"
   ]
  },
  {
   "cell_type": "code",
   "execution_count": null,
   "metadata": {},
   "outputs": [],
   "source": [
    "unbounddata['data']['emailIdBlock7A']=inp['Dir_w_DIN'][0]['emailid']"
   ]
  },
  {
   "cell_type": "code",
   "execution_count": null,
   "metadata": {},
   "outputs": [],
   "source": [
    "metadata={\"form\":\"SPICE + Part B\",\"srn\":\"1-10525976755\",\"documentType\":\"Form\",\"module\":\"SPICE + Part B\",\"userid\":\"BIPULKUMARSINGH6690@GMAIL.COM\",\"applicationId\":\"1-10525976755\",\"attachmentCategory\":\"pdf\",\"integrationId\":\"1-4U2W7N7\",\"formDescription\":\"For Spice+PartB\",\"formVersion\":\"1692018950163\",\"formId\":\"\",\"foldername\":\"175258922\",\"action\":\"uploaddms\"}"
   ]
  },
  {
   "cell_type": "code",
   "execution_count": null,
   "metadata": {},
   "outputs": [
    {
     "data": {
      "text/plain": [
       "{'form': 'SPICE + Part B',\n",
       " 'srn': '1-10525976755',\n",
       " 'documentType': 'Form',\n",
       " 'module': 'SPICE + Part B',\n",
       " 'userid': 'BIPULKUMARSINGH6690@GMAIL.COM',\n",
       " 'applicationId': '1-10525976755',\n",
       " 'attachmentCategory': 'pdf',\n",
       " 'integrationId': '1-4U2W7N7',\n",
       " 'formDescription': 'For Spice+PartB',\n",
       " 'formVersion': '1692018950163',\n",
       " 'formId': '',\n",
       " 'foldername': '175258922',\n",
       " 'action': 'uploaddms'}"
      ]
     },
     "execution_count": 271,
     "metadata": {},
     "output_type": "execute_result"
    }
   ],
   "source": [
    "metadata"
   ]
  },
  {
   "cell_type": "code",
   "execution_count": null,
   "metadata": {},
   "outputs": [],
   "source": [
    "bounddata['data']=payload4_json"
   ]
  },
  {
   "cell_type": "code",
   "execution_count": null,
   "metadata": {},
   "outputs": [
    {
     "data": {
      "text/plain": [
       "{'data': {'requestBody': {'formData': {'aoaEntrenched': 'N',\n",
       "    'Havingsharecapital': '',\n",
       "    'totalAuthorizedShareCapital': '200000',\n",
       "    'totalClassifiedAuthorizedShareCapital': '100000',\n",
       "    'totalSubscribedShareCapital': '100000',\n",
       "    'totalUnclassifiedAuthorizedShareCapital': '100000',\n",
       "    'equitynumberofClasses': '1',\n",
       "    'preferencenumberofClasses': '0',\n",
       "    'regaddresscountry': 'India',\n",
       "    'NonIndividualCountWithoutDIN': '0',\n",
       "    'formIntegrationId': '1-4U2W7NA',\n",
       "    'SpicePartBShares': [{'classShare': '1',\n",
       "      'authorizedcapitalsharenumber': '10000',\n",
       "      'subscribedcapitalsharenumber': '10000',\n",
       "      'authorizedcapitalnominalamountpershare': '10',\n",
       "      'subscribedcapitalnominalamountpershare': '10',\n",
       "      'authorizedcapitaltotalamount': '100000',\n",
       "      'subscribedcapitaltotalamount': '100000',\n",
       "      'sharecategory': 'Equity Share'}],\n",
       "    'spicePartBNonINDVSubscribers': [],\n",
       "    'SpicePartBAddress': [{'line1': 'C/O H N CHAMPA,#17 ',\n",
       "      'line2': 'Basaveswara HBC LYT.',\n",
       "      'pincode': '560040',\n",
       "      'addressType': 'Correspondance Address',\n",
       "      'coutry': 'India',\n",
       "      'area': 'Chandra Lay Out',\n",
       "      'city': 'Bangalore North',\n",
       "      'district': 'Bangalore',\n",
       "      'state_ut': 'Karnataka',\n",
       "      'mobile': '9108042546',\n",
       "      'companymailid': 'ananyamadhav23@gmail.com'}],\n",
       "    'regaddressline1': 'C/O H N CHAMPA,#17 ',\n",
       "    'regaddressline2': 'Basaveswara HBC LYT.',\n",
       "    'regaddresspincode': '560040',\n",
       "    'regaddresscity': 'Bangalore North',\n",
       "    'regaddressdistrict': 'Bangalore',\n",
       "    'regaddressstate_ut': 'Karnataka',\n",
       "    'regaddressarea': 'Chandra Lay Out',\n",
       "    'regaddresscompanymailid': 'ananyamadhav23@gmail.com',\n",
       "    'regaddresslatitude': '12.9680',\n",
       "    'regaddresslongitude': '77.5305',\n",
       "    'rocName': 'Registrar of Companies, Karnataka',\n",
       "    'corresAddrSameRegAddr': 'Y',\n",
       "    'SubsrciberDINCount': '1',\n",
       "    'SubsrciberCountWithoutDIN': '1',\n",
       "    'DirectorSubscriberDINCount': '1',\n",
       "    'DirectorSubscriberWithoutDINCount': '1',\n",
       "    'DirectorDINCount': '1',\n",
       "    'DirectorCountWithoutDINCount': '1',\n",
       "    'SpicePartBSubscribers': [{'SubscriberType': 'Subscriber CUM Director DIN',\n",
       "      'din': '08553753',\n",
       "      'name': 'HONNENAHALLY NINGAPPA SUMA',\n",
       "      'nationality': 'India',\n",
       "      'firstName': 'HONNENAHALLY',\n",
       "      'middleName': 'NINGAPPA',\n",
       "      'category': 'Individual First subscribers cum Directors',\n",
       "      'Surname': 'SUMA',\n",
       "      'designation': 'Director',\n",
       "      'directorCategory': 'Promoter',\n",
       "      'whetherNonED': 'Executive director',\n",
       "      'emailid': 'hnsuma@yahoo.co.in',\n",
       "      'totalSubscribedShareCapital': '30000',\n",
       "      'equitynumofclasses': '1',\n",
       "      'DirectorInterestedEntitiescount': '0',\n",
       "      'SpicePartBSubsDeclaration': [],\n",
       "      'inc9DeclarationFlag1': 'N',\n",
       "      'SpicePartBSubscribersShares': [{'sharecategory': 'Equity Share',\n",
       "        'classShare': '1',\n",
       "        'subscribedcapitalsharenumber': '3000',\n",
       "        'subscribedcapitalnominalamountpershare': '10',\n",
       "        'subscribedcapitaltotalamount': '30000'}],\n",
       "      'pan': '',\n",
       "      'identityProofNumber': ''},\n",
       "     {'SubscriberType': 'Subscriber CUM Director No DIN',\n",
       "      'category': 'Individual First subscribers cum Directors',\n",
       "      'firstName': 'Pratik',\n",
       "      'MiddleName': '',\n",
       "      'Surname': 'Agarwal',\n",
       "      'fatherFirstName': 'Dilip Agarwal',\n",
       "      'fatherMiddleName': '',\n",
       "      'fatherSurName': '',\n",
       "      'gender': 'Male',\n",
       "      'dateOfBirth': '07/09/2000',\n",
       "      'nationality': 'India',\n",
       "      'placeofBirth': 'Bangalore',\n",
       "      'citizenOfIndia': 'Y',\n",
       "      'residentOfIndia': 'Y',\n",
       "      'occupationType': 'Professional',\n",
       "      'areaofOccupation': 'Student',\n",
       "      'educationalQualificationothers': 'Master degree',\n",
       "      'pan': 'DKJPA2449M',\n",
       "      'designation': 'Director',\n",
       "      'directorCategory': 'Promoter',\n",
       "      'whetherNonED': 'Executive director',\n",
       "      'MobileNo': '09108042546',\n",
       "      'emailid': 'ananyamadhav23@gmail.com',\n",
       "      'ResidenseCorespondenceFlag': 'Y',\n",
       "      'identityProofDocument': 'Aadhar Card',\n",
       "      'identityProofNumber': '295558800889',\n",
       "      'residentialProofDocument': 'Electricity Bill',\n",
       "      'residentialProofNumber': '141225235020371',\n",
       "      'Attachment1': {'fileAttachment': 'DKJPA2449M_Ananya_Aadhar.jpg'},\n",
       "      'Attachment2': {'fileAttachment': 'DKJPA2449MF_Ananya_electrical_bill.jpg'},\n",
       "      'totalSubscribedShareCapital': '',\n",
       "      'equitynumofclasses': '1',\n",
       "      'DirectorInterestedEntitiescount': '0',\n",
       "      'SpicePartBSubsDeclaration': [],\n",
       "      'inc9DeclarationFlag1': 'N',\n",
       "      'din': '',\n",
       "      'SpicePartBSubscribersShares': [{'sharecategory': 'Equity Share',\n",
       "        'classShare': '1',\n",
       "        'subscribedcapitalsharenumber': '7000',\n",
       "        'subscribedcapitalnominalamountpershare': '10',\n",
       "        'subscribedcapitaltotalamount': '70000'}],\n",
       "      'SpicePartBSubscribersAddress': [{'addressType': 'Permanent Address',\n",
       "        'line1': '17,2nd Main Road',\n",
       "        'line2': 'Basaveshwara Layout 2nd stage',\n",
       "        'country': 'India',\n",
       "        'pincode': '560040',\n",
       "        'area': 'Chandra Lay Out',\n",
       "        'city': 'Bangalore North',\n",
       "        'district': 'Bangalore',\n",
       "        'state_ut': 'Karnataka'},\n",
       "       {'addressType': 'Present Address',\n",
       "        'line1': '17,2nd Main Road',\n",
       "        'line2': 'Basaveshwara Layout 2nd stage',\n",
       "        'country': 'India',\n",
       "        'pincode': '560040',\n",
       "        'area': 'Chandra Lay Out',\n",
       "        'city': 'Bangalore North',\n",
       "        'district': 'Bangalore',\n",
       "        'state_ut': 'Karnataka',\n",
       "        'yearresidenseduration': '22',\n",
       "        'monthresidenseduration': '7'}]}],\n",
       "    'numOfMembers': '2',\n",
       "    'SpicePartBINDVSubscribers': [],\n",
       "    'opcDetails': {'stampDuty': {'state_ut': 'Karnataka',\n",
       "      'stampDutyElectronicallyPaid': 'Yes',\n",
       "      'stampDutyToBePaidDetails': {'amountForm': 20,\n",
       "       'amountMOA': 1000,\n",
       "       'amountAOA': 1000}}},\n",
       "    'formAttachment': [{'attachmentLabel': 'SpiceBproofAddress',\n",
       "      'attachmentCategory': 'Attachment',\n",
       "      'activityFileName': '1Ananya_electrical_bill.jpg',\n",
       "      'activityFileSrcPath': '175258922',\n",
       "      'activityFileSrcType': 'I',\n",
       "      'activityFileExt': 'jpg',\n",
       "      'activityFileSize': '45322',\n",
       "      'attachmentDMSId': '356130431',\n",
       "      'totalNoOfPages': '1',\n",
       "      'activityFileDate': '08/14/2023',\n",
       "      'publicDocument': 'Y',\n",
       "      'activityComments': '175258922:SpiceBproofAddress:Document added successfully.',\n",
       "      'folderName': '',\n",
       "      'folderId': '175258922',\n",
       "      'version': '',\n",
       "      'addedBy': 'Fo User'},\n",
       "     {'attachmentLabel': 'SpiceBcopyUtility',\n",
       "      'attachmentCategory': 'Attachment',\n",
       "      'activityFileName': 'Ananya_electrical_bill.jpg',\n",
       "      'activityFileSrcPath': '175258922',\n",
       "      'activityFileSrcType': 'I',\n",
       "      'activityFileExt': 'jpg',\n",
       "      'activityFileSize': '45322',\n",
       "      'attachmentDMSId': '356130435',\n",
       "      'totalNoOfPages': '1',\n",
       "      'activityFileDate': '08/14/2023',\n",
       "      'publicDocument': 'Y',\n",
       "      'activityComments': '175258922:SpiceBcopyUtility:Document added successfully.',\n",
       "      'folderName': '',\n",
       "      'folderId': '175258922',\n",
       "      'version': '',\n",
       "      'addedBy': 'Fo User'},\n",
       "     {'attachmentLabel': 'SpiceBidentityPro7B',\n",
       "      'attachmentCategory': 'Attachment',\n",
       "      'activityFileName': 'DKJPA2449M_Ananya_Aadhar.jpg',\n",
       "      'activityFileSrcPath': '175258922',\n",
       "      'activityFileSrcType': 'I',\n",
       "      'activityFileExt': 'jpg',\n",
       "      'activityFileSize': '116918',\n",
       "      'attachmentDMSId': '356130494',\n",
       "      'totalNoOfPages': '1',\n",
       "      'activityFileDate': '08/14/2023',\n",
       "      'publicDocument': 'Y',\n",
       "      'activityComments': '175258922:SpiceBidentityPro7B:Document added successfully.',\n",
       "      'folderName': '',\n",
       "      'folderId': '175258922',\n",
       "      'version': '',\n",
       "      'addedBy': 'Fo User'},\n",
       "     {'attachmentLabel': 'SpiceBProofOfResi7B',\n",
       "      'attachmentCategory': 'Attachment',\n",
       "      'activityFileName': 'DKJPA2449M_Ananya_electrical_bill.jpg',\n",
       "      'activityFileSrcPath': '175258922',\n",
       "      'activityFileSrcType': 'I',\n",
       "      'activityFileExt': 'jpg',\n",
       "      'activityFileSize': '45322',\n",
       "      'attachmentDMSId': '356130504',\n",
       "      'totalNoOfPages': '1',\n",
       "      'activityFileDate': '08/14/2023',\n",
       "      'publicDocument': 'Y',\n",
       "      'activityComments': '175258922:SpiceBProofOfResi7B:Document added successfully.',\n",
       "      'folderName': '',\n",
       "      'folderId': '175258922',\n",
       "      'version': '',\n",
       "      'addedBy': 'Fo User'}],\n",
       "    'panTanDetails': {'PANareaCode': 'DLC',\n",
       "     'PANaoType': 'WX',\n",
       "     'PANrangeCode': '502',\n",
       "     'PANaoNumber': '2',\n",
       "     'TANareaCode': 'KAR',\n",
       "     'TANaoType': 'WT',\n",
       "     'TANrangeCode': '181',\n",
       "     'TANaoNumber': '1',\n",
       "     'incomeFromBusinessProfession': 'Y',\n",
       "     'businessProfessioncode': '20'},\n",
       "    'directorDeclaration': {'input1': 'ANANYA MADHAV',\n",
       "     'declaration1': 'Y',\n",
       "     'declaration2': 'Y',\n",
       "     'declaration3': 'Y',\n",
       "     'declaration4': 'Y',\n",
       "     'declaration5': 'Y',\n",
       "     'declaration6': 'Y',\n",
       "     'declaration7': 'Y',\n",
       "     'declaration8': 'Y',\n",
       "     'declaration9': 'Y',\n",
       "     'declaration10': 'Y',\n",
       "     'declaration11': 'Y',\n",
       "     'declaration12': 'Y',\n",
       "     'declaration13': 'Y',\n",
       "     'input2': 'SRIKANTH REDDY',\n",
       "     'dropdown1': 'a',\n",
       "     'dropdown2': 'Chartered Accountant',\n",
       "     'membershipNumber_declaration': '271843',\n",
       "     'practiceNumber_declaration': 'FRN026299S',\n",
       "     'dinPan': 'EEUPM6910R',\n",
       "     'name': 'SRIKANTH REDDY',\n",
       "     'institute': 'The Institute of Chartered Accountant of India',\n",
       "     'OfficePlace': '171, 8th cross, 7th Main Rd, 2nd Block, Jayanagar, Bengaluru, Karnataka 560011',\n",
       "     'LegalProffesion': 'Chartered Accountant',\n",
       "     'associate_Fellow': 'Associate',\n",
       "     'membershipNumber': '271843',\n",
       "     'certificateofPracticeNumber': 'FRN026299S',\n",
       "     'pan': 'DLQPR2890H'},\n",
       "    'SpiceBDeclarationDINPANDetails': []},\n",
       "   'status': 'Draft/Pending Submission',\n",
       "   'formDescription': 'For Spice+PartB',\n",
       "   'formName': 'SPICE + Part B',\n",
       "   'formVersion': '01',\n",
       "   'userId': 'BIPULKUMARSINGH6690@GMAIL.COM',\n",
       "   'integrationId': '1-4U2W7N7',\n",
       "   'referenceNumber': '1-10525976755',\n",
       "   'formAttachment': [{'attachmentLabel': 'SpiceBproofAddress',\n",
       "     'attachmentCategory': 'Attachment',\n",
       "     'activityFileName': '1Ananya_electrical_bill.jpg',\n",
       "     'activityFileSrcPath': '175258922',\n",
       "     'activityFileSrcType': 'I',\n",
       "     'activityFileExt': 'jpg',\n",
       "     'activityFileSize': '45322',\n",
       "     'attachmentDMSId': '356130431',\n",
       "     'totalNoOfPages': '1',\n",
       "     'activityFileDate': '08/14/2023',\n",
       "     'publicDocument': 'Y',\n",
       "     'activityComments': '175258922:SpiceBproofAddress:Document added successfully.',\n",
       "     'folderName': '',\n",
       "     'folderId': '175258922',\n",
       "     'version': '',\n",
       "     'addedBy': 'Fo User'},\n",
       "    {'attachmentLabel': 'SpiceBcopyUtility',\n",
       "     'attachmentCategory': 'Attachment',\n",
       "     'activityFileName': 'Ananya_electrical_bill.jpg',\n",
       "     'activityFileSrcPath': '175258922',\n",
       "     'activityFileSrcType': 'I',\n",
       "     'activityFileExt': 'jpg',\n",
       "     'activityFileSize': '45322',\n",
       "     'attachmentDMSId': '356130435',\n",
       "     'totalNoOfPages': '1',\n",
       "     'activityFileDate': '08/14/2023',\n",
       "     'publicDocument': 'Y',\n",
       "     'activityComments': '175258922:SpiceBcopyUtility:Document added successfully.',\n",
       "     'folderName': '',\n",
       "     'folderId': '175258922',\n",
       "     'version': '',\n",
       "     'addedBy': 'Fo User'},\n",
       "    {'attachmentLabel': 'SpiceBidentityPro7B',\n",
       "     'attachmentCategory': 'Attachment',\n",
       "     'activityFileName': 'DKJPA2449M_Ananya_Aadhar.jpg',\n",
       "     'activityFileSrcPath': '175258922',\n",
       "     'activityFileSrcType': 'I',\n",
       "     'activityFileExt': 'jpg',\n",
       "     'activityFileSize': '116918',\n",
       "     'attachmentDMSId': '356130494',\n",
       "     'totalNoOfPages': '1',\n",
       "     'activityFileDate': '08/14/2023',\n",
       "     'publicDocument': 'Y',\n",
       "     'activityComments': '175258922:SpiceBidentityPro7B:Document added successfully.',\n",
       "     'folderName': '',\n",
       "     'folderId': '175258922',\n",
       "     'version': '',\n",
       "     'addedBy': 'Fo User'},\n",
       "    {'attachmentLabel': 'SpiceBProofOfResi7B',\n",
       "     'attachmentCategory': 'Attachment',\n",
       "     'activityFileName': 'DKJPA2449M_Ananya_electrical_bill.jpg',\n",
       "     'activityFileSrcPath': '175258922',\n",
       "     'activityFileSrcType': 'I',\n",
       "     'activityFileExt': 'jpg',\n",
       "     'activityFileSize': '45322',\n",
       "     'attachmentDMSId': '356130504',\n",
       "     'totalNoOfPages': '1',\n",
       "     'activityFileDate': '08/14/2023',\n",
       "     'publicDocument': 'Y',\n",
       "     'activityComments': '175258922:SpiceBProofOfResi7B:Document added successfully.',\n",
       "     'folderName': '',\n",
       "     'folderId': '175258922',\n",
       "     'version': '',\n",
       "     'addedBy': 'Fo User'}],\n",
       "   'operation': 'Save',\n",
       "   'action': 'savesubmit',\n",
       "   'formIntegrationId': '1-4U2W7NA',\n",
       "   'srn': '',\n",
       "   'formId': '',\n",
       "   'eMOAFlag': 'Y',\n",
       "   'inc9Flag': 'Y',\n",
       "   'eAOAFlag': 'Y',\n",
       "   'comments': ''}}}"
      ]
     },
     "execution_count": 263,
     "metadata": {},
     "output_type": "execute_result"
    }
   ],
   "source": [
    "bounddata"
   ]
  },
  {
   "cell_type": "code",
   "execution_count": null,
   "metadata": {},
   "outputs": [],
   "source": []
  }
 ],
 "metadata": {
  "interpreter": {
   "hash": "31f2aee4e71d21fbe5cf8b01ff0e069b9275f58929596ceb00d14d90e3e16cd6"
  },
  "kernelspec": {
   "display_name": "Python 3.10.12 64-bit",
   "language": "python",
   "name": "python3"
  },
  "language_info": {
   "codemirror_mode": {
    "name": "ipython",
    "version": 3
   },
   "file_extension": ".py",
   "mimetype": "text/x-python",
   "name": "python",
   "nbconvert_exporter": "python",
   "pygments_lexer": "ipython3",
   "version": "3.10.12"
  },
  "orig_nbformat": 4
 },
 "nbformat": 4,
 "nbformat_minor": 2
}
