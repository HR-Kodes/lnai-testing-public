{
 "cells": [
  {
   "cell_type": "code",
   "execution_count": 9,
   "metadata": {},
   "outputs": [],
   "source": [
    "import requests\n",
    "def name_gen(name_list):\n",
    "    url = \"https://engine.renderforest.com/api/v1/business-name-suggestions\"\n",
    "\n",
    "    headers = {\n",
    "        \"Host\": \"engine.renderforest.com\",\n",
    "        \"Cookie\": \"_gid=GA1.2.1888504062.1692552113; __rf_user_meta=null; __rf_meta_info=%7B%22country%22%3A%22IN%22%7D; _gcl_au=1.1.1996399220.1692552119; _fbp=fb.1.1692552119667.1760132525; FPLC=V4iA4US0ZnK1OlVEMwaG0KHA2%2Bqw6Q42BhAwEadeKjU4ZLFOSM1oK0T2uPUvUp1CBec7cYnnD39Br6pWXvXZpWRH82q9naIDUUJxfFtJ7XDdszUMOqGgx%2BjaHXiuFA%3D%3D; FPID=FPID2.2.4iC1CCwVPq%2FH%2BzBi1SarsMfg9hxaUpxc6UNL9dUt7Ro%3D.1692552113; prism_801302551=cd55f5d5-b2ec-496c-8365-3bcad25c6331; _ga=GA1.1.2118985336.1692552113; _gat=1; _ga_DEBTFCW1WS=GS1.1.1692552119.1.1.1692552298.0.0.0\",  # Include your actual cookie values\n",
    "        \"Content-Length\": \"123\",\n",
    "        \"Sec-Ch-Ua\": \"\",\n",
    "        \"Sec-Ch-Ua-Platform\": \"\",\n",
    "        \"Sec-Ch-Ua-Mobile\": \"?0\",\n",
    "        \"User-Agent\": \"Mozilla/5.0 (Windows NT 10.0; Win64; x64) AppleWebKit/537.36 (KHTML, like Gecko) Chrome/116.0.5845.97 Safari/537.36\",\n",
    "        \"Content-Type\": \"application/json\",\n",
    "        \"Accept\": \"*/*\",\n",
    "        \"Origin\": \"https://www.renderforest.com\",\n",
    "        \"Sec-Fetch-Site\": \"same-site\",\n",
    "        \"Sec-Fetch-Mode\": \"cors\",\n",
    "        \"Sec-Fetch-Dest\": \"empty\",\n",
    "        \"Referer\": \"https://www.renderforest.com/business-name-suggestions\",\n",
    "        \"Accept-Encoding\": \"gzip, deflate\",\n",
    "        \"Accept-Language\": \"en-US,en;q=0.9\"\n",
    "    }\n",
    "\n",
    "    payload = {\n",
    "        \"description\": \"Elevating Medical Records with Conversational Transcription and EMR Classification\",\n",
    "        \"limit\": 20,\n",
    "        \"offset\": 0\n",
    "    }\n",
    "\n",
    "    response = requests.post(url, json=payload, headers=headers)\n",
    "    a=json.loads(response.text)['data']['names']\n",
    "    for i in a:\n",
    "        name_list.append(i)\n",
    "     # Print the response content\n",
    "    \n"
   ]
  },
  {
   "cell_type": "code",
   "execution_count": 2,
   "metadata": {},
   "outputs": [],
   "source": [
    "import json"
   ]
  },
  {
   "cell_type": "code",
   "execution_count": 10,
   "metadata": {},
   "outputs": [],
   "source": []
  },
  {
   "cell_type": "code",
   "execution_count": 13,
   "metadata": {},
   "outputs": [],
   "source": [
    "i=0\n",
    "name=[]\n",
    "\n",
    "while(i<150):\n",
    "    name_gen(name)\n",
    "    i+=10"
   ]
  },
  {
   "cell_type": "code",
   "execution_count": 15,
   "metadata": {},
   "outputs": [
    {
     "data": {
      "text/plain": [
       "300"
      ]
     },
     "execution_count": 15,
     "metadata": {},
     "output_type": "execute_result"
    }
   ],
   "source": [
    "len(name)"
   ]
  },
  {
   "cell_type": "code",
   "execution_count": 16,
   "metadata": {},
   "outputs": [
    {
     "name": "stdout",
     "output_type": "stream",
     "text": [
      "['MedVox', 'ConvoMed', 'Transcript', 'MedCom', 'EMRPlus', 'ElevaEMR', 'Chatmed', 'Voxscribe', 'RecordPro', 'DocuTyper', 'MedSpeech', 'Transcripto', 'ClassiEMR', 'MedConvoUp', 'SpeakDocu', 'TranscriBz', 'MedRecordz', 'ElevateEM', 'TalkNotes', 'EMRense', 'MedTrans', 'TalkEMRz', 'ClassiPhrase', 'MediChat', 'MedDictate', 'ConvoManage', 'TransText', 'EMRHub', 'ElevaScript', 'DocuSpeak', 'MedClassz', 'Callscribe', 'ClassiTalk', 'TranscribeIT', 'MedVoicez', 'EMRBoost', 'ElevaText', 'ConvoDoc', 'SpeakClass', 'TranscribeUp', 'MedDial', 'EMRxpress', 'TalkMed', 'RecordFlow', 'MedScribe', 'ClassiFlow', 'ElevateRx', 'SpeakFlow', 'MedConvoz', 'TranscribeRx', 'MediFlow', 'EMRPulse', 'ElevateIT', 'TalkClass', 'ConvoFlow', 'MedClassi', 'MedTranscribe', 'EMRConverse', 'TalkRecord', 'ClassiTrans', 'MedVoiceDoc', 'ElevateFlow', 'ConvoSpeak', 'TranscEMR', 'ChatMedRec', 'MediTranscribe', 'ElevateChatRx', 'ConvoEMRFlow', 'MedRecordUP', 'VoiceTranscribe', 'EMRClassify', 'TalkMedRec', 'ElevaScriptRx', 'MedConvoPlus', 'TranscribeFlow', 'ChatEMR', 'MediTalk', 'SmartNotes', 'MedScribe+', 'DocuSpeakX', 'VoiceGenius', 'MedTrans+', 'ChatterMed', 'EMRFlowz', 'TransGenius', 'MediSpeakUp', 'ElevateMed+', 'ConversaDoc', 'ClassiTrans+', 'MedRevolve', 'SpeakNexus', 'TranscribeMed', 'EMRChatter', 'TalkSmartEMR', 'MedFlowz', 'DocuClassify', 'MedScan', 'TalkMedRx', 'TransClass', 'MedScribeX', 'ClassiChat', 'ConvoGenie', 'ElevaNotes', 'MedTransX', 'SpeakEMR', 'TranscriptX', 'MedWrite', 'ConverseRx', 'TalkClassX', 'DocuGenius', 'TransFlowX', 'MedTrack', 'EMRConnect', 'ElevaSpeak', 'MedNotesX', 'ConversaTrack', 'MedSense', 'TalkScript', 'ClassiTalks', 'MediFlow+', 'DocuScribe', 'EMRConverse+', 'ElevateGen', 'ConvoTrack', 'TranscribeMed+', 'MediTech', 'ElevaFlow', 'SpeakScan', 'MedWorks', 'EMRConnect+', 'TransClassify', 'MediSpeak', 'ElevateGenius', 'ConversaTech', 'MedFlow+', 'DocuScribe+', 'MediTransc', 'DocuTrack', 'SpeakNotes', 'TranscTalk', 'ConvoGen', 'TalkFlow', 'ElevaScan', 'MedTech', 'TransSpeak', 'ClassiTrack', 'SpeakScript', 'MediSense', 'ElevateDoc', 'ConversaFlow', 'MedConvoFlow', 'GenieTrans', 'ChatterMedX', 'TalkSmartRX', 'MediTechRx', 'ChatMedScan', 'ElevateRX+', 'ClassiSpeak', 'ConversaClass', 'MedSenseRX', 'SpeakTrans', 'TransFlow+', 'EMRGenius', 'ElevaMedFlow', 'MediTechX', 'DocuScan+', 'SpeakTechRX', 'ClassiTransc', 'TranscribeTech', 'MediBabble', 'TalkSense', 'MedSpeak', 'DocuFlow', 'ClassiGen', 'TransScribe', 'ElevateTech', 'SpeakRx', 'MedClass', 'TransTrack', 'DocuSense', 'EMRFlow', 'MediScanX', 'TranscribeTalk', 'MedTechClass', 'SpeakFlowX', 'ClassiTrackX', 'MedSync', 'MedConvo', 'TalkBabble', 'EMRGenix', 'MedClassy', 'SpeakSense', 'DocuFlowRX', 'ElevaTech', 'MediScript', 'ConvoTrackX', 'TranscriberX', 'MedTechPro', 'TalkTransX', 'ClassiSpeakX', 'MedFlowPro', 'DocuSenseX', 'TransTrackX', 'MedTechX', 'ClassiTech', 'TransFlow', 'ConversaGen', 'TalkTech', 'MediScan', 'ElevateEMR', 'SpeakGen', 'TranscribeRX', 'DocNexus', 'MediVoice', 'TechMed', 'ClassiNote', 'SpeakSync', 'FlowMed', 'ConvoCare', 'TransMate', 'ElevaDoc', 'MedTrackr', 'TalkTrans', 'ScripTech', 'SpeakEase', 'MediCode', 'DocuSync', 'TransTalk', 'MedTranx', 'MedSpeakPro', 'ClassiTransX', 'ChatMedX', 'TechMedFlow', 'SpeakSyncEMR', 'TranscribeRx+', 'MediCodeFlow', 'ElevateMedX', 'SpeakTransPro', 'MedFlowSync', 'TranscribeGen', 'ClassiNoteRX', 'DocuSyncEMR', 'MedScanTech', 'TransTrackPro', 'ElevaSpeakEMR', 'MedEaseFlow', 'DocuTransPro', 'TalkTechEMR', 'MedBot', 'DocuClass', 'TranscribeEMR', 'MedSyncX', 'ClassiCare', 'ElevaTrans', 'MedTrackX', 'ChatMed', 'TechSpeak', 'MedEase', 'DocuSyncPro', 'ElevaCode', 'MedNote', 'TalkSync', 'ClassiGenix']\n"
     ]
    }
   ],
   "source": [
    "unique_list = []\n",
    "for item in name:\n",
    "    if item not in unique_list:\n",
    "        unique_list.append(item)\n",
    "print(unique_list)"
   ]
  },
  {
   "cell_type": "code",
   "execution_count": 17,
   "metadata": {},
   "outputs": [
    {
     "data": {
      "text/plain": [
       "263"
      ]
     },
     "execution_count": 17,
     "metadata": {},
     "output_type": "execute_result"
    }
   ],
   "source": [
    "len(unique_list)"
   ]
  },
  {
   "cell_type": "code",
   "execution_count": 21,
   "metadata": {},
   "outputs": [],
   "source": [
    "res_string=[]"
   ]
  },
  {
   "cell_type": "code",
   "execution_count": 22,
   "metadata": {},
   "outputs": [],
   "source": [
    "for i in unique_list:\n",
    "    res_string.append(i + \" LLP\")"
   ]
  },
  {
   "cell_type": "code",
   "execution_count": 24,
   "metadata": {},
   "outputs": [
    {
     "data": {
      "text/plain": [
       "'[\"MedVox LLP\", \"ConvoMed LLP\", \"Transcript LLP\", \"MedCom LLP\", \"EMRPlus LLP\", \"ElevaEMR LLP\", \"Chatmed LLP\", \"Voxscribe LLP\", \"RecordPro LLP\", \"DocuTyper LLP\", \"MedSpeech LLP\", \"Transcripto LLP\", \"ClassiEMR LLP\", \"MedConvoUp LLP\", \"SpeakDocu LLP\", \"TranscriBz LLP\", \"MedRecordz LLP\", \"ElevateEM LLP\", \"TalkNotes LLP\", \"EMRense LLP\", \"MedTrans LLP\", \"TalkEMRz LLP\", \"ClassiPhrase LLP\", \"MediChat LLP\", \"MedDictate LLP\", \"ConvoManage LLP\", \"TransText LLP\", \"EMRHub LLP\", \"ElevaScript LLP\", \"DocuSpeak LLP\", \"MedClassz LLP\", \"Callscribe LLP\", \"ClassiTalk LLP\", \"TranscribeIT LLP\", \"MedVoicez LLP\", \"EMRBoost LLP\", \"ElevaText LLP\", \"ConvoDoc LLP\", \"SpeakClass LLP\", \"TranscribeUp LLP\", \"MedDial LLP\", \"EMRxpress LLP\", \"TalkMed LLP\", \"RecordFlow LLP\", \"MedScribe LLP\", \"ClassiFlow LLP\", \"ElevateRx LLP\", \"SpeakFlow LLP\", \"MedConvoz LLP\", \"TranscribeRx LLP\", \"MediFlow LLP\", \"EMRPulse LLP\", \"ElevateIT LLP\", \"TalkClass LLP\", \"ConvoFlow LLP\", \"MedClassi LLP\", \"MedTranscribe LLP\", \"EMRConverse LLP\", \"TalkRecord LLP\", \"ClassiTrans LLP\", \"MedVoiceDoc LLP\", \"ElevateFlow LLP\", \"ConvoSpeak LLP\", \"TranscEMR LLP\", \"ChatMedRec LLP\", \"MediTranscribe LLP\", \"ElevateChatRx LLP\", \"ConvoEMRFlow LLP\", \"MedRecordUP LLP\", \"VoiceTranscribe LLP\", \"EMRClassify LLP\", \"TalkMedRec LLP\", \"ElevaScriptRx LLP\", \"MedConvoPlus LLP\", \"TranscribeFlow LLP\", \"ChatEMR LLP\", \"MediTalk LLP\", \"SmartNotes LLP\", \"MedScribe+ LLP\", \"DocuSpeakX LLP\", \"VoiceGenius LLP\", \"MedTrans+ LLP\", \"ChatterMed LLP\", \"EMRFlowz LLP\", \"TransGenius LLP\", \"MediSpeakUp LLP\", \"ElevateMed+ LLP\", \"ConversaDoc LLP\", \"ClassiTrans+ LLP\", \"MedRevolve LLP\", \"SpeakNexus LLP\", \"TranscribeMed LLP\", \"EMRChatter LLP\", \"TalkSmartEMR LLP\", \"MedFlowz LLP\", \"DocuClassify LLP\", \"MedScan LLP\", \"TalkMedRx LLP\", \"TransClass LLP\", \"MedScribeX LLP\", \"ClassiChat LLP\", \"ConvoGenie LLP\", \"ElevaNotes LLP\", \"MedTransX LLP\", \"SpeakEMR LLP\", \"TranscriptX LLP\", \"MedWrite LLP\", \"ConverseRx LLP\", \"TalkClassX LLP\", \"DocuGenius LLP\", \"TransFlowX LLP\", \"MedTrack LLP\", \"EMRConnect LLP\", \"ElevaSpeak LLP\", \"MedNotesX LLP\", \"ConversaTrack LLP\", \"MedSense LLP\", \"TalkScript LLP\", \"ClassiTalks LLP\", \"MediFlow+ LLP\", \"DocuScribe LLP\", \"EMRConverse+ LLP\", \"ElevateGen LLP\", \"ConvoTrack LLP\", \"TranscribeMed+ LLP\", \"MediTech LLP\", \"ElevaFlow LLP\", \"SpeakScan LLP\", \"MedWorks LLP\", \"EMRConnect+ LLP\", \"TransClassify LLP\", \"MediSpeak LLP\", \"ElevateGenius LLP\", \"ConversaTech LLP\", \"MedFlow+ LLP\", \"DocuScribe+ LLP\", \"MediTransc LLP\", \"DocuTrack LLP\", \"SpeakNotes LLP\", \"TranscTalk LLP\", \"ConvoGen LLP\", \"TalkFlow LLP\", \"ElevaScan LLP\", \"MedTech LLP\", \"TransSpeak LLP\", \"ClassiTrack LLP\", \"SpeakScript LLP\", \"MediSense LLP\", \"ElevateDoc LLP\", \"ConversaFlow LLP\", \"MedConvoFlow LLP\", \"GenieTrans LLP\", \"ChatterMedX LLP\", \"TalkSmartRX LLP\", \"MediTechRx LLP\", \"ChatMedScan LLP\", \"ElevateRX+ LLP\", \"ClassiSpeak LLP\", \"ConversaClass LLP\", \"MedSenseRX LLP\", \"SpeakTrans LLP\", \"TransFlow+ LLP\", \"EMRGenius LLP\", \"ElevaMedFlow LLP\", \"MediTechX LLP\", \"DocuScan+ LLP\", \"SpeakTechRX LLP\", \"ClassiTransc LLP\", \"TranscribeTech LLP\", \"MediBabble LLP\", \"TalkSense LLP\", \"MedSpeak LLP\", \"DocuFlow LLP\", \"ClassiGen LLP\", \"TransScribe LLP\", \"ElevateTech LLP\", \"SpeakRx LLP\", \"MedClass LLP\", \"TransTrack LLP\", \"DocuSense LLP\", \"EMRFlow LLP\", \"MediScanX LLP\", \"TranscribeTalk LLP\", \"MedTechClass LLP\", \"SpeakFlowX LLP\", \"ClassiTrackX LLP\", \"MedSync LLP\", \"MedConvo LLP\", \"TalkBabble LLP\", \"EMRGenix LLP\", \"MedClassy LLP\", \"SpeakSense LLP\", \"DocuFlowRX LLP\", \"ElevaTech LLP\", \"MediScript LLP\", \"ConvoTrackX LLP\", \"TranscriberX LLP\", \"MedTechPro LLP\", \"TalkTransX LLP\", \"ClassiSpeakX LLP\", \"MedFlowPro LLP\", \"DocuSenseX LLP\", \"TransTrackX LLP\", \"MedTechX LLP\", \"ClassiTech LLP\", \"TransFlow LLP\", \"ConversaGen LLP\", \"TalkTech LLP\", \"MediScan LLP\", \"ElevateEMR LLP\", \"SpeakGen LLP\", \"TranscribeRX LLP\", \"DocNexus LLP\", \"MediVoice LLP\", \"TechMed LLP\", \"ClassiNote LLP\", \"SpeakSync LLP\", \"FlowMed LLP\", \"ConvoCare LLP\", \"TransMate LLP\", \"ElevaDoc LLP\", \"MedTrackr LLP\", \"TalkTrans LLP\", \"ScripTech LLP\", \"SpeakEase LLP\", \"MediCode LLP\", \"DocuSync LLP\", \"TransTalk LLP\", \"MedTranx LLP\", \"MedSpeakPro LLP\", \"ClassiTransX LLP\", \"ChatMedX LLP\", \"TechMedFlow LLP\", \"SpeakSyncEMR LLP\", \"TranscribeRx+ LLP\", \"MediCodeFlow LLP\", \"ElevateMedX LLP\", \"SpeakTransPro LLP\", \"MedFlowSync LLP\", \"TranscribeGen LLP\", \"ClassiNoteRX LLP\", \"DocuSyncEMR LLP\", \"MedScanTech LLP\", \"TransTrackPro LLP\", \"ElevaSpeakEMR LLP\", \"MedEaseFlow LLP\", \"DocuTransPro LLP\", \"TalkTechEMR LLP\", \"MedBot LLP\", \"DocuClass LLP\", \"TranscribeEMR LLP\", \"MedSyncX LLP\", \"ClassiCare LLP\", \"ElevaTrans LLP\", \"MedTrackX LLP\", \"ChatMed LLP\", \"TechSpeak LLP\", \"MedEase LLP\", \"DocuSyncPro LLP\", \"ElevaCode LLP\", \"MedNote LLP\", \"TalkSync LLP\", \"ClassiGenix LLP\"]'"
      ]
     },
     "execution_count": 24,
     "metadata": {},
     "output_type": "execute_result"
    }
   ],
   "source": [
    "json.dumps(res_string)"
   ]
  }
 ],
 "metadata": {
  "interpreter": {
   "hash": "916dbcbb3f70747c44a77c7bcd40155683ae19c65e1c03b4aa3499c5328201f1"
  },
  "kernelspec": {
   "display_name": "Python 3.10.6 64-bit",
   "language": "python",
   "name": "python3"
  },
  "language_info": {
   "codemirror_mode": {
    "name": "ipython",
    "version": 3
   },
   "file_extension": ".py",
   "mimetype": "text/x-python",
   "name": "python",
   "nbconvert_exporter": "python",
   "pygments_lexer": "ipython3",
   "version": "3.10.6"
  },
  "orig_nbformat": 4
 },
 "nbformat": 4,
 "nbformat_minor": 2
}
