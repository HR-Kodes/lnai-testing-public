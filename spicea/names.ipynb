{
 "cells": [
  {
   "cell_type": "code",
   "execution_count": 1,
   "metadata": {},
   "outputs": [],
   "source": [
    "import json\n",
    "from urllib.parse import unquote\n",
    "import requests\n",
    "\n",
    "def fetch_business_names(payload):\n",
    "    url = 'https://namelix.com/app/load7.php'\n",
    "    headers = {\n",
    "        'Host': 'namelix.com',\n",
    "        'Cookie': '_gid=GA1.2.1507851473.1686314518; _ga_8FEYX4RE7V=GS1.1.1686314518.1.1.1686314548.0.0.0; _ga=GA1.1.1138832737.1686314518',\n",
    "        'Content-Type': 'application/x-www-form-urlencoded; charset=UTF-8',\n",
    "        'X-Requested-With': 'XMLHttpRequest',\n",
    "        'User-Agent': 'Mozilla/5.0 (Windows NT 10.0; Win64; x64) AppleWebKit/537.36 (KHTML, like Gecko) Chrome/114.0.5735.110 Safari/537.36',\n",
    "        'Origin': 'https://namelix.com',\n",
    "        'Referer': 'https://namelix.com/app/?keywords=GOTURN+PRIVATE+LIMITED',\n",
    "        'Accept-Encoding': 'gzip, deflate',\n",
    "        'Accept-Language': 'en-US,en;q=0.9'\n",
    "    }\n",
    "\n",
    "    business_names = []\n",
    "    for page in range(1, 4):  # Fetch data from pages 1, 2, and 3\n",
    "        data = {}\n",
    "        pairs = payload.split('&')\n",
    "\n",
    "        # Iterate over each key-value pair and add it to the dictionary\n",
    "        for pair in pairs:\n",
    "            key, value = pair.split('=')\n",
    "            data[key] = unquote(value.replace('+', ' '))\n",
    "\n",
    "        # Set the page parameter\n",
    "        data['page'] = str(page)  # Convert page to string\n",
    "\n",
    "        # Encode the dictionary into URL-encoded form\n",
    "        encoded_payload = \"&\".join([f\"{key}={str(value).replace(' ', '+')}\" for key, value in data.items()]).replace(\"[]\",'%5B%5D')\n",
    "\n",
    "        response = requests.post(url, headers=headers, data=encoded_payload)\n",
    "        text = json.loads(response.text)\n",
    "        business_names.extend([item[\"businessName\"] for item in text])\n",
    "\n",
    "    modified_names = [name.upper() + ' PRIVATE LIMITED' for name in business_names]\n",
    "    return modified_names\n",
    "\n",
    "payload = 'keywords=ai+video+editing&description=+video+editing+ai+platform&blacklist=&max_length=25&style=default&random=medium&extensions%5B%5D=com&require_domains=true&premium_index=0'\n",
    "business_names = fetch_business_names(payload)\n",
    "\n"
   ]
  },
  {
   "cell_type": "code",
   "execution_count": 1,
   "metadata": {},
   "outputs": [
    {
     "name": "stdout",
     "output_type": "stream",
     "text": [
      "['UNFORGETTABLE OCCASIONS LLP', 'BUSY BASHES LLP', 'JOYFUL PLANNING LLP', 'ATMOS BASH LLP', 'GLITZ GALA LLP', 'ELEGANT BASH LLP', 'FERVORCELEBRATIONS LLP', 'GLAM GALA LLP', 'MARRY MEET LLP', 'JOYFUL JOLTS LLP', 'EVENTIVA LLP', 'GRACEFUL AFFAIRS LLP', 'GLAMOROUS DAYS LLP', 'CELEBRATE NOW LLP', 'FESTIVE FIXER LLP', 'ENGAGETIME LLP', 'BLISSFUL BASH LLP', 'CHEERS PARTY LLP', 'MEMORABLE MIXTURE LLP', 'PARTY GATE LLP', 'MOMENT MAVEN LLP', 'OCCASIONS APLENTY LLP', 'CELEBRATE2U LLP', 'BALANCE PARTYWORKS LLP', 'STYLISH CELEBRATIONS LLP', 'SPIRECELEBRATIONS LLP', 'BRIDE&BASH LLP', 'NUPTIAL NIRVANA LLP', 'WISHFUL LLP', 'EXCLUSIVE PLANNING LLP', 'UNICORN PARTIES LLP', 'PRIME PARTYX LLP', 'JOYEUX CELEBRATIONS LLP', 'GALA GURU LLP', 'ELITE PLANS LLP', 'CINEMA CAKES LLP', 'JOYFUL JOURNEYS LLP', 'ELEGANT OCCASIONS LLP', 'FUN FLASH LLP', 'PARTY PLANNERS LLP', 'JOYFUL PLANS LLP', 'HAPPY GATHERINGZ LLP', 'LIFE CELEBRATE LLP', 'AURA CELEBRATIONS LLP', 'MATRIMONY MOODS LLP', 'EXCITEMENTS LLP', 'COUNTDOWN CRAZE LLP', 'JOYFUL EXPO LLP', 'FLOURISH FIESTA LLP', 'FLORAL DREAMZ LLP', 'INEVITABLE MEMORIES LLP', 'EVERLASTING MEMORIES LLP', 'FESTA FY LLP', 'PARTY VIBES LLP', 'EPIC OCCASIONS LLP', 'MOMENTIA LLP', 'REVELRY LLP', 'ENSEMBLE LLP', 'CHIC RITUALS LLP', 'JOYFUL JAMBOREE LLP', 'INNOVATIVE CELEBRATIONS LLP', 'JOYFUL OCCASIONS LLP', 'FESTIVA LLP', 'MEMORIPLANNERZ LLP', 'MEMORABLE MOMENTS LLP', 'ETERNAL ELEGANCE LLP', 'FETEE LLP', 'FESTIVEFRENZY LLP', 'OCCASIONE LLP', 'MEMORABLIA LLP', 'TIARA ENSEMBLE LLP', 'FESTIVELY LLP', 'SWIFT HAPPENS LLP', 'RIBBON&PEARLS LLP', 'LOVELY AFFAIR LLP', 'LAVISH LIAISON LLP', 'JOYRIDE PLANNERS LLP', 'CONSULTS LLP', 'ALLURE AFFAIR LLP', 'BEAUTIFUL BASHES LLP', 'CEREMONYX LLP', 'GALA GURU LLP', 'ACCOMPANE LLP', 'HAPPILY PLANNED LLP', 'ALMOND STUDIOS LLP', 'LOVE FEST LLP', 'SOIREE MAVEN LLP', 'CHICCEREMONY LLP', 'GROUPGETTERS LLP', 'INVITE NOW LLP', 'CONFETTI CREATORS LLP', 'PURE FETE LLP', 'NUPTIALSY LLP', 'ENCORE EVENTS LLP', 'CELEBRATEZ LLP', 'FESTIVE FUTURES LLP', 'SOIREESANDMORE LLP', 'CHERISH FEST LLP', 'BLISSFUL BASH LLP', 'HAPPY MOMENTS LLP']\n"
     ]
    }
   ],
   "source": [
    "import json\n",
    "from urllib.parse import unquote\n",
    "import requests\n",
    "\n",
    "def fetch_business_names(keywords, description):\n",
    "    url = 'https://namelix.com/app/load7.php'\n",
    "    headers = {\n",
    "        'Host': 'namelix.com',\n",
    "        'Cookie': '_gid=GA1.2.1507851473.1686314518; _ga_8FEYX4RE7V=GS1.1.1686314518.1.1.1686314548.0.0.0; _ga=GA1.1.1138832737.1686314518',\n",
    "        'Content-Type': 'application/x-www-form-urlencoded; charset=UTF-8',\n",
    "        'X-Requested-With': 'XMLHttpRequest',\n",
    "        'User-Agent': 'Mozilla/5.0 (Windows NT 10.0; Win64; x64) AppleWebKit/537.36 (KHTML, like Gecko) Chrome/114.0.5735.110 Safari/537.36',\n",
    "        'Origin': 'https://namelix.com',\n",
    "        'Referer': 'https://namelix.com/app/?keywords=GOTURN+PRIVATE+LIMITED',\n",
    "        'Accept-Encoding': 'gzip, deflate',\n",
    "        'Accept-Language': 'en-US,en;q=0.9'\n",
    "    }\n",
    "\n",
    "    business_names = []\n",
    "    for page in range(1, 3):  # Fetch data from pages 1, 2, and 3\n",
    "        data = {\n",
    "            'keywords': keywords,\n",
    "            'description': description,\n",
    "            'blacklist': '',\n",
    "            'max_length': '25',\n",
    "            'style': '',\n",
    "            'random': 'medium',\n",
    "            'extensions[]': 'com',\n",
    "            'require_domains': 'true',\n",
    "            'premium_index': '0',\n",
    "            'page': str(page)\n",
    "        }\n",
    "\n",
    "        # Encode the dictionary into URL-encoded form\n",
    "        encoded_payload = \"&\".join([f\"{key}={str(value).replace(' ', '+')}\" for key, value in data.items()]).replace(\"[]\",'%5B%5D')\n",
    "\n",
    "        response = requests.post(url, headers=headers, data=encoded_payload)\n",
    "        text = json.loads(response.text)\n",
    "        business_names.extend([item[\"businessName\"] for item in text])\n",
    "\n",
    "    modified_names = [name.upper() + ' LLP' for name in business_names]\n",
    "    return modified_names\n",
    "\n",
    "# Example usage\n",
    "keywords = 'Event management wedding planner'\n",
    "description = 'We take of planning different kind of events such as wedding ,parties,birthdays,anniversaries.From decoration to any other due diligence,we take of all of them'\n",
    "business_names = fetch_business_names(keywords, description)\n",
    "print(business_names)\n"
   ]
  },
  {
   "cell_type": "code",
   "execution_count": 11,
   "metadata": {},
   "outputs": [
    {
     "name": "stdout",
     "output_type": "stream",
     "text": [
      "Requirement already satisfied: requests in c:\\users\\golup\\appdata\\local\\programs\\python\\python311\\lib\\site-packages (2.31.0)\n",
      "Requirement already satisfied: charset-normalizer<4,>=2 in c:\\users\\golup\\appdata\\local\\programs\\python\\python311\\lib\\site-packages (from requests) (3.1.0)\n",
      "Requirement already satisfied: idna<4,>=2.5 in c:\\users\\golup\\appdata\\local\\programs\\python\\python311\\lib\\site-packages (from requests) (2.10)\n",
      "Requirement already satisfied: urllib3<3,>=1.21.1 in c:\\users\\golup\\appdata\\local\\programs\\python\\python311\\lib\\site-packages (from requests) (1.26.15)\n",
      "Requirement already satisfied: certifi>=2017.4.17 in c:\\users\\golup\\appdata\\local\\programs\\python\\python311\\lib\\site-packages (from requests) (2022.12.7)\n"
     ]
    }
   ],
   "source": [
    "!pip install -U requests"
   ]
  },
  {
   "cell_type": "code",
   "execution_count": 7,
   "metadata": {},
   "outputs": [
    {
     "data": {
      "text/plain": [
       "100"
      ]
     },
     "execution_count": 7,
     "metadata": {},
     "output_type": "execute_result"
    }
   ],
   "source": [
    "len(business_names)"
   ]
  },
  {
   "cell_type": "code",
   "execution_count": 4,
   "metadata": {},
   "outputs": [],
   "source": [
    "import requests\n"
   ]
  },
  {
   "cell_type": "code",
   "execution_count": 14,
   "metadata": {},
   "outputs": [
    {
     "ename": "AttributeError",
     "evalue": "module 'requests' has no attribute 'post'",
     "output_type": "error",
     "traceback": [
      "\u001b[1;31m---------------------------------------------------------------------------\u001b[0m",
      "\u001b[1;31mAttributeError\u001b[0m                            Traceback (most recent call last)",
      "Cell \u001b[1;32mIn[14], line 1\u001b[0m\n\u001b[1;32m----> 1\u001b[0m requests\u001b[39m.\u001b[39;49mpost(url)\n",
      "\u001b[1;31mAttributeError\u001b[0m: module 'requests' has no attribute 'post'"
     ]
    }
   ],
   "source": [
    "requests.post(url)"
   ]
  },
  {
   "cell_type": "code",
   "execution_count": null,
   "metadata": {},
   "outputs": [],
   "source": []
  }
 ],
 "metadata": {
  "kernelspec": {
   "display_name": "Python 3",
   "language": "python",
   "name": "python3"
  },
  "language_info": {
   "codemirror_mode": {
    "name": "ipython",
    "version": 3
   },
   "file_extension": ".py",
   "mimetype": "text/x-python",
   "name": "python",
   "nbconvert_exporter": "python",
   "pygments_lexer": "ipython3",
   "version": "3.9.13"
  },
  "orig_nbformat": 4
 },
 "nbformat": 4,
 "nbformat_minor": 2
}
