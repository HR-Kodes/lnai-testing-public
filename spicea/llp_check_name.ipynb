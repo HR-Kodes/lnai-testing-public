{
 "cells": [
  {
   "cell_type": "code",
   "execution_count": 6,
   "metadata": {},
   "outputs": [],
   "source": [
    "business_names=[\"MedVox LLP\", \"ConvoMed LLP\", \"Transcript LLP\", \"MedCom LLP\", \"EMRPlus LLP\", \"ElevaEMR LLP\", \"Chatmed LLP\", \"Voxscribe LLP\", \"RecordPro LLP\", \"DocuTyper LLP\", \"MedSpeech LLP\", \"Transcripto LLP\", \"ClassiEMR LLP\", \"MedConvoUp LLP\", \"SpeakDocu LLP\", \"TranscriBz LLP\", \"MedRecordz LLP\", \"ElevateEM LLP\", \"TalkNotes LLP\", \"EMRense LLP\", \"MedTrans LLP\", \"TalkEMRz LLP\", \"ClassiPhrase LLP\", \"MediChat LLP\", \"MedDictate LLP\", \"ConvoManage LLP\", \"TransText LLP\", \"EMRHub LLP\", \"ElevaScript LLP\", \"DocuSpeak LLP\", \"MedClassz LLP\", \"Callscribe LLP\", \"ClassiTalk LLP\", \"TranscribeIT LLP\", \"MedVoicez LLP\", \"EMRBoost LLP\", \"ElevaText LLP\", \"ConvoDoc LLP\", \"SpeakClass LLP\", \"TranscribeUp LLP\", \"MedDial LLP\", \"EMRxpress LLP\", \"TalkMed LLP\", \"RecordFlow LLP\", \"MedScribe LLP\", \"ClassiFlow LLP\", \"ElevateRx LLP\", \"SpeakFlow LLP\", \"MedConvoz LLP\", \"TranscribeRx LLP\", \"MediFlow LLP\", \"EMRPulse LLP\", \"ElevateIT LLP\", \"TalkClass LLP\", \"ConvoFlow LLP\", \"MedClassi LLP\", \"MedTranscribe LLP\", \"EMRConverse LLP\", \"TalkRecord LLP\", \"ClassiTrans LLP\", \"MedVoiceDoc LLP\", \"ElevateFlow LLP\", \"ConvoSpeak LLP\", \"TranscEMR LLP\", \"ChatMedRec LLP\", \"MediTranscribe LLP\", \"ElevateChatRx LLP\", \"ConvoEMRFlow LLP\", \"MedRecordUP LLP\", \"VoiceTranscribe LLP\", \"EMRClassify LLP\", \"TalkMedRec LLP\", \"ElevaScriptRx LLP\", \"MedConvoPlus LLP\", \"TranscribeFlow LLP\", \"ChatEMR LLP\", \"MediTalk LLP\", \"SmartNotes LLP\", \"MedScribe+ LLP\", \"DocuSpeakX LLP\", \"VoiceGenius LLP\", \"MedTrans+ LLP\", \"ChatterMed LLP\", \"EMRFlowz LLP\", \"TransGenius LLP\", \"MediSpeakUp LLP\", \"ElevateMed+ LLP\", \"ConversaDoc LLP\", \"ClassiTrans+ LLP\", \"MedRevolve LLP\", \"SpeakNexus LLP\", \"TranscribeMed LLP\", \"EMRChatter LLP\", \"TalkSmartEMR LLP\", \"MedFlowz LLP\", \"DocuClassify LLP\", \"MedScan LLP\", \"TalkMedRx LLP\", \"TransClass LLP\", \"MedScribeX LLP\", \"ClassiChat LLP\", \"ConvoGenie LLP\", \"ElevaNotes LLP\", \"MedTransX LLP\", \"SpeakEMR LLP\", \"TranscriptX LLP\", \"MedWrite LLP\", \"ConverseRx LLP\", \"TalkClassX LLP\", \"DocuGenius LLP\", \"TransFlowX LLP\", \"MedTrack LLP\", \"EMRConnect LLP\", \"ElevaSpeak LLP\", \"MedNotesX LLP\", \"ConversaTrack LLP\", \"MedSense LLP\", \"TalkScript LLP\", \"ClassiTalks LLP\", \"MediFlow+ LLP\", \"DocuScribe LLP\", \"EMRConverse+ LLP\", \"ElevateGen LLP\", \"ConvoTrack LLP\", \"TranscribeMed+ LLP\", \"MediTech LLP\", \"ElevaFlow LLP\", \"SpeakScan LLP\", \"MedWorks LLP\", \"EMRConnect+ LLP\", \"TransClassify LLP\", \"MediSpeak LLP\", \"ElevateGenius LLP\", \"ConversaTech LLP\", \"MedFlow+ LLP\", \"DocuScribe+ LLP\", \"MediTransc LLP\", \"DocuTrack LLP\", \"SpeakNotes LLP\", \"TranscTalk LLP\", \"ConvoGen LLP\", \"TalkFlow LLP\", \"ElevaScan LLP\", \"MedTech LLP\", \"TransSpeak LLP\", \"ClassiTrack LLP\", \"SpeakScript LLP\", \"MediSense LLP\", \"ElevateDoc LLP\", \"ConversaFlow LLP\", \"MedConvoFlow LLP\", \"GenieTrans LLP\", \"ChatterMedX LLP\", \"TalkSmartRX LLP\", \"MediTechRx LLP\", \"ChatMedScan LLP\", \"ElevateRX+ LLP\", \"ClassiSpeak LLP\", \"ConversaClass LLP\", \"MedSenseRX LLP\", \"SpeakTrans LLP\", \"TransFlow+ LLP\", \"EMRGenius LLP\", \"ElevaMedFlow LLP\", \"MediTechX LLP\", \"DocuScan+ LLP\", \"SpeakTechRX LLP\", \"ClassiTransc LLP\", \"TranscribeTech LLP\", \"MediBabble LLP\", \"TalkSense LLP\", \"MedSpeak LLP\", \"DocuFlow LLP\", \"ClassiGen LLP\", \"TransScribe LLP\", \"ElevateTech LLP\", \"SpeakRx LLP\", \"MedClass LLP\", \"TransTrack LLP\", \"DocuSense LLP\", \"EMRFlow LLP\", \"MediScanX LLP\", \"TranscribeTalk LLP\", \"MedTechClass LLP\", \"SpeakFlowX LLP\", \"ClassiTrackX LLP\", \"MedSync LLP\", \"MedConvo LLP\", \"TalkBabble LLP\", \"EMRGenix LLP\", \"MedClassy LLP\", \"SpeakSense LLP\", \"DocuFlowRX LLP\", \"ElevaTech LLP\", \"MediScript LLP\", \"ConvoTrackX LLP\", \"TranscriberX LLP\", \"MedTechPro LLP\", \"TalkTransX LLP\", \"ClassiSpeakX LLP\", \"MedFlowPro LLP\", \"DocuSenseX LLP\", \"TransTrackX LLP\", \"MedTechX LLP\", \"ClassiTech LLP\", \"TransFlow LLP\", \"ConversaGen LLP\", \"TalkTech LLP\", \"MediScan LLP\", \"ElevateEMR LLP\", \"SpeakGen LLP\", \"TranscribeRX LLP\", \"DocNexus LLP\", \"MediVoice LLP\", \"TechMed LLP\", \"ClassiNote LLP\", \"SpeakSync LLP\", \"FlowMed LLP\", \"ConvoCare LLP\", \"TransMate LLP\", \"ElevaDoc LLP\", \"MedTrackr LLP\", \"TalkTrans LLP\", \"ScripTech LLP\", \"SpeakEase LLP\", \"MediCode LLP\", \"DocuSync LLP\", \"TransTalk LLP\", \"MedTranx LLP\", \"MedSpeakPro LLP\", \"ClassiTransX LLP\", \"ChatMedX LLP\", \"TechMedFlow LLP\", \"SpeakSyncEMR LLP\", \"TranscribeRx+ LLP\", \"MediCodeFlow LLP\", \"ElevateMedX LLP\", \"SpeakTransPro LLP\", \"MedFlowSync LLP\", \"TranscribeGen LLP\", \"ClassiNoteRX LLP\", \"DocuSyncEMR LLP\", \"MedScanTech LLP\", \"TransTrackPro LLP\", \"ElevaSpeakEMR LLP\", \"MedEaseFlow LLP\", \"DocuTransPro LLP\", \"TalkTechEMR LLP\", \"MedBot LLP\", \"DocuClass LLP\", \"TranscribeEMR LLP\", \"MedSyncX LLP\", \"ClassiCare LLP\", \"ElevaTrans LLP\", \"MedTrackX LLP\", \"ChatMed LLP\", \"TechSpeak LLP\", \"MedEase LLP\", \"DocuSyncPro LLP\", \"ElevaCode LLP\", \"MedNote LLP\", \"TalkSync LLP\", \"ClassiGenix LLP\"]"
   ]
  },
  {
   "cell_type": "code",
   "execution_count": 1,
   "metadata": {},
   "outputs": [],
   "source": [
    "import requests\n",
    "import json\n",
    "from requests_toolbelt.multipart.encoder import MultipartEncoder\n",
    "\n",
    "url = \"https://www.mca.gov.in/bin/mca/login\"\n",
    "# url = \"https://130.59.142.2/bin/mca/login\"\n",
    "\n",
    "\n",
    "headers = {\n",
    "    \"Origin\": \"www.mca.gov.in\",\n",
    "    \"Content-Length\": \"231\",\n",
    "    \"User-Agent\": \"Mozilla/5.0 (Windows NT 10.0; Win64; x64) AppleWebKit/537.36 (KHTML, like Gecko) Chrome/113.0.5672.127 Safari/537.36\",\n",
    "    \"Content-Type\": \"application/x-www-form-urlencoded; charset=UTF-8\",\n",
    "    \"Accept\": \"*/*\",\n",
    "    \"X-Requested-With\": \"XMLHttpRequest\",\n",
    "    \"Sec-Ch-Ua-Platform\": \"Windows\"\n",
    "}\n",
    "\n",
    "data = \"data=Ut8pBOc0RSM6iYqffqN1orWH0Ee6A57QEKGmyHa5KnuzzybQ%2BjY2pMJIsLZw9DznTxfJeWvJFEcqsU2aZC33AC2nYaU60TNo8VjomCHN2dDSdHEC2enwIeEWCNR42vj7gfXFsvEwLfoO25%2BUKeho6%2B3l%2FkhEucDAzA4XeVNg0dhlBlgG95nyBiwYk3XhQoJtHSgqcb%2FI8MCyxN9h1unz%2Fw%3D%3D\"\n",
    "\n",
    "response = requests.post(url, headers=headers, data=data)\n",
    "# print(response.status_code)\n",
    "\n",
    "\n",
    "set_cookie_value = response.headers.get('Set-Cookie')\n",
    "\n",
    "start_index = set_cookie_value.find(\"session-token=\") + len(\"session-token=\")\n",
    "end_index = set_cookie_value.find(\";\", start_index)\n",
    "session_token = set_cookie_value[start_index:end_index]"
   ]
  },
  {
   "cell_type": "code",
   "execution_count": 4,
   "metadata": {},
   "outputs": [],
   "source": [
    "c_name='TRANSCRIBE LLP'\n",
    "payload4=r'''{\"requestBody\":{\"formData\":{\"purpose\":\"New Incorporation\",\"proposedname1\":\"ZIZZAGGGGG LLP\",\"formIntegrationId\":\"1686922988308_FOUSER\",\"NICcode1\":\"98200\",\"NICCode1Desc\":\"Undifferentiated service-producing activities of private households for own use\",\"NICcode2\":\"98100\",\"NICCode2Desc\":\"Undifferentiated goods-producing activities of private households for own use\",\"NICcode3\":\"\",\"NICCode3Desc\":\"\",\"formAttachment\":[]},\"formDescription\":\"RUN LLP\",\"formName\":\"RUN LLP\",\"formVersion\":\"1.1\",\"userId\":\"BIPULKUMARSINGH6690@GMAIL.COM\",\"integrationId\":\"1686922988308_FOUSER\",\"status\":\"Draft/Pending Submission\"}}'''\n",
    "payload4_json=json.loads(payload4)\n",
    "payload4_json['requestBody']['formData']['proposedname1']=c_name\n",
    "payload4_json=json.dumps(payload4_json)\n"
   ]
  },
  {
   "cell_type": "code",
   "execution_count": 5,
   "metadata": {},
   "outputs": [
    {
     "name": "stdout",
     "output_type": "stream",
     "text": [
      "200\n",
      "{\"message\":\"\",\"error\":\"\",\"data\":{\"referenceNumber\":\"1-10695787743\",\"dateTime\":\"\",\"integrationId\":\"1-4WVZUN3\",\"formIntegrationId\":\"1-4WVZUN5\",\"srnStatus\":\"Draft/Pending Submission\",\"formType\":\"\",\"srn\":\"\"},\"validationResponse\":{\"submissionRestricted\":false,\"validationresposeBody\":[{\"proposedName1\":\"TRANSCRIBE LLP\",\"alertType\":\"Info\",\"alertCategory\":\"WM_1\",\"alertDescription\":\"Please note that the proposed name is similar to the name of an existing Company / LLP AM TRANSCRIBE PRIVATE LIMITED as per Section 15(2), Limited Liability Partnership Act, 2008. Please attach No Objection Certificate (NOC), if applicable\"},{\"proposedName1\":\"TRANSCRIBE LLP\",\"alertType\":\"Info\",\"alertCategory\":\"WM_3\",\"alertDescription\":\"Proposed name TRANSCRIBE LLP is similar to the name of struck off company SRM TRANSCRIBE PRIVATE LIMITED and not allowed for twenty years from the date of such striking off. Please check the name and change the proposed name, if applicable.\"},{\"proposedName1\":\"TRANSCRIBE LLP\",\"alertType\":\"Info\",\"alertCategory\":\"WM_12\",\"alertDescription\":\"Please note that the proposed name is similar to the name of an existing Company / LLP AM TRANSCRIBE PRIVATE LIMITED as per Section 15(2), Limited Liability Partnership Act, 2008. Please attach No Objection Certificate (NOC), if applicable\"},{\"proposedName1\":\"TRANSCRIBE LLP\",\"alertType\":\"Info\",\"alertCategory\":\"WM_17\",\"alertDescription\":\"Proposed name may be similar to registered trademark and may not be allowed for reservation. Please attach the No Objection Certificate, if applicable\"},{\"alertType\":\"\",\"alertDescription\":\"\",\"alertCategory\":\"\"},{\"alertType\":\"\",\"alertDescription\":\"\",\"alertCategory\":\"\"},{\"alertType\":\"\",\"alertDescription\":\"\",\"alertCategory\":\"\"},{\"alertType\":\"\",\"alertDescription\":\"\",\"alertCategory\":\"\"},{\"alertType\":\"\",\"alertDescription\":\"\",\"alertCategory\":\"\"},{\"alertType\":\"\",\"alertDescription\":\"\",\"alertCategory\":\"\"},{\"alertType\":\"\",\"alertDescription\":\"\",\"alertCategory\":\"\"},{\"alertType\":\"\",\"alertDescription\":\"\",\"alertCategory\":\"\"},{\"alertType\":\"\",\"alertDescription\":\"\",\"alertCategory\":\"\"}]},\"alertInfo\":[],\"alertWarn\":[],\"alertError\":[],\"errorTab\":[{\"proposedName1\":\"TRANSCRIBE LLP\",\"alertType\":\"Info\",\"alertCategory\":\"WM_1\",\"alertDescription\":\"Please note that the proposed name is similar to the name of an existing Company / LLP AM TRANSCRIBE PRIVATE LIMITED as per Section 15(2), Limited Liability Partnership Act, 2008. Please attach No Objection Certificate (NOC), if applicable\"},{\"proposedName1\":\"TRANSCRIBE LLP\",\"alertType\":\"Info\",\"alertCategory\":\"WM_3\",\"alertDescription\":\"Proposed name TRANSCRIBE LLP is similar to the name of struck off company SRM TRANSCRIBE PRIVATE LIMITED and not allowed for twenty years from the date of such striking off. Please check the name and change the proposed name, if applicable.\"},{\"proposedName1\":\"TRANSCRIBE LLP\",\"alertType\":\"Info\",\"alertCategory\":\"WM_12\",\"alertDescription\":\"Please note that the proposed name is similar to the name of an existing Company / LLP AM TRANSCRIBE PRIVATE LIMITED as per Section 15(2), Limited Liability Partnership Act, 2008. Please attach No Objection Certificate (NOC), if applicable\"},{\"proposedName1\":\"TRANSCRIBE LLP\",\"alertType\":\"Info\",\"alertCategory\":\"WM_17\",\"alertDescription\":\"Proposed name may be similar to registered trademark and may not be allowed for reservation. Please attach the No Objection Certificate, if applicable\"}],\"supportDataTab\":[[{\"score\":260.98495,\"companyOldName\":\"\",\"companyLlpNumber\":\"U72300AP2012PTC083147\",\"companyStatus\":\"Active\",\"companyName\":\"AM TRANSCRIBE PRIVATE LIMITED\",\"acntType\":\"Company\"},{\"score\":147.83714,\"companyOldName\":\"\",\"companyLlpNumber\":\"U72900HR2022PTC108069\",\"companyStatus\":\"Active\",\"companyName\":\"TRANCRIBEBY PRIVATE LIMITED\",\"acntType\":\"Company\"},{\"score\":136.73106,\"companyOldName\":\"\",\"companyLlpNumber\":\"AAV-2858\",\"companyStatus\":\"Active\",\"companyName\":\"100 TRANSCRIPTS LLP\",\"acntType\":\"LLP\"},{\"score\":135.64124,\"companyOldName\":\"\",\"companyLlpNumber\":\"U74999DL2021OPC382127\",\"companyStatus\":\"Active\",\"companyName\":\"JBB TRANSCRIPTS (OPC) PRIVATE LIMITED\",\"acntType\":\"Company\"},{\"score\":95.59209,\"companyOldName\":\"\",\"companyLlpNumber\":\"U72200KL2007PTC020145\",\"companyStatus\":\"Active\",\"companyName\":\"TRANSCRIBE BUSINESS SOLUTIONS PRIVATE LIMITED\",\"acntType\":\"Company\"}],[{\"score\":265.0302,\"companyOldName\":\"\",\"companyLlpNumber\":\"U85195TN1999PTC042951\",\"companyStatus\":\"Struck off\",\"companyName\":\"SRM TRANSCRIBE PRIVATE LIMITED\",\"acntType\":\"Company\"},{\"score\":251.37482,\"companyOldName\":\"\",\"companyLlpNumber\":\"U18101WB1997PTC085063\",\"companyStatus\":\"Struck off\",\"companyName\":\"M M TRANSCRIBE PRIVATE LIMITED\",\"acntType\":\"Company\"}],[{\"score\":153.87172,\"companyOldName\":\"\",\"companyLlpNumber\":\"U72300AP2012PTC083147\",\"companyStatus\":\"Active\",\"companyName\":\"AM TRANSCRIBE PRIVATE LIMITED\",\"acntType\":\"Company\"},{\"score\":146.88664,\"companyOldName\":\"\",\"companyLlpNumber\":\"U72900HR2022PTC108069\",\"companyStatus\":\"Active\",\"companyName\":\"TRANCRIBEBY PRIVATE LIMITED\",\"acntType\":\"Company\"},{\"score\":135.73106,\"companyOldName\":\"\",\"companyLlpNumber\":\"AAV-2858\",\"companyStatus\":\"Active\",\"companyName\":\"100 TRANSCRIPTS LLP\",\"acntType\":\"LLP\"},{\"score\":134.68634,\"companyOldName\":\"\",\"companyLlpNumber\":\"U74999DL2021OPC382127\",\"companyStatus\":\"Active\",\"companyName\":\"JBB TRANSCRIPTS (OPC) PRIVATE LIMITED\",\"acntType\":\"Company\"}]],\"supportDataTrademark\":[[{\"TradeMarkName\":null,\"ApplicationStatus\":\"Objected\",\"ProprietorName\":\"TINKERTECH LABORATORIES PRIVATE LIMITED\",\"Class\":\"9\",\"ProprietorAddress\":\"Module V.B-2, Vishwakarma Bhavan, IIT Delhi, New Delhi, Delhi, 110016, India.\",\"ApplicationNo\":\"4967174\"},{\"TradeMarkName\":null,\"ApplicationStatus\":\"Objected\",\"ProprietorName\":\"TINKERTECH LABORATORIES PRIVATE LIMITED\",\"Class\":\"42\",\"ProprietorAddress\":\"Module V.B-2, Vishwakarma Bhavan, IIT Delhi, New Delhi, Delhi, 110016, India.\",\"ApplicationNo\":\"4967175\"}]]}\n"
     ]
    }
   ],
   "source": [
    "import requests\n",
    "\n",
    "url = \"https://www.mca.gov.in/bin/mca-gov/RunLLPSaveSubmit\"\n",
    "\n",
    "headers = {\n",
    "    \"Host\": \"www.mca.gov.in\",\n",
    "    \"Cookie\": f\"cookiesession1=678B28695C218253C321286001478935; alertPopup=true; session-token={session_token}\",\n",
    "    \"Sec-Ch-Ua-Mobile\": \"?0\",\n",
    "    \"User-Agent\": \"Mozilla/5.0 (Windows NT 10.0; Win64; x64) AppleWebKit/537.36 (KHTML, like Gecko) Chrome/114.0.5735.110 Safari/537.36\",\n",
    "    \"Content-Type\": \"multipart/form-data; boundary=----WebKitFormBoundary0AN6dHNNjREqqUBN\",\n",
    "    \"Accept\": \"*/*\",\n",
    "    \"Csrf-Token\": \"undefined\",\n",
    "    \"X-Requested-With\": \"XMLHttpRequest\",\n",
    "    \"Sec-Ch-Ua-Platform\": \"\",\n",
    "    \"Origin\": \"https://www.mca.gov.in\",\n",
    "    \"Sec-Fetch-Site\": \"same-origin\",\n",
    "    \"Sec-Fetch-Mode\": \"cors\",\n",
    "    \"Sec-Fetch-Dest\": \"empty\",\n",
    "    \"Referer\": \"https://www.mca.gov.in/content/mca/global/en/mca/llp-e-filling/run-llp.html\",\n",
    "    \"Accept-Encoding\": \"gzip, deflate\",\n",
    "    \"Accept-Language\": \"en-US,en;q=0.9\"\n",
    "}\n",
    "\n",
    "multipart_data = MultipartEncoder(fields={\n",
    "    'data': (None, payload4_json),\n",
    "    'action': (None, 'savesubmit'),\n",
    "    'operation': (None, 'Submit'),\n",
    "    'serveAction': (None, 'validateform')\n",
    "})\n",
    "\n",
    "headers['Content-Type'] = multipart_data.content_type\n",
    "\n",
    "response = requests.post(url, headers=headers, data=multipart_data)\n",
    "print(response.status_code)\n",
    "print(response.text)"
   ]
  },
  {
   "cell_type": "code",
   "execution_count": 7,
   "metadata": {},
   "outputs": [
    {
     "name": "stdout",
     "output_type": "stream",
     "text": [
      "ConvoMed LLP\n",
      "Voxscribe LLP\n",
      "DocuTyper LLP\n",
      "ClassiEMR LLP\n",
      "MedConvoUp LLP\n",
      "SpeakDocu LLP\n"
     ]
    }
   ],
   "source": [
    "import requests\n",
    "import json\n",
    "\n",
    "def check_alert_descriptions(c_name, name_list, session_token):\n",
    "    url = \"https://www.mca.gov.in/bin/mca-gov/RunLLPSaveSubmit\"\n",
    "\n",
    "    headers = {\n",
    "        \"Host\": \"www.mca.gov.in\",\n",
    "        \"Cookie\": f\"cookiesession1=678B28695C218253C321286001478935; alertPopup=true; session-token={session_token}\",\n",
    "        \"Sec-Ch-Ua-Mobile\": \"?0\",\n",
    "        \"User-Agent\": \"Mozilla/5.0 (Windows NT 10.0; Win64; x64) AppleWebKit/537.36 (KHTML, like Gecko) Chrome/114.0.5735.110 Safari/537.36\",\n",
    "        \"Content-Type\": \"application/json\",  # Change the content type to JSON\n",
    "        \"Accept\": \"*/*\",\n",
    "        \"Csrf-Token\": \"undefined\",\n",
    "        \"X-Requested-With\": \"XMLHttpRequest\",\n",
    "        \"Sec-Ch-Ua-Platform\": \"\",\n",
    "        \"Origin\": \"https://www.mca.gov.in\",\n",
    "        \"Sec-Fetch-Site\": \"same-origin\",\n",
    "        \"Sec-Fetch-Mode\": \"cors\",\n",
    "        \"Sec-Fetch-Dest\": \"empty\",\n",
    "        \"Referer\": \"https://www.mca.gov.in/content/mca/global/en/mca/llp-e-filling/run-llp.html\",\n",
    "        \"Accept-Encoding\": \"gzip, deflate\",\n",
    "        \"Accept-Language\": \"en-US,en;q=0.9\"\n",
    "    }\n",
    "\n",
    "    empty_alert_names = []\n",
    "\n",
    "    def has_empty_alert(name):\n",
    "        payload4=r'''{\"requestBody\":{\"formData\":{\"purpose\":\"New Incorporation\",\"proposedname1\":\"ZIZZAGGGGG LLP\",\"formIntegrationId\":\"1686922988308_FOUSER\",\"NICcode1\":\"98200\",\"NICCode1Desc\":\"Undifferentiated service-producing activities of private households for own use\",\"NICcode2\":\"98100\",\"NICCode2Desc\":\"Undifferentiated goods-producing activities of private households for own use\",\"NICcode3\":\"\",\"NICCode3Desc\":\"\",\"formAttachment\":[]},\"formDescription\":\"RUN LLP\",\"formName\":\"RUN LLP\",\"formVersion\":\"1.1\",\"userId\":\"BIPULKUMARSINGH6690@GMAIL.COM\",\"integrationId\":\"1686922988308_FOUSER\",\"status\":\"Draft/Pending Submission\"}}'''\n",
    "        payload4_json=json.loads(payload4)\n",
    "        payload4_json['requestBody']['formData']['proposedname1']=name\n",
    "        payload4_json=json.dumps(payload4_json)\n",
    "        multipart_data = MultipartEncoder(fields={\n",
    "            'data': (None, payload4_json),\n",
    "            'action': (None, 'savesubmit'),\n",
    "            'operation': (None, 'Submit'),\n",
    "            'serveAction': (None, 'validateform')\n",
    "        })\n",
    "\n",
    "        headers['Content-Type'] = multipart_data.content_type\n",
    "\n",
    "        response = requests.post(url, headers=headers, data=multipart_data)\n",
    "        \n",
    "        try:\n",
    "            result = response.json()\n",
    "        except json.JSONDecodeError as e:\n",
    "            print(f\"Error decoding JSON response: {e}\")\n",
    "            return False\n",
    "        \n",
    "        alert_list = result['validationResponse']['validationresposeBody']\n",
    "        # print(alert_list)\n",
    "        all_empty = all(not item['alertDescription'] for item in alert_list)\n",
    "        return all_empty\n",
    "\n",
    "    try:\n",
    "        if has_empty_alert(c_name):\n",
    "            empty_alert_names.append(c_name)\n",
    "        else:\n",
    "            for name in name_list:\n",
    "                if has_empty_alert(name):\n",
    "                    print(name)\n",
    "                    empty_alert_names.append(name)\n",
    "    except requests.RequestException as e:\n",
    "        print(f\"Request error: {e}\")\n",
    "        # print(response.text)\n",
    "    \n",
    "    return empty_alert_names\n",
    "\n",
    "# Replace these placeholders with your actual values\n",
    "# c_name = \"YourCompanyName\"\n",
    "# business_names = [\"Name1\", \"Name2\", \"Name3\"]\n",
    "# session_token = \"YourSessionToken\"\n",
    "\n",
    "empty_alert_names = check_alert_descriptions(c_name, business_names, session_token)\n",
    "print(empty_alert_names)\n"
   ]
  }
 ],
 "metadata": {
  "interpreter": {
   "hash": "916dbcbb3f70747c44a77c7bcd40155683ae19c65e1c03b4aa3499c5328201f1"
  },
  "kernelspec": {
   "display_name": "Python 3.10.6 64-bit",
   "language": "python",
   "name": "python3"
  },
  "language_info": {
   "codemirror_mode": {
    "name": "ipython",
    "version": 3
   },
   "file_extension": ".py",
   "mimetype": "text/x-python",
   "name": "python",
   "nbconvert_exporter": "python",
   "pygments_lexer": "ipython3",
   "version": "3.10.6"
  },
  "orig_nbformat": 4
 },
 "nbformat": 4,
 "nbformat_minor": 2
}
