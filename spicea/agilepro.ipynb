{
 "cells": [
  {
   "cell_type": "code",
   "execution_count": 1,
   "metadata": {},
   "outputs": [],
   "source": [
    "srn='1-10266506010'"
   ]
  },
  {
   "cell_type": "code",
   "execution_count": 3,
   "metadata": {},
   "outputs": [],
   "source": [
    "import json\n",
    "import json\n",
    "from datetime import datetime\n",
    "import requests\n",
    "import json\n",
    "from requests_toolbelt.multipart.encoder import MultipartEncoder"
   ]
  },
  {
   "cell_type": "code",
   "execution_count": 4,
   "metadata": {},
   "outputs": [],
   "source": [
    "\n",
    "\n",
    "url = \"https://www.mca.gov.in/bin/mca/login\"\n",
    "\n",
    "headers = {\n",
    "    \"Origin\": \"www.mca.gov.in\",\n",
    "    \"Content-Type\": \"application/x-www-form-urlencoded; charset=UTF-8\"}\n",
    "data=\"data=Ut8pBOc0RSM6iYqffqN1oiyj9WvJGiJEVVlWEbrO16gkiUbYKGssebXlM%2Bcc1l6%2FH53ORIVejkqRQNJO6whx4OCP6P3nRpnWDjVVIN5IRbmcNMmCFHf2ri7KqE4SRlNjYCw9u2LKROliTfvv63AV9eiPCiRWO5aLhpI2CVZau9pnzCFWwsAby4nwrZ19gu8G0zsW1uZyNhasaqAt7a%2F%2FLQ%3D%3D\"\n",
    "response = requests.post(url, headers=headers, data=data)\n",
    "set_cookie_value = response.headers.get('Set-Cookie')\n",
    "start_index = set_cookie_value.find(\"session-token=\") + len(\"session-token=\")\n",
    "end_index = set_cookie_value.find(\";\", start_index)\n",
    "session_token = set_cookie_value[start_index:end_index]"
   ]
  },
  {
   "cell_type": "code",
   "execution_count": 5,
   "metadata": {},
   "outputs": [
    {
     "name": "stdout",
     "output_type": "stream",
     "text": [
      "Response:\n",
      "{\"message\":\"Data fetched Successfully\",\"error\":\"\",\"linkedForms\":[{\"integrationId\":\"1-4PSEUQI\",\"primaryParentSRId\":\"No Match Row Id\",\"formAttachment\":[{\"attachmentDMSId\":\"355040064\"}],\"referenceNumber\":\"1-10266506010\",\"formName\":\"Spice+ Part A\",\"srnNumber\":\"AA3956178\",\"action\":{\"type\":\"04-SEP-23\",\"status\":\"29-AUG-23\"},\"parentServiceRequestId\":\"\",\"updated\":\"2023-08-10T01:48:43.000+05:30\",\"status\":\"Approved\",\"approvalDate\":\"09-AUG-23\"},{\"integrationId\":\"1-4RUE0FA\",\"spiceBDirectorDeclaration\":{\"membershipNumber\":\"271843\",\"certificateofPracticeNumber\":\"FRN026299S\",\"associate_Fellow\":\"Associate\",\"practiceNumber_declaration\":\"FRN026299S\",\"LegalProffesion\":\"Chartered Accountant\",\"dropdown2\":\"Chartered Accountant\",\"membershipNumber_declaration\":\"271843\"},\"primaryParentSRId\":\"No Match Row Id\",\"formAttachment\":[{\"attachmentDMSId\":\"362380919\"}],\"referenceNumber\":\"1-10390758310\",\"formName\":\"SPICE + Part B\",\"srnNumber\":\"AA4274782\",\"parentServiceRequestId\":\"1-4PSEUQI\",\"updated\":\"2023-09-04T22:48:36.000+05:30\",\"status\":\"Resubmission Required\"},{\"integrationId\":\"1-4ZO8TRC\",\"primaryParentSRId\":\"1-4PSEUQI\",\"referenceNumber\":\"1-10864168104\",\"formName\":\"AGILE PRO\",\"srnNumber\":\"\",\"action\":[{\"type\":\"\",\"status\":\"\"}],\"parentServiceRequestId\":\"1-4RUE0FA\",\"updated\":\"2023-09-04T23:06:26.000+05:30\",\"status\":\"Draft/Pending Submission\"},{\"integrationId\":\"1-4ZO8TS6\",\"primaryParentSRId\":\"1-4PSEUQI\",\"referenceNumber\":\"1-10864168134\",\"formName\":\"INC-34\",\"srnNumber\":\"\",\"parentServiceRequestId\":\"1-4RUE0FA\",\"inc34WitnessDetails\":[{\"witnessPrefix\":\"\",\"witnessPassportDinPan\":\"\"}],\"updated\":\"2023-09-04T21:49:00.000+05:30\",\"status\":\"Draft/Pending Submission\"},{\"integrationId\":\"1-4ZO8TT1\",\"primaryParentSRId\":\"1-4PSEUQI\",\"referenceNumber\":\"1-10864168165\",\"formName\":\"INC-33\",\"srnNumber\":\"\",\"parentServiceRequestId\":\"1-4RUE0FA\",\"updated\":\"2023-09-04T21:49:01.000+05:30\",\"status\":\"Draft/Pending Submission\",\"inc33WitnessDetails\":{\"membershipTypeOfWitness\":\"\",\"id\":\"\"}},{\"integrationId\":\"1-4ZO8TTD\",\"primaryParentSRId\":\"1-4PSEUQI\",\"referenceNumber\":\"1-10864168177\",\"formName\":\"INC-9\",\"srnNumber\":\"\",\"parentServiceRequestId\":\"1-4RUE0FA\",\"updated\":\"2023-09-04T21:49:01.000+05:30\",\"status\":\"Draft/Pending Submission\"}]}\n"
     ]
    }
   ],
   "source": [
    "url = 'https://www.mca.gov.in/bin/spiceDashboard'\n",
    "params = {'srn': f'{srn}'}\n",
    "headers = {\n",
    "    'Cookie': f'cookiesession1=678B2869A3F37E351C741CDEA2BC2CAE; session-token={session_token}',\n",
    "    'User-Agent': 'Mozilla/5.0 (X11; Linux x86_64; rv:109.0) Gecko/20100101 Firefox/115.0',\n",
    "    'Accept': '*/*',\n",
    "    'Accept-Language': 'en-US,en;q=0.5',\n",
    "    'Accept-Encoding': 'gzip, deflate',\n",
    "    'X-Requested-With': 'XMLHttpRequest',\n",
    "    'Sec-Fetch-Dest': 'empty',\n",
    "    'Sec-Fetch-Mode': 'cors',\n",
    "    'Sec-Fetch-Site': 'same-origin',\n",
    "    'Te': 'trailers'\n",
    "}\n",
    "\n",
    "try:\n",
    "    response = requests.get(url, params=params, headers=headers)\n",
    "    response.raise_for_status()  # Check if the request was successful\n",
    "    print(\"Response:\")\n",
    "    print(response.text)  # Print the response content if needed\n",
    "except requests.exceptions.RequestException as e:\n",
    "    print(f\"Error: {e}\")"
   ]
  },
  {
   "cell_type": "code",
   "execution_count": 7,
   "metadata": {},
   "outputs": [],
   "source": [
    "ref_no=json.loads(response.text)['linkedForms'][1]['referenceNumber']\n"
   ]
  },
  {
   "cell_type": "code",
   "execution_count": 8,
   "metadata": {},
   "outputs": [
    {
     "data": {
      "text/plain": [
       "'1-10390758310'"
      ]
     },
     "execution_count": 8,
     "metadata": {},
     "output_type": "execute_result"
    }
   ],
   "source": [
    "ref_no"
   ]
  },
  {
   "cell_type": "code",
   "execution_count": 9,
   "metadata": {},
   "outputs": [],
   "source": [
    "a=json.loads(response.text)['linkedForms']"
   ]
  },
  {
   "cell_type": "code",
   "execution_count": 10,
   "metadata": {},
   "outputs": [
    {
     "data": {
      "text/plain": [
       "[{'integrationId': '1-4PSEUQI',\n",
       "  'primaryParentSRId': 'No Match Row Id',\n",
       "  'formAttachment': [{'attachmentDMSId': '355040064'}],\n",
       "  'referenceNumber': '1-10266506010',\n",
       "  'formName': 'Spice+ Part A',\n",
       "  'srnNumber': 'AA3956178',\n",
       "  'action': {'type': '04-SEP-23', 'status': '29-AUG-23'},\n",
       "  'parentServiceRequestId': '',\n",
       "  'updated': '2023-08-10T01:48:43.000+05:30',\n",
       "  'status': 'Approved',\n",
       "  'approvalDate': '09-AUG-23'},\n",
       " {'integrationId': '1-4RUE0FA',\n",
       "  'spiceBDirectorDeclaration': {'membershipNumber': '271843',\n",
       "   'certificateofPracticeNumber': 'FRN026299S',\n",
       "   'associate_Fellow': 'Associate',\n",
       "   'practiceNumber_declaration': 'FRN026299S',\n",
       "   'LegalProffesion': 'Chartered Accountant',\n",
       "   'dropdown2': 'Chartered Accountant',\n",
       "   'membershipNumber_declaration': '271843'},\n",
       "  'primaryParentSRId': 'No Match Row Id',\n",
       "  'formAttachment': [{'attachmentDMSId': '362380919'}],\n",
       "  'referenceNumber': '1-10390758310',\n",
       "  'formName': 'SPICE + Part B',\n",
       "  'srnNumber': 'AA4274782',\n",
       "  'parentServiceRequestId': '1-4PSEUQI',\n",
       "  'updated': '2023-09-04T22:48:36.000+05:30',\n",
       "  'status': 'Resubmission Required'},\n",
       " {'integrationId': '1-4ZO8TRC',\n",
       "  'primaryParentSRId': '1-4PSEUQI',\n",
       "  'referenceNumber': '1-10864168104',\n",
       "  'formName': 'AGILE PRO',\n",
       "  'srnNumber': '',\n",
       "  'action': [{'type': '', 'status': ''}],\n",
       "  'parentServiceRequestId': '1-4RUE0FA',\n",
       "  'updated': '2023-09-04T23:06:26.000+05:30',\n",
       "  'status': 'Draft/Pending Submission'},\n",
       " {'integrationId': '1-4ZO8TS6',\n",
       "  'primaryParentSRId': '1-4PSEUQI',\n",
       "  'referenceNumber': '1-10864168134',\n",
       "  'formName': 'INC-34',\n",
       "  'srnNumber': '',\n",
       "  'parentServiceRequestId': '1-4RUE0FA',\n",
       "  'inc34WitnessDetails': [{'witnessPrefix': '', 'witnessPassportDinPan': ''}],\n",
       "  'updated': '2023-09-04T21:49:00.000+05:30',\n",
       "  'status': 'Draft/Pending Submission'},\n",
       " {'integrationId': '1-4ZO8TT1',\n",
       "  'primaryParentSRId': '1-4PSEUQI',\n",
       "  'referenceNumber': '1-10864168165',\n",
       "  'formName': 'INC-33',\n",
       "  'srnNumber': '',\n",
       "  'parentServiceRequestId': '1-4RUE0FA',\n",
       "  'updated': '2023-09-04T21:49:01.000+05:30',\n",
       "  'status': 'Draft/Pending Submission',\n",
       "  'inc33WitnessDetails': {'membershipTypeOfWitness': '', 'id': ''}},\n",
       " {'integrationId': '1-4ZO8TTD',\n",
       "  'primaryParentSRId': '1-4PSEUQI',\n",
       "  'referenceNumber': '1-10864168177',\n",
       "  'formName': 'INC-9',\n",
       "  'srnNumber': '',\n",
       "  'parentServiceRequestId': '1-4RUE0FA',\n",
       "  'updated': '2023-09-04T21:49:01.000+05:30',\n",
       "  'status': 'Draft/Pending Submission'}]"
      ]
     },
     "execution_count": 10,
     "metadata": {},
     "output_type": "execute_result"
    }
   ],
   "source": [
    "a"
   ]
  },
  {
   "cell_type": "code",
   "execution_count": 11,
   "metadata": {},
   "outputs": [],
   "source": [
    "for i in a:\n",
    "    # print(i)\n",
    "    if (i['formName']=='AGILE PRO'):\n",
    "        intId=(i['integrationId'])\n",
    "        ref_no=i['referenceNumber']"
   ]
  },
  {
   "cell_type": "code",
   "execution_count": 12,
   "metadata": {},
   "outputs": [
    {
     "data": {
      "text/plain": [
       "'1-10864168104'"
      ]
     },
     "execution_count": 12,
     "metadata": {},
     "output_type": "execute_result"
    }
   ],
   "source": [
    "ref_no"
   ]
  },
  {
   "cell_type": "code",
   "execution_count": 13,
   "metadata": {},
   "outputs": [
    {
     "name": "stdout",
     "output_type": "stream",
     "text": [
      "{\"error\":\"\",\"message\":\"Data Fetched Successfully\",\"data\":{\"status\":\"Draft/Pending Submission\",\"formData\":{\"formIntegrationId\":\"1-4ZO8TRE\",\"status\":\"Draft/Pending Submission\",\"nameOfTheCompany\":\"INNOLEGALNITI PRIVATE LIMITED\",\"applyforGSTIN\":\"N\",\"stateCode\":\"Karnataka\",\"districtCode\":\"Bangalore\",\"stateJurisdictionCode\":\"\",\"sectorCircleWardChargeUnit\":\"\",\"commissionerate\":\"\",\"divisionCode\":\"\",\"rangeCode\":\"\",\"reasontoObtainRegistration\":\"\",\"eshtablishmentOnLease\":\"N\",\"eLeasedfromDate\":\"\",\"eLeasedToDate\":\"\",\"natureofPossessionofPremises\":\"\",\"natureofPossessionofPremisesIfOthers\":\"\",\"proofofPrincipalPlaceofBusiness\":\"\",\"typeOfBuildingEshtablishment\":\"Owned\",\"ifHiredorThereIsaChangeintheNameofUnitOwnership\":\"N\",\"cLeasedfromDate\":\"\",\"optionforComposition\":\"\",\"primaryBusinessActivities\":\"\",\"others\":\"\",\"exactNatureofWorkBusiness\":\"\",\"workSubCategory\":\"\",\"natureofWorkBusiness\":\"\",\"hsnCode\":\"\",\"descriptionofGoods\":\"\",\"sacCode\":\"\",\"sacDesc\":\"\",\"compositionDeclaration\":\"\",\"cLeasedToDate\":\"\",\"directorDIN\":\"\",\"directorPAN\":\"\",\"directorFirstName\":\"\",\"directorMiddleName\":\"\",\"directorLastName\":\"\",\"directorPersonalMobileNumber\":\"\",\"directorPersonalemailID\":\"\",\"numberofDirectors\":\"2\",\"directors\":[],\"policeStation\":\"\",\"esicOffice\":\"\",\"inspectionDivision\":\"\",\"bankCode\":\"\",\"place\":\"\",\"date\":\"\",\"designation\":\"Director\",\"natureofBusinessActivityBeingCarriedOutAtaAoveMentionedPremises\":[],\"categoryofRegisteredPerson\":[],\"ward\":\"\",\"sacWard\":\"\",\"section\":\"\",\"buildingUID\":\"\",\"propertyAccountNumber\":\"\",\"natureOfBusiness\":\"\",\"flatNumber\":\"\",\"shopsandEstablishmentMumbaiDeclaration\":\"\",\"shopsandEstablishmentDelhiDeclaration\":\"\",\"doyouwishtoperformAadhaarauthenticationforGSTNReg\":\"\",\"categoryofEstablishment\":\"\",\"whetherregistrationisrequiredundershops\":\"\",\"gstDeclaration\":\"\",\"esicDeclaration\":\"\",\"professionalTaxDeclaration\":\"\",\"epfoDeclaration\":\"\",\"bankDeclaration\":\"\",\"din\":\"\"},\"lastUpdatedDate\":\"\",\"integrationId\":\"1-4ZO8TRC\",\"referenceNumber\":\"1-10864168104\",\"userId\":\"CASRIKANTH0224@GMAIL.COM\"}}\n",
      "200\n"
     ]
    }
   ],
   "source": [
    "import requests\n",
    "\n",
    "url = 'https://www.mca.gov.in/content/forms/af/mca-aem-forms/spice-plus-b/agileprojourney/agile-pro-journey/jcr:content/guideContainer.af.dermis'\n",
    "\n",
    "headers = {\n",
    "    'Host': 'www.mca.gov.in',\n",
    "    'Cookie': 'cookiesession1=678B2869D727DAE036D48B6E36133C84;session-token={session_token}',\n",
    "    'Content-Type': 'application/x-www-form-urlencoded; charset=UTF-8',\n",
    "    'Origin': 'https://www.mca.gov.in',\n",
    "    'Content-Length': '486',\n",
    "}\n",
    "\n",
    "payload = {\n",
    "    'functionToExecute': 'invokeFDMOperation',\n",
    "    'formDataModelId': '/content/dam/formsanddocuments-fdm/agilepro/agilepromcaprefill',\n",
    "    'input': f'{{\"Model0\": {{\"requestBody\": {{\"userId\": \"\", \"referenceNumber\": \"{ref_no}\", \"srn\": \"\"}}}}}}',\n",
    "    'operationName': 'POST /agilePro/services/viewform/1.0.0',\n",
    "    'guideNodePath': '/content/forms/af/mca-aem-forms/spice-plus-b/agileprojourney/agile-pro-journey/jcr:content/guideContainer/rootPanel'\n",
    "}\n",
    "\n",
    "response = requests.post(url, headers=headers, data=payload)\n",
    "\n",
    "print(response.text)\n",
    "print(response.status_code)\n"
   ]
  },
  {
   "cell_type": "code",
   "execution_count": 14,
   "metadata": {},
   "outputs": [],
   "source": [
    "formIntid=json.loads(response.text)['data']['formData']['formIntegrationId']"
   ]
  },
  {
   "cell_type": "code",
   "execution_count": 15,
   "metadata": {},
   "outputs": [
    {
     "data": {
      "text/plain": [
       "'1-4ZO8TRE'"
      ]
     },
     "execution_count": 15,
     "metadata": {},
     "output_type": "execute_result"
    }
   ],
   "source": [
    "formIntid"
   ]
  },
  {
   "cell_type": "code",
   "execution_count": 16,
   "metadata": {},
   "outputs": [],
   "source": [
    "c_name=json.loads(response.text)['data']['formData']['nameOfTheCompany']"
   ]
  },
  {
   "cell_type": "code",
   "execution_count": 38,
   "metadata": {},
   "outputs": [],
   "source": [
    "payload1=r'''{\"requestBody\":{\"formData\":{\"nameOfTheCompany\":\"FAHTECHNOLOGIES PRIVATE LIMITED\",\"applyforGSTIN\":\"N\",\"stateCode\":\"Karnataka\",\"districtCode\":\"Bangalore\",\"reasontoObtainRegistration\":\"\",\"eshtablishmentOnLease\":\"N\",\"typeOfBuildingEshtablishment\":\"Owned\",\"ifHiredorThereIsaChangeintheNameofUnitOwnership\":\"N\",\"numberofDirectors\":\"2\",\"designation\":\"Director\",\"formIntegrationId\":\"1-4O8C8XP\",\"formAttachment\":[]},\"formDescription\":\"AGILE PRO\",\"formName\":\"AGILE PRO\",\"formVersion\":\"1.0\",\"userId\":\"CASRIKANTH0224@GMAIL.COM\",\"integrationId\":\"1-4O8C8XN\",\"referenceNumber\":\"1-10172325947\",\"operation\":\"Save\",\"action\":\"savesubmit\"}}'''"
   ]
  },
  {
   "cell_type": "code",
   "execution_count": 39,
   "metadata": {},
   "outputs": [],
   "source": [
    "payload1_json=json.loads(payload1)"
   ]
  },
  {
   "cell_type": "code",
   "execution_count": 40,
   "metadata": {},
   "outputs": [
    {
     "data": {
      "text/plain": [
       "dict_keys(['formData', 'formDescription', 'formName', 'formVersion', 'userId', 'integrationId', 'referenceNumber', 'operation', 'action'])"
      ]
     },
     "execution_count": 40,
     "metadata": {},
     "output_type": "execute_result"
    }
   ],
   "source": [
    "payload1_json['requestBody'].keys()"
   ]
  },
  {
   "cell_type": "code",
   "execution_count": 41,
   "metadata": {},
   "outputs": [
    {
     "data": {
      "text/plain": [
       "{'formData': {'nameOfTheCompany': 'FAHTECHNOLOGIES PRIVATE LIMITED',\n",
       "  'applyforGSTIN': 'N',\n",
       "  'stateCode': 'Karnataka',\n",
       "  'districtCode': 'Bangalore',\n",
       "  'reasontoObtainRegistration': '',\n",
       "  'eshtablishmentOnLease': 'N',\n",
       "  'typeOfBuildingEshtablishment': 'Owned',\n",
       "  'ifHiredorThereIsaChangeintheNameofUnitOwnership': 'N',\n",
       "  'numberofDirectors': '2',\n",
       "  'designation': 'Director',\n",
       "  'formIntegrationId': '1-4O8C8XP',\n",
       "  'formAttachment': []},\n",
       " 'formDescription': 'AGILE PRO',\n",
       " 'formName': 'AGILE PRO',\n",
       " 'formVersion': '1.0',\n",
       " 'userId': 'CASRIKANTH0224@GMAIL.COM',\n",
       " 'integrationId': '1-4O8C8XN',\n",
       " 'referenceNumber': '1-10172325947',\n",
       " 'operation': 'Save',\n",
       " 'action': 'savesubmit'}"
      ]
     },
     "execution_count": 41,
     "metadata": {},
     "output_type": "execute_result"
    }
   ],
   "source": [
    "payload1_json['requestBody']"
   ]
  },
  {
   "cell_type": "code",
   "execution_count": 42,
   "metadata": {},
   "outputs": [
    {
     "data": {
      "text/plain": [
       "'INNOLEGALNITI PRIVATE LIMITED'"
      ]
     },
     "execution_count": 42,
     "metadata": {},
     "output_type": "execute_result"
    }
   ],
   "source": [
    "c_name"
   ]
  },
  {
   "cell_type": "code",
   "execution_count": 43,
   "metadata": {},
   "outputs": [],
   "source": [
    "payload1_json['requestBody']['formData']['nameOfTheCompany']=c_name\n",
    "payload1_json['requestBody']['formData']['formIntegrationId']=formIntid\n",
    "payload1_json['requestBody']['integrationId']=intId\n",
    "payload1_json['requestBody']['referenceNumber']=ref_no\n",
    "\n"
   ]
  },
  {
   "cell_type": "code",
   "execution_count": 44,
   "metadata": {},
   "outputs": [
    {
     "data": {
      "text/plain": [
       "{'formData': {'nameOfTheCompany': 'INNOLEGALNITI PRIVATE LIMITED',\n",
       "  'applyforGSTIN': 'N',\n",
       "  'stateCode': 'Karnataka',\n",
       "  'districtCode': 'Bangalore',\n",
       "  'reasontoObtainRegistration': '',\n",
       "  'eshtablishmentOnLease': 'N',\n",
       "  'typeOfBuildingEshtablishment': 'Owned',\n",
       "  'ifHiredorThereIsaChangeintheNameofUnitOwnership': 'N',\n",
       "  'numberofDirectors': '2',\n",
       "  'designation': 'Director',\n",
       "  'formIntegrationId': '1-4ZO8TRE',\n",
       "  'formAttachment': []},\n",
       " 'formDescription': 'AGILE PRO',\n",
       " 'formName': 'AGILE PRO',\n",
       " 'formVersion': '1.0',\n",
       " 'userId': 'CASRIKANTH0224@GMAIL.COM',\n",
       " 'integrationId': '1-4ZO8TRC',\n",
       " 'referenceNumber': '1-10864168104',\n",
       " 'operation': 'Save',\n",
       " 'action': 'savesubmit'}"
      ]
     },
     "execution_count": 44,
     "metadata": {},
     "output_type": "execute_result"
    }
   ],
   "source": [
    "payload1_json['requestBody']"
   ]
  },
  {
   "cell_type": "code",
   "execution_count": 45,
   "metadata": {},
   "outputs": [
    {
     "name": "stdout",
     "output_type": "stream",
     "text": [
      "{\n",
      "\t\t\t\t\t\t\t\t   \"error\":\"\",\n",
      "\t\t\t\t\t\t\t\t   \"message\":\"Data Added Successfully\",\n",
      "\t\t\t\t\t\t\t\t   \"data\":{\n",
      "\t\t\t\t\t\t\t\t      \"referenceNumber\":\"1-10864168104\",\n",
      "\t\t\t\t\t\t\t\t      \"srn\":\"\",\n",
      "\t\t\t\t\t\t\t\t      \"srnStatus\":\"Draft/Pending Submission\",\n",
      "\t\t\t\t\t\t\t\t      \"integrationId\":\"1-4ZO8TRC\",\n",
      "\t\t\t\t\t\t\t\t      \"formIntegrationId\":\"1-4ZO8TRE\",\n",
      "\t\t\t\t\t\t\t\t      \"formType\":\"NSTP\"\n",
      "\t\t\t\t\t\t\t\t   }\n",
      "\t\t\t\t\t\t\t\t}\n",
      "200\n"
     ]
    }
   ],
   "source": [
    "import requests\n",
    "\n",
    "url = 'https://www.mca.gov.in/bin/mca-gov/AgileProSaveSubmit'\n",
    "\n",
    "headers = {\n",
    "    'Host': 'www.mca.gov.in',\n",
    "    'Cookie': f'cookiesession1=678B2869D727DAE036D48B6E36133C84; session-token={session_token}',\n",
    "    'Origin': 'https://www.mca.gov.in',\n",
    "    'Sec-Fetch-Site': 'same-origin',\n",
    "    'Sec-Fetch-Mode': 'cors',\n",
    "    'Sec-Fetch-Dest': 'empty',\n",
    "    'Referer': 'https://www.mca.gov.in/content/mca/global/en/mca/e-filing/incorporation/AgilePro.html?applicationHistory=eyJzcm4iOiJBQTMwODM0NTUiLCJyZWZlcmVuY2UiOiIxLTEwMjMzMjY2NDMyIiwicHVycG9zZSI6IiJ9',\n",
    "    'Accept-Encoding': 'gzip, deflate',\n",
    "    'Accept-Language': 'en-US,en;q=0.9',\n",
    "}\n",
    "\n",
    "\n",
    "data = {\n",
    "    'data': json.dumps(payload1_json),\n",
    "    'action': 'SaveSubmit',\n",
    "    'operation': 'Save',\n",
    "    'serveAction': 'saveForm',\n",
    "    'status': 'DraftPending Submission',\n",
    "}\n",
    "\n",
    "response = requests.post(url, headers=headers, data=data)\n",
    "\n",
    "print(response.text)\n",
    "print(response.status_code)\n"
   ]
  },
  {
   "cell_type": "code",
   "execution_count": 28,
   "metadata": {},
   "outputs": [],
   "source": [
    "payload2_json=payload1_json"
   ]
  },
  {
   "cell_type": "code",
   "execution_count": 29,
   "metadata": {},
   "outputs": [],
   "source": [
    "payload2_json['requestBody']['formData']['primaryBusinessActivities']='OTHERS'\n",
    "payload2_json['requestBody']['formData']['others']='LEGAL TECH'\n",
    "payload2_json['requestBody']['formData']['exactNatureofWorkBusiness']='Miscellaneous'\n",
    "payload2_json['requestBody']['formData']['workSubCategory']='Others'\n",
    "payload2_json['requestBody']['formData']['natureofWorkBusiness']='LEGAL TECH'\n",
    "\n"
   ]
  },
  {
   "cell_type": "code",
   "execution_count": 30,
   "metadata": {},
   "outputs": [
    {
     "name": "stdout",
     "output_type": "stream",
     "text": [
      "{\n",
      "\t\t\t\t\t\t\t\t   \"error\":\"\",\n",
      "\t\t\t\t\t\t\t\t   \"message\":\"Data Added Successfully\",\n",
      "\t\t\t\t\t\t\t\t   \"data\":{\n",
      "\t\t\t\t\t\t\t\t      \"referenceNumber\":\"1-10864168104\",\n",
      "\t\t\t\t\t\t\t\t      \"srn\":\"\",\n",
      "\t\t\t\t\t\t\t\t      \"srnStatus\":\"Draft/Pending Submission\",\n",
      "\t\t\t\t\t\t\t\t      \"integrationId\":\"1-4ZO8TRC\",\n",
      "\t\t\t\t\t\t\t\t      \"formIntegrationId\":\"1-4ZO8TRE\",\n",
      "\t\t\t\t\t\t\t\t      \"formType\":\"NSTP\"\n",
      "\t\t\t\t\t\t\t\t   }\n",
      "\t\t\t\t\t\t\t\t}\n",
      "200\n"
     ]
    }
   ],
   "source": [
    "import requests\n",
    "\n",
    "url = 'https://www.mca.gov.in/bin/mca-gov/AgileProSaveSubmit'\n",
    "\n",
    "headers = {\n",
    "    'Host': 'www.mca.gov.in',\n",
    "    'Cookie': f'cookiesession1=678B2869D727DAE036D48B6E36133C84; session-token={session_token}',\n",
    "    'Origin': 'https://www.mca.gov.in',\n",
    "    'Sec-Fetch-Site': 'same-origin',\n",
    "    'Sec-Fetch-Mode': 'cors',\n",
    "    'Sec-Fetch-Dest': 'empty',\n",
    "    'Referer': 'https://www.mca.gov.in/content/mca/global/en/mca/e-filing/incorporation/AgilePro.html?applicationHistory=eyJzcm4iOiJBQTMwODM0NTUiLCJyZWZlcmVuY2UiOiIxLTEwMjMzMjY2NDMyIiwicHVycG9zZSI6IiJ9',\n",
    "    'Accept-Encoding': 'gzip, deflate',\n",
    "    'Accept-Language': 'en-US,en;q=0.9',\n",
    "}\n",
    "\n",
    "\n",
    "data = {\n",
    "    'data': json.dumps(payload2_json),\n",
    "    'action': 'SaveSubmit',\n",
    "    'operation': 'Save',\n",
    "    'serveAction': 'saveForm',\n",
    "    'status': 'DraftPending Submission',\n",
    "}\n",
    "\n",
    "response = requests.post(url, headers=headers, data=data)\n",
    "\n",
    "print(response.text)\n",
    "print(response.status_code)\n"
   ]
  },
  {
   "cell_type": "code",
   "execution_count": 1,
   "metadata": {},
   "outputs": [
    {
     "name": "stdout",
     "output_type": "stream",
     "text": [
      "Request was successful.\n",
      "Response content:\n",
      "{\"data\":[{\"firstName\":\"KASHVI\",\"lastName\":\"JAIN\",\"emailAddress\":\"kashvijain19@gmail.com\",\"mobNo\":\"09481829401\",\"nationality\":\"India\",\"PANPassPort\":\"BUTPJ7345F\",\"DIN\":\"null\",\"middleName\":\"DILEEP\",\"indianResident\":\"Y\"},{\"firstName\":\"BIPUL\",\"lastName\":\"SINGH\",\"emailAddress\":\"bipulkumarsingh6690@gmail.com\",\"mobNo\":\"07975735563\",\"nationality\":\"India\",\"PANPassPort\":\"NLRPS2411C\",\"DIN\":\"null\",\"middleName\":\"KUMAR\",\"indianResident\":\"Y\"}],\"message\":\"Data fetched Successfully\"}\n"
     ]
    }
   ],
   "source": [
    "import requests\n",
    "\n",
    "# Define the URL and headers\n",
    "url = \"https://www.mca.gov.in/content/forms/af/mca-aem-forms/spice-plus-b/agileprojourney/agile-pro-journey/jcr:content/guideContainer.af.dermis\"\n",
    "headers = {\n",
    "    \"Host\": \"www.mca.gov.in\",\n",
    "    \"Cookie\": \"cookiesession1=678B28690FE85E2F44A6F01E56B5BE61; alertPopup=true; deviceId=fgxd0i986mf; JSESSIONID=0000fj4dFIYW5ZClBXlJ25CPJ2U:1af049n5g; session-token=eyJhbGciOiJIUzUxMiJ9...\",\n",
    "    \"Content-Type\": \"application/x-www-form-urlencoded; charset=UTF-8\",\n",
    "    \"Accept\": \"text/plain, */*; q=0.01\",\n",
    "    \"X-Requested-With\": \"XMLHttpRequest\",\n",
    "    \"Origin\": \"https://www.mca.gov.in\",\n",
    "    \"Referer\": \"https://www.mca.gov.in/content/mca/global/en/mca/e-filing/incorporation/AgilePro.html?applicationHistory=eyJzcm4iOiJBQTM5NTYxNzgiLCJyZWZlcmVuY2UiOiIxLTEwODY4MDgxNzI1IiwicHVycG9zZSI6IiJ9\",\n",
    "    \"Accept-Encoding\": \"gzip, deflate\",\n",
    "    \"Accept-Language\": \"en-US,en;q=0.9\"\n",
    "}\n",
    "\n",
    "# Define the payload data\n",
    "data = {\n",
    "    \"functionToExecute\": \"invokeFDMOperation\",\n",
    "    \"formDataModelId\": \"/content/dam/formsanddocuments-fdm/agilepro/api\",\n",
    "    \"input\": '{\"type\": \"SpiceB Subscribers\",\"srNumber\": \"1-10868081725\"}',\n",
    "    \"operationName\": \"GET /service/directorNameDss/1.0.0\",\n",
    "    \"guideNodePath\": \"/content/forms/af/mca-aem-forms/spice-plus-b/agileprojourney/agile-pro-journey/jcr:content/guideContainer/rootPanel/items/panel_2017717670/items/panel_copy_copy/items/panel_1376092333/items/panel_811283355/items/panel_copy/items/panel/items/panel/items/guidedropdownlist_co\"\n",
    "}\n",
    "\n",
    "# Send the POST request\n",
    "response = requests.post(url, headers=headers, data=data)\n",
    "\n",
    "# Check the response\n",
    "if response.status_code == 200:\n",
    "    print(\"Request was successful.\")\n",
    "    print(\"Response content:\")\n",
    "    print(response.text)\n",
    "else:\n",
    "    print(f\"Request failed with status code {response.status_code}.\")\n"
   ]
  },
  {
   "cell_type": "code",
   "execution_count": 2,
   "metadata": {},
   "outputs": [
    {
     "name": "stdout",
     "output_type": "stream",
     "text": [
      "Request was successful.\n",
      "Response content:\n",
      "gLmrNBXfa%2BA%2Bluqk1Qp55g0yZ2opW%2Bi%2BtmUpgojWR9LtDjbT%2BYzxfgvCcfpms81g\n"
     ]
    }
   ],
   "source": [
    "import requests\n",
    "\n",
    "# Define the URL and headers\n",
    "url = \"https://www.mca.gov.in/bin/sendOTP\"\n",
    "headers = {\n",
    "    \"Host\": \"www.mca.gov.in\",\n",
    "    \"Cookie\": \"cookiesession1=678B28690FE85E2F44A6F01E56B5BE61; alertPopup=true; deviceId=fgxd0i986mf; JSESSIONID=0000fj4dFIYW5ZClBXlJ25CPJ2U:1af049n5g; session-token=eyJhbGciOiJIUzUxMiJ9...\",\n",
    "    \"Content-Type\": \"application/x-www-form-urlencoded; charset=UTF-8\",\n",
    "    \"Accept\": \"*/*\",\n",
    "    \"X-Requested-With\": \"XMLHttpRequest\",\n",
    "    \"Origin\": \"https://www.mca.gov.in\",\n",
    "    \"Referer\": \"https://www.mca.gov.in/content/mca/global/en/mca/e-filing/incorporation/AgilePro.html?applicationHistory=eyJzcm4iOiJBQTM5NTYxNzgiLCJyZWZlcmVuY2UiOiIxLTEwODY4MDgxNzI1IiwicHVycG9zZSI6IiJ9\",\n",
    "    \"Accept-Encoding\": \"gzip, deflate\",\n",
    "    \"Accept-Language\": \"en-US,en;q=0.9\"\n",
    "}\n",
    "\n",
    "# Define the payload data\n",
    "data = \"data=Gxr7kZGNhddriDlU%2BARC4k5HOs18atPo7IvWSPjbvKHNu%2FfNAHFi%2BgxHAO1m%2F13K%2FbnakFuP3b878vRHhvAsD702xVGWZoUuFHEmr0%2BwwqxaNaqs5JaJLAu%2By%2FKB0rqs\"\n",
    "\n",
    "# Send the POST request\n",
    "response = requests.post(url, headers=headers, data=data)\n",
    "\n",
    "# Check the response\n",
    "if response.status_code == 200:\n",
    "    print(\"Request was successful.\")\n",
    "    print(\"Response content:\")\n",
    "    print(response.text)\n",
    "else:\n",
    "    print(f\"Request failed with status code {response.status_code}.\")\n"
   ]
  },
  {
   "cell_type": "markdown",
   "metadata": {},
   "source": [
    "7715\n"
   ]
  },
  {
   "cell_type": "code",
   "execution_count": 3,
   "metadata": {},
   "outputs": [
    {
     "name": "stdout",
     "output_type": "stream",
     "text": [
      "Request was successful.\n",
      "Response content:\n",
      "FC3Jf%2FQwcutUfPa2k6C0jWd2OPU44dg9MR5%2BuPk35tsHADEIYZ5A0JLtelx25y3Q2AD4VN4dyMyTLGMZ%2BIvJ2Q%3D%3D\n"
     ]
    }
   ],
   "source": [
    "import requests\n",
    "\n",
    "# Define the URL and headers\n",
    "url = \"https://www.mca.gov.in/bin/verifyOTP\"\n",
    "headers = {\n",
    "    \"Host\": \"www.mca.gov.in\",\n",
    "    \"Cookie\": \"cookiesession1=678B28690FE85E2F44A6F01E56B5BE61; alertPopup=true; deviceId=fgxd0i986mf; JSESSIONID=0000fj4dFIYW5ZClBXlJ25CPJ2U:1af049n5g; session-token=eyJhbGciOiJIUzUxMiJ9...\",\n",
    "    \"Content-Type\": \"application/x-www-form-urlencoded; charset=UTF-8\",\n",
    "    \"Accept\": \"*/*\",\n",
    "    \"X-Requested-With\": \"XMLHttpRequest\",\n",
    "    \"Origin\": \"https://www.mca.gov.in\",\n",
    "    \"Referer\": \"https://www.mca.gov.in/content/mca/global/en/mca/e-filing/incorporation/AgilePro.html?applicationHistory=eyJzcm4iOiJBQTM5NTYxNzgiLCJyZWZlcmVuY2UiOiIxLTEwODY4MDgxNzI1IiwicHVycG9zZSI6IiJ9\",\n",
    "    \"Accept-Encoding\": \"gzip, deflate\",\n",
    "    \"Accept-Language\": \"en-US,en;q=0.9\"\n",
    "}\n",
    "\n",
    "# Define the payload data\n",
    "data = \"data=mUot0S6kpBPc2QXufowZxZgcV3WK1xnQuSQ9%2FgjwDwZGcxtcOMfre8CNfjHPHfhVSxepMWLzf6Pe1QE7H1vmEga3Ge4o7uikV6%2FFee6amABRDPpEaJGP%2Fji1zaNm3mTlagi3E2Iv72ulIW4e9TjfXA%3D%3D\"\n",
    "\n",
    "# Send the POST request\n",
    "response = requests.post(url, headers=headers, data=data)\n",
    "\n",
    "# Check the response\n",
    "if response.status_code == 200:\n",
    "    print(\"Request was successful.\")\n",
    "    print(\"Response content:\")\n",
    "    print(response.text)\n",
    "else:\n",
    "    print(f\"Request failed with status code {response.status_code}.\")\n"
   ]
  },
  {
   "cell_type": "code",
   "execution_count": 4,
   "metadata": {},
   "outputs": [
    {
     "name": "stdout",
     "output_type": "stream",
     "text": [
      "Request was successful.\n",
      "Response content:\n",
      "gLmrNBXfa%2BA%2Bluqk1Qp55g0yZ2opW%2Bi%2BtmUpgojWR9LtDjbT%2BYzxfgvCcfpms81g\n"
     ]
    }
   ],
   "source": [
    "import requests\n",
    "\n",
    "# Define the URL and headers\n",
    "url = \"https://www.mca.gov.in/bin/sendOTP\"\n",
    "headers = {\n",
    "    \"Host\": \"www.mca.gov.in\",\n",
    "    \"Cookie\": \"cookiesession1=678B28690FE85E2F44A6F01E56B5BE61; alertPopup=true; deviceId=fgxd0i986mf; JSESSIONID=0000fj4dFIYW5ZClBXlJ25CPJ2U:1af049n5g; session-token=eyJhbGciOiJIUzUxMiJ9...\",\n",
    "    \"Content-Type\": \"application/x-www-form-urlencoded; charset=UTF-8\",\n",
    "    \"Accept\": \"*/*\",\n",
    "    \"X-Requested-With\": \"XMLHttpRequest\",\n",
    "    \"Origin\": \"https://www.mca.gov.in\",\n",
    "    \"Referer\": \"https://www.mca.gov.in/content/mca/global/en/mca/e-filing/incorporation/AgilePro.html?applicationHistory=eyJzcm4iOiJBQTM5NTYxNzgiLCJyZWZlcmVuY2UiOiIxLTEwODY4MDgxNzI1IiwicHVycG9zZSI6IiJ9\",\n",
    "    \"Accept-Encoding\": \"gzip, deflate\",\n",
    "    \"Accept-Language\": \"en-US,en;q=0.9\"\n",
    "}\n",
    "\n",
    "# Define the payload data\n",
    "data = \"data=p%2Fg8qvuuY9Ysg5ua35hosynT05FLFMUhbibrjTc8ITrR%2FfW0xYTMAs05Cc5AxwGGkY9vuLaCchcZjC1VC0nw7m9IP3W%2BYHNofJD4TkcVUkFDldM%2FsD2dEUJtCCrFD%2Bnj\"\n",
    "\n",
    "# Send the POST request\n",
    "response = requests.post(url, headers=headers, data=data)\n",
    "\n",
    "# Check the response\n",
    "if response.status_code == 200:\n",
    "    print(\"Request was successful.\")\n",
    "    print(\"Response content:\")\n",
    "    print(response.text)\n",
    "else:\n",
    "    print(f\"Request failed with status code {response.status_code}.\")\n"
   ]
  },
  {
   "cell_type": "code",
   "execution_count": 6,
   "metadata": {},
   "outputs": [
    {
     "name": "stdout",
     "output_type": "stream",
     "text": [
      "Request was successful.\n",
      "Response content:\n",
      "gLmrNBXfa%2BA%2Bluqk1Qp55g0yZ2opW%2Bi%2BtmUpgojWR9LtDjbT%2BYzxfgvCcfpms81g\n"
     ]
    }
   ],
   "source": [
    "import requests\n",
    "\n",
    "# Define the URL and headers\n",
    "url = \"https://www.mca.gov.in/bin/verifyOTP\"\n",
    "headers = {\n",
    "    \"Host\": \"www.mca.gov.in\",\n",
    "    \"Cookie\": \"cookiesession1=678B28690FE85E2F44A6F01E56B5BE61; alertPopup=true; deviceId=fgxd0i986mf; JSESSIONID=0000fj4dFIYW5ZClBXlJ25CPJ2U:1af049n5g; session-token=eyJhbGciOiJIUzUxMiJ9...\",\n",
    "    \"Content-Type\": \"application/x-www-form-urlencoded; charset=UTF-8\",\n",
    "    \"Accept\": \"*/*\",\n",
    "    \"X-Requested-With\": \"XMLHttpRequest\",\n",
    "    \"Origin\": \"https://www.mca.gov.in\",\n",
    "    \"Referer\": \"https://www.mca.gov.in/content/mca/global/en/mca/e-filing/incorporation/AgilePro.html?applicationHistory=eyJzcm4iOiJBQTM5NTYxNzgiLCJyZWZlcmVuY2UiOiIxLTEwODY4MDgxNzI1IiwicHVycG9zZSI6IiJ9\",\n",
    "    \"Accept-Encoding\": \"gzip, deflate\",\n",
    "    \"Accept-Language\": \"en-US,en;q=0.9\"\n",
    "}\n",
    "\n",
    "# Define the payload data\n",
    "data = \"data=mUot0S6kpBPc2QXufowZxV3xmz6OAlPkyZ2wgi62JUpO%2B%2BU2muPUsQPEADih5RpHIjxzkJ1kyWQX3%2ByGZ8htekL3zgQfmCnMJTYCCVwt5PY%3D\"\n",
    "\n",
    "# Send the POST request\n",
    "response = requests.post(url, headers=headers, data=data)\n",
    "\n",
    "# Check the response\n",
    "if response.status_code == 200:\n",
    "    print(\"Request was successful.\")\n",
    "    print(\"Response content:\")\n",
    "    print(response.text)\n",
    "else:\n",
    "    print(f\"Request failed with status code {response.status_code}.\")\n"
   ]
  },
  {
   "cell_type": "code",
   "execution_count": 7,
   "metadata": {},
   "outputs": [
    {
     "ename": "NameError",
     "evalue": "name 'session_token' is not defined",
     "output_type": "error",
     "traceback": [
      "\u001b[0;31m---------------------------------------------------------------------------\u001b[0m",
      "\u001b[0;31mNameError\u001b[0m                                 Traceback (most recent call last)",
      "Cell \u001b[0;32mIn[7], line 7\u001b[0m\n\u001b[1;32m      2\u001b[0m file_path \u001b[38;5;241m=\u001b[39m \u001b[38;5;124m'\u001b[39m\u001b[38;5;124m/home/pratik/Downloads/WhatsApp_Image_2023_08_09_at_8.11.41_PM__1__11zon.jpeg\u001b[39m\u001b[38;5;124m'\u001b[39m\n\u001b[1;32m      3\u001b[0m file_name4\u001b[38;5;241m=\u001b[39m\u001b[38;5;124mf\u001b[39m\u001b[38;5;124m\"\u001b[39m\u001b[38;5;124mWhatsApp_Image_2023_08_09_at_8.11.41_PM__1__11zon.jpeg\u001b[39m\u001b[38;5;124m\"\u001b[39m\n\u001b[1;32m      5\u001b[0m headers \u001b[38;5;241m=\u001b[39m {\n\u001b[1;32m      6\u001b[0m     \u001b[38;5;66;03m# 'Cookie': cookie,\u001b[39;00m\n\u001b[0;32m----> 7\u001b[0m     \u001b[38;5;124m\"\u001b[39m\u001b[38;5;124mCookie\u001b[39m\u001b[38;5;124m\"\u001b[39m: \u001b[38;5;124mf\u001b[39m\u001b[38;5;124m\"\u001b[39m\u001b[38;5;124mcookiesession1=678B28690FE85E2F44A6F01E56B5BE61; alertPopup=true; deviceId=fgxd0i986mf; JSESSIONID=0000fj4dFIYW5ZClBXlJ25CPJ2U:1af049n5g; session-token=\u001b[39m\u001b[38;5;132;01m{\u001b[39;00m\u001b[43msession_token\u001b[49m\u001b[38;5;132;01m}\u001b[39;00m\u001b[38;5;124m\"\u001b[39m,\n\u001b[1;32m      8\u001b[0m     \u001b[38;5;124m'\u001b[39m\u001b[38;5;124mOrigin\u001b[39m\u001b[38;5;124m'\u001b[39m: \u001b[38;5;124m'\u001b[39m\u001b[38;5;124mhttps://www.mca.gov.in\u001b[39m\u001b[38;5;124m'\u001b[39m,\n\u001b[1;32m      9\u001b[0m     }\n\u001b[1;32m     10\u001b[0m \u001b[38;5;28;01mwith\u001b[39;00m \u001b[38;5;28mopen\u001b[39m(file_path, \u001b[38;5;124m'\u001b[39m\u001b[38;5;124mrb\u001b[39m\u001b[38;5;124m'\u001b[39m) \u001b[38;5;28;01mas\u001b[39;00m file:\n\u001b[1;32m     11\u001b[0m     payload \u001b[38;5;241m=\u001b[39m {\n\u001b[1;32m     12\u001b[0m         \u001b[38;5;124m'\u001b[39m\u001b[38;5;124mfile\u001b[39m\u001b[38;5;124m'\u001b[39m: (file_name4, file, \u001b[38;5;124m'\u001b[39m\u001b[38;5;124mapplication/pdf\u001b[39m\u001b[38;5;124m'\u001b[39m),\n\u001b[1;32m     13\u001b[0m         \u001b[38;5;124m'\u001b[39m\u001b[38;5;124mfolder\u001b[39m\u001b[38;5;124m'\u001b[39m: \u001b[38;5;124m'\u001b[39m\u001b[38;5;124m'\u001b[39m,\n\u001b[1;32m     14\u001b[0m         \u001b[38;5;124m'\u001b[39m\u001b[38;5;124mfilemetadata\u001b[39m\u001b[38;5;124m'\u001b[39m: \u001b[38;5;124m'\u001b[39m\u001b[38;5;124m{\u001b[39m\u001b[38;5;124m\"\u001b[39m\u001b[38;5;124mform\u001b[39m\u001b[38;5;124m\"\u001b[39m\u001b[38;5;124m:\u001b[39m\u001b[38;5;124m\"\u001b[39m\u001b[38;5;124mAGILE PRO\u001b[39m\u001b[38;5;124m\"\u001b[39m\u001b[38;5;124m,\u001b[39m\u001b[38;5;124m\"\u001b[39m\u001b[38;5;124msrn\u001b[39m\u001b[38;5;124m\"\u001b[39m\u001b[38;5;124m:\u001b[39m\u001b[38;5;124m\"\u001b[39m\u001b[38;5;124m\"\u001b[39m\u001b[38;5;124m,\u001b[39m\u001b[38;5;124m\"\u001b[39m\u001b[38;5;124mdocumentType\u001b[39m\u001b[38;5;124m\"\u001b[39m\u001b[38;5;124m:\u001b[39m\u001b[38;5;124m\"\u001b[39m\u001b[38;5;124mAttachment\u001b[39m\u001b[38;5;124m\"\u001b[39m\u001b[38;5;124m,\u001b[39m\u001b[38;5;124m\"\u001b[39m\u001b[38;5;124mmodule\u001b[39m\u001b[38;5;124m\"\u001b[39m\u001b[38;5;124m:\u001b[39m\u001b[38;5;124m\"\u001b[39m\u001b[38;5;124mAGILE PRO\u001b[39m\u001b[38;5;124m\"\u001b[39m\u001b[38;5;124m,\u001b[39m\u001b[38;5;124m\"\u001b[39m\u001b[38;5;124muserid\u001b[39m\u001b[38;5;124m\"\u001b[39m\u001b[38;5;124m:\u001b[39m\u001b[38;5;124m\"\u001b[39m\u001b[38;5;124mAGILE PRO\u001b[39m\u001b[38;5;124m\"\u001b[39m\u001b[38;5;124m,\u001b[39m\u001b[38;5;124m\"\u001b[39m\u001b[38;5;124mapplicationId\u001b[39m\u001b[38;5;124m\"\u001b[39m\u001b[38;5;124m:\u001b[39m\u001b[38;5;124m\"\u001b[39m\u001b[38;5;124m\"\u001b[39m\u001b[38;5;124m,\u001b[39m\u001b[38;5;124m\"\u001b[39m\u001b[38;5;124mattachmentCategory\u001b[39m\u001b[38;5;124m\"\u001b[39m\u001b[38;5;124m:\u001b[39m\u001b[38;5;124m\"\u001b[39m\u001b[38;5;124mpdf\u001b[39m\u001b[38;5;124m\"\u001b[39m\u001b[38;5;124m,\u001b[39m\u001b[38;5;124m\"\u001b[39m\u001b[38;5;124mattachmentLabel\u001b[39m\u001b[38;5;124m\"\u001b[39m\u001b[38;5;124m:\u001b[39m\u001b[38;5;124m\"\u001b[39m\u001b[38;5;124mAgile_12aPhotograph\u001b[39m\u001b[38;5;124m\"\u001b[39m\u001b[38;5;124m}\u001b[39m\u001b[38;5;124m'\u001b[39m\n\u001b[1;32m     15\u001b[0m     }\n",
      "\u001b[0;31mNameError\u001b[0m: name 'session_token' is not defined"
     ]
    }
   ],
   "source": [
    "url = 'https://www.mca.gov.in/bin/mca/dms/addservice'\n",
    "file_path = '/home/pratik/Downloads/WhatsApp_Image_2023_08_09_at_8.11.41_PM__1__11zon.jpeg'\n",
    "file_name4=f\"WhatsApp_Image_2023_08_09_at_8.11.41_PM__1__11zon.jpeg\"\n",
    "\n",
    "headers = {\n",
    "    # 'Cookie': cookie,\n",
    "    \"Cookie\": f\"cookiesession1=678B28690FE85E2F44A6F01E56B5BE61; alertPopup=true; deviceId=fgxd0i986mf; JSESSIONID=0000fj4dFIYW5ZClBXlJ25CPJ2U:1af049n5g; session-token={session_token}\",\n",
    "    'Origin': 'https://www.mca.gov.in',\n",
    "    }\n",
    "with open(file_path, 'rb') as file:\n",
    "    payload = {\n",
    "        'file': (file_name4, file, 'image/jpeg'),\n",
    "        'folder': '',\n",
    "        'filemetadata': '{\"form\":\"AGILE PRO\",\"srn\":\"\",\"documentType\":\"Attachment\",\"module\":\"AGILE PRO\",\"userid\":\"AGILE PRO\",\"applicationId\":\"\",\"attachmentCategory\":\"pdf\",\"attachmentLabel\":\"Agile_12aPhotograph\"}'\n",
    "    }\n",
    "    response = requests.post(url, headers=headers, files=payload)\n",
    "if response.status_code == 200:\n",
    "    print('File uploaded successfully')\n",
    "    print(response.text)\n",
    "else:\n",
    "    print('Failed to upload the file')"
   ]
  },
  {
   "cell_type": "code",
   "execution_count": null,
   "metadata": {},
   "outputs": [],
   "source": [
    "url = 'https://www.mca.gov.in/bin/mca/dms/addservice'\n",
    "file_path = '/home/pratik/Downloads/WhatsApp_Image_2023_08_19_at_12.25.32_PM.pdf'\n",
    "file_name4=f\"WhatsApp_Image_2023_08_19_at_12.25.32_PM.pdf\"\n",
    "\n",
    "headers = {\n",
    "    # 'Cookie': cookie,\n",
    "    \"Cookie\": f\"cookiesession1=678B28690FE85E2F44A6F01E56B5BE61; alertPopup=true; deviceId=fgxd0i986mf; JSESSIONID=0000fj4dFIYW5ZClBXlJ25CPJ2U:1af049n5g; session-token={session_token}\",\n",
    "    'Origin': 'https://www.mca.gov.in',\n",
    "    }\n",
    "with open(file_path, 'rb') as file:\n",
    "    payload = {\n",
    "        'file': (file_name4, file, 'application/pdf'),\n",
    "        'folder': '',\n",
    "        'filemetadata': '{\"form\":\"AGILE PRO\",\"srn\":\"\",\"documentType\":\"Attachment\",\"module\":\"AGILE PRO\",\"userid\":\"AGILE PRO\",\"applicationId\":\"\",\"attachmentCategory\":\"pdf\",\"attachmentLabel\":\"Agile_SpecimenEPFO\"}'\n",
    "    }\n",
    "    response = requests.post(url, headers=headers, files=payload)\n",
    "if response.status_code == 200:\n",
    "    print('File uploaded successfully')\n",
    "    print(response.text)\n",
    "else:\n",
    "    print('Failed to upload the file')"
   ]
  },
  {
   "cell_type": "code",
   "execution_count": null,
   "metadata": {},
   "outputs": [],
   "source": [
    "url = 'https://www.mca.gov.in/bin/mca/dms/addservice'\n",
    "file_path = '/home/pratik/Downloads/ln spice/WhatsApp_Image_2023_08_09_at_8.08.07_PM.jpeg'\n",
    "file_name4=f\"WhatsApp_Image_2023_08_09_at_8.08.07_PM.jpeg\"\n",
    "\n",
    "headers = {\n",
    "    # 'Cookie': cookie,\n",
    "    \"Cookie\": f\"cookiesession1=678B28690FE85E2F44A6F01E56B5BE61; alertPopup=true; deviceId=fgxd0i986mf; JSESSIONID=0000fj4dFIYW5ZClBXlJ25CPJ2U:1af049n5g; session-token={session_token}\",\n",
    "    'Origin': 'https://www.mca.gov.in',\n",
    "    }\n",
    "with open(file_path, 'rb') as file:\n",
    "    payload = {\n",
    "        'file': (file_name4, file, 'application/pdf'),\n",
    "        'folder': '',\n",
    "        'filemetadata': '{\"form\":\"AGILE PRO\",\"srn\":\"\",\"documentType\":\"Attachment\",\"module\":\"AGILE PRO\",\"userid\":\"AGILE PRO\",\"applicationId\":\"\",\"attachmentCategory\":\"pdf\",\"attachmentLabel\":\"12b_AgilePhotograph\",\"documentSubcategory\":\"NLRPS2411C\"}'\n",
    "    }\n",
    "    response = requests.post(url, headers=headers, files=payload)\n",
    "if response.status_code == 200:\n",
    "    print('File uploaded successfully')\n",
    "    print(response.text)\n",
    "else:\n",
    "    print('Failed to upload the file')"
   ]
  },
  {
   "cell_type": "code",
   "execution_count": null,
   "metadata": {},
   "outputs": [],
   "source": [
    "import requests\n",
    "\n",
    "# Define the URL and headers\n",
    "url = \"https://www.mca.gov.in/bin/mca-gov/AgileProSaveSubmit\"\n",
    "headers = {\n",
    "    \"Host\": \"www.mca.gov.in\",\n",
    "    \"Cookie\": \"cookiesession1=678B28690FE85E2F44A6F01E56B5BE61; deviceId=fgxd0i986mf; session-token=eyJhbGciOiJIUzUxMiJ9...\",\n",
    "    \"Content-Type\": \"multipart/form-data; boundary=----WebKitFormBoundaryuYwFcyvfqBsq5VfC\",\n",
    "    \"Accept\": \"*/*\",\n",
    "    \"X-Requested-With\": \"XMLHttpRequest\",\n",
    "    \"Origin\": \"https://www.mca.gov.in\",\n",
    "    \"Referer\": \"https://www.mca.gov.in/content/mca/global/en/mca/e-filing/incorporation/AgilePro.html?applicationHistory=eyJzcm4iOiJBQTM5NTYxNzgiLCJyZWZlcmVuY2UiOiIxLTEwODY4MDgxNzI1IiwicHVycG9zZSI6IiJ9\",\n",
    "    \"Accept-Encoding\": \"gzip, deflate\",\n",
    "    \"Accept-Language\": \"en-US,en;q=0.9\"\n",
    "}\n",
    "\n",
    "# Define the multipart form data\n",
    "multipart_data = {\n",
    "    \"data\": (\n",
    "        None,\n",
    "        '{\"requestBody\":{\"formData\":{\"nameOfTheCompany\":\"INNOLEGALNITI PRIVATE LIMITED\",\"applyforGSTIN\":\"N\",\"stateCode\":\"Karnataka\",\"districtCode\":\"Bangalore\",\"stateJurisdictionCode\":\" LOCAL GST Office\",\"sectorCircleWardChargeUnit\":\"LGSTO 151- Bengaluru\",\"commissionerate\":\"BENGALURU-SOUTH\",\"divisionCode\":\"SOUTH DIVISION-4\",\"rangeCode\":\"RANGE-BSD4\",\"reasontoObtainRegistration\":\"\",\"eshtablishmentOnLease\":\"N\",\"natureofPossessionofPremises\":\"Own\",\"typeOfBuildingEshtablishment\":\"Owned\",\"primaryBusinessActivities\":\"OTHERS\",\"others\":\"LEGAL TECH\",\"exactNatureofWorkBusiness\":\"Miscellaneous\",\"workSubCategory\":\"Others\",\"natureofWorkBusiness\":\"LEGAL TECH\",\"numberofDirectors\":\"2\",\"directorPAN\":\"BUTPJ7345F\",\"directorFirstName\":\"KASHVI\",\"directorMiddleName\":\"DILEEP\",\"directorLastName\":\"JAIN\",\"directorPersonalMobileNumber\":\"09481829401\",\"directorPersonalemailID\":\"kashvijain19@gmail.com\",\"directors\":[{\"pan\":\"NLRPS2411C\",\"firstname\":\"BIPUL\",\"middleName\":\"KUMAR\",\"lastName\":\"SINGH\",\"personalMobile\":\"07975735563\",\"personalEmailId\":\"bipulkumarsingh6690@gmail.com\",\"directorType\":\"Director\"}],\"designation\":\"Director\",\"din\":\"BUTPJ7345F\",\"formIntegrationId\":\"1-4ZQKPJ3\",\"formAttachment\":[{\"attachmentLabel\":\"Agile_12aPhotograph\",\"attachmentCategory\":\"Attachment\",\"activityFileName\":\"WhatsApp_Image_2023_08_09_at_8.11.41_PM__1__11zon.jpeg\",\"activityFileSrcPath\":\"178244000\",\"activityFileSrcType\":\"I\",\"activityFileExt\":\"jpeg\",\"activityFileSize\":\"95544\",\"attachmentDMSId\":\"362487807\",\"totalNoOfPages\":\"1\",\"activityFileDate\":\"09/04/2023\",\"publicDocument\":\"Y\",\"activityComments\":\"178244000:Agile_12aPhotograph:Document added successfully.\",\"folderName\":\"jHSFO193403667399\",\"folderId\":\"178244000\",\"version\":\"\",\"addedBy\":\"Fo User\",\"documentSubcategory\":\"BUTPJ7345F\"},{\"attachmentLabel\":\"Agile_SpecimenEPFO\",\"attachmentCategory\":\"Attachment\",\"activityFileName\":\"WhatsApp_Image_2023_08_19_at_12.25.32_PM.pdf\",\"activityFileSrcPath\":\"178244000\",\"activityFileSrcType\":\"I\",\"activityFileExt\":\"pdf\",\"activityFileSize\":\"29341\",\"attachmentDMSId\":\"362488229\",\"totalNoOfPages\":\"1\",\"activityFileDate\":\"09/04/2023\",\"publicDocument\":\"Y\",\"activityComments\":\"178244000:Agile_SpecimenEPFO:Document added successfully.\",\"folderName\":\"178244000\",\"folderId\":\"178244000\",\"version\":\"\",\"addedBy\":\"Fo User\",\"documentSubcategory\":\"\"},{\"attachmentLabel\":\"12b_AgilePhotograph\",\"attachmentCategory\":\"Attachment\",\"activityFileName\":\"WhatsApp_Image_2023_08_09_at_8.08.07_PM.jpeg\",\"activityFileSrcPath\":\"178244000\",\"activityFileSrcType\":\"I\",\"activityFileExt\":\"jpeg\",\"activityFileSize\":\"98115\",\"attachmentDMSId\":\"362488611\",\"totalNoOfPages\":\"1\",\"activityFileDate\":\"09/04/2023\",\"publicDocument\":\"Y\",\"activityComments\":\"178244000:12b_AgilePhotograph:Document added successfully.\",\"folderName\":\"178244000\",\"folderId\":\"178244000\",\"version\":\"\",\"addedBy\":\"Fo User\",\"documentSubcategory\":\"NLRPS2411C\"}]},\"formDescription\":\"AGILE PRO\",\"formName\":\"AGILE PRO\",\"formVersion\":\"1.0\",\"userId\":\"CASRIKANTH0224@GMAIL.COM\",\"integrationId\":\"1-4ZQKPJ1\",\"referenceNumber\":\"1-10868081725\",\"operation\":\"Save\",\"action\":\"savesubmit\"}}',\n",
    "        \"application/json\"\n",
    "    ),\n",
    "    \"action\": (None, \"SaveSubmit\"),\n",
    "    \"operation\": (None, \"Save\"),\n",
    "    \"serveAction\": (None, \"saveForm\"),\n",
    "    \"integrationId\": (None, \"145\"),\n",
    "    \"status\": (None, \"DraftPending Submission\"),\n",
    "}\n",
    "\n",
    "# Send the POST request\n",
    "response = requests.post(url, headers=headers, files=multipart_data)\n",
    "\n",
    "# Check the response\n",
    "if response.status_code == 200:\n",
    "    print(\"Request was successful.\")\n",
    "    print(\"Response content:\")\n",
    "    print(response.text)\n",
    "else:\n",
    "    print(f\"Request failed with status code {response.status_code}.\")\n"
   ]
  },
  {
   "cell_type": "code",
   "execution_count": null,
   "metadata": {},
   "outputs": [],
   "source": [
    "url = 'https://www.mca.gov.in/bin/mca/dms/addservice'\n",
    "file_path = '/home/pratik/Downloads/ln spice/Kashvi_Aadhar.pdf'\n",
    "file_name4=f\"Kashvi_Aadhar.pdf\"\n",
    "\n",
    "headers = {\n",
    "    # 'Cookie': cookie,\n",
    "    \"Cookie\": f\"cookiesession1=678B28690FE85E2F44A6F01E56B5BE61; alertPopup=true; deviceId=fgxd0i986mf; JSESSIONID=0000fj4dFIYW5ZClBXlJ25CPJ2U:1af049n5g; session-token={session_token}\",\n",
    "    'Origin': 'https://www.mca.gov.in',\n",
    "    }\n",
    "with open(file_path, 'rb') as file:\n",
    "    payload = {\n",
    "        'file': (file_name4, file, 'application/pdf'),\n",
    "        'folder': '',\n",
    "        'filemetadata': '{\"form\":\"AGILE PRO\",\"srn\":\"\",\"documentType\":\"Attachment\",\"module\":\"AGILE PRO\",\"userid\":\"AGILE PRO\",\"applicationId\":\"\",\"attachmentCategory\":\"pdf\",\"attachmentLabel\":\"Agile_ProofIdentity\"}'\n",
    "    }\n",
    "    response = requests.post(url, headers=headers, files=payload)\n",
    "if response.status_code == 200:\n",
    "    print('File uploaded successfully')\n",
    "    print(response.text)\n",
    "else:\n",
    "    print('Failed to upload the file')"
   ]
  },
  {
   "cell_type": "code",
   "execution_count": null,
   "metadata": {},
   "outputs": [],
   "source": [
    "url = 'https://www.mca.gov.in/bin/mca/dms/addservice'\n",
    "file_path = '/home/pratik/Downloads/ln spice/Kashvi_bank_statement.pdf'\n",
    "file_name4=f\"Kashvi_bank_statement.pdf\"\n",
    "\n",
    "headers = {\n",
    "    # 'Cookie': cookie,\n",
    "    \"Cookie\": f\"cookiesession1=678B28690FE85E2F44A6F01E56B5BE61; alertPopup=true; deviceId=fgxd0i986mf; JSESSIONID=0000fj4dFIYW5ZClBXlJ25CPJ2U:1af049n5g; session-token={session_token}\",\n",
    "    'Origin': 'https://www.mca.gov.in',\n",
    "    }\n",
    "with open(file_path, 'rb') as file:\n",
    "    payload = {\n",
    "        'file': (file_name4, file, 'application/pdf'),\n",
    "        'folder': '',\n",
    "        'filemetadata': '{\"form\":\"AGILE PRO\",\"srn\":\"\",\"documentType\":\"Attachment\",\"module\":\"AGILE PRO\",\"userid\":\"AGILE PRO\",\"applicationId\":\"\",\"attachmentCategory\":\"pdf\",\"attachmentLabel\":\"Agile_ProofAddress\"}'\n",
    "    }\n",
    "    response = requests.post(url, headers=headers, files=payload)\n",
    "if response.status_code == 200:\n",
    "    print('File uploaded successfully')\n",
    "    print(response.text)\n",
    "else:\n",
    "    print('Failed to upload the file')"
   ]
  },
  {
   "cell_type": "code",
   "execution_count": null,
   "metadata": {},
   "outputs": [],
   "source": [
    "import requests\n",
    "\n",
    "# Define the URL and headers\n",
    "url = \"https://www.mca.gov.in/bin/mca-gov/AgileProSaveSubmit\"\n",
    "headers = {\n",
    "    \"Host\": \"www.mca.gov.in\",\n",
    "    \"Cookie\": \"cookiesession1=678B28690FE85E2F44A6F01E56B5BE61; deviceId=fgxd0i986mf; session-token=eyJhbGciOiJIUzUxMiJ9...\",\n",
    "    \"Content-Type\": \"multipart/form-data; boundary=----WebKitFormBoundaryu7V5wAlBCL68wQAC\",\n",
    "    \"Accept\": \"*/*\",\n",
    "    \"X-Requested-With\": \"XMLHttpRequest\",\n",
    "    \"Origin\": \"https://www.mca.gov.in\",\n",
    "    \"Referer\": \"https://www.mca.gov.in/content/mca/global/en/mca/e-filing/incorporation/AgilePro.html?applicationHistory=eyJzcm4iOiJBQTM5NTYxNzgiLCJyZWZlcmVuY2UiOiIxLTEwODY4MDgxNzI1IiwicHVycG9zZSI6IiJ9\",\n",
    "    \"Accept-Encoding\": \"gzip, deflate\",\n",
    "    \"Accept-Language\": \"en-US,en;q=0.9\"\n",
    "}\n",
    "\n",
    "# Define the multipart form data\n",
    "multipart_data = {\n",
    "    \"data\": (\n",
    "        None,\n",
    "        '{\"requestBody\":{\"formData\":{\"nameOfTheCompany\":\"INNOLEGALNITI PRIVATE LIMITED\",\"applyforGSTIN\":\"N\",\"stateCode\":\"Karnataka\",\"districtCode\":\"Bangalore\",\"stateJurisdictionCode\":\" LOCAL GST Office\",\"sectorCircleWardChargeUnit\":\"LGSTO 151- Bengaluru\",\"commissionerate\":\"BENGALURU-SOUTH\",\"divisionCode\":\"SOUTH DIVISION-4\",\"rangeCode\":\"RANGE-BSD4\",\"reasontoObtainRegistration\":\"\",\"eshtablishmentOnLease\":\"N\",\"natureofPossessionofPremises\":\"Own\",\"typeOfBuildingEshtablishment\":\"Owned\",\"primaryBusinessActivities\":\"OTHERS\",\"others\":\"LEGAL TECH\",\"exactNatureofWorkBusiness\":\"Miscellaneous\",\"workSubCategory\":\"Others\",\"natureofWorkBusiness\":\"LEGAL TECH\",\"numberofDirectors\":\"2\",\"directorPAN\":\"BUTPJ7345F\",\"directorFirstName\":\"KASHVI\",\"directorMiddleName\":\"DILEEP\",\"directorLastName\":\"JAIN\",\"directorPersonalMobileNumber\":\"09481829401\",\"directorPersonalemailID\":\"kashvijain19@gmail.com\",\"directors\":[{\"pan\":\"NLRPS2411C\",\"firstname\":\"BIPUL\",\"middleName\":\"KUMAR\",\"lastName\":\"SINGH\",\"personalMobile\":\"07975735563\",\"personalEmailId\":\"bipulkumarsingh6690@gmail.com\",\"directorType\":\"Director\"}],\"policeStation\":\"Basavangudi\",\"esicOffice\":\"BO - Basavangudi\",\"inspectionDivision\":\"INS DIV - Basavangudi\",\"bankCode\":\"Axis Bank\",\"designation\":\"Director\",\"din\":\"BUTPJ7345F\",\"formIntegrationId\":\"1-4ZQKPJ3\",\"formAttachment\":[{\"attachmentLabel\":\"Agile_12aPhotograph\",\"attachmentCategory\":\"Attachment\",\"activityFileName\":\"WhatsApp_Image_2023_08_09_at_8.11.41_PM__1__11zon.jpeg\",\"activityFileSrcPath\":\"178244000\",\"activityFileSrcType\":\"I\",\"activityFileExt\":\"jpeg\",\"activityFileSize\":\"95544\",\"attachmentDMSId\":\"362487807\",\"totalNoOfPages\":\"1\",\"activityFileDate\":\"09/04/2023\",\"publicDocument\":\"Y\",\"activityComments\":\"178244000:Agile_12aPhotograph:Document added successfully.\",\"folderName\":\"jHSFO193403667399\",\"folderId\":\"178244000\",\"version\":\"\",\"addedBy\":\"Fo User\",\"documentSubcategory\":\"BUTPJ7345F\"},{\"attachmentLabel\":\"Agile_SpecimenEPFO\",\"attachmentCategory\":\"Attachment\",\"activityFileName\":\"WhatsApp_Image_2023_08_19_at_12.25.32_PM.pdf\",\"activityFileSrcPath\":\"178244000\",\"activityFileSrcType\":\"I\",\"activityFileExt\":\"pdf\",\"activityFileSize\":\"29341\",\"attachmentDMSId\":\"362488229\",\"totalNoOfPages\":\"1\",\"activityFileDate\":\"09/04/2023\",\"publicDocument\":\"Y\",\"activityComments\":\"178244000:Agile_SpecimenEPFO:Document added successfully.\",\"folderName\":\"178244000\",\"folderId\":\"178244000\",\"version\":\"\",\"addedBy\":\"Fo User\",\"documentSubcategory\":\"\"},{\"attachmentLabel\":\"12b_AgilePhotograph\",\"attachmentCategory\":\"Attachment\",\"activityFileName\":\"WhatsApp_Image_2023_08_09_at_8.08.07_PM.jpeg\",\"activityFileSrcPath\":\"178244000\",\"activityFileSrcType\":\"I\",\"activityFileExt\":\"jpeg\",\"activityFileSize\":\"98115\",\"attachmentDMSId\":\"362488611\",\"totalNoOfPages\":\"1\",\"activityFileDate\":\"09/04/2023\",\"publicDocument\":\"Y\",\"activityComments\":\"178244000:12b_AgilePhotograph:Document added successfully.\",\"folderName\":\"178244000\",\"folderId\":\"178244000\",\"version\":\"\",\"addedBy\":\"Fo User\",\"documentSubcategory\":\"NLRPS2411C\"},{\"attachmentLabel\":\"Agile_ProofIdentity\",\"attachmentCategory\":\"Attachment\",\"activityFileName\":\"Kashvi_Aadhar.pdf\",\"activityFileSrcPath\":\"178244000\",\"activityFileSrcType\":\"I\",\"activityFileExt\":\"pdf\",\"activityFileSize\":\"146699\",\"attachmentDMSId\":\"362489194\",\"totalNoOfPages\":\"2\",\"activityFileDate\":\"09/04/2023\",\"publicDocument\":\"Y\",\"activityComments\":\"178244000:Agile_ProofIdentity:Document added successfully.\",\"folderName\":\"178244000\",\"folderId\":\"178244000\",\"version\":\"\",\"addedBy\":\"Fo User\",\"documentSubcategory\":\"\"},{\"attachmentLabel\":\"Agile_ProofAddress\",\"attachmentCategory\":\"Attachment\",\"activityFileName\":\"Kashvi_bank_statement.pdf\",\"activityFileSrcPath\":\"178244000\",\"activityFileSrcType\":\"I\",\"activityFileExt\":\"pdf\",\"activityFileSize\":\"65384\",\"attachmentDMSId\":\"362489219\",\"totalNoOfPages\":\"14\",\"activityFileDate\":\"09/04/2023\",\"publicDocument\":\"Y\",\"activityComments\":\"178244000:Agile_ProofAddress:Document added successfully.\",\"folderName\":\"178244000\",\"folderId\":\"178244000\",\"version\":\"\",\"addedBy\":\"Fo User\",\"documentSubcategory\":\"\"}]},\"formDescription\":\"AGILE PRO\",\"formName\":\"AGILE PRO\",\"formVersion\":\"1.0\",\"userId\":\"CASRIKANTH0224@GMAIL.COM\",\"integrationId\":\"1-4ZQKPJ1\",\"referenceNumber\":\"1-10868081725\",\"operation\":\"Save\",\"action\":\"savesubmit\"}}',\n",
    "        \"application/json\"\n",
    "    ),\n",
    "    \"action\": (None, \"SaveSubmit\"),\n",
    "    \"operation\": (None, \"Save\"),\n",
    "    \"serveAction\": (None, \"saveForm\"),\n",
    "    \"integrationId\": (None, \"145\"),\n",
    "    \"status\": (None, \"DraftPending Submission\"),\n",
    "}\n",
    "\n",
    "# Send the POST request\n",
    "response = requests.post(url, headers=headers, files=multipart_data)\n",
    "\n",
    "# Check the response\n",
    "if response.status_code == 200:\n",
    "    print(\"Request was successful.\")\n",
    "    print(\"Response content:\")\n",
    "    print(response.text)\n",
    "else:\n",
    "    print(f\"Request failed with status code {response.status_code}.\")\n"
   ]
  },
  {
   "cell_type": "code",
   "execution_count": null,
   "metadata": {},
   "outputs": [],
   "source": []
  }
 ],
 "metadata": {
  "interpreter": {
   "hash": "31f2aee4e71d21fbe5cf8b01ff0e069b9275f58929596ceb00d14d90e3e16cd6"
  },
  "kernelspec": {
   "display_name": "Python 3.10.12 64-bit",
   "language": "python",
   "name": "python3"
  },
  "language_info": {
   "codemirror_mode": {
    "name": "ipython",
    "version": 3
   },
   "file_extension": ".py",
   "mimetype": "text/x-python",
   "name": "python",
   "nbconvert_exporter": "python",
   "pygments_lexer": "ipython3",
   "version": "3.10.12"
  },
  "orig_nbformat": 4
 },
 "nbformat": 4,
 "nbformat_minor": 2
}
