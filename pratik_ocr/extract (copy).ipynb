{
 "cells": [
  {
   "cell_type": "code",
   "execution_count": 43,
   "metadata": {},
   "outputs": [
    {
     "name": "stderr",
     "output_type": "stream",
     "text": [
      "Neither CUDA nor MPS are available - defaulting to CPU. Note: This module is much faster with a GPU.\n"
     ]
    }
   ],
   "source": [
    "import tempfile\n",
    "import easyocr\n",
    "reader = easyocr.Reader(['en'])"
   ]
  },
  {
   "cell_type": "code",
   "execution_count": 44,
   "metadata": {},
   "outputs": [],
   "source": [
    "data={\"name\":\"\",\n",
    "      \"fathers_name\":\"\",\n",
    "      \"dob\":\"\",\n",
    "      \"pan_numer\":\"\"}"
   ]
  },
  {
   "cell_type": "code",
   "execution_count": 45,
   "metadata": {},
   "outputs": [],
   "source": [
    "from ultralytics import  YOLO"
   ]
  },
  {
   "cell_type": "code",
   "execution_count": 46,
   "metadata": {},
   "outputs": [],
   "source": [
    "# model = YOLO('/runs/detect/train25/weights/best.pt') \n",
    "model = YOLO('runs/detect/train21/weights/best.pt') \n",
    "\n"
   ]
  },
  {
   "cell_type": "code",
   "execution_count": 47,
   "metadata": {},
   "outputs": [],
   "source": [
    "import cv2"
   ]
  },
  {
   "cell_type": "code",
   "execution_count": 48,
   "metadata": {},
   "outputs": [
    {
     "name": "stderr",
     "output_type": "stream",
     "text": [
      "\n",
      "Found https://legalnitiai.s3.ap-south-1.amazonaws.com/image/WhatsApp+Image+2023-08-12+at+15.50.17.jpg locally at WhatsApp+Image+2023-08-12+at+15.50.17.jpg\n",
      "image 1/1 /home/pratik/Desktop/pratik_ocr/WhatsApp+Image+2023-08-12+at+15.50.17.jpg: 416x640 1 dob, 1 father-s name, 1 name, 3 pan numbers, 173.8ms\n",
      "Speed: 4.0ms preprocess, 173.8ms inference, 2.6ms postprocess per image at shape (1, 3, 416, 640)\n",
      "Results saved to \u001b[1mruns/detect/predict39\u001b[0m\n",
      "1 label saved to runs/detect/predict39/labels\n"
     ]
    }
   ],
   "source": [
    "img_name =['WhatsApp Image 2023-07-08 at 21.09.34.jpeg']\n",
    "image_url='https://legalnitiai.s3.ap-south-1.amazonaws.com/image/WhatsApp+Image+2023-08-12+at+15.50.17.jpg'\n",
    "# image_url = 'https://legalnitiai.s3.ap-south-1.amazonaws.com/image/WhatsApp+Image+2023-08-12+at+15.51.13.jpg'\n",
    "t = model.predict(image_url, save=True, imgsz=640, conf=0.1, save_txt = True, save_conf= True,show_labels= False)"
   ]
  },
  {
   "cell_type": "code",
   "execution_count": 49,
   "metadata": {},
   "outputs": [
    {
     "data": {
      "text/plain": [
       "[ultralytics.engine.results.Results object with attributes:\n",
       " \n",
       " boxes: ultralytics.engine.results.Boxes object\n",
       " keypoints: None\n",
       " keys: ['boxes']\n",
       " masks: None\n",
       " names: {0: 'dob', 1: 'father-s name', 2: 'name', 3: 'pan number'}\n",
       " orig_img: array([[[194, 214, 225],\n",
       "         [194, 214, 225],\n",
       "         [194, 214, 225],\n",
       "         ...,\n",
       "         [173, 188, 197],\n",
       "         [173, 188, 197],\n",
       "         [173, 188, 197]],\n",
       " \n",
       "        [[194, 214, 225],\n",
       "         [194, 214, 225],\n",
       "         [194, 214, 225],\n",
       "         ...,\n",
       "         [173, 188, 197],\n",
       "         [173, 188, 197],\n",
       "         [173, 188, 197]],\n",
       " \n",
       "        [[194, 214, 225],\n",
       "         [194, 214, 225],\n",
       "         [194, 214, 225],\n",
       "         ...,\n",
       "         [172, 187, 196],\n",
       "         [173, 188, 197],\n",
       "         [173, 188, 197]],\n",
       " \n",
       "        ...,\n",
       " \n",
       "        [[193, 213, 224],\n",
       "         [193, 213, 224],\n",
       "         [193, 213, 224],\n",
       "         ...,\n",
       "         [174, 189, 198],\n",
       "         [174, 189, 198],\n",
       "         [174, 189, 198]],\n",
       " \n",
       "        [[193, 213, 224],\n",
       "         [193, 213, 224],\n",
       "         [193, 213, 224],\n",
       "         ...,\n",
       "         [174, 189, 198],\n",
       "         [174, 189, 198],\n",
       "         [174, 189, 198]],\n",
       " \n",
       "        [[193, 213, 224],\n",
       "         [193, 213, 224],\n",
       "         [193, 213, 224],\n",
       "         ...,\n",
       "         [174, 189, 198],\n",
       "         [174, 189, 198],\n",
       "         [174, 189, 198]]], dtype=uint8)\n",
       " orig_shape: (798, 1280)\n",
       " path: '/home/pratik/Desktop/pratik_ocr/WhatsApp+Image+2023-08-12+at+15.50.17.jpg'\n",
       " probs: None\n",
       " save_dir: 'runs/detect/predict39'\n",
       " speed: {'preprocess': 4.022359848022461, 'inference': 173.82097244262695, 'postprocess': 2.5718212127685547}]"
      ]
     },
     "execution_count": 49,
     "metadata": {},
     "output_type": "execute_result"
    }
   ],
   "source": [
    "t"
   ]
  },
  {
   "cell_type": "code",
   "execution_count": 50,
   "metadata": {},
   "outputs": [],
   "source": [
    "img_path = []\n",
    "label_path = []\n",
    "img_paths=[]\n",
    "label_paths=[]\n",
    "\n",
    "# Assuming you have a single URL for the image\n",
    "# img_url = \"https://example.com/image.jpg\"\n",
    "\n",
    "# Extract the image name from the URL\n",
    "img_name = image_url.split('/')[-1]\n",
    "\n",
    "for pred in t:\n",
    "    labels = pred.names  # Assuming `names` is a list of class labels\n",
    "    \n",
    "    img_path = pred.save_dir + '/' + img_name\n",
    "    label_path = pred.save_dir + '/labels/' + '.'.join(img_name.split('.')[:-1]) + '.txt'\n",
    "    \n",
    "    img_paths.append(img_path)\n",
    "    label_paths.append(label_path)\n"
   ]
  },
  {
   "cell_type": "code",
   "execution_count": 51,
   "metadata": {},
   "outputs": [
    {
     "data": {
      "text/plain": [
       "['runs/detect/predict39/labels/WhatsApp+Image+2023-08-12+at+15.50.17.txt']"
      ]
     },
     "execution_count": 51,
     "metadata": {},
     "output_type": "execute_result"
    }
   ],
   "source": [
    "label_paths"
   ]
  },
  {
   "cell_type": "code",
   "execution_count": 52,
   "metadata": {},
   "outputs": [],
   "source": [
    "import matplotlib.pyplot as plt\n",
    "from PIL import Image "
   ]
  },
  {
   "cell_type": "code",
   "execution_count": 53,
   "metadata": {},
   "outputs": [],
   "source": [
    "import urllib"
   ]
  },
  {
   "cell_type": "code",
   "execution_count": 54,
   "metadata": {},
   "outputs": [],
   "source": [
    "import urllib.request,io"
   ]
  },
  {
   "cell_type": "code",
   "execution_count": 55,
   "metadata": {},
   "outputs": [],
   "source": [
    "path = io.BytesIO(urllib.request.urlopen(image_url).read())"
   ]
  },
  {
   "cell_type": "code",
   "execution_count": 56,
   "metadata": {},
   "outputs": [],
   "source": [
    "bg=Image.open(path)"
   ]
  },
  {
   "cell_type": "code",
   "execution_count": 134,
   "metadata": {},
   "outputs": [
    {
     "data": {
      "image/png": "[encoded data removed]",
      "text/plain": [
       "<Figure size 640x480 with 4 Axes>"
      ]
     },
     "metadata": {},
     "output_type": "display_data"
    }
   ],
   "source": [
    "detect_list = []\n",
    "for x in range(len(img_paths)):\n",
    "    with  open(label_paths[x],'r') as file:\n",
    "        label = file.readlines()\n",
    "    img = Image.open(path)\n",
    "    # img.show()\n",
    "    height  = img.height\n",
    "    width = img.width\n",
    "    detect_dict = {}\n",
    "    for i in label:\n",
    "        value = [float(a) for a in i.split()]\n",
    "        sw = int(width * float(value[1] - value[3]/2))\n",
    "        ew = int(width * float(value[1] + value[3]/2))\n",
    "        sh = int(height * float(value[2] - value[4]/2))\n",
    "        eh = int(height * float(value[2] + value[4]/2))\n",
    "        if labels[int(value[0])] not in detect_dict:\n",
    "            detect_dict[labels[int(value[0])]]=[[img.crop((sw, sh, ew, eh)),value[5]]]\n",
    "        else:\n",
    "            detect_dict[labels[int(value[0])]].append([img.crop((sw, sh, ew, eh)),value[5]])\n",
    "        # img.crop((sw, sh, ew, eh)).show()\n",
    "    l = len(detect_dict)\n",
    "    i = 0\n",
    "    for x,j in detect_dict.items():\n",
    "        plt.subplot(1,l,i+1)\n",
    "        plt.imshow(j[0][0])\n",
    "        plt.title(x)\n",
    "        i +=1\n",
    "    detect_list.append(detect_dict)\n",
    "    plt.show()"
   ]
  },
  {
   "cell_type": "code",
   "execution_count": 135,
   "metadata": {},
   "outputs": [
    {
     "data": {
      "text/plain": [
       "[{'name': [[<PIL.Image.Image image mode=RGB size=337x76>, 0.914259]],\n",
       "  'pan number': [[<PIL.Image.Image image mode=RGB size=512x110>, 0.909069],\n",
       "   [<PIL.Image.Image image mode=RGB size=214x85>, 0.600133],\n",
       "   [<PIL.Image.Image image mode=RGB size=225x103>, 0.129328]],\n",
       "  'father-s name': [[<PIL.Image.Image image mode=RGB size=454x85>, 0.883481]],\n",
       "  'dob': [[<PIL.Image.Image image mode=RGB size=214x42>, 0.782347]]}]"
      ]
     },
     "execution_count": 135,
     "metadata": {},
     "output_type": "execute_result"
    }
   ],
   "source": [
    "detect_list"
   ]
  },
  {
   "cell_type": "code",
   "execution_count": 136,
   "metadata": {},
   "outputs": [
    {
     "data": {
      "text/plain": [
       "PIL.Image.Image"
      ]
     },
     "execution_count": 136,
     "metadata": {},
     "output_type": "execute_result"
    }
   ],
   "source": [
    "type(detect_list[0]['name'][0][0])"
   ]
  },
  {
   "cell_type": "code",
   "execution_count": 137,
   "metadata": {},
   "outputs": [
    {
     "data": {
      "text/plain": [
       "[{'name': [[<PIL.Image.Image image mode=RGB size=337x76>, 0.914259]],\n",
       "  'pan number': [[<PIL.Image.Image image mode=RGB size=512x110>, 0.909069],\n",
       "   [<PIL.Image.Image image mode=RGB size=214x85>, 0.600133],\n",
       "   [<PIL.Image.Image image mode=RGB size=225x103>, 0.129328]],\n",
       "  'father-s name': [[<PIL.Image.Image image mode=RGB size=454x85>, 0.883481]],\n",
       "  'dob': [[<PIL.Image.Image image mode=RGB size=214x42>, 0.782347]]}]"
      ]
     },
     "execution_count": 137,
     "metadata": {},
     "output_type": "execute_result"
    }
   ],
   "source": [
    "detect_list"
   ]
  },
  {
   "cell_type": "code",
   "execution_count": 138,
   "metadata": {},
   "outputs": [],
   "source": [
    "detect_list1=[x.copy() for x in detect_list]"
   ]
  },
  {
   "cell_type": "code",
   "execution_count": 139,
   "metadata": {},
   "outputs": [],
   "source": [
    "\n",
    "for f,i in enumerate(detect_list):\n",
    "    for x,y in i.items():\n",
    "        tl = []\n",
    "        highest_confidence = 0.0\n",
    "        best_result = \"\"\n",
    "        for t in y:\n",
    "            \n",
    "            temp_image_path = tempfile.NamedTemporaryFile(suffix='.jpg').name\n",
    "            # print(temp_image_path)\n",
    "            t[0].save(temp_image_path, format='JPEG')\n",
    "            # temp_image_path\n",
    "            results = reader.readtext(temp_image_path)\n",
    "\n",
    "            for detection in results:\n",
    "                text = detection[1]\n",
    "                confidence = t[1]  # Confidence score\n",
    "                \n",
    "            if confidence > highest_confidence:\n",
    "                highest_confidence = confidence\n",
    "                best_result = text\n",
    "            tl = [best_result,confidence]\n",
    "        detect_list1[f][x] = tl"
   ]
  },
  {
   "cell_type": "code",
   "execution_count": 140,
   "metadata": {},
   "outputs": [
    {
     "data": {
      "text/plain": [
       "[{'name': ['AAYUSHI SINGH', 0.914259],\n",
       "  'pan number': ['NNKPSiZ7SK', 0.129328],\n",
       "  'father-s name': ['SUNIL KUMAR SINGH', 0.883481],\n",
       "  'dob': ['11/10/2000', 0.782347]}]"
      ]
     },
     "execution_count": 140,
     "metadata": {},
     "output_type": "execute_result"
    }
   ],
   "source": [
    "detect_list1"
   ]
  }
 ],
 "metadata": {
  "interpreter": {
   "hash": "31f2aee4e71d21fbe5cf8b01ff0e069b9275f58929596ceb00d14d90e3e16cd6"
  },
  "kernelspec": {
   "display_name": "Python 3.10.6 64-bit",
   "language": "python",
   "name": "python3"
  },
  "language_info": {
   "codemirror_mode": {
    "name": "ipython",
    "version": 3
   },
   "file_extension": ".py",
   "mimetype": "text/x-python",
   "name": "python",
   "nbconvert_exporter": "python",
   "pygments_lexer": "ipython3",
   "version": "3.10.6"
  },
  "orig_nbformat": 4
 },
 "nbformat": 4,
 "nbformat_minor": 2
}
