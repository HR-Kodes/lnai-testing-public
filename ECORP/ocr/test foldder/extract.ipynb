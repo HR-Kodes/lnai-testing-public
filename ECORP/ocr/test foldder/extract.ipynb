{
 "cells": [
  {
   "cell_type": "code",
   "execution_count": 1,
   "metadata": {},
   "outputs": [
    {
     "name": "stdout",
     "output_type": "stream",
     "text": [
      "Defaulting to user installation because normal site-packages is not writeable\n",
      "Collecting ultralytics\n",
      "  Downloading ultralytics-8.0.153-py3-none-any.whl (617 kB)\n",
      "\u001b[2K     \u001b[90m━━━━━━━━━━━━━━━━━━━━━━━━━━━━━━━━━━━━━\u001b[0m \u001b[32m617.5/617.5 KB\u001b[0m \u001b[31m961.1 kB/s\u001b[0m eta \u001b[36m0:00:00\u001b[0m00:01\u001b[0m00:01\u001b[0m\n",
      "\u001b[?25hRequirement already satisfied: torchvision>=0.9.0 in /home/pratik/.local/lib/python3.10/site-packages (from ultralytics) (0.15.2+cpu)\n",
      "Requirement already satisfied: numpy>=1.22.2 in /home/pratik/.local/lib/python3.10/site-packages (from ultralytics) (1.24.3)\n",
      "Requirement already satisfied: psutil in /home/pratik/.local/lib/python3.10/site-packages (from ultralytics) (5.9.5)\n",
      "Collecting tqdm>=4.64.0\n",
      "  Downloading tqdm-4.66.1-py3-none-any.whl (78 kB)\n",
      "\u001b[2K     \u001b[90m━━━━━━━━━━━━━━━━━━━━━━━━━━━━━━━━━━━━━━━━\u001b[0m \u001b[32m78.3/78.3 KB\u001b[0m \u001b[31m11.5 MB/s\u001b[0m eta \u001b[36m0:00:00\u001b[0m\n",
      "\u001b[?25hRequirement already satisfied: pandas>=1.1.4 in /home/pratik/.local/lib/python3.10/site-packages (from ultralytics) (2.0.3)\n",
      "Requirement already satisfied: matplotlib>=3.2.2 in /home/pratik/.local/lib/python3.10/site-packages (from ultralytics) (3.7.2)\n",
      "Requirement already satisfied: opencv-python>=4.6.0 in /home/pratik/.local/lib/python3.10/site-packages (from ultralytics) (4.8.0.74)\n",
      "Collecting py-cpuinfo\n",
      "  Downloading py_cpuinfo-9.0.0-py3-none-any.whl (22 kB)\n",
      "Requirement already satisfied: pillow>=7.1.2 in /home/pratik/.local/lib/python3.10/site-packages (from ultralytics) (9.5.0)\n",
      "Collecting scipy>=1.4.1\n",
      "  Downloading scipy-1.11.1-cp310-cp310-manylinux_2_17_x86_64.manylinux2014_x86_64.whl (36.3 MB)\n",
      "\u001b[2K     \u001b[90m━━━━━━━━━━━━━━━━━━━━━━━━━━━━━━━━━━━━━━━━\u001b[0m \u001b[32m36.3/36.3 MB\u001b[0m \u001b[31m18.5 MB/s\u001b[0m eta \u001b[36m0:00:00\u001b[0m00:01\u001b[0m00:01\u001b[0m\n",
      "\u001b[?25hCollecting seaborn>=0.11.0\n",
      "  Downloading seaborn-0.12.2-py3-none-any.whl (293 kB)\n",
      "\u001b[2K     \u001b[90m━━━━━━━━━━━━━━━━━━━━━━━━━━━━━━━━━━━━━━\u001b[0m \u001b[32m293.3/293.3 KB\u001b[0m \u001b[31m17.6 MB/s\u001b[0m eta \u001b[36m0:00:00\u001b[0m\n",
      "\u001b[?25hRequirement already satisfied: torch>=1.8.0 in /home/pratik/.local/lib/python3.10/site-packages (from ultralytics) (2.0.1)\n",
      "Collecting requests>=2.23.0\n",
      "  Using cached requests-2.31.0-py3-none-any.whl (62 kB)\n",
      "Requirement already satisfied: pyyaml>=5.3.1 in /home/pratik/.local/lib/python3.10/site-packages (from ultralytics) (6.0.1)\n",
      "Requirement already satisfied: python-dateutil>=2.7 in /home/pratik/.local/lib/python3.10/site-packages (from matplotlib>=3.2.2->ultralytics) (2.8.2)\n",
      "Requirement already satisfied: pyparsing<3.1,>=2.3.1 in /usr/lib/python3/dist-packages (from matplotlib>=3.2.2->ultralytics) (2.4.7)\n",
      "Requirement already satisfied: cycler>=0.10 in /home/pratik/.local/lib/python3.10/site-packages (from matplotlib>=3.2.2->ultralytics) (0.11.0)\n",
      "Requirement already satisfied: fonttools>=4.22.0 in /home/pratik/.local/lib/python3.10/site-packages (from matplotlib>=3.2.2->ultralytics) (4.42.0)\n",
      "Requirement already satisfied: contourpy>=1.0.1 in /home/pratik/.local/lib/python3.10/site-packages (from matplotlib>=3.2.2->ultralytics) (1.1.0)\n",
      "Requirement already satisfied: kiwisolver>=1.0.1 in /home/pratik/.local/lib/python3.10/site-packages (from matplotlib>=3.2.2->ultralytics) (1.4.4)\n",
      "Requirement already satisfied: packaging>=20.0 in /home/pratik/.local/lib/python3.10/site-packages (from matplotlib>=3.2.2->ultralytics) (23.1)\n",
      "Requirement already satisfied: pytz>=2020.1 in /usr/lib/python3/dist-packages (from pandas>=1.1.4->ultralytics) (2022.1)\n",
      "Requirement already satisfied: tzdata>=2022.1 in /home/pratik/.local/lib/python3.10/site-packages (from pandas>=1.1.4->ultralytics) (2023.3)\n",
      "Requirement already satisfied: charset-normalizer<4,>=2 in /home/pratik/.local/lib/python3.10/site-packages (from requests>=2.23.0->ultralytics) (3.2.0)\n",
      "Requirement already satisfied: idna<4,>=2.5 in /home/pratik/.local/lib/python3.10/site-packages (from requests>=2.23.0->ultralytics) (2.8)\n",
      "Requirement already satisfied: certifi>=2017.4.17 in /home/pratik/.local/lib/python3.10/site-packages (from requests>=2.23.0->ultralytics) (2023.7.22)\n",
      "Requirement already satisfied: urllib3<3,>=1.21.1 in /home/pratik/.local/lib/python3.10/site-packages (from requests>=2.23.0->ultralytics) (1.25.11)\n",
      "Requirement already satisfied: nvidia-cuda-nvrtc-cu11==11.7.99 in /home/pratik/.local/lib/python3.10/site-packages (from torch>=1.8.0->ultralytics) (11.7.99)\n",
      "Requirement already satisfied: jinja2 in /home/pratik/.local/lib/python3.10/site-packages (from torch>=1.8.0->ultralytics) (3.1.2)\n",
      "Requirement already satisfied: nvidia-nvtx-cu11==11.7.91 in /home/pratik/.local/lib/python3.10/site-packages (from torch>=1.8.0->ultralytics) (11.7.91)\n",
      "Requirement already satisfied: nvidia-cuda-cupti-cu11==11.7.101 in /home/pratik/.local/lib/python3.10/site-packages (from torch>=1.8.0->ultralytics) (11.7.101)\n",
      "Requirement already satisfied: sympy in /home/pratik/.local/lib/python3.10/site-packages (from torch>=1.8.0->ultralytics) (1.12)\n",
      "Requirement already satisfied: nvidia-cufft-cu11==10.9.0.58 in /home/pratik/.local/lib/python3.10/site-packages (from torch>=1.8.0->ultralytics) (10.9.0.58)\n",
      "Requirement already satisfied: nvidia-cuda-runtime-cu11==11.7.99 in /home/pratik/.local/lib/python3.10/site-packages (from torch>=1.8.0->ultralytics) (11.7.99)\n",
      "Requirement already satisfied: nvidia-curand-cu11==10.2.10.91 in /home/pratik/.local/lib/python3.10/site-packages (from torch>=1.8.0->ultralytics) (10.2.10.91)\n",
      "Requirement already satisfied: typing-extensions in /home/pratik/.local/lib/python3.10/site-packages (from torch>=1.8.0->ultralytics) (4.5.0)\n",
      "Requirement already satisfied: nvidia-cusolver-cu11==11.4.0.1 in /home/pratik/.local/lib/python3.10/site-packages (from torch>=1.8.0->ultralytics) (11.4.0.1)\n",
      "Requirement already satisfied: nvidia-cusparse-cu11==11.7.4.91 in /home/pratik/.local/lib/python3.10/site-packages (from torch>=1.8.0->ultralytics) (11.7.4.91)\n",
      "Requirement already satisfied: filelock in /home/pratik/.local/lib/python3.10/site-packages (from torch>=1.8.0->ultralytics) (3.12.2)\n",
      "Requirement already satisfied: nvidia-cublas-cu11==11.10.3.66 in /home/pratik/.local/lib/python3.10/site-packages (from torch>=1.8.0->ultralytics) (11.10.3.66)\n",
      "Requirement already satisfied: nvidia-cudnn-cu11==8.5.0.96 in /home/pratik/.local/lib/python3.10/site-packages (from torch>=1.8.0->ultralytics) (8.5.0.96)\n",
      "Requirement already satisfied: networkx in /home/pratik/.local/lib/python3.10/site-packages (from torch>=1.8.0->ultralytics) (3.1)\n",
      "Requirement already satisfied: triton==2.0.0 in /home/pratik/.local/lib/python3.10/site-packages (from torch>=1.8.0->ultralytics) (2.0.0)\n",
      "Requirement already satisfied: nvidia-nccl-cu11==2.14.3 in /home/pratik/.local/lib/python3.10/site-packages (from torch>=1.8.0->ultralytics) (2.14.3)\n",
      "Requirement already satisfied: setuptools in /home/pratik/.local/lib/python3.10/site-packages (from nvidia-cublas-cu11==11.10.3.66->torch>=1.8.0->ultralytics) (41.0.1)\n",
      "Requirement already satisfied: wheel in /usr/lib/python3/dist-packages (from nvidia-cublas-cu11==11.10.3.66->torch>=1.8.0->ultralytics) (0.37.1)\n",
      "Requirement already satisfied: lit in /home/pratik/.local/lib/python3.10/site-packages (from triton==2.0.0->torch>=1.8.0->ultralytics) (16.0.6)\n",
      "Requirement already satisfied: cmake in /home/pratik/.local/lib/python3.10/site-packages (from triton==2.0.0->torch>=1.8.0->ultralytics) (3.27.0)\n",
      "Requirement already satisfied: six>=1.5 in /home/pratik/.local/lib/python3.10/site-packages (from python-dateutil>=2.7->matplotlib>=3.2.2->ultralytics) (1.16.0)\n",
      "Requirement already satisfied: MarkupSafe>=2.0 in /home/pratik/.local/lib/python3.10/site-packages (from jinja2->torch>=1.8.0->ultralytics) (2.1.3)\n",
      "Requirement already satisfied: mpmath>=0.19 in /home/pratik/.local/lib/python3.10/site-packages (from sympy->torch>=1.8.0->ultralytics) (1.3.0)\n",
      "Installing collected packages: py-cpuinfo, tqdm, scipy, requests, seaborn, ultralytics\n",
      "  Attempting uninstall: tqdm\n",
      "    Found existing installation: tqdm 4.36.1\n",
      "    Uninstalling tqdm-4.36.1:\n",
      "      Successfully uninstalled tqdm-4.36.1\n",
      "  Attempting uninstall: requests\n",
      "    Found existing installation: requests 2.22.0\n",
      "    Uninstalling requests-2.22.0:\n",
      "      Successfully uninstalled requests-2.22.0\n",
      "\u001b[31mERROR: pip's dependency resolver does not currently take into account all the packages that are installed. This behaviour is the source of the following dependency conflicts.\n",
      "nanonets 2.0.5 requires requests==2.22.0, but you have requests 2.31.0 which is incompatible.\n",
      "nanonets 2.0.5 requires tqdm==4.36.1, but you have tqdm 4.66.1 which is incompatible.\u001b[0m\u001b[31m\n",
      "\u001b[0mSuccessfully installed py-cpuinfo-9.0.0 requests-2.31.0 scipy-1.11.1 seaborn-0.12.2 tqdm-4.66.1 ultralytics-8.0.153\n"
     ]
    }
   ],
   "source": [
    "!pip install ultralytics"
   ]
  },
  {
   "cell_type": "code",
   "execution_count": null,
   "metadata": {},
   "outputs": [],
   "source": []
  },
  {
   "cell_type": "code",
   "execution_count": 6,
   "metadata": {},
   "outputs": [],
   "source": [
    "t=!yolo predict model=\"yolov7.pt\" source=\"293220200512410422000150_id.jpeg\" save_txt=True save_conf=True"
   ]
  },
  {
   "cell_type": "code",
   "execution_count": 7,
   "metadata": {},
   "outputs": [
    {
     "data": {
      "text/plain": [
       "['Traceback (most recent call last):',\n",
       " '  File \"/home/pratik/.local/lib/python3.10/site-packages/ultralytics/nn/tasks.py\", line 563, in torch_safe_load',\n",
       " \"    return torch.load(file, map_location='cpu'), file  # load\",\n",
       " '  File \"/home/pratik/.local/lib/python3.10/site-packages/torch/serialization.py\", line 809, in load',\n",
       " '    return _load(opened_zipfile, map_location, pickle_module, **pickle_load_args)',\n",
       " '  File \"/home/pratik/.local/lib/python3.10/site-packages/torch/serialization.py\", line 1172, in _load',\n",
       " '    result = unpickler.load()',\n",
       " '  File \"/home/pratik/.local/lib/python3.10/site-packages/torch/serialization.py\", line 1165, in find_class',\n",
       " '    return super().find_class(mod_name, name)',\n",
       " \"ModuleNotFoundError: No module named 'models'\",\n",
       " '',\n",
       " 'The above exception was the direct cause of the following exception:',\n",
       " '',\n",
       " 'Traceback (most recent call last):',\n",
       " '  File \"/home/pratik/.local/bin/yolo\", line 8, in <module>',\n",
       " '    sys.exit(entrypoint())',\n",
       " '  File \"/home/pratik/.local/lib/python3.10/site-packages/ultralytics/cfg/__init__.py\", line 405, in entrypoint',\n",
       " '    model = YOLO(model, task=task)',\n",
       " '  File \"/home/pratik/.local/lib/python3.10/site-packages/ultralytics/engine/model.py\", line 94, in __init__',\n",
       " '    self._load(model, task)',\n",
       " '  File \"/home/pratik/.local/lib/python3.10/site-packages/ultralytics/engine/model.py\", line 140, in _load',\n",
       " '    self.model, self.ckpt = attempt_load_one_weight(weights)',\n",
       " '  File \"/home/pratik/.local/lib/python3.10/site-packages/ultralytics/nn/tasks.py\", line 624, in attempt_load_one_weight',\n",
       " '    ckpt, weight = torch_safe_load(weight)  # load ckpt',\n",
       " '  File \"/home/pratik/.local/lib/python3.10/site-packages/ultralytics/nn/tasks.py\", line 567, in torch_safe_load',\n",
       " '    raise TypeError(',\n",
       " 'TypeError: ERROR ❌️ yolov7.pt appears to be an Ultralytics YOLOv5 model originally trained with https://github.com/ultralytics/yolov5.',\n",
       " 'This model is NOT forwards compatible with YOLOv8 at https://github.com/ultralytics/ultralytics.',\n",
       " \"Recommend fixes are to train a new model using the latest 'ultralytics' package or to run a command with an official YOLOv8 model, i.e. 'yolo predict model=yolov8n.pt'\"]"
      ]
     },
     "execution_count": 7,
     "metadata": {},
     "output_type": "execute_result"
    }
   ],
   "source": [
    "t"
   ]
  },
  {
   "cell_type": "code",
   "execution_count": 245,
   "metadata": {},
   "outputs": [
    {
     "name": "stdout",
     "output_type": "stream",
     "text": [
      "d:\\ECORP\\ocr\\test foldder\\aa.jpeg\n"
     ]
    }
   ],
   "source": [
    "import re\n",
    "match = re.search(r'd:\\\\([^:]+)', t[-4])\n",
    "\n",
    "if match:\n",
    "    img_path = match.group(0)\n",
    "    print(img_path)\n",
    "else:\n",
    "    print(\"File path not found in the string.\")"
   ]
  },
  {
   "cell_type": "code",
   "execution_count": 246,
   "metadata": {},
   "outputs": [],
   "source": [
    "img_name=img_path.split('\\\\')[-1]"
   ]
  },
  {
   "cell_type": "code",
   "execution_count": 247,
   "metadata": {},
   "outputs": [
    {
     "data": {
      "text/plain": [
       "'aa.jpeg'"
      ]
     },
     "execution_count": 247,
     "metadata": {},
     "output_type": "execute_result"
    }
   ],
   "source": [
    "img_name"
   ]
  },
  {
   "cell_type": "code",
   "execution_count": 257,
   "metadata": {},
   "outputs": [
    {
     "name": "stdout",
     "output_type": "stream",
     "text": [
      "C:\\Users\\golup\\runs\\detect\\predict10\\aa.jpeg\n",
      "C:\\Users\\golup\\runs\\detect\\predict11\\labels\\aa.txt\n"
     ]
    }
   ],
   "source": [
    "label_path=t[-1].split()[-1]\n",
    "tmp=label_path.split('\\\\')[:-1]\n",
    "img_path = '\\\\'.join(tmp) + '\\\\' + img_name\n",
    "print(joined_path)\n",
    "label_path1 = label_path + '\\\\'+img_name.split('.')[0]+'.txt'\n",
    "# tmp1=label_path.split('\\\\')\n",
    "# label_path1='\\\\'.join(tmp1)\n",
    "print(label_path1)"
   ]
  },
  {
   "cell_type": "code",
   "execution_count": 249,
   "metadata": {},
   "outputs": [
    {
     "data": {
      "text/plain": [
       "'C:\\\\Users\\\\golup\\\\runs\\\\detect\\\\predict11\\\\labels'"
      ]
     },
     "execution_count": 249,
     "metadata": {},
     "output_type": "execute_result"
    }
   ],
   "source": [
    "updated_path = label_path.replace('\\\\\\\\', '\\\\')\n",
    "updated_path"
   ]
  },
  {
   "cell_type": "code",
   "execution_count": 258,
   "metadata": {},
   "outputs": [],
   "source": [
    "# img_path = t[-2].split()[-1]\n",
    "# tmp = img_path.split('\\\\')\n",
    "# dim = len(tmp)\n",
    "# label_path = ''\n",
    "# for i,j in enumerate(tmp):\n",
    "#     if i == 0:\n",
    "#         label_path = label_path + j\n",
    "#     elif i == dim-2:\n",
    "#         label_path = label_path + '\\\\' + j + '\\\\labels'\n",
    "#     elif i == dim-1:\n",
    "#         label_path = label_path + '\\\\' + j.split('.')[0] + '.txt'\n",
    "#     else:\n",
    "#         label_path = label_path + '\\\\' + j\n",
    "\n",
    "\n",
    "with  open(label_path1,'r') as file:\n",
    "    labels = file.readlines()\n",
    "img = Image.open(img_path)\n",
    "img.show()\n",
    "height  = img.height\n",
    "width = img.width\n",
    "detect_list = []\n",
    "for i in labels:\n",
    "    value = [float(a) for a in i.split()]\n",
    "    left_x = int(width * float(value[1] - value[3]/2))\n",
    "    right_x = int(width * float(value[1] + value[3]/2))\n",
    "    left_y = int(height * float(value[2] - value[4]/2))\n",
    "    right_y = int(height * float(value[2] + value[4]/2))\n",
    "    # print(value)\n",
    "    detect_list.append([img.crop((left_x, left_y, right_x, right_y)), value[5], left_x, right_x, left_y, right_y, int(value[0])])\n",
    "\n",
    "lables = ['aadhar no','address','dob','father','gender','name','photo']"
   ]
  },
  {
   "cell_type": "code",
   "execution_count": 198,
   "metadata": {},
   "outputs": [],
   "source": [
    "import pytesseract\n",
    "import tempfile\n",
    "import os\n",
    "from nanonets import NANONETSOCR"
   ]
  },
  {
   "cell_type": "code",
   "execution_count": null,
   "metadata": {},
   "outputs": [],
   "source": [
    "dir_loc = tempfile.mkdtemp()\n",
    "model=NANONETSOCR()\n",
    "model.set_token('3edab03f-18ab-11ee-b7d0-86364e72d134')"
   ]
  },
  {
   "cell_type": "code",
   "execution_count": 127,
   "metadata": {},
   "outputs": [],
   "source": [
    "from PIL import Image \n",
    "\n",
    "t = !python detect.py --conf 0.1 --source \"img.jpeg\" --view-img --no-trace --save-txt --name plates --project extraction --save-conf --weights \"C:\\Users\\golup\\Downloads\\best (6) (1).pt\"\n"
   ]
  },
  {
   "cell_type": "code",
   "execution_count": null,
   "metadata": {},
   "outputs": [],
   "source": [
    "t"
   ]
  },
  {
   "cell_type": "code",
   "execution_count": null,
   "metadata": {},
   "outputs": [],
   "source": [
    "img_path = t[-2].split()[-1]\n",
    "tmp = img_path.split('\\\\')\n",
    "dim = len(tmp)\n",
    "label_path = ''\n",
    "for i,j in enumerate(tmp):\n",
    "    if i == 0:\n",
    "        label_path = label_path + j\n",
    "    elif i == dim-2:\n",
    "        label_path = label_path + '\\\\' + j + '\\\\labels'\n",
    "    elif i == dim-1:\n",
    "        label_path = label_path + '\\\\' + j.split('.')[0] + '.txt'\n",
    "    else:\n",
    "        label_path = label_path + '\\\\' + j\n",
    "\n",
    "\n",
    "with  open(label_path,'r') as file:\n",
    "    labels = file.readlines()\n",
    "img = Image.open(img_path)\n",
    "# img.show()\n",
    "height  = img.height\n",
    "width = img.width\n",
    "detect_list = []\n",
    "for i in labels:\n",
    "    value = [float(a) for a in i.split()]\n",
    "    left_x = int(width * float(value[1] - value[3]/2))\n",
    "    right_x = int(width * float(value[1] + value[3]/2))\n",
    "    left_y = int(height * float(value[2] - value[4]/2))\n",
    "    right_y = int(height * float(value[2] + value[4]/2))\n",
    "    detect_list.append([img.crop((left_x, left_y, right_x, right_y)),value[5],left_x,right_x,left_y,right_y,int(value[0])])\n",
    "\n",
    "lables = ['aadhar no','address','dob','father','gender','name','photo']\n"
   ]
  },
  {
   "cell_type": "code",
   "execution_count": 259,
   "metadata": {},
   "outputs": [
    {
     "data": {
      "image/png": "[encoded data removed]",
      "text/plain": [
       "<Figure size 640x480 with 4 Axes>"
      ]
     },
     "metadata": {},
     "output_type": "display_data"
    }
   ],
   "source": [
    "# import matplotlib.pyplot as plt\n",
    "for i,j in enumerate(detect_list):\n",
    "    plt.subplot(1,len(detect_list),i+1)\n",
    "    plt.imshow(j[0])\n",
    "    plt.title(f'{lables[j[-1]]}')\n",
    "\n",
    "plt.show()"
   ]
  },
  {
   "cell_type": "code",
   "execution_count": 99,
   "metadata": {},
   "outputs": [],
   "source": [
    "\n",
    "detect_list1 = {}\n",
    "for i in detect_list:\n",
    "    img_na = dir_loc+'\\\\'+lables[i[-1]]+'.jpg'\n",
    "    i[0].save(img_na)\n",
    "    detect_list1[lables[i[-1]]] = [img_na]"
   ]
  },
  {
   "cell_type": "code",
   "execution_count": 100,
   "metadata": {},
   "outputs": [
    {
     "data": {
      "text/plain": [
       "['C:\\\\Users\\\\golup\\\\AppData\\\\Local\\\\Temp\\\\tmpr3i6gvpy\\\\pan.jpg']"
      ]
     },
     "execution_count": 100,
     "metadata": {},
     "output_type": "execute_result"
    }
   ],
   "source": [
    "detect_list1.pop('pan')"
   ]
  },
  {
   "cell_type": "code",
   "execution_count": 101,
   "metadata": {},
   "outputs": [],
   "source": [
    "for i in detect_list1.keys():\n",
    "\tdetect_list1[i] =model.convert_to_string(detect_list1[i][0])"
   ]
  },
  {
   "cell_type": "code",
   "execution_count": 103,
   "metadata": {},
   "outputs": [
    {
     "data": {
      "text/plain": [
       "{'father_name': '20/10/1994',\n",
       " 'pan_no': 'BMTPC1606C',\n",
       " 'name': 'ANJALI CHOUDHAR'}"
      ]
     },
     "execution_count": 103,
     "metadata": {},
     "output_type": "execute_result"
    }
   ],
   "source": [
    "detect_list1"
   ]
  },
  {
   "cell_type": "code",
   "execution_count": null,
   "metadata": {},
   "outputs": [],
   "source": []
  }
 ],
 "metadata": {
  "interpreter": {
   "hash": "916dbcbb3f70747c44a77c7bcd40155683ae19c65e1c03b4aa3499c5328201f1"
  },
  "kernelspec": {
   "display_name": "Python 3.10.6 64-bit",
   "language": "python",
   "name": "python3"
  },
  "language_info": {
   "codemirror_mode": {
    "name": "ipython",
    "version": 3
   },
   "file_extension": ".py",
   "mimetype": "text/x-python",
   "name": "python",
   "nbconvert_exporter": "python",
   "pygments_lexer": "ipython3",
   "version": "3.10.6"
  },
  "orig_nbformat": 4
 },
 "nbformat": 4,
 "nbformat_minor": 2
}
