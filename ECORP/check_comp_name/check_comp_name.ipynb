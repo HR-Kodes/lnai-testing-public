{
 "cells": [
  {
   "cell_type": "code",
   "execution_count": 34,
   "metadata": {},
   "outputs": [],
   "source": [
    "# c_name='FORALLTECHNOLOGIES SCIENCES PRIVATE LIMITED'\n",
    "c_name='LEGALNITIAISOLUTIONS PRIVATE LIMITED'"
   ]
  },
  {
   "cell_type": "code",
   "execution_count": 35,
   "metadata": {},
   "outputs": [],
   "source": [
    "import requests\n",
    "import json\n",
    "url = \"https://www.mca.gov.in/bin/mca/login\"\n",
    "\n",
    "headers = {\n",
    "    \"Origin\": \"www.mca.gov.in\",\n",
    "    \"Content-Length\": \"231\",\n",
    "    \"User-Agent\": \"Mozilla/5.0 (Windows NT 10.0; Win64; x64) AppleWebKit/537.36 (KHTML, like Gecko) Chrome/113.0.5672.127 Safari/537.36\",\n",
    "    \"Content-Type\": \"application/x-www-form-urlencoded; charset=UTF-8\",\n",
    "    \"Accept\": \"*/*\",\n",
    "    \"X-Requested-With\": \"XMLHttpRequest\",\n",
    "    \"Sec-Ch-Ua-Platform\": \"Windows\"\n",
    "}\n",
    "\n",
    "data = \"data=Ut8pBOc0RSM6iYqffqN1orWH0Ee6A57QEKGmyHa5KnuzzybQ%2BjY2pMJIsLZw9DznTxfJeWvJFEcqsU2aZC33AC2nYaU60TNo8VjomCHN2dDSdHEC2enwIeEWCNR42vj7gfXFsvEwLfoO25%2BUKeho6%2B3l%2FkhEucDAzA4XeVNg0dhlBlgG95nyBiwYk3XhQoJtHSgqcb%2FI8MCyxN9h1unz%2Fw%3D%3D\"\n",
    "\n",
    "response = requests.post(url, headers=headers, data=data)\n",
    "\n",
    "\n",
    "\n",
    "set_cookie_value = response.headers.get('Set-Cookie')\n",
    "\n",
    "start_index = set_cookie_value.find(\"session-token=\") + len(\"session-token=\")\n",
    "end_index = set_cookie_value.find(\";\", start_index)\n",
    "session_token = set_cookie_value[start_index:end_index]"
   ]
  },
  {
   "cell_type": "code",
   "execution_count": 36,
   "metadata": {},
   "outputs": [],
   "source": [
    "import urllib.parse\n",
    "\n",
    "formData = \"%7B%22formData%22%3A%7B%22companyType%22%3A%22New+Company+(Others)%22%2C%22companyClass%22%3A%22Private%22%2C%22companyCategory%22%3A%22Company+limited+by+shares%22%2C%22companySubCategory%22%3A%22Non-government+company%22%2C%22proposedName1%22%3A%22DUMBMET+PRIVATE+LIMITED%22%2C%22NICCode1%22%3A%2298200%22%2C%22Description1%22%3A%22Undifferentiated+service-producing+activities+of+private+households+for+own+use%22%2C%22NICCode2%22%3A%2298100%22%2C%22Description2%22%3A%22Undifferentiated+goods-producing+activities+of+private+households+for+own+use%22%2C%22formIntegrationId%22%3A%221%22%2C%22continueFlag%22%3A%22N%22%2C%22LLPIN%22%3A%22%22%2C%22NICCode3%22%3A%22%22%2C%22Description3%22%3A%22%22%2C%22proposedName2%22%3A%22%22%7D%2C%22formDescription%22%3A%22SPICE+PART+A%22%2C%22formName%22%3A%22Spice%2B+Part+A%22%2C%22formVersion%22%3A%221%22%2C%22userId%22%3A%22BIPULKUMARSINGH6690%40GMAIL.COM%22%2C%22integrationId%22%3A%221%22%2C%22prefill%22%3A%22false%22%2C%22status%22%3A%22Draft%2FPending+Submission%22%2C%22operation%22%3A%22Save%22%2C%22referenceNumber%22%3A%22%22%2C%22srn%22%3A%22%22%2C%22formId%22%3A%22%22%2C%22Approvedname%22%3A%22%22%2C%22serveAction%22%3A%22autocheck%22%7D\"\n",
    "\n",
    "# Manually parse the data\n",
    "decoded_data = urllib.parse.unquote_plus(formData,encoding='utf-8')\n",
    "data_start = decoded_data.find('{')\n",
    "\n",
    "data_end = decoded_data.rfind('}') + 1\n",
    "data_str = decoded_data[data_start:data_end]\n",
    "data = eval(data_str)\n",
    "data['formData']['proposedName1']=c_name\n",
    "encoded_data = urllib.parse.quote_plus(json.dumps(data), encoding='utf-8').replace('%20', '').replace('%28','(').replace('%29',')').replace('+%','%')\n"
   ]
  },
  {
   "cell_type": "code",
   "execution_count": 37,
   "metadata": {},
   "outputs": [
    {
     "data": {
      "text/plain": [
       "'{\"message\":\"Auto check Completed\",\"data\":{\"SRN\":\"\",\"ReferenceNumber\":\"1-10324678491\",\"SubmittedDate\":\"\",\"integrationId\":\"1-4QR1OWR\",\"formIntegrationId\":\"1-4QR1OWT\",\"srnStatus\":\"\",\"formType\":\"\",\"srNumber\":\"\"},\"validationResponse\":{\"submissionRestricted\":\"false\",\"validationresposeBody\":[{\"proposedName1\":\"LEGALNITIAISOLUTIONS PRIVATE LIMITED\",\"alertCategory\":\"foWMUC0217\",\"alertDescription\":\"\",\"alertType\":\"Info\"},{\"alertType\":\"\",\"alertDescription\":\"\",\"alertCategory\":\"\"},{\"alertType\":\"\",\"alertDescription\":\"\",\"alertCategory\":\"\"},{\"alertType\":\"\",\"alertDescription\":\"\",\"alertCategory\":\"\"},{\"alertType\":\"\",\"alertDescription\":\"\",\"alertCategory\":\"\"},{\"alertType\":\"\",\"alertDescription\":\"\",\"alertCategory\":\"\"}]},\"alertInfo\":[],\"alertWarn\":[],\"alertError\":[],\"errorTab\":[{\"proposedName1\":\"LEGALNITIAISOLUTIONS PRIVATE LIMITED\",\"alertCategory\":\"foWMUC0217\",\"alertDescription\":\"\",\"alertType\":\"Info\"}],\"supportDataTab\":[],\"supportDataTrademark\":[]}'"
      ]
     },
     "execution_count": 37,
     "metadata": {},
     "output_type": "execute_result"
    }
   ],
   "source": [
    "import requests\n",
    "\n",
    "url = \"https://www.mca.gov.in/bin/mca-gov/newSpiceA\"\n",
    "\n",
    "headers = {\n",
    "    \"Host\": \"www.mca.gov.in\",\n",
    "    \"Cookie\": f\"cookiesession1=678B28695C218253C321286001478935; alertPopup=true; session-token={session_token}; deviceId=1uytaas0tlbi\",\n",
    "    \"Content-Length\": \"1208\",\n",
    "    \"Sec-Ch-Ua\": \"\",\n",
    "    \"Sec-Ch-Ua-Mobile\": \"?0\",\n",
    "    \"User-Agent\": \"Mozilla/5.0 (Windows NT 10.0; Win64; x64) AppleWebKit/537.36 (KHTML, like Gecko) Chrome/114.0.5735.91 Safari/537.36\",\n",
    "    \"Content-Type\": \"application/x-www-form-urlencoded; charset=UTF-8\",\n",
    "    \"Accept\": \"*/*\",\n",
    "    \"Csrf-Token\": \"undefined\",\n",
    "    \"X-Requested-With\": \"XMLHttpRequestmcamca\",\n",
    "    \"Sec-Ch-Ua-Platform\": \"\\\"\\\"\",\n",
    "    \"Origin\": \"https://www.mca.gov.in\",\n",
    "    \"Sec-Fetch-Site\": \"same-origin\",\n",
    "    \"Sec-Fetch-Mode\": \"cors\",\n",
    "    \"Sec-Fetch-Dest\": \"empty\",\n",
    "    \"Referer\": \"https://www.mca.gov.in/content/mca/global/en/mca/e-filing/incorporation/spice.html\",\n",
    "    \"Accept-Encoding\": \"gzip, deflate\",\n",
    "    \"Accept-Language\": \"en-GB,en-US;q=0.9,en;q=0.8\"\n",
    "}\n",
    "\n",
    "\n",
    "payload=f\"formData={encoded_data}\"\n",
    "response = requests.post(url, headers=headers, data=payload)\n",
    "response.text"
   ]
  },
  {
   "cell_type": "code",
   "execution_count": 23,
   "metadata": {},
   "outputs": [],
   "source": [
    "response_dict=json.loads(response.text)\n",
    "formIntegrationId=response_dict['data']['formIntegrationId']\n",
    "integrationId=response_dict['data']['integrationId']\n",
    "ReferenceNumber=response_dict['data']['ReferenceNumber']\n",
    "payload4=r'''{\"requestBody\":{\"formData\":{\"companyType\":\"New Company (Others)\",\"companyClass\":\"Private\",\"companyCategory\":\"Company limited by shares\",\"companySubCategory\":\"Non-government company\",\"proposedName1\":\"DBMBETTNNBBTXX PRIVATE LIMITED\",\"NICCode1\":\"98200\",\"Description1\":\"Undifferentiated service-producing activities of private households for own use\",\"NICCode2\":\"98100\",\"Description2\":\"Undifferentiated goods-producing activities of private households for own use\",\"formIntegrationId\":\"1-48JSN72\",\"continueFlag\":\"Y\",\"LLPIN\":\"\",\"NICCode3\":\"\",\"Description3\":\"\",\"proposedName2\":\"\"},\"formDescription\":\"SPICE PART A\",\"formName\":\"Spice+ Part A\",\"formVersion\":\"1\",\"userId\":\"BIPULKUMARSINGH6690@GMAIL.COM\",\"integrationId\":\"1-48JSN70\",\"referenceNumber\":\"1-9224203987\",\"prefill\":\"false\",\"status\":\"Draft/Pending Submission\",\"operation\":\"\",\"srn\":\"\",\"formId\":\"\",\"Approvedname\":\"\",\"formAttachment\":[]}}'''\n",
    "payload4_json=json.loads(payload4)\n",
    "payload4_json['requestBody']['integrationId']=integrationId\n",
    "payload4_json['requestBody']['formData']['formIntegrationId']=formIntegrationId\n",
    "payload4_json['requestBody']['formData']['proposedName1']=c_name\n",
    "payload4_json['requestBody']['approvedName']=c_name\n",
    "payload4_json['requestBody']['referenceNumber']=ReferenceNumber\n",
    "payload4_json=json.dumps(payload4_json)"
   ]
  },
  {
   "cell_type": "code",
   "execution_count": 24,
   "metadata": {},
   "outputs": [],
   "source": [
    "autocheckdata='''%7B%22reason%22%3A%22%22%2C%22approvalDate%22%3A%22%22%2C%22purpose%22%3A%22Default%22%2C%22accountType%22%3A%22%22%2C%22prefill%22%3A%22false%22%2C%22integrationId%22%3A%221-48JUPCJ%22%2C%22mcaRSUBFlag%22%3A%22N%22%2C%22expiryDate%22%3A%22%22%2C%22lastUpdatedDate%22%3A%22%22%2C%22MCAFillingDate%22%3A%2206%2F09%2F2023%22%2C%22approvedName%22%3A%22BHOLU+PRIVATE+LIMITED%22%2C%22formData%22%3A%7B%22companyType%22%3A%22New+Company+(Others)%22%2C%22NICCode2%22%3A%2252291%22%2C%22NICCode1%22%3A%2279120%22%2C%22CIN%22%3A%22%22%2C%22companyCategory%22%3A%22Company+limited+by+shares%22%2C%22proposedNameRating1%22%3A%22%22%2C%22proposedNameRating2%22%3A%22%22%2C%22Description2%22%3A%22Activities+of+travel+agents+and+tour+operators%22%2C%22Description1%22%3A%22Tour+operator+activities%22%2C%22companyClass%22%3A%22Private%22%2C%22formIntegrationId%22%3A%221-48JUPCL%22%2C%22companySubCategory%22%3A%22Non-government+company%22%2C%22proposedName1%22%3A%22GOTURN+PRIVATE+LIMITED%22%2C%22continueFlag%22%3A%22N%22%2C%22LLPIN%22%3A%22%22%2C%22NICCode3%22%3A%22%22%2C%22Description3%22%3A%22%22%2C%22proposedName2%22%3A%22%22%7D%2C%22status%22%3A%22Draft%2FPending+Submission%22%2C%22eventDate%22%3A%22%22%2C%22formDescription%22%3A%22SPICE+PART+A%22%2C%22formName%22%3A%22Spice%2B+Part+A%22%2C%22formVersion%22%3A%221%22%2C%22userId%22%3A%22BIPULKUMARSINGH6690%40GMAIL.COM%22%2C%22referenceNumber%22%3A%221-9224203987%22%2C%22operation%22%3A%22Save%22%2C%22srn%22%3A%22%22%2C%22formId%22%3A%22%22%2C%22Approvedname%22%3A%22%22%2C%22serveAction%22%3A%22autocheck%22%7D'''\n",
    "\n",
    "decoded_data = urllib.parse.unquote_plus(autocheckdata,encoding='utf-8')\n",
    "data_start = decoded_data.find('{')\n",
    "\n",
    "data_end = decoded_data.rfind('}') + 1\n",
    "data_str = decoded_data[data_start:data_end]\n",
    "data = eval(data_str)\n",
    "data['Approvedname']=c_name\n",
    "data['formData']['proposedName1']=c_name\n",
    "encoded_data = urllib.parse.quote_plus(json.dumps(data), encoding='utf-8').replace('%20', '').replace('%28','(').replace('%29',')').replace('+%','%')\n"
   ]
  },
  {
   "cell_type": "code",
   "execution_count": 38,
   "metadata": {},
   "outputs": [
    {
     "name": "stdout",
     "output_type": "stream",
     "text": [
      "True\n"
     ]
    }
   ],
   "source": [
    "import requests\n",
    "import urllib.parse\n",
    "import json\n",
    "\n",
    "def check_alert_descriptions(c_name, session_token):\n",
    "    url = 'https://www.mca.gov.in/bin/mca-gov/newSpiceA'\n",
    "    headers = {\n",
    "        'Host': 'www.mca.gov.in',\n",
    "        'Cookie': f\"cookiesession1=678B28695C218253C321286001478935; alertPopup=true; session-token={session_token}\",\n",
    "        'Sec-Ch-Ua': '',\n",
    "        'Sec-Ch-Ua-Mobile': '?0',\n",
    "        'User-Agent': 'Mozilla/5.0 (Windows NT 10.0; Win64; x64) AppleWebKit/537.36 (KHTML, like Gecko) Chrome/114.0.5735.110 Safari/537.36',\n",
    "        'Content-Type': 'application/x-www-form-urlencoded; charset=UTF-8',\n",
    "        'Accept': '*/*',\n",
    "        'Csrf-Token': 'undefined',\n",
    "        'X-Requested-With': 'XMLHttpRequest',\n",
    "        'Sec-Ch-Ua-Platform': '',\n",
    "        'Origin': 'https://www.mca.gov.in',\n",
    "        'Sec-Fetch-Site': 'same-origin',\n",
    "        'Sec-Fetch-Mode': 'cors',\n",
    "        'Sec-Fetch-Dest': 'empty',\n",
    "        'Referer': 'https://www.mca.gov.in/content/mca/global/en/mca/e-filing/incorporation/spice.html?applicationHistory=eyJzcm4iOiIiLCJyZWZlcmVuY2UiOiIxLTkyMjQyMDM5ODciLCJwdXJwb3NlIjoiRGVmYXVsdCJ9',\n",
    "        'Accept-Encoding': 'gzip, deflate',\n",
    "        'Accept-Language': 'en-US,en;q=0.9'\n",
    "    }\n",
    "\n",
    "    data['Approvedname']=c_name\n",
    "    data['formData']['proposedName1']=c_name\n",
    "\n",
    "    \n",
    "    def has_empty_alert(name):\n",
    "        data['Approvedname'] = name\n",
    "        data['formData']['proposedName1'] = name\n",
    "\n",
    "        encoded_data = urllib.parse.quote_plus(json.dumps(data), encoding='utf-8').replace('%20', '').replace('%28','(').replace('%29',')').replace('+%','%')\n",
    "        payload_data = f\"formData={encoded_data}\"\n",
    "        response = requests.post(url, headers=headers, data=payload_data)\n",
    "        result = response.json()\n",
    "        alert_list = result['validationResponse']['validationresposeBody']\n",
    "        all_empty = all(not item['alertDescription'] for item in alert_list)\n",
    "\t\t\n",
    "        return all_empty\n",
    "\n",
    "    if has_empty_alert(c_name):\n",
    "    \treturn True\n",
    "    else:\n",
    "        return False\n",
    "                \n",
    "\n",
    "empty_alert_names = check_alert_descriptions(c_name, session_token)\n",
    "\n",
    "print(empty_alert_names)"
   ]
  },
  {
   "cell_type": "code",
   "execution_count": null,
   "metadata": {},
   "outputs": [],
   "source": []
  },
  {
   "cell_type": "code",
   "execution_count": null,
   "metadata": {},
   "outputs": [],
   "source": []
  },
  {
   "cell_type": "code",
   "execution_count": null,
   "metadata": {},
   "outputs": [],
   "source": []
  }
 ],
 "metadata": {
  "interpreter": {
   "hash": "916dbcbb3f70747c44a77c7bcd40155683ae19c65e1c03b4aa3499c5328201f1"
  },
  "kernelspec": {
   "display_name": "Python 3.10.6 64-bit",
   "language": "python",
   "name": "python3"
  },
  "language_info": {
   "codemirror_mode": {
    "name": "ipython",
    "version": 3
   },
   "file_extension": ".py",
   "mimetype": "text/x-python",
   "name": "python",
   "nbconvert_exporter": "python",
   "pygments_lexer": "ipython3",
   "version": "3.10.6"
  },
  "orig_nbformat": 4
 },
 "nbformat": 4,
 "nbformat_minor": 2
}
