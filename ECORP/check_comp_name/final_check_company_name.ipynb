{
 "cells": [
  {
   "cell_type": "code",
   "execution_count": 4,
   "metadata": {},
   "outputs": [],
   "source": [
    "# c_name='FORALLTECHNOLOGIES SCIENCES PRIVATE LIMITED'\n",
    "c_name='LEGALNITIAISOLUTIONS PRIVATE LIMITED'"
   ]
  },
  {
   "cell_type": "code",
   "execution_count": 5,
   "metadata": {},
   "outputs": [],
   "source": [
    "import requests\n",
    "import json\n",
    "url = \"https://www.mca.gov.in/bin/mca/login\"\n",
    "\n",
    "headers = {\n",
    "    \"Origin\": \"www.mca.gov.in\",\n",
    "    \"Content-Length\": \"231\",\n",
    "    \"User-Agent\": \"Mozilla/5.0 (Windows NT 10.0; Win64; x64) AppleWebKit/537.36 (KHTML, like Gecko) Chrome/113.0.5672.127 Safari/537.36\",\n",
    "    \"Content-Type\": \"application/x-www-form-urlencoded; charset=UTF-8\",\n",
    "    \"Accept\": \"*/*\",\n",
    "    \"X-Requested-With\": \"XMLHttpRequest\",\n",
    "    \"Sec-Ch-Ua-Platform\": \"Windows\"\n",
    "}\n",
    "data = \"data=Ut8pBOc0RSM6iYqffqN1orWH0Ee6A57QEKGmyHa5KnuzzybQ%2BjY2pMJIsLZw9DznTxfJeWvJFEcqsU2aZC33ABxdnX1vQI08BNLAfdFcxaBKXp34%2BM%2BNsTWWf6i0ZZgvHSx43nNtUWzIKy4h2QbDiAMGtAz9f02zrir4%2FyFnV4GQ%2ByBBUt9hu%2F4oNXEAM4veAwOS%2B1yNt9lrmoh50BSIGg%3D%3D\"\n",
    "response = requests.post(url, headers=headers, data=data)\n",
    "\n",
    "\n",
    "\n",
    "set_cookie_value = response.headers.get('Set-Cookie')\n",
    "\n",
    "start_index = set_cookie_value.find(\"session-token=\") + len(\"session-token=\")\n",
    "end_index = set_cookie_value.find(\";\", start_index)\n",
    "session_token = set_cookie_value[start_index:end_index]"
   ]
  },
  {
   "cell_type": "code",
   "execution_count": 6,
   "metadata": {},
   "outputs": [],
   "source": [
    "import urllib.parse\n"
   ]
  },
  {
   "cell_type": "code",
   "execution_count": 7,
   "metadata": {},
   "outputs": [],
   "source": [
    "import requests\n",
    "def check_company_name(c_name):\n",
    "        \n",
    "    formData = \"%7B%22formData%22%3A%7B%22companyType%22%3A%22New+Company+(Others)%22%2C%22companyClass%22%3A%22Private%22%2C%22companyCategory%22%3A%22Company+limited+by+shares%22%2C%22companySubCategory%22%3A%22Non-government+company%22%2C%22proposedName1%22%3A%22DUMBMET+PRIVATE+LIMITED%22%2C%22NICCode1%22%3A%2298200%22%2C%22Description1%22%3A%22Undifferentiated+service-producing+activities+of+private+households+for+own+use%22%2C%22NICCode2%22%3A%2298100%22%2C%22Description2%22%3A%22Undifferentiated+goods-producing+activities+of+private+households+for+own+use%22%2C%22formIntegrationId%22%3A%221%22%2C%22continueFlag%22%3A%22N%22%2C%22LLPIN%22%3A%22%22%2C%22NICCode3%22%3A%22%22%2C%22Description3%22%3A%22%22%2C%22proposedName2%22%3A%22%22%7D%2C%22formDescription%22%3A%22SPICE+PART+A%22%2C%22formName%22%3A%22Spice%2B+Part+A%22%2C%22formVersion%22%3A%221%22%2C%22userId%22%3A%22BIPULKUMARSINGH6690%40GMAIL.COM%22%2C%22integrationId%22%3A%221%22%2C%22prefill%22%3A%22false%22%2C%22status%22%3A%22Draft%2FPending+Submission%22%2C%22operation%22%3A%22Save%22%2C%22referenceNumber%22%3A%22%22%2C%22srn%22%3A%22%22%2C%22formId%22%3A%22%22%2C%22Approvedname%22%3A%22%22%2C%22serveAction%22%3A%22autocheck%22%7D\"\n",
    "\n",
    "    # Manually parse the data\n",
    "    decoded_data = urllib.parse.unquote_plus(formData,encoding='utf-8')\n",
    "    data_start = decoded_data.find('{')\n",
    "\n",
    "    data_end = decoded_data.rfind('}') + 1\n",
    "    data_str = decoded_data[data_start:data_end]\n",
    "    data = eval(data_str)\n",
    "    data['formData']['proposedName1']=c_name\n",
    "    encoded_data = urllib.parse.quote_plus(json.dumps(data), encoding='utf-8').replace('%20', '').replace('%28','(').replace('%29',')').replace('+%','%')\n",
    "\n",
    "    url = \"https://www.mca.gov.in/bin/mca-gov/newSpiceA\"\n",
    "\n",
    "    headers = {\n",
    "        \"Host\": \"www.mca.gov.in\",\n",
    "        \"Cookie\": f\"cookiesession1=678B28695C218253C321286001478935; alertPopup=true; session-token={session_token}; deviceId=1uytaas0tlbi\",\n",
    "        \"Content-Type\": \"application/x-www-form-urlencoded; charset=UTF-8\",\n",
    "        \"Origin\": \"https://www.mca.gov.in\",\n",
    "        \"Referer\": \"https://www.mca.gov.in/content/mca/global/en/mca/e-filing/incorporation/spice.html\",\n",
    "        }\n",
    "\n",
    "\n",
    "    payload=f\"formData={encoded_data}\"\n",
    "    response = requests.post(url, headers=headers, data=payload)\n",
    "    result = response.json()\n",
    "    alert_list = result['validationResponse']['validationresposeBody']\n",
    "    all_empty = all(not item['alertDescription'] for item in alert_list)\n",
    "    if all_empty:\n",
    "        print(f\"{c_name} is available.\")\n",
    "    else:\n",
    "        print(f\"{c_name} is not available.\")\n"
   ]
  },
  {
   "cell_type": "code",
   "execution_count": 8,
   "metadata": {},
   "outputs": [
    {
     "name": "stdout",
     "output_type": "stream",
     "text": [
      "LEGALNITIAISOLUTIONS PRIVATE LIMITED is available.\n"
     ]
    }
   ],
   "source": [
    "check_company_name(c_name)"
   ]
  },
  {
   "cell_type": "code",
   "execution_count": null,
   "metadata": {},
   "outputs": [],
   "source": []
  }
 ],
 "metadata": {
  "interpreter": {
   "hash": "916dbcbb3f70747c44a77c7bcd40155683ae19c65e1c03b4aa3499c5328201f1"
  },
  "kernelspec": {
   "display_name": "Python 3.10.12 64-bit",
   "language": "python",
   "name": "python3"
  },
  "language_info": {
   "codemirror_mode": {
    "name": "ipython",
    "version": 3
   },
   "file_extension": ".py",
   "mimetype": "text/x-python",
   "name": "python",
   "nbconvert_exporter": "python",
   "pygments_lexer": "ipython3",
   "version": "3.10.12"
  },
  "orig_nbformat": 4
 },
 "nbformat": 4,
 "nbformat_minor": 2
}
