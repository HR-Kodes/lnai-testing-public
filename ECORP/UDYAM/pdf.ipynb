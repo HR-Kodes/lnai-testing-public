{
 "cells": [
  {
   "cell_type": "code",
   "execution_count": 4,
   "metadata": {},
   "outputs": [
    {
     "name": "stderr",
     "output_type": "stream",
     "text": [
      "/tmp/ipykernel_19484/4168426209.py:6: UserWarning: Substituting font arial by core font helvetica\n",
      "  self.set_font('Arial', 'B', 12)\n",
      "/tmp/ipykernel_19484/4168426209.py:7: DeprecationWarning: The parameter \"ln\" is deprecated. Instead of ln=1 use new_x=XPos.LMARGIN, new_y=YPos.NEXT.\n",
      "  self.cell(0, 10, 'JSON to PDF', 0, 1, 'C')\n",
      "/tmp/ipykernel_19484/4168426209.py:10: UserWarning: Substituting font arial by core font helvetica\n",
      "  self.set_font('Arial', 'B', 12)\n",
      "/tmp/ipykernel_19484/4168426209.py:11: DeprecationWarning: The parameter \"ln\" is deprecated. Instead of ln=1 use new_x=XPos.LMARGIN, new_y=YPos.NEXT.\n",
      "  self.cell(0, 10, title, 0, 1, 'L')\n",
      "/tmp/ipykernel_19484/4168426209.py:15: UserWarning: Substituting font arial by core font helvetica\n",
      "  self.set_font('Arial', '', 12)\n"
     ]
    }
   ],
   "source": [
    "import json\n",
    "from fpdf import FPDF\n",
    "\n",
    "class PDF(FPDF):\n",
    "    def header(self):\n",
    "        self.set_font('Arial', 'B', 12)\n",
    "        self.cell(0, 10, 'JSON to PDF', 0, 1, 'C')\n",
    "\n",
    "    def chapter_title(self, title):\n",
    "        self.set_font('Arial', 'B', 12)\n",
    "        self.cell(0, 10, title, 0, 1, 'L')\n",
    "        self.ln(10)\n",
    "\n",
    "    def chapter_body(self, body):\n",
    "        self.set_font('Arial', '', 12)\n",
    "        self.multi_cell(0, 10, body)\n",
    "        self.ln()\n",
    "\n",
    "def json_to_pdf(input_file, output_file):\n",
    "    pdf = PDF()\n",
    "    pdf.add_page()\n",
    "\n",
    "    # Read the JSON file\n",
    "    with open(input_file, 'r') as json_file:\n",
    "        data = json.load(json_file)\n",
    "\n",
    "    pdf.chapter_title('JSON Data')\n",
    "    json_data = json.dumps(data, indent=4)\n",
    "    pdf.chapter_body(json_data)\n",
    "\n",
    "    pdf.output(output_file)\n",
    "\n",
    "if __name__ == '__main__':\n",
    "    input_file = 'a1.json'  # Replace with your input JSON file path\n",
    "    output_file = 'output.pdf'  # Replace with your desired output PDF file path\n",
    "    json_to_pdf(input_file, output_file)\n"
   ]
  },
  {
   "cell_type": "code",
   "execution_count": 3,
   "metadata": {},
   "outputs": [
    {
     "name": "stdout",
     "output_type": "stream",
     "text": [
      "Defaulting to user installation because normal site-packages is not writeable\n",
      "Collecting fpdf2\n",
      "  Downloading fpdf2-2.7.5-py2.py3-none-any.whl (173 kB)\n",
      "\u001b[2K     \u001b[38;2;114;156;31m━━━━━━━━━━━━━━━━━━━━━━━━━━━━━━━━━━━━━\u001b[0m \u001b[32m173.1/173.1 KB\u001b[0m \u001b[31m652.8 kB/s\u001b[0m eta \u001b[36m0:00:00\u001b[0m kB/s\u001b[0m eta \u001b[36m0:00:01\u001b[0m:01\u001b[0m\n",
      "\u001b[?25hRequirement already satisfied: fonttools>=4.34.0 in /home/pratik/.local/lib/python3.10/site-packages (from fpdf2) (4.42.0)\n",
      "Requirement already satisfied: Pillow!=9.2.*,>=6.2.2 in /home/pratik/.local/lib/python3.10/site-packages (from fpdf2) (9.5.0)\n",
      "Requirement already satisfied: defusedxml in /home/pratik/.local/lib/python3.10/site-packages (from fpdf2) (0.7.1)\n",
      "Installing collected packages: fpdf2\n",
      "Successfully installed fpdf2-2.7.5\n",
      "Note: you may need to restart the kernel to use updated packages.\n"
     ]
    }
   ],
   "source": [
    "pip install fpdf2\n"
   ]
  }
 ],
 "metadata": {
  "interpreter": {
   "hash": "916dbcbb3f70747c44a77c7bcd40155683ae19c65e1c03b4aa3499c5328201f1"
  },
  "kernelspec": {
   "display_name": "Python 3.10.12 64-bit",
   "language": "python",
   "name": "python3"
  },
  "language_info": {
   "codemirror_mode": {
    "name": "ipython",
    "version": 3
   },
   "file_extension": ".py",
   "mimetype": "text/x-python",
   "name": "python",
   "nbconvert_exporter": "python",
   "pygments_lexer": "ipython3",
   "version": "3.10.12"
  },
  "orig_nbformat": 4
 },
 "nbformat": 4,
 "nbformat_minor": 2
}
