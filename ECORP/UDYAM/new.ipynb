{
 "cells": [
  {
   "cell_type": "code",
   "execution_count": 178,
   "metadata": {},
   "outputs": [],
   "source": [
    "import requests\n",
    "import json\n",
    "from bs4 import BeautifulSoup\n",
    "from requests_toolbelt.multipart.encoder import MultipartEncoder\n",
    "import re\n",
    "\n"
   ]
  },
  {
   "cell_type": "code",
   "execution_count": 179,
   "metadata": {},
   "outputs": [],
   "source": [
    "def retrieve(html_content):\n",
    "    soup = BeautifulSoup(html_content, 'html.parser')\n",
    "    lines = html_content.split('\\n')\n",
    "    pattern = r'\\|([^|]+)'\n",
    "    matches = re.findall(pattern, html_content)\n",
    "    viewstate_value = None\n",
    "    viewstategenerator_value = None\n",
    "    eventvalidation_value = None\n",
    "\n",
    "    # Iterate through the matches\n",
    "    for i in range(len(matches)):\n",
    "        if matches[i] == '__VIEWSTATE':\n",
    "            viewstate_value = matches[i + 1]\n",
    "        elif matches[i] == '__VIEWSTATEGENERATOR':\n",
    "            viewstategenerator_value = matches[i + 1]\n",
    "        elif matches[i] == '__EVENTVALIDATION':\n",
    "            eventvalidation_value = matches[i + 1]\n",
    "\n",
    "    # Print the extracted values\n",
    "    print('ViewState:', viewstate_value)\n",
    "    print('ViewStateGenerator:', viewstategenerator_value)\n",
    "    print('EventValidation:', eventvalidation_value)\n",
    "    return viewstate_value,viewstateGEN_value,eventvalidation_value"
   ]
  },
  {
   "cell_type": "code",
   "execution_count": 180,
   "metadata": {},
   "outputs": [],
   "source": [
    "url=\"https://udyamregistration.gov.in/UdyamRegistration.aspx\"\n",
    "response=requests.post(url)\n",
    "sessionId=response.headers['set-cookie'].split(';')[0]"
   ]
  },
  {
   "cell_type": "code",
   "execution_count": 181,
   "metadata": {},
   "outputs": [
    {
     "name": "stdout",
     "output_type": "stream",
     "text": [
      "VIEWSTATE value: 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\n",
      "VIEWSTATEGEN value: 5419473E\n",
      "EVENTVALIDATION value: KhYUu6I77YmazGRYmX0cqpl5gO1udis1CTO7yvM9Cl/Hk5jDzwj4aZ1c7kbBXMnfC6DpbAmN9uan2gvYGTUMBg9dMQYR0/Xt1Gp+mx8tQ5/kYFjI8FQfXmNYIf8wRCRaVQN1/EKy3bWBinosGOu+KnprojVxhHFfhK+Hf4VGQbaAHvEEM/WUl+wEl/0leRVPcisaNA==\n"
     ]
    }
   ],
   "source": [
    "html_content=response.text\n",
    "soup = BeautifulSoup(html_content, 'html.parser')\n",
    "if viewstate_input := soup.find('input', {'id': '__VIEWSTATE'}):\n",
    "    viewstate_value = viewstate_input.get('value')\n",
    "    print(\"VIEWSTATE value:\", viewstate_value)\n",
    "else:\n",
    "    print(\"__VIEWSTATE input not found in the HTML\")\n",
    "if viewstateGEN_input := soup.find('input', {'id': '__VIEWSTATEGENERATOR'}):\n",
    "    viewstateGEN_value = viewstateGEN_input.get('value')\n",
    "    print(\"VIEWSTATEGEN value:\", viewstateGEN_value)\n",
    "else:\n",
    "    print(\"__VIEWSTATE input not found in the HTML\")\n",
    "if EVENTVALIDATION_input := soup.find('input', {'id': '__EVENTVALIDATION'}):\n",
    "    EVENTVALIDATION_value = EVENTVALIDATION_input.get('value')\n",
    "    print(\"EVENTVALIDATION value:\", EVENTVALIDATION_value)\n",
    "else:\n",
    "    print(\"__VIEWSTATE input not found in the HTML\")"
   ]
  },
  {
   "cell_type": "code",
   "execution_count": 182,
   "metadata": {},
   "outputs": [],
   "source": [
    "data={\n",
    "    \"ctl00$sm\":\"ctl00$ContentPlaceHolder1$UpdatePaneldd1|ctl00$ContentPlaceHolder1$btnValidateAadhaar\",\n",
    "    \"__EVENTTARGET\":\"\",\n",
    "    \"__EVENTARGUMENT\":\"\",\n",
    "    \"__VIEWSTATE\":viewstate_value,\n",
    "    \"__VIEWSTATEGENERATOR\":viewstateGEN_value,\n",
    "    \"__VIEWSTATEENCRYPTED\":\"\",\n",
    "    \"__EVENTVALIDATION\":EVENTVALIDATION_value,\n",
    "    \"cmbMoreFunction\":\"0\",\n",
    "    \"ctl00$ContentPlaceHolder1$txtadharno\":\"456640096331\",\n",
    "    \"ctl00$ContentPlaceHolder1$txtownername\":\"Pratik Agarwal\",\n",
    "    \"ctl00$ContentPlaceHolder1$chkDecarationA\":\"on\",\n",
    "    \"__ASYNCPOST\":\"true\",\n",
    "    \"ctl00$ContentPlaceHolder1$btnValidateAadhaar\":\"Validate & Generate OTP\"\n",
    "}"
   ]
  },
  {
   "cell_type": "code",
   "execution_count": 183,
   "metadata": {},
   "outputs": [],
   "source": [
    "headers={\"Cookie\":sessionId,\n",
    "             \"Referer\": \"https://udyamregistration.gov.in/UdyamRegistration.aspx\",\n",
    "                 \"Content-Type\": \"multipart/form-data\",\n",
    "    \"Origin\": \"https://udyamregistration.gov.in\",\n",
    "    \"User-Agent\": \"Mozilla/5.0 (Windows NT 10.0; Win64; x64) AppleWebKit/537.36 (KHTML, like Gecko) Chrome/116.0.5845.141 Safari/537.36\"\n",
    "}"
   ]
  },
  {
   "cell_type": "code",
   "execution_count": 184,
   "metadata": {},
   "outputs": [],
   "source": [
    "multipart_data = MultipartEncoder(fields=data)\n",
    "headers[\"Content-Type\"] = multipart_data.content_type\n",
    "response = requests.post(url, headers=headers, data=(multipart_data))\n"
   ]
  },
  {
   "cell_type": "code",
   "execution_count": 185,
   "metadata": {},
   "outputs": [
    {
     "data": {
      "text/plain": [
       "{'Cookie': 'ASP.NET_SessionId=ptua5402pdsgqcu3mpqoe1yr',\n",
       " 'Referer': 'https://udyamregistration.gov.in/UdyamRegistration.aspx',\n",
       " 'Content-Type': 'multipart/form-data; boundary=771c69217986474582c1f410295b078c',\n",
       " 'Origin': 'https://udyamregistration.gov.in',\n",
       " 'User-Agent': 'Mozilla/5.0 (Windows NT 10.0; Win64; x64) AppleWebKit/537.36 (KHTML, like Gecko) Chrome/116.0.5845.141 Safari/537.36'}"
      ]
     },
     "execution_count": 185,
     "metadata": {},
     "output_type": "execute_result"
    }
   ],
   "source": [
    "headers"
   ]
  },
  {
   "cell_type": "code",
   "execution_count": 186,
   "metadata": {},
   "outputs": [
    {
     "name": "stdout",
     "output_type": "stream",
     "text": [
      "ViewState: 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\n",
      "ViewStateGenerator: 5419473E\n",
      "EventValidation: L08NZkNZWdfHfY12n4S1LmDnCz+PcjH4xLOHO1iwnfMN15skYiKD/fuQJzSCdGlSkfX7RxP3YJNrcMQIrweMpRRA8oSdjIWv3CiUltlac45TChrGRAdj910aofT7Lf4BDn1TepsdloY8BEZrSI1RqoOLG4MpTaZbv0k5+IRC5coGhoiCRivcVxLqy+vO32FE/GUoCB95afh+B58fB1s04C7EAGM=\n"
     ]
    }
   ],
   "source": [
    "viewstate_value,viewstategenerator_value,eventvalidation_value=retrieve(response.text)"
   ]
  },
  {
   "cell_type": "code",
   "execution_count": 187,
   "metadata": {},
   "outputs": [],
   "source": [
    "data = {\n",
    "    \"ctl00$sm\": \"ctl00$ContentPlaceHolder1$UpdatePaneldd1|ctl00$ContentPlaceHolder1$btnValidate\",\n",
    "    \"cmbMoreFunction\": \"0\",\n",
    "    \"ctl00$ContentPlaceHolder1$txtadharno\": \"456640096331\",\n",
    "    \"ctl00$ContentPlaceHolder1$txtownername\": \"Pratik Agarwal\",\n",
    "    \"ctl00$ContentPlaceHolder1$chkDecarationA\": \"on\",\n",
    "    \"ctl00$ContentPlaceHolder1$txtOtp1\": \"740385\",\n",
    "    \"__EVENTTARGET\": \"\",\n",
    "    \"__EVENTARGUMENT\": \"\",\n",
    "    \"__VIEWSTATE\": viewstate_value,\n",
    "    \"__VIEWSTATEGENERATOR\": viewstateGEN_value,\n",
    "    \"__EVENTVALIDATION\": eventvalidation_value,\n",
    "    \"__AjaxControlToolkitCalendarCssLoaded\": \"\",\n",
    "    \"__VIEWSTATEENCRYPTED\": \"\",\n",
    "    \"__ASYNCPOST\": \"true\",\n",
    "    \"ctl00$ContentPlaceHolder1$btnValidate\": \"Validate\"\n",
    "}\n",
    "\n",
    "# Create a multipart encoder for the form data\n",
    "multipart_encoder = MultipartEncoder(fields=data)\n",
    "\n",
    "# Set the Content-Type header to include the boundary\n",
    "headers[\"Content-Type\"] = multipart_encoder.content_type\n",
    "\n",
    "# Send the POST request\n",
    "response = requests.post(url, data=multipart_encoder, headers=headers)\n"
   ]
  },
  {
   "cell_type": "code",
   "execution_count": 195,
   "metadata": {},
   "outputs": [
    {
     "name": "stdout",
     "output_type": "stream",
     "text": [
      "ViewState: None\n",
      "ViewStateGenerator: None\n",
      "EventValidation: None\n"
     ]
    }
   ],
   "source": [
    "viewstate_value1,viewstateGEN_value1,eventvalidation_value1=retrieve(response.text)"
   ]
  },
  {
   "cell_type": "code",
   "execution_count": 149,
   "metadata": {},
   "outputs": [],
   "source": [
    "data={\n",
    "    \"ctl00$sm\":\"ctl00$ContentPlaceHolder1$UpdatePaneldd1|ctl00$ContentPlaceHolder1$ddlTypeofOrg\",\n",
    "    \"cmbMoreFunction\":\"0\",\n",
    "    \"ctl00$ContentPlaceHolder1$txtadharno\":\"456640096331\",\n",
    "    \"ctl00$ContentPlaceHolder1$txtownername\":\"Pratik Agarwal\",\n",
    "    \"ctl00$ContentPlaceHolder1$chkDecarationA\":\"on\",\n",
    "    \"ctl00$ContentPlaceHolder1$ddlTypeofOrg\":\"1\",\n",
    "    \"ctl00$ContentPlaceHolder1$rbpanyesno\":\"1\",\n",
    "    \"ctl00$ContentPlaceHolder1$txtPan\":\"\",\n",
    "    \"__EVENTTARGET\":\"ctl00$ContentPlaceHolder1$ddlTypeofOrg\",\n",
    "    \"__EVENTARGUMENT\":\"\",\n",
    "    \"__VIEWSTATE\":viewstate_value1,\n",
    "    \"__VIEWSTATEGENERATOR\":viewstateGEN_value1,\n",
    "    \"__EVENTVALIDATION\":eventvalidation_value1,\n",
    "    \"__AjaxControlToolkitCalendarCssLoaded\":\"\",\n",
    "    \"__LASTFOCUS\":\"\",\n",
    "    \"__VIEWSTATEENCRYPTED\":\"\",\n",
    "    \"__ASYNCPOST\":\"true\"\n",
    "}"
   ]
  },
  {
   "cell_type": "code",
   "execution_count": null,
   "metadata": {},
   "outputs": [],
   "source": [
    "\n",
    "# Create a multipart encoder for the form data\n",
    "multipart_encoder = MultipartEncoder(fields=data)\n",
    "\n",
    "# Set the Content-Type header to include the boundary\n",
    "headers[\"Content-Type\"] = multipart_encoder.content_type\n",
    "\n",
    "# Send the POST request\n",
    "response = requests.post(url, data=multipart_encoder, headers=headers)\n",
    "response.text"
   ]
  },
  {
   "cell_type": "code",
   "execution_count": 190,
   "metadata": {},
   "outputs": [
    {
     "name": "stdout",
     "output_type": "stream",
     "text": [
      "ViewState: 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\n",
      "ViewStateGenerator: 5419473E\n",
      "EventValidation: jlSD6n9cmDWhUA+ZBadixDCVKpIx1G62BIR5lgB7jSVIoGNzlTm0Yb8slSBgwDCF67v/MIT+WimZvbwLSdTXkWr5Y3lnsMi7wLedqhgzmPqd723nKXBocWIef6vA/AfhVFA7VGBhierFTSAy2FPkCr4qKicFGDEhHhg/doHEvAmR23ycK/M7feTmL1MqK2pzg0RX5TYWUXThqoecHDMFW4sSagA=\n"
     ]
    }
   ],
   "source": [
    "viewstate_value,viewstateGEN_value,eventvalidation_value=retrieve(response.text)"
   ]
  },
  {
   "cell_type": "code",
   "execution_count": 193,
   "metadata": {},
   "outputs": [],
   "source": [
    "data={\n",
    "    \"ctl00$sm\":\"ctl00$ContentPlaceHolder1$UpdatePaneldd1|ctl00$ContentPlaceHolder1$btnValidatePan\",\n",
    "    \"cmbMoreFunction\":\"0\",\n",
    "    \"ctl00$ContentPlaceHolder1$txtadharno\":\"456640096331\",\n",
    "    \"ctl00$ContentPlaceHolder1$txtownername\":\"Pratik Agarwal\",\n",
    "    \"ctl00$ContentPlaceHolder1$chkDecarationA\":\"on\",\n",
    "    \"ctl00$ContentPlaceHolder1$ddlTypeofOrg\":\"1\",\n",
    "    \"ctl00$ContentPlaceHolder1$rbpanyesno\":\"1\",\n",
    "    \"ctl00$ContentPlaceHolder1$txtPan\":\"DKJPA2449M\",\n",
    "    \"ctl00$ContentPlaceHolder1$chkDecarationP\":\"on\",\n",
    "    \"__EVENTTARGET\":\"\",\n",
    "    \"__EVENTARGUMENT\":\"\",\n",
    "    \"__VIEWSTATE\":viewstate_value,\n",
    "    \"__VIEWSTATEGENERATOR\":viewstateGEN_value,\n",
    "    \"__EVENTVALIDATION\":eventvalidation_value,\n",
    "    \"__AjaxControlToolkitCalendarCssLoaded\":\"\",\n",
    "    \"__LASTFOCUS\":\"\",\n",
    "    \"__VIEWSTATEENCRYPTED\":\"\",\n",
    "    \"__ASYNCPOST\":\"true\",\n",
    "    \"ctl00$ContentPlaceHolder1$btnValidatePan\":\"PAN Validate\"\n",
    "}\n",
    "multipart_encoder = MultipartEncoder(fields=data)\n",
    "\n",
    "# Set the Content-Type header to include the boundary\n",
    "headers[\"Content-Type\"] = multipart_encoder.content_type\n",
    "\n",
    "# Send the POST request\n",
    "response = requests.post(url, data=multipart_encoder, headers=headers)"
   ]
  },
  {
   "cell_type": "code",
   "execution_count": 194,
   "metadata": {},
   "outputs": [
    {
     "data": {
      "text/plain": [
       "'1|#||4|76|pageRedirect||%2fErrorPages%2fRunTimeError.htm%3faspxerrorpath%3d%2fUdyamRegistration.aspx|'"
      ]
     },
     "execution_count": 194,
     "metadata": {},
     "output_type": "execute_result"
    }
   ],
   "source": [
    "response.text"
   ]
  },
  {
   "cell_type": "code",
   "execution_count": null,
   "metadata": {},
   "outputs": [],
   "source": []
  }
 ],
 "metadata": {
  "interpreter": {
   "hash": "916dbcbb3f70747c44a77c7bcd40155683ae19c65e1c03b4aa3499c5328201f1"
  },
  "kernelspec": {
   "display_name": "Python 3.10.12 64-bit",
   "language": "python",
   "name": "python3"
  },
  "language_info": {
   "codemirror_mode": {
    "name": "ipython",
    "version": 3
   },
   "file_extension": ".py",
   "mimetype": "text/x-python",
   "name": "python",
   "nbconvert_exporter": "python",
   "pygments_lexer": "ipython3",
   "version": "3.10.12"
  },
  "orig_nbformat": 4
 },
 "nbformat": 4,
 "nbformat_minor": 2
}
