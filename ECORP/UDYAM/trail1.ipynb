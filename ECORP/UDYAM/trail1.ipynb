{
 "cells": [
  {
   "cell_type": "code",
   "execution_count": 238,
   "metadata": {},
   "outputs": [],
   "source": [
    "name=\"Pratik Agarwal\"\n",
    "Aadhar_Card=\"456640096331\"\n",
    "Pan_Number=\"DKJPA2449M\"\n",
    "otp='168613'\n",
    "mobile_no='6200104066'\n",
    "email='gmail.com'\n",
    "type_of_organisation_values=['1. Proprietary / एकल स्वामित्व',\n",
    " '2. Hindu Undivided Family / हिंदू अविभाजित परिवार (एचयूएफ)',\n",
    " '3. Partnership / पार्टनरशिप',\n",
    " '4. Co-Operative / सहकारी',\n",
    " '5. Private Limited Company / प्राइवेट लिमिटेड कंपनी',\n",
    " '6. Public Limited Company / पब्लिक लिमिटेड कंपनी',\n",
    " '7. Self Help Group / स्वयं सहायता समूह',\n",
    " '8. Limited Liability Partenership / सीमित दायित्व भागीदारी',\n",
    " '9. Society / सोसाईटी',\n",
    " '10. Trust / ट्रस्ट',\n",
    " '11. Others / अन्य']\n",
    "state_values=['1. ANDAMAN AND NICOBAR ISLANDS / अंदमान और निकोबार द्वीपसमूह',\n",
    " '2. ANDHRA PRADESH / आन्ध्र प्रदेश',\n",
    " '3. ARUNACHAL PRADESH / अरुणाचल प्रदेश',\n",
    " '4. ASSAM / असम',\n",
    " '5. BIHAR / बिहार',\n",
    " '6. CHANDIGARH / चंडीगढ़',\n",
    " '7. CHHATTISGARH / छत्तीसगढ़',\n",
    " '8. DELHI / दिल्ली',\n",
    " '9. GOA / गोवा',\n",
    " '10. GUJARAT / गुजरात',\n",
    " '11. HARYANA / हरियाणा',\n",
    " '12. HIMACHAL PRADESH / हिमाचल प्रदेश',\n",
    " '13. JAMMU AND KASHMIR / जम्मू और कश्मीर',\n",
    " '14. JHARKHAND / झारखण्ड',\n",
    " '15. KARNATAKA / कर्णाटक',\n",
    " '16. KERALA / केरल',\n",
    " '17. LADAKH / लद्दाख',\n",
    " '18. LAKSHADWEEP / लक्षद्वीप',\n",
    " '19. MADHYA PRADESH / मध्य प्रदेश',\n",
    " '20. MAHARASHTRA / महाराष्ट्र',\n",
    " '21. MANIPUR / मणिपुर',\n",
    " '22. MEGHALAYA / मेघालय',\n",
    " '23. MIZORAM / मिज़ोरम',\n",
    " '24. NAGALAND / नागालैण्ड','25. ODISHA / ओड़िशा',\n",
    " '26. PUDUCHERRY / पुडुचेरी',\n",
    " '27. PUNJAB / पंजाब',\n",
    " '28. RAJASTHAN / राजस्थान',\n",
    " '29. SIKKIM / सिक्किम',\n",
    " '30. TAMIL NADU / तमिलनाडु',\n",
    " '31. TELANGANA / तेलंगाना',\n",
    " '32. THE DADRA AND NAGAR HAVELI AND DAMAN AND DIU / दादरा और नगर हवेली और दमन और दीव',\n",
    " '33. TRIPURA / त्रिपुरा',\n",
    " '34. UTTAR PRADESH / उत्तर प्रदेश',\n",
    " '35. UTTARAKHAND / उत्तराखण्ड',\n",
    " '36. WEST BENGAL / पश्चिम बंगाल']\n",
    "en_name='ln ptt'\n",
    "unit_details={\n",
    "\t'unit_name':'LN PTT',\n",
    "\t\"flat\":'abcd',\n",
    "\t\"premise_name\":'abcd',\n",
    "\t\"village\":'abcd',\n",
    "\t\"block\":'abcd',\n",
    "\t\"road\":'abcd',\n",
    "\t\"city\":'abcd',\n",
    "\t\"pin\":'12213',\n",
    "\t\"state\":state_values[5],\n",
    "\t\"district\":''\n",
    "}\n",
    "off_add={\n",
    "\t'unit_name':'LN PTT',\n",
    "\t\"flat\":'',\n",
    "\t\"premise_name\":'',\n",
    "\t\"village\":'',\n",
    "\t\"block\":'',\n",
    "\t\"road\":'',\n",
    "\t\"city\":'',\n",
    "\t\"pin\":'',\n",
    "\t\"state\":state_values[5],\n",
    "\t\"district\":''\n",
    "}\n",
    "\n",
    "\n",
    "# Have you filed the ITR for Previous Year(PY) (2021-22) ITR ?\n",
    "\n",
    " "
   ]
  },
  {
   "cell_type": "code",
   "execution_count": 200,
   "metadata": {},
   "outputs": [],
   "source": [
    "from selenium import webdriver\n",
    "from selenium.webdriver.common.keys import Keys\n",
    "from selenium.webdriver.common.by import By\n",
    "from selenium.webdriver.support.ui import WebDriverWait\n",
    "from selenium.webdriver.support import expected_conditions as EC\n",
    "from selenium.webdriver.support.select import Select\n",
    "\n"
   ]
  },
  {
   "cell_type": "code",
   "execution_count": 201,
   "metadata": {},
   "outputs": [
    {
     "name": "stderr",
     "output_type": "stream",
     "text": [
      "C:\\Users\\golup\\AppData\\Local\\Temp\\ipykernel_7760\\2560360902.py:1: DeprecationWarning: executable_path has been deprecated, please pass in a Service object\n",
      "  driver = webdriver.Chrome('/path/to/chromedriver')\n"
     ]
    }
   ],
   "source": [
    "driver = webdriver.Chrome('/path/to/chromedriver')\n",
    "driver.get('https://udyamregistration.gov.in/UdyamRegistration.aspx')\n"
   ]
  },
  {
   "cell_type": "code",
   "execution_count": 202,
   "metadata": {},
   "outputs": [],
   "source": [
    "#ENTER ADHAR NUMBER AND NAME\n",
    "input_element = driver.find_element(By.ID, 'ctl00_ContentPlaceHolder1_txtadharno')  \n",
    "input_element.send_keys(f'{Aadhar_Card}')\n",
    "\n",
    "\n",
    "input_element = driver.find_element(By.ID, 'ctl00_ContentPlaceHolder1_txtownername') \n",
    "input_element.send_keys(f'{name}')"
   ]
  },
  {
   "cell_type": "code",
   "execution_count": 203,
   "metadata": {},
   "outputs": [],
   "source": [
    "#generate otp\n",
    "button_element = driver.find_element(By.ID, 'ctl00_ContentPlaceHolder1_btnValidateAadhaar')  \n",
    "button_element.click()"
   ]
  },
  {
   "cell_type": "code",
   "execution_count": 206,
   "metadata": {},
   "outputs": [],
   "source": [
    "#enter otp\n",
    "input_element = driver.find_element(By.ID, 'ctl00_ContentPlaceHolder1_txtOtp1')  \n",
    "input_element.send_keys(f'{otp}')"
   ]
  },
  {
   "cell_type": "code",
   "execution_count": 208,
   "metadata": {},
   "outputs": [],
   "source": [
    "#validate button\n",
    "button_element = driver.find_element(By.ID, 'ctl00_ContentPlaceHolder1_btnValidate')  \n",
    "button_element.click()"
   ]
  },
  {
   "cell_type": "code",
   "execution_count": 221,
   "metadata": {},
   "outputs": [],
   "source": [
    "#type of organisation\n",
    "input_element = driver.find_element(By.ID, \"ctl00_ContentPlaceHolder1_ddlTypeofOrg\")  \n",
    "input_element.send_keys(type_of_organisation_values[0])\n",
    "\n",
    "#enter pan\n",
    "input_element = driver.find_element(By.ID, \"ctl00_ContentPlaceHolder1_txtPan\")\n",
    "input_element.send_keys('DKJPA2449M')\n",
    "\n",
    "#I, the holder of the above PAN, hereby give my consent to Ministry of MSME, Government of India, for using my data/ information available in the Income Tax Returns filed by me, and also the same available in the GST Returns and also from other Government organizations, for MSME classification and other official purposes, in pursuance of the MSMED Act, 2006.\n",
    "button_element = driver.find_element(By.ID, 'ctl00_ContentPlaceHolder1_chkDecarationP')  \n",
    "button_element.click()\n",
    "\n",
    "#pan validate\n",
    "button_element = driver.find_element(By.ID, 'ctl00_ContentPlaceHolder1_btnValidatePan')  # Replace with the appropriate locator and ID of the button\n",
    "button_element.click()\n",
    "\n",
    "#continue\n",
    "button_element = driver.find_element(By.ID, 'ctl00_ContentPlaceHolder1_btnGetPanData')  # Replace with the appropriate locator and ID of the button\n",
    "button_element.click()"
   ]
  },
  {
   "cell_type": "code",
   "execution_count": 230,
   "metadata": {},
   "outputs": [],
   "source": [
    "#Do you have GSTIN ? Yes\n",
    "button_element = driver.find_element(By.ID, \"ctl00_ContentPlaceHolder1_rblWhetherGstn_0\")\n",
    "button_element.click()\n",
    "\n",
    "#Do you have GSTIN ? No\n",
    "button_element = driver.find_element(By.ID, \"ctl00_ContentPlaceHolder1_rblWhetherGstn_1\")\n",
    "button_element.click()\n",
    "\n",
    "#Do you have GSTIN ? Exempted\n",
    "button_element = driver.find_element(By.ID, \"ctl00_ContentPlaceHolder1_rblWhetherGstn_2\")\n",
    "button_element.click()"
   ]
  },
  {
   "cell_type": "code",
   "execution_count": 234,
   "metadata": {},
   "outputs": [],
   "source": [
    "#mobile\n",
    "input_element = driver.find_element(By.ID, 'ctl00_ContentPlaceHolder1_txtmobile')  # Replace with the appropriate locator and ID of the input field\n",
    "input_element.send_keys(f'{mobile_no}')\n",
    "#email\n",
    "input_element = driver.find_element(By.ID, 'ctl00_ContentPlaceHolder1_txtemail')  # Replace with the appropriate locator and ID of the input field\n",
    "input_element.send_keys(f'{email}')"
   ]
  },
  {
   "cell_type": "code",
   "execution_count": 235,
   "metadata": {},
   "outputs": [],
   "source": [
    "#social category -general\n",
    "button_element = driver.find_element(By.ID, \"ctl00_ContentPlaceHolder1_rdbcategory_0\")\n",
    "button_element.click()\n",
    "#social category - sc\t\n",
    "button_element = driver.find_element(By.ID, \"ctl00_ContentPlaceHolder1_rdbcategory_1\")\n",
    "button_element.click()\n",
    "#social category - st\n",
    "button_element = driver.find_element(By.ID, \"ctl00_ContentPlaceHolder1_rdbcategory_2\")\n",
    "button_element.click()\n",
    "#social category - obc\n",
    "button_element = driver.find_element(By.ID, \"ctl00_ContentPlaceHolder1_rdbcategory_3\")\n",
    "button_element.click()"
   ]
  },
  {
   "cell_type": "code",
   "execution_count": 133,
   "metadata": {},
   "outputs": [],
   "source": [
    "#gender -male\n",
    "button_element = driver.find_element(By.ID, \"ctl00_ContentPlaceHolder1_rbtGender_0\")\n",
    "button_element.click()\n",
    "#gender -female\n",
    "button_element = driver.find_element(By.ID, \"ctl00_ContentPlaceHolder1_rbtGender_1\")\n",
    "button_element.click()\n",
    "#gender - others\n",
    "button_element = driver.find_element(By.ID, \"ctl00_ContentPlaceHolder1_rbtGender_2\")\n",
    "button_element.click()"
   ]
  },
  {
   "cell_type": "code",
   "execution_count": 136,
   "metadata": {},
   "outputs": [],
   "source": [
    "#specially abled -yes\n",
    "button_element = driver.find_element(By.ID, \"ctl00_ContentPlaceHolder1_rbtPh_0\")\n",
    "button_element.click()\n",
    "#specially abled -no\n",
    "button_element = driver.find_element(By.ID, \"ctl00_ContentPlaceHolder1_rbtPh_1\")\n",
    "button_element.click()"
   ]
  },
  {
   "cell_type": "code",
   "execution_count": 138,
   "metadata": {},
   "outputs": [],
   "source": [
    "#enterprise name\n",
    "input_element = driver.find_element(By.ID, 'ctl00_ContentPlaceHolder1_txtenterprisename')  # Replace with the appropriate locator and ID of the input field\n",
    "input_element.send_keys(f'{en_name}')"
   ]
  },
  {
   "cell_type": "code",
   "execution_count": 145,
   "metadata": {},
   "outputs": [],
   "source": [
    "#place/unit name\n",
    "input_element = driver.find_element(By.ID, 'ctl00_ContentPlaceHolder1_txtUnitName')  # Replace with the appropriate locator and ID of the input field\n",
    "input_element.send_keys('LN PTT')"
   ]
  },
  {
   "cell_type": "code",
   "execution_count": 146,
   "metadata": {},
   "outputs": [],
   "source": [
    "#add place/unit name button\n",
    "button_element = driver.find_element(By.ID, \"ctl00_ContentPlaceHolder1_btnAddUnit\")\n",
    "button_element.click()"
   ]
  },
  {
   "cell_type": "code",
   "execution_count": 149,
   "metadata": {},
   "outputs": [],
   "source": [
    "#add unit name\n",
    "input_element = driver.find_element(By.ID, \"ctl00_ContentPlaceHolder1_ddlUnitName\")  # Replace with the appropriate locator and ID of the button\n",
    "input_element.send_keys(unit_details['unit_name'])\n",
    "#flat/door/block no\n",
    "input_element = driver.find_element(By.ID, \"ctl00_ContentPlaceHolder1_txtPFlat\")  # Replace with the appropriate locator and ID of the button\n",
    "input_element.send_keys(unit_details['flat'])\n",
    "#name of premises/building\n",
    "input_element = driver.find_element(By.ID, \"ctl00_ContentPlaceHolder1_txtPBuilding\")  # Replace with the appropriate locator and ID of the button\n",
    "input_element.send_keys(unit_details['premise_name'])\n",
    "#village/town\n",
    "input_element = driver.find_element(By.ID, \"ctl00_ContentPlaceHolder1_txtPVillageTown\")  # Replace with the appropriate locator and ID of the button\n",
    "input_element.send_keys(unit_details['village'])\n",
    "#block\n",
    "input_element = driver.find_element(By.ID, \"ctl00_ContentPlaceHolder1_txtPBlock\")  # Replace with the appropriate locator and ID of the button\n",
    "input_element.send_keys(unit_details['road'])\n",
    "#road/street/lane\n",
    "input_element = driver.find_element(By.ID, \"ctl00_ContentPlaceHolder1_txtPRoadStreetLane\")  # Replace with the appropriate locator and ID of the button\n",
    "input_element.send_keys(unit_details['city'])\n",
    "#city\t\n",
    "input_element = driver.find_element(By.ID, \"ctl00_ContentPlaceHolder1_txtPCity\")  # Replace with the appropriate locator and ID of the button\n",
    "input_element.send_keys(unit_details['city'])\n",
    "#pin\n",
    "input_element = driver.find_element(By.ID, \"ctl00_ContentPlaceHolder1_txtPpin\")  # Replace with the appropriate locator and ID of the button\n",
    "input_element.send_keys(unit_details['pin'])\n",
    "#state\n",
    "input_element = driver.find_element(By.ID, \"ctl00_ContentPlaceHolder1_ddlPState\")\n",
    "input_element.send_keys(unit_details['state'])\n",
    "#district\n",
    "input_element = driver.find_element(By.ID, \"ctl00_ContentPlaceHolder1_ddlPDistrict\")\n",
    "input_element.send_keys(unit_details['district'])\n",
    "\n",
    "#add plant\n",
    "button_element = driver.find_element(By.ID, \"ctl00_ContentPlaceHolder1_BtnPAdd\")\n",
    "button_element.click()\n"
   ]
  },
  {
   "cell_type": "code",
   "execution_count": 152,
   "metadata": {},
   "outputs": [],
   "source": [
    "#official address of enterprise\n",
    "\n",
    "#flat/door/block no\n",
    "input_element = driver.find_element(By.ID, \"ctl00_ContentPlaceHolder1_txtOffFlatNo\") \n",
    "input_element.send_keys(off_add['unit_name'])\n",
    "#name of premises/building\n",
    "input_element = driver.find_element(By.ID, \"ctl00_ContentPlaceHolder1_txtOffBuilding\")  \n",
    "input_element.send_keys(off_add['flat'])\n",
    "#village/town\n",
    "input_element = driver.find_element(By.ID, \"ctl00_ContentPlaceHolder1_txtOffVillageTown\")  \n",
    "input_element.send_keys(off_add['premise_name'])\n",
    "#block\n",
    "input_element = driver.find_element(By.ID, \"ctl00_ContentPlaceHolder1_txtOffBlock\")\n",
    "input_element.send_keys(off_add['road'])\n",
    "#road/street/lane\n",
    "input_element = driver.find_element(By.ID, \"ctl00_ContentPlaceHolder1_txtOffRoadStreetLane\")\n",
    "input_element.send_keys(off_add['city'])\n",
    "#city\t\n",
    "input_element = driver.find_element(By.ID, \"ctl00_ContentPlaceHolder1_txtOffCity\")\n",
    "input_element.send_keys(off_add['city'])\n",
    "#pin\n",
    "input_element = driver.find_element(By.ID, \"ctl00_ContentPlaceHolder1_txtOffPin\")\n",
    "input_element.send_keys(off_add['pin'])\n",
    "#state\n",
    "input_element = driver.find_element(By.ID, \"ctl00_ContentPlaceHolder1_ddlstate\")\n",
    "input_element.send_keys(off_add['state'])\n",
    "#district\n",
    "input_element = driver.find_element(By.ID, \"ctl00_ContentPlaceHolder1_ddlDistrict\")\n",
    "input_element.send_keys(off_add['district'])\n",
    "\n"
   ]
  },
  {
   "cell_type": "code",
   "execution_count": 153,
   "metadata": {},
   "outputs": [],
   "source": [
    "#latitude\n",
    "textbox = driver.find_element(By.ID,'ctl00_ContentPlaceHolder1_txtLat')  # Replace with the appropriate locator and ID of the disabled textbox\n",
    "driver.execute_script(\"arguments[0].removeAttribute('disabled')\", textbox)\n",
    "textbox.clear()\n",
    "textbox.send_keys('11')\n",
    "driver.execute_script(\"arguments[0].setAttribute('disabled', 'disabled')\", textbox)\n"
   ]
  },
  {
   "cell_type": "code",
   "execution_count": 154,
   "metadata": {},
   "outputs": [],
   "source": [
    "#longitude\n",
    "textbox = driver.find_element(By.ID,'ctl00_ContentPlaceHolder1_txtLngt')  # Replace with the appropriate locator and ID of the disabled textbox\n",
    "driver.execute_script(\"arguments[0].removeAttribute('disabled')\", textbox)\n",
    "textbox.clear()\n",
    "textbox.send_keys('11')\n",
    "driver.execute_script(\"arguments[0].setAttribute('disabled', 'disabled')\", textbox)"
   ]
  },
  {
   "cell_type": "code",
   "execution_count": 155,
   "metadata": {},
   "outputs": [],
   "source": [
    "#previous EM-II registration-NO\n",
    "button_element = driver.find_element(By.ID, \"ctl00_ContentPlaceHolder1_rdbPreviousEM_0\")\n",
    "button_element.click()"
   ]
  },
  {
   "cell_type": "code",
   "execution_count": 158,
   "metadata": {},
   "outputs": [],
   "source": [
    "#previous EM-II registration- EM-II\n",
    "button_element = driver.find_element(By.ID, \"ctl00_ContentPlaceHolder1_rdbPreviousEM_1\")\n",
    "button_element.click()\n",
    "#ENTER EM-II/UAM NUMBER\n",
    "input_element = driver.find_element(By.ID, \"ctl00_ContentPlaceHolder1_txtPreviousNumber\")\n",
    "input_element.send_keys(\"1234\")"
   ]
  },
  {
   "cell_type": "code",
   "execution_count": 164,
   "metadata": {},
   "outputs": [
    {
     "ename": "NoSuchElementException",
     "evalue": "Message: no such element: Unable to locate element: {\"method\":\"css selector\",\"selector\":\"[id=\"ctl00_ContentPlaceHolder1_txtPreviousNumber\"]\"}\n  (Session info: chrome=114.0.5735.199)\nStacktrace:\nBacktrace:\n\tGetHandleVerifier [0x011FA813+48355]\n\t(No symbol) [0x0118C4B1]\n\t(No symbol) [0x01095358]\n\t(No symbol) [0x010C09A5]\n\t(No symbol) [0x010C0B3B]\n\t(No symbol) [0x010EE232]\n\t(No symbol) [0x010DA784]\n\t(No symbol) [0x010EC922]\n\t(No symbol) [0x010DA536]\n\t(No symbol) [0x010B82DC]\n\t(No symbol) [0x010B93DD]\n\tGetHandleVerifier [0x0145AABD+2539405]\n\tGetHandleVerifier [0x0149A78F+2800735]\n\tGetHandleVerifier [0x0149456C+2775612]\n\tGetHandleVerifier [0x012851E0+616112]\n\t(No symbol) [0x01195F8C]\n\t(No symbol) [0x01192328]\n\t(No symbol) [0x0119240B]\n\t(No symbol) [0x01184FF7]\n\tBaseThreadInitThunk [0x76077D59+25]\n\tRtlInitializeExceptionChain [0x7746B74B+107]\n\tRtlClearBits [0x7746B6CF+191]\n",
     "output_type": "error",
     "traceback": [
      "\u001b[1;31m---------------------------------------------------------------------------\u001b[0m",
      "\u001b[1;31mNoSuchElementException\u001b[0m                    Traceback (most recent call last)",
      "Cell \u001b[1;32mIn[164], line 5\u001b[0m\n\u001b[0;32m      3\u001b[0m button_element\u001b[39m.\u001b[39mclick()\n\u001b[0;32m      4\u001b[0m \u001b[39m#ENTER PREVIOUS EM-II/UAM NUMBER\u001b[39;00m\n\u001b[1;32m----> 5\u001b[0m input_element \u001b[39m=\u001b[39m driver\u001b[39m.\u001b[39;49mfind_element(By\u001b[39m.\u001b[39;49mID, \u001b[39m\"\u001b[39;49m\u001b[39mctl00_ContentPlaceHolder1_txtPreviousNumber\u001b[39;49m\u001b[39m\"\u001b[39;49m)\n\u001b[0;32m      6\u001b[0m input_element\u001b[39m.\u001b[39msend_keys(\u001b[39m\"\u001b[39m\u001b[39m1234\u001b[39m\u001b[39m\"\u001b[39m)\n",
      "File \u001b[1;32mc:\\Users\\golup\\AppData\\Local\\Programs\\Python\\Python311\\Lib\\site-packages\\selenium\\webdriver\\remote\\webdriver.py:831\u001b[0m, in \u001b[0;36mWebDriver.find_element\u001b[1;34m(self, by, value)\u001b[0m\n\u001b[0;32m    828\u001b[0m     by \u001b[39m=\u001b[39m By\u001b[39m.\u001b[39mCSS_SELECTOR\n\u001b[0;32m    829\u001b[0m     value \u001b[39m=\u001b[39m \u001b[39mf\u001b[39m\u001b[39m'\u001b[39m\u001b[39m[name=\u001b[39m\u001b[39m\"\u001b[39m\u001b[39m{\u001b[39;00mvalue\u001b[39m}\u001b[39;00m\u001b[39m\"\u001b[39m\u001b[39m]\u001b[39m\u001b[39m'\u001b[39m\n\u001b[1;32m--> 831\u001b[0m \u001b[39mreturn\u001b[39;00m \u001b[39mself\u001b[39;49m\u001b[39m.\u001b[39;49mexecute(Command\u001b[39m.\u001b[39;49mFIND_ELEMENT, {\u001b[39m\"\u001b[39;49m\u001b[39musing\u001b[39;49m\u001b[39m\"\u001b[39;49m: by, \u001b[39m\"\u001b[39;49m\u001b[39mvalue\u001b[39;49m\u001b[39m\"\u001b[39;49m: value})[\u001b[39m\"\u001b[39m\u001b[39mvalue\u001b[39m\u001b[39m\"\u001b[39m]\n",
      "File \u001b[1;32mc:\\Users\\golup\\AppData\\Local\\Programs\\Python\\Python311\\Lib\\site-packages\\selenium\\webdriver\\remote\\webdriver.py:440\u001b[0m, in \u001b[0;36mWebDriver.execute\u001b[1;34m(self, driver_command, params)\u001b[0m\n\u001b[0;32m    438\u001b[0m response \u001b[39m=\u001b[39m \u001b[39mself\u001b[39m\u001b[39m.\u001b[39mcommand_executor\u001b[39m.\u001b[39mexecute(driver_command, params)\n\u001b[0;32m    439\u001b[0m \u001b[39mif\u001b[39;00m response:\n\u001b[1;32m--> 440\u001b[0m     \u001b[39mself\u001b[39;49m\u001b[39m.\u001b[39;49merror_handler\u001b[39m.\u001b[39;49mcheck_response(response)\n\u001b[0;32m    441\u001b[0m     response[\u001b[39m\"\u001b[39m\u001b[39mvalue\u001b[39m\u001b[39m\"\u001b[39m] \u001b[39m=\u001b[39m \u001b[39mself\u001b[39m\u001b[39m.\u001b[39m_unwrap_value(response\u001b[39m.\u001b[39mget(\u001b[39m\"\u001b[39m\u001b[39mvalue\u001b[39m\u001b[39m\"\u001b[39m, \u001b[39mNone\u001b[39;00m))\n\u001b[0;32m    442\u001b[0m     \u001b[39mreturn\u001b[39;00m response\n",
      "File \u001b[1;32mc:\\Users\\golup\\AppData\\Local\\Programs\\Python\\Python311\\Lib\\site-packages\\selenium\\webdriver\\remote\\errorhandler.py:245\u001b[0m, in \u001b[0;36mErrorHandler.check_response\u001b[1;34m(self, response)\u001b[0m\n\u001b[0;32m    243\u001b[0m         alert_text \u001b[39m=\u001b[39m value[\u001b[39m\"\u001b[39m\u001b[39malert\u001b[39m\u001b[39m\"\u001b[39m]\u001b[39m.\u001b[39mget(\u001b[39m\"\u001b[39m\u001b[39mtext\u001b[39m\u001b[39m\"\u001b[39m)\n\u001b[0;32m    244\u001b[0m     \u001b[39mraise\u001b[39;00m exception_class(message, screen, stacktrace, alert_text)  \u001b[39m# type: ignore[call-arg]  # mypy is not smart enough here\u001b[39;00m\n\u001b[1;32m--> 245\u001b[0m \u001b[39mraise\u001b[39;00m exception_class(message, screen, stacktrace)\n",
      "\u001b[1;31mNoSuchElementException\u001b[0m: Message: no such element: Unable to locate element: {\"method\":\"css selector\",\"selector\":\"[id=\"ctl00_ContentPlaceHolder1_txtPreviousNumber\"]\"}\n  (Session info: chrome=114.0.5735.199)\nStacktrace:\nBacktrace:\n\tGetHandleVerifier [0x011FA813+48355]\n\t(No symbol) [0x0118C4B1]\n\t(No symbol) [0x01095358]\n\t(No symbol) [0x010C09A5]\n\t(No symbol) [0x010C0B3B]\n\t(No symbol) [0x010EE232]\n\t(No symbol) [0x010DA784]\n\t(No symbol) [0x010EC922]\n\t(No symbol) [0x010DA536]\n\t(No symbol) [0x010B82DC]\n\t(No symbol) [0x010B93DD]\n\tGetHandleVerifier [0x0145AABD+2539405]\n\tGetHandleVerifier [0x0149A78F+2800735]\n\tGetHandleVerifier [0x0149456C+2775612]\n\tGetHandleVerifier [0x012851E0+616112]\n\t(No symbol) [0x01195F8C]\n\t(No symbol) [0x01192328]\n\t(No symbol) [0x0119240B]\n\t(No symbol) [0x01184FF7]\n\tBaseThreadInitThunk [0x76077D59+25]\n\tRtlInitializeExceptionChain [0x7746B74B+107]\n\tRtlClearBits [0x7746B6CF+191]\n"
     ]
    }
   ],
   "source": [
    "#previous EM-II registration-NO\n",
    "button_element = driver.find_element(By.ID, \"ctl00_ContentPlaceHolder1_rdbPreviousEM_2\")\n",
    "button_element.click()\n",
    "#ENTER PREVIOUS EM-II/UAM NUMBER\n",
    "input_element = driver.find_element(By.ID, \"ctl00_ContentPlaceHolder1_txtPreviousNumber\")\n",
    "input_element.send_keys(\"1234\")"
   ]
  },
  {
   "cell_type": "code",
   "execution_count": 160,
   "metadata": {},
   "outputs": [],
   "source": [
    "#STATUS OF ENTERPRISE"
   ]
  },
  {
   "cell_type": "code",
   "execution_count": 163,
   "metadata": {},
   "outputs": [
    {
     "ename": "NoSuchElementException",
     "evalue": "Message: no such element: Unable to locate element: {\"method\":\"css selector\",\"selector\":\"[id=\"ctl00_ContentPlaceHolder1_txtdateIncorporation\"]\"}\n  (Session info: chrome=114.0.5735.199)\nStacktrace:\nBacktrace:\n\tGetHandleVerifier [0x011FA813+48355]\n\t(No symbol) [0x0118C4B1]\n\t(No symbol) [0x01095358]\n\t(No symbol) [0x010C09A5]\n\t(No symbol) [0x010C0B3B]\n\t(No symbol) [0x010EE232]\n\t(No symbol) [0x010DA784]\n\t(No symbol) [0x010EC922]\n\t(No symbol) [0x010DA536]\n\t(No symbol) [0x010B82DC]\n\t(No symbol) [0x010B93DD]\n\tGetHandleVerifier [0x0145AABD+2539405]\n\tGetHandleVerifier [0x0149A78F+2800735]\n\tGetHandleVerifier [0x0149456C+2775612]\n\tGetHandleVerifier [0x012851E0+616112]\n\t(No symbol) [0x01195F8C]\n\t(No symbol) [0x01192328]\n\t(No symbol) [0x0119240B]\n\t(No symbol) [0x01184FF7]\n\tBaseThreadInitThunk [0x76077D59+25]\n\tRtlInitializeExceptionChain [0x7746B74B+107]\n\tRtlClearBits [0x7746B6CF+191]\n",
     "output_type": "error",
     "traceback": [
      "\u001b[1;31m---------------------------------------------------------------------------\u001b[0m",
      "\u001b[1;31mNoSuchElementException\u001b[0m                    Traceback (most recent call last)",
      "Cell \u001b[1;32mIn[163], line 2\u001b[0m\n\u001b[0;32m      1\u001b[0m \u001b[39m#DATE OF INCORPORATION\u001b[39;00m\n\u001b[1;32m----> 2\u001b[0m input_element \u001b[39m=\u001b[39m driver\u001b[39m.\u001b[39;49mfind_element(By\u001b[39m.\u001b[39;49mID, \u001b[39m\"\u001b[39;49m\u001b[39mctl00_ContentPlaceHolder1_txtdateIncorporation\u001b[39;49m\u001b[39m\"\u001b[39;49m)\n\u001b[0;32m      3\u001b[0m input_element\u001b[39m.\u001b[39msend_keys(\u001b[39m\"\u001b[39m\u001b[39m09/09/2000\u001b[39m\u001b[39m\"\u001b[39m) \u001b[39m#DD/MM/YYYY\u001b[39;00m\n",
      "File \u001b[1;32mc:\\Users\\golup\\AppData\\Local\\Programs\\Python\\Python311\\Lib\\site-packages\\selenium\\webdriver\\remote\\webdriver.py:831\u001b[0m, in \u001b[0;36mWebDriver.find_element\u001b[1;34m(self, by, value)\u001b[0m\n\u001b[0;32m    828\u001b[0m     by \u001b[39m=\u001b[39m By\u001b[39m.\u001b[39mCSS_SELECTOR\n\u001b[0;32m    829\u001b[0m     value \u001b[39m=\u001b[39m \u001b[39mf\u001b[39m\u001b[39m'\u001b[39m\u001b[39m[name=\u001b[39m\u001b[39m\"\u001b[39m\u001b[39m{\u001b[39;00mvalue\u001b[39m}\u001b[39;00m\u001b[39m\"\u001b[39m\u001b[39m]\u001b[39m\u001b[39m'\u001b[39m\n\u001b[1;32m--> 831\u001b[0m \u001b[39mreturn\u001b[39;00m \u001b[39mself\u001b[39;49m\u001b[39m.\u001b[39;49mexecute(Command\u001b[39m.\u001b[39;49mFIND_ELEMENT, {\u001b[39m\"\u001b[39;49m\u001b[39musing\u001b[39;49m\u001b[39m\"\u001b[39;49m: by, \u001b[39m\"\u001b[39;49m\u001b[39mvalue\u001b[39;49m\u001b[39m\"\u001b[39;49m: value})[\u001b[39m\"\u001b[39m\u001b[39mvalue\u001b[39m\u001b[39m\"\u001b[39m]\n",
      "File \u001b[1;32mc:\\Users\\golup\\AppData\\Local\\Programs\\Python\\Python311\\Lib\\site-packages\\selenium\\webdriver\\remote\\webdriver.py:440\u001b[0m, in \u001b[0;36mWebDriver.execute\u001b[1;34m(self, driver_command, params)\u001b[0m\n\u001b[0;32m    438\u001b[0m response \u001b[39m=\u001b[39m \u001b[39mself\u001b[39m\u001b[39m.\u001b[39mcommand_executor\u001b[39m.\u001b[39mexecute(driver_command, params)\n\u001b[0;32m    439\u001b[0m \u001b[39mif\u001b[39;00m response:\n\u001b[1;32m--> 440\u001b[0m     \u001b[39mself\u001b[39;49m\u001b[39m.\u001b[39;49merror_handler\u001b[39m.\u001b[39;49mcheck_response(response)\n\u001b[0;32m    441\u001b[0m     response[\u001b[39m\"\u001b[39m\u001b[39mvalue\u001b[39m\u001b[39m\"\u001b[39m] \u001b[39m=\u001b[39m \u001b[39mself\u001b[39m\u001b[39m.\u001b[39m_unwrap_value(response\u001b[39m.\u001b[39mget(\u001b[39m\"\u001b[39m\u001b[39mvalue\u001b[39m\u001b[39m\"\u001b[39m, \u001b[39mNone\u001b[39;00m))\n\u001b[0;32m    442\u001b[0m     \u001b[39mreturn\u001b[39;00m response\n",
      "File \u001b[1;32mc:\\Users\\golup\\AppData\\Local\\Programs\\Python\\Python311\\Lib\\site-packages\\selenium\\webdriver\\remote\\errorhandler.py:245\u001b[0m, in \u001b[0;36mErrorHandler.check_response\u001b[1;34m(self, response)\u001b[0m\n\u001b[0;32m    243\u001b[0m         alert_text \u001b[39m=\u001b[39m value[\u001b[39m\"\u001b[39m\u001b[39malert\u001b[39m\u001b[39m\"\u001b[39m]\u001b[39m.\u001b[39mget(\u001b[39m\"\u001b[39m\u001b[39mtext\u001b[39m\u001b[39m\"\u001b[39m)\n\u001b[0;32m    244\u001b[0m     \u001b[39mraise\u001b[39;00m exception_class(message, screen, stacktrace, alert_text)  \u001b[39m# type: ignore[call-arg]  # mypy is not smart enough here\u001b[39;00m\n\u001b[1;32m--> 245\u001b[0m \u001b[39mraise\u001b[39;00m exception_class(message, screen, stacktrace)\n",
      "\u001b[1;31mNoSuchElementException\u001b[0m: Message: no such element: Unable to locate element: {\"method\":\"css selector\",\"selector\":\"[id=\"ctl00_ContentPlaceHolder1_txtdateIncorporation\"]\"}\n  (Session info: chrome=114.0.5735.199)\nStacktrace:\nBacktrace:\n\tGetHandleVerifier [0x011FA813+48355]\n\t(No symbol) [0x0118C4B1]\n\t(No symbol) [0x01095358]\n\t(No symbol) [0x010C09A5]\n\t(No symbol) [0x010C0B3B]\n\t(No symbol) [0x010EE232]\n\t(No symbol) [0x010DA784]\n\t(No symbol) [0x010EC922]\n\t(No symbol) [0x010DA536]\n\t(No symbol) [0x010B82DC]\n\t(No symbol) [0x010B93DD]\n\tGetHandleVerifier [0x0145AABD+2539405]\n\tGetHandleVerifier [0x0149A78F+2800735]\n\tGetHandleVerifier [0x0149456C+2775612]\n\tGetHandleVerifier [0x012851E0+616112]\n\t(No symbol) [0x01195F8C]\n\t(No symbol) [0x01192328]\n\t(No symbol) [0x0119240B]\n\t(No symbol) [0x01184FF7]\n\tBaseThreadInitThunk [0x76077D59+25]\n\tRtlInitializeExceptionChain [0x7746B74B+107]\n\tRtlClearBits [0x7746B6CF+191]\n"
     ]
    }
   ],
   "source": [
    "#DATE OF INCORPORATION\n",
    "input_element = driver.find_element(By.ID, \"ctl00_ContentPlaceHolder1_txtdateIncorporation\")\n",
    "input_element.send_keys(\"09/09/2000\") #DD/MM/YYYY"
   ]
  },
  {
   "cell_type": "code",
   "execution_count": 165,
   "metadata": {},
   "outputs": [],
   "source": [
    "#BANK DETAILS"
   ]
  },
  {
   "cell_type": "code",
   "execution_count": 166,
   "metadata": {},
   "outputs": [],
   "source": [
    "#BANK NAME\n",
    "input_element = driver.find_element(By.ID, \"ctl00_ContentPlaceHolder1_txtBankName\")\n",
    "input_element.send_keys(\"ADSDA\")"
   ]
  },
  {
   "cell_type": "code",
   "execution_count": 167,
   "metadata": {},
   "outputs": [],
   "source": [
    "#IFSC CODE\n",
    "input_element = driver.find_element(By.ID, \"ctl00_ContentPlaceHolder1_txtifsccode\")\n",
    "input_element.send_keys(\"ADSDA\")"
   ]
  },
  {
   "cell_type": "code",
   "execution_count": 171,
   "metadata": {},
   "outputs": [],
   "source": [
    "#ACCOUNT NUMBER\n",
    "input_element = driver.find_element(By.ID, \"ctl00_ContentPlaceHolder1_txtaccountno\")\n",
    "input_element.send_keys(\"1234\")"
   ]
  },
  {
   "cell_type": "code",
   "execution_count": 173,
   "metadata": {},
   "outputs": [],
   "source": [
    "#MAJOR ACTIVITY\n",
    "\n",
    "\n",
    "#MANUFACTURING\n",
    "button_element = driver.find_element(By.ID, \"ctl00_ContentPlaceHolder1_rdbCatgg_0\")\n",
    "button_element.click()\n",
    "#SERVICES\n",
    "button_element = driver.find_element(By.ID, \"ctl00_ContentPlaceHolder1_rdbCatgg_1\")\n",
    "button_element.click()"
   ]
  },
  {
   "cell_type": "code",
   "execution_count": 176,
   "metadata": {},
   "outputs": [],
   "source": [
    "#NIC CODE\t"
   ]
  },
  {
   "cell_type": "code",
   "execution_count": null,
   "metadata": {},
   "outputs": [],
   "source": []
  },
  {
   "cell_type": "code",
   "execution_count": null,
   "metadata": {},
   "outputs": [],
   "source": []
  },
  {
   "cell_type": "code",
   "execution_count": 178,
   "metadata": {},
   "outputs": [],
   "source": [
    "#NUMBER OF PERSONS EMPLOYED\n",
    "\n",
    "#MALE\n",
    "input_element = driver.find_element(By.ID, \"ctl00_ContentPlaceHolder1_txtNoofpersonMale\")\n",
    "input_element.send_keys(\"1234\")\n",
    "#FEMALE\n",
    "input_element = driver.find_element(By.ID, \"ctl00_ContentPlaceHolder1_txtNoofpersonFemale\")\n",
    "input_element.send_keys(\"1234\")\n",
    "#OTHERS\n",
    "input_element = driver.find_element(By.ID, \"ctl00_ContentPlaceHolder1_txtNoofpersonOthers\")\n",
    "input_element.send_keys(\"1234\")"
   ]
  },
  {
   "cell_type": "code",
   "execution_count": 181,
   "metadata": {},
   "outputs": [],
   "source": [
    "#Investment in Plant and Machinery OR Equipment (in Rs.)\n",
    "\n",
    "#Written Down Value (WDV) as on 31st March of the Previous Year 2021-22 (A)\n",
    "input_element = driver.find_element(By.ID, \"ctl00_ContentPlaceHolder1_txtDepCost\")\n",
    "input_element.send_keys(\"1234\")\n",
    "#Exclusion of cost of Pollution Control, Research & Development and Industrial Safety Devices during 2021-22(To be filled in on self-declaration basis)\n",
    "input_element = driver.find_element(By.ID, \"ctl00_ContentPlaceHolder1_txtExCost\")\n",
    "input_element.send_keys(\"1234\")\n"
   ]
  },
  {
   "cell_type": "code",
   "execution_count": 182,
   "metadata": {},
   "outputs": [],
   "source": [
    "#TURNOVER (IN RS)\n",
    "\n",
    "#Total Turnover (A) during 2021-22\n",
    "input_element = driver.find_element(By.ID, \"ctl00_ContentPlaceHolder1_txtTotalTurnoverA\")\n",
    "input_element.send_keys(\"1234\")\n"
   ]
  },
  {
   "cell_type": "code",
   "execution_count": 190,
   "metadata": {},
   "outputs": [
    {
     "ename": "ElementClickInterceptedException",
     "evalue": "Message: element click intercepted: Element <input id=\"ctl00_ContentPlaceHolder1_rblGeM_0\" type=\"radio\" name=\"ctl00$ContentPlaceHolder1$rblGeM\" value=\"1\"> is not clickable at point (467, 6). Other element would receive the click: <div class=\"col-xl-10 d-flex align-items-center\">...</div>\n  (Session info: chrome=114.0.5735.199)\nStacktrace:\nBacktrace:\n\tGetHandleVerifier [0x011FA813+48355]\n\t(No symbol) [0x0118C4B1]\n\t(No symbol) [0x01095358]\n\t(No symbol) [0x010C5062]\n\t(No symbol) [0x010C3B98]\n\t(No symbol) [0x010C239B]\n\t(No symbol) [0x010C179E]\n\t(No symbol) [0x010B9F5C]\n\t(No symbol) [0x010DA73C]\n\t(No symbol) [0x010B9A36]\n\t(No symbol) [0x010DAA94]\n\t(No symbol) [0x010EC922]\n\t(No symbol) [0x010DA536]\n\t(No symbol) [0x010B82DC]\n\t(No symbol) [0x010B93DD]\n\tGetHandleVerifier [0x0145AABD+2539405]\n\tGetHandleVerifier [0x0149A78F+2800735]\n\tGetHandleVerifier [0x0149456C+2775612]\n\tGetHandleVerifier [0x012851E0+616112]\n\t(No symbol) [0x01195F8C]\n\t(No symbol) [0x01192328]\n\t(No symbol) [0x0119240B]\n\t(No symbol) [0x01184FF7]\n\tBaseThreadInitThunk [0x76077D59+25]\n\tRtlInitializeExceptionChain [0x7746B74B+107]\n\tRtlClearBits [0x7746B6CF+191]\n",
     "output_type": "error",
     "traceback": [
      "\u001b[1;31m---------------------------------------------------------------------------\u001b[0m",
      "\u001b[1;31mElementClickInterceptedException\u001b[0m          Traceback (most recent call last)",
      "Cell \u001b[1;32mIn[190], line 5\u001b[0m\n\u001b[0;32m      1\u001b[0m \u001b[39m#22. Are you interested in getting registered on Government e-Market (GeM) Portal \u001b[39;00m\n\u001b[0;32m      2\u001b[0m \n\u001b[0;32m      3\u001b[0m \u001b[39m#YES\u001b[39;00m\n\u001b[0;32m      4\u001b[0m button_element \u001b[39m=\u001b[39m driver\u001b[39m.\u001b[39mfind_element(By\u001b[39m.\u001b[39mID, \u001b[39m\"\u001b[39m\u001b[39mctl00_ContentPlaceHolder1_rblGeM_0\u001b[39m\u001b[39m\"\u001b[39m)\n\u001b[1;32m----> 5\u001b[0m button_element\u001b[39m.\u001b[39;49mclick()\n\u001b[0;32m      7\u001b[0m \u001b[39m#NO\u001b[39;00m\n\u001b[0;32m      8\u001b[0m button_element \u001b[39m=\u001b[39m driver\u001b[39m.\u001b[39mfind_element(By\u001b[39m.\u001b[39mID, \u001b[39m\"\u001b[39m\u001b[39mctl00_ContentPlaceHolder1_rblGeM_1\u001b[39m\u001b[39m\"\u001b[39m)\n",
      "File \u001b[1;32mc:\\Users\\golup\\AppData\\Local\\Programs\\Python\\Python311\\Lib\\site-packages\\selenium\\webdriver\\remote\\webelement.py:94\u001b[0m, in \u001b[0;36mWebElement.click\u001b[1;34m(self)\u001b[0m\n\u001b[0;32m     92\u001b[0m \u001b[39mdef\u001b[39;00m \u001b[39mclick\u001b[39m(\u001b[39mself\u001b[39m) \u001b[39m-\u001b[39m\u001b[39m>\u001b[39m \u001b[39mNone\u001b[39;00m:\n\u001b[0;32m     93\u001b[0m \u001b[39m    \u001b[39m\u001b[39m\"\"\"Clicks the element.\"\"\"\u001b[39;00m\n\u001b[1;32m---> 94\u001b[0m     \u001b[39mself\u001b[39;49m\u001b[39m.\u001b[39;49m_execute(Command\u001b[39m.\u001b[39;49mCLICK_ELEMENT)\n",
      "File \u001b[1;32mc:\\Users\\golup\\AppData\\Local\\Programs\\Python\\Python311\\Lib\\site-packages\\selenium\\webdriver\\remote\\webelement.py:403\u001b[0m, in \u001b[0;36mWebElement._execute\u001b[1;34m(self, command, params)\u001b[0m\n\u001b[0;32m    401\u001b[0m     params \u001b[39m=\u001b[39m {}\n\u001b[0;32m    402\u001b[0m params[\u001b[39m\"\u001b[39m\u001b[39mid\u001b[39m\u001b[39m\"\u001b[39m] \u001b[39m=\u001b[39m \u001b[39mself\u001b[39m\u001b[39m.\u001b[39m_id\n\u001b[1;32m--> 403\u001b[0m \u001b[39mreturn\u001b[39;00m \u001b[39mself\u001b[39;49m\u001b[39m.\u001b[39;49m_parent\u001b[39m.\u001b[39;49mexecute(command, params)\n",
      "File \u001b[1;32mc:\\Users\\golup\\AppData\\Local\\Programs\\Python\\Python311\\Lib\\site-packages\\selenium\\webdriver\\remote\\webdriver.py:440\u001b[0m, in \u001b[0;36mWebDriver.execute\u001b[1;34m(self, driver_command, params)\u001b[0m\n\u001b[0;32m    438\u001b[0m response \u001b[39m=\u001b[39m \u001b[39mself\u001b[39m\u001b[39m.\u001b[39mcommand_executor\u001b[39m.\u001b[39mexecute(driver_command, params)\n\u001b[0;32m    439\u001b[0m \u001b[39mif\u001b[39;00m response:\n\u001b[1;32m--> 440\u001b[0m     \u001b[39mself\u001b[39;49m\u001b[39m.\u001b[39;49merror_handler\u001b[39m.\u001b[39;49mcheck_response(response)\n\u001b[0;32m    441\u001b[0m     response[\u001b[39m\"\u001b[39m\u001b[39mvalue\u001b[39m\u001b[39m\"\u001b[39m] \u001b[39m=\u001b[39m \u001b[39mself\u001b[39m\u001b[39m.\u001b[39m_unwrap_value(response\u001b[39m.\u001b[39mget(\u001b[39m\"\u001b[39m\u001b[39mvalue\u001b[39m\u001b[39m\"\u001b[39m, \u001b[39mNone\u001b[39;00m))\n\u001b[0;32m    442\u001b[0m     \u001b[39mreturn\u001b[39;00m response\n",
      "File \u001b[1;32mc:\\Users\\golup\\AppData\\Local\\Programs\\Python\\Python311\\Lib\\site-packages\\selenium\\webdriver\\remote\\errorhandler.py:245\u001b[0m, in \u001b[0;36mErrorHandler.check_response\u001b[1;34m(self, response)\u001b[0m\n\u001b[0;32m    243\u001b[0m         alert_text \u001b[39m=\u001b[39m value[\u001b[39m\"\u001b[39m\u001b[39malert\u001b[39m\u001b[39m\"\u001b[39m]\u001b[39m.\u001b[39mget(\u001b[39m\"\u001b[39m\u001b[39mtext\u001b[39m\u001b[39m\"\u001b[39m)\n\u001b[0;32m    244\u001b[0m     \u001b[39mraise\u001b[39;00m exception_class(message, screen, stacktrace, alert_text)  \u001b[39m# type: ignore[call-arg]  # mypy is not smart enough here\u001b[39;00m\n\u001b[1;32m--> 245\u001b[0m \u001b[39mraise\u001b[39;00m exception_class(message, screen, stacktrace)\n",
      "\u001b[1;31mElementClickInterceptedException\u001b[0m: Message: element click intercepted: Element <input id=\"ctl00_ContentPlaceHolder1_rblGeM_0\" type=\"radio\" name=\"ctl00$ContentPlaceHolder1$rblGeM\" value=\"1\"> is not clickable at point (467, 6). Other element would receive the click: <div class=\"col-xl-10 d-flex align-items-center\">...</div>\n  (Session info: chrome=114.0.5735.199)\nStacktrace:\nBacktrace:\n\tGetHandleVerifier [0x011FA813+48355]\n\t(No symbol) [0x0118C4B1]\n\t(No symbol) [0x01095358]\n\t(No symbol) [0x010C5062]\n\t(No symbol) [0x010C3B98]\n\t(No symbol) [0x010C239B]\n\t(No symbol) [0x010C179E]\n\t(No symbol) [0x010B9F5C]\n\t(No symbol) [0x010DA73C]\n\t(No symbol) [0x010B9A36]\n\t(No symbol) [0x010DAA94]\n\t(No symbol) [0x010EC922]\n\t(No symbol) [0x010DA536]\n\t(No symbol) [0x010B82DC]\n\t(No symbol) [0x010B93DD]\n\tGetHandleVerifier [0x0145AABD+2539405]\n\tGetHandleVerifier [0x0149A78F+2800735]\n\tGetHandleVerifier [0x0149456C+2775612]\n\tGetHandleVerifier [0x012851E0+616112]\n\t(No symbol) [0x01195F8C]\n\t(No symbol) [0x01192328]\n\t(No symbol) [0x0119240B]\n\t(No symbol) [0x01184FF7]\n\tBaseThreadInitThunk [0x76077D59+25]\n\tRtlInitializeExceptionChain [0x7746B74B+107]\n\tRtlClearBits [0x7746B6CF+191]\n"
     ]
    }
   ],
   "source": [
    "#22. Are you interested in getting registered on Government e-Market (GeM) Portal \n",
    "\n",
    "#YES\n",
    "button_element = driver.find_element(By.ID, \"ctl00_ContentPlaceHolder1_rblGeM_0\")\n",
    "button_element.click()\n",
    "\n",
    "#NO\n",
    "button_element = driver.find_element(By.ID, \"ctl00_ContentPlaceHolder1_rblGeM_1\")\n",
    "button_element.click()"
   ]
  },
  {
   "cell_type": "code",
   "execution_count": 191,
   "metadata": {},
   "outputs": [],
   "source": [
    "#23. Are you interested in getting registered on TReDS Portals(one or more) \n",
    "\n",
    "#YES\n",
    "button_element = driver.find_element(By.ID, \"ctl00_ContentPlaceHolder1_rblTReDS_0\")\n",
    "button_element.click()\n",
    "\n",
    "#NO\n",
    "button_element = driver.find_element(By.ID, \"ctl00_ContentPlaceHolder1_rblTReDS_1\")\n",
    "button_element.click()"
   ]
  },
  {
   "cell_type": "code",
   "execution_count": 192,
   "metadata": {},
   "outputs": [],
   "source": [
    "#24. Are you interested in getting registered on National Career Service(NCS) Portal\n",
    "\n",
    "#YES\n",
    "button_element = driver.find_element(By.ID, \"ctl00_ContentPlaceHolder1_rblNCS_0\")\n",
    "button_element.click()\n",
    "\n",
    "#NO\n",
    "button_element = driver.find_element(By.ID, \"ctl00_ContentPlaceHolder1_rblNCS_1\")\n",
    "button_element.click() "
   ]
  },
  {
   "cell_type": "code",
   "execution_count": 193,
   "metadata": {},
   "outputs": [],
   "source": [
    "#25. Are you interested in getting registered on NSIC B2B Portal \n",
    "\n",
    "#YES\n",
    "button_element = driver.find_element(By.ID, \"ctl00_ContentPlaceHolder1_rblnsic_0\")\n",
    "button_element.click()\n",
    "\n",
    "#NO\n",
    "button_element = driver.find_element(By.ID, \"ctl00_ContentPlaceHolder1_rblnsic_1\")\n",
    "button_element.click()"
   ]
  },
  {
   "cell_type": "code",
   "execution_count": 194,
   "metadata": {},
   "outputs": [],
   "source": [
    "#26. Are you interested in availing Free .IN Domain and a business email ID \n",
    "\n",
    "#YES\n",
    "button_element = driver.find_element(By.ID, \"ctl00_ContentPlaceHolder1_rblnixi_0\")\n",
    "button_element.click()\n",
    "\n",
    "#NO\n",
    "button_element = driver.find_element(By.ID, \"ctl00_ContentPlaceHolder1_rblnixi_1\")\n",
    "button_element.click()"
   ]
  },
  {
   "cell_type": "code",
   "execution_count": null,
   "metadata": {},
   "outputs": [],
   "source": [
    "#SUBMIT AND GET FINAL OTP\n",
    "\n",
    "button_element = driver.find_element(By.ID, \"ctl00_ContentPlaceHolder1_btnsubmit\")\n",
    "button_element.click()"
   ]
  }
 ],
 "metadata": {
  "kernelspec": {
   "display_name": "Python 3",
   "language": "python",
   "name": "python3"
  },
  "language_info": {
   "codemirror_mode": {
    "name": "ipython",
    "version": 3
   },
   "file_extension": ".py",
   "mimetype": "text/x-python",
   "name": "python",
   "nbconvert_exporter": "python",
   "pygments_lexer": "ipython3",
   "version": "3.11.3"
  },
  "orig_nbformat": 4
 },
 "nbformat": 4,
 "nbformat_minor": 2
}
