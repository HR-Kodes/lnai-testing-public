{
 "cells": [
  {
   "cell_type": "code",
   "execution_count": 5,
   "metadata": {},
   "outputs": [],
   "source": [
    "import requests\n",
    "from bs4 import BeautifulSoup\n",
    "from requests_toolbelt.multipart.encoder import MultipartEncoder\n",
    "import json\n",
    "import re"
   ]
  },
  {
   "cell_type": "code",
   "execution_count": 6,
   "metadata": {},
   "outputs": [],
   "source": [
    "def get(response):   \n",
    "    viewstate_pattern = r'__VIEWSTATE\\|([^\\|]+)'\n",
    "    viewstategenerator_pattern = r'__VIEWSTATEGENERATOR\\|([^\\|]+)'\n",
    "    eventvalidation_pattern = r'__EVENTVALIDATION\\|([^\\|]+)'\n",
    "    viewstate_matches = re.findall(viewstate_pattern, response)\n",
    "    viewstategenerator_matches = re.findall(viewstategenerator_pattern, response)\n",
    "    eventvalidation_matches=re.findall(eventvalidation_pattern, response)\n",
    "    # Check if there are any matches and print the values\n",
    "    viewstate=viewstate_matches[0]\n",
    "    viewstategenerator=viewstategenerator_matches[0]\n",
    "    eventvalidation=eventvalidation_matches[0]\n",
    "    return viewstate,viewstategenerator,eventvalidation\n"
   ]
  },
  {
   "cell_type": "code",
   "execution_count": 186,
   "metadata": {},
   "outputs": [],
   "source": [
    "inp={\n",
    "    \"aadhar\":\"249166905418\",\n",
    "    \"name\":\"Bipul Kumar Singh\",\n",
    "    \"pan\":\"NLRPS2411C\",\n",
    "    \"mobile\":\"7371889861\",\n",
    "    'email':\"bipulkumarsingh6690@gmail.com\",\n",
    "    'bank_name':\"Federal Bank\",\n",
    "    \"account_no\":\"77770103659260\",\n",
    "    \"ifsc\":\"FDRL0007777\",\n",
    "    \"social_category\":\"1\",\n",
    "    \"gender\":\"1\",\n",
    "    \"specially_abled\":\"0\",\n",
    "    \"Enterprise Name\":\"INNOLEGALNITI PRIVATE LIMITED\",\n",
    "    \"Unit Name\":\"INNOLEGALNITI PRIVATE LIMITED\",\n",
    "    \"officeDetails\":{\n",
    "    \"FlatNo\":\"C/O Dilip Kumar Jain,5th Floor \",\n",
    "    \"Building\":\"Symbiosis Padaki\",\n",
    "    \"Village/Town\":\"Basavangudi\",\n",
    "    \"Block\":\"South Bangalore\",\n",
    "    \"Road/Street/Lane\":\"\",\n",
    "    \"City\":\"Bangalore\",\n",
    "    \"Pin\":\"560004\",\n",
    "    \"State\":\"29\",\n",
    "    \"District\":\"543\",\n",
    "    \"lat\":\"13.061816918827828\",\n",
    "    \"long\":\"77.58837312057693\"\n",
    "},\"flatDetails\":{\n",
    "    \"FlatNo\":\"5th floor\",\n",
    "    \"Building\":\"PG Block\",\n",
    "    \"Village/Town\":\"Basavangudi\",\n",
    "    \"Block\":\"PG Block\",\n",
    "    \"Road/Street/Lane\":\"Bull temple road\",\n",
    "    \"City\":\"Bangalore\",\n",
    "    \"Pin\":\"560019\",\n",
    "    \"State\":\"29\",\n",
    "    \"District\":\"543\"\n",
    "},\n",
    "    \"date_of_inc\":\"08/09/2023\",\n",
    "    \"date_of_com\":\"08/09/2023\",\n",
    "    \"activity\":\"2\",    #1. Manufacturing 2. Services\n",
    "    \"male_employee\":\"2\",\n",
    "    \"female_employee\":\"0\",\n",
    "    \"others_employee\":\"0\",\n",
    "    \"subCategory\":\"2\" #1.Non-Trading  2.Trading\n",
    "}"
   ]
  },
  {
   "cell_type": "code",
   "execution_count": 8,
   "metadata": {},
   "outputs": [],
   "source": [
    "url=\"https://udyamregistration.gov.in/UdyamRegistration.aspx\""
   ]
  },
  {
   "cell_type": "code",
   "execution_count": 9,
   "metadata": {},
   "outputs": [],
   "source": [
    "response=requests.get(url)"
   ]
  },
  {
   "cell_type": "code",
   "execution_count": 10,
   "metadata": {},
   "outputs": [],
   "source": [
    "cookie=response.headers['set-cookie'].split(\";\")[0]"
   ]
  },
  {
   "cell_type": "code",
   "execution_count": 11,
   "metadata": {},
   "outputs": [],
   "source": [
    "soup = BeautifulSoup(response.text, 'html.parser')\n",
    "viewstate = soup.find('input', {'id': '__VIEWSTATE'})['value']\n",
    "viewstategenerator = soup.find('input', {'id': '__VIEWSTATEGENERATOR'})['value']\n",
    "eventvalidation = soup.find('input', {'id': '__EVENTVALIDATION'})['value']"
   ]
  },
  {
   "cell_type": "code",
   "execution_count": 12,
   "metadata": {},
   "outputs": [],
   "source": [
    "data={\n",
    "    \"ctl00$sm\":\"ctl00$ContentPlaceHolder1$UpdatePaneldd1|ctl00$ContentPlaceHolder1$btnValidateAadhaar\",\n",
    "    \"__EVENTTARGET\":\"\",\n",
    "    \"__EVENTARGUMENT\":\"\",\n",
    "    \"__VIEWSTATE\":viewstate,\n",
    "    \"__VIEWSTATEGENERATOR\":viewstategenerator,\n",
    "    \"__VIEWSTATEENCRYPTED\":\"\",\n",
    "    \"__EVENTVALIDATION\":eventvalidation,\n",
    "    \"cmbMoreFunction\":\"0\",\n",
    "    \"ctl00$ContentPlaceHolder1$txtadharno\":inp['aadhar'],\n",
    "    \"ctl00$ContentPlaceHolder1$txtownername\":inp['name'],\n",
    "    \"ctl00$ContentPlaceHolder1$chkDecarationA\":\"on\",\n",
    "    \"__ASYNCPOST\":'true',\n",
    "    \"ctl00$ContentPlaceHolder1$btnValidateAadhaar\":\"Validate & Generate OTP\"\n",
    "}"
   ]
  },
  {
   "cell_type": "code",
   "execution_count": 14,
   "metadata": {},
   "outputs": [],
   "source": [
    "headers={\n",
    " \"Cookie\":cookie   ,\n",
    " \"User-Agent\": \"Mozilla/5.0 (Windows NT 10.0; Win64; x64) AppleWebKit/537.36 (KHTML, like Gecko) Chrome/116.0.5845.141 Safari/537.36\"\n",
    "}"
   ]
  },
  {
   "cell_type": "code",
   "execution_count": 15,
   "metadata": {},
   "outputs": [],
   "source": [
    "multipart_data=MultipartEncoder(fields=data)\n",
    "headers[\"Content-Type\"]= multipart_data.content_type\n",
    "response=requests.post(url,headers=headers,data=multipart_data)"
   ]
  },
  {
   "cell_type": "code",
   "execution_count": 16,
   "metadata": {},
   "outputs": [],
   "source": [
    "viewstate,viewstategenerator,eventvalidation=get(response.text)"
   ]
  },
  {
   "cell_type": "code",
   "execution_count": 18,
   "metadata": {},
   "outputs": [],
   "source": [
    "otp=\"615247\""
   ]
  },
  {
   "cell_type": "code",
   "execution_count": 19,
   "metadata": {},
   "outputs": [],
   "source": [
    "data={\n",
    "    \"ctl00$sm\":\"ctl00$ContentPlaceHolder1$UpdatePaneldd1|ctl00$ContentPlaceHolder1$btnValidate\",\n",
    "    \"__EVENTTARGET\":\"\",\n",
    "    \"__EVENTARGUMENT\":\"\",\n",
    "    \"__VIEWSTATE\":viewstate,\n",
    "    \"__VIEWSTATEGENERATOR\":viewstategenerator,\n",
    "    \"__VIEWSTATEENCRYPTED\":\"\",\n",
    "    \"__EVENTVALIDATION\":eventvalidation,\n",
    "    \"cmbMoreFunction\":\"0\",\n",
    "    \"ctl00$ContentPlaceHolder1$txtadharno\":inp['aadhar'],\n",
    "    \"ctl00$ContentPlaceHolder1$txtownername\":inp['name'],\n",
    "    \"ctl00$ContentPlaceHolder1$txtOtp1\":otp,\n",
    "    \"ctl00$ContentPlaceHolder1$chkDecarationA\":\"on\",\n",
    "    \"__AjaxControlToolkitCalendarCssLoaded\":\"\",\n",
    "    \"__VIEWSTATEENCRYPTED\":\"\",\n",
    "    \"__ASYNCPOST\":'true',\n",
    "    \"ctl00$ContentPlaceHolder1$btnValidate\":\"Validate\"\n",
    "}"
   ]
  },
  {
   "cell_type": "code",
   "execution_count": 20,
   "metadata": {},
   "outputs": [],
   "source": [
    "multipart_data=MultipartEncoder(fields=data)\n",
    "headers[\"Content-Type\"]= multipart_data.content_type\n",
    "response=requests.post(url,headers=headers,data=multipart_data)"
   ]
  },
  {
   "cell_type": "code",
   "execution_count": 21,
   "metadata": {},
   "outputs": [],
   "source": [
    "viewstate,viewstategenerator,eventvalidation=get(response.text)"
   ]
  },
  {
   "cell_type": "code",
   "execution_count": 22,
   "metadata": {},
   "outputs": [],
   "source": [
    "data={\n",
    "    \"ctl00$sm\":\"ctl00$ContentPlaceHolder1$UpdatePaneldd1|ctl00$ContentPlaceHolder1$ddlTypeofOrg\",\n",
    "    \"cmbMoreFunction\":\"0\",\n",
    "    \"ctl00$ContentPlaceHolder1$txtadharno\":inp['aadhar'],\n",
    "    \"ctl00$ContentPlaceHolder1$txtownername\":inp['name'],\n",
    "    \"ctl00$ContentPlaceHolder1$chkDecarationA\":\"on\",\n",
    "    \"ctl00$ContentPlaceHolder1$ddlTypeofOrg\":\"5\",\n",
    "    \"ctl00$ContentPlaceHolder1$rbpanyesno\":\"1\",\n",
    "    \"ctl00$ContentPlaceHolder1$txtPan\":inp['pan'],\n",
    "    \"__EVENTTARGET\":\"\",\n",
    "    \"__EVENTARGUMENT\":\"\",\n",
    "    \"__VIEWSTATE\":viewstate,\n",
    "    \"__VIEWSTATEGENERATOR\":viewstategenerator,\n",
    "    \"__EVENTVALIDATION\":eventvalidation,\n",
    "    \"__AjaxControlToolkitCalendarCssLoaded\":\"\",\n",
    "    \"__LASTFOCUS\":\"\",\n",
    "    \"__VIEWSTATEENCRYPTED\":\"\",\n",
    "    \"__ASYNCPOST\":\"true\"\n",
    "}"
   ]
  },
  {
   "cell_type": "code",
   "execution_count": 23,
   "metadata": {},
   "outputs": [],
   "source": [
    "multipart_data=MultipartEncoder(fields=data)\n",
    "headers[\"Content-Type\"]= multipart_data.content_type\n",
    "response=requests.post(url,headers=headers,data=multipart_data)"
   ]
  },
  {
   "cell_type": "code",
   "execution_count": 24,
   "metadata": {},
   "outputs": [],
   "source": [
    "viewstate,viewstategenerator,eventvalidation=get(response.text)"
   ]
  },
  {
   "cell_type": "code",
   "execution_count": 25,
   "metadata": {},
   "outputs": [],
   "source": [
    "data={\n",
    "    \"ctl00$sm\":\"ctl00$ContentPlaceHolder1$UpdatePaneldd1|ctl00$ContentPlaceHolder1$btnValidatePan\",\n",
    "    \"cmbMoreFunction\":\"0\",\n",
    "    \"ctl00$ContentPlaceHolder1$txtadharno\":inp['aadhar'],\n",
    "    \"ctl00$ContentPlaceHolder1$txtownername\":inp['name'],\n",
    "    \"ctl00$ContentPlaceHolder1$chkDecarationA\":\"on\",\n",
    "    \"ctl00$ContentPlaceHolder1$ddlTypeofOrg\":\"5\",\n",
    "    \"ctl00$ContentPlaceHolder1$rbpanyesno\":\"1\",\n",
    "    \"ctl00$ContentPlaceHolder1$txtPan\":inp['pan'],\n",
    "    \"__EVENTTARGET\":\"\",\n",
    "    \"__EVENTARGUMENT\":\"\",\n",
    "    \"__VIEWSTATE\":viewstate,\n",
    "    \"__VIEWSTATEGENERATOR\":viewstategenerator,\n",
    "    \"__EVENTVALIDATION\":eventvalidation,\n",
    "    \"__AjaxControlToolkitCalendarCssLoaded\":\"\",\n",
    "    \"__LASTFOCUS\":\"\",\n",
    "    \"__VIEWSTATEENCRYPTED\":\"\",\n",
    "    \"__ASYNCPOST\":\"true\",\n",
    "    \"ctl00$ContentPlaceHolder1$btnValidatePan\":\"PAN Validate\"\n",
    "}"
   ]
  },
  {
   "cell_type": "code",
   "execution_count": 26,
   "metadata": {},
   "outputs": [],
   "source": [
    "multipart_data=MultipartEncoder(fields=data)\n",
    "headers[\"Content-Type\"]= multipart_data.content_type\n",
    "response=requests.post(url,headers=headers,data=multipart_data)"
   ]
  },
  {
   "cell_type": "code",
   "execution_count": 27,
   "metadata": {},
   "outputs": [],
   "source": [
    "viewstate1,viewstategenerator1,eventvalidation1=get(response.text)"
   ]
  },
  {
   "cell_type": "code",
   "execution_count": 28,
   "metadata": {},
   "outputs": [],
   "source": [
    "data={\n",
    "    \"ctl00$sm\":\"ctl00$ContentPlaceHolder1$UpdatePaneldd1|ctl00$ContentPlaceHolder1$btnGetPanData\",\n",
    "    \"cmbMoreFunction\":\"0\",\n",
    "    \"ctl00$ContentPlaceHolder1$txtadharno\":inp['aadhar'],\n",
    "    \"ctl00$ContentPlaceHolder1$txtownername\":inp['name'],\n",
    "    \"ctl00$ContentPlaceHolder1$chkDecarationA\":\"on\",\n",
    "    \"ctl00$ContentPlaceHolder1$ddlTypeofOrg\":\"5\",\n",
    "    \"ctl00$ContentPlaceHolder1$rbpanyesno\":\"1\",\n",
    "    \"ctl00$ContentPlaceHolder1$txtPan\":inp['pan'],\n",
    "    \"ctl00$ContentPlaceHolder1$chkDecarationP\":\"on\",\n",
    "    \"__EVENTTARGET\":\"\",\n",
    "    \"__EVENTARGUMENT\":\"\",\n",
    "    \"__VIEWSTATE\":viewstate1,\n",
    "    \"__VIEWSTATEGENERATOR\":viewstategenerator1,\n",
    "    \"__EVENTVALIDATION\":eventvalidation1,\n",
    "    \"__AjaxControlToolkitCalendarCssLoaded\":\"\",\n",
    "    \"__LASTFOCUS\":\"\",\n",
    "    \"__VIEWSTATEENCRYPTED\":\"\",\n",
    "    \"__ASYNCPOST\":\"true\",\n",
    "    \"ctl00$ContentPlaceHolder1$btnGetPanData\":\"Continue\"\n",
    "}"
   ]
  },
  {
   "cell_type": "code",
   "execution_count": 29,
   "metadata": {},
   "outputs": [],
   "source": [
    "multipart_data=MultipartEncoder(fields=data)\n",
    "headers[\"Content-Type\"]= multipart_data.content_type\n",
    "response=requests.post(url,headers=headers,data=multipart_data)"
   ]
  },
  {
   "cell_type": "code",
   "execution_count": 30,
   "metadata": {},
   "outputs": [],
   "source": [
    "viewstate2,viewstategenerator2,eventvalidation2=get(response.text)"
   ]
  },
  {
   "cell_type": "code",
   "execution_count": null,
   "metadata": {},
   "outputs": [],
   "source": [
    "soup = BeautifulSoup(response.text, 'html.parser')\n",
    "input_elements = soup.find_all('input')\n",
    "id_value_dict = {}\n",
    "for element in input_elements:\n",
    "    input_id = element.get('name')\n",
    "    input_value = element.get('value')\n",
    "    id_value_dict[input_id] = input_value\n",
    "print(id_value_dict)"
   ]
  },
  {
   "cell_type": "code",
   "execution_count": 69,
   "metadata": {},
   "outputs": [
    {
     "data": {
      "text/plain": [
       "2"
      ]
     },
     "execution_count": 69,
     "metadata": {},
     "output_type": "execute_result"
    }
   ],
   "source": [
    "int(inp['male_employee'])+int(inp['female_employee'])+int(inp['others_employee'])"
   ]
  },
  {
   "cell_type": "code",
   "execution_count": 226,
   "metadata": {},
   "outputs": [],
   "source": [
    "#MANUFACTURING OR SERVICES\n",
    "data1={\n",
    "    \"ctl00$sm\":\"ctl00$ContentPlaceHolder1$UpdatePaneldd1|ctl00$ContentPlaceHolder1$rdbCatgg$1\",\n",
    "    \"cmbMoreFunction\":\"0\",\n",
    "    \"ctl00$ContentPlaceHolder1$txtadharno\":inp['aadhar'],\n",
    "    \"ctl00$ContentPlaceHolder1$txtownername\":inp['name'],\n",
    "    \"ctl00$ContentPlaceHolder1$chkDecarationA\":\"on\",\n",
    "    \"ctl00$ContentPlaceHolder1$ddlTypeofOrg\":\"5\",   #5 is for pvt ltd,\n",
    "    \"ctl00$ContentPlaceHolder1$rbpanyesno\":\"1\",\n",
    "    \"ctl00$ContentPlaceHolder1$txtPan\":inp['pan'],\n",
    "    \"ctl00$ContentPlaceHolder1$chkDecarationP\":\"on\",\n",
    "    \"ctl00$ContentPlaceHolder1$rblPreviousYearITR\":id_value_dict['ctl00$ContentPlaceHolder1$rblPreviousYearITR'],\n",
    "    \"ctl00$ContentPlaceHolder1$rblWhetherGstn\":\"0\", #yes , no ,exempted\n",
    "    \"ctl00$ContentPlaceHolder1$txtOwnernamePan\":id_value_dict['ctl00$ContentPlaceHolder1$txtOwnernamePan'],\n",
    "    \"ctl00$ContentPlaceHolder1$hdnPanCode\":id_value_dict['ctl00$ContentPlaceHolder1$hdnPanCode'],\n",
    "    \"ctl00$ContentPlaceHolder1$hdnPanStatusCode\":id_value_dict['ctl00$ContentPlaceHolder1$hdnPanStatusCode'],\n",
    "    \"ctl00$ContentPlaceHolder1$hdnPanAadhaarStatus\":id_value_dict['ctl00$ContentPlaceHolder1$hdnPanAadhaarStatus'],\n",
    "    \"ctl00$ContentPlaceHolder1$hdnIsPanUpdated\":id_value_dict['ctl00$ContentPlaceHolder1$hdnIsPanUpdated'],\n",
    "    \"ctl00$ContentPlaceHolder1$hdnPan_AssessmentYear\":\"\",\n",
    "    \"ctl00$ContentPlaceHolder1$hdnIS_UPDATED_FROM_PAN\":id_value_dict['ctl00$ContentPlaceHolder1$hdnIS_UPDATED_FROM_PAN'],\n",
    "    \"ctl00$ContentPlaceHolder1$hdnIsGstinUpdated\":id_value_dict['ctl00$ContentPlaceHolder1$hdnIsGstinUpdated'],\n",
    "    \"ctl00$ContentPlaceHolder1$rdbcategory\":inp['social_category'],   #social_category 1.General 2.SC 3.ST 4.OBC\n",
    "    \"ctl00$ContentPlaceHolder1$rbtGender\":inp['gender'],      #gender 1.MALE 2.FEMALE 3.OTHERS\n",
    "    \"ctl00$ContentPlaceHolder1$rbtPh\":inp['specially_abled'],          #specailly abled or not 1.YES 2.NO\n",
    "    \"ctl00$ContentPlaceHolder1$txtenterprisename\":inp['Enterprise Name'],    #enterprise name\n",
    "    \"ctl00$ContentPlaceHolder1$txtUnitName\":inp['Unit Name'],        #unit name\n",
    "    \"ctl00$ContentPlaceHolder1$hdnUnitDetail\":\"0\",\n",
    "    \"ctl00$ContentPlaceHolder1$ddlUnitName\":\"0\",\n",
    "    \"ctl00$ContentPlaceHolder1$txtPFlat\":\"\",\n",
    "    \"ctl00$ContentPlaceHolder1$txtPBuilding\":\"\",\n",
    "    \"ctl00$ContentPlaceHolder1$txtPVillageTown\":\"\",\n",
    "    \"ctl00$ContentPlaceHolder1$txtPBlock\":\"\",\n",
    "    \"ctl00$ContentPlaceHolder1$txtPRoadStreetLane\":\"\",\n",
    "    \"ctl00$ContentPlaceHolder1$txtPCity\":\"\",\n",
    "    \"ctl00$ContentPlaceHolder1$txtPpin\":\"\",\n",
    "    \"ctl00$ContentPlaceHolder1$ddlPState\":\"0\",\n",
    "    \"ctl00$ContentPlaceHolder1$ddlPDistrict\":\"0\",\n",
    "    \"ctl00$ContentPlaceHolder1$hdnRegPlant\":\"0\",\n",
    "    \"ctl00$ContentPlaceHolder1$txtOffFlatNo\":inp['officeDetails'][\"FlatNo\"],\n",
    "    \"ctl00$ContentPlaceHolder1$txtOffBuilding\":inp['officeDetails']['Building'],\n",
    "    \"ctl00$ContentPlaceHolder1$txtOffVillageTown\":inp['officeDetails']['Village/Town'],\n",
    "    \"ctl00$ContentPlaceHolder1$txtOffBlock\":inp['officeDetails']['Block'],\n",
    "    \"ctl00$ContentPlaceHolder1$txtOffRoadStreetLane\":inp['officeDetails']['Road/Street/Lane'],\n",
    "    \"ctl00$ContentPlaceHolder1$txtOffCity\":inp['officeDetails']['City'],\n",
    "    \"ctl00$ContentPlaceHolder1$txtOffPin\":inp['officeDetails']['Pin'],\n",
    "    \"ctl00$ContentPlaceHolder1$ddlstate\":\"0\",\n",
    "    \"ctl00$ContentPlaceHolder1$ddlDistrict\":\"0\",\n",
    "    \"ctl00$ContentPlaceHolder1$hdndtcode\":\"\",\n",
    "    \"ctl00$ContentPlaceHolder1$txtLat\":\"\",\n",
    "    \"ctl00$ContentPlaceHolder1$txtLngt\":\"\",\n",
    "    \"ctl00$ContentPlaceHolder1$rdbPreviousEM\":\"0\",       #previous EM-II/UAM Registration number,if any : 1.N/A 2.EM-II 3.PREVIOUS UAM\n",
    "    \"ctl00$ContentPlaceHolder1$txtdateIncorporation\":inp['date_of_inc'],   #DATE OF INCORPORATION    \n",
    "    \"ctl00$ContentPlaceHolder1$rblcommenced\":\"1\",\n",
    "    \"ctl00$ContentPlaceHolder1$txtcommencedate\":inp['date_of_com'],\n",
    "    \"ctl00$ContentPlaceHolder1$txtBankName\":inp['bank_name'],\n",
    "    \"ctl00$ContentPlaceHolder1$txtifsccode\":inp['ifsc'],\n",
    "    \"ctl00$ContentPlaceHolder1$txtaccountno\":inp['account_no'],\n",
    "    \"ctl00$ContentPlaceHolder1$rdbCatgg\":inp[\"activity\"],\n",
    "    \"ctl00$ContentPlaceHolder1$txtsearchNic\":\"\",\n",
    "    \"ctl00$ContentPlaceHolder1$ddl2NicCode\":\"0\",\n",
    "    \"ctl00$ContentPlaceHolder1$ddl4NicCode\":\"0\",\n",
    "    \"ctl00$ContentPlaceHolder1$ddl5NicCode\":\"0\",\n",
    "    \"ctl00$ContentPlaceHolder1$hdnRegProduct\":\"0\",\n",
    "    \"ctl00$ContentPlaceHolder1$txtNoofpersonMale\":inp['male_employee'],\n",
    "    \"ctl00$ContentPlaceHolder1$txtNoofpersonFemale\":inp['female_employee'],\n",
    "    \"ctl00$ContentPlaceHolder1$txtNoofpersonOthers\":inp['others_employee'],\n",
    "    \"ctl00$ContentPlaceHolder1$txttotalemp\":str(int(inp['male_employee'])+int(inp['female_employee'])+int(inp['others_employee'])),\n",
    "    \"ctl00$ContentPlaceHolder1$chkboxEmp\":\"on\",\n",
    "    \"ctl00$ContentPlaceHolder1$txtDepCost\":\"\",\n",
    "    \"ctl00$ContentPlaceHolder1$txtExCost\":\"\",\n",
    "    \"ctl00$ContentPlaceHolder1$txtNetInvestmentcost\":\"\",\n",
    "    \"ctl00$ContentPlaceHolder1$txtTotalTurnoverA\":\"\",\n",
    "    \"ctl00$ContentPlaceHolder1$txtTotalTurnoverB\":id_value_dict['ctl00$ContentPlaceHolder1$txtTotalTurnoverB'],\n",
    "    \"ctl00$ContentPlaceHolder1$txtNetTurnover\":id_value_dict['ctl00$ContentPlaceHolder1$txtNetTurnover'],\n",
    "    \"ctl00$ContentPlaceHolder1$rblnsic\":\"1\",  #have to figure out\n",
    "    \"ctl00$ContentPlaceHolder1$ddlDIC\":\"0\",\n",
    "    \"ctl00$ContentPlaceHolder1$chkDecaration\":\"on\",\n",
    "    \"ctl00$ContentPlaceHolder1$hidotptry\":\"\",   \n",
    "    \"__EVENTTARGET\":\"ctl00$ContentPlaceHolder1$rdbCatgg$1\",\n",
    "    \"__EVENTARGUMENT\":\"\",\n",
    "    \"__VIEWSTATE\":viewstate2,\n",
    "    \"__VIEWSTATEGENERATOR\":viewstategenerator2,\n",
    "    \"__EVENTVALIDATION\":eventvalidation2,\n",
    "    \"__AjaxControlToolkitCalendarCssLoaded\":\"\",\n",
    "    \"__LASTFOCUS\":\"\",\n",
    "    \"__VIEWSTATEENCRYPTED\":\"\",\n",
    "    \"__ASYNCPOST\":\"true\"\n",
    "}"
   ]
  },
  {
   "cell_type": "code",
   "execution_count": 227,
   "metadata": {},
   "outputs": [],
   "source": [
    "multipart_data=MultipartEncoder(fields=data1)\n",
    "headers[\"Content-Type\"]= multipart_data.content_type\n",
    "response=requests.post(url,headers=headers,data=multipart_data)"
   ]
  },
  {
   "cell_type": "code",
   "execution_count": 228,
   "metadata": {},
   "outputs": [],
   "source": [
    "viewstate3,viewstategenerator3,eventvalidation3=get(response.text)"
   ]
  },
  {
   "cell_type": "code",
   "execution_count": 229,
   "metadata": {},
   "outputs": [],
   "source": [
    "data2=data1.copy()"
   ]
  },
  {
   "cell_type": "code",
   "execution_count": 230,
   "metadata": {},
   "outputs": [],
   "source": [
    "#add unit\n",
    "data2['ctl00$sm']=\"ctl00$ContentPlaceHolder1$UpdatePaneldd1|ctl00$ContentPlaceHolder1$btnAddUnit\"\n",
    "data2['ctl00$ContentPlaceHolder1$txtmobile']=inp['mobile']\n",
    "data2['ctl00$ContentPlaceHolder1$txtemail']=inp['email']\n",
    "data2['ctl00$ContentPlaceHolder1$rdbSubCategg']=inp['subCategory']\n",
    "data2['__EVENTTARGET']=\"\"\n",
    "data2['__VIEWSTATE']=viewstate3\n",
    "data2['__VIEWSTATEGENERATOR']=viewstategenerator3\n",
    "data2['__EVENTVALIDATION']=eventvalidation3\n",
    "data2['ctl00$ContentPlaceHolder1$btnAddUnit']=\"Add Unit\""
   ]
  },
  {
   "cell_type": "code",
   "execution_count": null,
   "metadata": {},
   "outputs": [],
   "source": [
    "multipart_data=MultipartEncoder(fields=data2)\n",
    "headers[\"Content-Type\"]= multipart_data.content_type\n",
    "response=requests.post(url,headers=headers,data=multipart_data)\n",
    "response"
   ]
  },
  {
   "cell_type": "code",
   "execution_count": 232,
   "metadata": {},
   "outputs": [],
   "source": [
    "viewstate4,viewstategenerator4,eventvalidation4=get(response.text)\n"
   ]
  },
  {
   "cell_type": "code",
   "execution_count": 233,
   "metadata": {},
   "outputs": [],
   "source": [
    "data3=data2.copy()"
   ]
  },
  {
   "cell_type": "code",
   "execution_count": 234,
   "metadata": {},
   "outputs": [],
   "source": [
    "del data3['ctl00$ContentPlaceHolder1$btnAddUnit']"
   ]
  },
  {
   "cell_type": "code",
   "execution_count": 235,
   "metadata": {},
   "outputs": [],
   "source": [
    "#add plant state\n",
    "data3['ctl00$sm']=\"ctl00$ContentPlaceHolder1$UpdatePaneldd1|ctl00$ContentPlaceHolder1$ddlPState\"\n",
    "data3['ctl00$ContentPlaceHolder1$txtUnitName']=\"\"\n",
    "data3['ctl00$ContentPlaceHolder1$hdnUnitDetail']=\"1\"\n",
    "data3['ctl00$ContentPlaceHolder1$ddlUnitName']=\"1\"\n",
    "data3['ctl00$ContentPlaceHolder1$txtPFlat']=inp['flatDetails']['FlatNo']\n",
    "data3['ctl00$ContentPlaceHolder1$txtPBuilding']=inp['flatDetails']['Building']\n",
    "data3['ctl00$ContentPlaceHolder1$txtPVillageTown']=inp['flatDetails']['Village/Town']\n",
    "data3['ctl00$ContentPlaceHolder1$txtPBlock']=inp['flatDetails']['Block']\n",
    "data3['ctl00$ContentPlaceHolder1$txtPRoadStreetLane']=inp['flatDetails']['Road/Street/Lane']\n",
    "data3['ctl00$ContentPlaceHolder1$txtPCity']=inp['flatDetails']['City']\n",
    "data3['ctl00$ContentPlaceHolder1$txtPpin']=inp['flatDetails']['Pin']\n",
    "data3['ctl00$ContentPlaceHolder1$ddlPState']=inp['flatDetails']['State']\n",
    "data3['__VIEWSTATE']=viewstate4\n",
    "data3['__VIEWSTATEGENERATOR']=viewstategenerator4\n",
    "data3['__EVENTVALIDATION']=eventvalidation4\n",
    "data3['__EVENTTARGET']=\"ctl00$ContentPlaceHolder1$ddlPState\""
   ]
  },
  {
   "cell_type": "code",
   "execution_count": 236,
   "metadata": {},
   "outputs": [],
   "source": [
    "multipart_data=MultipartEncoder(fields=data3)\n",
    "headers[\"Content-Type\"]= multipart_data.content_type\n",
    "response=requests.post(url,headers=headers,data=multipart_data)"
   ]
  },
  {
   "cell_type": "code",
   "execution_count": 237,
   "metadata": {},
   "outputs": [],
   "source": [
    "viewstate5,viewstategenerator5,eventvalidation5=get(response.text)\n"
   ]
  },
  {
   "cell_type": "code",
   "execution_count": 238,
   "metadata": {},
   "outputs": [],
   "source": [
    "data4=data3.copy()"
   ]
  },
  {
   "cell_type": "code",
   "execution_count": 239,
   "metadata": {},
   "outputs": [],
   "source": [
    "#add plant button\n",
    "data4['ctl00$sm']=\"ctl00$ContentPlaceHolder1$UpdatePaneldd1|ctl00$ContentPlaceHolder1$BtnPAdd\"\n",
    "data4['ctl00$ContentPlaceHolder1$ddlPDistrict']=inp['flatDetails']['District']\n",
    "data4['__EVENTTARGET']=\"\"\n",
    "data4['ctl00$ContentPlaceHolder1$BtnPAdd']=\"Add Plant\"\n",
    "data4['__VIEWSTATE']=viewstate5\n",
    "data4['__VIEWSTATEGENERATOR']=viewstategenerator5\n",
    "data4['__EVENTVALIDATION']=eventvalidation5"
   ]
  },
  {
   "cell_type": "code",
   "execution_count": 240,
   "metadata": {},
   "outputs": [],
   "source": [
    "multipart_data=MultipartEncoder(fields=data4)\n",
    "headers[\"Content-Type\"]= multipart_data.content_type\n",
    "response=requests.post(url,headers=headers,data=multipart_data)"
   ]
  },
  {
   "cell_type": "code",
   "execution_count": 241,
   "metadata": {},
   "outputs": [],
   "source": [
    "viewstate6,viewstategenerator6,eventvalidation6=get(response.text)\n"
   ]
  },
  {
   "cell_type": "code",
   "execution_count": 242,
   "metadata": {},
   "outputs": [],
   "source": [
    "data5=data4.copy()"
   ]
  },
  {
   "cell_type": "code",
   "execution_count": 243,
   "metadata": {},
   "outputs": [],
   "source": [
    "del data5['ctl00$ContentPlaceHolder1$BtnPAdd']"
   ]
  },
  {
   "cell_type": "code",
   "execution_count": 244,
   "metadata": {},
   "outputs": [],
   "source": [
    "#office state\n",
    "data5['ctl00$ContentPlaceHolder1$ddlPDistrict']=\"0\"\n",
    "data5['ctl00$sm']=\"ctl00$ContentPlaceHolder1$UpdatePaneldd1|ctl00$ContentPlaceHolder1$ddlstate\"\n",
    "data5['ctl00$ContentPlaceHolder1$ddlstate']=inp['officeDetails']['State']\n",
    "data5['__EVENTTARGET']=\"ctl00$ContentPlaceHolder1$ddlstate\"\n",
    "data5['__VIEWSTATE']=viewstate6\n",
    "data5['__VIEWSTATEGENERATOR']=viewstategenerator6\n",
    "data5['__EVENTVALIDATION']=eventvalidation6"
   ]
  },
  {
   "cell_type": "code",
   "execution_count": 245,
   "metadata": {},
   "outputs": [],
   "source": [
    "multipart_data=MultipartEncoder(fields=data5)\n",
    "headers[\"Content-Type\"]= multipart_data.content_type\n",
    "response=requests.post(url,headers=headers,data=multipart_data)"
   ]
  },
  {
   "cell_type": "code",
   "execution_count": 246,
   "metadata": {},
   "outputs": [],
   "source": [
    "viewstate7,viewstategenerator7,eventvalidation7=get(response.text)\n"
   ]
  },
  {
   "cell_type": "code",
   "execution_count": 247,
   "metadata": {},
   "outputs": [],
   "source": [
    "data6=data5.copy()"
   ]
  },
  {
   "cell_type": "code",
   "execution_count": 248,
   "metadata": {},
   "outputs": [],
   "source": [
    "#office district\n",
    "data6['ctl00$sm']=\"ctl00$ContentPlaceHolder1$UpdatePaneldd1|ctl00$ContentPlaceHolder1$ddlDistrict\"\n",
    "data6['ctl00$ContentPlaceHolder1$ddlDistrict']=inp['officeDetails']['District']\n",
    "data6['__EVENTTARGET']=\"ctl00$ContentPlaceHolder1$ddlDistrict\"\n",
    "data6['__VIEWSTATE']=viewstate7\n",
    "data6['__VIEWSTATEGENERATOR']=viewstategenerator7\n",
    "data6['__EVENTVALIDATION']=eventvalidation7"
   ]
  },
  {
   "cell_type": "code",
   "execution_count": 249,
   "metadata": {},
   "outputs": [],
   "source": [
    "multipart_data=MultipartEncoder(fields=data6)\n",
    "headers[\"Content-Type\"]= multipart_data.content_type\n",
    "response=requests.post(url,headers=headers,data=multipart_data)"
   ]
  },
  {
   "cell_type": "code",
   "execution_count": 250,
   "metadata": {},
   "outputs": [],
   "source": [
    "viewstate8,viewstategenerator8,eventvalidation8=get(response.text)\n"
   ]
  },
  {
   "cell_type": "code",
   "execution_count": 251,
   "metadata": {},
   "outputs": [],
   "source": [
    "data7=data6.copy()"
   ]
  },
  {
   "cell_type": "code",
   "execution_count": 252,
   "metadata": {},
   "outputs": [],
   "source": [
    "#add latitude and longitude\n",
    "data7['__EVENTTARGET']=\"\"\n",
    "data7['ctl00$ContentPlaceHolder1$txtLat']=inp['officeDetails']['lat']\n",
    "data7['ctl00$ContentPlaceHolder1$txtLngt']=inp['officeDetails']['long']\n",
    "data7['__VIEWSTATE']=viewstate8\n",
    "data7['__VIEWSTATEGENERATOR']=viewstategenerator8\n",
    "data7['__EVENTVALIDATION']=eventvalidation8"
   ]
  },
  {
   "cell_type": "code",
   "execution_count": 253,
   "metadata": {},
   "outputs": [],
   "source": [
    "multipart_data=MultipartEncoder(fields=data7)\n",
    "headers[\"Content-Type\"]= multipart_data.content_type\n",
    "response=requests.post(url,headers=headers,data=multipart_data)"
   ]
  },
  {
   "cell_type": "code",
   "execution_count": 254,
   "metadata": {},
   "outputs": [],
   "source": [
    "viewstate9,viewstategenerator9,eventvalidation9=get(response.text)\n"
   ]
  },
  {
   "cell_type": "code",
   "execution_count": 255,
   "metadata": {},
   "outputs": [],
   "source": [
    "data8=data7.copy()"
   ]
  },
  {
   "cell_type": "code",
   "execution_count": 260,
   "metadata": {},
   "outputs": [],
   "source": [
    "data8['ctl00$sm']=\"ctl00$ContentPlaceHolder1$UpdatePaneldd1|ctl00$ContentPlaceHolder1$rdbCatggMultiple$1\"\n",
    "data8['ctl00$ContentPlaceHolder1$rdbCatggMultiple']=\"2\"\n",
    "data8['__EVENTTARGET']=\"ctl00$ContentPlaceHolder1$rdbCatggMultiple$1\""
   ]
  },
  {
   "cell_type": "code",
   "execution_count": 262,
   "metadata": {},
   "outputs": [],
   "source": [
    "multipart_data=MultipartEncoder(fields=data8)\n",
    "headers[\"Content-Type\"]= multipart_data.content_type\n",
    "response=requests.post(url,headers=headers,data=multipart_data)"
   ]
  },
  {
   "cell_type": "code",
   "execution_count": 264,
   "metadata": {},
   "outputs": [],
   "source": [
    "viewstate10,viewstategenerator10,eventvalidation10=get(response.text)"
   ]
  },
  {
   "cell_type": "code",
   "execution_count": 265,
   "metadata": {},
   "outputs": [],
   "source": [
    "data9=data8.copy()"
   ]
  },
  {
   "cell_type": "code",
   "execution_count": null,
   "metadata": {},
   "outputs": [],
   "source": []
  }
 ],
 "metadata": {
  "interpreter": {
   "hash": "916dbcbb3f70747c44a77c7bcd40155683ae19c65e1c03b4aa3499c5328201f1"
  },
  "kernelspec": {
   "display_name": "Python 3.10.12 64-bit",
   "language": "python",
   "name": "python3"
  },
  "language_info": {
   "codemirror_mode": {
    "name": "ipython",
    "version": 3
   },
   "file_extension": ".py",
   "mimetype": "text/x-python",
   "name": "python",
   "nbconvert_exporter": "python",
   "pygments_lexer": "ipython3",
   "version": "3.10.12"
  },
  "orig_nbformat": 4
 },
 "nbformat": 4,
 "nbformat_minor": 2
}
