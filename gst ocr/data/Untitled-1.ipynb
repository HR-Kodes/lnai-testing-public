{
 "cells": [
  {
   "cell_type": "code",
   "execution_count": 3,
   "metadata": {},
   "outputs": [
    {
     "ename": "RuntimeError",
     "evalue": "Proxy error(FileNotFoundException): Could not find file '/home/pratik/Desktop/LN/gst ocr/invoice_Part1.pdf'.",
     "output_type": "error",
     "traceback": [
      "\u001b[0;31m---------------------------------------------------------------------------\u001b[0m",
      "\u001b[0;31mRuntimeError\u001b[0m                              Traceback (most recent call last)",
      "Cell \u001b[0;32mIn[3], line 5\u001b[0m\n\u001b[1;32m      2\u001b[0m \u001b[38;5;28;01mfrom\u001b[39;00m \u001b[38;5;21;01maspose\u001b[39;00m\u001b[38;5;21;01m.\u001b[39;00m\u001b[38;5;21;01mpdf\u001b[39;00m\u001b[38;5;21;01m.\u001b[39;00m\u001b[38;5;21;01mtext\u001b[39;00m \u001b[38;5;28;01mimport\u001b[39;00m TextFragmentAbsorber, FontRepository\n\u001b[1;32m      4\u001b[0m \u001b[38;5;66;03m# Load the PDF document\u001b[39;00m\n\u001b[0;32m----> 5\u001b[0m document \u001b[38;5;241m=\u001b[39m \u001b[43map\u001b[49m\u001b[38;5;241;43m.\u001b[39;49m\u001b[43mDocument\u001b[49m\u001b[43m(\u001b[49m\u001b[38;5;124;43mf\u001b[39;49m\u001b[38;5;124;43m\"\u001b[39;49m\u001b[38;5;124;43m/home/pratik/Desktop/LN/gst ocr/invoice_Part1.pdf\u001b[39;49m\u001b[38;5;124;43m\"\u001b[39;49m\u001b[43m)\u001b[49m\n\u001b[1;32m      7\u001b[0m \u001b[38;5;66;03m# Define a dictionary of texts to be replaced and their replacements\u001b[39;00m\n\u001b[1;32m      8\u001b[0m replacements \u001b[38;5;241m=\u001b[39m {\n\u001b[1;32m      9\u001b[0m     \u001b[38;5;124m\"\u001b[39m\u001b[38;5;124mCIIE Cohort T-shirts\u001b[39m\u001b[38;5;124m\"\u001b[39m: \u001b[38;5;124m\"\u001b[39m\u001b[38;5;124mxyz\u001b[39m\u001b[38;5;124m\"\u001b[39m,\n\u001b[1;32m     10\u001b[0m     \u001b[38;5;124m\"\u001b[39m\u001b[38;5;124mHoodies\u001b[39m\u001b[38;5;124m\"\u001b[39m: \u001b[38;5;124m\"\u001b[39m\u001b[38;5;124mzxy\u001b[39m\u001b[38;5;124m\"\u001b[39m,\n\u001b[1;32m     11\u001b[0m }\n",
      "\u001b[0;31mRuntimeError\u001b[0m: Proxy error(FileNotFoundException): Could not find file '/home/pratik/Desktop/LN/gst ocr/invoice_Part1.pdf'."
     ]
    }
   ],
   "source": [
    "import aspose.pdf as ap\n",
    "from aspose.pdf.text import TextFragmentAbsorber, FontRepository\n",
    "\n",
    "# Load the PDF document\n",
    "document = ap.Document(f\"/home/pratik/Desktop/LN/gst ocr/invoice_Part1.pdf\")\n",
    "\n",
    "# Define a dictionary of texts to be replaced and their replacements\n",
    "replacements = {\n",
    "    \"CIIE Cohort T-shirts\": \"xyz\",\n",
    "    \"Hoodies\": \"zxy\",\n",
    "}\n",
    "\n",
    "# Iterate over the texts to be replaced\n",
    "for old_text, new_text in replacements.items():\n",
    "    # Instantiate a TextFragmentAbsorber object\n",
    "    txtAbsorber = ap.text.TextFragmentAbsorber(old_text)\n",
    "\n",
    "    # Search text\n",
    "    document.pages.accept(txtAbsorber)\n",
    "\n",
    "    # Get reference to the found text fragments\n",
    "    textFragmentCollection = txtAbsorber.text_fragments\n",
    "\n",
    "    # Parse all the searched text fragments and replace text\n",
    "    for txtFragment in textFragmentCollection:\n",
    "        txtFragment.text_state.font = FontRepository.find_font(\"Arial\")\n",
    "        txtFragment.text = new_text\n",
    "\n",
    "# Save the updated PDF\n",
    "document.save(\"output.pdf\")"
   ]
  }
 ],
 "metadata": {
  "interpreter": {
   "hash": "916dbcbb3f70747c44a77c7bcd40155683ae19c65e1c03b4aa3499c5328201f1"
  },
  "kernelspec": {
   "display_name": "Python 3.10.12 64-bit",
   "language": "python",
   "name": "python3"
  },
  "language_info": {
   "codemirror_mode": {
    "name": "ipython",
    "version": 3
   },
   "file_extension": ".py",
   "mimetype": "text/x-python",
   "name": "python",
   "nbconvert_exporter": "python",
   "pygments_lexer": "ipython3",
   "version": "3.10.12"
  },
  "orig_nbformat": 4
 },
 "nbformat": 4,
 "nbformat_minor": 2
}
