{
 "cells": [
  {
   "cell_type": "code",
   "execution_count": 169,
   "metadata": {},
   "outputs": [],
   "source": [
    "import requests\n",
    "from bs4 import BeautifulSoup\n",
    "from Crypto.Cipher import AES\n",
    "from Crypto.Protocol.KDF import PBKDF2\n",
    "from Crypto.Util.Padding import pad, unpad\n",
    "from binascii import unhexlify\n",
    "import base64\n",
    "import json\n",
    "import urllib"
   ]
  },
  {
   "cell_type": "code",
   "execution_count": 170,
   "metadata": {},
   "outputs": [],
   "source": [
    "userid=\"satvikmishra2615@gmail.com\"\n",
    "password=\"Maharajji@66\""
   ]
  },
  {
   "cell_type": "code",
   "execution_count": 171,
   "metadata": {},
   "outputs": [],
   "source": [
    "with open(\"data_ie.json\", \"r\") as json_file:\n",
    "    inp = json.load(json_file)"
   ]
  },
  {
   "cell_type": "code",
   "execution_count": 172,
   "metadata": {},
   "outputs": [
    {
     "name": "stdout",
     "output_type": "stream",
     "text": [
      "CSRF Content: 957ff3db-3613-4301-8250-e504b1eed00b\n"
     ]
    }
   ],
   "source": [
    "url = \"https://www.dgft.gov.in/CP/\"\n",
    "response = requests.get(url)\n",
    "html_content = response.text\n",
    "soup = BeautifulSoup(html_content, 'html.parser')\n",
    "if csrf_value := soup.find('meta', attrs={'name': '_csrf'}):\n",
    "    csrf = csrf_value.get('content')\n",
    "    print(\"CSRF Content:\", csrf)\n",
    "else:\n",
    "    print(\"CSRF Meta tag not found.\")"
   ]
  },
  {
   "cell_type": "code",
   "execution_count": null,
   "metadata": {},
   "outputs": [],
   "source": []
  },
  {
   "cell_type": "code",
   "execution_count": 173,
   "metadata": {},
   "outputs": [
    {
     "data": {
      "text/plain": [
       "'AWSALB=Of5yVoOOGcE28F4sJDqq8oeXhgnnWMyaXNVgQ2NMakh/QNfJaUEI3Q6L/+Z0XsCw0L9x6bfeqtPr8RXBQSR6hayL7+Ty8ggipwgkPa5MaGJnXj59fg9u7SpIYghJ'"
      ]
     },
     "execution_count": 173,
     "metadata": {},
     "output_type": "execute_result"
    }
   ],
   "source": [
    "awsalb=response.headers['set-cookie'].split(\";\")[0]\n",
    "awsalb"
   ]
  },
  {
   "cell_type": "code",
   "execution_count": 174,
   "metadata": {},
   "outputs": [
    {
     "name": "stdout",
     "output_type": "stream",
     "text": [
      "POST request was successful.\n",
      "Response Content:\n",
      "10108883\n"
     ]
    }
   ],
   "source": [
    "import requests\n",
    "\n",
    "# Define the URL and headers\n",
    "url = f\"https://www.dgft.gov.in/CP/webHP?requestType=ApplicationRH&actionVal=visiterCount&screenId=90000802&_csrf={csrf}\"\n",
    "headers = {\n",
    "    \"Cookie\": f\"{awsalb}\",\n",
    "}\n",
    "\n",
    "# Send the POST request\n",
    "response = requests.post(url, headers=headers)\n",
    "\n",
    "# Check the response\n",
    "if response.status_code == 200:\n",
    "    print(\"POST request was successful.\")\n",
    "    print(\"Response Content:\")\n",
    "    print(response.text)\n",
    "else:\n",
    "    print(f\"POST request failed with status code {response.status_code}.\")\n"
   ]
  },
  {
   "cell_type": "code",
   "execution_count": 175,
   "metadata": {},
   "outputs": [],
   "source": [
    "awsalb=response.headers['set-cookie'].split(\";\")[0]\n",
    "jsessionId=response.headers['set-cookie'].split(\";\")[-3].split(', ')[1]"
   ]
  },
  {
   "cell_type": "code",
   "execution_count": 176,
   "metadata": {},
   "outputs": [
    {
     "name": "stdout",
     "output_type": "stream",
     "text": [
      "{'Cookie': 'JSESSIONID=584D397CD7294D1DAC6B77CD21C703FA;AWSALB=ST2uZtxYrnS4GLGq3N0QUPkzq6/WSCVtoe4DqURGROieUdM8tAi9lNRBupoYSWYjNVZCg4JD5WDSyjDwDJkPyoLN5LZ7lbCl0anhQH3qd3yUhOTHj4XGPCxDsPMp'}\n"
     ]
    }
   ],
   "source": [
    "url=f\"https://www.dgft.gov.in/CP/webHP?requestType=ApplicationRH&actionVal=visiterCount&screenId=90000802&_csrf={csrf}\"\n",
    "headers = {\"Cookie\": f\"{jsessionId};{awsalb}\"}\n",
    "response=requests.post(url,headers=headers)\n",
    "print(headers)"
   ]
  },
  {
   "cell_type": "code",
   "execution_count": 177,
   "metadata": {},
   "outputs": [
    {
     "data": {
      "text/plain": [
       "'AWSALB=24PosFKRLeAvUZFzxVwb6es8xM9wTE1tb/QnLgWeF53uPnjXe+ur8DNYbESl/hl4wxoVMtA7lqJKonE3jlkgKj9BIaWaf1YYR0wZozRpCy9f8wYXjEOk9lcCsoUP'"
      ]
     },
     "execution_count": 177,
     "metadata": {},
     "output_type": "execute_result"
    }
   ],
   "source": [
    "awsalb=response.headers['set-cookie'].split(\";\")[0]\n",
    "awsalb"
   ]
  },
  {
   "cell_type": "code",
   "execution_count": 178,
   "metadata": {},
   "outputs": [
    {
     "name": "stdout",
     "output_type": "stream",
     "text": [
      "{'Cookie': 'JSESSIONID=584D397CD7294D1DAC6B77CD21C703FA;AWSALB=24PosFKRLeAvUZFzxVwb6es8xM9wTE1tb/QnLgWeF53uPnjXe+ur8DNYbESl/hl4wxoVMtA7lqJKonE3jlkgKj9BIaWaf1YYR0wZozRpCy9f8wYXjEOk9lcCsoUP'}\n",
      "AWSALB=8cT4DtzmAUKTEsV/+zXUWYmr0tXjX7EbKSWocrDSXu2WM3UpJ7/QTDdJkgfEbzgISmIwkYVinUn+sd+bN8eIrAGQAwfg0Z0BwLFhE1Y7yfTO3cocIUk8fkSRAMgS\n",
      "Response status code: 200\n"
     ]
    }
   ],
   "source": [
    "url = f\"https://www.dgft.gov.in/CP/webHP?requestType=ApplicationRH&actionVal=loginModel&screenId=90000512&_csrf={csrf}\"\n",
    "headers = {\"Cookie\": f\"{jsessionId};{awsalb}\"}\n",
    "data = {\n",
    "    \"portal\": \"CAS\"\n",
    "}\n",
    "response = requests.post(url,headers=headers, data=data)\n",
    "print(headers)\n",
    "awsalb=response.headers['set-cookie'].split(\";\")[0]\n",
    "print(awsalb)\n",
    "print(\"Response status code:\", response.status_code)\n",
    "html = response.content\n",
    "soup = BeautifulSoup(html, \"html.parser\")\n",
    "desired_id_element = soup.find(id=\"temp_key\")\n",
    "salt = desired_id_element.get('value')"
   ]
  },
  {
   "cell_type": "code",
   "execution_count": 179,
   "metadata": {},
   "outputs": [
    {
     "name": "stdout",
     "output_type": "stream",
     "text": [
      "{'Cookie': 'JSESSIONID=584D397CD7294D1DAC6B77CD21C703FA;AWSALB=8cT4DtzmAUKTEsV/+zXUWYmr0tXjX7EbKSWocrDSXu2WM3UpJ7/QTDdJkgfEbzgISmIwkYVinUn+sd+bN8eIrAGQAwfg0Z0BwLFhE1Y7yfTO3cocIUk8fkSRAMgS'}\n",
      "AWSALB=3PBhvzRPAwNsper/c9HGy8bsNgnp3NIo6H+ZBavXMjOXtxVE+NZLOO2DJyp7reZa+lmEXp/RFapq8voDUzC3nsXErYjTwMBHeWBUvw9IxVlmuqnFP0zkSvZ6SmUX\n",
      "{'Cookie': 'JSESSIONID=584D397CD7294D1DAC6B77CD21C703FA;AWSALB=8cT4DtzmAUKTEsV/+zXUWYmr0tXjX7EbKSWocrDSXu2WM3UpJ7/QTDdJkgfEbzgISmIwkYVinUn+sd+bN8eIrAGQAwfg0Z0BwLFhE1Y7yfTO3cocIUk8fkSRAMgS'}\n",
      "AWSALB=0V/UXVJT8mjqTyvjx810MqEhnVx1nmqdmgfEtNrOzuHq1DfR0omNC7DG2XBYfB67nvrxIyeYPhN4RLCys10q/Q6zFyn9jyuHju2eB9QvDebuGaX5h4oKPk/whBT1\n"
     ]
    }
   ],
   "source": [
    "url = f\"https://www.dgft.gov.in/CP/webHP?requestType=ApplicationRH&actionVal=commonCaptcha&screenId=90000512&_csrf={csrf}\"\n",
    "headers = {\"Cookie\": f\"{jsessionId};{awsalb}\"}\n",
    "print(headers)\n",
    "data = {\n",
    "    \"portal\": \"CAS\"\n",
    "}\n",
    "response = requests.post(url,headers=headers,  data=data)\n",
    "awsalb1=response.headers['set-cookie'].split(\";\")[0]\n",
    "print(awsalb1)\n",
    "url = \"https://www.dgft.gov.in/CP/images/img/login-img.png\"\n",
    "headers = {\"Cookie\": f\"{jsessionId};{awsalb}\"}\n",
    "print(headers)\n",
    "response = requests.get(url,headers=headers)\n",
    "awsalb2=response.headers['set-cookie'].split(\";\")[0]\n",
    "print(awsalb2)"
   ]
  },
  {
   "cell_type": "code",
   "execution_count": 180,
   "metadata": {},
   "outputs": [
    {
     "name": "stdout",
     "output_type": "stream",
     "text": [
      "{'Cookie': 'JSESSIONID=584D397CD7294D1DAC6B77CD21C703FA;AWSALB=3PBhvzRPAwNsper/c9HGy8bsNgnp3NIo6H+ZBavXMjOXtxVE+NZLOO2DJyp7reZa+lmEXp/RFapq8voDUzC3nsXErYjTwMBHeWBUvw9IxVlmuqnFP0zkSvZ6SmUX'}\n",
      "CAPTCHA image saved as: captcha_image2.jpg\n"
     ]
    }
   ],
   "source": [
    "img_url =\"https://www.dgft.gov.in/CP/SimpleCaptcha?1692453334489\"\n",
    "headers = {\"Cookie\": f\"{jsessionId};{awsalb1}\"}\n",
    "print(headers)\n",
    "response = requests.get(img_url,headers=headers, stream=True)\n",
    "\n",
    "if response.status_code == 200:\n",
    "    image_path = \"captcha_image2.jpg\"\n",
    "    with open(image_path, 'wb') as image_file:\n",
    "        for chunk in response.iter_content(chunk_size=128):\n",
    "            image_file.write(chunk)\n",
    "    print(\"CAPTCHA image saved as:\", image_path)\n",
    "else:\n",
    "    print(\"Failed to fetch CAPTCHA image\")"
   ]
  },
  {
   "cell_type": "code",
   "execution_count": 181,
   "metadata": {},
   "outputs": [
    {
     "name": "stdout",
     "output_type": "stream",
     "text": [
      "Encrypted Password: OQypr6jz/afART7p4gDwzg==\n"
     ]
    }
   ],
   "source": [
    "class AesUtil:\n",
    "    def __init__(self, key_size, iteration_count):\n",
    "        self.key_size = key_size // 8\n",
    "        self.iteration_count = iteration_count\n",
    "\n",
    "    def generate_key(self, salt, pass_phrase):\n",
    "        return PBKDF2(\n",
    "            pass_phrase.encode(),\n",
    "            unhexlify(salt),\n",
    "            dkLen=self.key_size,\n",
    "            count=self.iteration_count,\n",
    "        )\n",
    "\n",
    "    def encrypt(self, salt, iv, pass_phrase, plain_text):\n",
    "        key = self.generate_key(salt, pass_phrase)\n",
    "        cipher = AES.new(key, AES.MODE_CBC, iv=unhexlify(iv))\n",
    "        padded_text = pad(plain_text.encode(), AES.block_size)\n",
    "        ciphertext = cipher.encrypt(padded_text)\n",
    "        return base64.b64encode(ciphertext).decode()\n",
    "\n",
    "    def decrypt(self, salt, iv, pass_phrase, cipher_text):\n",
    "        key = self.generate_key(salt, pass_phrase)\n",
    "        cipher = AES.new(key, AES.MODE_CBC, iv=unhexlify(iv))\n",
    "        ciphertext = base64.b64decode(cipher_text)\n",
    "        decrypted_data = unpad(cipher.decrypt(ciphertext), AES.block_size)\n",
    "        return decrypted_data.decode()\n",
    "\n",
    "def encrypt_password(plain_text, salt, iv, pass_phrase):\n",
    "    iteration_count = 1000\n",
    "    key_size = 128\n",
    "    aes_util = AesUtil(key_size, iteration_count)\n",
    "    return aes_util.encrypt(salt, iv, pass_phrase, plain_text)\n",
    "\n",
    "def decrypt_password(cipher_text, salt, iv, pass_phrase):\n",
    "    iteration_count = 1000\n",
    "    key_size = 128\n",
    "    aes_util = AesUtil(key_size, iteration_count)\n",
    "    return aes_util.decrypt(salt, iv, pass_phrase, cipher_text)\n",
    "plain_text = \"Maharajji@66\"\n",
    "iv = \"4d67fd8ee80132c6115e39880b08165d\"\n",
    "pass_phrase = \"tcs@1234\"\n",
    "encrypted_result = encrypt_password(plain_text, salt, iv, pass_phrase)\n",
    "print(\"Encrypted Password:\", encrypted_result)\n",
    "\n"
   ]
  },
  {
   "cell_type": "code",
   "execution_count": 182,
   "metadata": {},
   "outputs": [],
   "source": [
    "symbol = encrypted_result\n",
    "encoded_symbol = urllib.parse.quote(symbol)\n",
    "username = urllib.parse.quote(userid)"
   ]
  },
  {
   "cell_type": "code",
   "execution_count": 183,
   "metadata": {},
   "outputs": [],
   "source": [
    "captcha_text = 'Y2NEW'"
   ]
  },
  {
   "cell_type": "code",
   "execution_count": 184,
   "metadata": {},
   "outputs": [
    {
     "name": "stdout",
     "output_type": "stream",
     "text": [
      "{'Cookie': 'JSESSIONID=584D397CD7294D1DAC6B77CD21C703FA;AWSALB=0V/UXVJT8mjqTyvjx810MqEhnVx1nmqdmgfEtNrOzuHq1DfR0omNC7DG2XBYfB67nvrxIyeYPhN4RLCys10q/Q6zFyn9jyuHju2eB9QvDebuGaX5h4oKPk/whBT1'}\n",
      "AWSALB=cGLBODsqmhjAYyzcJdpAV/YbzvpX6E7yCO8jgDZ6Hy/ulmyHbQzO8nXzepRnscVQzPC9WXTAUs5N6H5b2F6V4DtDPBJako4PH7TO5h2iNJCureN/szWdxkdof42b\n"
     ]
    }
   ],
   "source": [
    "import requests\n",
    "url = f\"https://www.dgft.gov.in/CP/webHP?requestType=ApplicationRH&actionVal=checkCaptcha&queryType=Select&screenId=114&captcha_val={captcha_text}&_csrf={csrf}\"\n",
    "headers = {\"Cookie\": f\"{jsessionId};{awsalb2}\"}\n",
    "print(headers)\n",
    "response = requests.post(url,headers=headers)\n",
    "awsalb=response.headers['set-cookie'].split(\";\")[0]\n",
    "print(awsalb)\n"
   ]
  },
  {
   "cell_type": "code",
   "execution_count": 185,
   "metadata": {},
   "outputs": [
    {
     "data": {
      "text/plain": [
       "''"
      ]
     },
     "execution_count": 185,
     "metadata": {},
     "output_type": "execute_result"
    }
   ],
   "source": [
    "response.text"
   ]
  },
  {
   "cell_type": "code",
   "execution_count": 186,
   "metadata": {},
   "outputs": [
    {
     "name": "stdout",
     "output_type": "stream",
     "text": [
      "{'Cookie': 'JSESSIONID=584D397CD7294D1DAC6B77CD21C703FA;AWSALB=cGLBODsqmhjAYyzcJdpAV/YbzvpX6E7yCO8jgDZ6Hy/ulmyHbQzO8nXzepRnscVQzPC9WXTAUs5N6H5b2F6V4DtDPBJako4PH7TO5h2iNJCureN/szWdxkdof42b'}\n",
      "Response status code: 200\n"
     ]
    }
   ],
   "source": [
    "url = \"https://www.dgft.gov.in/CP/j_spring_security_check\"\n",
    "headers = {\"Cookie\": f\"{jsessionId};{awsalb}\"}\n",
    "print(headers)\n",
    "data = {\n",
    "    \"username\": userid,\n",
    "    \"password\": encrypted_result,\n",
    "    \"txt_Captcha\": captcha_text,\n",
    "    \"captcha_val\": \"\"\n",
    "}\n",
    "response = requests.post(url,headers=headers, data=data)\n",
    "\n",
    "print(\"Response status code:\", response.status_code)"
   ]
  },
  {
   "cell_type": "code",
   "execution_count": 187,
   "metadata": {},
   "outputs": [],
   "source": [
    "awsalb=response.headers['set-cookie'].split(\";\")[0]\n",
    "jsessionId=response.headers['set-cookie'].split(';')[-4].split(', ')[1]"
   ]
  },
  {
   "cell_type": "code",
   "execution_count": null,
   "metadata": {},
   "outputs": [],
   "source": []
  },
  {
   "cell_type": "code",
   "execution_count": 188,
   "metadata": {},
   "outputs": [
    {
     "name": "stdout",
     "output_type": "stream",
     "text": [
      "CSRF Content: d7df41ea-7d1f-478f-8695-258bda0f8ca5\n"
     ]
    }
   ],
   "source": [
    "html_content = response.text\n",
    "soup = BeautifulSoup(html_content, 'html.parser')\n",
    "if csrf_value := soup.find('meta', attrs={'name': '_csrf'}):\n",
    "    csrf = csrf_value.get('content')\n",
    "    print(\"CSRF Content:\", csrf)\n",
    "    awsalb_cookie = response.cookies.get('AWSALB')\n",
    "    Jsss = response.cookies.get('JSESSIONID')\n",
    "else:\n",
    "    print(\"CSRF Meta tag not found.\")"
   ]
  },
  {
   "cell_type": "code",
   "execution_count": 192,
   "metadata": {},
   "outputs": [],
   "source": [
    "url=\"https://www.dgft.gov.in/CP/web?requestType=ApplicationRH&actionVal=checkLogin\"\n",
    "headers={\n",
    "    \"Cookie\":f\"{jsessionId},{awsalb}\"\n",
    "}\n",
    "response=requests.get(url,headers=headers)"
   ]
  },
  {
   "cell_type": "code",
   "execution_count": 193,
   "metadata": {},
   "outputs": [
    {
     "name": "stdout",
     "output_type": "stream",
     "text": [
      "\n",
      "\n",
      "\n",
      "\n",
      "<html>\n",
      "\n",
      "<head>\n",
      "\n",
      "<meta http-equiv=\"Content-Type\" content=\"text/html; charset=utf-8\">\n",
      "<title>\n",
      "Error Page\n",
      "</title>\n",
      "<!-- <style type=\"text/css\">\n",
      " @import url(style/default/WebGUIStandards.css);\n",
      "</style>\n",
      "<style type=\"text/css\">\n",
      " @import url(style/default/TableBorders.css);\n",
      "</style> -->\n",
      "\n",
      "\n",
      "</head>\n",
      "\n",
      "<body >\n",
      "\n",
      "<script language=\"JavaScript\">\n",
      "function getCSRFContent() { \n",
      "\t   var metas = document.getElementsByTagName('meta'); \n",
      "\n",
      "\t   for (var i=0; i<metas.length; i++) { \n",
      "\t      if (metas[i].getAttribute(\"property\") == \"_csrf\") { \n",
      "\t         return metas[i].getAttribute(\"content\"); \n",
      "\t      } \n",
      "\t   } \n",
      "\n",
      "\t    return \"\";\n",
      "\t} \n",
      "</script>\n",
      "\n",
      "\n",
      "\n",
      "\n",
      "\n",
      "\n",
      "\n",
      "\n",
      "\n",
      "\n",
      "\n",
      "\n",
      "<script language=\"JavaScript\">\n",
      "function fn_Initiate()\n",
      "{\n",
      "        /*document.forms[0].action = \"web?requestType=PortalRH&actionVal=logout\";\n",
      "        document.forms[0].target =\"_parent\";\n",
      "        document.forms[0].method = \"post\";\n",
      "        document.forms[0].submit();*/\n",
      "        \n",
      "        //window.parent.navigate(\"./index.jsp\");\n",
      "        window.parent.location.replace(\"./index.jsp\");\n",
      "        if(window.parent.fireUnloadEvent)\n",
      "        {\n",
      "    \t\twindow.parent.fireUnloadEvent=false;\n",
      "        }\n",
      "\n",
      "}\n",
      "</script>\n",
      "\n",
      " \n",
      "\n",
      "<!-- Content -->\n",
      "\t\t<div class=\"container-fluid\">\n",
      "\t\t\t<div class=\"box box-solid box-primary boxDiv\" >\n",
      "\t\t\t<div class=\"content relative login-width\" style=\"padding-top:0px!important;\">\n",
      "\t\t\t\t<div class=\"login-fields\">\n",
      "\t\t\t\t\t<h1><i class=\"fa fa-exclamation-triangle text-red\" style=\"font-size: 110px;\"></i></h1>\n",
      "\t\t\t\t\t<div class=\"login-masthead\">\n",
      "\t\t\t\t\t\t<h2> Sorry, An error has occurred</h2>\n",
      "\t\t\t\t\t</div><br><br>\n",
      "\n",
      "\t\t\t\t\t<div><strong>We are unable to process your request due to an error</strong></div><br><br>\n",
      "\n",
      "\t\t\t\t\t<div><strong>Please try again later</strong></div><br><br>\n",
      "\t\t\t\t\t\n",
      "\t\t\t\t\t<div>\n",
      "\t\t\t\t\t\t<strong>Click \n",
      "\t\t\t\t\t\t\n",
      "\t\t\t\t\t\t\t\t<a href=\"http://www.dgft.gov.in/CP\"><span class=\"hiddenspanforlink\">Click </span>here <span class=\"hiddenspanforlink\"> to go to home page</span></a>\t\n",
      "\t\t\t\t\t\t\n",
      "\t\t\t\t\t\tto go to home page\n",
      "\t\t\t\t\t\t</strong>\n",
      "\t\t\t\t\t</div>\n",
      "\t\t\t\t\t\n",
      "\t\t\t\t</div> <!-- /login-fields -->\n",
      "\t\t\t</div> <!-- /content -->\n",
      "\t\t\t</div>\n",
      "\t\t</div> <!-- /container -->\n",
      "\n",
      "\n",
      "\n",
      "</body>\n",
      "</html>\n",
      "\n",
      "\n",
      "\n"
     ]
    }
   ],
   "source": [
    "print(response.text)"
   ]
  },
  {
   "cell_type": "code",
   "execution_count": 391,
   "metadata": {},
   "outputs": [
    {
     "name": "stdout",
     "output_type": "stream",
     "text": [
      "\n"
     ]
    }
   ],
   "source": [
    "url=f\"https://www.dgft.gov.in/CP/web?requestType=ApplicationRH&actionVal=Temp&screenId=114&menuCode=200925&auditUSFlag=true&_csrf={csrf}\"\n",
    "data={\n",
    "    \"portal\":\"CAS\"\n",
    "}\n",
    "response=requests.post(url,headers=headers,data=data)\n",
    "print(response.text)"
   ]
  },
  {
   "cell_type": "code",
   "execution_count": 398,
   "metadata": {},
   "outputs": [
    {
     "data": {
      "text/plain": [
       "{'Cookie': 'AWSALB=CLgfzjzfRttdhocLiZbudXBZmTtWcoDtMIoFCQfdC+13N92opnvxhcpbMhsxFtSF5h+o2EHfHjVtgxqXqUIS+QuDq0LLZ8+RJrObEW0YhhIiy0JQfNtuoGIILKfd;JSESSIONID=D51C7648E84344B777FC3133AF03FF08'}"
      ]
     },
     "execution_count": 398,
     "metadata": {},
     "output_type": "execute_result"
    }
   ],
   "source": [
    "headers"
   ]
  },
  {
   "cell_type": "code",
   "execution_count": 242,
   "metadata": {},
   "outputs": [],
   "source": [
    "url=f\"https://www.dgft.gov.in/CP/web?requestType=ApplicationRH&actionVal=getNotificationCount&screenId=90000658&_csrf={csrf}\"\n",
    "response=session.post(url)"
   ]
  },
  {
   "cell_type": "code",
   "execution_count": 395,
   "metadata": {},
   "outputs": [
    {
     "data": {
      "text/plain": [
       "'https://www.dgft.gov.in/CP/web?requestType=ApplicationRH&actionVal=Temp&screenId=114&menuCode=200925&auditUSFlag=true&_csrf=d6ed2fac-25c7-4a06-a311-d795900d529d'"
      ]
     },
     "execution_count": 395,
     "metadata": {},
     "output_type": "execute_result"
    }
   ],
   "source": [
    "url"
   ]
  },
  {
   "cell_type": "code",
   "execution_count": 243,
   "metadata": {},
   "outputs": [
    {
     "name": "stdout",
     "output_type": "stream",
     "text": [
      "\n",
      "\n",
      "\n",
      "\n",
      "<html>\n",
      "\n",
      "<head>\n",
      "\n",
      "<meta http-equiv=\"Content-Type\" content=\"text/html; charset=utf-8\">\n",
      "<title>\n",
      "Error Page\n",
      "</title>\n",
      "<!-- <style type=\"text/css\">\n",
      " @import url(style/default/WebGUIStandards.css);\n",
      "</style>\n",
      "<style type=\"text/css\">\n",
      " @import url(style/default/TableBorders.css);\n",
      "</style> -->\n",
      "\n",
      "\n",
      "</head>\n",
      "\n",
      "<body >\n",
      "\n",
      "<script language=\"JavaScript\">\n",
      "function getCSRFContent() { \n",
      "\t   var metas = document.getElementsByTagName('meta'); \n",
      "\n",
      "\t   for (var i=0; i<metas.length; i++) { \n",
      "\t      if (metas[i].getAttribute(\"property\") == \"_csrf\") { \n",
      "\t         return metas[i].getAttribute(\"content\"); \n",
      "\t      } \n",
      "\t   } \n",
      "\n",
      "\t    return \"\";\n",
      "\t} \n",
      "</script>\n",
      "\n",
      "\n",
      "\n",
      "\n",
      "\n",
      "\n",
      "\n",
      "\n",
      "\n",
      "\n",
      "\n",
      "\n",
      "<script language=\"JavaScript\">\n",
      "function fn_Initiate()\n",
      "{\n",
      "        /*document.forms[0].action = \"web?requestType=PortalRH&actionVal=logout\";\n",
      "        document.forms[0].target =\"_parent\";\n",
      "        document.forms[0].method = \"post\";\n",
      "        document.forms[0].submit();*/\n",
      "        \n",
      "        //window.parent.navigate(\"./index.jsp\");\n",
      "        window.parent.location.replace(\"./index.jsp\");\n",
      "        if(window.parent.fireUnloadEvent)\n",
      "        {\n",
      "    \t\twindow.parent.fireUnloadEvent=false;\n",
      "        }\n",
      "\n",
      "}\n",
      "</script>\n",
      "\n",
      " \n",
      "\n",
      "<!-- Content -->\n",
      "\t\t<div class=\"container-fluid\">\n",
      "\t\t<div class=\"box box-solid box-primary boxDiv\" >\n",
      "\t\t\t<div class=\"content relative login-width\" style=\"padding-top:0px!important;\">\n",
      "\t\t\t\t<div class=\"login-fields\" align=\"center\">\n",
      "\t\t\t\t\t<h1><i class=\"fa fa-exclamation-triangle text-red\" style=\"font-size: 110px;\"></i></h1>\n",
      "\t\t\t\t\t<div class=\"login-masthead\">\n",
      "\t\t\t\t\t\t<h2>Sorry! An error has occured</h2>\n",
      "\t\t\t\t\t</div><br><br>\n",
      "\n",
      "\t\t\t\t\t<div><strong>We are unable to process your request due to some error</strong></div><br><br>\n",
      "\t\t\t\t\t\n",
      "\t\t\t\t\t<div><strong>Please try again later</strong></div><br><br>\n",
      "\t\t\t\t\t\n",
      "\t\t\t\t\t<div>\n",
      "\t\t\t\t\t\t<strong>Click \n",
      "\t\t\t\t\t\t\n",
      "\t\t\t\t\t\t\t\t<a href=\"http://www.dgft.gov.in/CP\">here </a>\t\n",
      "\t\t\t\t\t\t\n",
      "\t\t\t\t\t\tto go to home page\n",
      "\t\t\t\t\t\t</strong>\n",
      "\t\t\t\t\t</div>\n",
      "\t\t\t\t\t\n",
      "\t\t\t\t</div> <!-- /login-fields -->\n",
      "\t\t\t</div> <!-- /content -->\n",
      "\t\t\t</div>\n",
      "\t\t</div> <!-- /container -->\n",
      "\n",
      "\n",
      "\n",
      "</body>\n",
      "</html>\n",
      "\n",
      "\n",
      "\n"
     ]
    }
   ],
   "source": [
    "print(response.text)"
   ]
  },
  {
   "cell_type": "code",
   "execution_count": 217,
   "metadata": {},
   "outputs": [],
   "source": [
    "url=f\"https://www.dgft.gov.in/CP/web?requestType=ApplicationRH&screenId=90000802&actionVal=IECWidget&_csrf={csrf}\"\n",
    "response=session.post(url)"
   ]
  },
  {
   "cell_type": "code",
   "execution_count": 179,
   "metadata": {},
   "outputs": [
    {
     "name": "stdout",
     "output_type": "stream",
     "text": [
      "POST request successful\n",
      "6EEE4CD3C3CB91F486A6915E24EE57E7\n"
     ]
    }
   ],
   "source": [
    "url = f\"https://www.dgft.gov.in/CP/web?requestType=ApplicationRH&menuCode=50001&actionVal=loadpage&screenId=50001&appId=201000001&_csrf={csrf}\"\n",
    "data = {\n",
    "    \"portal\": \"CAS\"\n",
    "}\n",
    "headers = {\n",
    "    \"Host\": \"www.dgft.gov.in\",\n",
    "        \"Set-Cookie\": cookie,\n",
    "         \"Origin\": \"https://www.dgft.gov.in\",\n",
    "         }\n",
    "response = session.post(url, data=data,headers=headers )\n",
    "if response.status_code == 200:\n",
    "    print(\"POST request successful\")\n",
    "    #code to flip the cookie\n",
    "    awsalb_cookie = response.cookies.get('AWSALB')\n",
    "    Jsss = response.cookies.get('JSESSIONID')\n",
    "    print(Jsss)\n",
    "else:\n",
    "    print(f\"POST request failed with status code: {response.status_code}\")\n",
    "# print(response.text)"
   ]
  },
  {
   "cell_type": "code",
   "execution_count": 180,
   "metadata": {},
   "outputs": [
    {
     "name": "stdout",
     "output_type": "stream",
     "text": [
      "POST request successful\n",
      "{\"date\":null,\"iecStatusVal\":null,\"city\":null,\"preferredActivity\":null,\"mrgFileprogressCheck\":null,\"dateOfIssuance\":null,\"directorDetails\":null,\"iecMstId\":null,\"modificationCheck\":null,\"natureOfConcern\":null,\"s3Path\":null,\"fileNo\":null,\"isPanExist\":0.0,\"appId\":null,\"state\":null,\"place\":null,\"pan\":null,\"cibicStatusVal\":null,\"iecNo\":null,\"orderNo\":null,\"address2\":null,\"address1\":null,\"mrgMstcheck\":null,\"iecNumericStatus\":false,\"panNumber\":null,\"cibicStatus\":null,\"panInNList\":false,\"district\":null,\"pinCode\":null,\"name\":null,\"iecStatus\":null,\"lstDate\":null,\"strDate\":null,\"branchDetails\":null,\"crtDt\":null,\"fileId\":null,\"status\":null}\n"
     ]
    }
   ],
   "source": [
    "url = f\"https://www.dgft.gov.in/CP/web?requestType=ApplicationRH&actionVal=isPanExist&screenId=50001&appId=2&_csrf={csrf}\"\n",
    "payload = {\n",
    "    \"panNumber\": inp['iecRequestGeneralDetailsDTO']['panNumber']\n",
    "}\n",
    "headers = {\n",
    "    \"Host\": \"www.dgft.gov.in\",\n",
    "        \"Set-Cookie\": cookie,\n",
    "         \"Origin\": \"https://www.dgft.gov.in\",\n",
    "         }\n",
    "response = session.post(url, data=payload, headers=headers)\n",
    "if response.status_code == 200:\n",
    "    print(\"POST request successful\")\n",
    "    \n",
    "    awsalb_cookie = response.cookies.get('AWSALB')\n",
    "    Jsss = response.cookies.get('JSESSIONID')\n",
    "    \n",
    "    print(response.text)\n",
    "else:\n",
    "    print(f\"POST request failed with status code: {response.status_code}\")\n"
   ]
  },
  {
   "cell_type": "code",
   "execution_count": 198,
   "metadata": {},
   "outputs": [
    {
     "name": "stdout",
     "output_type": "stream",
     "text": [
      "PDF Size: 0.0803204 MB\n"
     ]
    }
   ],
   "source": [
    "import PyPDF2\n",
    "import os\n",
    "\n",
    "def pdf_to_bytes(file_path):\n",
    "    with open(file_path, 'rb') as pdf_file:\n",
    "        pdf_bytes = pdf_file.read()\n",
    "    return pdf_bytes\n",
    "\n",
    "def bytes_to_megabytes(byte_size):\n",
    "    megabytes = byte_size / (1024 * 1024)\n",
    "    return round(megabytes, 7)\n",
    "\n",
    "# Replace 'your_pdf_file.pdf' with the path to your PDF file\n",
    "pdf_file_path = 'Electricity.pdf'\n",
    "\n",
    "if os.path.exists(pdf_file_path):\n",
    "    pdf_bytes = pdf_to_bytes(pdf_file_path)\n",
    "    pdf_size_in_megabytes = bytes_to_megabytes(len(pdf_bytes))\n",
    "    print(f\"PDF Size: {pdf_size_in_megabytes} MB\")\n",
    "else:\n",
    "    print(\"PDF file not found.\")\n"
   ]
  },
  {
   "cell_type": "code",
   "execution_count": null,
   "metadata": {},
   "outputs": [],
   "source": [
    "response0 = requests.request(\"POST\", f\"https://www.dgft.gov.in/CP/Upload?attachmentNameHidden=generalAttach&customFunction=&_csrf={csrf}&attachment_type=undefined&_csrf={csrf}\", headers=headers, data=payload)"
   ]
  }
 ],
 "metadata": {
  "interpreter": {
   "hash": "916dbcbb3f70747c44a77c7bcd40155683ae19c65e1c03b4aa3499c5328201f1"
  },
  "kernelspec": {
   "display_name": "Python 3.10.12 64-bit",
   "language": "python",
   "name": "python3"
  },
  "language_info": {
   "codemirror_mode": {
    "name": "ipython",
    "version": 3
   },
   "file_extension": ".py",
   "mimetype": "text/x-python",
   "name": "python",
   "nbconvert_exporter": "python",
   "pygments_lexer": "ipython3",
   "version": "3.10.12"
  },
  "orig_nbformat": 4
 },
 "nbformat": 4,
 "nbformat_minor": 2
}
